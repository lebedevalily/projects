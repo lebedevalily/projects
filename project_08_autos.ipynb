{
 "cells": [
  {
   "cell_type": "markdown",
   "metadata": {},
   "source": [
    "# Определение стоимости автомобилей"
   ]
  },
  {
   "cell_type": "markdown",
   "metadata": {},
   "source": [
    "Сервис по продаже автомобилей с пробегом разрабатывает приложение для привлечения новых клиентов. В нём можно быстро узнать рыночную стоимость своего автомобиля. Для проведения исследования предоставлены исторические данные: технические характеристики, комплектации и цены автомобилей. Необходимо построить модель для определения стоимости. \n",
    "\n",
    "Заказчику важны:\n",
    "\n",
    "- качество предсказания;\n",
    "- скорость предсказания;\n",
    "- время обучения."
   ]
  },
  {
   "cell_type": "markdown",
   "metadata": {},
   "source": [
    "Признаки:\n",
    "- DateCrawled — дата скачивания анкеты из базы\n",
    "- VehicleType — тип автомобильного кузова\n",
    "- RegistrationYear — год регистрации автомобиля\n",
    "- Gearbox — тип коробки передач\n",
    "- Power — мощность (л. с.)\n",
    "- Model — модель автомобиля\n",
    "- Kilometer — пробег (км)\n",
    "- RegistrationMonth — месяц регистрации автомобиля\n",
    "- FuelType — тип топлива\n",
    "- Brand — марка автомобиля\n",
    "- NotRepaired — была машина в ремонте или нет\n",
    "- DateCreated — дата создания анкеты\n",
    "- NumberOfPictures — количество фотографий автомобиля\n",
    "- PostalCode — почтовый индекс владельца анкеты (пользователя)\n",
    "- LastSeen — дата последней активности пользователя\n",
    "\n",
    "\n",
    "Целевой признак:\n",
    "- Price — цена (евро)"
   ]
  },
  {
   "cell_type": "markdown",
   "metadata": {},
   "source": [
    "## Подготовка данных"
   ]
  },
  {
   "cell_type": "markdown",
   "metadata": {},
   "source": [
    "Импортируем необходимые библиотеки и инструменты для обработки данных."
   ]
  },
  {
   "cell_type": "code",
   "execution_count": 1,
   "metadata": {},
   "outputs": [],
   "source": [
    "import pandas as pd\n",
    "import numpy as np\n",
    "import matplotlib.pyplot as plt\n",
    "\n",
    "from lightgbm import LGBMRegressor\n",
    "\n",
    "from catboost import CatBoostRegressor\n",
    "\n",
    "from sklearn.linear_model import LinearRegression\n",
    "from sklearn.tree import DecisionTreeRegressor\n",
    "from sklearn.ensemble import RandomForestRegressor\n",
    "from sklearn.model_selection import GridSearchCV, train_test_split, cross_val_score\n",
    "from sklearn.metrics import mean_squared_error, mean_absolute_error, r2_score\n",
    "from sklearn.preprocessing import StandardScaler, OneHotEncoder, OrdinalEncoder"
   ]
  },
  {
   "cell_type": "markdown",
   "metadata": {},
   "source": [
    "Сохраним датасет в переменную df."
   ]
  },
  {
   "cell_type": "code",
   "execution_count": 2,
   "metadata": {},
   "outputs": [],
   "source": [
    "df = pd.read_csv('autos.csv')"
   ]
  },
  {
   "cell_type": "markdown",
   "metadata": {},
   "source": [
    "Рассмотрим первые 5 строк таблицы."
   ]
  },
  {
   "cell_type": "code",
   "execution_count": 3,
   "metadata": {
    "scrolled": true
   },
   "outputs": [
    {
     "data": {
      "text/html": [
       "<div>\n",
       "<style scoped>\n",
       "    .dataframe tbody tr th:only-of-type {\n",
       "        vertical-align: middle;\n",
       "    }\n",
       "\n",
       "    .dataframe tbody tr th {\n",
       "        vertical-align: top;\n",
       "    }\n",
       "\n",
       "    .dataframe thead th {\n",
       "        text-align: right;\n",
       "    }\n",
       "</style>\n",
       "<table border=\"1\" class=\"dataframe\">\n",
       "  <thead>\n",
       "    <tr style=\"text-align: right;\">\n",
       "      <th></th>\n",
       "      <th>DateCrawled</th>\n",
       "      <th>Price</th>\n",
       "      <th>VehicleType</th>\n",
       "      <th>RegistrationYear</th>\n",
       "      <th>Gearbox</th>\n",
       "      <th>Power</th>\n",
       "      <th>Model</th>\n",
       "      <th>Kilometer</th>\n",
       "      <th>RegistrationMonth</th>\n",
       "      <th>FuelType</th>\n",
       "      <th>Brand</th>\n",
       "      <th>Repaired</th>\n",
       "      <th>DateCreated</th>\n",
       "      <th>NumberOfPictures</th>\n",
       "      <th>PostalCode</th>\n",
       "      <th>LastSeen</th>\n",
       "    </tr>\n",
       "  </thead>\n",
       "  <tbody>\n",
       "    <tr>\n",
       "      <th>0</th>\n",
       "      <td>2016-03-24 11:52:17</td>\n",
       "      <td>480</td>\n",
       "      <td>NaN</td>\n",
       "      <td>1993</td>\n",
       "      <td>manual</td>\n",
       "      <td>0</td>\n",
       "      <td>golf</td>\n",
       "      <td>150000</td>\n",
       "      <td>0</td>\n",
       "      <td>petrol</td>\n",
       "      <td>volkswagen</td>\n",
       "      <td>NaN</td>\n",
       "      <td>2016-03-24 00:00:00</td>\n",
       "      <td>0</td>\n",
       "      <td>70435</td>\n",
       "      <td>2016-04-07 03:16:57</td>\n",
       "    </tr>\n",
       "    <tr>\n",
       "      <th>1</th>\n",
       "      <td>2016-03-24 10:58:45</td>\n",
       "      <td>18300</td>\n",
       "      <td>coupe</td>\n",
       "      <td>2011</td>\n",
       "      <td>manual</td>\n",
       "      <td>190</td>\n",
       "      <td>NaN</td>\n",
       "      <td>125000</td>\n",
       "      <td>5</td>\n",
       "      <td>gasoline</td>\n",
       "      <td>audi</td>\n",
       "      <td>yes</td>\n",
       "      <td>2016-03-24 00:00:00</td>\n",
       "      <td>0</td>\n",
       "      <td>66954</td>\n",
       "      <td>2016-04-07 01:46:50</td>\n",
       "    </tr>\n",
       "    <tr>\n",
       "      <th>2</th>\n",
       "      <td>2016-03-14 12:52:21</td>\n",
       "      <td>9800</td>\n",
       "      <td>suv</td>\n",
       "      <td>2004</td>\n",
       "      <td>auto</td>\n",
       "      <td>163</td>\n",
       "      <td>grand</td>\n",
       "      <td>125000</td>\n",
       "      <td>8</td>\n",
       "      <td>gasoline</td>\n",
       "      <td>jeep</td>\n",
       "      <td>NaN</td>\n",
       "      <td>2016-03-14 00:00:00</td>\n",
       "      <td>0</td>\n",
       "      <td>90480</td>\n",
       "      <td>2016-04-05 12:47:46</td>\n",
       "    </tr>\n",
       "    <tr>\n",
       "      <th>3</th>\n",
       "      <td>2016-03-17 16:54:04</td>\n",
       "      <td>1500</td>\n",
       "      <td>small</td>\n",
       "      <td>2001</td>\n",
       "      <td>manual</td>\n",
       "      <td>75</td>\n",
       "      <td>golf</td>\n",
       "      <td>150000</td>\n",
       "      <td>6</td>\n",
       "      <td>petrol</td>\n",
       "      <td>volkswagen</td>\n",
       "      <td>no</td>\n",
       "      <td>2016-03-17 00:00:00</td>\n",
       "      <td>0</td>\n",
       "      <td>91074</td>\n",
       "      <td>2016-03-17 17:40:17</td>\n",
       "    </tr>\n",
       "    <tr>\n",
       "      <th>4</th>\n",
       "      <td>2016-03-31 17:25:20</td>\n",
       "      <td>3600</td>\n",
       "      <td>small</td>\n",
       "      <td>2008</td>\n",
       "      <td>manual</td>\n",
       "      <td>69</td>\n",
       "      <td>fabia</td>\n",
       "      <td>90000</td>\n",
       "      <td>7</td>\n",
       "      <td>gasoline</td>\n",
       "      <td>skoda</td>\n",
       "      <td>no</td>\n",
       "      <td>2016-03-31 00:00:00</td>\n",
       "      <td>0</td>\n",
       "      <td>60437</td>\n",
       "      <td>2016-04-06 10:17:21</td>\n",
       "    </tr>\n",
       "  </tbody>\n",
       "</table>\n",
       "</div>"
      ],
      "text/plain": [
       "           DateCrawled  Price VehicleType  RegistrationYear Gearbox  Power  \\\n",
       "0  2016-03-24 11:52:17    480         NaN              1993  manual      0   \n",
       "1  2016-03-24 10:58:45  18300       coupe              2011  manual    190   \n",
       "2  2016-03-14 12:52:21   9800         suv              2004    auto    163   \n",
       "3  2016-03-17 16:54:04   1500       small              2001  manual     75   \n",
       "4  2016-03-31 17:25:20   3600       small              2008  manual     69   \n",
       "\n",
       "   Model  Kilometer  RegistrationMonth  FuelType       Brand Repaired  \\\n",
       "0   golf     150000                  0    petrol  volkswagen      NaN   \n",
       "1    NaN     125000                  5  gasoline        audi      yes   \n",
       "2  grand     125000                  8  gasoline        jeep      NaN   \n",
       "3   golf     150000                  6    petrol  volkswagen       no   \n",
       "4  fabia      90000                  7  gasoline       skoda       no   \n",
       "\n",
       "           DateCreated  NumberOfPictures  PostalCode             LastSeen  \n",
       "0  2016-03-24 00:00:00                 0       70435  2016-04-07 03:16:57  \n",
       "1  2016-03-24 00:00:00                 0       66954  2016-04-07 01:46:50  \n",
       "2  2016-03-14 00:00:00                 0       90480  2016-04-05 12:47:46  \n",
       "3  2016-03-17 00:00:00                 0       91074  2016-03-17 17:40:17  \n",
       "4  2016-03-31 00:00:00                 0       60437  2016-04-06 10:17:21  "
      ]
     },
     "execution_count": 3,
     "metadata": {},
     "output_type": "execute_result"
    }
   ],
   "source": [
    "df.head()"
   ]
  },
  {
   "cell_type": "markdown",
   "metadata": {},
   "source": [
    "Также рассмотрим основную информацию о таблице."
   ]
  },
  {
   "cell_type": "code",
   "execution_count": 4,
   "metadata": {},
   "outputs": [
    {
     "name": "stdout",
     "output_type": "stream",
     "text": [
      "<class 'pandas.core.frame.DataFrame'>\n",
      "RangeIndex: 354369 entries, 0 to 354368\n",
      "Data columns (total 16 columns):\n",
      " #   Column             Non-Null Count   Dtype \n",
      "---  ------             --------------   ----- \n",
      " 0   DateCrawled        354369 non-null  object\n",
      " 1   Price              354369 non-null  int64 \n",
      " 2   VehicleType        316879 non-null  object\n",
      " 3   RegistrationYear   354369 non-null  int64 \n",
      " 4   Gearbox            334536 non-null  object\n",
      " 5   Power              354369 non-null  int64 \n",
      " 6   Model              334664 non-null  object\n",
      " 7   Kilometer          354369 non-null  int64 \n",
      " 8   RegistrationMonth  354369 non-null  int64 \n",
      " 9   FuelType           321474 non-null  object\n",
      " 10  Brand              354369 non-null  object\n",
      " 11  Repaired           283215 non-null  object\n",
      " 12  DateCreated        354369 non-null  object\n",
      " 13  NumberOfPictures   354369 non-null  int64 \n",
      " 14  PostalCode         354369 non-null  int64 \n",
      " 15  LastSeen           354369 non-null  object\n",
      "dtypes: int64(7), object(9)\n",
      "memory usage: 43.3+ MB\n"
     ]
    }
   ],
   "source": [
    "df.info()"
   ]
  },
  {
   "cell_type": "markdown",
   "metadata": {},
   "source": [
    "Видим, что в данных есть пропуски и что столбцы с датами (DateCrawled, DateCreated, LastSeen) имеют некорректный тип данных (object вместо datetime)."
   ]
  },
  {
   "cell_type": "markdown",
   "metadata": {},
   "source": [
    "Посчитаем количество полных дубликатов."
   ]
  },
  {
   "cell_type": "code",
   "execution_count": 5,
   "metadata": {},
   "outputs": [
    {
     "data": {
      "text/plain": [
       "4"
      ]
     },
     "execution_count": 5,
     "metadata": {},
     "output_type": "execute_result"
    }
   ],
   "source": [
    "df.duplicated().sum()"
   ]
  },
  {
   "cell_type": "markdown",
   "metadata": {},
   "source": [
    "Всего 4 полных дубликата, удалим данные строки."
   ]
  },
  {
   "cell_type": "code",
   "execution_count": 6,
   "metadata": {},
   "outputs": [],
   "source": [
    "df = df.drop_duplicates()"
   ]
  },
  {
   "cell_type": "markdown",
   "metadata": {},
   "source": [
    "Также взглянем на корреляцию между числовыми столбцами."
   ]
  },
  {
   "cell_type": "code",
   "execution_count": 7,
   "metadata": {
    "scrolled": true
   },
   "outputs": [
    {
     "data": {
      "text/html": [
       "<div>\n",
       "<style scoped>\n",
       "    .dataframe tbody tr th:only-of-type {\n",
       "        vertical-align: middle;\n",
       "    }\n",
       "\n",
       "    .dataframe tbody tr th {\n",
       "        vertical-align: top;\n",
       "    }\n",
       "\n",
       "    .dataframe thead th {\n",
       "        text-align: right;\n",
       "    }\n",
       "</style>\n",
       "<table border=\"1\" class=\"dataframe\">\n",
       "  <thead>\n",
       "    <tr style=\"text-align: right;\">\n",
       "      <th></th>\n",
       "      <th>Price</th>\n",
       "      <th>RegistrationYear</th>\n",
       "      <th>Power</th>\n",
       "      <th>Kilometer</th>\n",
       "      <th>RegistrationMonth</th>\n",
       "      <th>NumberOfPictures</th>\n",
       "      <th>PostalCode</th>\n",
       "    </tr>\n",
       "  </thead>\n",
       "  <tbody>\n",
       "    <tr>\n",
       "      <th>Price</th>\n",
       "      <td>1.000000</td>\n",
       "      <td>0.026916</td>\n",
       "      <td>0.158872</td>\n",
       "      <td>-0.333207</td>\n",
       "      <td>0.110580</td>\n",
       "      <td>NaN</td>\n",
       "      <td>0.076058</td>\n",
       "    </tr>\n",
       "    <tr>\n",
       "      <th>RegistrationYear</th>\n",
       "      <td>0.026916</td>\n",
       "      <td>1.000000</td>\n",
       "      <td>-0.000828</td>\n",
       "      <td>-0.053448</td>\n",
       "      <td>-0.011619</td>\n",
       "      <td>NaN</td>\n",
       "      <td>-0.003459</td>\n",
       "    </tr>\n",
       "    <tr>\n",
       "      <th>Power</th>\n",
       "      <td>0.158872</td>\n",
       "      <td>-0.000828</td>\n",
       "      <td>1.000000</td>\n",
       "      <td>0.024006</td>\n",
       "      <td>0.043379</td>\n",
       "      <td>NaN</td>\n",
       "      <td>0.021662</td>\n",
       "    </tr>\n",
       "    <tr>\n",
       "      <th>Kilometer</th>\n",
       "      <td>-0.333207</td>\n",
       "      <td>-0.053448</td>\n",
       "      <td>0.024006</td>\n",
       "      <td>1.000000</td>\n",
       "      <td>0.009575</td>\n",
       "      <td>NaN</td>\n",
       "      <td>-0.007685</td>\n",
       "    </tr>\n",
       "    <tr>\n",
       "      <th>RegistrationMonth</th>\n",
       "      <td>0.110580</td>\n",
       "      <td>-0.011619</td>\n",
       "      <td>0.043379</td>\n",
       "      <td>0.009575</td>\n",
       "      <td>1.000000</td>\n",
       "      <td>NaN</td>\n",
       "      <td>0.013996</td>\n",
       "    </tr>\n",
       "    <tr>\n",
       "      <th>NumberOfPictures</th>\n",
       "      <td>NaN</td>\n",
       "      <td>NaN</td>\n",
       "      <td>NaN</td>\n",
       "      <td>NaN</td>\n",
       "      <td>NaN</td>\n",
       "      <td>NaN</td>\n",
       "      <td>NaN</td>\n",
       "    </tr>\n",
       "    <tr>\n",
       "      <th>PostalCode</th>\n",
       "      <td>0.076058</td>\n",
       "      <td>-0.003459</td>\n",
       "      <td>0.021662</td>\n",
       "      <td>-0.007685</td>\n",
       "      <td>0.013996</td>\n",
       "      <td>NaN</td>\n",
       "      <td>1.000000</td>\n",
       "    </tr>\n",
       "  </tbody>\n",
       "</table>\n",
       "</div>"
      ],
      "text/plain": [
       "                      Price  RegistrationYear     Power  Kilometer  \\\n",
       "Price              1.000000          0.026916  0.158872  -0.333207   \n",
       "RegistrationYear   0.026916          1.000000 -0.000828  -0.053448   \n",
       "Power              0.158872         -0.000828  1.000000   0.024006   \n",
       "Kilometer         -0.333207         -0.053448  0.024006   1.000000   \n",
       "RegistrationMonth  0.110580         -0.011619  0.043379   0.009575   \n",
       "NumberOfPictures        NaN               NaN       NaN        NaN   \n",
       "PostalCode         0.076058         -0.003459  0.021662  -0.007685   \n",
       "\n",
       "                   RegistrationMonth  NumberOfPictures  PostalCode  \n",
       "Price                       0.110580               NaN    0.076058  \n",
       "RegistrationYear           -0.011619               NaN   -0.003459  \n",
       "Power                       0.043379               NaN    0.021662  \n",
       "Kilometer                   0.009575               NaN   -0.007685  \n",
       "RegistrationMonth           1.000000               NaN    0.013996  \n",
       "NumberOfPictures                 NaN               NaN         NaN  \n",
       "PostalCode                  0.013996               NaN    1.000000  "
      ]
     },
     "execution_count": 7,
     "metadata": {},
     "output_type": "execute_result"
    }
   ],
   "source": [
    "df.corr()"
   ]
  },
  {
   "cell_type": "markdown",
   "metadata": {},
   "source": [
    "Присутствует слабая обратная линейная зависимость между пробегом и ценой. Остальные данные не коррелируют между собой. Также странные результат получился по столбцу NumberOfPictures, все коэффициенты корреляции равны NaN. Взглянем на значения данного столбца."
   ]
  },
  {
   "cell_type": "code",
   "execution_count": 8,
   "metadata": {},
   "outputs": [
    {
     "data": {
      "text/plain": [
       "array([0])"
      ]
     },
     "execution_count": 8,
     "metadata": {},
     "output_type": "execute_result"
    }
   ],
   "source": [
    "df['NumberOfPictures'].unique()"
   ]
  },
  {
   "cell_type": "markdown",
   "metadata": {},
   "source": [
    "Во всех объявлениях указано количество изображений равное 0. Вполне вероятно, что это какая-то ошибка при внесении или сохранении данных. С таким содержимым данный столбец для нас неинформативен и его можно удалить."
   ]
  },
  {
   "cell_type": "markdown",
   "metadata": {},
   "source": [
    "Также удалим следующие неинформативные признаки (т.к. от них не зависит стоимость автомобиля):\n",
    "- DateCrawled — дата скачивания анкеты из базы\n",
    "- DateCreated — дата создания анкеты\n",
    "- PostalCode — почтовый индекс владельца анкеты (пользователя)\n",
    "- LastSeen — дата последней активности пользователя"
   ]
  },
  {
   "cell_type": "markdown",
   "metadata": {},
   "source": [
    "Перед удалением столбцов посмотрим последнюю дату создания анкеты и дату скачиваия анкеты из базы."
   ]
  },
  {
   "cell_type": "code",
   "execution_count": 9,
   "metadata": {},
   "outputs": [
    {
     "name": "stdout",
     "output_type": "stream",
     "text": [
      "90713    2016-04-07 14:36:58\n",
      "Name: DateCrawled, dtype: object \n",
      "\n",
      "335002    2016-04-07 00:00:00\n",
      "Name: DateCreated, dtype: object\n"
     ]
    }
   ],
   "source": [
    "print(df['DateCrawled'].sort_values(ascending=False).head(1), '\\n')\n",
    "print(df['DateCreated'].sort_values(ascending=False).head(1))"
   ]
  },
  {
   "cell_type": "markdown",
   "metadata": {},
   "source": [
    "Перед нами данные до 2016 года. Теперь можно удалить указанные выше столбцы."
   ]
  },
  {
   "cell_type": "code",
   "execution_count": 10,
   "metadata": {},
   "outputs": [],
   "source": [
    "df = df.drop(['DateCrawled', 'DateCreated', 'NumberOfPictures', 'PostalCode', 'LastSeen'], axis=1)"
   ]
  },
  {
   "cell_type": "markdown",
   "metadata": {},
   "source": [
    "Снова посчитаем дубликаты после удаления части столбцов."
   ]
  },
  {
   "cell_type": "code",
   "execution_count": 11,
   "metadata": {},
   "outputs": [
    {
     "data": {
      "text/plain": [
       "27539"
      ]
     },
     "execution_count": 11,
     "metadata": {},
     "output_type": "execute_result"
    }
   ],
   "source": [
    "df.duplicated().sum()"
   ]
  },
  {
   "cell_type": "markdown",
   "metadata": {},
   "source": [
    "Теперь количество дубликатов значительно выше. Абсолютно одинаковые строки не понадобятся для обучения, поэтому удалим и их."
   ]
  },
  {
   "cell_type": "code",
   "execution_count": 12,
   "metadata": {},
   "outputs": [],
   "source": [
    "df = df.drop_duplicates()"
   ]
  },
  {
   "cell_type": "markdown",
   "metadata": {},
   "source": [
    "Приведем названия столбцов к змеиному регистру."
   ]
  },
  {
   "cell_type": "code",
   "execution_count": 13,
   "metadata": {},
   "outputs": [],
   "source": [
    "df = df.rename(columns={\n",
    "    'VehicleType': 'Vehicle_Type',\n",
    "    'RegistrationYear': 'Registration_Year',\n",
    "    'RegistrationMonth': 'Registration_Month',\n",
    "    'FuelType': 'Fuel_Type'\n",
    "})\n",
    "\n",
    "df.columns = df.columns.str.lower()"
   ]
  },
  {
   "cell_type": "code",
   "execution_count": 14,
   "metadata": {},
   "outputs": [
    {
     "data": {
      "text/plain": [
       "Index(['price', 'vehicle_type', 'registration_year', 'gearbox', 'power',\n",
       "       'model', 'kilometer', 'registration_month', 'fuel_type', 'brand',\n",
       "       'repaired'],\n",
       "      dtype='object')"
      ]
     },
     "execution_count": 14,
     "metadata": {},
     "output_type": "execute_result"
    }
   ],
   "source": [
    "df.columns"
   ]
  },
  {
   "cell_type": "markdown",
   "metadata": {},
   "source": [
    "Рассмотрим процент пропусков пропусков в каждом столбце."
   ]
  },
  {
   "cell_type": "code",
   "execution_count": 15,
   "metadata": {
    "scrolled": false
   },
   "outputs": [
    {
     "data": {
      "text/html": [
       "<style  type=\"text/css\" >\n",
       "#T_2648e_row0_col0,#T_2648e_row2_col0,#T_2648e_row4_col0,#T_2648e_row6_col0,#T_2648e_row7_col0,#T_2648e_row9_col0{\n",
       "            background-color:  #3b4cc0;\n",
       "            color:  #f1f1f1;\n",
       "        }#T_2648e_row1_col0{\n",
       "            background-color:  #e4d9d2;\n",
       "            color:  #000000;\n",
       "        }#T_2648e_row3_col0{\n",
       "            background-color:  #92b4fe;\n",
       "            color:  #000000;\n",
       "        }#T_2648e_row5_col0{\n",
       "            background-color:  #97b8ff;\n",
       "            color:  #000000;\n",
       "        }#T_2648e_row8_col0{\n",
       "            background-color:  #d4dbe6;\n",
       "            color:  #000000;\n",
       "        }#T_2648e_row10_col0{\n",
       "            background-color:  #b40426;\n",
       "            color:  #f1f1f1;\n",
       "        }</style><table id=\"T_2648e_\" ><thead>    <tr>        <th class=\"blank level0\" ></th>        <th class=\"col_heading level0 col0\" >0</th>    </tr></thead><tbody>\n",
       "                <tr>\n",
       "                        <th id=\"T_2648e_level0_row0\" class=\"row_heading level0 row0\" >price</th>\n",
       "                        <td id=\"T_2648e_row0_col0\" class=\"data row0 col0\" >0.000000</td>\n",
       "            </tr>\n",
       "            <tr>\n",
       "                        <th id=\"T_2648e_level0_row1\" class=\"row_heading level0 row1\" >vehicle_type</th>\n",
       "                        <td id=\"T_2648e_row1_col0\" class=\"data row1 col0\" >10.790000</td>\n",
       "            </tr>\n",
       "            <tr>\n",
       "                        <th id=\"T_2648e_level0_row2\" class=\"row_heading level0 row2\" >registration_year</th>\n",
       "                        <td id=\"T_2648e_row2_col0\" class=\"data row2 col0\" >0.000000</td>\n",
       "            </tr>\n",
       "            <tr>\n",
       "                        <th id=\"T_2648e_level0_row3\" class=\"row_heading level0 row3\" >gearbox</th>\n",
       "                        <td id=\"T_2648e_row3_col0\" class=\"data row3 col0\" >5.380000</td>\n",
       "            </tr>\n",
       "            <tr>\n",
       "                        <th id=\"T_2648e_level0_row4\" class=\"row_heading level0 row4\" >power</th>\n",
       "                        <td id=\"T_2648e_row4_col0\" class=\"data row4 col0\" >0.000000</td>\n",
       "            </tr>\n",
       "            <tr>\n",
       "                        <th id=\"T_2648e_level0_row5\" class=\"row_heading level0 row5\" >model</th>\n",
       "                        <td id=\"T_2648e_row5_col0\" class=\"data row5 col0\" >5.670000</td>\n",
       "            </tr>\n",
       "            <tr>\n",
       "                        <th id=\"T_2648e_level0_row6\" class=\"row_heading level0 row6\" >kilometer</th>\n",
       "                        <td id=\"T_2648e_row6_col0\" class=\"data row6 col0\" >0.000000</td>\n",
       "            </tr>\n",
       "            <tr>\n",
       "                        <th id=\"T_2648e_level0_row7\" class=\"row_heading level0 row7\" >registration_month</th>\n",
       "                        <td id=\"T_2648e_row7_col0\" class=\"data row7 col0\" >0.000000</td>\n",
       "            </tr>\n",
       "            <tr>\n",
       "                        <th id=\"T_2648e_level0_row8\" class=\"row_heading level0 row8\" >fuel_type</th>\n",
       "                        <td id=\"T_2648e_row8_col0\" class=\"data row8 col0\" >9.520000</td>\n",
       "            </tr>\n",
       "            <tr>\n",
       "                        <th id=\"T_2648e_level0_row9\" class=\"row_heading level0 row9\" >brand</th>\n",
       "                        <td id=\"T_2648e_row9_col0\" class=\"data row9 col0\" >0.000000</td>\n",
       "            </tr>\n",
       "            <tr>\n",
       "                        <th id=\"T_2648e_level0_row10\" class=\"row_heading level0 row10\" >repaired</th>\n",
       "                        <td id=\"T_2648e_row10_col0\" class=\"data row10 col0\" >20.320000</td>\n",
       "            </tr>\n",
       "    </tbody></table>"
      ],
      "text/plain": [
       "<pandas.io.formats.style.Styler at 0x7fd23aad9610>"
      ]
     },
     "execution_count": 15,
     "metadata": {},
     "output_type": "execute_result"
    }
   ],
   "source": [
    "pd.DataFrame(round((df.isna().mean()*100),2)).style.background_gradient('coolwarm')"
   ]
  },
  {
   "cell_type": "markdown",
   "metadata": {},
   "source": [
    "Пропуски содержатся в 5 столбцах, больше всего пропусков в столбце not_repaired. Во всех слобцах с пропусками их количество больше 5%, поэтому удалять их не стоит.\n",
    "\n",
    "Приступим к обработке пропусков и аномалий. Сначала рассмотрим столбцы без пропусков, затем - с пропусками."
   ]
  },
  {
   "cell_type": "markdown",
   "metadata": {},
   "source": [
    "**1. Цена**  \n",
    "Рассмотрим диапазон значений в столбце price."
   ]
  },
  {
   "cell_type": "code",
   "execution_count": 16,
   "metadata": {},
   "outputs": [
    {
     "data": {
      "image/png": "[encoded data removed]",
      "text/plain": [
       "<Figure size 1080x288 with 1 Axes>"
      ]
     },
     "metadata": {
      "needs_background": "light"
     },
     "output_type": "display_data"
    }
   ],
   "source": [
    "df['price'].plot(kind='hist', bins=150, grid=True, figsize=(15,4), linewidth=2, title='Распределение цен')\n",
    "plt.show()"
   ]
  },
  {
   "cell_type": "markdown",
   "metadata": {},
   "source": [
    "Наблюдается большое количество значений в районе нуля. Это явная аномалия, исключим нулевые значения."
   ]
  },
  {
   "cell_type": "code",
   "execution_count": 17,
   "metadata": {},
   "outputs": [],
   "source": [
    "df = df.query('price > 0')"
   ]
  },
  {
   "cell_type": "markdown",
   "metadata": {},
   "source": [
    "**2. Год выпуска**  \n",
    "Рассмотрим уникальные значения столбца registration_year."
   ]
  },
  {
   "cell_type": "code",
   "execution_count": 18,
   "metadata": {
    "scrolled": true
   },
   "outputs": [
    {
     "data": {
      "text/plain": [
       "array([1993, 2011, 2004, 2001, 2008, 1995, 2014, 1998, 2005, 1910, 2016,\n",
       "       2007, 2009, 2002, 2018, 1997, 1990, 2017, 1981, 2003, 1994, 1991,\n",
       "       1984, 2006, 1999, 2012, 2010, 2000, 1992, 2013, 1996, 1985, 1989,\n",
       "       2015, 1982, 1976, 1983, 1973, 1969, 1971, 1987, 1986, 1988, 1980,\n",
       "       1970, 1965, 1945, 1925, 1974, 1979, 1955, 1978, 1972, 1968, 1977,\n",
       "       1961, 1966, 1975, 1963, 1964, 1960, 5000, 1958, 1967, 1959, 1956,\n",
       "       3200, 1000, 1941, 9999, 8888, 1500, 2200, 4100, 1962, 1929, 1957,\n",
       "       1940, 3000, 2066, 1949, 2019, 1937, 1951, 1800, 1953, 1954, 1234,\n",
       "       8000, 5300, 9000, 2900, 6000, 5900, 5911, 1400, 1950, 4000, 1948,\n",
       "       1952, 8500, 1932, 1255, 3700, 3800, 4800, 1942, 7000, 1935, 1933,\n",
       "       1936, 6500, 1923, 2290, 1930, 1001, 9450, 1944, 2500, 1943, 1934,\n",
       "       1938, 1928, 5555, 5600, 1600, 1111, 2222, 1039, 1300, 2800, 1931,\n",
       "       4500, 1602, 7800, 1947, 1927, 7100, 8200, 1946])"
      ]
     },
     "execution_count": 18,
     "metadata": {},
     "output_type": "execute_result"
    }
   ],
   "source": [
    "df['registration_year'].unique()"
   ]
  },
  {
   "cell_type": "markdown",
   "metadata": {},
   "source": [
    "Наблюдается много аномальных значений (до года выпуска первого автомобиля и после настоящего времени). Ограничим выборку с 1900 года по год создания последне анкеты (2016)."
   ]
  },
  {
   "cell_type": "code",
   "execution_count": 19,
   "metadata": {},
   "outputs": [],
   "source": [
    "df = df.query('1900 <= registration_year <= 2016')"
   ]
  },
  {
   "cell_type": "markdown",
   "metadata": {},
   "source": [
    "**3. Месяц выпуска**  \n",
    "Рассмотрим уникальные значения столбца registration_month."
   ]
  },
  {
   "cell_type": "code",
   "execution_count": 20,
   "metadata": {},
   "outputs": [
    {
     "data": {
      "text/plain": [
       "array([ 0,  5,  8,  6,  7, 10, 12, 11,  2,  3,  1,  4,  9])"
      ]
     },
     "execution_count": 20,
     "metadata": {},
     "output_type": "execute_result"
    }
   ],
   "source": [
    "df['registration_month'].unique()"
   ]
  },
  {
   "cell_type": "markdown",
   "metadata": {},
   "source": [
    "В данных присутствует \"нулевой\" месяц. Посмотрим, много ли таких значений и как в целом распределены объявления по месяцу выпуска."
   ]
  },
  {
   "cell_type": "code",
   "execution_count": 21,
   "metadata": {},
   "outputs": [
    {
     "data": {
      "image/png": "[encoded data removed]",
      "text/plain": [
       "<Figure size 1080x288 with 1 Axes>"
      ]
     },
     "metadata": {
      "needs_background": "light"
     },
     "output_type": "display_data"
    }
   ],
   "source": [
    "df['registration_month'].plot(kind='hist', bins=25, grid=True, figsize=(15,4), linewidth=2, title='Распределение по месяцам')\n",
    "plt.show()"
   ]
  },
  {
   "cell_type": "markdown",
   "metadata": {},
   "source": [
    "Продажи по месяцам распределны достаточно равномерно, в весенние и летние месяцы выпущенных автомобилей больше.\n",
    "\n",
    "Строк с нулевым месяцем очень много (около 10%). Возможно, таким образом в данных уже заполнены пропущенные значения в данном столбце, либо часть пользователей при заполнении объявлений начинала нумерацию с нуля.\n",
    "\n",
    "Так как природа нулевых значений не ясна, оставим их без изменений."
   ]
  },
  {
   "cell_type": "markdown",
   "metadata": {},
   "source": [
    "**4. Мощность**  \n",
    "Рассмотрим распределение значений в столбце power."
   ]
  },
  {
   "cell_type": "code",
   "execution_count": 22,
   "metadata": {},
   "outputs": [
    {
     "data": {
      "image/png": "[encoded data removed]",
      "text/plain": [
       "<Figure size 1080x288 with 1 Axes>"
      ]
     },
     "metadata": {
      "needs_background": "light"
     },
     "output_type": "display_data"
    }
   ],
   "source": [
    "df['power'].plot(kind='hist', bins=100, figsize=(15, 4), grid=True, title='Распределение объявлений по мощности автомобиля')\n",
    "plt.show()"
   ]
  },
  {
   "cell_type": "markdown",
   "metadata": {},
   "source": [
    "Все объявления сосредоточены в диапазоне мощности от 0 до примено 500 л.с. Далее идут редкие значения, которые достигают 20 000 л.с. Ограничим наше шкалу до 1000 л.с., чтобы более точно увидеть распределение."
   ]
  },
  {
   "cell_type": "code",
   "execution_count": 23,
   "metadata": {},
   "outputs": [
    {
     "data": {
      "image/png": "[encoded data removed]",
      "text/plain": [
       "<Figure size 1080x432 with 1 Axes>"
      ]
     },
     "metadata": {
      "needs_background": "light"
     },
     "output_type": "display_data"
    }
   ],
   "source": [
    "df['power'].plot(kind='hist', bins=100, figsize=(15, 6), grid=True, title='Распределение объявлений по мощности автомобиля')\n",
    "plt.xlim(0, 1000)\n",
    "plt.show()"
   ]
  },
  {
   "cell_type": "markdown",
   "metadata": {},
   "source": [
    "Наблюдается всплеск значений в районе нуля. Объявления с мощностью автомобиля выше 600 л.с. крайне редкие. Ограничим нашу выборку значениями мощности выше нуля и до 600 л.с."
   ]
  },
  {
   "cell_type": "code",
   "execution_count": 24,
   "metadata": {},
   "outputs": [],
   "source": [
    "df = df.query('0 < power <= 600')"
   ]
  },
  {
   "cell_type": "code",
   "execution_count": 25,
   "metadata": {},
   "outputs": [
    {
     "data": {
      "image/png": "[encoded data removed]",
      "text/plain": [
       "<Figure size 1080x288 with 1 Axes>"
      ]
     },
     "metadata": {
      "needs_background": "light"
     },
     "output_type": "display_data"
    }
   ],
   "source": [
    "df['power'].plot(kind='hist', bins=100, figsize=(15, 4), grid=True, title='Распределение объявлений по мощности автомобиля')\n",
    "plt.show()"
   ]
  },
  {
   "cell_type": "markdown",
   "metadata": {},
   "source": [
    "**5. Пробег**  \n",
    "Рассмотрим распределение значений в столбце kilometer."
   ]
  },
  {
   "cell_type": "code",
   "execution_count": 26,
   "metadata": {},
   "outputs": [
    {
     "data": {
      "text/plain": [
       "150000    181181\n",
       "125000     29425\n",
       "100000     11860\n",
       "90000       9484\n",
       "80000       8307\n",
       "70000       7314\n",
       "60000       6195\n",
       "50000       5230\n",
       "40000       4116\n",
       "30000       3560\n",
       "20000       3061\n",
       "5000        2802\n",
       "10000        878\n",
       "Name: kilometer, dtype: int64"
      ]
     },
     "execution_count": 26,
     "metadata": {},
     "output_type": "execute_result"
    }
   ],
   "source": [
    "df['kilometer'].value_counts()"
   ]
  },
  {
   "cell_type": "markdown",
   "metadata": {},
   "source": [
    "Значения пробега уже разделены по категориям с шагом в 5000, 10000 или 25000 км в рависимости от разряда числа. Все значения пробега характерны для подержанных автомобилей. Количество объявлений линейно увеличивается по мере роста пробега. Аномалий не выявлено."
   ]
  },
  {
   "cell_type": "markdown",
   "metadata": {},
   "source": [
    "**6. Производитель**  \n",
    "Рассмотрим уникальные значения в столбце brand."
   ]
  },
  {
   "cell_type": "code",
   "execution_count": 27,
   "metadata": {},
   "outputs": [
    {
     "data": {
      "text/plain": [
       "array(['audi', 'jeep', 'volkswagen', 'skoda', 'bmw', 'peugeot', 'ford',\n",
       "       'mazda', 'nissan', 'renault', 'mercedes_benz', 'seat', 'honda',\n",
       "       'fiat', 'opel', 'mini', 'smart', 'hyundai', 'sonstige_autos',\n",
       "       'alfa_romeo', 'subaru', 'volvo', 'mitsubishi', 'kia', 'suzuki',\n",
       "       'lancia', 'citroen', 'toyota', 'chevrolet', 'dacia', 'daihatsu',\n",
       "       'chrysler', 'jaguar', 'daewoo', 'rover', 'porsche', 'saab',\n",
       "       'trabant', 'land_rover', 'lada'], dtype=object)"
      ]
     },
     "execution_count": 27,
     "metadata": {},
     "output_type": "execute_result"
    }
   ],
   "source": [
    "df['brand'].unique()"
   ]
  },
  {
   "cell_type": "markdown",
   "metadata": {},
   "source": [
    "Аномалий в столбце brand не выявлено."
   ]
  },
  {
   "cell_type": "markdown",
   "metadata": {},
   "source": [
    "Перейдем к обработке столбцов с пропусками."
   ]
  },
  {
   "cell_type": "markdown",
   "metadata": {},
   "source": [
    "**7. Тип кузова**  \n",
    "Рассмотрим уникальные значения в столбце vehicle_type."
   ]
  },
  {
   "cell_type": "code",
   "execution_count": 28,
   "metadata": {},
   "outputs": [
    {
     "data": {
      "text/plain": [
       "array(['coupe', 'suv', 'small', 'sedan', 'convertible', 'bus', 'wagon',\n",
       "       nan, 'other'], dtype=object)"
      ]
     },
     "execution_count": 28,
     "metadata": {},
     "output_type": "execute_result"
    }
   ],
   "source": [
    "df['vehicle_type'].unique()"
   ]
  },
  {
   "cell_type": "markdown",
   "metadata": {},
   "source": [
    "Так в рамках одной модели автомобиля могут выпускаться разные типы кузова, заполним пропуски значением \"unknown\"."
   ]
  },
  {
   "cell_type": "code",
   "execution_count": 29,
   "metadata": {},
   "outputs": [],
   "source": [
    "df['vehicle_type'] = df['vehicle_type'].fillna('unknown')"
   ]
  },
  {
   "cell_type": "markdown",
   "metadata": {},
   "source": [
    "**8. Коробка передач**  \n",
    "Рассмотрим уникальные значения в столбце gearbox."
   ]
  },
  {
   "cell_type": "code",
   "execution_count": 30,
   "metadata": {},
   "outputs": [
    {
     "data": {
      "text/plain": [
       "array(['manual', 'auto', nan], dtype=object)"
      ]
     },
     "execution_count": 30,
     "metadata": {},
     "output_type": "execute_result"
    }
   ],
   "source": [
    "df['gearbox'].unique()"
   ]
  },
  {
   "cell_type": "markdown",
   "metadata": {},
   "source": [
    "Так в рамках одной модели автомобиля могут выпускаться разные типы коробки передач, также заполним пропуски значением \"unknown\"."
   ]
  },
  {
   "cell_type": "code",
   "execution_count": 31,
   "metadata": {},
   "outputs": [],
   "source": [
    "df['gearbox'] = df['gearbox'].fillna('unknown')"
   ]
  },
  {
   "cell_type": "markdown",
   "metadata": {},
   "source": [
    " **9. Модель автомобиля**  \n",
    "Рассмотрим уникальные значения в столбце model."
   ]
  },
  {
   "cell_type": "code",
   "execution_count": 32,
   "metadata": {
    "scrolled": true
   },
   "outputs": [
    {
     "data": {
      "text/plain": [
       "array([nan, 'grand', 'golf', 'fabia', '3er', '2_reihe', 'c_max',\n",
       "       '3_reihe', 'passat', 'navara', 'polo', 'twingo', 'a_klasse',\n",
       "       'scirocco', '5er', 'arosa', 'other', 'civic', 'transporter',\n",
       "       'punto', 'e_klasse', 'clio', 'kadett', 'one', 'fortwo', '1er',\n",
       "       'b_klasse', 'a8', 'jetta', 'fiesta', 'c_klasse', 'micra', 'vito',\n",
       "       'sprinter', 'astra', '156', 'escort', 'forester', 'xc_reihe',\n",
       "       'scenic', 'ka', 'a1', 'focus', 'a4', 'tt', 'a6', 'jazz', 'omega',\n",
       "       'slk', '7er', 'combo', 'corsa', '80', '147', 'z_reihe', 'sorento',\n",
       "       'ibiza', 'mustang', 'eos', 'touran', 'getz', 'insignia', 'almera',\n",
       "       'megane', 'a3', 'lupo', 'r19', 'caddy', 'mondeo', 'cordoba',\n",
       "       'colt', 'impreza', 'vectra', 'berlingo', 'tiguan', '6_reihe', 'c4',\n",
       "       'panda', 'up', 'i_reihe', 'ceed', 'kangoo', '5_reihe', 'yeti',\n",
       "       'octavia', 'zafira', 'mii', 'rx_reihe', '6er', 'modus', 'fox',\n",
       "       'matiz', 'beetle', 'rio', 'touareg', 'logan', 'spider', 'cuore',\n",
       "       's_max', 'a2', 'galaxy', 'c3', 'viano', 's_klasse', '1_reihe',\n",
       "       'sharan', 'avensis', 'roomster', 'sl', 'kaefer', 'santa', 'leon',\n",
       "       'cooper', '4_reihe', 'a5', 'sportage', 'laguna', 'ptcruiser',\n",
       "       'clk', 'primera', 'espace', 'exeo', '159', 'transit', 'juke',\n",
       "       'x_reihe', 'v40', 'carisma', 'accord', 'corolla', 'lanos',\n",
       "       'phaeton', 'verso', 'swift', 'rav', 'qashqai', 'picanto',\n",
       "       'boxster', 'superb', 'stilo', 'alhambra', 'mx_reihe', 'roadster',\n",
       "       'ypsilon', 'galant', 'justy', '90', 'sirion', 'signum',\n",
       "       'crossfire', 'agila', 'duster', 'v50', '500', 'meriva', 'c_reihe',\n",
       "       'v_klasse', 'm_klasse', 'yaris', 'c5', 'aygo', 'seicento', 'cc',\n",
       "       'carnival', 'fusion', '911', 'bora', 'forfour', 'cl', 'tigra',\n",
       "       '300c', '100', 'cr_reihe', 'spark', 'kuga', 'x_type', 'ducato',\n",
       "       's_type', 'x_trail', 'toledo', 'altea', 'voyager', 'calibra',\n",
       "       'v70', 'bravo', 'tucson', 'c1', 'citigo', 'jimny', 'cayenne',\n",
       "       'wrangler', 'lybra', 'lancer', 'captiva', 'discovery',\n",
       "       'freelander', 'sandero', 'q7', 'note', 'antara', '900', 'cherokee',\n",
       "       'clubman', 'defender', 'cx_reihe', 'legacy', 'pajero', 'auris',\n",
       "       'c2', 'niva', 's60', 'm_reihe', 'nubira', 'vivaro', 'g_klasse',\n",
       "       'lodgy', 'range_rover', '601', '850', 'q3', 'serie_2', 'glk',\n",
       "       'charade', 'croma', 'outlander', 'doblo', 'musa', '9000', 'kalos',\n",
       "       'v60', '200', '145', 'b_max', 'range_rover_sport', 'aveo', 'move',\n",
       "       'rangerover', 'q5', 'range_rover_evoque', 'materia', 'delta',\n",
       "       'terios', 'gl', 'kalina', 'elefantino', 'i3', 'samara', 'amarok',\n",
       "       'kappa', 'serie_3'], dtype=object)"
      ]
     },
     "execution_count": 32,
     "metadata": {},
     "output_type": "execute_result"
    }
   ],
   "source": [
    "df['model'].unique()"
   ]
  },
  {
   "cell_type": "markdown",
   "metadata": {},
   "source": [
    "Модель автомобиля невозможно определить по имеющимся данным, поэтому также заполним пропуски значением \"unknown\"."
   ]
  },
  {
   "cell_type": "code",
   "execution_count": 33,
   "metadata": {},
   "outputs": [],
   "source": [
    "df['model'] = df['model'].fillna('unknown')"
   ]
  },
  {
   "cell_type": "markdown",
   "metadata": {},
   "source": [
    "**10. Тип топлива**  \n",
    "Рассмотрим уникальные значения в столбце fuel_type."
   ]
  },
  {
   "cell_type": "code",
   "execution_count": 34,
   "metadata": {},
   "outputs": [
    {
     "data": {
      "text/plain": [
       "array(['gasoline', 'petrol', nan, 'lpg', 'other', 'hybrid', 'cng',\n",
       "       'electric'], dtype=object)"
      ]
     },
     "execution_count": 34,
     "metadata": {},
     "output_type": "execute_result"
    }
   ],
   "source": [
    "df['fuel_type'].unique()"
   ]
  },
  {
   "cell_type": "markdown",
   "metadata": {},
   "source": [
    "Так в рамках одной модели могут выпускаться автомобили с разными типами топлива, также заполним пропуски значением \"unknown\"."
   ]
  },
  {
   "cell_type": "code",
   "execution_count": 35,
   "metadata": {},
   "outputs": [],
   "source": [
    "df['fuel_type'] = df['fuel_type'].fillna('unknown')"
   ]
  },
  {
   "cell_type": "markdown",
   "metadata": {},
   "source": [
    "**11. Факт ремонта**  \n",
    "Рассмотрим уникальные значения в столбце not_repaired."
   ]
  },
  {
   "cell_type": "code",
   "execution_count": 36,
   "metadata": {},
   "outputs": [
    {
     "data": {
      "text/plain": [
       "array(['yes', nan, 'no'], dtype=object)"
      ]
     },
     "execution_count": 36,
     "metadata": {},
     "output_type": "execute_result"
    }
   ],
   "source": [
    "df['repaired'].unique()"
   ]
  },
  {
   "cell_type": "markdown",
   "metadata": {},
   "source": [
    "Факт ремонта также невозможно определить по имеющимся данных, поэтому заполним пропуски на значение \"unknown\"."
   ]
  },
  {
   "cell_type": "code",
   "execution_count": 37,
   "metadata": {},
   "outputs": [],
   "source": [
    "df['repaired'] = df['repaired'].fillna('unknown')"
   ]
  },
  {
   "cell_type": "markdown",
   "metadata": {},
   "source": [
    "Посмотрим на общую информацию о таблице после обработки данных."
   ]
  },
  {
   "cell_type": "code",
   "execution_count": 38,
   "metadata": {},
   "outputs": [
    {
     "name": "stdout",
     "output_type": "stream",
     "text": [
      "<class 'pandas.core.frame.DataFrame'>\n",
      "Int64Index: 273413 entries, 1 to 354368\n",
      "Data columns (total 11 columns):\n",
      " #   Column              Non-Null Count   Dtype \n",
      "---  ------              --------------   ----- \n",
      " 0   price               273413 non-null  int64 \n",
      " 1   vehicle_type        273413 non-null  object\n",
      " 2   registration_year   273413 non-null  int64 \n",
      " 3   gearbox             273413 non-null  object\n",
      " 4   power               273413 non-null  int64 \n",
      " 5   model               273413 non-null  object\n",
      " 6   kilometer           273413 non-null  int64 \n",
      " 7   registration_month  273413 non-null  int64 \n",
      " 8   fuel_type           273413 non-null  object\n",
      " 9   brand               273413 non-null  object\n",
      " 10  repaired            273413 non-null  object\n",
      "dtypes: int64(5), object(6)\n",
      "memory usage: 25.0+ MB\n"
     ]
    }
   ],
   "source": [
    "df.info()"
   ]
  },
  {
   "cell_type": "markdown",
   "metadata": {},
   "source": [
    "После обработки аномалий объем данных сократился на 20%.\n",
    "Данные готовы к построению моделей."
   ]
  },
  {
   "cell_type": "markdown",
   "metadata": {},
   "source": [
    "## Обучение моделей"
   ]
  },
  {
   "cell_type": "markdown",
   "metadata": {},
   "source": [
    "### Подготовка данных к построению моделей ###"
   ]
  },
  {
   "cell_type": "markdown",
   "metadata": {},
   "source": [
    "Рассмотрим 5 моделей:\n",
    "1. Линейная регрессия\n",
    "2. Дерево решений\n",
    "3. Случайный лес\n",
    "4. Градиентный бустинг CatBoost\n",
    "5. Градиентный бустинг Light GBM\n",
    "\n",
    "Для каждой модели необходимо подготовить данные:\n",
    "- разбить на признаки и целевой признак\n",
    "- разбить на обучающую, валидационную и тестовую выборки\n",
    "- масштабировать численные признаки\n",
    "- закодировать категориальные признаки\n",
    "\n",
    "Исходя из особенностей моделей для линейной регрессии будем использовать прямое кодирование, для дерева решений и случайного леса - порядковое кодирования, для моделей градиентного бустинга обойдемся без кодирования, т.к. данные модели умеют работать с категориальными признаками."
   ]
  },
  {
   "cell_type": "markdown",
   "metadata": {},
   "source": [
    "**Общая подготовка данных**"
   ]
  },
  {
   "cell_type": "markdown",
   "metadata": {},
   "source": [
    "Разделим данные на признаки и целевой признак."
   ]
  },
  {
   "cell_type": "code",
   "execution_count": 39,
   "metadata": {},
   "outputs": [],
   "source": [
    "features = df.drop('price', axis=1)\n",
    "target = df['price']"
   ]
  },
  {
   "cell_type": "markdown",
   "metadata": {},
   "source": [
    "Разделим признаки и целевой признак на обучающую, валидационную и тестовую выборки."
   ]
  },
  {
   "cell_type": "code",
   "execution_count": 40,
   "metadata": {},
   "outputs": [],
   "source": [
    "features_new, features_test, target_new, target_test = train_test_split(\n",
    "    features, target, test_size=0.2, random_state=12345)\n",
    "\n",
    "features_train, features_valid, target_train, target_valid = train_test_split(\n",
    "    features_new, target_new, test_size=0.25, random_state=12345)"
   ]
  },
  {
   "cell_type": "markdown",
   "metadata": {},
   "source": [
    "Масштабируем численные признаки."
   ]
  },
  {
   "cell_type": "code",
   "execution_count": 41,
   "metadata": {},
   "outputs": [],
   "source": [
    "pd.options.mode.chained_assignment = None\n",
    "numeric = ['registration_year', 'power', 'kilometer', 'registration_month']\n",
    "scaler = StandardScaler()\n",
    "scaler.fit(features_train[numeric])\n",
    "features_train[numeric] = scaler.transform(features_train[numeric])\n",
    "features_valid[numeric] = scaler.transform(features_valid[numeric])\n",
    "features_test[numeric] = scaler.transform(features_test[numeric])"
   ]
  },
  {
   "cell_type": "markdown",
   "metadata": {},
   "source": [
    "**Прямое кодирование для линейной регрессии**"
   ]
  },
  {
   "cell_type": "markdown",
   "metadata": {},
   "source": [
    "Закодируем категориальные признаки и создадим для линейной регрессии заново обучающую, валидационную и тестовую выборки."
   ]
  },
  {
   "cell_type": "code",
   "execution_count": 42,
   "metadata": {},
   "outputs": [],
   "source": [
    "features_ohe = pd.get_dummies(features, drop_first=True)"
   ]
  },
  {
   "cell_type": "code",
   "execution_count": 43,
   "metadata": {},
   "outputs": [],
   "source": [
    "features_new_ohe, features_test_ohe = train_test_split(features_ohe, test_size=0.2, random_state=12345)\n",
    "features_train_ohe, features_valid_ohe = train_test_split(features_new_ohe, test_size=0.25, random_state=12345)"
   ]
  },
  {
   "cell_type": "markdown",
   "metadata": {},
   "source": [
    "Масштабируем численные признаки в новых переменных."
   ]
  },
  {
   "cell_type": "code",
   "execution_count": 44,
   "metadata": {},
   "outputs": [],
   "source": [
    "features_train_ohe[numeric] = scaler.transform(features_train_ohe[numeric])\n",
    "features_valid_ohe[numeric] = scaler.transform(features_valid_ohe[numeric])\n",
    "features_test_ohe[numeric] = scaler.transform(features_test_ohe[numeric])"
   ]
  },
  {
   "cell_type": "markdown",
   "metadata": {},
   "source": [
    "**Порядковое кодирование для дерева решений и случайного леса**"
   ]
  },
  {
   "cell_type": "markdown",
   "metadata": {},
   "source": [
    "Создадим кодировщик и обучим его на категориальных признаках тренировочной выборки.  \n",
    "Преобразуем категориальные признаки на обучающей, валидационной и тестовой выборках."
   ]
  },
  {
   "cell_type": "code",
   "execution_count": 45,
   "metadata": {},
   "outputs": [],
   "source": [
    "cat_features = ['vehicle_type', 'gearbox', 'model', 'fuel_type', 'brand', 'repaired'] # категориальные признаки"
   ]
  },
  {
   "cell_type": "code",
   "execution_count": 46,
   "metadata": {},
   "outputs": [],
   "source": [
    "encoder = OrdinalEncoder(handle_unknown='use_encoded_value', unknown_value=np.nan)\n",
    "encoder.fit(features_train[cat_features])\n",
    "\n",
    "features_train_oe = features_train.copy()\n",
    "features_train_oe[cat_features] = encoder.transform(features_train_oe[cat_features])\n",
    "\n",
    "features_valid_oe = features_valid.copy()\n",
    "features_valid_oe[cat_features] = encoder.transform(features_valid_oe[cat_features])\n",
    "\n",
    "features_test_oe = features_test.copy()\n",
    "features_test_oe[cat_features] = encoder.transform(features_test_oe[cat_features])"
   ]
  },
  {
   "cell_type": "markdown",
   "metadata": {},
   "source": [
    "Приступим к построению моделей."
   ]
  },
  {
   "cell_type": "markdown",
   "metadata": {},
   "source": [
    "### Линейная регрессия ###"
   ]
  },
  {
   "cell_type": "markdown",
   "metadata": {},
   "source": [
    "Обучим модель линейной регрессии."
   ]
  },
  {
   "cell_type": "code",
   "execution_count": 47,
   "metadata": {},
   "outputs": [
    {
     "name": "stdout",
     "output_type": "stream",
     "text": [
      "CPU times: user 11.1 s, sys: 6.68 s, total: 17.7 s\n",
      "Wall time: 17.7 s\n"
     ]
    },
    {
     "data": {
      "text/html": [
       "<style>#sk-container-id-1 {color: black;background-color: white;}#sk-container-id-1 pre{padding: 0;}#sk-container-id-1 div.sk-toggleable {background-color: white;}#sk-container-id-1 label.sk-toggleable__label {cursor: pointer;display: block;width: 100%;margin-bottom: 0;padding: 0.3em;box-sizing: border-box;text-align: center;}#sk-container-id-1 label.sk-toggleable__label-arrow:before {content: \"▸\";float: left;margin-right: 0.25em;color: #696969;}#sk-container-id-1 label.sk-toggleable__label-arrow:hover:before {color: black;}#sk-container-id-1 div.sk-estimator:hover label.sk-toggleable__label-arrow:before {color: black;}#sk-container-id-1 div.sk-toggleable__content {max-height: 0;max-width: 0;overflow: hidden;text-align: left;background-color: #f0f8ff;}#sk-container-id-1 div.sk-toggleable__content pre {margin: 0.2em;color: black;border-radius: 0.25em;background-color: #f0f8ff;}#sk-container-id-1 input.sk-toggleable__control:checked~div.sk-toggleable__content {max-height: 200px;max-width: 100%;overflow: auto;}#sk-container-id-1 input.sk-toggleable__control:checked~label.sk-toggleable__label-arrow:before {content: \"▾\";}#sk-container-id-1 div.sk-estimator input.sk-toggleable__control:checked~label.sk-toggleable__label {background-color: #d4ebff;}#sk-container-id-1 div.sk-label input.sk-toggleable__control:checked~label.sk-toggleable__label {background-color: #d4ebff;}#sk-container-id-1 input.sk-hidden--visually {border: 0;clip: rect(1px 1px 1px 1px);clip: rect(1px, 1px, 1px, 1px);height: 1px;margin: -1px;overflow: hidden;padding: 0;position: absolute;width: 1px;}#sk-container-id-1 div.sk-estimator {font-family: monospace;background-color: #f0f8ff;border: 1px dotted black;border-radius: 0.25em;box-sizing: border-box;margin-bottom: 0.5em;}#sk-container-id-1 div.sk-estimator:hover {background-color: #d4ebff;}#sk-container-id-1 div.sk-parallel-item::after {content: \"\";width: 100%;border-bottom: 1px solid gray;flex-grow: 1;}#sk-container-id-1 div.sk-label:hover label.sk-toggleable__label {background-color: #d4ebff;}#sk-container-id-1 div.sk-serial::before {content: \"\";position: absolute;border-left: 1px solid gray;box-sizing: border-box;top: 0;bottom: 0;left: 50%;z-index: 0;}#sk-container-id-1 div.sk-serial {display: flex;flex-direction: column;align-items: center;background-color: white;padding-right: 0.2em;padding-left: 0.2em;position: relative;}#sk-container-id-1 div.sk-item {position: relative;z-index: 1;}#sk-container-id-1 div.sk-parallel {display: flex;align-items: stretch;justify-content: center;background-color: white;position: relative;}#sk-container-id-1 div.sk-item::before, #sk-container-id-1 div.sk-parallel-item::before {content: \"\";position: absolute;border-left: 1px solid gray;box-sizing: border-box;top: 0;bottom: 0;left: 50%;z-index: -1;}#sk-container-id-1 div.sk-parallel-item {display: flex;flex-direction: column;z-index: 1;position: relative;background-color: white;}#sk-container-id-1 div.sk-parallel-item:first-child::after {align-self: flex-end;width: 50%;}#sk-container-id-1 div.sk-parallel-item:last-child::after {align-self: flex-start;width: 50%;}#sk-container-id-1 div.sk-parallel-item:only-child::after {width: 0;}#sk-container-id-1 div.sk-dashed-wrapped {border: 1px dashed gray;margin: 0 0.4em 0.5em 0.4em;box-sizing: border-box;padding-bottom: 0.4em;background-color: white;}#sk-container-id-1 div.sk-label label {font-family: monospace;font-weight: bold;display: inline-block;line-height: 1.2em;}#sk-container-id-1 div.sk-label-container {text-align: center;}#sk-container-id-1 div.sk-container {/* jupyter's `normalize.less` sets `[hidden] { display: none; }` but bootstrap.min.css set `[hidden] { display: none !important; }` so we also need the `!important` here to be able to override the default hidden behavior on the sphinx rendered scikit-learn.org. See: https://github.com/scikit-learn/scikit-learn/issues/21755 */display: inline-block !important;position: relative;}#sk-container-id-1 div.sk-text-repr-fallback {display: none;}</style><div id=\"sk-container-id-1\" class=\"sk-top-container\"><div class=\"sk-text-repr-fallback\"><pre>LinearRegression(n_jobs=-1)</pre><b>In a Jupyter environment, please rerun this cell to show the HTML representation or trust the notebook. <br />On GitHub, the HTML representation is unable to render, please try loading this page with nbviewer.org.</b></div><div class=\"sk-container\" hidden><div class=\"sk-item\"><div class=\"sk-estimator sk-toggleable\"><input class=\"sk-toggleable__control sk-hidden--visually\" id=\"sk-estimator-id-1\" type=\"checkbox\" checked><label for=\"sk-estimator-id-1\" class=\"sk-toggleable__label sk-toggleable__label-arrow\">LinearRegression</label><div class=\"sk-toggleable__content\"><pre>LinearRegression(n_jobs=-1)</pre></div></div></div></div></div>"
      ],
      "text/plain": [
       "LinearRegression(n_jobs=-1)"
      ]
     },
     "execution_count": 47,
     "metadata": {},
     "output_type": "execute_result"
    }
   ],
   "source": [
    "%%time\n",
    "\n",
    "model_lr = LinearRegression(n_jobs=-1)\n",
    "model_lr.fit(features_train_ohe, target_train)"
   ]
  },
  {
   "cell_type": "markdown",
   "metadata": {},
   "source": [
    "Получим предсказания на валидационной выборке."
   ]
  },
  {
   "cell_type": "code",
   "execution_count": 48,
   "metadata": {},
   "outputs": [
    {
     "name": "stdout",
     "output_type": "stream",
     "text": [
      "CPU times: user 45.2 ms, sys: 67.5 ms, total: 113 ms\n",
      "Wall time: 116 ms\n"
     ]
    }
   ],
   "source": [
    "%%time\n",
    "\n",
    "predictions_lr = model_lr.predict(features_valid_ohe)"
   ]
  },
  {
   "cell_type": "markdown",
   "metadata": {},
   "source": [
    "Получим значение корня из средней квадратичной ошибки."
   ]
  },
  {
   "cell_type": "code",
   "execution_count": 49,
   "metadata": {},
   "outputs": [
    {
     "data": {
      "text/plain": [
       "2602.0875012822567"
      ]
     },
     "execution_count": 49,
     "metadata": {},
     "output_type": "execute_result"
    }
   ],
   "source": [
    "rmse_lr = mean_squared_error(target_valid, predictions_lr) ** 0.5\n",
    "rmse_lr"
   ]
  },
  {
   "cell_type": "markdown",
   "metadata": {},
   "source": [
    "### Дерево решений ###"
   ]
  },
  {
   "cell_type": "markdown",
   "metadata": {},
   "source": [
    "Обучим модель дерева решений."
   ]
  },
  {
   "cell_type": "code",
   "execution_count": 50,
   "metadata": {},
   "outputs": [
    {
     "name": "stdout",
     "output_type": "stream",
     "text": [
      "CPU times: user 2.34 s, sys: 0 ns, total: 2.34 s\n",
      "Wall time: 2.35 s\n"
     ]
    },
    {
     "data": {
      "text/html": [
       "<style>#sk-container-id-2 {color: black;background-color: white;}#sk-container-id-2 pre{padding: 0;}#sk-container-id-2 div.sk-toggleable {background-color: white;}#sk-container-id-2 label.sk-toggleable__label {cursor: pointer;display: block;width: 100%;margin-bottom: 0;padding: 0.3em;box-sizing: border-box;text-align: center;}#sk-container-id-2 label.sk-toggleable__label-arrow:before {content: \"▸\";float: left;margin-right: 0.25em;color: #696969;}#sk-container-id-2 label.sk-toggleable__label-arrow:hover:before {color: black;}#sk-container-id-2 div.sk-estimator:hover label.sk-toggleable__label-arrow:before {color: black;}#sk-container-id-2 div.sk-toggleable__content {max-height: 0;max-width: 0;overflow: hidden;text-align: left;background-color: #f0f8ff;}#sk-container-id-2 div.sk-toggleable__content pre {margin: 0.2em;color: black;border-radius: 0.25em;background-color: #f0f8ff;}#sk-container-id-2 input.sk-toggleable__control:checked~div.sk-toggleable__content {max-height: 200px;max-width: 100%;overflow: auto;}#sk-container-id-2 input.sk-toggleable__control:checked~label.sk-toggleable__label-arrow:before {content: \"▾\";}#sk-container-id-2 div.sk-estimator input.sk-toggleable__control:checked~label.sk-toggleable__label {background-color: #d4ebff;}#sk-container-id-2 div.sk-label input.sk-toggleable__control:checked~label.sk-toggleable__label {background-color: #d4ebff;}#sk-container-id-2 input.sk-hidden--visually {border: 0;clip: rect(1px 1px 1px 1px);clip: rect(1px, 1px, 1px, 1px);height: 1px;margin: -1px;overflow: hidden;padding: 0;position: absolute;width: 1px;}#sk-container-id-2 div.sk-estimator {font-family: monospace;background-color: #f0f8ff;border: 1px dotted black;border-radius: 0.25em;box-sizing: border-box;margin-bottom: 0.5em;}#sk-container-id-2 div.sk-estimator:hover {background-color: #d4ebff;}#sk-container-id-2 div.sk-parallel-item::after {content: \"\";width: 100%;border-bottom: 1px solid gray;flex-grow: 1;}#sk-container-id-2 div.sk-label:hover label.sk-toggleable__label {background-color: #d4ebff;}#sk-container-id-2 div.sk-serial::before {content: \"\";position: absolute;border-left: 1px solid gray;box-sizing: border-box;top: 0;bottom: 0;left: 50%;z-index: 0;}#sk-container-id-2 div.sk-serial {display: flex;flex-direction: column;align-items: center;background-color: white;padding-right: 0.2em;padding-left: 0.2em;position: relative;}#sk-container-id-2 div.sk-item {position: relative;z-index: 1;}#sk-container-id-2 div.sk-parallel {display: flex;align-items: stretch;justify-content: center;background-color: white;position: relative;}#sk-container-id-2 div.sk-item::before, #sk-container-id-2 div.sk-parallel-item::before {content: \"\";position: absolute;border-left: 1px solid gray;box-sizing: border-box;top: 0;bottom: 0;left: 50%;z-index: -1;}#sk-container-id-2 div.sk-parallel-item {display: flex;flex-direction: column;z-index: 1;position: relative;background-color: white;}#sk-container-id-2 div.sk-parallel-item:first-child::after {align-self: flex-end;width: 50%;}#sk-container-id-2 div.sk-parallel-item:last-child::after {align-self: flex-start;width: 50%;}#sk-container-id-2 div.sk-parallel-item:only-child::after {width: 0;}#sk-container-id-2 div.sk-dashed-wrapped {border: 1px dashed gray;margin: 0 0.4em 0.5em 0.4em;box-sizing: border-box;padding-bottom: 0.4em;background-color: white;}#sk-container-id-2 div.sk-label label {font-family: monospace;font-weight: bold;display: inline-block;line-height: 1.2em;}#sk-container-id-2 div.sk-label-container {text-align: center;}#sk-container-id-2 div.sk-container {/* jupyter's `normalize.less` sets `[hidden] { display: none; }` but bootstrap.min.css set `[hidden] { display: none !important; }` so we also need the `!important` here to be able to override the default hidden behavior on the sphinx rendered scikit-learn.org. See: https://github.com/scikit-learn/scikit-learn/issues/21755 */display: inline-block !important;position: relative;}#sk-container-id-2 div.sk-text-repr-fallback {display: none;}</style><div id=\"sk-container-id-2\" class=\"sk-top-container\"><div class=\"sk-text-repr-fallback\"><pre>GridSearchCV(cv=3, estimator=DecisionTreeRegressor(random_state=12345),\n",
       "             n_jobs=-1, param_grid={&#x27;max_depth&#x27;: range(2, 8)},\n",
       "             scoring=&#x27;neg_mean_squared_error&#x27;)</pre><b>In a Jupyter environment, please rerun this cell to show the HTML representation or trust the notebook. <br />On GitHub, the HTML representation is unable to render, please try loading this page with nbviewer.org.</b></div><div class=\"sk-container\" hidden><div class=\"sk-item sk-dashed-wrapped\"><div class=\"sk-label-container\"><div class=\"sk-label sk-toggleable\"><input class=\"sk-toggleable__control sk-hidden--visually\" id=\"sk-estimator-id-2\" type=\"checkbox\" ><label for=\"sk-estimator-id-2\" class=\"sk-toggleable__label sk-toggleable__label-arrow\">GridSearchCV</label><div class=\"sk-toggleable__content\"><pre>GridSearchCV(cv=3, estimator=DecisionTreeRegressor(random_state=12345),\n",
       "             n_jobs=-1, param_grid={&#x27;max_depth&#x27;: range(2, 8)},\n",
       "             scoring=&#x27;neg_mean_squared_error&#x27;)</pre></div></div></div><div class=\"sk-parallel\"><div class=\"sk-parallel-item\"><div class=\"sk-item\"><div class=\"sk-label-container\"><div class=\"sk-label sk-toggleable\"><input class=\"sk-toggleable__control sk-hidden--visually\" id=\"sk-estimator-id-3\" type=\"checkbox\" ><label for=\"sk-estimator-id-3\" class=\"sk-toggleable__label sk-toggleable__label-arrow\">estimator: DecisionTreeRegressor</label><div class=\"sk-toggleable__content\"><pre>DecisionTreeRegressor(random_state=12345)</pre></div></div></div><div class=\"sk-serial\"><div class=\"sk-item\"><div class=\"sk-estimator sk-toggleable\"><input class=\"sk-toggleable__control sk-hidden--visually\" id=\"sk-estimator-id-4\" type=\"checkbox\" ><label for=\"sk-estimator-id-4\" class=\"sk-toggleable__label sk-toggleable__label-arrow\">DecisionTreeRegressor</label><div class=\"sk-toggleable__content\"><pre>DecisionTreeRegressor(random_state=12345)</pre></div></div></div></div></div></div></div></div></div></div>"
      ],
      "text/plain": [
       "GridSearchCV(cv=3, estimator=DecisionTreeRegressor(random_state=12345),\n",
       "             n_jobs=-1, param_grid={'max_depth': range(2, 8)},\n",
       "             scoring='neg_mean_squared_error')"
      ]
     },
     "execution_count": 50,
     "metadata": {},
     "output_type": "execute_result"
    }
   ],
   "source": [
    "%%time\n",
    "\n",
    "params_dtr = {'max_depth': range(2, 8)}\n",
    "\n",
    "model_dtr = DecisionTreeRegressor(random_state=12345)\n",
    "gscv_dtr = GridSearchCV(model_dtr, params_dtr, scoring='neg_mean_squared_error', cv=3, n_jobs=-1)\n",
    "gscv_dtr.fit(features_train_oe, target_train)"
   ]
  },
  {
   "cell_type": "markdown",
   "metadata": {},
   "source": [
    "Получим предсказания на валидационной выборке."
   ]
  },
  {
   "cell_type": "code",
   "execution_count": 51,
   "metadata": {},
   "outputs": [
    {
     "name": "stdout",
     "output_type": "stream",
     "text": [
      "CPU times: user 9.3 ms, sys: 0 ns, total: 9.3 ms\n",
      "Wall time: 7.77 ms\n"
     ]
    }
   ],
   "source": [
    "%%time\n",
    "\n",
    "predictions_dtr = gscv_dtr.predict(features_valid_oe)"
   ]
  },
  {
   "cell_type": "markdown",
   "metadata": {},
   "source": [
    "Получим значение корня из средней квадратичной ошибки."
   ]
  },
  {
   "cell_type": "code",
   "execution_count": 52,
   "metadata": {},
   "outputs": [
    {
     "data": {
      "text/plain": [
       "2161.81904021688"
      ]
     },
     "execution_count": 52,
     "metadata": {},
     "output_type": "execute_result"
    }
   ],
   "source": [
    "rmse_dtr = mean_squared_error(target_valid, predictions_dtr) ** 0.5\n",
    "rmse_dtr"
   ]
  },
  {
   "cell_type": "markdown",
   "metadata": {},
   "source": [
    "Получим значения наилучших гиперпараметров."
   ]
  },
  {
   "cell_type": "code",
   "execution_count": 53,
   "metadata": {},
   "outputs": [
    {
     "data": {
      "text/plain": [
       "{'max_depth': 7}"
      ]
     },
     "execution_count": 53,
     "metadata": {},
     "output_type": "execute_result"
    }
   ],
   "source": [
    "gscv_dtr.best_params_"
   ]
  },
  {
   "cell_type": "markdown",
   "metadata": {},
   "source": [
    "### Случайный лес ###"
   ]
  },
  {
   "cell_type": "markdown",
   "metadata": {},
   "source": [
    "Обучим модель случайного леса."
   ]
  },
  {
   "cell_type": "code",
   "execution_count": 54,
   "metadata": {},
   "outputs": [
    {
     "name": "stdout",
     "output_type": "stream",
     "text": [
      "CPU times: user 2min 33s, sys: 120 ms, total: 2min 33s\n",
      "Wall time: 2min 34s\n"
     ]
    },
    {
     "data": {
      "text/html": [
       "<style>#sk-container-id-3 {color: black;background-color: white;}#sk-container-id-3 pre{padding: 0;}#sk-container-id-3 div.sk-toggleable {background-color: white;}#sk-container-id-3 label.sk-toggleable__label {cursor: pointer;display: block;width: 100%;margin-bottom: 0;padding: 0.3em;box-sizing: border-box;text-align: center;}#sk-container-id-3 label.sk-toggleable__label-arrow:before {content: \"▸\";float: left;margin-right: 0.25em;color: #696969;}#sk-container-id-3 label.sk-toggleable__label-arrow:hover:before {color: black;}#sk-container-id-3 div.sk-estimator:hover label.sk-toggleable__label-arrow:before {color: black;}#sk-container-id-3 div.sk-toggleable__content {max-height: 0;max-width: 0;overflow: hidden;text-align: left;background-color: #f0f8ff;}#sk-container-id-3 div.sk-toggleable__content pre {margin: 0.2em;color: black;border-radius: 0.25em;background-color: #f0f8ff;}#sk-container-id-3 input.sk-toggleable__control:checked~div.sk-toggleable__content {max-height: 200px;max-width: 100%;overflow: auto;}#sk-container-id-3 input.sk-toggleable__control:checked~label.sk-toggleable__label-arrow:before {content: \"▾\";}#sk-container-id-3 div.sk-estimator input.sk-toggleable__control:checked~label.sk-toggleable__label {background-color: #d4ebff;}#sk-container-id-3 div.sk-label input.sk-toggleable__control:checked~label.sk-toggleable__label {background-color: #d4ebff;}#sk-container-id-3 input.sk-hidden--visually {border: 0;clip: rect(1px 1px 1px 1px);clip: rect(1px, 1px, 1px, 1px);height: 1px;margin: -1px;overflow: hidden;padding: 0;position: absolute;width: 1px;}#sk-container-id-3 div.sk-estimator {font-family: monospace;background-color: #f0f8ff;border: 1px dotted black;border-radius: 0.25em;box-sizing: border-box;margin-bottom: 0.5em;}#sk-container-id-3 div.sk-estimator:hover {background-color: #d4ebff;}#sk-container-id-3 div.sk-parallel-item::after {content: \"\";width: 100%;border-bottom: 1px solid gray;flex-grow: 1;}#sk-container-id-3 div.sk-label:hover label.sk-toggleable__label {background-color: #d4ebff;}#sk-container-id-3 div.sk-serial::before {content: \"\";position: absolute;border-left: 1px solid gray;box-sizing: border-box;top: 0;bottom: 0;left: 50%;z-index: 0;}#sk-container-id-3 div.sk-serial {display: flex;flex-direction: column;align-items: center;background-color: white;padding-right: 0.2em;padding-left: 0.2em;position: relative;}#sk-container-id-3 div.sk-item {position: relative;z-index: 1;}#sk-container-id-3 div.sk-parallel {display: flex;align-items: stretch;justify-content: center;background-color: white;position: relative;}#sk-container-id-3 div.sk-item::before, #sk-container-id-3 div.sk-parallel-item::before {content: \"\";position: absolute;border-left: 1px solid gray;box-sizing: border-box;top: 0;bottom: 0;left: 50%;z-index: -1;}#sk-container-id-3 div.sk-parallel-item {display: flex;flex-direction: column;z-index: 1;position: relative;background-color: white;}#sk-container-id-3 div.sk-parallel-item:first-child::after {align-self: flex-end;width: 50%;}#sk-container-id-3 div.sk-parallel-item:last-child::after {align-self: flex-start;width: 50%;}#sk-container-id-3 div.sk-parallel-item:only-child::after {width: 0;}#sk-container-id-3 div.sk-dashed-wrapped {border: 1px dashed gray;margin: 0 0.4em 0.5em 0.4em;box-sizing: border-box;padding-bottom: 0.4em;background-color: white;}#sk-container-id-3 div.sk-label label {font-family: monospace;font-weight: bold;display: inline-block;line-height: 1.2em;}#sk-container-id-3 div.sk-label-container {text-align: center;}#sk-container-id-3 div.sk-container {/* jupyter's `normalize.less` sets `[hidden] { display: none; }` but bootstrap.min.css set `[hidden] { display: none !important; }` so we also need the `!important` here to be able to override the default hidden behavior on the sphinx rendered scikit-learn.org. See: https://github.com/scikit-learn/scikit-learn/issues/21755 */display: inline-block !important;position: relative;}#sk-container-id-3 div.sk-text-repr-fallback {display: none;}</style><div id=\"sk-container-id-3\" class=\"sk-top-container\"><div class=\"sk-text-repr-fallback\"><pre>GridSearchCV(cv=3, estimator=RandomForestRegressor(random_state=12345),\n",
       "             n_jobs=-1,\n",
       "             param_grid={&#x27;max_depth&#x27;: range(2, 7),\n",
       "                         &#x27;n_estimators&#x27;: range(10, 51, 10)},\n",
       "             scoring=&#x27;neg_mean_squared_error&#x27;)</pre><b>In a Jupyter environment, please rerun this cell to show the HTML representation or trust the notebook. <br />On GitHub, the HTML representation is unable to render, please try loading this page with nbviewer.org.</b></div><div class=\"sk-container\" hidden><div class=\"sk-item sk-dashed-wrapped\"><div class=\"sk-label-container\"><div class=\"sk-label sk-toggleable\"><input class=\"sk-toggleable__control sk-hidden--visually\" id=\"sk-estimator-id-5\" type=\"checkbox\" ><label for=\"sk-estimator-id-5\" class=\"sk-toggleable__label sk-toggleable__label-arrow\">GridSearchCV</label><div class=\"sk-toggleable__content\"><pre>GridSearchCV(cv=3, estimator=RandomForestRegressor(random_state=12345),\n",
       "             n_jobs=-1,\n",
       "             param_grid={&#x27;max_depth&#x27;: range(2, 7),\n",
       "                         &#x27;n_estimators&#x27;: range(10, 51, 10)},\n",
       "             scoring=&#x27;neg_mean_squared_error&#x27;)</pre></div></div></div><div class=\"sk-parallel\"><div class=\"sk-parallel-item\"><div class=\"sk-item\"><div class=\"sk-label-container\"><div class=\"sk-label sk-toggleable\"><input class=\"sk-toggleable__control sk-hidden--visually\" id=\"sk-estimator-id-6\" type=\"checkbox\" ><label for=\"sk-estimator-id-6\" class=\"sk-toggleable__label sk-toggleable__label-arrow\">estimator: RandomForestRegressor</label><div class=\"sk-toggleable__content\"><pre>RandomForestRegressor(random_state=12345)</pre></div></div></div><div class=\"sk-serial\"><div class=\"sk-item\"><div class=\"sk-estimator sk-toggleable\"><input class=\"sk-toggleable__control sk-hidden--visually\" id=\"sk-estimator-id-7\" type=\"checkbox\" ><label for=\"sk-estimator-id-7\" class=\"sk-toggleable__label sk-toggleable__label-arrow\">RandomForestRegressor</label><div class=\"sk-toggleable__content\"><pre>RandomForestRegressor(random_state=12345)</pre></div></div></div></div></div></div></div></div></div></div>"
      ],
      "text/plain": [
       "GridSearchCV(cv=3, estimator=RandomForestRegressor(random_state=12345),\n",
       "             n_jobs=-1,\n",
       "             param_grid={'max_depth': range(2, 7),\n",
       "                         'n_estimators': range(10, 51, 10)},\n",
       "             scoring='neg_mean_squared_error')"
      ]
     },
     "execution_count": 54,
     "metadata": {},
     "output_type": "execute_result"
    }
   ],
   "source": [
    "%%time\n",
    "\n",
    "params_rfr = {\n",
    "    'n_estimators': range(10, 51, 10),\n",
    "    'max_depth': range(2, 7)\n",
    "}\n",
    "\n",
    "model_rfr = RandomForestRegressor(random_state=12345)\n",
    "gscv_rfr = GridSearchCV(model_rfr, params_rfr, scoring='neg_mean_squared_error', cv=3, n_jobs=-1)\n",
    "gscv_rfr.fit(features_train_oe, target_train)"
   ]
  },
  {
   "cell_type": "markdown",
   "metadata": {},
   "source": [
    "Получим предсказания на валидационной выборке."
   ]
  },
  {
   "cell_type": "code",
   "execution_count": 55,
   "metadata": {},
   "outputs": [
    {
     "name": "stdout",
     "output_type": "stream",
     "text": [
      "CPU times: user 116 ms, sys: 7.94 ms, total: 124 ms\n",
      "Wall time: 134 ms\n"
     ]
    }
   ],
   "source": [
    "%%time\n",
    "\n",
    "predictions_rfr = gscv_rfr.predict(features_valid_oe)"
   ]
  },
  {
   "cell_type": "markdown",
   "metadata": {},
   "source": [
    "Получим значение корня из средней квадратичной ошибки."
   ]
  },
  {
   "cell_type": "code",
   "execution_count": 56,
   "metadata": {},
   "outputs": [
    {
     "data": {
      "text/plain": [
       "2222.174410437498"
      ]
     },
     "execution_count": 56,
     "metadata": {},
     "output_type": "execute_result"
    }
   ],
   "source": [
    "rmse_rfr = mean_squared_error(target_valid, predictions_rfr) ** 0.5\n",
    "rmse_rfr"
   ]
  },
  {
   "cell_type": "markdown",
   "metadata": {},
   "source": [
    "Получим значения наилучших гиперпараметров."
   ]
  },
  {
   "cell_type": "code",
   "execution_count": 57,
   "metadata": {},
   "outputs": [
    {
     "data": {
      "text/plain": [
       "{'max_depth': 6, 'n_estimators': 50}"
      ]
     },
     "execution_count": 57,
     "metadata": {},
     "output_type": "execute_result"
    }
   ],
   "source": [
    "gscv_rfr.best_params_"
   ]
  },
  {
   "cell_type": "markdown",
   "metadata": {},
   "source": [
    "### Градиентный бустинг CatBoost ###"
   ]
  },
  {
   "cell_type": "markdown",
   "metadata": {},
   "source": [
    "Обучим модель градиентного бустинга CatBoost."
   ]
  },
  {
   "cell_type": "code",
   "execution_count": 58,
   "metadata": {
    "scrolled": false
   },
   "outputs": [
    {
     "data": {
      "application/vnd.jupyter.widget-view+json": {
       "model_id": "858f00059d4642349a5cfb89d707e382",
       "version_major": 2,
       "version_minor": 0
      },
      "text/plain": [
       "MetricVisualizer(layout=Layout(align_self='stretch', height='500px'))"
      ]
     },
     "metadata": {},
     "output_type": "display_data"
    },
    {
     "name": "stdout",
     "output_type": "stream",
     "text": [
      "CPU times: user 6.19 s, sys: 91.1 ms, total: 6.28 s\n",
      "Wall time: 6.87 s\n"
     ]
    },
    {
     "data": {
      "text/plain": [
       "<catboost.core.CatBoostRegressor at 0x7fd239cdea60>"
      ]
     },
     "execution_count": 58,
     "metadata": {},
     "output_type": "execute_result"
    }
   ],
   "source": [
    "%%time\n",
    "\n",
    "model_cb = CatBoostRegressor(loss_function='RMSE', eval_metric='RMSE', iterations=100, random_state=12345)\n",
    "model_cb.fit(features_train, target_train, cat_features=cat_features, verbose=False, plot=True)"
   ]
  },
  {
   "cell_type": "markdown",
   "metadata": {},
   "source": [
    "Получим предсказания на тестовой выборке."
   ]
  },
  {
   "cell_type": "code",
   "execution_count": 59,
   "metadata": {},
   "outputs": [
    {
     "name": "stdout",
     "output_type": "stream",
     "text": [
      "CPU times: user 74 ms, sys: 4.27 ms, total: 78.3 ms\n",
      "Wall time: 75.7 ms\n"
     ]
    }
   ],
   "source": [
    "%%time\n",
    "\n",
    "predictions_cb = model_cb.predict(features_valid)"
   ]
  },
  {
   "cell_type": "markdown",
   "metadata": {},
   "source": [
    "Получим значение корня из средней квадратичной ошибки."
   ]
  },
  {
   "cell_type": "code",
   "execution_count": 60,
   "metadata": {},
   "outputs": [
    {
     "data": {
      "text/plain": [
       "1658.8895217205113"
      ]
     },
     "execution_count": 60,
     "metadata": {},
     "output_type": "execute_result"
    }
   ],
   "source": [
    "rmse_cb = mean_squared_error(target_valid, predictions_cb) ** 0.5\n",
    "rmse_cb"
   ]
  },
  {
   "cell_type": "markdown",
   "metadata": {},
   "source": [
    "### Градиентный бустинг Light GBM ###"
   ]
  },
  {
   "cell_type": "markdown",
   "metadata": {},
   "source": [
    "Обучим модель градиентного бустинга Light GBM.\n",
    "\n",
    "Сначала приведем категориальные признаки к категориальному типу данных."
   ]
  },
  {
   "cell_type": "code",
   "execution_count": 61,
   "metadata": {},
   "outputs": [],
   "source": [
    "for feature in cat_features:\n",
    "    features_train[feature] = pd.Series(features_train[feature], dtype='category')\n",
    "    features_valid[feature] = pd.Series(features_valid[feature], dtype='category')\n",
    "    features_test[feature] = pd.Series(features_test[feature], dtype='category')"
   ]
  },
  {
   "cell_type": "code",
   "execution_count": 62,
   "metadata": {},
   "outputs": [
    {
     "name": "stderr",
     "output_type": "stream",
     "text": [
      "/opt/conda/lib/python3.9/site-packages/lightgbm/sklearn.py:736: UserWarning: 'verbose' argument is deprecated and will be removed in a future release of LightGBM. Pass 'log_evaluation()' callback via 'callbacks' argument instead.\n",
      "  _log_warning(\"'verbose' argument is deprecated and will be removed in a future release of LightGBM. \"\n",
      "/opt/conda/lib/python3.9/site-packages/lightgbm/basic.py:2065: UserWarning: Using categorical_feature in Dataset.\n",
      "  _log_warning('Using categorical_feature in Dataset.')\n"
     ]
    },
    {
     "name": "stdout",
     "output_type": "stream",
     "text": [
      "CPU times: user 5.35 s, sys: 18.1 ms, total: 5.36 s\n",
      "Wall time: 5.41 s\n"
     ]
    },
    {
     "data": {
      "text/html": [
       "<style>#sk-container-id-4 {color: black;background-color: white;}#sk-container-id-4 pre{padding: 0;}#sk-container-id-4 div.sk-toggleable {background-color: white;}#sk-container-id-4 label.sk-toggleable__label {cursor: pointer;display: block;width: 100%;margin-bottom: 0;padding: 0.3em;box-sizing: border-box;text-align: center;}#sk-container-id-4 label.sk-toggleable__label-arrow:before {content: \"▸\";float: left;margin-right: 0.25em;color: #696969;}#sk-container-id-4 label.sk-toggleable__label-arrow:hover:before {color: black;}#sk-container-id-4 div.sk-estimator:hover label.sk-toggleable__label-arrow:before {color: black;}#sk-container-id-4 div.sk-toggleable__content {max-height: 0;max-width: 0;overflow: hidden;text-align: left;background-color: #f0f8ff;}#sk-container-id-4 div.sk-toggleable__content pre {margin: 0.2em;color: black;border-radius: 0.25em;background-color: #f0f8ff;}#sk-container-id-4 input.sk-toggleable__control:checked~div.sk-toggleable__content {max-height: 200px;max-width: 100%;overflow: auto;}#sk-container-id-4 input.sk-toggleable__control:checked~label.sk-toggleable__label-arrow:before {content: \"▾\";}#sk-container-id-4 div.sk-estimator input.sk-toggleable__control:checked~label.sk-toggleable__label {background-color: #d4ebff;}#sk-container-id-4 div.sk-label input.sk-toggleable__control:checked~label.sk-toggleable__label {background-color: #d4ebff;}#sk-container-id-4 input.sk-hidden--visually {border: 0;clip: rect(1px 1px 1px 1px);clip: rect(1px, 1px, 1px, 1px);height: 1px;margin: -1px;overflow: hidden;padding: 0;position: absolute;width: 1px;}#sk-container-id-4 div.sk-estimator {font-family: monospace;background-color: #f0f8ff;border: 1px dotted black;border-radius: 0.25em;box-sizing: border-box;margin-bottom: 0.5em;}#sk-container-id-4 div.sk-estimator:hover {background-color: #d4ebff;}#sk-container-id-4 div.sk-parallel-item::after {content: \"\";width: 100%;border-bottom: 1px solid gray;flex-grow: 1;}#sk-container-id-4 div.sk-label:hover label.sk-toggleable__label {background-color: #d4ebff;}#sk-container-id-4 div.sk-serial::before {content: \"\";position: absolute;border-left: 1px solid gray;box-sizing: border-box;top: 0;bottom: 0;left: 50%;z-index: 0;}#sk-container-id-4 div.sk-serial {display: flex;flex-direction: column;align-items: center;background-color: white;padding-right: 0.2em;padding-left: 0.2em;position: relative;}#sk-container-id-4 div.sk-item {position: relative;z-index: 1;}#sk-container-id-4 div.sk-parallel {display: flex;align-items: stretch;justify-content: center;background-color: white;position: relative;}#sk-container-id-4 div.sk-item::before, #sk-container-id-4 div.sk-parallel-item::before {content: \"\";position: absolute;border-left: 1px solid gray;box-sizing: border-box;top: 0;bottom: 0;left: 50%;z-index: -1;}#sk-container-id-4 div.sk-parallel-item {display: flex;flex-direction: column;z-index: 1;position: relative;background-color: white;}#sk-container-id-4 div.sk-parallel-item:first-child::after {align-self: flex-end;width: 50%;}#sk-container-id-4 div.sk-parallel-item:last-child::after {align-self: flex-start;width: 50%;}#sk-container-id-4 div.sk-parallel-item:only-child::after {width: 0;}#sk-container-id-4 div.sk-dashed-wrapped {border: 1px dashed gray;margin: 0 0.4em 0.5em 0.4em;box-sizing: border-box;padding-bottom: 0.4em;background-color: white;}#sk-container-id-4 div.sk-label label {font-family: monospace;font-weight: bold;display: inline-block;line-height: 1.2em;}#sk-container-id-4 div.sk-label-container {text-align: center;}#sk-container-id-4 div.sk-container {/* jupyter's `normalize.less` sets `[hidden] { display: none; }` but bootstrap.min.css set `[hidden] { display: none !important; }` so we also need the `!important` here to be able to override the default hidden behavior on the sphinx rendered scikit-learn.org. See: https://github.com/scikit-learn/scikit-learn/issues/21755 */display: inline-block !important;position: relative;}#sk-container-id-4 div.sk-text-repr-fallback {display: none;}</style><div id=\"sk-container-id-4\" class=\"sk-top-container\"><div class=\"sk-text-repr-fallback\"><pre>LGBMRegressor(max_depth=7, metric=&#x27;rmse&#x27;, random_state=12345)</pre><b>In a Jupyter environment, please rerun this cell to show the HTML representation or trust the notebook. <br />On GitHub, the HTML representation is unable to render, please try loading this page with nbviewer.org.</b></div><div class=\"sk-container\" hidden><div class=\"sk-item\"><div class=\"sk-estimator sk-toggleable\"><input class=\"sk-toggleable__control sk-hidden--visually\" id=\"sk-estimator-id-8\" type=\"checkbox\" checked><label for=\"sk-estimator-id-8\" class=\"sk-toggleable__label sk-toggleable__label-arrow\">LGBMRegressor</label><div class=\"sk-toggleable__content\"><pre>LGBMRegressor(max_depth=7, metric=&#x27;rmse&#x27;, random_state=12345)</pre></div></div></div></div></div>"
      ],
      "text/plain": [
       "LGBMRegressor(max_depth=7, metric='rmse', random_state=12345)"
      ]
     },
     "execution_count": 62,
     "metadata": {},
     "output_type": "execute_result"
    }
   ],
   "source": [
    "%%time\n",
    "\n",
    "model_lgbm = LGBMRegressor(metric='rmse', max_depth=7, random_state=12345) # макс.глубина дерева ограничена для увеличения скорости\n",
    "model_lgbm.fit(features_train, target_train, categorical_feature=cat_features, eval_metric='rmse', verbose=False)"
   ]
  },
  {
   "cell_type": "markdown",
   "metadata": {},
   "source": [
    "Получим предсказания на валидационной выборке."
   ]
  },
  {
   "cell_type": "code",
   "execution_count": 63,
   "metadata": {},
   "outputs": [
    {
     "name": "stdout",
     "output_type": "stream",
     "text": [
      "CPU times: user 611 ms, sys: 0 ns, total: 611 ms\n",
      "Wall time: 602 ms\n"
     ]
    }
   ],
   "source": [
    "%%time\n",
    "\n",
    "predictions_lgbm = model_lgbm.predict(features_valid)"
   ]
  },
  {
   "cell_type": "markdown",
   "metadata": {},
   "source": [
    "Получим значение корня из средней квадратичной ошибки."
   ]
  },
  {
   "cell_type": "code",
   "execution_count": 64,
   "metadata": {},
   "outputs": [
    {
     "data": {
      "text/plain": [
       "1604.519639919157"
      ]
     },
     "execution_count": 64,
     "metadata": {},
     "output_type": "execute_result"
    }
   ],
   "source": [
    "rmse_lgbm = mean_squared_error(target_valid, predictions_lgbm) ** 0.5\n",
    "rmse_lgbm"
   ]
  },
  {
   "cell_type": "markdown",
   "metadata": {},
   "source": [
    "## Анализ моделей"
   ]
  },
  {
   "cell_type": "markdown",
   "metadata": {},
   "source": [
    "Сравним полученные результаты по всем моделям."
   ]
  },
  {
   "cell_type": "code",
   "execution_count": 65,
   "metadata": {},
   "outputs": [
    {
     "data": {
      "text/html": [
       "<div>\n",
       "<style scoped>\n",
       "    .dataframe tbody tr th:only-of-type {\n",
       "        vertical-align: middle;\n",
       "    }\n",
       "\n",
       "    .dataframe tbody tr th {\n",
       "        vertical-align: top;\n",
       "    }\n",
       "\n",
       "    .dataframe thead th {\n",
       "        text-align: right;\n",
       "    }\n",
       "</style>\n",
       "<table border=\"1\" class=\"dataframe\">\n",
       "  <thead>\n",
       "    <tr style=\"text-align: right;\">\n",
       "      <th></th>\n",
       "      <th>Место по скорости обучения</th>\n",
       "      <th>Место по скорости предсказания</th>\n",
       "      <th>RMSE</th>\n",
       "      <th>Место по RMSE</th>\n",
       "      <th>RMSE ниже 2500</th>\n",
       "    </tr>\n",
       "  </thead>\n",
       "  <tbody>\n",
       "    <tr>\n",
       "      <th>Линейная регрессия</th>\n",
       "      <td>4</td>\n",
       "      <td>3</td>\n",
       "      <td>2602.087501</td>\n",
       "      <td>5</td>\n",
       "      <td>нет</td>\n",
       "    </tr>\n",
       "    <tr>\n",
       "      <th>Дерево решений</th>\n",
       "      <td>1</td>\n",
       "      <td>1</td>\n",
       "      <td>2161.819040</td>\n",
       "      <td>3</td>\n",
       "      <td>да</td>\n",
       "    </tr>\n",
       "    <tr>\n",
       "      <th>Случайный лес</th>\n",
       "      <td>5</td>\n",
       "      <td>4</td>\n",
       "      <td>2222.174410</td>\n",
       "      <td>4</td>\n",
       "      <td>да</td>\n",
       "    </tr>\n",
       "    <tr>\n",
       "      <th>Градиентный бустинг CatBoost</th>\n",
       "      <td>3</td>\n",
       "      <td>2</td>\n",
       "      <td>1658.889522</td>\n",
       "      <td>2</td>\n",
       "      <td>да</td>\n",
       "    </tr>\n",
       "    <tr>\n",
       "      <th>Градиентный бустинг Light GBM</th>\n",
       "      <td>2</td>\n",
       "      <td>5</td>\n",
       "      <td>1604.519640</td>\n",
       "      <td>1</td>\n",
       "      <td>да</td>\n",
       "    </tr>\n",
       "  </tbody>\n",
       "</table>\n",
       "</div>"
      ],
      "text/plain": [
       "                               Место по скорости обучения  \\\n",
       "Линейная регрессия                                      4   \n",
       "Дерево решений                                          1   \n",
       "Случайный лес                                           5   \n",
       "Градиентный бустинг CatBoost                            3   \n",
       "Градиентный бустинг Light GBM                           2   \n",
       "\n",
       "                               Место по скорости предсказания         RMSE  \\\n",
       "Линейная регрессия                                          3  2602.087501   \n",
       "Дерево решений                                              1  2161.819040   \n",
       "Случайный лес                                               4  2222.174410   \n",
       "Градиентный бустинг CatBoost                                2  1658.889522   \n",
       "Градиентный бустинг Light GBM                               5  1604.519640   \n",
       "\n",
       "                               Место по RMSE RMSE ниже 2500  \n",
       "Линейная регрессия                         5            нет  \n",
       "Дерево решений                             3             да  \n",
       "Случайный лес                              4             да  \n",
       "Градиентный бустинг CatBoost               2             да  \n",
       "Градиентный бустинг Light GBM              1             да  "
      ]
     },
     "execution_count": 65,
     "metadata": {},
     "output_type": "execute_result"
    }
   ],
   "source": [
    "models = ['Линейная регрессия', 'Дерево решений', 'Случайный лес', 'Градиентный бустинг CatBoost', 'Градиентный бустинг Light GBM']\n",
    "columns = ['Место по скорости обучения', 'Место по скорости предсказания', 'RMSE', 'Место по RMSE', 'RMSE ниже 2500']\n",
    "\n",
    "results = pd.DataFrame([\n",
    "    [4, 3, rmse_lr, 5, 'нет'], \n",
    "    [1, 1, rmse_dtr, 3, 'да'], \n",
    "    [5, 4, rmse_rfr, 4, 'да'], \n",
    "    [3, 2, rmse_cb, 2, 'да'], \n",
    "    [2, 5, rmse_lgbm, 1, 'да']\n",
    "], index=models, columns=columns)\n",
    "\n",
    "results"
   ]
  },
  {
   "cell_type": "markdown",
   "metadata": {},
   "source": [
    "Градиентный бустинг Light GBM дает наименьшее значение RMSE. По скорости обучения он также достаточно быстрый (2 место), но по скорости предсказания он самый медленный.\n",
    "\n",
    "У градиентного бустинга CatBoost значение RMSE немного выше, как и скорость обучения. При этом по скорости предсказания он заметно обгоняет Light GBM.\n",
    "\n",
    "Дерево решений - самая быстрая модель по всем признакам, однако значение ошибки у него значительно превышает результаты обоих бустингов.\n",
    "\n",
    "Линейная регрессия и случайный лес показывают самые низкие результаты по совокупности параметров.\n",
    "\n",
    "Учитывая, что скорость предсказаний гораздо выше скорости обучения, можно рекомендовать для использования модель градиентного бустинга Light GBM.  \n",
    "Если же скорость предсказаний является приоритетным критерием, то рекомендовано использовать модель градиентного бустинга CatBoost\t(по скорости обучения и значения RMSE она не сильно отстает от Light GBM.\n",
    "\n",
    "Проверим обе модели на тестовой выборке."
   ]
  },
  {
   "cell_type": "markdown",
   "metadata": {},
   "source": [
    "# Тестирование лучшей модели"
   ]
  },
  {
   "cell_type": "markdown",
   "metadata": {},
   "source": [
    "**CatBoost**"
   ]
  },
  {
   "cell_type": "code",
   "execution_count": 66,
   "metadata": {},
   "outputs": [
    {
     "name": "stdout",
     "output_type": "stream",
     "text": [
      "CPU times: user 44.4 ms, sys: 12 µs, total: 44.4 ms\n",
      "Wall time: 43.6 ms\n"
     ]
    },
    {
     "data": {
      "text/plain": [
       "1643.6633039681888"
      ]
     },
     "execution_count": 66,
     "metadata": {},
     "output_type": "execute_result"
    }
   ],
   "source": [
    "%%time\n",
    "\n",
    "predictions_cb_test = model_cb.predict(features_test)\n",
    "rmse_cb_test = mean_squared_error(target_test, predictions_cb_test) ** 0.5\n",
    "rmse_cb_test"
   ]
  },
  {
   "cell_type": "markdown",
   "metadata": {},
   "source": [
    "**Light GBM**"
   ]
  },
  {
   "cell_type": "code",
   "execution_count": 67,
   "metadata": {},
   "outputs": [
    {
     "name": "stdout",
     "output_type": "stream",
     "text": [
      "CPU times: user 608 ms, sys: 0 ns, total: 608 ms\n",
      "Wall time: 600 ms\n"
     ]
    },
    {
     "data": {
      "text/plain": [
       "1598.663573327216"
      ]
     },
     "execution_count": 67,
     "metadata": {},
     "output_type": "execute_result"
    }
   ],
   "source": [
    "%%time\n",
    "\n",
    "predictions_lgbm_test = model_lgbm.predict(features_test)\n",
    "rmse_lgbm_test = mean_squared_error(target_test, predictions_lgbm_test) ** 0.5\n",
    "rmse_lgbm_test"
   ]
  },
  {
   "cell_type": "markdown",
   "metadata": {},
   "source": [
    "На тестовой выборке обе модели показали более низкое значение RMSE по сравнению с валидационной выборкой. Полученные данные подтверждают сделанные ранее выводы."
   ]
  }
 ],
 "metadata": {
  "ExecuteTimeLog": [
   {
    "duration": 42,
    "start_time": "2022-10-24T13:31:55.726Z"
   },
   {
    "duration": 353,
    "start_time": "2022-10-24T13:31:58.144Z"
   },
   {
    "duration": 2921,
    "start_time": "2022-10-24T13:31:58.599Z"
   },
   {
    "duration": 105,
    "start_time": "2022-10-24T13:32:11.687Z"
   },
   {
    "duration": 17,
    "start_time": "2022-10-24T13:32:29.648Z"
   },
   {
    "duration": 67,
    "start_time": "2022-10-24T13:33:21.273Z"
   },
   {
    "duration": 419,
    "start_time": "2022-10-24T13:41:27.660Z"
   },
   {
    "duration": 4,
    "start_time": "2022-10-24T13:43:14.704Z"
   },
   {
    "duration": 57,
    "start_time": "2022-10-24T13:43:18.774Z"
   },
   {
    "duration": 430,
    "start_time": "2022-10-24T13:44:01.303Z"
   },
   {
    "duration": 137,
    "start_time": "2022-10-24T13:44:09.918Z"
   },
   {
    "duration": 5,
    "start_time": "2022-10-24T13:44:50.799Z"
   },
   {
    "duration": 8,
    "start_time": "2022-10-24T13:45:00.728Z"
   },
   {
    "duration": 14,
    "start_time": "2022-10-24T13:45:11.607Z"
   },
   {
    "duration": 24,
    "start_time": "2022-10-24T13:45:38.201Z"
   },
   {
    "duration": 25,
    "start_time": "2022-10-24T13:48:50.321Z"
   },
   {
    "duration": 10,
    "start_time": "2022-10-24T13:48:56.098Z"
   },
   {
    "duration": 67,
    "start_time": "2022-10-24T13:49:49.428Z"
   },
   {
    "duration": 454,
    "start_time": "2022-10-24T13:54:29.782Z"
   },
   {
    "duration": 214,
    "start_time": "2022-10-24T13:54:36.175Z"
   },
   {
    "duration": 1279,
    "start_time": "2022-10-24T13:54:52.452Z"
   },
   {
    "duration": 14,
    "start_time": "2022-10-24T13:55:17.764Z"
   },
   {
    "duration": 8,
    "start_time": "2022-10-24T13:55:41.612Z"
   },
   {
    "duration": 31,
    "start_time": "2022-10-24T13:55:47.852Z"
   },
   {
    "duration": 25,
    "start_time": "2022-10-24T13:55:57.036Z"
   },
   {
    "duration": 25,
    "start_time": "2022-10-24T13:56:02.853Z"
   },
   {
    "duration": 18,
    "start_time": "2022-10-24T14:07:06.761Z"
   },
   {
    "duration": 29,
    "start_time": "2022-10-24T14:07:33.626Z"
   },
   {
    "duration": 10,
    "start_time": "2022-10-24T14:08:12.276Z"
   },
   {
    "duration": 5,
    "start_time": "2022-10-24T14:08:26.843Z"
   },
   {
    "duration": 9,
    "start_time": "2022-10-24T14:08:58.002Z"
   },
   {
    "duration": 317,
    "start_time": "2022-10-24T14:09:25.594Z"
   },
   {
    "duration": 9,
    "start_time": "2022-10-24T14:09:53.325Z"
   },
   {
    "duration": 8,
    "start_time": "2022-10-24T14:10:03.995Z"
   },
   {
    "duration": 8,
    "start_time": "2022-10-24T14:10:19.699Z"
   },
   {
    "duration": 9,
    "start_time": "2022-10-24T14:10:24.098Z"
   },
   {
    "duration": 6,
    "start_time": "2022-10-24T14:10:28.219Z"
   },
   {
    "duration": 9,
    "start_time": "2022-10-24T14:10:46.643Z"
   },
   {
    "duration": 6,
    "start_time": "2022-10-24T14:10:53.674Z"
   },
   {
    "duration": 5,
    "start_time": "2022-10-24T14:11:33.053Z"
   },
   {
    "duration": 7,
    "start_time": "2022-10-24T14:12:08.782Z"
   },
   {
    "duration": 8,
    "start_time": "2022-10-24T14:12:22.052Z"
   },
   {
    "duration": 8,
    "start_time": "2022-10-24T14:12:31.003Z"
   },
   {
    "duration": 36,
    "start_time": "2022-10-24T14:14:38.120Z"
   },
   {
    "duration": 7,
    "start_time": "2022-10-24T14:14:45.222Z"
   },
   {
    "duration": 9,
    "start_time": "2022-10-24T14:15:15.289Z"
   },
   {
    "duration": 20,
    "start_time": "2022-10-24T14:16:01.990Z"
   },
   {
    "duration": 38,
    "start_time": "2022-10-24T14:16:03.670Z"
   },
   {
    "duration": 7,
    "start_time": "2022-10-24T14:17:47.647Z"
   },
   {
    "duration": 10,
    "start_time": "2022-10-24T14:17:51.855Z"
   },
   {
    "duration": 8,
    "start_time": "2022-10-24T14:20:13.176Z"
   },
   {
    "duration": 7,
    "start_time": "2022-10-24T14:20:26.693Z"
   },
   {
    "duration": 228,
    "start_time": "2022-10-24T14:20:58.344Z"
   },
   {
    "duration": 246,
    "start_time": "2022-10-24T14:21:19.283Z"
   },
   {
    "duration": 240,
    "start_time": "2022-10-24T14:21:25.816Z"
   },
   {
    "duration": 449,
    "start_time": "2022-10-24T14:21:29.263Z"
   },
   {
    "duration": 356,
    "start_time": "2022-10-24T14:21:44.602Z"
   },
   {
    "duration": 366,
    "start_time": "2022-10-24T14:22:14.786Z"
   },
   {
    "duration": 489,
    "start_time": "2022-10-24T14:22:24.658Z"
   },
   {
    "duration": 387,
    "start_time": "2022-10-24T14:22:47.481Z"
   },
   {
    "duration": 398,
    "start_time": "2022-10-24T14:22:54.153Z"
   },
   {
    "duration": 373,
    "start_time": "2022-10-24T14:23:03.171Z"
   },
   {
    "duration": 16,
    "start_time": "2022-10-24T14:24:43.651Z"
   },
   {
    "duration": 12,
    "start_time": "2022-10-24T14:25:09.618Z"
   },
   {
    "duration": 8,
    "start_time": "2022-10-24T14:25:43.667Z"
   },
   {
    "duration": 44,
    "start_time": "2022-10-24T14:28:21.452Z"
   },
   {
    "duration": 600,
    "start_time": "2022-10-24T14:28:32.402Z"
   },
   {
    "duration": 2934,
    "start_time": "2022-10-24T14:28:33.004Z"
   },
   {
    "duration": 15,
    "start_time": "2022-10-24T14:28:35.940Z"
   },
   {
    "duration": 103,
    "start_time": "2022-10-24T14:28:35.957Z"
   },
   {
    "duration": 74,
    "start_time": "2022-10-24T14:28:36.061Z"
   },
   {
    "duration": 25,
    "start_time": "2022-10-24T14:28:36.136Z"
   },
   {
    "duration": 94,
    "start_time": "2022-10-24T14:28:36.163Z"
   },
   {
    "duration": 29,
    "start_time": "2022-10-24T14:28:36.258Z"
   },
   {
    "duration": 42,
    "start_time": "2022-10-24T14:28:36.289Z"
   },
   {
    "duration": 14,
    "start_time": "2022-10-24T14:28:36.333Z"
   },
   {
    "duration": 45,
    "start_time": "2022-10-24T14:28:36.349Z"
   },
   {
    "duration": 17,
    "start_time": "2022-10-24T14:28:36.396Z"
   },
   {
    "duration": 34,
    "start_time": "2022-10-24T14:28:36.414Z"
   },
   {
    "duration": 24,
    "start_time": "2022-10-24T14:28:36.450Z"
   },
   {
    "duration": 369,
    "start_time": "2022-10-24T14:28:36.475Z"
   },
   {
    "duration": 120,
    "start_time": "2022-10-24T14:28:36.845Z"
   },
   {
    "duration": 27,
    "start_time": "2022-10-24T14:29:07.028Z"
   },
   {
    "duration": 20,
    "start_time": "2022-10-24T14:29:38.159Z"
   },
   {
    "duration": 21,
    "start_time": "2022-10-24T14:30:42.345Z"
   },
   {
    "duration": 22,
    "start_time": "2022-10-24T14:31:01.186Z"
   },
   {
    "duration": 417,
    "start_time": "2022-10-24T14:33:26.363Z"
   },
   {
    "duration": 24,
    "start_time": "2022-10-24T14:33:39.938Z"
   },
   {
    "duration": 359,
    "start_time": "2022-10-24T14:33:41.115Z"
   },
   {
    "duration": 239,
    "start_time": "2022-10-24T14:33:49.213Z"
   },
   {
    "duration": 1585,
    "start_time": "2022-10-29T10:33:21.387Z"
   },
   {
    "duration": 89,
    "start_time": "2022-10-29T10:33:36.341Z"
   },
   {
    "duration": 3095,
    "start_time": "2022-10-29T10:34:01.441Z"
   },
   {
    "duration": 22,
    "start_time": "2022-10-29T10:34:21.221Z"
   },
   {
    "duration": 130,
    "start_time": "2022-10-29T10:34:46.090Z"
   },
   {
    "duration": 72,
    "start_time": "2022-10-29T10:37:31.990Z"
   },
   {
    "duration": 6,
    "start_time": "2022-10-29T10:40:43.925Z"
   },
   {
    "duration": 24,
    "start_time": "2022-10-29T10:46:35.372Z"
   },
   {
    "duration": 103,
    "start_time": "2022-10-29T10:55:33.884Z"
   },
   {
    "duration": 167,
    "start_time": "2022-10-29T10:57:20.906Z"
   },
   {
    "duration": 682,
    "start_time": "2022-10-29T10:57:45.596Z"
   },
   {
    "duration": 355,
    "start_time": "2022-10-29T10:57:49.681Z"
   },
   {
    "duration": 345,
    "start_time": "2022-10-29T10:58:12.707Z"
   },
   {
    "duration": 399,
    "start_time": "2022-10-29T10:59:22.840Z"
   },
   {
    "duration": 4,
    "start_time": "2022-10-29T10:59:30.472Z"
   },
   {
    "duration": 72,
    "start_time": "2022-10-29T10:59:44.055Z"
   },
   {
    "duration": 5,
    "start_time": "2022-10-29T10:59:46.363Z"
   },
   {
    "duration": 31,
    "start_time": "2022-10-29T10:59:48.870Z"
   },
   {
    "duration": 71,
    "start_time": "2022-10-29T10:59:51.716Z"
   },
   {
    "duration": 142,
    "start_time": "2022-10-29T11:03:12.165Z"
   },
   {
    "duration": 65,
    "start_time": "2022-10-29T11:03:24.205Z"
   },
   {
    "duration": 159,
    "start_time": "2022-10-29T11:03:40.376Z"
   },
   {
    "duration": 71,
    "start_time": "2022-10-29T11:03:41.694Z"
   },
   {
    "duration": 61,
    "start_time": "2022-10-29T11:03:54.817Z"
   },
   {
    "duration": 149,
    "start_time": "2022-10-29T11:06:06.684Z"
   },
   {
    "duration": 64,
    "start_time": "2022-10-29T11:06:07.821Z"
   },
   {
    "duration": 17,
    "start_time": "2022-10-29T11:09:14.177Z"
   },
   {
    "duration": 10,
    "start_time": "2022-10-29T11:10:14.739Z"
   },
   {
    "duration": 81,
    "start_time": "2022-10-29T11:13:24.401Z"
   },
   {
    "duration": 69,
    "start_time": "2022-10-29T11:13:50.346Z"
   },
   {
    "duration": 84,
    "start_time": "2022-10-29T11:13:57.148Z"
   },
   {
    "duration": 99,
    "start_time": "2022-10-29T11:15:40.051Z"
   },
   {
    "duration": 14,
    "start_time": "2022-10-29T11:16:11.299Z"
   },
   {
    "duration": 10,
    "start_time": "2022-10-29T11:16:21.752Z"
   },
   {
    "duration": 31,
    "start_time": "2022-10-29T11:16:30.554Z"
   },
   {
    "duration": 32,
    "start_time": "2022-10-29T11:17:13.581Z"
   },
   {
    "duration": 8,
    "start_time": "2022-10-29T11:17:23.917Z"
   },
   {
    "duration": 3,
    "start_time": "2022-10-29T11:17:26.223Z"
   },
   {
    "duration": 67,
    "start_time": "2022-10-29T11:17:42.971Z"
   },
   {
    "duration": 486,
    "start_time": "2022-10-29T12:02:19.556Z"
   },
   {
    "duration": 170,
    "start_time": "2022-10-29T12:03:24.149Z"
   },
   {
    "duration": 235,
    "start_time": "2022-10-29T12:03:50.941Z"
   },
   {
    "duration": 167,
    "start_time": "2022-10-29T12:04:14.286Z"
   },
   {
    "duration": 30,
    "start_time": "2022-10-29T12:05:18.332Z"
   },
   {
    "duration": 169,
    "start_time": "2022-10-29T12:05:22.127Z"
   },
   {
    "duration": 169,
    "start_time": "2022-10-29T12:05:36.753Z"
   },
   {
    "duration": 166,
    "start_time": "2022-10-29T12:05:45.884Z"
   },
   {
    "duration": 164,
    "start_time": "2022-10-29T12:05:49.877Z"
   },
   {
    "duration": 173,
    "start_time": "2022-10-29T12:05:56.216Z"
   },
   {
    "duration": 344,
    "start_time": "2022-10-29T12:07:27.331Z"
   },
   {
    "duration": 423,
    "start_time": "2022-10-29T12:07:52.395Z"
   },
   {
    "duration": 308,
    "start_time": "2022-10-29T12:08:30.519Z"
   },
   {
    "duration": 332,
    "start_time": "2022-10-29T12:08:36.072Z"
   },
   {
    "duration": 685,
    "start_time": "2022-10-29T12:09:51.583Z"
   },
   {
    "duration": 15,
    "start_time": "2022-10-29T12:10:10.593Z"
   },
   {
    "duration": 1387,
    "start_time": "2022-10-29T12:10:26.598Z"
   },
   {
    "duration": 725,
    "start_time": "2022-10-29T12:10:27.987Z"
   },
   {
    "duration": 15,
    "start_time": "2022-10-29T12:10:28.714Z"
   },
   {
    "duration": 117,
    "start_time": "2022-10-29T12:10:28.731Z"
   },
   {
    "duration": 421,
    "start_time": "2022-10-29T12:10:28.849Z"
   },
   {
    "duration": 449,
    "start_time": "2022-10-29T12:10:29.272Z"
   },
   {
    "duration": 74,
    "start_time": "2022-10-29T12:10:29.722Z"
   },
   {
    "duration": 6,
    "start_time": "2022-10-29T12:10:29.806Z"
   },
   {
    "duration": 31,
    "start_time": "2022-10-29T12:10:29.814Z"
   },
   {
    "duration": 182,
    "start_time": "2022-10-29T12:10:29.848Z"
   },
   {
    "duration": 169,
    "start_time": "2022-10-29T12:10:30.032Z"
   },
   {
    "duration": 15,
    "start_time": "2022-10-29T12:10:30.203Z"
   },
   {
    "duration": 4,
    "start_time": "2022-10-29T12:10:30.220Z"
   },
   {
    "duration": 124,
    "start_time": "2022-10-29T12:10:30.225Z"
   },
   {
    "duration": 346,
    "start_time": "2022-10-29T12:10:30.351Z"
   },
   {
    "duration": 24,
    "start_time": "2022-10-29T12:10:30.704Z"
   },
   {
    "duration": 1232,
    "start_time": "2022-10-29T12:10:30.730Z"
   },
   {
    "duration": 0,
    "start_time": "2022-10-29T12:10:31.964Z"
   },
   {
    "duration": 0,
    "start_time": "2022-10-29T12:10:31.965Z"
   },
   {
    "duration": 0,
    "start_time": "2022-10-29T12:10:31.966Z"
   },
   {
    "duration": 0,
    "start_time": "2022-10-29T12:10:31.967Z"
   },
   {
    "duration": 0,
    "start_time": "2022-10-29T12:10:31.968Z"
   },
   {
    "duration": 0,
    "start_time": "2022-10-29T12:10:31.969Z"
   },
   {
    "duration": 0,
    "start_time": "2022-10-29T12:10:32.047Z"
   },
   {
    "duration": 0,
    "start_time": "2022-10-29T12:10:32.048Z"
   },
   {
    "duration": 0,
    "start_time": "2022-10-29T12:10:32.049Z"
   },
   {
    "duration": 6,
    "start_time": "2022-10-29T12:12:19.698Z"
   },
   {
    "duration": 23,
    "start_time": "2022-10-29T12:13:40.495Z"
   },
   {
    "duration": 5,
    "start_time": "2022-10-29T12:14:30.792Z"
   },
   {
    "duration": 12,
    "start_time": "2022-10-29T12:15:02.290Z"
   },
   {
    "duration": 169,
    "start_time": "2022-10-29T12:16:04.741Z"
   },
   {
    "duration": 6,
    "start_time": "2022-10-29T12:34:22.906Z"
   },
   {
    "duration": 450,
    "start_time": "2022-10-29T12:35:24.409Z"
   },
   {
    "duration": 264,
    "start_time": "2022-10-29T12:35:38.747Z"
   },
   {
    "duration": 25,
    "start_time": "2022-10-29T12:36:02.045Z"
   },
   {
    "duration": 294,
    "start_time": "2022-10-29T12:36:03.162Z"
   },
   {
    "duration": 259,
    "start_time": "2022-10-29T12:36:35.175Z"
   },
   {
    "duration": 1330,
    "start_time": "2022-10-29T12:40:39.034Z"
   },
   {
    "duration": 802,
    "start_time": "2022-10-29T12:40:40.366Z"
   },
   {
    "duration": 18,
    "start_time": "2022-10-29T12:40:41.170Z"
   },
   {
    "duration": 126,
    "start_time": "2022-10-29T12:40:41.190Z"
   },
   {
    "duration": 475,
    "start_time": "2022-10-29T12:40:41.318Z"
   },
   {
    "duration": 494,
    "start_time": "2022-10-29T12:40:41.794Z"
   },
   {
    "duration": 85,
    "start_time": "2022-10-29T12:40:42.290Z"
   },
   {
    "duration": 6,
    "start_time": "2022-10-29T12:40:42.376Z"
   },
   {
    "duration": 46,
    "start_time": "2022-10-29T12:40:42.384Z"
   },
   {
    "duration": 190,
    "start_time": "2022-10-29T12:40:42.432Z"
   },
   {
    "duration": 169,
    "start_time": "2022-10-29T12:40:42.623Z"
   },
   {
    "duration": 21,
    "start_time": "2022-10-29T12:40:42.793Z"
   },
   {
    "duration": 5,
    "start_time": "2022-10-29T12:40:42.815Z"
   },
   {
    "duration": 120,
    "start_time": "2022-10-29T12:40:42.821Z"
   },
   {
    "duration": 360,
    "start_time": "2022-10-29T12:40:42.943Z"
   },
   {
    "duration": 30,
    "start_time": "2022-10-29T12:40:43.304Z"
   },
   {
    "duration": 5,
    "start_time": "2022-10-29T12:40:43.336Z"
   },
   {
    "duration": 30,
    "start_time": "2022-10-29T12:40:43.342Z"
   },
   {
    "duration": 5,
    "start_time": "2022-10-29T12:40:43.374Z"
   },
   {
    "duration": 288,
    "start_time": "2022-10-29T12:40:43.381Z"
   },
   {
    "duration": 295,
    "start_time": "2022-10-29T12:40:43.670Z"
   },
   {
    "duration": 271,
    "start_time": "2022-10-29T12:40:43.967Z"
   },
   {
    "duration": 24,
    "start_time": "2022-10-29T12:40:44.240Z"
   },
   {
    "duration": 1356,
    "start_time": "2022-10-29T12:40:44.265Z"
   },
   {
    "duration": 0,
    "start_time": "2022-10-29T12:40:45.622Z"
   },
   {
    "duration": 0,
    "start_time": "2022-10-29T12:40:45.624Z"
   },
   {
    "duration": 0,
    "start_time": "2022-10-29T12:40:45.625Z"
   },
   {
    "duration": 365,
    "start_time": "2022-10-29T12:40:56.479Z"
   },
   {
    "duration": 271,
    "start_time": "2022-10-29T12:40:59.945Z"
   },
   {
    "duration": 376,
    "start_time": "2022-10-29T12:41:06.360Z"
   },
   {
    "duration": 1425,
    "start_time": "2022-10-29T12:41:16.629Z"
   },
   {
    "duration": 754,
    "start_time": "2022-10-29T12:41:18.056Z"
   },
   {
    "duration": 16,
    "start_time": "2022-10-29T12:41:18.812Z"
   },
   {
    "duration": 119,
    "start_time": "2022-10-29T12:41:18.830Z"
   },
   {
    "duration": 450,
    "start_time": "2022-10-29T12:41:18.950Z"
   },
   {
    "duration": 480,
    "start_time": "2022-10-29T12:41:19.401Z"
   },
   {
    "duration": 81,
    "start_time": "2022-10-29T12:41:19.882Z"
   },
   {
    "duration": 5,
    "start_time": "2022-10-29T12:41:19.965Z"
   },
   {
    "duration": 47,
    "start_time": "2022-10-29T12:41:19.971Z"
   },
   {
    "duration": 175,
    "start_time": "2022-10-29T12:41:20.021Z"
   },
   {
    "duration": 178,
    "start_time": "2022-10-29T12:41:20.198Z"
   },
   {
    "duration": 27,
    "start_time": "2022-10-29T12:41:20.378Z"
   },
   {
    "duration": 3,
    "start_time": "2022-10-29T12:41:20.407Z"
   },
   {
    "duration": 108,
    "start_time": "2022-10-29T12:41:20.411Z"
   },
   {
    "duration": 354,
    "start_time": "2022-10-29T12:41:20.521Z"
   },
   {
    "duration": 42,
    "start_time": "2022-10-29T12:41:20.876Z"
   },
   {
    "duration": 6,
    "start_time": "2022-10-29T12:41:20.920Z"
   },
   {
    "duration": 28,
    "start_time": "2022-10-29T12:41:20.927Z"
   },
   {
    "duration": 6,
    "start_time": "2022-10-29T12:41:20.957Z"
   },
   {
    "duration": 284,
    "start_time": "2022-10-29T12:41:20.964Z"
   },
   {
    "duration": 283,
    "start_time": "2022-10-29T12:41:21.250Z"
   },
   {
    "duration": 262,
    "start_time": "2022-10-29T12:41:21.534Z"
   },
   {
    "duration": 25,
    "start_time": "2022-10-29T12:41:21.797Z"
   },
   {
    "duration": 1336,
    "start_time": "2022-10-29T12:41:21.824Z"
   },
   {
    "duration": 0,
    "start_time": "2022-10-29T12:41:23.161Z"
   },
   {
    "duration": 0,
    "start_time": "2022-10-29T12:41:23.163Z"
   },
   {
    "duration": 0,
    "start_time": "2022-10-29T12:41:23.164Z"
   },
   {
    "duration": 1377,
    "start_time": "2022-10-29T12:43:14.987Z"
   },
   {
    "duration": 760,
    "start_time": "2022-10-29T12:43:16.366Z"
   },
   {
    "duration": 18,
    "start_time": "2022-10-29T12:43:17.127Z"
   },
   {
    "duration": 118,
    "start_time": "2022-10-29T12:43:17.146Z"
   },
   {
    "duration": 501,
    "start_time": "2022-10-29T12:43:17.266Z"
   },
   {
    "duration": 499,
    "start_time": "2022-10-29T12:43:17.768Z"
   },
   {
    "duration": 82,
    "start_time": "2022-10-29T12:43:18.268Z"
   },
   {
    "duration": 5,
    "start_time": "2022-10-29T12:43:18.351Z"
   },
   {
    "duration": 36,
    "start_time": "2022-10-29T12:43:18.357Z"
   },
   {
    "duration": 172,
    "start_time": "2022-10-29T12:43:18.404Z"
   },
   {
    "duration": 187,
    "start_time": "2022-10-29T12:43:18.577Z"
   },
   {
    "duration": 20,
    "start_time": "2022-10-29T12:43:18.766Z"
   },
   {
    "duration": 5,
    "start_time": "2022-10-29T12:43:18.787Z"
   },
   {
    "duration": 117,
    "start_time": "2022-10-29T12:43:18.794Z"
   },
   {
    "duration": 350,
    "start_time": "2022-10-29T12:43:18.912Z"
   },
   {
    "duration": 30,
    "start_time": "2022-10-29T12:43:19.263Z"
   },
   {
    "duration": 14,
    "start_time": "2022-10-29T12:43:19.294Z"
   },
   {
    "duration": 28,
    "start_time": "2022-10-29T12:43:19.309Z"
   },
   {
    "duration": 5,
    "start_time": "2022-10-29T12:43:19.339Z"
   },
   {
    "duration": 261,
    "start_time": "2022-10-29T12:43:19.346Z"
   },
   {
    "duration": 271,
    "start_time": "2022-10-29T12:43:19.609Z"
   },
   {
    "duration": 268,
    "start_time": "2022-10-29T12:43:19.882Z"
   },
   {
    "duration": 22,
    "start_time": "2022-10-29T12:43:20.152Z"
   },
   {
    "duration": 1208,
    "start_time": "2022-10-29T12:43:20.176Z"
   },
   {
    "duration": 0,
    "start_time": "2022-10-29T12:43:21.386Z"
   },
   {
    "duration": 1,
    "start_time": "2022-10-29T12:43:21.387Z"
   },
   {
    "duration": 0,
    "start_time": "2022-10-29T12:43:21.388Z"
   },
   {
    "duration": 302,
    "start_time": "2022-10-29T12:48:06.174Z"
   },
   {
    "duration": 285,
    "start_time": "2022-10-29T12:48:17.684Z"
   },
   {
    "duration": 1318,
    "start_time": "2022-10-29T12:49:40.850Z"
   },
   {
    "duration": 746,
    "start_time": "2022-10-29T12:49:42.170Z"
   },
   {
    "duration": 16,
    "start_time": "2022-10-29T12:49:42.918Z"
   },
   {
    "duration": 121,
    "start_time": "2022-10-29T12:49:42.936Z"
   },
   {
    "duration": 445,
    "start_time": "2022-10-29T12:49:43.058Z"
   },
   {
    "duration": 455,
    "start_time": "2022-10-29T12:49:43.505Z"
   },
   {
    "duration": 80,
    "start_time": "2022-10-29T12:49:43.961Z"
   },
   {
    "duration": 6,
    "start_time": "2022-10-29T12:49:44.043Z"
   },
   {
    "duration": 31,
    "start_time": "2022-10-29T12:49:44.050Z"
   },
   {
    "duration": 172,
    "start_time": "2022-10-29T12:49:44.083Z"
   },
   {
    "duration": 175,
    "start_time": "2022-10-29T12:49:44.256Z"
   },
   {
    "duration": 16,
    "start_time": "2022-10-29T12:49:44.432Z"
   },
   {
    "duration": 5,
    "start_time": "2022-10-29T12:49:44.449Z"
   },
   {
    "duration": 127,
    "start_time": "2022-10-29T12:49:44.455Z"
   },
   {
    "duration": 338,
    "start_time": "2022-10-29T12:49:44.584Z"
   },
   {
    "duration": 24,
    "start_time": "2022-10-29T12:49:44.924Z"
   },
   {
    "duration": 5,
    "start_time": "2022-10-29T12:49:44.950Z"
   },
   {
    "duration": 24,
    "start_time": "2022-10-29T12:49:44.957Z"
   },
   {
    "duration": 25,
    "start_time": "2022-10-29T12:49:44.982Z"
   },
   {
    "duration": 255,
    "start_time": "2022-10-29T12:49:45.008Z"
   },
   {
    "duration": 68,
    "start_time": "2022-10-29T12:49:45.265Z"
   },
   {
    "duration": 0,
    "start_time": "2022-10-29T12:49:45.335Z"
   },
   {
    "duration": 0,
    "start_time": "2022-10-29T12:49:45.336Z"
   },
   {
    "duration": 0,
    "start_time": "2022-10-29T12:49:45.337Z"
   },
   {
    "duration": 0,
    "start_time": "2022-10-29T12:49:45.338Z"
   },
   {
    "duration": 0,
    "start_time": "2022-10-29T12:49:45.339Z"
   },
   {
    "duration": 0,
    "start_time": "2022-10-29T12:49:45.340Z"
   },
   {
    "duration": 0,
    "start_time": "2022-10-29T12:49:45.341Z"
   },
   {
    "duration": 291,
    "start_time": "2022-10-29T12:50:58.783Z"
   },
   {
    "duration": 264,
    "start_time": "2022-10-29T12:51:05.392Z"
   },
   {
    "duration": 284,
    "start_time": "2022-10-29T12:51:07.672Z"
   },
   {
    "duration": 270,
    "start_time": "2022-10-29T12:51:20.492Z"
   },
   {
    "duration": 24,
    "start_time": "2022-10-29T12:52:05.005Z"
   },
   {
    "duration": 290,
    "start_time": "2022-10-29T12:52:06.281Z"
   },
   {
    "duration": 25,
    "start_time": "2022-10-29T12:52:14.685Z"
   },
   {
    "duration": 368,
    "start_time": "2022-10-29T12:52:16.344Z"
   },
   {
    "duration": 250,
    "start_time": "2022-10-29T12:52:26.322Z"
   },
   {
    "duration": 256,
    "start_time": "2022-10-29T12:54:38.115Z"
   },
   {
    "duration": 7,
    "start_time": "2022-10-29T12:55:08.667Z"
   },
   {
    "duration": 17,
    "start_time": "2022-10-29T13:00:45.567Z"
   },
   {
    "duration": 369,
    "start_time": "2022-10-29T13:03:03.176Z"
   },
   {
    "duration": 335,
    "start_time": "2022-10-29T13:03:16.622Z"
   },
   {
    "duration": 15,
    "start_time": "2022-10-29T13:08:16.838Z"
   },
   {
    "duration": 1144,
    "start_time": "2022-10-29T13:08:58.718Z"
   },
   {
    "duration": 28,
    "start_time": "2022-10-29T13:09:07.403Z"
   },
   {
    "duration": 15,
    "start_time": "2022-10-29T13:13:50.318Z"
   },
   {
    "duration": 17,
    "start_time": "2022-10-29T13:13:51.932Z"
   },
   {
    "duration": 15,
    "start_time": "2022-10-29T13:13:55.237Z"
   },
   {
    "duration": 15,
    "start_time": "2022-10-29T13:13:57.047Z"
   },
   {
    "duration": 10,
    "start_time": "2022-10-29T13:20:43.645Z"
   },
   {
    "duration": 4,
    "start_time": "2022-10-29T13:26:12.202Z"
   },
   {
    "duration": 51,
    "start_time": "2022-10-29T13:26:23.084Z"
   },
   {
    "duration": 92,
    "start_time": "2022-10-29T13:47:57.057Z"
   },
   {
    "duration": 2280,
    "start_time": "2022-10-29T13:48:05.754Z"
   },
   {
    "duration": 11,
    "start_time": "2022-10-29T13:50:34.166Z"
   },
   {
    "duration": 11,
    "start_time": "2022-10-29T13:50:39.681Z"
   },
   {
    "duration": 9,
    "start_time": "2022-10-29T14:00:23.147Z"
   },
   {
    "duration": 17,
    "start_time": "2022-10-29T14:00:34.961Z"
   },
   {
    "duration": 20,
    "start_time": "2022-10-29T14:01:30.815Z"
   },
   {
    "duration": 18,
    "start_time": "2022-10-29T14:01:49.406Z"
   },
   {
    "duration": 13,
    "start_time": "2022-10-29T14:01:59.273Z"
   },
   {
    "duration": 61,
    "start_time": "2022-10-29T14:02:12.003Z"
   },
   {
    "duration": 19,
    "start_time": "2022-10-29T14:02:46.248Z"
   },
   {
    "duration": 1457,
    "start_time": "2022-10-29T14:03:10.862Z"
   },
   {
    "duration": 14,
    "start_time": "2022-10-29T14:14:46.181Z"
   },
   {
    "duration": 15,
    "start_time": "2022-10-29T14:20:14.488Z"
   },
   {
    "duration": 15,
    "start_time": "2022-10-29T14:21:14.618Z"
   },
   {
    "duration": 23,
    "start_time": "2022-10-29T14:21:17.386Z"
   },
   {
    "duration": 27,
    "start_time": "2022-10-29T14:21:25.291Z"
   },
   {
    "duration": 15,
    "start_time": "2022-10-29T14:21:52.879Z"
   },
   {
    "duration": 59,
    "start_time": "2022-10-29T14:24:31.748Z"
   },
   {
    "duration": 14,
    "start_time": "2022-10-29T14:24:48.601Z"
   },
   {
    "duration": 57,
    "start_time": "2022-10-29T14:24:52.115Z"
   },
   {
    "duration": 1356,
    "start_time": "2022-10-29T14:26:49.998Z"
   },
   {
    "duration": 743,
    "start_time": "2022-10-29T14:26:51.356Z"
   },
   {
    "duration": 17,
    "start_time": "2022-10-29T14:26:52.100Z"
   },
   {
    "duration": 118,
    "start_time": "2022-10-29T14:26:52.119Z"
   },
   {
    "duration": 453,
    "start_time": "2022-10-29T14:26:52.239Z"
   },
   {
    "duration": 483,
    "start_time": "2022-10-29T14:26:52.694Z"
   },
   {
    "duration": 74,
    "start_time": "2022-10-29T14:26:53.178Z"
   },
   {
    "duration": 5,
    "start_time": "2022-10-29T14:26:53.254Z"
   },
   {
    "duration": 51,
    "start_time": "2022-10-29T14:26:53.260Z"
   },
   {
    "duration": 166,
    "start_time": "2022-10-29T14:26:53.314Z"
   },
   {
    "duration": 165,
    "start_time": "2022-10-29T14:26:53.482Z"
   },
   {
    "duration": 20,
    "start_time": "2022-10-29T14:26:53.648Z"
   },
   {
    "duration": 4,
    "start_time": "2022-10-29T14:26:53.669Z"
   },
   {
    "duration": 112,
    "start_time": "2022-10-29T14:26:53.674Z"
   },
   {
    "duration": 350,
    "start_time": "2022-10-29T14:26:53.787Z"
   },
   {
    "duration": 32,
    "start_time": "2022-10-29T14:26:54.139Z"
   },
   {
    "duration": 6,
    "start_time": "2022-10-29T14:26:54.172Z"
   },
   {
    "duration": 43,
    "start_time": "2022-10-29T14:26:54.179Z"
   },
   {
    "duration": 6,
    "start_time": "2022-10-29T14:26:54.223Z"
   },
   {
    "duration": 259,
    "start_time": "2022-10-29T14:26:54.231Z"
   },
   {
    "duration": 263,
    "start_time": "2022-10-29T14:26:54.492Z"
   },
   {
    "duration": 266,
    "start_time": "2022-10-29T14:26:54.756Z"
   },
   {
    "duration": 22,
    "start_time": "2022-10-29T14:26:55.024Z"
   },
   {
    "duration": 262,
    "start_time": "2022-10-29T14:26:55.048Z"
   },
   {
    "duration": 7,
    "start_time": "2022-10-29T14:26:55.311Z"
   },
   {
    "duration": 18,
    "start_time": "2022-10-29T14:26:55.319Z"
   },
   {
    "duration": 16,
    "start_time": "2022-10-29T14:26:55.339Z"
   },
   {
    "duration": 14,
    "start_time": "2022-10-29T14:26:55.359Z"
   },
   {
    "duration": 42,
    "start_time": "2022-10-29T14:26:55.375Z"
   },
   {
    "duration": 18,
    "start_time": "2022-10-29T14:26:55.419Z"
   },
   {
    "duration": 17,
    "start_time": "2022-10-29T14:26:55.439Z"
   },
   {
    "duration": 18,
    "start_time": "2022-10-29T14:26:55.458Z"
   },
   {
    "duration": 31,
    "start_time": "2022-10-29T14:26:55.478Z"
   },
   {
    "duration": 15,
    "start_time": "2022-10-29T14:26:55.511Z"
   },
   {
    "duration": 15,
    "start_time": "2022-10-29T14:26:55.528Z"
   },
   {
    "duration": 15,
    "start_time": "2022-10-29T14:26:55.545Z"
   },
   {
    "duration": 81,
    "start_time": "2022-10-29T14:26:55.562Z"
   },
   {
    "duration": 13,
    "start_time": "2022-10-29T14:29:14.093Z"
   },
   {
    "duration": 133,
    "start_time": "2022-10-29T14:31:02.124Z"
   },
   {
    "duration": 61,
    "start_time": "2022-10-29T14:31:12.516Z"
   },
   {
    "duration": 61,
    "start_time": "2022-10-29T14:33:09.675Z"
   },
   {
    "duration": 643,
    "start_time": "2022-10-29T14:35:07.486Z"
   },
   {
    "duration": 20,
    "start_time": "2022-10-29T14:35:16.853Z"
   },
   {
    "duration": 9,
    "start_time": "2022-10-29T14:43:14.326Z"
   },
   {
    "duration": 3,
    "start_time": "2022-10-29T14:43:33.521Z"
   },
   {
    "duration": 154,
    "start_time": "2022-10-29T14:43:37.634Z"
   },
   {
    "duration": 165,
    "start_time": "2022-10-29T14:43:44.100Z"
   },
   {
    "duration": 17,
    "start_time": "2022-10-29T14:44:00.553Z"
   },
   {
    "duration": 567,
    "start_time": "2022-10-29T14:47:33.526Z"
   },
   {
    "duration": 170,
    "start_time": "2022-10-29T14:47:34.752Z"
   },
   {
    "duration": 253,
    "start_time": "2022-10-29T14:48:05.312Z"
   },
   {
    "duration": 146,
    "start_time": "2022-10-29T14:48:49.123Z"
   },
   {
    "duration": 15,
    "start_time": "2022-10-29T14:50:18.204Z"
   },
   {
    "duration": 3,
    "start_time": "2022-10-29T14:52:35.502Z"
   },
   {
    "duration": 3,
    "start_time": "2022-10-29T14:52:42.172Z"
   },
   {
    "duration": 4,
    "start_time": "2022-10-29T14:52:48.934Z"
   },
   {
    "duration": 17325,
    "start_time": "2022-10-29T14:52:56.989Z"
   },
   {
    "duration": 108,
    "start_time": "2022-10-29T14:53:19.300Z"
   },
   {
    "duration": 3,
    "start_time": "2022-10-29T14:56:06.513Z"
   },
   {
    "duration": 5,
    "start_time": "2022-10-29T14:56:12.444Z"
   },
   {
    "duration": 5,
    "start_time": "2022-10-29T14:56:20.043Z"
   },
   {
    "duration": 23349,
    "start_time": "2022-10-29T14:56:36.157Z"
   },
   {
    "duration": 4,
    "start_time": "2022-10-29T15:02:07.195Z"
   },
   {
    "duration": 89111,
    "start_time": "2022-10-29T15:09:03.427Z"
   },
   {
    "duration": 4,
    "start_time": "2022-10-29T15:11:49.688Z"
   },
   {
    "duration": 4,
    "start_time": "2022-10-29T15:12:06.233Z"
   },
   {
    "duration": 50210,
    "start_time": "2022-10-29T15:12:50.129Z"
   },
   {
    "duration": 1357,
    "start_time": "2022-10-29T15:15:06.720Z"
   },
   {
    "duration": 755,
    "start_time": "2022-10-29T15:15:08.080Z"
   },
   {
    "duration": 18,
    "start_time": "2022-10-29T15:15:08.836Z"
   },
   {
    "duration": 107,
    "start_time": "2022-10-29T15:15:08.856Z"
   },
   {
    "duration": 435,
    "start_time": "2022-10-29T15:15:08.964Z"
   },
   {
    "duration": 471,
    "start_time": "2022-10-29T15:15:09.401Z"
   },
   {
    "duration": 81,
    "start_time": "2022-10-29T15:15:09.873Z"
   },
   {
    "duration": 5,
    "start_time": "2022-10-29T15:15:09.955Z"
   },
   {
    "duration": 44,
    "start_time": "2022-10-29T15:15:09.962Z"
   },
   {
    "duration": 168,
    "start_time": "2022-10-29T15:15:10.009Z"
   },
   {
    "duration": 182,
    "start_time": "2022-10-29T15:15:10.178Z"
   },
   {
    "duration": 16,
    "start_time": "2022-10-29T15:15:10.361Z"
   },
   {
    "duration": 4,
    "start_time": "2022-10-29T15:15:10.378Z"
   },
   {
    "duration": 112,
    "start_time": "2022-10-29T15:15:10.384Z"
   },
   {
    "duration": 371,
    "start_time": "2022-10-29T15:15:10.497Z"
   },
   {
    "duration": 34,
    "start_time": "2022-10-29T15:15:10.871Z"
   },
   {
    "duration": 8,
    "start_time": "2022-10-29T15:15:10.907Z"
   },
   {
    "duration": 36,
    "start_time": "2022-10-29T15:15:10.917Z"
   },
   {
    "duration": 9,
    "start_time": "2022-10-29T15:15:10.955Z"
   },
   {
    "duration": 299,
    "start_time": "2022-10-29T15:15:10.966Z"
   },
   {
    "duration": 285,
    "start_time": "2022-10-29T15:15:11.267Z"
   },
   {
    "duration": 324,
    "start_time": "2022-10-29T15:15:11.554Z"
   },
   {
    "duration": 31,
    "start_time": "2022-10-29T15:15:11.879Z"
   },
   {
    "duration": 259,
    "start_time": "2022-10-29T15:15:11.911Z"
   },
   {
    "duration": 7,
    "start_time": "2022-10-29T15:15:12.172Z"
   },
   {
    "duration": 30,
    "start_time": "2022-10-29T15:15:12.180Z"
   },
   {
    "duration": 16,
    "start_time": "2022-10-29T15:15:12.211Z"
   },
   {
    "duration": 16,
    "start_time": "2022-10-29T15:15:12.232Z"
   },
   {
    "duration": 28,
    "start_time": "2022-10-29T15:15:12.250Z"
   },
   {
    "duration": 40,
    "start_time": "2022-10-29T15:15:12.280Z"
   },
   {
    "duration": 27,
    "start_time": "2022-10-29T15:15:12.323Z"
   },
   {
    "duration": 15,
    "start_time": "2022-10-29T15:15:12.352Z"
   },
   {
    "duration": 16,
    "start_time": "2022-10-29T15:15:12.369Z"
   },
   {
    "duration": 14,
    "start_time": "2022-10-29T15:15:12.405Z"
   },
   {
    "duration": 15,
    "start_time": "2022-10-29T15:15:12.420Z"
   },
   {
    "duration": 16,
    "start_time": "2022-10-29T15:15:12.437Z"
   },
   {
    "duration": 68,
    "start_time": "2022-10-29T15:15:12.455Z"
   },
   {
    "duration": 14,
    "start_time": "2022-10-29T15:15:12.525Z"
   },
   {
    "duration": 77,
    "start_time": "2022-10-29T15:15:12.540Z"
   },
   {
    "duration": 172,
    "start_time": "2022-10-29T15:15:12.619Z"
   },
   {
    "duration": 555,
    "start_time": "2022-10-29T15:15:12.793Z"
   },
   {
    "duration": 174,
    "start_time": "2022-10-29T15:15:13.350Z"
   },
   {
    "duration": 257,
    "start_time": "2022-10-29T15:15:13.525Z"
   },
   {
    "duration": 153,
    "start_time": "2022-10-29T15:15:13.784Z"
   },
   {
    "duration": 18566,
    "start_time": "2022-10-29T15:15:13.938Z"
   },
   {
    "duration": 120,
    "start_time": "2022-10-29T15:15:32.506Z"
   },
   {
    "duration": 6,
    "start_time": "2022-10-29T15:15:32.705Z"
   },
   {
    "duration": 52056,
    "start_time": "2022-10-29T15:15:32.713Z"
   },
   {
    "duration": 107,
    "start_time": "2022-10-29T15:16:24.771Z"
   },
   {
    "duration": 4,
    "start_time": "2022-10-29T15:16:41.386Z"
   },
   {
    "duration": 75,
    "start_time": "2022-10-29T15:21:58.863Z"
   },
   {
    "duration": 145,
    "start_time": "2022-10-29T15:22:49.090Z"
   },
   {
    "duration": 54228,
    "start_time": "2022-10-29T15:23:16.854Z"
   },
   {
    "duration": 3,
    "start_time": "2022-10-29T15:24:31.547Z"
   },
   {
    "duration": 3,
    "start_time": "2022-10-29T15:24:41.100Z"
   },
   {
    "duration": 3,
    "start_time": "2022-10-29T15:24:48.837Z"
   },
   {
    "duration": 3041,
    "start_time": "2022-10-29T15:27:02.355Z"
   },
   {
    "duration": 3130,
    "start_time": "2022-10-29T15:27:17.245Z"
   },
   {
    "duration": 131,
    "start_time": "2022-10-29T15:30:10.136Z"
   },
   {
    "duration": 5,
    "start_time": "2022-10-29T15:30:35.740Z"
   },
   {
    "duration": 3,
    "start_time": "2022-10-29T15:31:16.204Z"
   },
   {
    "duration": 5594622,
    "start_time": "2022-10-29T15:34:22.473Z"
   },
   {
    "duration": 168,
    "start_time": "2022-10-29T20:51:19.089Z"
   },
   {
    "duration": 5,
    "start_time": "2022-10-29T20:51:22.256Z"
   },
   {
    "duration": 3,
    "start_time": "2022-10-29T20:51:24.720Z"
   },
   {
    "duration": 3,
    "start_time": "2022-10-29T20:51:29.448Z"
   },
   {
    "duration": 5069,
    "start_time": "2022-10-29T20:51:30.685Z"
   },
   {
    "duration": 86,
    "start_time": "2022-10-29T20:51:40.278Z"
   },
   {
    "duration": 4,
    "start_time": "2022-10-29T20:51:43.042Z"
   },
   {
    "duration": 5,
    "start_time": "2022-10-29T20:51:49.667Z"
   },
   {
    "duration": 1605,
    "start_time": "2022-10-30T08:53:15.037Z"
   },
   {
    "duration": 1362,
    "start_time": "2022-10-30T09:09:17.740Z"
   },
   {
    "duration": 1075,
    "start_time": "2022-10-30T09:09:19.104Z"
   },
   {
    "duration": 17,
    "start_time": "2022-10-30T09:09:20.181Z"
   },
   {
    "duration": 128,
    "start_time": "2022-10-30T09:09:20.201Z"
   },
   {
    "duration": 408,
    "start_time": "2022-10-30T09:09:20.331Z"
   },
   {
    "duration": 452,
    "start_time": "2022-10-30T09:09:20.740Z"
   },
   {
    "duration": 89,
    "start_time": "2022-10-30T09:09:21.194Z"
   },
   {
    "duration": 6,
    "start_time": "2022-10-30T09:09:21.285Z"
   },
   {
    "duration": 47,
    "start_time": "2022-10-30T09:09:21.292Z"
   },
   {
    "duration": 185,
    "start_time": "2022-10-30T09:09:21.343Z"
   },
   {
    "duration": 180,
    "start_time": "2022-10-30T09:09:21.530Z"
   },
   {
    "duration": 15,
    "start_time": "2022-10-30T09:09:21.712Z"
   },
   {
    "duration": 4,
    "start_time": "2022-10-30T09:09:21.728Z"
   },
   {
    "duration": 130,
    "start_time": "2022-10-30T09:09:21.734Z"
   },
   {
    "duration": 370,
    "start_time": "2022-10-30T09:09:21.865Z"
   },
   {
    "duration": 30,
    "start_time": "2022-10-30T09:09:22.236Z"
   },
   {
    "duration": 6,
    "start_time": "2022-10-30T09:09:22.268Z"
   },
   {
    "duration": 49,
    "start_time": "2022-10-30T09:09:22.275Z"
   },
   {
    "duration": 5,
    "start_time": "2022-10-30T09:09:22.326Z"
   },
   {
    "duration": 293,
    "start_time": "2022-10-30T09:09:22.333Z"
   },
   {
    "duration": 359,
    "start_time": "2022-10-30T09:09:22.628Z"
   },
   {
    "duration": 292,
    "start_time": "2022-10-30T09:09:22.988Z"
   },
   {
    "duration": 32,
    "start_time": "2022-10-30T09:09:23.281Z"
   },
   {
    "duration": 281,
    "start_time": "2022-10-30T09:09:23.315Z"
   },
   {
    "duration": 11,
    "start_time": "2022-10-30T09:09:23.598Z"
   },
   {
    "duration": 50,
    "start_time": "2022-10-30T09:09:23.611Z"
   },
   {
    "duration": 37,
    "start_time": "2022-10-30T09:09:23.663Z"
   },
   {
    "duration": 32,
    "start_time": "2022-10-30T09:09:23.704Z"
   },
   {
    "duration": 19,
    "start_time": "2022-10-30T09:09:23.738Z"
   },
   {
    "duration": 24,
    "start_time": "2022-10-30T09:09:23.759Z"
   },
   {
    "duration": 18,
    "start_time": "2022-10-30T09:09:23.785Z"
   },
   {
    "duration": 20,
    "start_time": "2022-10-30T09:09:23.805Z"
   },
   {
    "duration": 20,
    "start_time": "2022-10-30T09:09:23.827Z"
   },
   {
    "duration": 23,
    "start_time": "2022-10-30T09:09:23.849Z"
   },
   {
    "duration": 17,
    "start_time": "2022-10-30T09:09:23.874Z"
   },
   {
    "duration": 30,
    "start_time": "2022-10-30T09:09:23.893Z"
   },
   {
    "duration": 63,
    "start_time": "2022-10-30T09:09:23.924Z"
   },
   {
    "duration": 30,
    "start_time": "2022-10-30T09:09:23.989Z"
   },
   {
    "duration": 49,
    "start_time": "2022-10-30T09:09:24.021Z"
   },
   {
    "duration": 195,
    "start_time": "2022-10-30T09:09:24.072Z"
   },
   {
    "duration": 428,
    "start_time": "2022-10-30T09:09:24.268Z"
   },
   {
    "duration": 144,
    "start_time": "2022-10-30T09:09:24.698Z"
   },
   {
    "duration": 213,
    "start_time": "2022-10-30T09:09:24.845Z"
   },
   {
    "duration": 161,
    "start_time": "2022-10-30T09:09:25.060Z"
   },
   {
    "duration": 24294,
    "start_time": "2022-10-30T09:09:25.223Z"
   },
   {
    "duration": 195,
    "start_time": "2022-10-30T09:09:49.519Z"
   },
   {
    "duration": 10,
    "start_time": "2022-10-30T09:09:49.717Z"
   },
   {
    "duration": 48265,
    "start_time": "2022-10-30T09:09:49.810Z"
   },
   {
    "duration": 116,
    "start_time": "2022-10-30T09:10:38.076Z"
   },
   {
    "duration": 8,
    "start_time": "2022-10-30T09:10:38.194Z"
   },
   {
    "duration": 4,
    "start_time": "2022-10-30T09:10:38.209Z"
   },
   {
    "duration": 4,
    "start_time": "2022-10-30T09:10:38.215Z"
   },
   {
    "duration": 5,
    "start_time": "2022-10-30T09:10:38.221Z"
   },
   {
    "duration": 4,
    "start_time": "2022-10-30T09:10:38.227Z"
   },
   {
    "duration": 3,
    "start_time": "2022-10-30T09:10:38.233Z"
   },
   {
    "duration": 4,
    "start_time": "2022-10-30T09:10:38.237Z"
   },
   {
    "duration": 5,
    "start_time": "2022-10-30T09:10:38.243Z"
   },
   {
    "duration": 166,
    "start_time": "2022-10-30T09:10:38.249Z"
   },
   {
    "duration": 0,
    "start_time": "2022-10-30T09:10:38.417Z"
   },
   {
    "duration": 0,
    "start_time": "2022-10-30T09:10:38.418Z"
   },
   {
    "duration": 0,
    "start_time": "2022-10-30T09:10:38.420Z"
   },
   {
    "duration": 0,
    "start_time": "2022-10-30T09:10:38.421Z"
   },
   {
    "duration": 0,
    "start_time": "2022-10-30T09:10:38.422Z"
   },
   {
    "duration": 4483,
    "start_time": "2022-10-30T09:11:30.809Z"
   },
   {
    "duration": 280,
    "start_time": "2022-10-30T09:11:49.553Z"
   },
   {
    "duration": 9262,
    "start_time": "2022-10-30T09:12:03.780Z"
   },
   {
    "duration": 93,
    "start_time": "2022-10-30T09:13:14.537Z"
   },
   {
    "duration": 5,
    "start_time": "2022-10-30T09:13:17.672Z"
   },
   {
    "duration": 60,
    "start_time": "2022-10-30T09:13:21.926Z"
   },
   {
    "duration": 13,
    "start_time": "2022-10-30T09:20:46.190Z"
   },
   {
    "duration": 3,
    "start_time": "2022-10-30T09:20:51.878Z"
   },
   {
    "duration": 9239,
    "start_time": "2022-10-30T09:20:52.707Z"
   },
   {
    "duration": 131,
    "start_time": "2022-10-30T09:21:15.383Z"
   },
   {
    "duration": 68,
    "start_time": "2022-10-30T09:21:18.480Z"
   },
   {
    "duration": 79,
    "start_time": "2022-10-30T09:25:16.910Z"
   },
   {
    "duration": 100,
    "start_time": "2022-10-30T09:25:52.350Z"
   },
   {
    "duration": 1085714,
    "start_time": "2022-10-30T09:25:53.403Z"
   },
   {
    "duration": 58,
    "start_time": "2022-10-30T09:45:33.194Z"
   },
   {
    "duration": 49,
    "start_time": "2022-10-30T09:45:44.362Z"
   },
   {
    "duration": 894,
    "start_time": "2022-10-30T09:45:47.821Z"
   },
   {
    "duration": 6,
    "start_time": "2022-10-30T09:45:50.960Z"
   },
   {
    "duration": 41,
    "start_time": "2022-10-30T09:49:06.539Z"
   },
   {
    "duration": 4,
    "start_time": "2022-10-30T09:49:43.530Z"
   },
   {
    "duration": 7,
    "start_time": "2022-10-30T09:49:50.155Z"
   },
   {
    "duration": 18,
    "start_time": "2022-10-30T09:53:22.978Z"
   },
   {
    "duration": 6,
    "start_time": "2022-10-30T09:53:55.760Z"
   },
   {
    "duration": 8,
    "start_time": "2022-10-30T09:53:59.931Z"
   },
   {
    "duration": 1433,
    "start_time": "2022-10-30T09:59:19.622Z"
   },
   {
    "duration": 754,
    "start_time": "2022-10-30T09:59:21.057Z"
   },
   {
    "duration": 16,
    "start_time": "2022-10-30T09:59:21.813Z"
   },
   {
    "duration": 144,
    "start_time": "2022-10-30T09:59:21.832Z"
   },
   {
    "duration": 444,
    "start_time": "2022-10-30T09:59:21.978Z"
   },
   {
    "duration": 525,
    "start_time": "2022-10-30T09:59:22.423Z"
   },
   {
    "duration": 87,
    "start_time": "2022-10-30T09:59:22.950Z"
   },
   {
    "duration": 6,
    "start_time": "2022-10-30T09:59:23.038Z"
   },
   {
    "duration": 35,
    "start_time": "2022-10-30T09:59:23.046Z"
   },
   {
    "duration": 200,
    "start_time": "2022-10-30T09:59:23.084Z"
   },
   {
    "duration": 217,
    "start_time": "2022-10-30T09:59:23.286Z"
   },
   {
    "duration": 14,
    "start_time": "2022-10-30T09:59:23.505Z"
   },
   {
    "duration": 4,
    "start_time": "2022-10-30T09:59:23.521Z"
   },
   {
    "duration": 130,
    "start_time": "2022-10-30T09:59:23.527Z"
   },
   {
    "duration": 391,
    "start_time": "2022-10-30T09:59:23.659Z"
   },
   {
    "duration": 24,
    "start_time": "2022-10-30T09:59:24.052Z"
   },
   {
    "duration": 7,
    "start_time": "2022-10-30T09:59:24.079Z"
   },
   {
    "duration": 46,
    "start_time": "2022-10-30T09:59:24.089Z"
   },
   {
    "duration": 6,
    "start_time": "2022-10-30T09:59:24.137Z"
   },
   {
    "duration": 288,
    "start_time": "2022-10-30T09:59:24.145Z"
   },
   {
    "duration": 307,
    "start_time": "2022-10-30T09:59:24.435Z"
   },
   {
    "duration": 290,
    "start_time": "2022-10-30T09:59:24.744Z"
   },
   {
    "duration": 25,
    "start_time": "2022-10-30T09:59:25.036Z"
   },
   {
    "duration": 271,
    "start_time": "2022-10-30T09:59:25.063Z"
   },
   {
    "duration": 8,
    "start_time": "2022-10-30T09:59:25.335Z"
   },
   {
    "duration": 22,
    "start_time": "2022-10-30T09:59:25.345Z"
   },
   {
    "duration": 16,
    "start_time": "2022-10-30T09:59:25.369Z"
   },
   {
    "duration": 34,
    "start_time": "2022-10-30T09:59:25.389Z"
   },
   {
    "duration": 22,
    "start_time": "2022-10-30T09:59:25.425Z"
   },
   {
    "duration": 26,
    "start_time": "2022-10-30T09:59:25.449Z"
   },
   {
    "duration": 18,
    "start_time": "2022-10-30T09:59:25.477Z"
   },
   {
    "duration": 14,
    "start_time": "2022-10-30T09:59:25.509Z"
   },
   {
    "duration": 24,
    "start_time": "2022-10-30T09:59:25.525Z"
   },
   {
    "duration": 29,
    "start_time": "2022-10-30T09:59:25.553Z"
   },
   {
    "duration": 24,
    "start_time": "2022-10-30T09:59:25.584Z"
   },
   {
    "duration": 29,
    "start_time": "2022-10-30T09:59:25.610Z"
   },
   {
    "duration": 88,
    "start_time": "2022-10-30T09:59:25.640Z"
   },
   {
    "duration": 14,
    "start_time": "2022-10-30T09:59:25.729Z"
   },
   {
    "duration": 64,
    "start_time": "2022-10-30T09:59:25.745Z"
   },
   {
    "duration": 168,
    "start_time": "2022-10-30T09:59:25.812Z"
   },
   {
    "duration": 453,
    "start_time": "2022-10-30T09:59:25.982Z"
   },
   {
    "duration": 129,
    "start_time": "2022-10-30T09:59:26.437Z"
   },
   {
    "duration": 200,
    "start_time": "2022-10-30T09:59:26.568Z"
   },
   {
    "duration": 181,
    "start_time": "2022-10-30T09:59:26.770Z"
   },
   {
    "duration": 19064,
    "start_time": "2022-10-30T09:59:26.953Z"
   },
   {
    "duration": 195,
    "start_time": "2022-10-30T09:59:46.019Z"
   },
   {
    "duration": 92,
    "start_time": "2022-10-30T09:59:46.218Z"
   },
   {
    "duration": 47770,
    "start_time": "2022-10-30T09:59:46.312Z"
   },
   {
    "duration": 112,
    "start_time": "2022-10-30T10:00:34.085Z"
   },
   {
    "duration": 12,
    "start_time": "2022-10-30T10:00:34.199Z"
   },
   {
    "duration": 7,
    "start_time": "2022-10-30T10:00:34.213Z"
   },
   {
    "duration": 1349747,
    "start_time": "2022-10-30T10:00:34.222Z"
   },
   {
    "duration": 214,
    "start_time": "2022-10-30T10:23:03.971Z"
   },
   {
    "duration": 5,
    "start_time": "2022-10-30T10:23:04.187Z"
   },
   {
    "duration": 21,
    "start_time": "2022-10-30T10:23:04.194Z"
   },
   {
    "duration": 6,
    "start_time": "2022-10-30T10:23:04.217Z"
   },
   {
    "duration": 9722,
    "start_time": "2022-10-30T10:23:04.225Z"
   },
   {
    "duration": 105,
    "start_time": "2022-10-30T10:23:13.949Z"
   },
   {
    "duration": 6,
    "start_time": "2022-10-30T10:23:14.055Z"
   },
   {
    "duration": 152,
    "start_time": "2022-10-30T10:23:14.062Z"
   },
   {
    "duration": 0,
    "start_time": "2022-10-30T10:23:14.216Z"
   },
   {
    "duration": 0,
    "start_time": "2022-10-30T10:23:14.217Z"
   },
   {
    "duration": 0,
    "start_time": "2022-10-30T10:23:14.218Z"
   },
   {
    "duration": 0,
    "start_time": "2022-10-30T10:23:14.219Z"
   },
   {
    "duration": 143,
    "start_time": "2022-10-30T10:44:06.883Z"
   },
   {
    "duration": 429733,
    "start_time": "2022-10-30T10:44:08.377Z"
   },
   {
    "duration": 882,
    "start_time": "2022-10-30T10:57:57.932Z"
   },
   {
    "duration": 6,
    "start_time": "2022-10-30T10:58:01.261Z"
   },
   {
    "duration": 11,
    "start_time": "2022-10-30T11:00:38.627Z"
   },
   {
    "duration": 10,
    "start_time": "2022-10-30T11:01:06.125Z"
   },
   {
    "duration": 150,
    "start_time": "2022-10-30T11:01:30.054Z"
   },
   {
    "duration": 3,
    "start_time": "2022-10-30T11:03:31.960Z"
   },
   {
    "duration": 5,
    "start_time": "2022-10-30T11:07:59.577Z"
   },
   {
    "duration": 1429,
    "start_time": "2022-10-30T11:08:21.637Z"
   },
   {
    "duration": 764,
    "start_time": "2022-10-30T11:08:23.068Z"
   },
   {
    "duration": 19,
    "start_time": "2022-10-30T11:08:23.834Z"
   },
   {
    "duration": 137,
    "start_time": "2022-10-30T11:08:23.855Z"
   },
   {
    "duration": 441,
    "start_time": "2022-10-30T11:08:23.993Z"
   },
   {
    "duration": 443,
    "start_time": "2022-10-30T11:08:24.436Z"
   },
   {
    "duration": 90,
    "start_time": "2022-10-30T11:08:24.881Z"
   },
   {
    "duration": 7,
    "start_time": "2022-10-30T11:08:24.973Z"
   },
   {
    "duration": 46,
    "start_time": "2022-10-30T11:08:24.981Z"
   },
   {
    "duration": 174,
    "start_time": "2022-10-30T11:08:25.029Z"
   },
   {
    "duration": 175,
    "start_time": "2022-10-30T11:08:25.209Z"
   },
   {
    "duration": 24,
    "start_time": "2022-10-30T11:08:25.386Z"
   },
   {
    "duration": 4,
    "start_time": "2022-10-30T11:08:25.411Z"
   },
   {
    "duration": 121,
    "start_time": "2022-10-30T11:08:25.417Z"
   },
   {
    "duration": 351,
    "start_time": "2022-10-30T11:08:25.539Z"
   },
   {
    "duration": 33,
    "start_time": "2022-10-30T11:08:25.892Z"
   },
   {
    "duration": 29,
    "start_time": "2022-10-30T11:08:25.926Z"
   },
   {
    "duration": 41,
    "start_time": "2022-10-30T11:08:25.957Z"
   },
   {
    "duration": 8,
    "start_time": "2022-10-30T11:08:26.000Z"
   },
   {
    "duration": 253,
    "start_time": "2022-10-30T11:08:26.009Z"
   },
   {
    "duration": 287,
    "start_time": "2022-10-30T11:08:26.264Z"
   },
   {
    "duration": 281,
    "start_time": "2022-10-30T11:08:26.553Z"
   },
   {
    "duration": 26,
    "start_time": "2022-10-30T11:08:26.836Z"
   },
   {
    "duration": 280,
    "start_time": "2022-10-30T11:08:26.863Z"
   },
   {
    "duration": 9,
    "start_time": "2022-10-30T11:08:27.145Z"
   },
   {
    "duration": 19,
    "start_time": "2022-10-30T11:08:27.155Z"
   },
   {
    "duration": 33,
    "start_time": "2022-10-30T11:08:27.176Z"
   },
   {
    "duration": 14,
    "start_time": "2022-10-30T11:08:27.213Z"
   },
   {
    "duration": 31,
    "start_time": "2022-10-30T11:08:27.229Z"
   },
   {
    "duration": 17,
    "start_time": "2022-10-30T11:08:27.261Z"
   },
   {
    "duration": 29,
    "start_time": "2022-10-30T11:08:27.280Z"
   },
   {
    "duration": 18,
    "start_time": "2022-10-30T11:08:27.310Z"
   },
   {
    "duration": 26,
    "start_time": "2022-10-30T11:08:27.329Z"
   },
   {
    "duration": 18,
    "start_time": "2022-10-30T11:08:27.357Z"
   },
   {
    "duration": 16,
    "start_time": "2022-10-30T11:08:27.376Z"
   },
   {
    "duration": 29,
    "start_time": "2022-10-30T11:08:27.394Z"
   },
   {
    "duration": 85,
    "start_time": "2022-10-30T11:08:27.425Z"
   },
   {
    "duration": 14,
    "start_time": "2022-10-30T11:08:27.512Z"
   },
   {
    "duration": 46,
    "start_time": "2022-10-30T11:08:27.528Z"
   },
   {
    "duration": 184,
    "start_time": "2022-10-30T11:08:27.576Z"
   },
   {
    "duration": 428,
    "start_time": "2022-10-30T11:08:27.762Z"
   },
   {
    "duration": 140,
    "start_time": "2022-10-30T11:08:28.191Z"
   },
   {
    "duration": 193,
    "start_time": "2022-10-30T11:08:28.332Z"
   },
   {
    "duration": 162,
    "start_time": "2022-10-30T11:08:28.526Z"
   },
   {
    "duration": 23325,
    "start_time": "2022-10-30T11:08:28.689Z"
   },
   {
    "duration": 121,
    "start_time": "2022-10-30T11:08:52.016Z"
   },
   {
    "duration": 9,
    "start_time": "2022-10-30T11:08:52.213Z"
   },
   {
    "duration": 47585,
    "start_time": "2022-10-30T11:08:52.310Z"
   },
   {
    "duration": 112,
    "start_time": "2022-10-30T11:09:39.897Z"
   },
   {
    "duration": 6,
    "start_time": "2022-10-30T11:09:40.010Z"
   },
   {
    "duration": 5,
    "start_time": "2022-10-30T11:09:40.018Z"
   },
   {
    "duration": 1344214,
    "start_time": "2022-10-30T11:09:40.025Z"
   },
   {
    "duration": 208,
    "start_time": "2022-10-30T11:32:04.240Z"
   },
   {
    "duration": 4,
    "start_time": "2022-10-30T11:32:04.450Z"
   },
   {
    "duration": 6,
    "start_time": "2022-10-30T11:32:04.456Z"
   },
   {
    "duration": 5,
    "start_time": "2022-10-30T11:32:04.463Z"
   },
   {
    "duration": 10452,
    "start_time": "2022-10-30T11:32:04.470Z"
   },
   {
    "duration": 121,
    "start_time": "2022-10-30T11:32:14.924Z"
   },
   {
    "duration": 5,
    "start_time": "2022-10-30T11:32:15.047Z"
   },
   {
    "duration": 147,
    "start_time": "2022-10-30T11:32:15.053Z"
   },
   {
    "duration": 831613,
    "start_time": "2022-10-30T11:32:15.201Z"
   },
   {
    "duration": 996,
    "start_time": "2022-10-30T11:46:06.816Z"
   },
   {
    "duration": 14,
    "start_time": "2022-10-30T11:46:07.815Z"
   },
   {
    "duration": 23,
    "start_time": "2022-10-30T11:46:07.831Z"
   },
   {
    "duration": 201,
    "start_time": "2022-10-30T11:46:07.857Z"
   },
   {
    "duration": 4,
    "start_time": "2022-10-30T11:48:05.824Z"
   },
   {
    "duration": 1435,
    "start_time": "2022-10-30T11:48:19.420Z"
   },
   {
    "duration": 834,
    "start_time": "2022-10-30T11:48:23.325Z"
   },
   {
    "duration": 18,
    "start_time": "2022-10-30T11:48:25.725Z"
   },
   {
    "duration": 122,
    "start_time": "2022-10-30T11:48:28.655Z"
   },
   {
    "duration": 496,
    "start_time": "2022-10-30T11:48:32.480Z"
   },
   {
    "duration": 486,
    "start_time": "2022-10-30T11:48:34.663Z"
   },
   {
    "duration": 90,
    "start_time": "2022-10-30T11:48:36.479Z"
   },
   {
    "duration": 7,
    "start_time": "2022-10-30T11:48:39.590Z"
   },
   {
    "duration": 37,
    "start_time": "2022-10-30T11:48:41.559Z"
   },
   {
    "duration": 237,
    "start_time": "2022-10-30T11:48:42.731Z"
   },
   {
    "duration": 208,
    "start_time": "2022-10-30T11:48:44.026Z"
   },
   {
    "duration": 15,
    "start_time": "2022-10-30T11:48:47.342Z"
   },
   {
    "duration": 5,
    "start_time": "2022-10-30T11:48:48.224Z"
   },
   {
    "duration": 148,
    "start_time": "2022-10-30T11:48:49.232Z"
   },
   {
    "duration": 417,
    "start_time": "2022-10-30T11:48:52.495Z"
   },
   {
    "duration": 25,
    "start_time": "2022-10-30T11:48:53.843Z"
   },
   {
    "duration": 8,
    "start_time": "2022-10-30T11:48:55.222Z"
   },
   {
    "duration": 27,
    "start_time": "2022-10-30T11:48:57.623Z"
   },
   {
    "duration": 6,
    "start_time": "2022-10-30T11:48:58.151Z"
   },
   {
    "duration": 263,
    "start_time": "2022-10-30T11:48:58.735Z"
   },
   {
    "duration": 290,
    "start_time": "2022-10-30T11:49:02.084Z"
   },
   {
    "duration": 298,
    "start_time": "2022-10-30T11:49:03.442Z"
   },
   {
    "duration": 25,
    "start_time": "2022-10-30T11:49:06.181Z"
   },
   {
    "duration": 272,
    "start_time": "2022-10-30T11:49:06.567Z"
   },
   {
    "duration": 7,
    "start_time": "2022-10-30T11:49:08.959Z"
   },
   {
    "duration": 28,
    "start_time": "2022-10-30T11:49:11.410Z"
   },
   {
    "duration": 29,
    "start_time": "2022-10-30T11:49:13.152Z"
   },
   {
    "duration": 18,
    "start_time": "2022-10-30T11:49:16.070Z"
   },
   {
    "duration": 21,
    "start_time": "2022-10-30T11:49:16.842Z"
   },
   {
    "duration": 16,
    "start_time": "2022-10-30T11:49:17.760Z"
   },
   {
    "duration": 18,
    "start_time": "2022-10-30T11:49:18.538Z"
   },
   {
    "duration": 22,
    "start_time": "2022-10-30T11:49:21.304Z"
   },
   {
    "duration": 17,
    "start_time": "2022-10-30T11:49:22.047Z"
   },
   {
    "duration": 16,
    "start_time": "2022-10-30T11:49:22.935Z"
   },
   {
    "duration": 17,
    "start_time": "2022-10-30T11:49:23.647Z"
   },
   {
    "duration": 18,
    "start_time": "2022-10-30T11:49:24.498Z"
   },
   {
    "duration": 63,
    "start_time": "2022-10-30T11:49:25.422Z"
   },
   {
    "duration": 15,
    "start_time": "2022-10-30T11:49:28.897Z"
   },
   {
    "duration": 51,
    "start_time": "2022-10-30T11:49:29.636Z"
   },
   {
    "duration": 188,
    "start_time": "2022-10-30T11:49:30.980Z"
   },
   {
    "duration": 469,
    "start_time": "2022-10-30T11:49:33.509Z"
   },
   {
    "duration": 134,
    "start_time": "2022-10-30T11:49:33.980Z"
   },
   {
    "duration": 204,
    "start_time": "2022-10-30T11:49:34.166Z"
   },
   {
    "duration": 175,
    "start_time": "2022-10-30T11:49:34.497Z"
   },
   {
    "duration": 18752,
    "start_time": "2022-10-30T11:49:37.973Z"
   },
   {
    "duration": 129,
    "start_time": "2022-10-30T11:49:58.384Z"
   },
   {
    "duration": 5,
    "start_time": "2022-10-30T11:49:59.576Z"
   },
   {
    "duration": 52067,
    "start_time": "2022-10-30T11:50:03.225Z"
   },
   {
    "duration": 107,
    "start_time": "2022-10-30T11:50:58.463Z"
   },
   {
    "duration": 4,
    "start_time": "2022-10-30T11:51:00.082Z"
   },
   {
    "duration": 3,
    "start_time": "2022-10-30T11:51:01.802Z"
   },
   {
    "duration": 1396875,
    "start_time": "2022-10-30T11:51:09.343Z"
   },
   {
    "duration": 226,
    "start_time": "2022-10-30T12:15:35.339Z"
   },
   {
    "duration": 7,
    "start_time": "2022-10-30T12:15:37.257Z"
   },
   {
    "duration": 5,
    "start_time": "2022-10-30T12:15:39.794Z"
   },
   {
    "duration": 4,
    "start_time": "2022-10-30T12:15:41.608Z"
   },
   {
    "duration": 11232,
    "start_time": "2022-10-30T12:15:42.609Z"
   },
   {
    "duration": 102,
    "start_time": "2022-10-30T12:15:56.541Z"
   },
   {
    "duration": 6,
    "start_time": "2022-10-30T12:15:58.386Z"
   },
   {
    "duration": 141,
    "start_time": "2022-10-30T12:16:01.301Z"
   },
   {
    "duration": 940937,
    "start_time": "2022-10-30T12:16:01.989Z"
   },
   {
    "duration": 878,
    "start_time": "2022-10-30T12:34:38.345Z"
   },
   {
    "duration": 5,
    "start_time": "2022-10-30T12:34:41.480Z"
   },
   {
    "duration": 11,
    "start_time": "2022-10-30T12:34:45.870Z"
   },
   {
    "duration": 1605,
    "start_time": "2022-10-31T07:47:26.900Z"
   },
   {
    "duration": 1123,
    "start_time": "2022-10-31T07:47:29.861Z"
   },
   {
    "duration": 25,
    "start_time": "2022-10-31T07:48:02.839Z"
   },
   {
    "duration": 15,
    "start_time": "2022-10-31T07:50:16.039Z"
   },
   {
    "duration": 117,
    "start_time": "2022-10-31T07:50:20.053Z"
   },
   {
    "duration": 467,
    "start_time": "2022-10-31T07:50:23.295Z"
   },
   {
    "duration": 481,
    "start_time": "2022-10-31T07:50:24.710Z"
   },
   {
    "duration": 79,
    "start_time": "2022-10-31T07:50:31.211Z"
   },
   {
    "duration": 6,
    "start_time": "2022-10-31T07:50:33.306Z"
   },
   {
    "duration": 291,
    "start_time": "2022-10-31T07:51:11.459Z"
   },
   {
    "duration": 268,
    "start_time": "2022-10-31T07:51:24.475Z"
   },
   {
    "duration": 255,
    "start_time": "2022-10-31T07:51:32.761Z"
   },
   {
    "duration": 264,
    "start_time": "2022-10-31T07:51:39.722Z"
   },
   {
    "duration": 790,
    "start_time": "2022-10-31T07:52:11.609Z"
   },
   {
    "duration": 786,
    "start_time": "2022-10-31T07:52:33.577Z"
   },
   {
    "duration": 56,
    "start_time": "2022-10-31T07:52:40.498Z"
   },
   {
    "duration": 813,
    "start_time": "2022-10-31T07:52:49.489Z"
   },
   {
    "duration": 1460,
    "start_time": "2022-10-31T07:54:52.996Z"
   },
   {
    "duration": 867,
    "start_time": "2022-10-31T07:54:55.141Z"
   },
   {
    "duration": 19,
    "start_time": "2022-10-31T07:54:56.621Z"
   },
   {
    "duration": 126,
    "start_time": "2022-10-31T07:54:58.224Z"
   },
   {
    "duration": 468,
    "start_time": "2022-10-31T07:55:00.322Z"
   },
   {
    "duration": 489,
    "start_time": "2022-10-31T07:55:01.705Z"
   },
   {
    "duration": 76,
    "start_time": "2022-10-31T07:55:04.137Z"
   },
   {
    "duration": 6,
    "start_time": "2022-10-31T07:55:05.546Z"
   },
   {
    "duration": 792,
    "start_time": "2022-10-31T07:55:08.844Z"
   },
   {
    "duration": 32,
    "start_time": "2022-10-31T07:55:10.380Z"
   },
   {
    "duration": 1047,
    "start_time": "2022-10-31T07:56:23.030Z"
   },
   {
    "duration": 4,
    "start_time": "2022-10-31T07:57:01.493Z"
   },
   {
    "duration": 745,
    "start_time": "2022-10-31T07:57:03.195Z"
   },
   {
    "duration": 13,
    "start_time": "2022-10-31T07:57:04.310Z"
   },
   {
    "duration": 109,
    "start_time": "2022-10-31T07:57:05.556Z"
   },
   {
    "duration": 386,
    "start_time": "2022-10-31T07:57:08.270Z"
   },
   {
    "duration": 420,
    "start_time": "2022-10-31T07:57:10.034Z"
   },
   {
    "duration": 77,
    "start_time": "2022-10-31T07:57:13.914Z"
   },
   {
    "duration": 6,
    "start_time": "2022-10-31T07:57:15.869Z"
   },
   {
    "duration": 1486,
    "start_time": "2022-10-31T07:57:18.445Z"
   },
   {
    "duration": 806,
    "start_time": "2022-10-31T07:58:30.120Z"
   },
   {
    "duration": 1629,
    "start_time": "2022-10-31T08:04:37.660Z"
   },
   {
    "duration": 848,
    "start_time": "2022-10-31T08:04:40.501Z"
   },
   {
    "duration": 23,
    "start_time": "2022-10-31T08:04:41.604Z"
   },
   {
    "duration": 177,
    "start_time": "2022-10-31T08:04:43.077Z"
   },
   {
    "duration": 552,
    "start_time": "2022-10-31T08:04:44.876Z"
   },
   {
    "duration": 522,
    "start_time": "2022-10-31T08:04:45.963Z"
   },
   {
    "duration": 80,
    "start_time": "2022-10-31T08:04:47.810Z"
   },
   {
    "duration": 6,
    "start_time": "2022-10-31T08:04:48.906Z"
   },
   {
    "duration": 859,
    "start_time": "2022-10-31T08:04:52.291Z"
   },
   {
    "duration": 43,
    "start_time": "2022-10-31T08:04:54.861Z"
   },
   {
    "duration": 175,
    "start_time": "2022-10-31T08:04:58.762Z"
   },
   {
    "duration": 162,
    "start_time": "2022-10-31T08:05:03.826Z"
   },
   {
    "duration": 17,
    "start_time": "2022-10-31T08:05:06.290Z"
   },
   {
    "duration": 5,
    "start_time": "2022-10-31T08:05:12.012Z"
   },
   {
    "duration": 111,
    "start_time": "2022-10-31T08:05:16.338Z"
   },
   {
    "duration": 381,
    "start_time": "2022-10-31T08:05:34.300Z"
   },
   {
    "duration": 25,
    "start_time": "2022-10-31T08:05:45.691Z"
   },
   {
    "duration": 7,
    "start_time": "2022-10-31T08:05:48.658Z"
   },
   {
    "duration": 25,
    "start_time": "2022-10-31T08:05:54.051Z"
   },
   {
    "duration": 7,
    "start_time": "2022-10-31T08:06:02.699Z"
   },
   {
    "duration": 266,
    "start_time": "2022-10-31T08:06:04.764Z"
   },
   {
    "duration": 290,
    "start_time": "2022-10-31T08:06:10.644Z"
   },
   {
    "duration": 286,
    "start_time": "2022-10-31T08:06:13.924Z"
   },
   {
    "duration": 25,
    "start_time": "2022-10-31T08:06:17.035Z"
   },
   {
    "duration": 278,
    "start_time": "2022-10-31T08:06:17.637Z"
   },
   {
    "duration": 7,
    "start_time": "2022-10-31T08:06:21.513Z"
   },
   {
    "duration": 18,
    "start_time": "2022-10-31T08:06:23.780Z"
   },
   {
    "duration": 17,
    "start_time": "2022-10-31T08:06:27.523Z"
   },
   {
    "duration": 14,
    "start_time": "2022-10-31T08:06:28.491Z"
   },
   {
    "duration": 16,
    "start_time": "2022-10-31T08:06:29.436Z"
   },
   {
    "duration": 15,
    "start_time": "2022-10-31T08:06:30.492Z"
   },
   {
    "duration": 17,
    "start_time": "2022-10-31T08:06:31.564Z"
   },
   {
    "duration": 15,
    "start_time": "2022-10-31T08:06:34.314Z"
   },
   {
    "duration": 17,
    "start_time": "2022-10-31T08:06:35.363Z"
   },
   {
    "duration": 19,
    "start_time": "2022-10-31T08:06:36.565Z"
   },
   {
    "duration": 16,
    "start_time": "2022-10-31T08:06:37.659Z"
   },
   {
    "duration": 16,
    "start_time": "2022-10-31T08:06:38.813Z"
   },
   {
    "duration": 69,
    "start_time": "2022-10-31T08:06:40.267Z"
   },
   {
    "duration": 4,
    "start_time": "2022-10-31T08:19:41.005Z"
   },
   {
    "duration": 15,
    "start_time": "2022-10-31T08:24:15.373Z"
   },
   {
    "duration": 60,
    "start_time": "2022-10-31T08:24:18.294Z"
   },
   {
    "duration": 169,
    "start_time": "2022-10-31T08:24:33.804Z"
   },
   {
    "duration": 3,
    "start_time": "2022-10-31T08:27:53.736Z"
   },
   {
    "duration": 110,
    "start_time": "2022-10-31T08:31:55.018Z"
   },
   {
    "duration": 511,
    "start_time": "2022-10-31T08:37:13.276Z"
   },
   {
    "duration": 4,
    "start_time": "2022-10-31T08:37:19.892Z"
   },
   {
    "duration": 8043,
    "start_time": "2022-10-31T08:38:18.205Z"
   },
   {
    "duration": 1480,
    "start_time": "2022-10-31T08:38:57.145Z"
   },
   {
    "duration": 830,
    "start_time": "2022-10-31T08:38:58.627Z"
   },
   {
    "duration": 18,
    "start_time": "2022-10-31T08:38:59.459Z"
   },
   {
    "duration": 133,
    "start_time": "2022-10-31T08:38:59.480Z"
   },
   {
    "duration": 478,
    "start_time": "2022-10-31T08:38:59.615Z"
   },
   {
    "duration": 524,
    "start_time": "2022-10-31T08:39:00.095Z"
   },
   {
    "duration": 90,
    "start_time": "2022-10-31T08:39:00.621Z"
   },
   {
    "duration": 6,
    "start_time": "2022-10-31T08:39:00.713Z"
   },
   {
    "duration": 888,
    "start_time": "2022-10-31T08:39:01.529Z"
   },
   {
    "duration": 37,
    "start_time": "2022-10-31T08:39:02.419Z"
   },
   {
    "duration": 188,
    "start_time": "2022-10-31T08:39:02.657Z"
   },
   {
    "duration": 174,
    "start_time": "2022-10-31T08:39:03.145Z"
   },
   {
    "duration": 16,
    "start_time": "2022-10-31T08:39:03.840Z"
   },
   {
    "duration": 4,
    "start_time": "2022-10-31T08:39:04.098Z"
   },
   {
    "duration": 109,
    "start_time": "2022-10-31T08:39:04.785Z"
   },
   {
    "duration": 377,
    "start_time": "2022-10-31T08:39:05.500Z"
   },
   {
    "duration": 26,
    "start_time": "2022-10-31T08:39:05.976Z"
   },
   {
    "duration": 6,
    "start_time": "2022-10-31T08:39:06.665Z"
   },
   {
    "duration": 26,
    "start_time": "2022-10-31T08:39:07.075Z"
   },
   {
    "duration": 6,
    "start_time": "2022-10-31T08:39:07.955Z"
   },
   {
    "duration": 302,
    "start_time": "2022-10-31T08:39:08.409Z"
   },
   {
    "duration": 302,
    "start_time": "2022-10-31T08:39:09.168Z"
   },
   {
    "duration": 291,
    "start_time": "2022-10-31T08:39:09.690Z"
   },
   {
    "duration": 24,
    "start_time": "2022-10-31T08:39:10.195Z"
   },
   {
    "duration": 302,
    "start_time": "2022-10-31T08:39:10.475Z"
   },
   {
    "duration": 9,
    "start_time": "2022-10-31T08:39:11.256Z"
   },
   {
    "duration": 21,
    "start_time": "2022-10-31T08:39:11.979Z"
   },
   {
    "duration": 16,
    "start_time": "2022-10-31T08:39:12.977Z"
   },
   {
    "duration": 14,
    "start_time": "2022-10-31T08:39:13.476Z"
   },
   {
    "duration": 15,
    "start_time": "2022-10-31T08:39:13.956Z"
   },
   {
    "duration": 15,
    "start_time": "2022-10-31T08:39:14.489Z"
   },
   {
    "duration": 30,
    "start_time": "2022-10-31T08:39:14.995Z"
   },
   {
    "duration": 23,
    "start_time": "2022-10-31T08:39:15.895Z"
   },
   {
    "duration": 18,
    "start_time": "2022-10-31T08:39:16.444Z"
   },
   {
    "duration": 22,
    "start_time": "2022-10-31T08:39:16.987Z"
   },
   {
    "duration": 16,
    "start_time": "2022-10-31T08:39:18.347Z"
   },
   {
    "duration": 16,
    "start_time": "2022-10-31T08:39:18.865Z"
   },
   {
    "duration": 62,
    "start_time": "2022-10-31T08:39:19.761Z"
   },
   {
    "duration": 13,
    "start_time": "2022-10-31T08:39:23.195Z"
   },
   {
    "duration": 62,
    "start_time": "2022-10-31T08:39:23.849Z"
   },
   {
    "duration": 173,
    "start_time": "2022-10-31T08:39:26.168Z"
   },
   {
    "duration": 8226,
    "start_time": "2022-10-31T08:39:28.306Z"
   },
   {
    "duration": 569,
    "start_time": "2022-10-31T08:40:16.779Z"
   },
   {
    "duration": 16,
    "start_time": "2022-10-31T08:40:25.913Z"
   },
   {
    "duration": 4,
    "start_time": "2022-10-31T08:40:30.229Z"
   },
   {
    "duration": 3,
    "start_time": "2022-10-31T08:41:22.692Z"
   },
   {
    "duration": 1385,
    "start_time": "2022-10-31T09:54:19.346Z"
   },
   {
    "duration": 1088,
    "start_time": "2022-10-31T09:54:20.733Z"
   },
   {
    "duration": 18,
    "start_time": "2022-10-31T09:54:21.822Z"
   },
   {
    "duration": 128,
    "start_time": "2022-10-31T09:54:21.842Z"
   },
   {
    "duration": 470,
    "start_time": "2022-10-31T09:54:21.976Z"
   },
   {
    "duration": 522,
    "start_time": "2022-10-31T09:54:22.448Z"
   },
   {
    "duration": 78,
    "start_time": "2022-10-31T09:54:22.976Z"
   },
   {
    "duration": 5,
    "start_time": "2022-10-31T09:54:23.055Z"
   },
   {
    "duration": 850,
    "start_time": "2022-10-31T09:54:23.076Z"
   },
   {
    "duration": 37,
    "start_time": "2022-10-31T09:54:23.927Z"
   },
   {
    "duration": 191,
    "start_time": "2022-10-31T09:54:23.977Z"
   },
   {
    "duration": 186,
    "start_time": "2022-10-31T09:54:24.170Z"
   },
   {
    "duration": 27,
    "start_time": "2022-10-31T09:54:24.358Z"
   },
   {
    "duration": 5,
    "start_time": "2022-10-31T09:54:24.387Z"
   },
   {
    "duration": 125,
    "start_time": "2022-10-31T09:54:24.394Z"
   },
   {
    "duration": 395,
    "start_time": "2022-10-31T09:54:24.521Z"
   },
   {
    "duration": 31,
    "start_time": "2022-10-31T09:54:24.918Z"
   },
   {
    "duration": 8,
    "start_time": "2022-10-31T09:54:25.345Z"
   },
   {
    "duration": 41,
    "start_time": "2022-10-31T09:54:25.788Z"
   },
   {
    "duration": 8,
    "start_time": "2022-10-31T09:54:26.746Z"
   },
   {
    "duration": 273,
    "start_time": "2022-10-31T09:54:27.234Z"
   },
   {
    "duration": 321,
    "start_time": "2022-10-31T09:54:27.946Z"
   },
   {
    "duration": 296,
    "start_time": "2022-10-31T09:54:28.443Z"
   },
   {
    "duration": 23,
    "start_time": "2022-10-31T09:54:28.907Z"
   },
   {
    "duration": 302,
    "start_time": "2022-10-31T09:54:29.186Z"
   },
   {
    "duration": 7,
    "start_time": "2022-10-31T09:54:29.948Z"
   },
   {
    "duration": 19,
    "start_time": "2022-10-31T09:54:30.713Z"
   },
   {
    "duration": 16,
    "start_time": "2022-10-31T09:54:31.779Z"
   },
   {
    "duration": 15,
    "start_time": "2022-10-31T09:54:32.258Z"
   },
   {
    "duration": 23,
    "start_time": "2022-10-31T09:54:32.818Z"
   },
   {
    "duration": 15,
    "start_time": "2022-10-31T09:54:33.337Z"
   },
   {
    "duration": 18,
    "start_time": "2022-10-31T09:54:33.842Z"
   },
   {
    "duration": 14,
    "start_time": "2022-10-31T09:54:34.354Z"
   },
   {
    "duration": 19,
    "start_time": "2022-10-31T09:54:35.053Z"
   },
   {
    "duration": 15,
    "start_time": "2022-10-31T09:54:35.707Z"
   },
   {
    "duration": 965,
    "start_time": "2022-10-31T09:54:36.442Z"
   },
   {
    "duration": 0,
    "start_time": "2022-10-31T09:54:37.409Z"
   },
   {
    "duration": 12,
    "start_time": "2022-10-31T09:55:58.414Z"
   },
   {
    "duration": 5,
    "start_time": "2022-10-31T09:56:00.076Z"
   },
   {
    "duration": 1425,
    "start_time": "2022-10-31T09:56:08.607Z"
   },
   {
    "duration": 817,
    "start_time": "2022-10-31T09:56:10.034Z"
   },
   {
    "duration": 24,
    "start_time": "2022-10-31T09:56:10.853Z"
   },
   {
    "duration": 148,
    "start_time": "2022-10-31T09:56:10.880Z"
   },
   {
    "duration": 462,
    "start_time": "2022-10-31T09:56:11.030Z"
   },
   {
    "duration": 524,
    "start_time": "2022-10-31T09:56:11.494Z"
   },
   {
    "duration": 83,
    "start_time": "2022-10-31T09:56:12.020Z"
   },
   {
    "duration": 6,
    "start_time": "2022-10-31T09:56:12.105Z"
   },
   {
    "duration": 867,
    "start_time": "2022-10-31T09:56:12.112Z"
   },
   {
    "duration": 35,
    "start_time": "2022-10-31T09:56:12.983Z"
   },
   {
    "duration": 196,
    "start_time": "2022-10-31T09:56:13.020Z"
   },
   {
    "duration": 184,
    "start_time": "2022-10-31T09:56:13.218Z"
   },
   {
    "duration": 19,
    "start_time": "2022-10-31T09:56:13.404Z"
   },
   {
    "duration": 4,
    "start_time": "2022-10-31T09:56:13.424Z"
   },
   {
    "duration": 127,
    "start_time": "2022-10-31T09:56:13.430Z"
   },
   {
    "duration": 390,
    "start_time": "2022-10-31T09:56:13.559Z"
   },
   {
    "duration": 42,
    "start_time": "2022-10-31T09:56:13.950Z"
   },
   {
    "duration": 6,
    "start_time": "2022-10-31T09:56:13.993Z"
   },
   {
    "duration": 29,
    "start_time": "2022-10-31T09:56:14.001Z"
   },
   {
    "duration": 6,
    "start_time": "2022-10-31T09:56:14.031Z"
   },
   {
    "duration": 294,
    "start_time": "2022-10-31T09:56:14.038Z"
   },
   {
    "duration": 304,
    "start_time": "2022-10-31T09:56:14.334Z"
   },
   {
    "duration": 298,
    "start_time": "2022-10-31T09:56:14.640Z"
   },
   {
    "duration": 23,
    "start_time": "2022-10-31T09:56:14.939Z"
   },
   {
    "duration": 318,
    "start_time": "2022-10-31T09:56:14.964Z"
   },
   {
    "duration": 9,
    "start_time": "2022-10-31T09:56:15.284Z"
   },
   {
    "duration": 28,
    "start_time": "2022-10-31T09:56:15.295Z"
   },
   {
    "duration": 49,
    "start_time": "2022-10-31T09:56:15.329Z"
   },
   {
    "duration": 19,
    "start_time": "2022-10-31T09:56:15.380Z"
   },
   {
    "duration": 22,
    "start_time": "2022-10-31T09:56:15.402Z"
   },
   {
    "duration": 24,
    "start_time": "2022-10-31T09:56:15.426Z"
   },
   {
    "duration": 31,
    "start_time": "2022-10-31T09:56:15.452Z"
   },
   {
    "duration": 16,
    "start_time": "2022-10-31T09:56:15.485Z"
   },
   {
    "duration": 16,
    "start_time": "2022-10-31T09:56:15.502Z"
   },
   {
    "duration": 20,
    "start_time": "2022-10-31T09:56:15.520Z"
   },
   {
    "duration": 936,
    "start_time": "2022-10-31T09:56:15.542Z"
   },
   {
    "duration": 0,
    "start_time": "2022-10-31T09:56:16.480Z"
   },
   {
    "duration": 0,
    "start_time": "2022-10-31T09:56:16.481Z"
   },
   {
    "duration": 0,
    "start_time": "2022-10-31T09:56:16.482Z"
   },
   {
    "duration": 0,
    "start_time": "2022-10-31T09:56:16.483Z"
   },
   {
    "duration": 0,
    "start_time": "2022-10-31T09:56:16.484Z"
   },
   {
    "duration": 0,
    "start_time": "2022-10-31T09:56:16.485Z"
   },
   {
    "duration": 0,
    "start_time": "2022-10-31T09:56:16.486Z"
   },
   {
    "duration": 0,
    "start_time": "2022-10-31T09:56:16.488Z"
   },
   {
    "duration": 0,
    "start_time": "2022-10-31T09:56:16.489Z"
   },
   {
    "duration": 0,
    "start_time": "2022-10-31T09:56:16.490Z"
   },
   {
    "duration": 0,
    "start_time": "2022-10-31T09:56:16.491Z"
   },
   {
    "duration": 0,
    "start_time": "2022-10-31T09:56:16.492Z"
   },
   {
    "duration": 0,
    "start_time": "2022-10-31T09:56:16.493Z"
   },
   {
    "duration": 0,
    "start_time": "2022-10-31T09:56:16.494Z"
   },
   {
    "duration": 1,
    "start_time": "2022-10-31T09:56:16.495Z"
   },
   {
    "duration": 0,
    "start_time": "2022-10-31T09:56:16.496Z"
   },
   {
    "duration": 0,
    "start_time": "2022-10-31T09:56:16.497Z"
   },
   {
    "duration": 0,
    "start_time": "2022-10-31T09:56:16.499Z"
   },
   {
    "duration": 0,
    "start_time": "2022-10-31T09:56:16.500Z"
   },
   {
    "duration": 0,
    "start_time": "2022-10-31T09:56:16.502Z"
   },
   {
    "duration": 0,
    "start_time": "2022-10-31T09:56:16.503Z"
   },
   {
    "duration": 0,
    "start_time": "2022-10-31T09:56:16.504Z"
   },
   {
    "duration": 0,
    "start_time": "2022-10-31T09:56:16.506Z"
   },
   {
    "duration": 0,
    "start_time": "2022-10-31T09:56:16.507Z"
   },
   {
    "duration": 0,
    "start_time": "2022-10-31T09:56:16.509Z"
   },
   {
    "duration": 0,
    "start_time": "2022-10-31T09:56:16.511Z"
   },
   {
    "duration": 0,
    "start_time": "2022-10-31T09:56:16.513Z"
   },
   {
    "duration": 1,
    "start_time": "2022-10-31T09:56:16.514Z"
   },
   {
    "duration": 0,
    "start_time": "2022-10-31T09:56:16.579Z"
   },
   {
    "duration": 0,
    "start_time": "2022-10-31T09:56:16.584Z"
   },
   {
    "duration": 0,
    "start_time": "2022-10-31T09:56:16.585Z"
   },
   {
    "duration": 0,
    "start_time": "2022-10-31T09:56:16.586Z"
   },
   {
    "duration": 50,
    "start_time": "2022-10-31T09:56:56.840Z"
   },
   {
    "duration": 1349,
    "start_time": "2022-10-31T09:57:08.613Z"
   },
   {
    "duration": 822,
    "start_time": "2022-10-31T09:57:09.964Z"
   },
   {
    "duration": 19,
    "start_time": "2022-10-31T09:57:11.950Z"
   },
   {
    "duration": 121,
    "start_time": "2022-10-31T09:57:15.396Z"
   },
   {
    "duration": 495,
    "start_time": "2022-10-31T09:57:17.446Z"
   },
   {
    "duration": 499,
    "start_time": "2022-10-31T09:57:18.653Z"
   },
   {
    "duration": 78,
    "start_time": "2022-10-31T09:57:20.439Z"
   },
   {
    "duration": 6,
    "start_time": "2022-10-31T09:57:22.252Z"
   },
   {
    "duration": 841,
    "start_time": "2022-10-31T09:57:24.109Z"
   },
   {
    "duration": 36,
    "start_time": "2022-10-31T09:57:25.789Z"
   },
   {
    "duration": 181,
    "start_time": "2022-10-31T09:57:27.180Z"
   },
   {
    "duration": 175,
    "start_time": "2022-10-31T09:57:28.219Z"
   },
   {
    "duration": 20,
    "start_time": "2022-10-31T09:57:29.709Z"
   },
   {
    "duration": 5,
    "start_time": "2022-10-31T09:57:31.348Z"
   },
   {
    "duration": 114,
    "start_time": "2022-10-31T09:57:34.580Z"
   },
   {
    "duration": 409,
    "start_time": "2022-10-31T09:57:39.756Z"
   },
   {
    "duration": 31,
    "start_time": "2022-10-31T09:57:40.756Z"
   },
   {
    "duration": 6,
    "start_time": "2022-10-31T09:57:41.708Z"
   },
   {
    "duration": 28,
    "start_time": "2022-10-31T09:57:42.436Z"
   },
   {
    "duration": 6,
    "start_time": "2022-10-31T09:57:44.140Z"
   },
   {
    "duration": 335,
    "start_time": "2022-10-31T09:57:45.014Z"
   },
   {
    "duration": 316,
    "start_time": "2022-10-31T09:57:46.691Z"
   },
   {
    "duration": 306,
    "start_time": "2022-10-31T09:57:47.838Z"
   },
   {
    "duration": 23,
    "start_time": "2022-10-31T09:57:48.780Z"
   },
   {
    "duration": 280,
    "start_time": "2022-10-31T09:57:49.261Z"
   },
   {
    "duration": 7,
    "start_time": "2022-10-31T09:57:50.843Z"
   },
   {
    "duration": 18,
    "start_time": "2022-10-31T09:57:52.069Z"
   },
   {
    "duration": 18,
    "start_time": "2022-10-31T09:57:53.638Z"
   },
   {
    "duration": 15,
    "start_time": "2022-10-31T09:57:54.445Z"
   },
   {
    "duration": 17,
    "start_time": "2022-10-31T09:57:55.120Z"
   },
   {
    "duration": 26,
    "start_time": "2022-10-31T09:57:56.260Z"
   },
   {
    "duration": 19,
    "start_time": "2022-10-31T09:57:57.678Z"
   },
   {
    "duration": 14,
    "start_time": "2022-10-31T09:57:58.924Z"
   },
   {
    "duration": 16,
    "start_time": "2022-10-31T09:57:59.749Z"
   },
   {
    "duration": 15,
    "start_time": "2022-10-31T09:58:01.411Z"
   },
   {
    "duration": 17,
    "start_time": "2022-10-31T09:58:06.349Z"
   },
   {
    "duration": 16,
    "start_time": "2022-10-31T09:58:16.903Z"
   },
   {
    "duration": 58,
    "start_time": "2022-10-31T09:58:19.341Z"
   },
   {
    "duration": 15,
    "start_time": "2022-10-31T09:58:30.167Z"
   },
   {
    "duration": 61,
    "start_time": "2022-10-31T09:58:31.128Z"
   },
   {
    "duration": 162,
    "start_time": "2022-10-31T09:58:33.668Z"
   },
   {
    "duration": 3,
    "start_time": "2022-10-31T09:58:38.325Z"
   },
   {
    "duration": 87,
    "start_time": "2022-10-31T09:58:39.461Z"
   },
   {
    "duration": 3,
    "start_time": "2022-10-31T09:58:47.599Z"
   },
   {
    "duration": 284,
    "start_time": "2022-10-31T09:58:49.358Z"
   },
   {
    "duration": 281,
    "start_time": "2022-10-31T09:59:29.708Z"
   },
   {
    "duration": 16,
    "start_time": "2022-10-31T10:02:39.985Z"
   },
   {
    "duration": 11,
    "start_time": "2022-10-31T10:09:16.377Z"
   },
   {
    "duration": 21,
    "start_time": "2022-10-31T10:09:31.766Z"
   },
   {
    "duration": 51,
    "start_time": "2022-10-31T10:21:00.705Z"
   },
   {
    "duration": 262,
    "start_time": "2022-10-31T10:22:01.580Z"
   },
   {
    "duration": 22,
    "start_time": "2022-10-31T10:22:24.383Z"
   },
   {
    "duration": 273,
    "start_time": "2022-10-31T10:23:30.100Z"
   },
   {
    "duration": 17,
    "start_time": "2022-10-31T10:23:59.707Z"
   },
   {
    "duration": 45,
    "start_time": "2022-10-31T10:29:10.102Z"
   },
   {
    "duration": 99,
    "start_time": "2022-10-31T10:30:17.193Z"
   },
   {
    "duration": 333,
    "start_time": "2022-10-31T10:30:40.110Z"
   },
   {
    "duration": 5,
    "start_time": "2022-10-31T10:30:43.869Z"
   },
   {
    "duration": 332,
    "start_time": "2022-10-31T10:31:24.423Z"
   },
   {
    "duration": 28,
    "start_time": "2022-10-31T10:31:25.797Z"
   },
   {
    "duration": 366,
    "start_time": "2022-10-31T10:32:06.343Z"
   },
   {
    "duration": 40,
    "start_time": "2022-10-31T10:32:25.694Z"
   },
   {
    "duration": 319,
    "start_time": "2022-10-31T10:32:28.160Z"
   },
   {
    "duration": 87,
    "start_time": "2022-10-31T10:36:48.217Z"
   },
   {
    "duration": 127,
    "start_time": "2022-10-31T10:36:52.821Z"
   },
   {
    "duration": 20,
    "start_time": "2022-10-31T10:36:57.609Z"
   },
   {
    "duration": 18,
    "start_time": "2022-10-31T10:38:38.597Z"
   },
   {
    "duration": 62,
    "start_time": "2022-10-31T10:38:41.476Z"
   },
   {
    "duration": 183,
    "start_time": "2022-10-31T10:38:45.956Z"
   },
   {
    "duration": 3,
    "start_time": "2022-10-31T10:38:49.330Z"
   },
   {
    "duration": 65,
    "start_time": "2022-10-31T10:38:59.762Z"
   },
   {
    "duration": 2,
    "start_time": "2022-10-31T10:39:55.499Z"
   },
   {
    "duration": 21,
    "start_time": "2022-10-31T10:40:00.315Z"
   },
   {
    "duration": 3,
    "start_time": "2022-10-31T10:40:10.259Z"
   },
   {
    "duration": 589,
    "start_time": "2022-10-31T10:40:35.844Z"
   },
   {
    "duration": 18,
    "start_time": "2022-10-31T10:40:41.946Z"
   },
   {
    "duration": 40,
    "start_time": "2022-10-31T10:41:33.238Z"
   },
   {
    "duration": 15,
    "start_time": "2022-10-31T10:42:27.317Z"
   },
   {
    "duration": 60,
    "start_time": "2022-10-31T10:42:28.338Z"
   },
   {
    "duration": 187,
    "start_time": "2022-10-31T10:42:29.915Z"
   },
   {
    "duration": 70,
    "start_time": "2022-10-31T10:42:39.035Z"
   },
   {
    "duration": 2,
    "start_time": "2022-10-31T10:42:40.309Z"
   },
   {
    "duration": 622,
    "start_time": "2022-10-31T10:42:46.692Z"
   },
   {
    "duration": 181,
    "start_time": "2022-10-31T10:42:48.289Z"
   },
   {
    "duration": 22,
    "start_time": "2022-10-31T10:42:55.195Z"
   },
   {
    "duration": 69,
    "start_time": "2022-10-31T10:44:46.860Z"
   },
   {
    "duration": 91,
    "start_time": "2022-10-31T10:44:54.509Z"
   },
   {
    "duration": 54,
    "start_time": "2022-10-31T10:47:28.062Z"
   },
   {
    "duration": 15,
    "start_time": "2022-10-31T10:48:02.837Z"
   },
   {
    "duration": 76,
    "start_time": "2022-10-31T10:48:26.769Z"
   },
   {
    "duration": 17,
    "start_time": "2022-10-31T10:50:21.000Z"
   },
   {
    "duration": 11,
    "start_time": "2022-10-31T10:51:01.401Z"
   },
   {
    "duration": 51,
    "start_time": "2022-10-31T10:53:10.217Z"
   },
   {
    "duration": 75,
    "start_time": "2022-10-31T10:53:44.282Z"
   },
   {
    "duration": 77,
    "start_time": "2022-10-31T10:54:06.002Z"
   },
   {
    "duration": 83,
    "start_time": "2022-10-31T10:54:07.562Z"
   },
   {
    "duration": 18,
    "start_time": "2022-10-31T10:54:16.538Z"
   },
   {
    "duration": 80,
    "start_time": "2022-10-31T10:54:23.296Z"
   },
   {
    "duration": 26,
    "start_time": "2022-10-31T10:54:24.425Z"
   },
   {
    "duration": 20,
    "start_time": "2022-10-31T10:54:38.491Z"
   },
   {
    "duration": 59,
    "start_time": "2022-10-31T10:54:39.497Z"
   },
   {
    "duration": 163,
    "start_time": "2022-10-31T10:54:41.058Z"
   },
   {
    "duration": 3,
    "start_time": "2022-10-31T10:54:42.772Z"
   },
   {
    "duration": 71,
    "start_time": "2022-10-31T10:54:43.690Z"
   },
   {
    "duration": 16,
    "start_time": "2022-10-31T10:54:47.715Z"
   },
   {
    "duration": 319,
    "start_time": "2022-10-31T10:55:08.918Z"
   },
   {
    "duration": 246,
    "start_time": "2022-10-31T10:55:22.219Z"
   },
   {
    "duration": 19,
    "start_time": "2022-10-31T10:55:26.451Z"
   },
   {
    "duration": 333,
    "start_time": "2022-10-31T10:55:40.299Z"
   },
   {
    "duration": 4,
    "start_time": "2022-10-31T10:55:44.530Z"
   },
   {
    "duration": 10,
    "start_time": "2022-10-31T10:56:01.660Z"
   },
   {
    "duration": 1784,
    "start_time": "2022-10-31T10:56:22.516Z"
   },
   {
    "duration": 264,
    "start_time": "2022-10-31T10:56:24.603Z"
   },
   {
    "duration": 47,
    "start_time": "2022-10-31T10:57:02.629Z"
   },
   {
    "duration": 3,
    "start_time": "2022-10-31T10:57:14.467Z"
   },
   {
    "duration": 246,
    "start_time": "2022-10-31T10:57:34.412Z"
   },
   {
    "duration": 256,
    "start_time": "2022-10-31T10:57:50.700Z"
   },
   {
    "duration": 9,
    "start_time": "2022-10-31T10:59:21.436Z"
   },
   {
    "duration": 14,
    "start_time": "2022-10-31T10:59:24.972Z"
   },
   {
    "duration": 49,
    "start_time": "2022-10-31T10:59:35.142Z"
   },
   {
    "duration": 52,
    "start_time": "2022-10-31T10:59:56.350Z"
   },
   {
    "duration": 278,
    "start_time": "2022-10-31T11:00:05.294Z"
   },
   {
    "duration": 4,
    "start_time": "2022-10-31T11:00:10.196Z"
   },
   {
    "duration": 728,
    "start_time": "2022-10-31T11:00:19.197Z"
   },
   {
    "duration": 17,
    "start_time": "2022-10-31T11:01:55.150Z"
   },
   {
    "duration": 14,
    "start_time": "2022-10-31T11:02:19.890Z"
   },
   {
    "duration": 14,
    "start_time": "2022-10-31T11:03:33.336Z"
   },
   {
    "duration": 763,
    "start_time": "2022-10-31T11:03:54.978Z"
   },
   {
    "duration": 549,
    "start_time": "2022-10-31T11:04:24.219Z"
   },
   {
    "duration": 1415,
    "start_time": "2022-10-31T11:04:51.585Z"
   },
   {
    "duration": 1129,
    "start_time": "2022-10-31T11:04:54.622Z"
   },
   {
    "duration": 17,
    "start_time": "2022-10-31T11:04:55.753Z"
   },
   {
    "duration": 121,
    "start_time": "2022-10-31T11:04:55.772Z"
   },
   {
    "duration": 457,
    "start_time": "2022-10-31T11:05:00.006Z"
   },
   {
    "duration": 529,
    "start_time": "2022-10-31T11:05:01.085Z"
   },
   {
    "duration": 79,
    "start_time": "2022-10-31T11:05:02.390Z"
   },
   {
    "duration": 6,
    "start_time": "2022-10-31T11:05:02.908Z"
   },
   {
    "duration": 752,
    "start_time": "2022-10-31T11:05:03.926Z"
   },
   {
    "duration": 37,
    "start_time": "2022-10-31T11:05:04.680Z"
   },
   {
    "duration": 224,
    "start_time": "2022-10-31T11:05:05.189Z"
   },
   {
    "duration": 184,
    "start_time": "2022-10-31T11:05:05.695Z"
   },
   {
    "duration": 16,
    "start_time": "2022-10-31T11:05:06.446Z"
   },
   {
    "duration": 4,
    "start_time": "2022-10-31T11:05:06.711Z"
   },
   {
    "duration": 126,
    "start_time": "2022-10-31T11:05:07.514Z"
   },
   {
    "duration": 386,
    "start_time": "2022-10-31T11:05:08.295Z"
   },
   {
    "duration": 27,
    "start_time": "2022-10-31T11:05:09.135Z"
   },
   {
    "duration": 8,
    "start_time": "2022-10-31T11:05:10.429Z"
   },
   {
    "duration": 28,
    "start_time": "2022-10-31T11:05:11.182Z"
   },
   {
    "duration": 6,
    "start_time": "2022-10-31T11:05:12.814Z"
   },
   {
    "duration": 273,
    "start_time": "2022-10-31T11:05:13.445Z"
   },
   {
    "duration": 292,
    "start_time": "2022-10-31T11:05:14.527Z"
   },
   {
    "duration": 288,
    "start_time": "2022-10-31T11:05:15.654Z"
   },
   {
    "duration": 25,
    "start_time": "2022-10-31T11:05:16.581Z"
   },
   {
    "duration": 304,
    "start_time": "2022-10-31T11:05:16.966Z"
   },
   {
    "duration": 7,
    "start_time": "2022-10-31T11:05:18.701Z"
   },
   {
    "duration": 20,
    "start_time": "2022-10-31T11:05:19.238Z"
   },
   {
    "duration": 16,
    "start_time": "2022-10-31T11:05:20.310Z"
   },
   {
    "duration": 14,
    "start_time": "2022-10-31T11:05:20.922Z"
   },
   {
    "duration": 15,
    "start_time": "2022-10-31T11:05:21.523Z"
   },
   {
    "duration": 15,
    "start_time": "2022-10-31T11:05:22.141Z"
   },
   {
    "duration": 18,
    "start_time": "2022-10-31T11:05:22.997Z"
   },
   {
    "duration": 14,
    "start_time": "2022-10-31T11:05:23.661Z"
   },
   {
    "duration": 17,
    "start_time": "2022-10-31T11:05:24.277Z"
   },
   {
    "duration": 15,
    "start_time": "2022-10-31T11:05:25.397Z"
   },
   {
    "duration": 15,
    "start_time": "2022-10-31T11:05:25.990Z"
   },
   {
    "duration": 16,
    "start_time": "2022-10-31T11:05:26.677Z"
   },
   {
    "duration": 62,
    "start_time": "2022-10-31T11:05:27.838Z"
   },
   {
    "duration": 14,
    "start_time": "2022-10-31T11:05:33.048Z"
   },
   {
    "duration": 66,
    "start_time": "2022-10-31T11:05:34.566Z"
   },
   {
    "duration": 196,
    "start_time": "2022-10-31T11:05:36.942Z"
   },
   {
    "duration": 4,
    "start_time": "2022-10-31T11:05:40.271Z"
   },
   {
    "duration": 13,
    "start_time": "2022-10-31T11:05:49.321Z"
   },
   {
    "duration": 262,
    "start_time": "2022-10-31T11:06:03.417Z"
   },
   {
    "duration": 573,
    "start_time": "2022-10-31T11:06:07.227Z"
   },
   {
    "duration": 1234,
    "start_time": "2022-10-31T11:06:12.256Z"
   },
   {
    "duration": 104,
    "start_time": "2022-10-31T11:06:21.001Z"
   },
   {
    "duration": 229,
    "start_time": "2022-10-31T11:07:02.369Z"
   },
   {
    "duration": 20,
    "start_time": "2022-10-31T11:07:12.794Z"
   },
   {
    "duration": 199,
    "start_time": "2022-10-31T11:08:43.027Z"
   },
   {
    "duration": 131,
    "start_time": "2022-10-31T11:09:06.978Z"
   },
   {
    "duration": 10,
    "start_time": "2022-10-31T11:09:22.124Z"
   },
   {
    "duration": 15,
    "start_time": "2022-10-31T11:09:30.443Z"
   },
   {
    "duration": 53,
    "start_time": "2022-10-31T11:09:31.898Z"
   },
   {
    "duration": 166,
    "start_time": "2022-10-31T11:09:34.315Z"
   },
   {
    "duration": 3,
    "start_time": "2022-10-31T11:09:42.371Z"
   },
   {
    "duration": 11346,
    "start_time": "2022-10-31T11:09:45.548Z"
   },
   {
    "duration": 1225,
    "start_time": "2022-10-31T11:10:11.685Z"
   },
   {
    "duration": 214,
    "start_time": "2022-10-31T11:10:18.766Z"
   },
   {
    "duration": 2926,
    "start_time": "2022-10-31T11:10:21.515Z"
   },
   {
    "duration": 114,
    "start_time": "2022-10-31T11:10:26.572Z"
   },
   {
    "duration": 49,
    "start_time": "2022-10-31T11:13:19.365Z"
   },
   {
    "duration": 1715,
    "start_time": "2022-10-31T11:13:21.487Z"
   },
   {
    "duration": 854,
    "start_time": "2022-10-31T11:13:36.365Z"
   },
   {
    "duration": 63,
    "start_time": "2022-10-31T11:13:50.118Z"
   },
   {
    "duration": 156,
    "start_time": "2022-10-31T11:20:36.100Z"
   },
   {
    "duration": 3,
    "start_time": "2022-10-31T11:20:43.801Z"
   },
   {
    "duration": 51,
    "start_time": "2022-10-31T11:20:44.617Z"
   },
   {
    "duration": 1412,
    "start_time": "2022-10-31T11:21:20.237Z"
   },
   {
    "duration": 1081,
    "start_time": "2022-10-31T11:21:22.932Z"
   },
   {
    "duration": 18,
    "start_time": "2022-10-31T11:21:24.015Z"
   },
   {
    "duration": 125,
    "start_time": "2022-10-31T11:21:24.035Z"
   },
   {
    "duration": 495,
    "start_time": "2022-10-31T11:21:24.720Z"
   },
   {
    "duration": 547,
    "start_time": "2022-10-31T11:21:25.226Z"
   },
   {
    "duration": 80,
    "start_time": "2022-10-31T11:21:25.995Z"
   },
   {
    "duration": 6,
    "start_time": "2022-10-31T11:21:28.009Z"
   },
   {
    "duration": 836,
    "start_time": "2022-10-31T11:21:29.056Z"
   },
   {
    "duration": 36,
    "start_time": "2022-10-31T11:21:29.894Z"
   },
   {
    "duration": 187,
    "start_time": "2022-10-31T11:21:30.488Z"
   },
   {
    "duration": 177,
    "start_time": "2022-10-31T11:21:31.072Z"
   },
   {
    "duration": 20,
    "start_time": "2022-10-31T11:21:31.945Z"
   },
   {
    "duration": 4,
    "start_time": "2022-10-31T11:21:32.259Z"
   },
   {
    "duration": 112,
    "start_time": "2022-10-31T11:21:34.193Z"
   },
   {
    "duration": 434,
    "start_time": "2022-10-31T11:21:35.057Z"
   },
   {
    "duration": 33,
    "start_time": "2022-10-31T11:21:35.521Z"
   },
   {
    "duration": 7,
    "start_time": "2022-10-31T11:21:36.192Z"
   },
   {
    "duration": 31,
    "start_time": "2022-10-31T11:21:36.728Z"
   },
   {
    "duration": 7,
    "start_time": "2022-10-31T11:21:37.720Z"
   },
   {
    "duration": 274,
    "start_time": "2022-10-31T11:21:38.248Z"
   },
   {
    "duration": 291,
    "start_time": "2022-10-31T11:21:39.033Z"
   },
   {
    "duration": 289,
    "start_time": "2022-10-31T11:21:39.529Z"
   },
   {
    "duration": 24,
    "start_time": "2022-10-31T11:21:40.425Z"
   },
   {
    "duration": 282,
    "start_time": "2022-10-31T11:21:40.752Z"
   },
   {
    "duration": 7,
    "start_time": "2022-10-31T11:21:41.665Z"
   },
   {
    "duration": 20,
    "start_time": "2022-10-31T11:21:42.563Z"
   },
   {
    "duration": 17,
    "start_time": "2022-10-31T11:21:43.913Z"
   },
   {
    "duration": 14,
    "start_time": "2022-10-31T11:21:44.433Z"
   },
   {
    "duration": 16,
    "start_time": "2022-10-31T11:21:44.978Z"
   },
   {
    "duration": 15,
    "start_time": "2022-10-31T11:21:45.489Z"
   },
   {
    "duration": 18,
    "start_time": "2022-10-31T11:21:46.049Z"
   },
   {
    "duration": 14,
    "start_time": "2022-10-31T11:21:46.624Z"
   },
   {
    "duration": 19,
    "start_time": "2022-10-31T11:21:47.170Z"
   },
   {
    "duration": 14,
    "start_time": "2022-10-31T11:21:47.721Z"
   },
   {
    "duration": 16,
    "start_time": "2022-10-31T11:21:48.536Z"
   },
   {
    "duration": 15,
    "start_time": "2022-10-31T11:21:49.721Z"
   },
   {
    "duration": 59,
    "start_time": "2022-10-31T11:21:51.354Z"
   },
   {
    "duration": 14,
    "start_time": "2022-10-31T11:21:59.235Z"
   },
   {
    "duration": 63,
    "start_time": "2022-10-31T11:22:00.546Z"
   },
   {
    "duration": 163,
    "start_time": "2022-10-31T11:22:02.193Z"
   },
   {
    "duration": 4,
    "start_time": "2022-10-31T11:22:04.986Z"
   },
   {
    "duration": 61,
    "start_time": "2022-10-31T11:22:06.466Z"
   },
   {
    "duration": 2128,
    "start_time": "2022-10-31T11:22:11.681Z"
   },
   {
    "duration": 581,
    "start_time": "2022-10-31T11:22:15.570Z"
   },
   {
    "duration": 44,
    "start_time": "2022-10-31T11:22:23.188Z"
   },
   {
    "duration": 756,
    "start_time": "2022-10-31T11:27:40.636Z"
   },
   {
    "duration": 159,
    "start_time": "2022-10-31T11:35:57.316Z"
   },
   {
    "duration": 38745,
    "start_time": "2022-10-31T11:36:07.138Z"
   },
   {
    "duration": 37440,
    "start_time": "2022-10-31T11:37:05.738Z"
   },
   {
    "duration": 39324,
    "start_time": "2022-10-31T11:40:13.956Z"
   },
   {
    "duration": 47,
    "start_time": "2022-10-31T11:41:31.454Z"
   },
   {
    "duration": 18141,
    "start_time": "2022-10-31T11:41:39.644Z"
   },
   {
    "duration": 171,
    "start_time": "2022-10-31T11:42:00.061Z"
   },
   {
    "duration": 10,
    "start_time": "2022-10-31T11:42:01.740Z"
   },
   {
    "duration": 5,
    "start_time": "2022-10-31T11:42:14.039Z"
   },
   {
    "duration": 77,
    "start_time": "2022-10-31T11:43:08.408Z"
   },
   {
    "duration": 1670,
    "start_time": "2022-10-31T11:43:43.047Z"
   },
   {
    "duration": 581,
    "start_time": "2022-10-31T11:44:04.887Z"
   },
   {
    "duration": 107,
    "start_time": "2022-10-31T11:46:30.592Z"
   },
   {
    "duration": 1443,
    "start_time": "2022-10-31T13:17:13.219Z"
   },
   {
    "duration": 1140,
    "start_time": "2022-10-31T13:17:14.665Z"
   },
   {
    "duration": 19,
    "start_time": "2022-10-31T13:17:15.807Z"
   },
   {
    "duration": 118,
    "start_time": "2022-10-31T13:17:16.130Z"
   },
   {
    "duration": 461,
    "start_time": "2022-10-31T13:17:17.594Z"
   },
   {
    "duration": 476,
    "start_time": "2022-10-31T13:17:18.489Z"
   },
   {
    "duration": 76,
    "start_time": "2022-10-31T13:17:19.290Z"
   },
   {
    "duration": 6,
    "start_time": "2022-10-31T13:17:19.768Z"
   },
   {
    "duration": 743,
    "start_time": "2022-10-31T13:17:20.680Z"
   },
   {
    "duration": 34,
    "start_time": "2022-10-31T13:17:21.425Z"
   },
   {
    "duration": 176,
    "start_time": "2022-10-31T13:17:21.865Z"
   },
   {
    "duration": 166,
    "start_time": "2022-10-31T13:17:22.339Z"
   },
   {
    "duration": 20,
    "start_time": "2022-10-31T13:17:23.072Z"
   },
   {
    "duration": 4,
    "start_time": "2022-10-31T13:17:23.323Z"
   },
   {
    "duration": 132,
    "start_time": "2022-10-31T13:17:24.073Z"
   },
   {
    "duration": 440,
    "start_time": "2022-10-31T13:17:24.850Z"
   },
   {
    "duration": 36,
    "start_time": "2022-10-31T13:17:25.396Z"
   },
   {
    "duration": 7,
    "start_time": "2022-10-31T13:17:26.138Z"
   },
   {
    "duration": 30,
    "start_time": "2022-10-31T13:17:26.681Z"
   },
   {
    "duration": 6,
    "start_time": "2022-10-31T13:17:27.728Z"
   },
   {
    "duration": 286,
    "start_time": "2022-10-31T13:17:28.257Z"
   },
   {
    "duration": 290,
    "start_time": "2022-10-31T13:17:29.041Z"
   },
   {
    "duration": 290,
    "start_time": "2022-10-31T13:17:29.586Z"
   },
   {
    "duration": 24,
    "start_time": "2022-10-31T13:17:30.154Z"
   },
   {
    "duration": 294,
    "start_time": "2022-10-31T13:17:30.402Z"
   },
   {
    "duration": 7,
    "start_time": "2022-10-31T13:17:31.186Z"
   },
   {
    "duration": 18,
    "start_time": "2022-10-31T13:17:31.962Z"
   },
   {
    "duration": 15,
    "start_time": "2022-10-31T13:17:32.984Z"
   },
   {
    "duration": 14,
    "start_time": "2022-10-31T13:17:33.538Z"
   },
   {
    "duration": 14,
    "start_time": "2022-10-31T13:17:34.041Z"
   },
   {
    "duration": 17,
    "start_time": "2022-10-31T13:17:34.553Z"
   },
   {
    "duration": 21,
    "start_time": "2022-10-31T13:17:35.330Z"
   },
   {
    "duration": 15,
    "start_time": "2022-10-31T13:17:35.856Z"
   },
   {
    "duration": 17,
    "start_time": "2022-10-31T13:17:36.361Z"
   },
   {
    "duration": 18,
    "start_time": "2022-10-31T13:17:36.905Z"
   },
   {
    "duration": 17,
    "start_time": "2022-10-31T13:17:37.472Z"
   },
   {
    "duration": 17,
    "start_time": "2022-10-31T13:17:38.105Z"
   },
   {
    "duration": 77,
    "start_time": "2022-10-31T13:17:38.875Z"
   },
   {
    "duration": 13,
    "start_time": "2022-10-31T13:17:42.521Z"
   },
   {
    "duration": 97,
    "start_time": "2022-10-31T13:17:43.281Z"
   },
   {
    "duration": 166,
    "start_time": "2022-10-31T13:17:44.296Z"
   },
   {
    "duration": 91,
    "start_time": "2022-10-31T13:17:45.921Z"
   },
   {
    "duration": 2527,
    "start_time": "2022-10-31T13:17:46.769Z"
   },
   {
    "duration": 3,
    "start_time": "2022-10-31T13:17:50.001Z"
   },
   {
    "duration": 750,
    "start_time": "2022-10-31T13:17:51.499Z"
   },
   {
    "duration": 91,
    "start_time": "2022-10-31T13:18:40.691Z"
   },
   {
    "duration": 7,
    "start_time": "2022-10-31T13:27:23.392Z"
   },
   {
    "duration": 1370,
    "start_time": "2022-10-31T13:29:26.976Z"
   },
   {
    "duration": 1081,
    "start_time": "2022-10-31T13:29:28.347Z"
   },
   {
    "duration": 18,
    "start_time": "2022-10-31T13:29:29.429Z"
   },
   {
    "duration": 113,
    "start_time": "2022-10-31T13:29:29.449Z"
   },
   {
    "duration": 416,
    "start_time": "2022-10-31T13:29:29.564Z"
   },
   {
    "duration": 465,
    "start_time": "2022-10-31T13:29:29.982Z"
   },
   {
    "duration": 85,
    "start_time": "2022-10-31T13:29:30.449Z"
   },
   {
    "duration": 7,
    "start_time": "2022-10-31T13:29:30.825Z"
   },
   {
    "duration": 734,
    "start_time": "2022-10-31T13:29:31.695Z"
   },
   {
    "duration": 34,
    "start_time": "2022-10-31T13:29:32.431Z"
   },
   {
    "duration": 172,
    "start_time": "2022-10-31T13:29:32.807Z"
   },
   {
    "duration": 163,
    "start_time": "2022-10-31T13:29:33.245Z"
   },
   {
    "duration": 16,
    "start_time": "2022-10-31T13:29:33.913Z"
   },
   {
    "duration": 4,
    "start_time": "2022-10-31T13:29:34.144Z"
   },
   {
    "duration": 112,
    "start_time": "2022-10-31T13:29:34.817Z"
   },
   {
    "duration": 359,
    "start_time": "2022-10-31T13:29:35.503Z"
   },
   {
    "duration": 24,
    "start_time": "2022-10-31T13:29:35.985Z"
   },
   {
    "duration": 7,
    "start_time": "2022-10-31T13:29:36.721Z"
   },
   {
    "duration": 25,
    "start_time": "2022-10-31T13:29:37.224Z"
   },
   {
    "duration": 7,
    "start_time": "2022-10-31T13:29:38.584Z"
   },
   {
    "duration": 278,
    "start_time": "2022-10-31T13:29:39.103Z"
   },
   {
    "duration": 302,
    "start_time": "2022-10-31T13:29:40.878Z"
   },
   {
    "duration": 316,
    "start_time": "2022-10-31T13:29:44.879Z"
   },
   {
    "duration": 26,
    "start_time": "2022-10-31T13:29:45.280Z"
   },
   {
    "duration": 288,
    "start_time": "2022-10-31T13:29:45.488Z"
   },
   {
    "duration": 7,
    "start_time": "2022-10-31T13:29:46.193Z"
   },
   {
    "duration": 21,
    "start_time": "2022-10-31T13:29:47.055Z"
   },
   {
    "duration": 16,
    "start_time": "2022-10-31T13:29:48.102Z"
   },
   {
    "duration": 18,
    "start_time": "2022-10-31T13:29:48.566Z"
   },
   {
    "duration": 15,
    "start_time": "2022-10-31T13:29:49.033Z"
   },
   {
    "duration": 14,
    "start_time": "2022-10-31T13:29:49.512Z"
   },
   {
    "duration": 18,
    "start_time": "2022-10-31T13:29:50.006Z"
   },
   {
    "duration": 14,
    "start_time": "2022-10-31T13:29:50.502Z"
   },
   {
    "duration": 16,
    "start_time": "2022-10-31T13:29:51.023Z"
   },
   {
    "duration": 16,
    "start_time": "2022-10-31T13:29:51.501Z"
   },
   {
    "duration": 16,
    "start_time": "2022-10-31T13:29:51.974Z"
   },
   {
    "duration": 16,
    "start_time": "2022-10-31T13:29:52.433Z"
   },
   {
    "duration": 57,
    "start_time": "2022-10-31T13:29:52.902Z"
   },
   {
    "duration": 14,
    "start_time": "2022-10-31T13:29:55.886Z"
   },
   {
    "duration": 124,
    "start_time": "2022-10-31T13:29:56.992Z"
   },
   {
    "duration": 171,
    "start_time": "2022-10-31T13:29:58.794Z"
   },
   {
    "duration": 62,
    "start_time": "2022-10-31T13:30:03.400Z"
   },
   {
    "duration": 2541,
    "start_time": "2022-10-31T13:30:04.528Z"
   },
   {
    "duration": 3,
    "start_time": "2022-10-31T13:30:08.993Z"
   },
   {
    "duration": 685,
    "start_time": "2022-10-31T13:30:10.043Z"
   },
   {
    "duration": 5,
    "start_time": "2022-10-31T13:30:17.063Z"
   },
   {
    "duration": 4,
    "start_time": "2022-10-31T13:30:17.338Z"
   },
   {
    "duration": 4,
    "start_time": "2022-10-31T13:30:17.595Z"
   },
   {
    "duration": 1422,
    "start_time": "2022-10-31T13:31:49.713Z"
   },
   {
    "duration": 4,
    "start_time": "2022-10-31T13:32:02.570Z"
   },
   {
    "duration": 1372,
    "start_time": "2022-10-31T13:36:01.489Z"
   },
   {
    "duration": 1033,
    "start_time": "2022-10-31T13:36:02.863Z"
   },
   {
    "duration": 18,
    "start_time": "2022-10-31T13:36:03.898Z"
   },
   {
    "duration": 112,
    "start_time": "2022-10-31T13:36:03.919Z"
   },
   {
    "duration": 427,
    "start_time": "2022-10-31T13:36:04.033Z"
   },
   {
    "duration": 459,
    "start_time": "2022-10-31T13:36:04.462Z"
   },
   {
    "duration": 91,
    "start_time": "2022-10-31T13:36:04.923Z"
   },
   {
    "duration": 6,
    "start_time": "2022-10-31T13:36:05.015Z"
   },
   {
    "duration": 806,
    "start_time": "2022-10-31T13:36:05.022Z"
   },
   {
    "duration": 34,
    "start_time": "2022-10-31T13:36:05.831Z"
   },
   {
    "duration": 185,
    "start_time": "2022-10-31T13:36:05.867Z"
   },
   {
    "duration": 177,
    "start_time": "2022-10-31T13:36:06.054Z"
   },
   {
    "duration": 15,
    "start_time": "2022-10-31T13:36:06.232Z"
   },
   {
    "duration": 3,
    "start_time": "2022-10-31T13:36:06.249Z"
   },
   {
    "duration": 123,
    "start_time": "2022-10-31T13:36:06.254Z"
   },
   {
    "duration": 393,
    "start_time": "2022-10-31T13:36:06.379Z"
   },
   {
    "duration": 26,
    "start_time": "2022-10-31T13:36:06.774Z"
   },
   {
    "duration": 7,
    "start_time": "2022-10-31T13:36:06.801Z"
   },
   {
    "duration": 26,
    "start_time": "2022-10-31T13:36:06.810Z"
   },
   {
    "duration": 7,
    "start_time": "2022-10-31T13:36:06.838Z"
   },
   {
    "duration": 329,
    "start_time": "2022-10-31T13:36:06.847Z"
   },
   {
    "duration": 327,
    "start_time": "2022-10-31T13:36:07.178Z"
   },
   {
    "duration": 324,
    "start_time": "2022-10-31T13:36:07.507Z"
   },
   {
    "duration": 23,
    "start_time": "2022-10-31T13:36:07.833Z"
   },
   {
    "duration": 399,
    "start_time": "2022-10-31T13:36:07.877Z"
   },
   {
    "duration": 7,
    "start_time": "2022-10-31T13:36:08.278Z"
   },
   {
    "duration": 30,
    "start_time": "2022-10-31T13:36:08.286Z"
   },
   {
    "duration": 16,
    "start_time": "2022-10-31T13:36:08.320Z"
   },
   {
    "duration": 18,
    "start_time": "2022-10-31T13:36:08.337Z"
   },
   {
    "duration": 28,
    "start_time": "2022-10-31T13:36:08.356Z"
   },
   {
    "duration": 18,
    "start_time": "2022-10-31T13:36:08.386Z"
   },
   {
    "duration": 21,
    "start_time": "2022-10-31T13:36:08.406Z"
   },
   {
    "duration": 21,
    "start_time": "2022-10-31T13:36:08.429Z"
   },
   {
    "duration": 20,
    "start_time": "2022-10-31T13:36:08.452Z"
   },
   {
    "duration": 15,
    "start_time": "2022-10-31T13:36:08.477Z"
   },
   {
    "duration": 17,
    "start_time": "2022-10-31T13:36:08.494Z"
   },
   {
    "duration": 18,
    "start_time": "2022-10-31T13:36:08.513Z"
   },
   {
    "duration": 68,
    "start_time": "2022-10-31T13:36:08.533Z"
   },
   {
    "duration": 12,
    "start_time": "2022-10-31T13:36:08.603Z"
   },
   {
    "duration": 119,
    "start_time": "2022-10-31T13:36:08.616Z"
   },
   {
    "duration": 165,
    "start_time": "2022-10-31T13:36:08.737Z"
   },
   {
    "duration": 59,
    "start_time": "2022-10-31T13:36:08.904Z"
   },
   {
    "duration": 2468,
    "start_time": "2022-10-31T13:36:08.964Z"
   },
   {
    "duration": 3,
    "start_time": "2022-10-31T13:36:11.434Z"
   },
   {
    "duration": 734,
    "start_time": "2022-10-31T13:36:11.438Z"
   },
   {
    "duration": 2,
    "start_time": "2022-10-31T13:36:12.174Z"
   },
   {
    "duration": 10,
    "start_time": "2022-10-31T13:36:12.178Z"
   },
   {
    "duration": 7,
    "start_time": "2022-10-31T13:36:12.189Z"
   },
   {
    "duration": 162,
    "start_time": "2022-10-31T13:36:12.197Z"
   },
   {
    "duration": 71,
    "start_time": "2022-10-31T13:36:12.360Z"
   },
   {
    "duration": 9,
    "start_time": "2022-10-31T13:36:12.432Z"
   },
   {
    "duration": 0,
    "start_time": "2022-10-31T13:36:12.442Z"
   },
   {
    "duration": 0,
    "start_time": "2022-10-31T13:36:12.444Z"
   },
   {
    "duration": 0,
    "start_time": "2022-10-31T13:36:12.445Z"
   },
   {
    "duration": 0,
    "start_time": "2022-10-31T13:36:12.446Z"
   },
   {
    "duration": 0,
    "start_time": "2022-10-31T13:36:12.447Z"
   },
   {
    "duration": 0,
    "start_time": "2022-10-31T13:36:12.448Z"
   },
   {
    "duration": 0,
    "start_time": "2022-10-31T13:36:12.449Z"
   },
   {
    "duration": 0,
    "start_time": "2022-10-31T13:36:12.450Z"
   },
   {
    "duration": 0,
    "start_time": "2022-10-31T13:36:12.451Z"
   },
   {
    "duration": 0,
    "start_time": "2022-10-31T13:36:12.452Z"
   },
   {
    "duration": 0,
    "start_time": "2022-10-31T13:36:12.453Z"
   },
   {
    "duration": 0,
    "start_time": "2022-10-31T13:36:12.453Z"
   },
   {
    "duration": 0,
    "start_time": "2022-10-31T13:36:12.454Z"
   },
   {
    "duration": 0,
    "start_time": "2022-10-31T13:36:12.455Z"
   },
   {
    "duration": 64,
    "start_time": "2022-10-31T13:39:04.184Z"
   },
   {
    "duration": 1282,
    "start_time": "2022-10-31T13:39:12.296Z"
   },
   {
    "duration": 11,
    "start_time": "2022-10-31T13:39:20.998Z"
   },
   {
    "duration": 5,
    "start_time": "2022-10-31T13:39:22.535Z"
   },
   {
    "duration": 4,
    "start_time": "2022-10-31T13:39:24.568Z"
   },
   {
    "duration": 80069,
    "start_time": "2022-10-31T13:39:30.205Z"
   },
   {
    "duration": 74,
    "start_time": "2022-10-31T13:42:48.241Z"
   },
   {
    "duration": 5,
    "start_time": "2022-10-31T13:42:49.864Z"
   },
   {
    "duration": 4,
    "start_time": "2022-10-31T13:42:51.432Z"
   },
   {
    "duration": 12,
    "start_time": "2022-10-31T13:43:01.441Z"
   },
   {
    "duration": 4,
    "start_time": "2022-10-31T13:43:09.160Z"
   },
   {
    "duration": 90,
    "start_time": "2022-10-31T13:43:14.050Z"
   },
   {
    "duration": 73,
    "start_time": "2022-10-31T13:43:45.723Z"
   },
   {
    "duration": 5,
    "start_time": "2022-10-31T13:54:00.733Z"
   },
   {
    "duration": 715,
    "start_time": "2022-10-31T13:54:01.941Z"
   },
   {
    "duration": 13,
    "start_time": "2022-10-31T13:54:03.032Z"
   },
   {
    "duration": 128,
    "start_time": "2022-10-31T13:54:04.965Z"
   },
   {
    "duration": 17,
    "start_time": "2022-10-31T13:54:17.648Z"
   },
   {
    "duration": 51,
    "start_time": "2022-10-31T13:54:28.747Z"
   },
   {
    "duration": 5,
    "start_time": "2022-10-31T13:54:29.320Z"
   },
   {
    "duration": 4,
    "start_time": "2022-10-31T13:54:42.695Z"
   },
   {
    "duration": 708,
    "start_time": "2022-10-31T13:54:43.557Z"
   },
   {
    "duration": 37,
    "start_time": "2022-10-31T13:54:51.191Z"
   },
   {
    "duration": 35,
    "start_time": "2022-10-31T13:54:53.640Z"
   },
   {
    "duration": 5,
    "start_time": "2022-10-31T13:54:54.125Z"
   },
   {
    "duration": 19,
    "start_time": "2022-10-31T13:55:01.446Z"
   },
   {
    "duration": 117,
    "start_time": "2022-10-31T13:55:04.294Z"
   },
   {
    "duration": 212,
    "start_time": "2022-10-31T13:55:06.389Z"
   },
   {
    "duration": 3,
    "start_time": "2022-10-31T13:55:18.854Z"
   },
   {
    "duration": 1386,
    "start_time": "2022-10-31T13:55:26.912Z"
   },
   {
    "duration": 2,
    "start_time": "2022-10-31T13:56:23.019Z"
   },
   {
    "duration": 1781,
    "start_time": "2022-10-31T13:56:24.136Z"
   },
   {
    "duration": 175,
    "start_time": "2022-10-31T13:57:06.909Z"
   },
   {
    "duration": 5782,
    "start_time": "2022-10-31T13:57:08.105Z"
   },
   {
    "duration": 779,
    "start_time": "2022-10-31T13:57:18.102Z"
   },
   {
    "duration": 5,
    "start_time": "2022-10-31T13:57:20.518Z"
   },
   {
    "duration": 3,
    "start_time": "2022-10-31T13:59:34.329Z"
   },
   {
    "duration": 1294,
    "start_time": "2022-10-31T13:59:40.833Z"
   },
   {
    "duration": 9,
    "start_time": "2022-10-31T14:00:24.674Z"
   },
   {
    "duration": 1616,
    "start_time": "2022-10-31T14:00:27.913Z"
   },
   {
    "duration": 18,
    "start_time": "2022-10-31T14:00:42.419Z"
   },
   {
    "duration": 119,
    "start_time": "2022-10-31T14:00:43.744Z"
   },
   {
    "duration": 1571,
    "start_time": "2022-10-31T14:01:00.355Z"
   },
   {
    "duration": 778,
    "start_time": "2022-10-31T14:01:01.928Z"
   },
   {
    "duration": 19,
    "start_time": "2022-10-31T14:01:02.709Z"
   },
   {
    "duration": 123,
    "start_time": "2022-10-31T14:01:02.731Z"
   },
   {
    "duration": 449,
    "start_time": "2022-10-31T14:01:02.855Z"
   },
   {
    "duration": 501,
    "start_time": "2022-10-31T14:01:03.305Z"
   },
   {
    "duration": 90,
    "start_time": "2022-10-31T14:01:03.807Z"
   },
   {
    "duration": 6,
    "start_time": "2022-10-31T14:01:03.898Z"
   },
   {
    "duration": 802,
    "start_time": "2022-10-31T14:01:03.905Z"
   },
   {
    "duration": 35,
    "start_time": "2022-10-31T14:01:04.710Z"
   },
   {
    "duration": 194,
    "start_time": "2022-10-31T14:01:04.747Z"
   },
   {
    "duration": 188,
    "start_time": "2022-10-31T14:01:04.943Z"
   },
   {
    "duration": 21,
    "start_time": "2022-10-31T14:01:05.133Z"
   },
   {
    "duration": 21,
    "start_time": "2022-10-31T14:01:05.156Z"
   },
   {
    "duration": 148,
    "start_time": "2022-10-31T14:01:05.178Z"
   },
   {
    "duration": 388,
    "start_time": "2022-10-31T14:01:05.329Z"
   },
   {
    "duration": 30,
    "start_time": "2022-10-31T14:01:05.719Z"
   },
   {
    "duration": 6,
    "start_time": "2022-10-31T14:01:05.750Z"
   },
   {
    "duration": 43,
    "start_time": "2022-10-31T14:01:05.757Z"
   },
   {
    "duration": 5,
    "start_time": "2022-10-31T14:01:05.802Z"
   },
   {
    "duration": 295,
    "start_time": "2022-10-31T14:01:05.808Z"
   },
   {
    "duration": 305,
    "start_time": "2022-10-31T14:01:06.105Z"
   },
   {
    "duration": 303,
    "start_time": "2022-10-31T14:01:06.412Z"
   },
   {
    "duration": 24,
    "start_time": "2022-10-31T14:01:06.716Z"
   },
   {
    "duration": 301,
    "start_time": "2022-10-31T14:01:06.741Z"
   },
   {
    "duration": 7,
    "start_time": "2022-10-31T14:01:07.044Z"
   },
   {
    "duration": 30,
    "start_time": "2022-10-31T14:01:07.054Z"
   },
   {
    "duration": 19,
    "start_time": "2022-10-31T14:01:07.090Z"
   },
   {
    "duration": 20,
    "start_time": "2022-10-31T14:01:07.111Z"
   },
   {
    "duration": 17,
    "start_time": "2022-10-31T14:01:07.132Z"
   },
   {
    "duration": 35,
    "start_time": "2022-10-31T14:01:07.151Z"
   },
   {
    "duration": 20,
    "start_time": "2022-10-31T14:01:07.188Z"
   },
   {
    "duration": 21,
    "start_time": "2022-10-31T14:01:07.210Z"
   },
   {
    "duration": 20,
    "start_time": "2022-10-31T14:01:07.232Z"
   },
   {
    "duration": 18,
    "start_time": "2022-10-31T14:01:07.253Z"
   },
   {
    "duration": 18,
    "start_time": "2022-10-31T14:01:07.273Z"
   },
   {
    "duration": 18,
    "start_time": "2022-10-31T14:01:07.292Z"
   },
   {
    "duration": 66,
    "start_time": "2022-10-31T14:01:07.312Z"
   },
   {
    "duration": 13,
    "start_time": "2022-10-31T14:01:07.379Z"
   },
   {
    "duration": 117,
    "start_time": "2022-10-31T14:01:07.393Z"
   },
   {
    "duration": 173,
    "start_time": "2022-10-31T14:01:07.512Z"
   },
   {
    "duration": 59,
    "start_time": "2022-10-31T14:01:07.687Z"
   },
   {
    "duration": 2488,
    "start_time": "2022-10-31T14:01:07.748Z"
   },
   {
    "duration": 3,
    "start_time": "2022-10-31T14:01:10.238Z"
   },
   {
    "duration": 679,
    "start_time": "2022-10-31T14:01:10.242Z"
   },
   {
    "duration": 2,
    "start_time": "2022-10-31T14:01:10.923Z"
   },
   {
    "duration": 8,
    "start_time": "2022-10-31T14:01:10.927Z"
   },
   {
    "duration": 8,
    "start_time": "2022-10-31T14:01:10.936Z"
   },
   {
    "duration": 1377,
    "start_time": "2022-10-31T14:01:10.945Z"
   },
   {
    "duration": 10,
    "start_time": "2022-10-31T14:01:12.324Z"
   },
   {
    "duration": 4,
    "start_time": "2022-10-31T14:01:12.336Z"
   },
   {
    "duration": 7,
    "start_time": "2022-10-31T14:01:12.342Z"
   },
   {
    "duration": 81041,
    "start_time": "2022-10-31T14:01:12.350Z"
   },
   {
    "duration": 75,
    "start_time": "2022-10-31T14:02:33.393Z"
   },
   {
    "duration": 5,
    "start_time": "2022-10-31T14:02:33.477Z"
   },
   {
    "duration": 15,
    "start_time": "2022-10-31T14:02:33.484Z"
   },
   {
    "duration": 6,
    "start_time": "2022-10-31T14:02:33.501Z"
   },
   {
    "duration": 2215,
    "start_time": "2022-10-31T14:02:33.508Z"
   },
   {
    "duration": 61,
    "start_time": "2022-10-31T14:02:35.725Z"
   },
   {
    "duration": 10,
    "start_time": "2022-10-31T14:02:35.788Z"
   },
   {
    "duration": 0,
    "start_time": "2022-10-31T14:02:35.799Z"
   },
   {
    "duration": 0,
    "start_time": "2022-10-31T14:02:35.800Z"
   },
   {
    "duration": 0,
    "start_time": "2022-10-31T14:02:35.801Z"
   },
   {
    "duration": 1,
    "start_time": "2022-10-31T14:02:35.802Z"
   },
   {
    "duration": 1,
    "start_time": "2022-10-31T14:02:35.803Z"
   },
   {
    "duration": 18,
    "start_time": "2022-10-31T14:04:04.237Z"
   },
   {
    "duration": 18,
    "start_time": "2022-10-31T14:06:29.636Z"
   },
   {
    "duration": 16,
    "start_time": "2022-10-31T14:06:45.865Z"
   },
   {
    "duration": 51,
    "start_time": "2022-10-31T14:06:58.027Z"
   },
   {
    "duration": 165,
    "start_time": "2022-10-31T14:07:12.859Z"
   },
   {
    "duration": 1444,
    "start_time": "2022-10-31T14:07:32.438Z"
   },
   {
    "duration": 800,
    "start_time": "2022-10-31T14:07:33.883Z"
   },
   {
    "duration": 18,
    "start_time": "2022-10-31T14:07:34.685Z"
   },
   {
    "duration": 131,
    "start_time": "2022-10-31T14:07:34.705Z"
   },
   {
    "duration": 520,
    "start_time": "2022-10-31T14:07:34.838Z"
   },
   {
    "duration": 491,
    "start_time": "2022-10-31T14:07:35.360Z"
   },
   {
    "duration": 82,
    "start_time": "2022-10-31T14:07:35.853Z"
   },
   {
    "duration": 6,
    "start_time": "2022-10-31T14:07:35.936Z"
   },
   {
    "duration": 790,
    "start_time": "2022-10-31T14:07:35.943Z"
   },
   {
    "duration": 43,
    "start_time": "2022-10-31T14:07:36.736Z"
   },
   {
    "duration": 183,
    "start_time": "2022-10-31T14:07:36.781Z"
   },
   {
    "duration": 211,
    "start_time": "2022-10-31T14:07:36.966Z"
   },
   {
    "duration": 16,
    "start_time": "2022-10-31T14:07:37.179Z"
   },
   {
    "duration": 4,
    "start_time": "2022-10-31T14:07:37.197Z"
   },
   {
    "duration": 131,
    "start_time": "2022-10-31T14:07:37.203Z"
   },
   {
    "duration": 397,
    "start_time": "2022-10-31T14:07:37.335Z"
   },
   {
    "duration": 27,
    "start_time": "2022-10-31T14:07:37.733Z"
   },
   {
    "duration": 21,
    "start_time": "2022-10-31T14:07:37.761Z"
   },
   {
    "duration": 29,
    "start_time": "2022-10-31T14:07:37.783Z"
   },
   {
    "duration": 6,
    "start_time": "2022-10-31T14:07:37.814Z"
   },
   {
    "duration": 308,
    "start_time": "2022-10-31T14:07:37.822Z"
   },
   {
    "duration": 305,
    "start_time": "2022-10-31T14:07:38.131Z"
   },
   {
    "duration": 305,
    "start_time": "2022-10-31T14:07:38.438Z"
   },
   {
    "duration": 34,
    "start_time": "2022-10-31T14:07:38.745Z"
   },
   {
    "duration": 288,
    "start_time": "2022-10-31T14:07:38.781Z"
   },
   {
    "duration": 9,
    "start_time": "2022-10-31T14:07:39.070Z"
   },
   {
    "duration": 21,
    "start_time": "2022-10-31T14:07:39.081Z"
   },
   {
    "duration": 20,
    "start_time": "2022-10-31T14:07:39.106Z"
   },
   {
    "duration": 17,
    "start_time": "2022-10-31T14:07:39.128Z"
   },
   {
    "duration": 35,
    "start_time": "2022-10-31T14:07:39.147Z"
   },
   {
    "duration": 21,
    "start_time": "2022-10-31T14:07:39.183Z"
   },
   {
    "duration": 23,
    "start_time": "2022-10-31T14:07:39.205Z"
   },
   {
    "duration": 21,
    "start_time": "2022-10-31T14:07:39.230Z"
   },
   {
    "duration": 33,
    "start_time": "2022-10-31T14:07:39.253Z"
   },
   {
    "duration": 21,
    "start_time": "2022-10-31T14:07:39.288Z"
   },
   {
    "duration": 18,
    "start_time": "2022-10-31T14:07:39.311Z"
   },
   {
    "duration": 24,
    "start_time": "2022-10-31T14:07:39.331Z"
   },
   {
    "duration": 75,
    "start_time": "2022-10-31T14:07:39.357Z"
   },
   {
    "duration": 15,
    "start_time": "2022-10-31T14:07:39.434Z"
   },
   {
    "duration": 131,
    "start_time": "2022-10-31T14:07:39.450Z"
   },
   {
    "duration": 181,
    "start_time": "2022-10-31T14:07:39.582Z"
   },
   {
    "duration": 67,
    "start_time": "2022-10-31T14:07:39.765Z"
   },
   {
    "duration": 2505,
    "start_time": "2022-10-31T14:07:39.834Z"
   },
   {
    "duration": 3,
    "start_time": "2022-10-31T14:07:42.341Z"
   },
   {
    "duration": 737,
    "start_time": "2022-10-31T14:07:42.346Z"
   },
   {
    "duration": 22,
    "start_time": "2022-10-31T14:07:43.085Z"
   },
   {
    "duration": 2,
    "start_time": "2022-10-31T14:07:43.110Z"
   },
   {
    "duration": 6,
    "start_time": "2022-10-31T14:07:43.113Z"
   },
   {
    "duration": 9,
    "start_time": "2022-10-31T14:07:43.120Z"
   },
   {
    "duration": 1347,
    "start_time": "2022-10-31T14:07:43.130Z"
   },
   {
    "duration": 11,
    "start_time": "2022-10-31T14:07:44.479Z"
   },
   {
    "duration": 14,
    "start_time": "2022-10-31T14:07:44.492Z"
   },
   {
    "duration": 7,
    "start_time": "2022-10-31T14:07:44.508Z"
   },
   {
    "duration": 81804,
    "start_time": "2022-10-31T14:07:44.517Z"
   },
   {
    "duration": 80,
    "start_time": "2022-10-31T14:09:06.322Z"
   },
   {
    "duration": 5,
    "start_time": "2022-10-31T14:09:06.403Z"
   },
   {
    "duration": 6,
    "start_time": "2022-10-31T14:09:06.410Z"
   },
   {
    "duration": 7,
    "start_time": "2022-10-31T14:09:06.417Z"
   },
   {
    "duration": 7244,
    "start_time": "2022-10-31T14:09:06.425Z"
   },
   {
    "duration": 97,
    "start_time": "2022-10-31T14:09:13.671Z"
   },
   {
    "duration": 10,
    "start_time": "2022-10-31T14:09:13.769Z"
   },
   {
    "duration": 138,
    "start_time": "2022-10-31T14:09:13.781Z"
   },
   {
    "duration": 4361,
    "start_time": "2022-10-31T14:09:13.921Z"
   },
   {
    "duration": 606,
    "start_time": "2022-10-31T14:09:18.283Z"
   },
   {
    "duration": 5,
    "start_time": "2022-10-31T14:09:18.891Z"
   },
   {
    "duration": 89,
    "start_time": "2022-10-31T14:09:18.897Z"
   },
   {
    "duration": 50,
    "start_time": "2022-10-31T14:19:55.680Z"
   },
   {
    "duration": 1421,
    "start_time": "2022-10-31T14:20:03.542Z"
   },
   {
    "duration": 1094,
    "start_time": "2022-10-31T14:20:05.044Z"
   },
   {
    "duration": 5,
    "start_time": "2022-10-31T14:20:21.685Z"
   },
   {
    "duration": 782,
    "start_time": "2022-10-31T14:20:22.113Z"
   },
   {
    "duration": 17,
    "start_time": "2022-10-31T14:20:22.896Z"
   },
   {
    "duration": 114,
    "start_time": "2022-10-31T14:20:23.028Z"
   },
   {
    "duration": 417,
    "start_time": "2022-10-31T14:20:23.701Z"
   },
   {
    "duration": 449,
    "start_time": "2022-10-31T14:20:24.183Z"
   },
   {
    "duration": 75,
    "start_time": "2022-10-31T14:20:24.859Z"
   },
   {
    "duration": 10,
    "start_time": "2022-10-31T14:20:25.293Z"
   },
   {
    "duration": 745,
    "start_time": "2022-10-31T14:20:26.174Z"
   },
   {
    "duration": 29,
    "start_time": "2022-10-31T14:20:26.922Z"
   },
   {
    "duration": 152,
    "start_time": "2022-10-31T14:20:27.341Z"
   },
   {
    "duration": 159,
    "start_time": "2022-10-31T14:20:27.805Z"
   },
   {
    "duration": 36,
    "start_time": "2022-10-31T14:20:28.588Z"
   },
   {
    "duration": 5,
    "start_time": "2022-10-31T14:20:28.829Z"
   },
   {
    "duration": 104,
    "start_time": "2022-10-31T14:20:29.613Z"
   },
   {
    "duration": 368,
    "start_time": "2022-10-31T14:20:31.295Z"
   },
   {
    "duration": 29,
    "start_time": "2022-10-31T14:20:32.628Z"
   },
   {
    "duration": 6,
    "start_time": "2022-10-31T14:20:34.212Z"
   },
   {
    "duration": 28,
    "start_time": "2022-10-31T14:20:34.781Z"
   },
   {
    "duration": 6,
    "start_time": "2022-10-31T14:20:35.669Z"
   },
   {
    "duration": 275,
    "start_time": "2022-10-31T14:20:36.141Z"
   },
   {
    "duration": 345,
    "start_time": "2022-10-31T14:20:36.878Z"
   },
   {
    "duration": 299,
    "start_time": "2022-10-31T14:20:37.365Z"
   },
   {
    "duration": 24,
    "start_time": "2022-10-31T14:20:37.877Z"
   },
   {
    "duration": 281,
    "start_time": "2022-10-31T14:20:38.158Z"
   },
   {
    "duration": 7,
    "start_time": "2022-10-31T14:20:38.949Z"
   },
   {
    "duration": 18,
    "start_time": "2022-10-31T14:20:39.766Z"
   },
   {
    "duration": 17,
    "start_time": "2022-10-31T14:20:40.927Z"
   },
   {
    "duration": 14,
    "start_time": "2022-10-31T14:20:41.437Z"
   },
   {
    "duration": 14,
    "start_time": "2022-10-31T14:20:41.957Z"
   },
   {
    "duration": 14,
    "start_time": "2022-10-31T14:20:42.477Z"
   },
   {
    "duration": 17,
    "start_time": "2022-10-31T14:20:42.980Z"
   },
   {
    "duration": 18,
    "start_time": "2022-10-31T14:20:43.495Z"
   },
   {
    "duration": 16,
    "start_time": "2022-10-31T14:20:44.019Z"
   },
   {
    "duration": 14,
    "start_time": "2022-10-31T14:20:44.524Z"
   },
   {
    "duration": 15,
    "start_time": "2022-10-31T14:20:45.053Z"
   },
   {
    "duration": 16,
    "start_time": "2022-10-31T14:20:45.573Z"
   },
   {
    "duration": 59,
    "start_time": "2022-10-31T14:20:46.148Z"
   },
   {
    "duration": 13,
    "start_time": "2022-10-31T14:20:49.076Z"
   },
   {
    "duration": 102,
    "start_time": "2022-10-31T14:20:49.837Z"
   },
   {
    "duration": 185,
    "start_time": "2022-10-31T14:20:50.919Z"
   },
   {
    "duration": 75,
    "start_time": "2022-10-31T14:20:53.334Z"
   },
   {
    "duration": 10,
    "start_time": "2022-10-31T14:21:06.678Z"
   },
   {
    "duration": 3,
    "start_time": "2022-10-31T14:21:12.120Z"
   },
   {
    "duration": 19,
    "start_time": "2022-10-31T14:21:14.430Z"
   },
   {
    "duration": 10,
    "start_time": "2022-10-31T14:21:25.524Z"
   },
   {
    "duration": 10,
    "start_time": "2022-10-31T14:22:04.803Z"
   },
   {
    "duration": 402,
    "start_time": "2022-10-31T14:29:03.092Z"
   },
   {
    "duration": 6522,
    "start_time": "2022-10-31T14:29:07.620Z"
   },
   {
    "duration": 15,
    "start_time": "2022-10-31T14:29:17.668Z"
   },
   {
    "duration": 4,
    "start_time": "2022-10-31T14:29:34.620Z"
   },
   {
    "duration": 10,
    "start_time": "2022-10-31T14:29:45.747Z"
   },
   {
    "duration": 2350,
    "start_time": "2022-10-31T14:30:17.620Z"
   },
   {
    "duration": 15,
    "start_time": "2022-10-31T14:30:30.349Z"
   },
   {
    "duration": 5,
    "start_time": "2022-10-31T17:00:42.640Z"
   },
   {
    "duration": 735,
    "start_time": "2022-10-31T17:00:43.758Z"
   },
   {
    "duration": 14,
    "start_time": "2022-10-31T17:00:44.813Z"
   },
   {
    "duration": 112,
    "start_time": "2022-10-31T17:00:46.359Z"
   },
   {
    "duration": 379,
    "start_time": "2022-10-31T17:00:47.025Z"
   },
   {
    "duration": 389,
    "start_time": "2022-10-31T17:00:47.466Z"
   },
   {
    "duration": 71,
    "start_time": "2022-10-31T17:00:48.221Z"
   },
   {
    "duration": 7,
    "start_time": "2022-10-31T17:00:48.715Z"
   },
   {
    "duration": 715,
    "start_time": "2022-10-31T17:00:53.632Z"
   },
   {
    "duration": 25,
    "start_time": "2022-10-31T17:00:58.068Z"
   },
   {
    "duration": 163,
    "start_time": "2022-10-31T17:00:58.997Z"
   },
   {
    "duration": 169,
    "start_time": "2022-10-31T17:00:59.653Z"
   },
   {
    "duration": 15,
    "start_time": "2022-10-31T17:01:00.829Z"
   },
   {
    "duration": 4,
    "start_time": "2022-10-31T17:01:02.615Z"
   },
   {
    "duration": 69,
    "start_time": "2022-10-31T17:01:04.737Z"
   },
   {
    "duration": 356,
    "start_time": "2022-10-31T17:01:06.036Z"
   },
   {
    "duration": 27,
    "start_time": "2022-10-31T17:01:06.548Z"
   },
   {
    "duration": 7,
    "start_time": "2022-10-31T17:01:07.270Z"
   },
   {
    "duration": 25,
    "start_time": "2022-10-31T17:01:07.728Z"
   },
   {
    "duration": 6,
    "start_time": "2022-10-31T17:01:08.654Z"
   },
   {
    "duration": 193,
    "start_time": "2022-10-31T17:01:09.112Z"
   },
   {
    "duration": 407,
    "start_time": "2022-10-31T17:01:09.820Z"
   },
   {
    "duration": 293,
    "start_time": "2022-10-31T17:01:10.349Z"
   },
   {
    "duration": 24,
    "start_time": "2022-10-31T17:01:10.840Z"
   },
   {
    "duration": 278,
    "start_time": "2022-10-31T17:01:11.102Z"
   },
   {
    "duration": 8,
    "start_time": "2022-10-31T17:01:11.877Z"
   },
   {
    "duration": 20,
    "start_time": "2022-10-31T17:01:12.667Z"
   },
   {
    "duration": 15,
    "start_time": "2022-10-31T17:01:13.631Z"
   },
   {
    "duration": 14,
    "start_time": "2022-10-31T17:01:14.160Z"
   },
   {
    "duration": 15,
    "start_time": "2022-10-31T17:01:14.637Z"
   },
   {
    "duration": 19,
    "start_time": "2022-10-31T17:01:15.173Z"
   },
   {
    "duration": 17,
    "start_time": "2022-10-31T17:01:15.733Z"
   },
   {
    "duration": 15,
    "start_time": "2022-10-31T17:01:16.309Z"
   },
   {
    "duration": 17,
    "start_time": "2022-10-31T17:01:16.893Z"
   },
   {
    "duration": 16,
    "start_time": "2022-10-31T17:01:17.701Z"
   },
   {
    "duration": 17,
    "start_time": "2022-10-31T17:01:18.169Z"
   },
   {
    "duration": 15,
    "start_time": "2022-10-31T17:01:19.082Z"
   },
   {
    "duration": 58,
    "start_time": "2022-10-31T17:01:19.700Z"
   },
   {
    "duration": 16,
    "start_time": "2022-10-31T17:01:26.157Z"
   },
   {
    "duration": 97,
    "start_time": "2022-10-31T17:01:27.137Z"
   },
   {
    "duration": 154,
    "start_time": "2022-10-31T17:01:30.749Z"
   },
   {
    "duration": 11,
    "start_time": "2022-10-31T17:01:37.432Z"
   },
   {
    "duration": 2498,
    "start_time": "2022-10-31T17:01:40.163Z"
   },
   {
    "duration": 15,
    "start_time": "2022-10-31T17:01:45.469Z"
   },
   {
    "duration": 22,
    "start_time": "2022-10-31T17:02:44.824Z"
   },
   {
    "duration": 17,
    "start_time": "2022-10-31T17:03:06.015Z"
   },
   {
    "duration": 525,
    "start_time": "2022-10-31T17:08:13.299Z"
   },
   {
    "duration": 507,
    "start_time": "2022-10-31T17:08:14.409Z"
   },
   {
    "duration": 178,
    "start_time": "2022-10-31T17:08:15.207Z"
   },
   {
    "duration": 16568,
    "start_time": "2022-10-31T17:08:21.811Z"
   },
   {
    "duration": 67,
    "start_time": "2022-10-31T17:08:42.832Z"
   },
   {
    "duration": 5,
    "start_time": "2022-10-31T17:08:47.487Z"
   },
   {
    "duration": 5,
    "start_time": "2022-10-31T17:08:53.802Z"
   },
   {
    "duration": 483,
    "start_time": "2022-10-31T17:11:21.502Z"
   },
   {
    "duration": 494,
    "start_time": "2022-10-31T17:11:22.466Z"
   },
   {
    "duration": 29,
    "start_time": "2022-10-31T17:12:11.232Z"
   },
   {
    "duration": 25,
    "start_time": "2022-10-31T17:12:15.674Z"
   },
   {
    "duration": 26,
    "start_time": "2022-10-31T17:12:39.581Z"
   },
   {
    "duration": 5,
    "start_time": "2022-10-31T17:12:54.516Z"
   },
   {
    "duration": 9,
    "start_time": "2022-10-31T17:25:07.642Z"
   },
   {
    "duration": 1250,
    "start_time": "2022-10-31T17:29:13.508Z"
   },
   {
    "duration": 844,
    "start_time": "2022-10-31T17:29:14.760Z"
   },
   {
    "duration": 16,
    "start_time": "2022-10-31T17:29:15.606Z"
   },
   {
    "duration": 137,
    "start_time": "2022-10-31T17:29:15.624Z"
   },
   {
    "duration": 454,
    "start_time": "2022-10-31T17:29:15.764Z"
   },
   {
    "duration": 517,
    "start_time": "2022-10-31T17:29:16.219Z"
   },
   {
    "duration": 90,
    "start_time": "2022-10-31T17:29:16.738Z"
   },
   {
    "duration": 8,
    "start_time": "2022-10-31T17:29:16.830Z"
   },
   {
    "duration": 823,
    "start_time": "2022-10-31T17:29:16.840Z"
   },
   {
    "duration": 40,
    "start_time": "2022-10-31T17:29:17.666Z"
   },
   {
    "duration": 189,
    "start_time": "2022-10-31T17:29:17.708Z"
   },
   {
    "duration": 176,
    "start_time": "2022-10-31T17:29:17.898Z"
   },
   {
    "duration": 18,
    "start_time": "2022-10-31T17:29:18.077Z"
   },
   {
    "duration": 4,
    "start_time": "2022-10-31T17:29:18.097Z"
   },
   {
    "duration": 124,
    "start_time": "2022-10-31T17:29:18.102Z"
   },
   {
    "duration": 403,
    "start_time": "2022-10-31T17:29:18.228Z"
   },
   {
    "duration": 31,
    "start_time": "2022-10-31T17:29:18.633Z"
   },
   {
    "duration": 8,
    "start_time": "2022-10-31T17:29:18.676Z"
   },
   {
    "duration": 34,
    "start_time": "2022-10-31T17:29:18.686Z"
   },
   {
    "duration": 6,
    "start_time": "2022-10-31T17:29:18.722Z"
   },
   {
    "duration": 225,
    "start_time": "2022-10-31T17:29:18.730Z"
   },
   {
    "duration": 380,
    "start_time": "2022-10-31T17:29:18.956Z"
   },
   {
    "duration": 281,
    "start_time": "2022-10-31T17:29:19.338Z"
   },
   {
    "duration": 22,
    "start_time": "2022-10-31T17:29:19.620Z"
   },
   {
    "duration": 282,
    "start_time": "2022-10-31T17:29:19.644Z"
   },
   {
    "duration": 7,
    "start_time": "2022-10-31T17:29:19.927Z"
   },
   {
    "duration": 20,
    "start_time": "2022-10-31T17:29:19.936Z"
   },
   {
    "duration": 15,
    "start_time": "2022-10-31T17:29:19.976Z"
   },
   {
    "duration": 19,
    "start_time": "2022-10-31T17:29:19.992Z"
   },
   {
    "duration": 20,
    "start_time": "2022-10-31T17:29:20.013Z"
   },
   {
    "duration": 18,
    "start_time": "2022-10-31T17:29:20.035Z"
   },
   {
    "duration": 34,
    "start_time": "2022-10-31T17:29:20.055Z"
   },
   {
    "duration": 23,
    "start_time": "2022-10-31T17:29:20.091Z"
   },
   {
    "duration": 18,
    "start_time": "2022-10-31T17:29:20.116Z"
   },
   {
    "duration": 44,
    "start_time": "2022-10-31T17:29:20.136Z"
   },
   {
    "duration": 23,
    "start_time": "2022-10-31T17:29:20.181Z"
   },
   {
    "duration": 21,
    "start_time": "2022-10-31T17:29:20.206Z"
   },
   {
    "duration": 63,
    "start_time": "2022-10-31T17:29:20.228Z"
   },
   {
    "duration": 12,
    "start_time": "2022-10-31T17:29:20.292Z"
   },
   {
    "duration": 126,
    "start_time": "2022-10-31T17:29:20.307Z"
   },
   {
    "duration": 169,
    "start_time": "2022-10-31T17:29:20.435Z"
   },
   {
    "duration": 517,
    "start_time": "2022-10-31T17:29:20.605Z"
   },
   {
    "duration": 502,
    "start_time": "2022-10-31T17:29:21.123Z"
   },
   {
    "duration": 144,
    "start_time": "2022-10-31T17:29:21.627Z"
   },
   {
    "duration": 4,
    "start_time": "2022-10-31T17:29:21.772Z"
   },
   {
    "duration": 135,
    "start_time": "2022-10-31T17:29:21.778Z"
   },
   {
    "duration": 0,
    "start_time": "2022-10-31T17:29:21.914Z"
   },
   {
    "duration": 0,
    "start_time": "2022-10-31T17:29:21.915Z"
   },
   {
    "duration": 0,
    "start_time": "2022-10-31T17:29:21.916Z"
   },
   {
    "duration": 0,
    "start_time": "2022-10-31T17:29:21.917Z"
   },
   {
    "duration": 0,
    "start_time": "2022-10-31T17:29:21.918Z"
   },
   {
    "duration": 0,
    "start_time": "2022-10-31T17:29:21.919Z"
   },
   {
    "duration": 0,
    "start_time": "2022-10-31T17:29:21.920Z"
   },
   {
    "duration": 0,
    "start_time": "2022-10-31T17:29:21.921Z"
   },
   {
    "duration": 0,
    "start_time": "2022-10-31T17:29:21.922Z"
   },
   {
    "duration": 0,
    "start_time": "2022-10-31T17:29:21.923Z"
   },
   {
    "duration": 0,
    "start_time": "2022-10-31T17:29:21.924Z"
   },
   {
    "duration": 0,
    "start_time": "2022-10-31T17:29:21.925Z"
   },
   {
    "duration": 0,
    "start_time": "2022-10-31T17:29:21.926Z"
   },
   {
    "duration": 0,
    "start_time": "2022-10-31T17:29:21.926Z"
   },
   {
    "duration": 0,
    "start_time": "2022-10-31T17:29:21.928Z"
   },
   {
    "duration": 0,
    "start_time": "2022-10-31T17:29:21.929Z"
   },
   {
    "duration": 0,
    "start_time": "2022-10-31T17:29:21.930Z"
   },
   {
    "duration": 0,
    "start_time": "2022-10-31T17:29:21.931Z"
   },
   {
    "duration": 0,
    "start_time": "2022-10-31T17:29:21.932Z"
   },
   {
    "duration": 575,
    "start_time": "2022-10-31T17:32:07.389Z"
   },
   {
    "duration": 10,
    "start_time": "2022-10-31T17:32:47.723Z"
   },
   {
    "duration": 18,
    "start_time": "2022-10-31T17:32:55.255Z"
   },
   {
    "duration": 714,
    "start_time": "2022-10-31T17:33:22.952Z"
   },
   {
    "duration": 17515,
    "start_time": "2022-10-31T17:33:31.477Z"
   },
   {
    "duration": 107,
    "start_time": "2022-10-31T17:33:53.873Z"
   },
   {
    "duration": 5,
    "start_time": "2022-10-31T17:33:55.023Z"
   },
   {
    "duration": 2405,
    "start_time": "2022-10-31T17:33:56.250Z"
   },
   {
    "duration": 22,
    "start_time": "2022-10-31T17:33:58.658Z"
   },
   {
    "duration": 6,
    "start_time": "2022-10-31T17:33:58.682Z"
   },
   {
    "duration": 6,
    "start_time": "2022-10-31T17:33:58.691Z"
   },
   {
    "duration": 4,
    "start_time": "2022-10-31T17:34:27.344Z"
   },
   {
    "duration": 149622,
    "start_time": "2022-10-31T17:34:31.795Z"
   },
   {
    "duration": 119,
    "start_time": "2022-10-31T17:37:09.064Z"
   },
   {
    "duration": 5,
    "start_time": "2022-10-31T17:37:10.296Z"
   },
   {
    "duration": 6,
    "start_time": "2022-10-31T17:37:13.062Z"
   },
   {
    "duration": 4,
    "start_time": "2022-10-31T17:37:26.970Z"
   },
   {
    "duration": 6950,
    "start_time": "2022-10-31T17:37:45.723Z"
   },
   {
    "duration": 74,
    "start_time": "2022-10-31T17:37:55.584Z"
   },
   {
    "duration": 6,
    "start_time": "2022-10-31T17:37:58.732Z"
   },
   {
    "duration": 120,
    "start_time": "2022-10-31T17:38:00.887Z"
   },
   {
    "duration": 5262,
    "start_time": "2022-10-31T17:38:09.226Z"
   },
   {
    "duration": 564,
    "start_time": "2022-10-31T17:38:18.419Z"
   },
   {
    "duration": 5,
    "start_time": "2022-10-31T17:38:20.328Z"
   },
   {
    "duration": 11,
    "start_time": "2022-10-31T17:38:30.088Z"
   },
   {
    "duration": 1295,
    "start_time": "2022-10-31T17:40:30.790Z"
   },
   {
    "duration": 806,
    "start_time": "2022-10-31T17:40:32.087Z"
   },
   {
    "duration": 18,
    "start_time": "2022-10-31T17:40:32.895Z"
   },
   {
    "duration": 132,
    "start_time": "2022-10-31T17:40:32.915Z"
   },
   {
    "duration": 475,
    "start_time": "2022-10-31T17:40:33.049Z"
   },
   {
    "duration": 502,
    "start_time": "2022-10-31T17:40:33.527Z"
   },
   {
    "duration": 89,
    "start_time": "2022-10-31T17:40:34.031Z"
   },
   {
    "duration": 8,
    "start_time": "2022-10-31T17:40:34.122Z"
   },
   {
    "duration": 849,
    "start_time": "2022-10-31T17:40:34.132Z"
   },
   {
    "duration": 36,
    "start_time": "2022-10-31T17:40:34.984Z"
   },
   {
    "duration": 342,
    "start_time": "2022-10-31T17:40:35.022Z"
   },
   {
    "duration": 196,
    "start_time": "2022-10-31T17:40:35.366Z"
   },
   {
    "duration": 28,
    "start_time": "2022-10-31T17:40:35.563Z"
   },
   {
    "duration": 4,
    "start_time": "2022-10-31T17:40:35.593Z"
   },
   {
    "duration": 123,
    "start_time": "2022-10-31T17:40:35.598Z"
   },
   {
    "duration": 430,
    "start_time": "2022-10-31T17:40:35.723Z"
   },
   {
    "duration": 40,
    "start_time": "2022-10-31T17:40:36.155Z"
   },
   {
    "duration": 6,
    "start_time": "2022-10-31T17:40:36.197Z"
   },
   {
    "duration": 32,
    "start_time": "2022-10-31T17:40:36.205Z"
   },
   {
    "duration": 18,
    "start_time": "2022-10-31T17:40:36.239Z"
   },
   {
    "duration": 196,
    "start_time": "2022-10-31T17:40:36.278Z"
   },
   {
    "duration": 367,
    "start_time": "2022-10-31T17:40:36.476Z"
   },
   {
    "duration": 331,
    "start_time": "2022-10-31T17:40:36.845Z"
   },
   {
    "duration": 25,
    "start_time": "2022-10-31T17:40:37.178Z"
   },
   {
    "duration": 320,
    "start_time": "2022-10-31T17:40:37.205Z"
   },
   {
    "duration": 8,
    "start_time": "2022-10-31T17:40:37.527Z"
   },
   {
    "duration": 41,
    "start_time": "2022-10-31T17:40:37.537Z"
   },
   {
    "duration": 18,
    "start_time": "2022-10-31T17:40:37.582Z"
   },
   {
    "duration": 23,
    "start_time": "2022-10-31T17:40:37.601Z"
   },
   {
    "duration": 22,
    "start_time": "2022-10-31T17:40:37.626Z"
   },
   {
    "duration": 38,
    "start_time": "2022-10-31T17:40:37.650Z"
   },
   {
    "duration": 18,
    "start_time": "2022-10-31T17:40:37.690Z"
   },
   {
    "duration": 18,
    "start_time": "2022-10-31T17:40:37.710Z"
   },
   {
    "duration": 17,
    "start_time": "2022-10-31T17:40:37.730Z"
   },
   {
    "duration": 15,
    "start_time": "2022-10-31T17:40:37.777Z"
   },
   {
    "duration": 17,
    "start_time": "2022-10-31T17:40:37.794Z"
   },
   {
    "duration": 26,
    "start_time": "2022-10-31T17:40:37.813Z"
   },
   {
    "duration": 82,
    "start_time": "2022-10-31T17:40:37.840Z"
   },
   {
    "duration": 13,
    "start_time": "2022-10-31T17:40:37.924Z"
   },
   {
    "duration": 135,
    "start_time": "2022-10-31T17:40:37.938Z"
   },
   {
    "duration": 166,
    "start_time": "2022-10-31T17:40:38.075Z"
   },
   {
    "duration": 590,
    "start_time": "2022-10-31T17:40:38.242Z"
   },
   {
    "duration": 513,
    "start_time": "2022-10-31T17:40:38.833Z"
   },
   {
    "duration": 153,
    "start_time": "2022-10-31T17:40:39.347Z"
   },
   {
    "duration": 3,
    "start_time": "2022-10-31T17:40:39.502Z"
   },
   {
    "duration": 736,
    "start_time": "2022-10-31T17:40:39.507Z"
   },
   {
    "duration": 15737,
    "start_time": "2022-10-31T17:40:40.245Z"
   },
   {
    "duration": 120,
    "start_time": "2022-10-31T17:40:55.984Z"
   },
   {
    "duration": 73,
    "start_time": "2022-10-31T17:40:56.106Z"
   },
   {
    "duration": 2489,
    "start_time": "2022-10-31T17:40:56.181Z"
   },
   {
    "duration": 15,
    "start_time": "2022-10-31T17:40:58.671Z"
   },
   {
    "duration": 5,
    "start_time": "2022-10-31T17:40:58.687Z"
   },
   {
    "duration": 5,
    "start_time": "2022-10-31T17:40:58.694Z"
   },
   {
    "duration": 151619,
    "start_time": "2022-10-31T17:40:58.701Z"
   },
   {
    "duration": 150,
    "start_time": "2022-10-31T17:43:30.321Z"
   },
   {
    "duration": 5,
    "start_time": "2022-10-31T17:43:30.473Z"
   },
   {
    "duration": 29,
    "start_time": "2022-10-31T17:43:30.480Z"
   },
   {
    "duration": 6997,
    "start_time": "2022-10-31T17:43:30.511Z"
   },
   {
    "duration": 74,
    "start_time": "2022-10-31T17:43:37.509Z"
   },
   {
    "duration": 5,
    "start_time": "2022-10-31T17:43:37.585Z"
   },
   {
    "duration": 144,
    "start_time": "2022-10-31T17:43:37.592Z"
   },
   {
    "duration": 4854,
    "start_time": "2022-10-31T17:43:37.737Z"
   },
   {
    "duration": 684,
    "start_time": "2022-10-31T17:43:42.593Z"
   },
   {
    "duration": 7,
    "start_time": "2022-10-31T17:43:43.279Z"
   },
   {
    "duration": 44,
    "start_time": "2022-10-31T17:43:43.287Z"
   },
   {
    "duration": 20,
    "start_time": "2022-10-31T17:47:19.712Z"
   },
   {
    "duration": 12,
    "start_time": "2022-10-31T17:48:14.619Z"
   },
   {
    "duration": 28,
    "start_time": "2022-10-31T18:03:00.373Z"
   },
   {
    "duration": 52,
    "start_time": "2022-10-31T18:03:41.515Z"
   },
   {
    "duration": 556,
    "start_time": "2022-10-31T18:03:44.038Z"
   },
   {
    "duration": 1221,
    "start_time": "2022-10-31T18:06:01.570Z"
   },
   {
    "duration": 805,
    "start_time": "2022-10-31T18:06:02.793Z"
   },
   {
    "duration": 17,
    "start_time": "2022-10-31T18:06:03.600Z"
   },
   {
    "duration": 129,
    "start_time": "2022-10-31T18:06:03.619Z"
   },
   {
    "duration": 461,
    "start_time": "2022-10-31T18:06:03.750Z"
   },
   {
    "duration": 492,
    "start_time": "2022-10-31T18:06:04.212Z"
   },
   {
    "duration": 81,
    "start_time": "2022-10-31T18:06:04.705Z"
   },
   {
    "duration": 5,
    "start_time": "2022-10-31T18:06:04.788Z"
   },
   {
    "duration": 908,
    "start_time": "2022-10-31T18:06:04.795Z"
   },
   {
    "duration": 35,
    "start_time": "2022-10-31T18:06:05.706Z"
   },
   {
    "duration": 208,
    "start_time": "2022-10-31T18:06:05.743Z"
   },
   {
    "duration": 182,
    "start_time": "2022-10-31T18:06:05.953Z"
   },
   {
    "duration": 19,
    "start_time": "2022-10-31T18:06:06.136Z"
   },
   {
    "duration": 20,
    "start_time": "2022-10-31T18:06:06.157Z"
   },
   {
    "duration": 121,
    "start_time": "2022-10-31T18:06:06.178Z"
   },
   {
    "duration": 402,
    "start_time": "2022-10-31T18:06:06.301Z"
   },
   {
    "duration": 32,
    "start_time": "2022-10-31T18:06:06.705Z"
   },
   {
    "duration": 6,
    "start_time": "2022-10-31T18:06:06.739Z"
   },
   {
    "duration": 53,
    "start_time": "2022-10-31T18:06:06.747Z"
   },
   {
    "duration": 6,
    "start_time": "2022-10-31T18:06:06.802Z"
   },
   {
    "duration": 248,
    "start_time": "2022-10-31T18:06:06.809Z"
   },
   {
    "duration": 384,
    "start_time": "2022-10-31T18:06:07.059Z"
   },
   {
    "duration": 307,
    "start_time": "2022-10-31T18:06:07.445Z"
   },
   {
    "duration": 33,
    "start_time": "2022-10-31T18:06:07.754Z"
   },
   {
    "duration": 300,
    "start_time": "2022-10-31T18:06:07.789Z"
   },
   {
    "duration": 6,
    "start_time": "2022-10-31T18:06:08.091Z"
   },
   {
    "duration": 23,
    "start_time": "2022-10-31T18:06:08.099Z"
   },
   {
    "duration": 15,
    "start_time": "2022-10-31T18:06:08.126Z"
   },
   {
    "duration": 40,
    "start_time": "2022-10-31T18:06:08.143Z"
   },
   {
    "duration": 20,
    "start_time": "2022-10-31T18:06:08.185Z"
   },
   {
    "duration": 19,
    "start_time": "2022-10-31T18:06:08.207Z"
   },
   {
    "duration": 32,
    "start_time": "2022-10-31T18:06:08.227Z"
   },
   {
    "duration": 21,
    "start_time": "2022-10-31T18:06:08.260Z"
   },
   {
    "duration": 36,
    "start_time": "2022-10-31T18:06:08.282Z"
   },
   {
    "duration": 33,
    "start_time": "2022-10-31T18:06:08.320Z"
   },
   {
    "duration": 24,
    "start_time": "2022-10-31T18:06:08.354Z"
   },
   {
    "duration": 33,
    "start_time": "2022-10-31T18:06:08.380Z"
   },
   {
    "duration": 59,
    "start_time": "2022-10-31T18:06:08.414Z"
   },
   {
    "duration": 13,
    "start_time": "2022-10-31T18:06:08.475Z"
   },
   {
    "duration": 117,
    "start_time": "2022-10-31T18:06:08.490Z"
   },
   {
    "duration": 164,
    "start_time": "2022-10-31T18:06:08.608Z"
   },
   {
    "duration": 502,
    "start_time": "2022-10-31T18:06:08.776Z"
   },
   {
    "duration": 496,
    "start_time": "2022-10-31T18:06:09.280Z"
   },
   {
    "duration": 165,
    "start_time": "2022-10-31T18:06:09.778Z"
   },
   {
    "duration": 3,
    "start_time": "2022-10-31T18:06:09.945Z"
   },
   {
    "duration": 787,
    "start_time": "2022-10-31T18:06:09.949Z"
   },
   {
    "duration": 17752,
    "start_time": "2022-10-31T18:06:10.738Z"
   },
   {
    "duration": 120,
    "start_time": "2022-10-31T18:06:28.492Z"
   },
   {
    "duration": 163,
    "start_time": "2022-10-31T18:06:28.614Z"
   },
   {
    "duration": 2359,
    "start_time": "2022-10-31T18:06:28.779Z"
   },
   {
    "duration": 11,
    "start_time": "2022-10-31T18:06:31.139Z"
   },
   {
    "duration": 18,
    "start_time": "2022-10-31T18:06:31.152Z"
   },
   {
    "duration": 18,
    "start_time": "2022-10-31T18:06:31.176Z"
   },
   {
    "duration": 154079,
    "start_time": "2022-10-31T18:06:31.197Z"
   },
   {
    "duration": 139,
    "start_time": "2022-10-31T18:09:05.279Z"
   },
   {
    "duration": 5,
    "start_time": "2022-10-31T18:09:05.420Z"
   },
   {
    "duration": 18,
    "start_time": "2022-10-31T18:09:05.426Z"
   },
   {
    "duration": 6882,
    "start_time": "2022-10-31T18:09:05.445Z"
   },
   {
    "duration": 79,
    "start_time": "2022-10-31T18:09:12.328Z"
   },
   {
    "duration": 5,
    "start_time": "2022-10-31T18:09:12.409Z"
   },
   {
    "duration": 149,
    "start_time": "2022-10-31T18:09:12.415Z"
   },
   {
    "duration": 5421,
    "start_time": "2022-10-31T18:09:12.565Z"
   },
   {
    "duration": 611,
    "start_time": "2022-10-31T18:09:17.988Z"
   },
   {
    "duration": 78,
    "start_time": "2022-10-31T18:09:18.601Z"
   },
   {
    "duration": 31,
    "start_time": "2022-10-31T18:09:18.680Z"
   },
   {
    "duration": 69,
    "start_time": "2022-10-31T18:09:18.713Z"
   },
   {
    "duration": 605,
    "start_time": "2022-10-31T18:09:18.783Z"
   }
  ],
  "kernelspec": {
   "display_name": "Python 3 (ipykernel)",
   "language": "python",
   "name": "python3"
  },
  "language_info": {
   "codemirror_mode": {
    "name": "ipython",
    "version": 3
   },
   "file_extension": ".py",
   "mimetype": "text/x-python",
   "name": "python",
   "nbconvert_exporter": "python",
   "pygments_lexer": "ipython3",
   "version": "3.9.12"
  },
  "toc": {
   "base_numbering": 1,
   "nav_menu": {},
   "number_sections": true,
   "sideBar": true,
   "skip_h1_title": true,
   "title_cell": "Table of Contents",
   "title_sidebar": "Contents",
   "toc_cell": false,
   "toc_position": {},
   "toc_section_display": true,
   "toc_window_display": false
  }
 },
 "nbformat": 4,
 "nbformat_minor": 2
}

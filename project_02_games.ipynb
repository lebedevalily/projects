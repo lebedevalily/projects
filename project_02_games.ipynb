{
 "cells": [
  {
   "cell_type": "markdown",
   "metadata": {
    "toc": true
   },
   "source": [
    "<h1>Содержание<span class=\"tocSkip\"></span></h1>\n",
    "<div class=\"toc\"><ul class=\"toc-item\"><li><span><a href=\"#Основная-информация-о-проекте\" data-toc-modified-id=\"Основная-информация-о-проекте-1\"><span class=\"toc-item-num\">1&nbsp;&nbsp;</span>Основная информация о проекте</a></span><ul class=\"toc-item\"><li><span><a href=\"#Описание-данных\" data-toc-modified-id=\"Описание-данных-1.1\"><span class=\"toc-item-num\">1.1&nbsp;&nbsp;</span>Описание данных</a></span></li><li><span><a href=\"#Импорт-библиотек\" data-toc-modified-id=\"Импорт-библиотек-1.2\"><span class=\"toc-item-num\">1.2&nbsp;&nbsp;</span>Импорт библиотек</a></span></li><li><span><a href=\"#Изучение-основной-информации-о-файле\" data-toc-modified-id=\"Изучение-основной-информации-о-файле-1.3\"><span class=\"toc-item-num\">1.3&nbsp;&nbsp;</span>Изучение основной информации о файле</a></span></li></ul></li><li><span><a href=\"#Предобработка-данных\" data-toc-modified-id=\"Предобработка-данных-2\"><span class=\"toc-item-num\">2&nbsp;&nbsp;</span>Предобработка данных</a></span><ul class=\"toc-item\"><li><span><a href=\"#Переименование-столбцов\" data-toc-modified-id=\"Переименование-столбцов-2.1\"><span class=\"toc-item-num\">2.1&nbsp;&nbsp;</span>Переименование столбцов</a></span></li><li><span><a href=\"#Обработка-пропусков\" data-toc-modified-id=\"Обработка-пропусков-2.2\"><span class=\"toc-item-num\">2.2&nbsp;&nbsp;</span>Обработка пропусков</a></span></li><li><span><a href=\"#Изменение-типов-данных\" data-toc-modified-id=\"Изменение-типов-данных-2.3\"><span class=\"toc-item-num\">2.3&nbsp;&nbsp;</span>Изменение типов данных</a></span></li><li><span><a href=\"#Поиск-дубликатов\" data-toc-modified-id=\"Поиск-дубликатов-2.4\"><span class=\"toc-item-num\">2.4&nbsp;&nbsp;</span>Поиск дубликатов</a></span></li><li><span><a href=\"#Добавление-новых-столбцов\" data-toc-modified-id=\"Добавление-новых-столбцов-2.5\"><span class=\"toc-item-num\">2.5&nbsp;&nbsp;</span>Добавление новых столбцов</a></span></li></ul></li><li><span><a href=\"#Исследовательский-анализ-данных\" data-toc-modified-id=\"Исследовательский-анализ-данных-3\"><span class=\"toc-item-num\">3&nbsp;&nbsp;</span>Исследовательский анализ данных</a></span><ul class=\"toc-item\"><li><span><a href=\"#Выбор-актуального-периода-для-исследования\" data-toc-modified-id=\"Выбор-актуального-периода-для-исследования-3.1\"><span class=\"toc-item-num\">3.1&nbsp;&nbsp;</span>Выбор актуального периода для исследования</a></span></li><li><span><a href=\"#Распределение-глобальных-продаж-по-платформам\" data-toc-modified-id=\"Распределение-глобальных-продаж-по-платформам-3.2\"><span class=\"toc-item-num\">3.2&nbsp;&nbsp;</span>Распределение глобальных продаж по платформам</a></span></li><li><span><a href=\"#Изучение-зависимости-продаж-от-оценок-пользователей-и-критиков\" data-toc-modified-id=\"Изучение-зависимости-продаж-от-оценок-пользователей-и-критиков-3.3\"><span class=\"toc-item-num\">3.3&nbsp;&nbsp;</span>Изучение зависимости продаж от оценок пользователей и критиков</a></span></li><li><span><a href=\"#Распределение-глобальных-продаж-по-жанрам\" data-toc-modified-id=\"Распределение-глобальных-продаж-по-жанрам-3.4\"><span class=\"toc-item-num\">3.4&nbsp;&nbsp;</span>Распределение глобальных продаж по жанрам</a></span></li></ul></li><li><span><a href=\"#Составление-портрета-пользователя-по-регионам\" data-toc-modified-id=\"Составление-портрета-пользователя-по-регионам-4\"><span class=\"toc-item-num\">4&nbsp;&nbsp;</span>Составление портрета пользователя по регионам</a></span><ul class=\"toc-item\"><li><span><a href=\"#Северная-Америка\" data-toc-modified-id=\"Северная-Америка-4.1\"><span class=\"toc-item-num\">4.1&nbsp;&nbsp;</span>Северная Америка</a></span></li><li><span><a href=\"#Европа\" data-toc-modified-id=\"Европа-4.2\"><span class=\"toc-item-num\">4.2&nbsp;&nbsp;</span>Европа</a></span></li><li><span><a href=\"#Япония\" data-toc-modified-id=\"Япония-4.3\"><span class=\"toc-item-num\">4.3&nbsp;&nbsp;</span>Япония</a></span></li></ul></li><li><span><a href=\"#Проверка-гипотез\" data-toc-modified-id=\"Проверка-гипотез-5\"><span class=\"toc-item-num\">5&nbsp;&nbsp;</span>Проверка гипотез</a></span><ul class=\"toc-item\"><li><span><a href=\"#Гипотеза-о-равенстве-пользовательских-рейтингов-для-платформ-Xbox-One-и-PC\" data-toc-modified-id=\"Гипотеза-о-равенстве-пользовательских-рейтингов-для-платформ-Xbox-One-и-PC-5.1\"><span class=\"toc-item-num\">5.1&nbsp;&nbsp;</span>Гипотеза о равенстве пользовательских рейтингов для платформ Xbox One и PC</a></span></li><li><span><a href=\"#Гипотеза-о-равенстве-пользовательских-рейтингов-для-жанров-Action-и-Sports\" data-toc-modified-id=\"Гипотеза-о-равенстве-пользовательских-рейтингов-для-жанров-Action-и-Sports-5.2\"><span class=\"toc-item-num\">5.2&nbsp;&nbsp;</span>Гипотеза о равенстве пользовательских рейтингов для жанров Action и Sports</a></span></li></ul></li><li><span><a href=\"#Общий-вывод\" data-toc-modified-id=\"Общий-вывод-6\"><span class=\"toc-item-num\">6&nbsp;&nbsp;</span>Общий вывод</a></span></li></ul></div>"
   ]
  },
  {
   "cell_type": "markdown",
   "metadata": {},
   "source": [
    "## Основная информация о проекте ##"
   ]
  },
  {
   "cell_type": "markdown",
   "metadata": {},
   "source": [
    "Рассмотрим исторические данные о продажах игр, оценках пользователей и экспертов, жанрах и платформах.\n",
    "Для планирования рекламной кампании на 2017-й необходимо выявить определяющие успешность игры закономерности.\n",
    "Проанализируем имеющиеся данные с 1980 по 2016 годы.\n",
    "Данные за 2016-й год могут быть неполными."
   ]
  },
  {
   "cell_type": "markdown",
   "metadata": {},
   "source": [
    "### Описание данных ###"
   ]
  },
  {
   "cell_type": "markdown",
   "metadata": {},
   "source": [
    "- Name — название игры\n",
    "- Platform — платформа\n",
    "- Year_of_Release — год выпуска\n",
    "- Genre — жанр игры\n",
    "- NA_sales — продажи в Северной Америке (миллионы проданных копий)\n",
    "- EU_sales — продажи в Европе (миллионы проданных копий)\n",
    "- JP_sales — продажи в Японии (миллионы проданных копий)\n",
    "- Other_sales — продажи в других странах (миллионы проданных копий)\n",
    "- Critic_Score — оценка критиков (максимум 100)\n",
    "- User_Score — оценка пользователей (максимум 10)\n",
    "- Rating — рейтинг от организации ESRB (англ. Entertainment Software Rating Board). Эта ассоциация определяет рейтинг компьютерных игр и присваивает им подходящую возрастную категорию.\n",
    "\n",
    "Категории рейтинга ESRB:\n",
    "- EC (Early childhood) — Для детей младшего возраста\n",
    "- E (Everyone) — Для всех\n",
    "- K-A (Kids to Adults) - Для детей и взрослых\n",
    "- E10+ (Everyone 10 and older) — Для всех от 10 лет и старше\n",
    "- T (Teen) — Подросткам\n",
    "- M (Mature) — Для взрослых\n",
    "- AO (Adults Only 18+) — Только для взрослых\n",
    "- RP (Rating Pending) — Рейтинг ожидается"
   ]
  },
  {
   "cell_type": "markdown",
   "metadata": {},
   "source": [
    "### Импорт библиотек ###"
   ]
  },
  {
   "cell_type": "code",
   "execution_count": 1,
   "metadata": {},
   "outputs": [],
   "source": [
    "import pandas as pd\n",
    "import numpy as np\n",
    "import matplotlib.pyplot as plt\n",
    "from scipy import stats as st"
   ]
  },
  {
   "cell_type": "markdown",
   "metadata": {},
   "source": [
    "### Изучение основной информации о файле ###"
   ]
  },
  {
   "cell_type": "markdown",
   "metadata": {},
   "source": [
    "Прочитаем файл и сохранием его в переменную **df**."
   ]
  },
  {
   "cell_type": "code",
   "execution_count": 2,
   "metadata": {},
   "outputs": [],
   "source": [
    "df = pd.read_csv('games.csv')"
   ]
  },
  {
   "cell_type": "markdown",
   "metadata": {},
   "source": [
    "Изучим первые 5 строк датафрейма."
   ]
  },
  {
   "cell_type": "code",
   "execution_count": 3,
   "metadata": {},
   "outputs": [
    {
     "data": {
      "text/html": [
       "<div>\n",
       "<style scoped>\n",
       "    .dataframe tbody tr th:only-of-type {\n",
       "        vertical-align: middle;\n",
       "    }\n",
       "\n",
       "    .dataframe tbody tr th {\n",
       "        vertical-align: top;\n",
       "    }\n",
       "\n",
       "    .dataframe thead th {\n",
       "        text-align: right;\n",
       "    }\n",
       "</style>\n",
       "<table border=\"1\" class=\"dataframe\">\n",
       "  <thead>\n",
       "    <tr style=\"text-align: right;\">\n",
       "      <th></th>\n",
       "      <th>Name</th>\n",
       "      <th>Platform</th>\n",
       "      <th>Year_of_Release</th>\n",
       "      <th>Genre</th>\n",
       "      <th>NA_sales</th>\n",
       "      <th>EU_sales</th>\n",
       "      <th>JP_sales</th>\n",
       "      <th>Other_sales</th>\n",
       "      <th>Critic_Score</th>\n",
       "      <th>User_Score</th>\n",
       "      <th>Rating</th>\n",
       "    </tr>\n",
       "  </thead>\n",
       "  <tbody>\n",
       "    <tr>\n",
       "      <th>0</th>\n",
       "      <td>Wii Sports</td>\n",
       "      <td>Wii</td>\n",
       "      <td>2006.0</td>\n",
       "      <td>Sports</td>\n",
       "      <td>41.36</td>\n",
       "      <td>28.96</td>\n",
       "      <td>3.77</td>\n",
       "      <td>8.45</td>\n",
       "      <td>76.0</td>\n",
       "      <td>8</td>\n",
       "      <td>E</td>\n",
       "    </tr>\n",
       "    <tr>\n",
       "      <th>1</th>\n",
       "      <td>Super Mario Bros.</td>\n",
       "      <td>NES</td>\n",
       "      <td>1985.0</td>\n",
       "      <td>Platform</td>\n",
       "      <td>29.08</td>\n",
       "      <td>3.58</td>\n",
       "      <td>6.81</td>\n",
       "      <td>0.77</td>\n",
       "      <td>NaN</td>\n",
       "      <td>NaN</td>\n",
       "      <td>NaN</td>\n",
       "    </tr>\n",
       "    <tr>\n",
       "      <th>2</th>\n",
       "      <td>Mario Kart Wii</td>\n",
       "      <td>Wii</td>\n",
       "      <td>2008.0</td>\n",
       "      <td>Racing</td>\n",
       "      <td>15.68</td>\n",
       "      <td>12.76</td>\n",
       "      <td>3.79</td>\n",
       "      <td>3.29</td>\n",
       "      <td>82.0</td>\n",
       "      <td>8.3</td>\n",
       "      <td>E</td>\n",
       "    </tr>\n",
       "    <tr>\n",
       "      <th>3</th>\n",
       "      <td>Wii Sports Resort</td>\n",
       "      <td>Wii</td>\n",
       "      <td>2009.0</td>\n",
       "      <td>Sports</td>\n",
       "      <td>15.61</td>\n",
       "      <td>10.93</td>\n",
       "      <td>3.28</td>\n",
       "      <td>2.95</td>\n",
       "      <td>80.0</td>\n",
       "      <td>8</td>\n",
       "      <td>E</td>\n",
       "    </tr>\n",
       "    <tr>\n",
       "      <th>4</th>\n",
       "      <td>Pokemon Red/Pokemon Blue</td>\n",
       "      <td>GB</td>\n",
       "      <td>1996.0</td>\n",
       "      <td>Role-Playing</td>\n",
       "      <td>11.27</td>\n",
       "      <td>8.89</td>\n",
       "      <td>10.22</td>\n",
       "      <td>1.00</td>\n",
       "      <td>NaN</td>\n",
       "      <td>NaN</td>\n",
       "      <td>NaN</td>\n",
       "    </tr>\n",
       "  </tbody>\n",
       "</table>\n",
       "</div>"
      ],
      "text/plain": [
       "                       Name Platform  Year_of_Release         Genre  NA_sales  \\\n",
       "0                Wii Sports      Wii           2006.0        Sports     41.36   \n",
       "1         Super Mario Bros.      NES           1985.0      Platform     29.08   \n",
       "2            Mario Kart Wii      Wii           2008.0        Racing     15.68   \n",
       "3         Wii Sports Resort      Wii           2009.0        Sports     15.61   \n",
       "4  Pokemon Red/Pokemon Blue       GB           1996.0  Role-Playing     11.27   \n",
       "\n",
       "   EU_sales  JP_sales  Other_sales  Critic_Score User_Score Rating  \n",
       "0     28.96      3.77         8.45          76.0          8      E  \n",
       "1      3.58      6.81         0.77           NaN        NaN    NaN  \n",
       "2     12.76      3.79         3.29          82.0        8.3      E  \n",
       "3     10.93      3.28         2.95          80.0          8      E  \n",
       "4      8.89     10.22         1.00           NaN        NaN    NaN  "
      ]
     },
     "execution_count": 3,
     "metadata": {},
     "output_type": "execute_result"
    }
   ],
   "source": [
    "df.head()"
   ]
  },
  {
   "cell_type": "markdown",
   "metadata": {},
   "source": [
    "Также рассмотрим основную информацию о содержимом файла."
   ]
  },
  {
   "cell_type": "code",
   "execution_count": 4,
   "metadata": {
    "scrolled": true
   },
   "outputs": [
    {
     "name": "stdout",
     "output_type": "stream",
     "text": [
      "<class 'pandas.core.frame.DataFrame'>\n",
      "RangeIndex: 16715 entries, 0 to 16714\n",
      "Data columns (total 11 columns):\n",
      " #   Column           Non-Null Count  Dtype  \n",
      "---  ------           --------------  -----  \n",
      " 0   Name             16713 non-null  object \n",
      " 1   Platform         16715 non-null  object \n",
      " 2   Year_of_Release  16446 non-null  float64\n",
      " 3   Genre            16713 non-null  object \n",
      " 4   NA_sales         16715 non-null  float64\n",
      " 5   EU_sales         16715 non-null  float64\n",
      " 6   JP_sales         16715 non-null  float64\n",
      " 7   Other_sales      16715 non-null  float64\n",
      " 8   Critic_Score     8137 non-null   float64\n",
      " 9   User_Score       10014 non-null  object \n",
      " 10  Rating           9949 non-null   object \n",
      "dtypes: float64(6), object(5)\n",
      "memory usage: 1.4+ MB\n"
     ]
    }
   ],
   "source": [
    "df.info()"
   ]
  },
  {
   "cell_type": "markdown",
   "metadata": {},
   "source": [
    "## Предобработка данных ##"
   ]
  },
  {
   "cell_type": "markdown",
   "metadata": {},
   "source": [
    "### Переименование столбцов ###"
   ]
  },
  {
   "cell_type": "markdown",
   "metadata": {},
   "source": [
    "В названиях столбцов используются заглавные буквы. Приведем названия столбцов к нижнему регистру."
   ]
  },
  {
   "cell_type": "code",
   "execution_count": 5,
   "metadata": {},
   "outputs": [],
   "source": [
    "df.columns = df.columns.str.lower()"
   ]
  },
  {
   "cell_type": "markdown",
   "metadata": {},
   "source": [
    "### Обработка пропусков ###"
   ]
  },
  {
   "cell_type": "markdown",
   "metadata": {},
   "source": [
    "Посчитаем количество и процент пропусков в датасете."
   ]
  },
  {
   "cell_type": "code",
   "execution_count": 6,
   "metadata": {
    "scrolled": true
   },
   "outputs": [
    {
     "data": {
      "text/plain": [
       "name                  2\n",
       "platform              0\n",
       "year_of_release     269\n",
       "genre                 2\n",
       "na_sales              0\n",
       "eu_sales              0\n",
       "jp_sales              0\n",
       "other_sales           0\n",
       "critic_score       8578\n",
       "user_score         6701\n",
       "rating             6766\n",
       "dtype: int64"
      ]
     },
     "execution_count": 6,
     "metadata": {},
     "output_type": "execute_result"
    }
   ],
   "source": [
    "df.isna().sum()"
   ]
  },
  {
   "cell_type": "code",
   "execution_count": 7,
   "metadata": {},
   "outputs": [
    {
     "data": {
      "text/html": [
       "<style  type=\"text/css\" >\n",
       "#T_942d5_row0_col0,#T_942d5_row1_col0,#T_942d5_row3_col0,#T_942d5_row4_col0,#T_942d5_row5_col0,#T_942d5_row6_col0,#T_942d5_row7_col0{\n",
       "            background-color:  #3b4cc0;\n",
       "            color:  #f1f1f1;\n",
       "        }#T_942d5_row2_col0{\n",
       "            background-color:  #445acc;\n",
       "            color:  #f1f1f1;\n",
       "        }#T_942d5_row8_col0{\n",
       "            background-color:  #b40426;\n",
       "            color:  #f1f1f1;\n",
       "        }#T_942d5_row9_col0{\n",
       "            background-color:  #f18d6f;\n",
       "            color:  #000000;\n",
       "        }#T_942d5_row10_col0{\n",
       "            background-color:  #f08a6c;\n",
       "            color:  #000000;\n",
       "        }</style><table id=\"T_942d5_\" ><thead>    <tr>        <th class=\"blank level0\" ></th>        <th class=\"col_heading level0 col0\" >0</th>    </tr></thead><tbody>\n",
       "                <tr>\n",
       "                        <th id=\"T_942d5_level0_row0\" class=\"row_heading level0 row0\" >name</th>\n",
       "                        <td id=\"T_942d5_row0_col0\" class=\"data row0 col0\" >0.010000</td>\n",
       "            </tr>\n",
       "            <tr>\n",
       "                        <th id=\"T_942d5_level0_row1\" class=\"row_heading level0 row1\" >platform</th>\n",
       "                        <td id=\"T_942d5_row1_col0\" class=\"data row1 col0\" >0.000000</td>\n",
       "            </tr>\n",
       "            <tr>\n",
       "                        <th id=\"T_942d5_level0_row2\" class=\"row_heading level0 row2\" >year_of_release</th>\n",
       "                        <td id=\"T_942d5_row2_col0\" class=\"data row2 col0\" >1.610000</td>\n",
       "            </tr>\n",
       "            <tr>\n",
       "                        <th id=\"T_942d5_level0_row3\" class=\"row_heading level0 row3\" >genre</th>\n",
       "                        <td id=\"T_942d5_row3_col0\" class=\"data row3 col0\" >0.010000</td>\n",
       "            </tr>\n",
       "            <tr>\n",
       "                        <th id=\"T_942d5_level0_row4\" class=\"row_heading level0 row4\" >na_sales</th>\n",
       "                        <td id=\"T_942d5_row4_col0\" class=\"data row4 col0\" >0.000000</td>\n",
       "            </tr>\n",
       "            <tr>\n",
       "                        <th id=\"T_942d5_level0_row5\" class=\"row_heading level0 row5\" >eu_sales</th>\n",
       "                        <td id=\"T_942d5_row5_col0\" class=\"data row5 col0\" >0.000000</td>\n",
       "            </tr>\n",
       "            <tr>\n",
       "                        <th id=\"T_942d5_level0_row6\" class=\"row_heading level0 row6\" >jp_sales</th>\n",
       "                        <td id=\"T_942d5_row6_col0\" class=\"data row6 col0\" >0.000000</td>\n",
       "            </tr>\n",
       "            <tr>\n",
       "                        <th id=\"T_942d5_level0_row7\" class=\"row_heading level0 row7\" >other_sales</th>\n",
       "                        <td id=\"T_942d5_row7_col0\" class=\"data row7 col0\" >0.000000</td>\n",
       "            </tr>\n",
       "            <tr>\n",
       "                        <th id=\"T_942d5_level0_row8\" class=\"row_heading level0 row8\" >critic_score</th>\n",
       "                        <td id=\"T_942d5_row8_col0\" class=\"data row8 col0\" >51.320000</td>\n",
       "            </tr>\n",
       "            <tr>\n",
       "                        <th id=\"T_942d5_level0_row9\" class=\"row_heading level0 row9\" >user_score</th>\n",
       "                        <td id=\"T_942d5_row9_col0\" class=\"data row9 col0\" >40.090000</td>\n",
       "            </tr>\n",
       "            <tr>\n",
       "                        <th id=\"T_942d5_level0_row10\" class=\"row_heading level0 row10\" >rating</th>\n",
       "                        <td id=\"T_942d5_row10_col0\" class=\"data row10 col0\" >40.480000</td>\n",
       "            </tr>\n",
       "    </tbody></table>"
      ],
      "text/plain": [
       "<pandas.io.formats.style.Styler at 0x7f0050da9880>"
      ]
     },
     "execution_count": 7,
     "metadata": {},
     "output_type": "execute_result"
    }
   ],
   "source": [
    "pd.DataFrame(round((df.isna().mean()*100),2)).style.background_gradient('coolwarm')"
   ]
  },
  {
   "cell_type": "markdown",
   "metadata": {},
   "source": [
    "В столбцах **name** и **year_of_release** количество пропусков небольшое, заполнить данные пропуски не получится. Удалим эти строки."
   ]
  },
  {
   "cell_type": "code",
   "execution_count": 8,
   "metadata": {},
   "outputs": [],
   "source": [
    "df = df.dropna(subset=['name', 'year_of_release']).reset_index(drop=True)"
   ]
  },
  {
   "cell_type": "markdown",
   "metadata": {},
   "source": [
    "В стобцах **critic_score**, **user_score** и **rating** пропусков очень много. \n",
    "\n",
    "Причины данных пропусков могут быть разными. Возможно, игры не получили оценки вследствии низких продаж и малого распространения. Также подобные пропуски могут быть связаны с ошибками при внесении или копировании данных.\n",
    "\n",
    "В данном случае удалением решить проблему нельзя. Заполнять пропуски какими-либо значениями в столбцах **critic_score** и **user_score** тоже будет некорректно, т.к. во-первых это может повлиять на результаты дальнейшего анализа, во-вторых сами пропуски нечем заполнить. Оставим пропуски в указанных столбцах без изменений.\n",
    "\n",
    "В столбце **rating** заменим пропуски на значение **unknown**. Возможно, какие-то игры в приницпе не получали рейтинг ESRB."
   ]
  },
  {
   "cell_type": "code",
   "execution_count": 9,
   "metadata": {},
   "outputs": [],
   "source": [
    "df['rating'] = df['rating'].fillna('unknown')"
   ]
  },
  {
   "cell_type": "markdown",
   "metadata": {},
   "source": [
    "### Изменение типов данных ###"
   ]
  },
  {
   "cell_type": "markdown",
   "metadata": {},
   "source": [
    "В столбцах **year_of_release** и **user_score** используется некорректный тип данных."
   ]
  },
  {
   "cell_type": "markdown",
   "metadata": {},
   "source": [
    "Приведем данные в столбце **year_of_release** к целочисленному типу."
   ]
  },
  {
   "cell_type": "code",
   "execution_count": 10,
   "metadata": {},
   "outputs": [],
   "source": [
    "df['year_of_release'] = df['year_of_release'].astype(int)"
   ]
  },
  {
   "cell_type": "markdown",
   "metadata": {},
   "source": [
    "Столбец **user_score** имеет тип данных **object**. Вероятно, в нем содержатся строковые значения. Посмотрим на уникальные значения данного столбца."
   ]
  },
  {
   "cell_type": "code",
   "execution_count": 11,
   "metadata": {},
   "outputs": [
    {
     "data": {
      "text/plain": [
       "array(['8', nan, '8.3', '8.5', '6.6', '8.4', '8.6', '7.7', '6.3', '7.4',\n",
       "       '8.2', '9', '7.9', '8.1', '8.7', '7.1', '3.4', '5.3', '4.8', '3.2',\n",
       "       '8.9', '6.4', '7.8', '7.5', '2.6', '7.2', '9.2', '7', '7.3', '4.3',\n",
       "       '7.6', '5.7', '5', '9.1', '6.5', 'tbd', '8.8', '6.9', '9.4', '6.8',\n",
       "       '6.1', '6.7', '5.4', '4', '4.9', '4.5', '9.3', '6.2', '4.2', '6',\n",
       "       '3.7', '4.1', '5.8', '5.6', '5.5', '4.4', '4.6', '5.9', '3.9',\n",
       "       '3.1', '2.9', '5.2', '3.3', '4.7', '5.1', '3.5', '2.5', '1.9', '3',\n",
       "       '2.7', '2.2', '2', '9.5', '2.1', '3.6', '2.8', '1.8', '3.8', '0',\n",
       "       '1.6', '9.6', '2.4', '1.7', '1.1', '0.3', '1.5', '0.7', '1.2',\n",
       "       '2.3', '0.5', '1.3', '0.2', '0.6', '1.4', '0.9', '1', '9.7'],\n",
       "      dtype=object)"
      ]
     },
     "execution_count": 11,
     "metadata": {},
     "output_type": "execute_result"
    }
   ],
   "source": [
    "df['user_score'].unique()"
   ]
  },
  {
   "cell_type": "markdown",
   "metadata": {},
   "source": [
    "Действительно, среди числовых значений встречается значение **\"tbd\"**. Вероятнее всего, это аббревиатура, означающая, что оценка пользователем еще не проставлена и будет определена позднее *(to be determined, т.е. будет определено).*\n",
    "\n",
    "Для того, чтобы в дальнейшем использовать значения столбца **user_score** в расчетах, необходимо привести эти значения к числовому типу. Для этого заменим все значения **tbd** на **NaN**, затем изменим тип данных на числа с плавающей точкой. "
   ]
  },
  {
   "cell_type": "code",
   "execution_count": 12,
   "metadata": {},
   "outputs": [],
   "source": [
    "df['user_score'] = df['user_score'].replace('tbd', np.nan)"
   ]
  },
  {
   "cell_type": "code",
   "execution_count": 13,
   "metadata": {},
   "outputs": [],
   "source": [
    "df['user_score'] = df['user_score'].astype(float)"
   ]
  },
  {
   "cell_type": "markdown",
   "metadata": {},
   "source": [
    "### Поиск дубликатов ###"
   ]
  },
  {
   "cell_type": "markdown",
   "metadata": {},
   "source": [
    "Проверим наличие полных дубликатов."
   ]
  },
  {
   "cell_type": "code",
   "execution_count": 14,
   "metadata": {},
   "outputs": [
    {
     "data": {
      "text/plain": [
       "0"
      ]
     },
     "execution_count": 14,
     "metadata": {},
     "output_type": "execute_result"
    }
   ],
   "source": [
    "df.duplicated().sum()"
   ]
  },
  {
   "cell_type": "markdown",
   "metadata": {},
   "source": [
    "Также проверим наличие неявных дубликатов в столбцах со строковыми значениями."
   ]
  },
  {
   "cell_type": "code",
   "execution_count": 15,
   "metadata": {
    "scrolled": true
   },
   "outputs": [
    {
     "data": {
      "text/plain": [
       "array(['Wii', 'NES', 'GB', 'DS', 'X360', 'PS3', 'PS2', 'SNES', 'GBA',\n",
       "       'PS4', '3DS', 'N64', 'PS', 'XB', 'PC', '2600', 'PSP', 'XOne',\n",
       "       'WiiU', 'GC', 'GEN', 'DC', 'PSV', 'SAT', 'SCD', 'WS', 'NG', 'TG16',\n",
       "       '3DO', 'GG', 'PCFX'], dtype=object)"
      ]
     },
     "execution_count": 15,
     "metadata": {},
     "output_type": "execute_result"
    }
   ],
   "source": [
    "df['platform'].unique()"
   ]
  },
  {
   "cell_type": "code",
   "execution_count": 16,
   "metadata": {},
   "outputs": [
    {
     "data": {
      "text/plain": [
       "array(['Sports', 'Platform', 'Racing', 'Role-Playing', 'Puzzle', 'Misc',\n",
       "       'Shooter', 'Simulation', 'Action', 'Fighting', 'Adventure',\n",
       "       'Strategy'], dtype=object)"
      ]
     },
     "execution_count": 16,
     "metadata": {},
     "output_type": "execute_result"
    }
   ],
   "source": [
    "df['genre'].unique()"
   ]
  },
  {
   "cell_type": "code",
   "execution_count": 17,
   "metadata": {},
   "outputs": [
    {
     "data": {
      "text/plain": [
       "array(['E', 'unknown', 'M', 'T', 'E10+', 'K-A', 'AO', 'EC', 'RP'],\n",
       "      dtype=object)"
      ]
     },
     "execution_count": 17,
     "metadata": {},
     "output_type": "execute_result"
    }
   ],
   "source": [
    "df['rating'].unique()"
   ]
  },
  {
   "cell_type": "markdown",
   "metadata": {},
   "source": [
    "Неявных дубликатов в изученных столбцах нет."
   ]
  },
  {
   "cell_type": "markdown",
   "metadata": {},
   "source": [
    "Также проверим наличие дубликатов в связке название игры-платформа-год выпуска."
   ]
  },
  {
   "cell_type": "code",
   "execution_count": 18,
   "metadata": {},
   "outputs": [
    {
     "data": {
      "text/html": [
       "<div>\n",
       "<style scoped>\n",
       "    .dataframe tbody tr th:only-of-type {\n",
       "        vertical-align: middle;\n",
       "    }\n",
       "\n",
       "    .dataframe tbody tr th {\n",
       "        vertical-align: top;\n",
       "    }\n",
       "\n",
       "    .dataframe thead th {\n",
       "        text-align: right;\n",
       "    }\n",
       "</style>\n",
       "<table border=\"1\" class=\"dataframe\">\n",
       "  <thead>\n",
       "    <tr style=\"text-align: right;\">\n",
       "      <th></th>\n",
       "      <th>name</th>\n",
       "      <th>platform</th>\n",
       "      <th>year_of_release</th>\n",
       "      <th>genre</th>\n",
       "      <th>na_sales</th>\n",
       "      <th>eu_sales</th>\n",
       "      <th>jp_sales</th>\n",
       "      <th>other_sales</th>\n",
       "      <th>critic_score</th>\n",
       "      <th>user_score</th>\n",
       "      <th>rating</th>\n",
       "    </tr>\n",
       "  </thead>\n",
       "  <tbody>\n",
       "    <tr>\n",
       "      <th>600</th>\n",
       "      <td>Madden NFL 13</td>\n",
       "      <td>PS3</td>\n",
       "      <td>2012</td>\n",
       "      <td>Sports</td>\n",
       "      <td>2.11</td>\n",
       "      <td>0.22</td>\n",
       "      <td>0.0</td>\n",
       "      <td>0.23</td>\n",
       "      <td>83.0</td>\n",
       "      <td>5.5</td>\n",
       "      <td>E</td>\n",
       "    </tr>\n",
       "    <tr>\n",
       "      <th>15969</th>\n",
       "      <td>Madden NFL 13</td>\n",
       "      <td>PS3</td>\n",
       "      <td>2012</td>\n",
       "      <td>Sports</td>\n",
       "      <td>0.00</td>\n",
       "      <td>0.01</td>\n",
       "      <td>0.0</td>\n",
       "      <td>0.00</td>\n",
       "      <td>83.0</td>\n",
       "      <td>5.5</td>\n",
       "      <td>E</td>\n",
       "    </tr>\n",
       "  </tbody>\n",
       "</table>\n",
       "</div>"
      ],
      "text/plain": [
       "                name platform  year_of_release   genre  na_sales  eu_sales  \\\n",
       "600    Madden NFL 13      PS3             2012  Sports      2.11      0.22   \n",
       "15969  Madden NFL 13      PS3             2012  Sports      0.00      0.01   \n",
       "\n",
       "       jp_sales  other_sales  critic_score  user_score rating  \n",
       "600         0.0         0.23          83.0         5.5      E  \n",
       "15969       0.0         0.00          83.0         5.5      E  "
      ]
     },
     "execution_count": 18,
     "metadata": {},
     "output_type": "execute_result"
    }
   ],
   "source": [
    "df[df.duplicated(subset=['name', 'platform', 'year_of_release'], keep=False)]"
   ]
  },
  {
   "cell_type": "markdown",
   "metadata": {},
   "source": [
    "Обнаружен один дубликат. Удалим строку 15969, в ней продажи по игре практически нулевые, а рейтинги совпадают, удаление не должно повлиять на дальнейший ход исследования."
   ]
  },
  {
   "cell_type": "code",
   "execution_count": 19,
   "metadata": {},
   "outputs": [],
   "source": [
    "df = df.drop(labels=[15969])"
   ]
  },
  {
   "cell_type": "code",
   "execution_count": 20,
   "metadata": {},
   "outputs": [
    {
     "data": {
      "text/html": [
       "<div>\n",
       "<style scoped>\n",
       "    .dataframe tbody tr th:only-of-type {\n",
       "        vertical-align: middle;\n",
       "    }\n",
       "\n",
       "    .dataframe tbody tr th {\n",
       "        vertical-align: top;\n",
       "    }\n",
       "\n",
       "    .dataframe thead th {\n",
       "        text-align: right;\n",
       "    }\n",
       "</style>\n",
       "<table border=\"1\" class=\"dataframe\">\n",
       "  <thead>\n",
       "    <tr style=\"text-align: right;\">\n",
       "      <th></th>\n",
       "      <th>name</th>\n",
       "      <th>platform</th>\n",
       "      <th>year_of_release</th>\n",
       "      <th>genre</th>\n",
       "      <th>na_sales</th>\n",
       "      <th>eu_sales</th>\n",
       "      <th>jp_sales</th>\n",
       "      <th>other_sales</th>\n",
       "      <th>critic_score</th>\n",
       "      <th>user_score</th>\n",
       "      <th>rating</th>\n",
       "    </tr>\n",
       "  </thead>\n",
       "  <tbody>\n",
       "    <tr>\n",
       "      <th>600</th>\n",
       "      <td>Madden NFL 13</td>\n",
       "      <td>PS3</td>\n",
       "      <td>2012</td>\n",
       "      <td>Sports</td>\n",
       "      <td>2.11</td>\n",
       "      <td>0.22</td>\n",
       "      <td>0.0</td>\n",
       "      <td>0.23</td>\n",
       "      <td>83.0</td>\n",
       "      <td>5.5</td>\n",
       "      <td>E</td>\n",
       "    </tr>\n",
       "  </tbody>\n",
       "</table>\n",
       "</div>"
      ],
      "text/plain": [
       "              name platform  year_of_release   genre  na_sales  eu_sales  \\\n",
       "600  Madden NFL 13      PS3             2012  Sports      2.11      0.22   \n",
       "\n",
       "     jp_sales  other_sales  critic_score  user_score rating  \n",
       "600       0.0         0.23          83.0         5.5      E  "
      ]
     },
     "execution_count": 20,
     "metadata": {},
     "output_type": "execute_result"
    }
   ],
   "source": [
    "df.query('name == \"Madden NFL 13\" & platform == \"PS3\"')"
   ]
  },
  {
   "cell_type": "markdown",
   "metadata": {},
   "source": [
    "### Добавление новых столбцов ###"
   ]
  },
  {
   "cell_type": "markdown",
   "metadata": {},
   "source": [
    "Посчитаем суммарные продажи во всех регионах и запишем их в отдельный столбец."
   ]
  },
  {
   "cell_type": "code",
   "execution_count": 21,
   "metadata": {},
   "outputs": [],
   "source": [
    "df['total_sales'] = df['na_sales'] + df['eu_sales'] + df['jp_sales'] + df['other_sales']"
   ]
  },
  {
   "cell_type": "markdown",
   "metadata": {},
   "source": [
    "## Исследовательский анализ данных ##"
   ]
  },
  {
   "cell_type": "markdown",
   "metadata": {},
   "source": [
    "### Выбор актуального периода для исследования ###"
   ]
  },
  {
   "cell_type": "markdown",
   "metadata": {},
   "source": [
    "Рассмотрим, как распределяется количество выпущенных игр по годам."
   ]
  },
  {
   "cell_type": "code",
   "execution_count": 22,
   "metadata": {
    "scrolled": false
   },
   "outputs": [
    {
     "data": {
      "image/png": "[encoded data removed]",
      "text/plain": [
       "<Figure size 720x504 with 1 Axes>"
      ]
     },
     "metadata": {
      "needs_background": "light"
     },
     "output_type": "display_data"
    }
   ],
   "source": [
    "df['year_of_release'].hist(bins=73, color='blue', figsize=(10, 7), grid=True)\n",
    "plt.title('Количество выпущенных игр по годам')\n",
    "plt.xlabel('Год выпуска')\n",
    "plt.ylabel('Количество игр')\n",
    "plt.show()"
   ]
  },
  {
   "cell_type": "markdown",
   "metadata": {},
   "source": [
    "На графике видно, что после быстрого и достаточно линейнего роста количества выпущенных игр в период с 1990 по 2009 годы произошел спад, и начиная с 2010 года ежегодное количество выпущенных игр существенно снизилось."
   ]
  },
  {
   "cell_type": "markdown",
   "metadata": {},
   "source": [
    "Также рассмотрим, как менялись продажи по платформам, и выявим самые популярные из них."
   ]
  },
  {
   "cell_type": "code",
   "execution_count": 23,
   "metadata": {},
   "outputs": [
    {
     "data": {
      "text/html": [
       "<div>\n",
       "<style scoped>\n",
       "    .dataframe tbody tr th:only-of-type {\n",
       "        vertical-align: middle;\n",
       "    }\n",
       "\n",
       "    .dataframe tbody tr th {\n",
       "        vertical-align: top;\n",
       "    }\n",
       "\n",
       "    .dataframe thead th {\n",
       "        text-align: right;\n",
       "    }\n",
       "</style>\n",
       "<table border=\"1\" class=\"dataframe\">\n",
       "  <thead>\n",
       "    <tr style=\"text-align: right;\">\n",
       "      <th></th>\n",
       "      <th>total_sales</th>\n",
       "    </tr>\n",
       "    <tr>\n",
       "      <th>platform</th>\n",
       "      <th></th>\n",
       "    </tr>\n",
       "  </thead>\n",
       "  <tbody>\n",
       "    <tr>\n",
       "      <th>PS2</th>\n",
       "      <td>1233.56</td>\n",
       "    </tr>\n",
       "    <tr>\n",
       "      <th>X360</th>\n",
       "      <td>961.24</td>\n",
       "    </tr>\n",
       "    <tr>\n",
       "      <th>PS3</th>\n",
       "      <td>931.33</td>\n",
       "    </tr>\n",
       "    <tr>\n",
       "      <th>Wii</th>\n",
       "      <td>891.18</td>\n",
       "    </tr>\n",
       "    <tr>\n",
       "      <th>DS</th>\n",
       "      <td>802.78</td>\n",
       "    </tr>\n",
       "    <tr>\n",
       "      <th>PS</th>\n",
       "      <td>727.58</td>\n",
       "    </tr>\n",
       "    <tr>\n",
       "      <th>PS4</th>\n",
       "      <td>314.14</td>\n",
       "    </tr>\n",
       "    <tr>\n",
       "      <th>GBA</th>\n",
       "      <td>312.88</td>\n",
       "    </tr>\n",
       "    <tr>\n",
       "      <th>PSP</th>\n",
       "      <td>289.53</td>\n",
       "    </tr>\n",
       "    <tr>\n",
       "      <th>3DS</th>\n",
       "      <td>257.81</td>\n",
       "    </tr>\n",
       "    <tr>\n",
       "      <th>PC</th>\n",
       "      <td>255.76</td>\n",
       "    </tr>\n",
       "    <tr>\n",
       "      <th>GB</th>\n",
       "      <td>254.43</td>\n",
       "    </tr>\n",
       "    <tr>\n",
       "      <th>XB</th>\n",
       "      <td>251.57</td>\n",
       "    </tr>\n",
       "    <tr>\n",
       "      <th>NES</th>\n",
       "      <td>251.05</td>\n",
       "    </tr>\n",
       "    <tr>\n",
       "      <th>N64</th>\n",
       "      <td>218.01</td>\n",
       "    </tr>\n",
       "    <tr>\n",
       "      <th>SNES</th>\n",
       "      <td>200.04</td>\n",
       "    </tr>\n",
       "    <tr>\n",
       "      <th>GC</th>\n",
       "      <td>196.73</td>\n",
       "    </tr>\n",
       "    <tr>\n",
       "      <th>XOne</th>\n",
       "      <td>159.32</td>\n",
       "    </tr>\n",
       "    <tr>\n",
       "      <th>2600</th>\n",
       "      <td>86.48</td>\n",
       "    </tr>\n",
       "    <tr>\n",
       "      <th>WiiU</th>\n",
       "      <td>82.19</td>\n",
       "    </tr>\n",
       "    <tr>\n",
       "      <th>PSV</th>\n",
       "      <td>53.81</td>\n",
       "    </tr>\n",
       "    <tr>\n",
       "      <th>SAT</th>\n",
       "      <td>33.59</td>\n",
       "    </tr>\n",
       "    <tr>\n",
       "      <th>GEN</th>\n",
       "      <td>28.35</td>\n",
       "    </tr>\n",
       "    <tr>\n",
       "      <th>DC</th>\n",
       "      <td>15.95</td>\n",
       "    </tr>\n",
       "    <tr>\n",
       "      <th>SCD</th>\n",
       "      <td>1.86</td>\n",
       "    </tr>\n",
       "    <tr>\n",
       "      <th>NG</th>\n",
       "      <td>1.44</td>\n",
       "    </tr>\n",
       "    <tr>\n",
       "      <th>WS</th>\n",
       "      <td>1.42</td>\n",
       "    </tr>\n",
       "    <tr>\n",
       "      <th>TG16</th>\n",
       "      <td>0.16</td>\n",
       "    </tr>\n",
       "    <tr>\n",
       "      <th>3DO</th>\n",
       "      <td>0.10</td>\n",
       "    </tr>\n",
       "    <tr>\n",
       "      <th>GG</th>\n",
       "      <td>0.04</td>\n",
       "    </tr>\n",
       "    <tr>\n",
       "      <th>PCFX</th>\n",
       "      <td>0.03</td>\n",
       "    </tr>\n",
       "  </tbody>\n",
       "</table>\n",
       "</div>"
      ],
      "text/plain": [
       "          total_sales\n",
       "platform             \n",
       "PS2           1233.56\n",
       "X360           961.24\n",
       "PS3            931.33\n",
       "Wii            891.18\n",
       "DS             802.78\n",
       "PS             727.58\n",
       "PS4            314.14\n",
       "GBA            312.88\n",
       "PSP            289.53\n",
       "3DS            257.81\n",
       "PC             255.76\n",
       "GB             254.43\n",
       "XB             251.57\n",
       "NES            251.05\n",
       "N64            218.01\n",
       "SNES           200.04\n",
       "GC             196.73\n",
       "XOne           159.32\n",
       "2600            86.48\n",
       "WiiU            82.19\n",
       "PSV             53.81\n",
       "SAT             33.59\n",
       "GEN             28.35\n",
       "DC              15.95\n",
       "SCD              1.86\n",
       "NG               1.44\n",
       "WS               1.42\n",
       "TG16             0.16\n",
       "3DO              0.10\n",
       "GG               0.04\n",
       "PCFX             0.03"
      ]
     },
     "execution_count": 23,
     "metadata": {},
     "output_type": "execute_result"
    }
   ],
   "source": [
    "df.pivot_table(index='platform', values='total_sales', aggfunc='sum').sort_values(by='total_sales', ascending=False)"
   ]
  },
  {
   "cell_type": "markdown",
   "metadata": {},
   "source": [
    "Первые 6 платформ сильно выделяются по общим продажам игр. Остановимся на них подробнее."
   ]
  },
  {
   "cell_type": "markdown",
   "metadata": {},
   "source": [
    "Рассмотрим, как менялись продажи по годам по платформам с наибольшими суммарными продажами."
   ]
  },
  {
   "cell_type": "code",
   "execution_count": 24,
   "metadata": {},
   "outputs": [],
   "source": [
    "top_platforms = ['PS2', 'X360', 'PS3', 'Wii', 'DS', 'PS']"
   ]
  },
  {
   "cell_type": "code",
   "execution_count": 25,
   "metadata": {},
   "outputs": [
    {
     "data": {
      "image/png": "[encoded data removed]",
      "text/plain": [
       "<Figure size 1080x576 with 1 Axes>"
      ]
     },
     "metadata": {
      "needs_background": "light"
     },
     "output_type": "display_data"
    }
   ],
   "source": [
    "(\n",
    "    df[df['platform'].isin(top_platforms)]\n",
    "    .pivot_table(index='year_of_release', columns='platform', values='total_sales', aggfunc='sum')\n",
    "    .plot(kind='bar', rot=0, stacked=True, figsize=(15, 8))\n",
    ")\n",
    "plt.title('Распределение продаж по годам по платформам с наибольшими суммарными продажами')\n",
    "plt.xlabel('Год')\n",
    "plt.ylabel('Сумма продаж')\n",
    "plt.show()"
   ]
  },
  {
   "cell_type": "markdown",
   "metadata": {},
   "source": [
    "На графике видно, что срок жизни одной платформы составляет примерно 10 лет. Несмотря на высокие продажи в целом, к 2016 году ни одна из выбранных платформ не может считаться популярной, а общие продажи почти нулевые. "
   ]
  },
  {
   "cell_type": "markdown",
   "metadata": {},
   "source": [
    "Для дальнейшего анализа оставим период в последние 5 лет, с 2012 по 2016 год. Этот период составляет половину среднего жизненного цикла одной платформы. Также с 2012 года количество выпускаемых игр находится приблизительно на одном уровне."
   ]
  },
  {
   "cell_type": "code",
   "execution_count": 26,
   "metadata": {},
   "outputs": [],
   "source": [
    "df_actual = df.query('year_of_release >= 2012')"
   ]
  },
  {
   "cell_type": "markdown",
   "metadata": {},
   "source": [
    "### Распределение глобальных продаж по платформам ###"
   ]
  },
  {
   "cell_type": "markdown",
   "metadata": {},
   "source": [
    "Посмотрим, как распределяются продажи по платформам начиная с 2010 года."
   ]
  },
  {
   "cell_type": "code",
   "execution_count": 27,
   "metadata": {},
   "outputs": [
    {
     "data": {
      "image/png": "[encoded data removed]",
      "text/plain": [
       "<Figure size 1080x576 with 1 Axes>"
      ]
     },
     "metadata": {
      "needs_background": "light"
     },
     "output_type": "display_data"
    }
   ],
   "source": [
    "(\n",
    "    df_actual\n",
    "    .pivot_table(index='year_of_release', columns='platform', values='total_sales', aggfunc='sum')\n",
    "    .plot(kind='bar', rot=0, stacked=True, grid=True, figsize=(15, 8))\n",
    ")\n",
    "plt.title('Распределение глобальных продаж по платформам')\n",
    "plt.xlabel('Год выпуска')\n",
    "plt.ylabel('Сумма продаж')\n",
    "plt.show()"
   ]
  },
  {
   "cell_type": "markdown",
   "metadata": {},
   "source": [
    "За выбранный период тенденция к росту продаж наблюдается только у двух платформ - Xbox One и PlayStation4 (здесь необходимо учесть, что данные за 2016-й год неполные). По остальным платформам наблюдается спад продаж."
   ]
  },
  {
   "cell_type": "markdown",
   "metadata": {},
   "source": [
    "### Изучение зависимости продаж от оценок пользователей и критиков ###"
   ]
  },
  {
   "cell_type": "markdown",
   "metadata": {},
   "source": [
    "Построим «ящик с усами» по глобальным продажам игр в разбивке по платформам. Для более наглядного представления данных ограничим значения **total_sales**."
   ]
  },
  {
   "cell_type": "code",
   "execution_count": 28,
   "metadata": {
    "scrolled": false
   },
   "outputs": [
    {
     "data": {
      "image/png": "[encoded data removed]",
      "text/plain": [
       "<Figure size 1440x1080 with 1 Axes>"
      ]
     },
     "metadata": {
      "needs_background": "light"
     },
     "output_type": "display_data"
    }
   ],
   "source": [
    "df_actual.boxplot(by='platform', column='total_sales', figsize=(20, 15))\n",
    "plt.ylim(0, 4)\n",
    "plt.show()"
   ]
  },
  {
   "cell_type": "markdown",
   "metadata": {},
   "source": [
    "Самые высокие медианные продажи за исследуемый период наблюдаются у Xbox360. Однако у PS4 очень много выбросов с высокими значениями продаж, что говорит о большей популярности данной платформы."
   ]
  },
  {
   "cell_type": "markdown",
   "metadata": {},
   "source": [
    "Теперь рассмотрим, влияют ли на глобальные продажи оценки пользователей и критиков. Для анализа возьмем популярные в последние годы платформы PS4 и XOne, а также достаточно популярную ранее X360."
   ]
  },
  {
   "cell_type": "code",
   "execution_count": 29,
   "metadata": {},
   "outputs": [
    {
     "data": {
      "image/png": "[encoded data removed]",
      "text/plain": [
       "<Figure size 1080x360 with 2 Axes>"
      ]
     },
     "metadata": {
      "needs_background": "light"
     },
     "output_type": "display_data"
    },
    {
     "name": "stdout",
     "output_type": "stream",
     "text": [
      "Корреляция между отзывами пользователей и количеством продаж платформы PS4 равна: -0.031957110204556376\n",
      "Корреляция между отзывами критиков и количеством продаж платформы PS4 равна: 0.40656790206178095\n"
     ]
    }
   ],
   "source": [
    "f, axs = plt.subplots(1, 2, figsize=(15, 5))\n",
    "df_actual.query('platform == \"PS4\"').plot(kind='scatter', x='user_score', y='total_sales', alpha=0.7, ax=axs[0], title='Зависимость продаж игр на PS4 от оценок пользователей')\n",
    "df_actual.query('platform == \"PS4\"').plot(kind='scatter', x='critic_score', y='total_sales', alpha=0.7, ax=axs[1], title='Зависимость продаж игр на PS4 от оценок критиков')\n",
    "plt.show()\n",
    "\n",
    "print('Корреляция между отзывами пользователей и количеством продаж платформы PS4 равна:', df_actual.query('platform == \"PS4\"')['user_score'].corr(df_actual.query('platform == \"PS4\"')['total_sales']))\n",
    "print('Корреляция между отзывами критиков и количеством продаж платформы PS4 равна:', df_actual.query('platform == \"PS4\"')['critic_score'].corr(df_actual.query('platform == \"PS4\"')['total_sales']))"
   ]
  },
  {
   "cell_type": "code",
   "execution_count": 30,
   "metadata": {},
   "outputs": [
    {
     "data": {
      "image/png": "[encoded data removed]",
      "text/plain": [
       "<Figure size 1080x360 with 2 Axes>"
      ]
     },
     "metadata": {
      "needs_background": "light"
     },
     "output_type": "display_data"
    },
    {
     "name": "stdout",
     "output_type": "stream",
     "text": [
      "Корреляция между отзывами пользователей и количеством продаж платформы XOne равна: -0.06892505328279414\n",
      "Корреляция между отзывами критиков и количеством продаж платформы XOne равна: 0.4169983280084017\n"
     ]
    }
   ],
   "source": [
    "f, axs = plt.subplots(1, 2, figsize=(15, 5))\n",
    "df_actual.query('platform == \"XOne\"').plot(kind='scatter', x='user_score', y='total_sales', alpha=0.7, ax=axs[0], title='Зависимость продаж игр на XOne от оценок пользователей')\n",
    "df_actual.query('platform == \"XOne\"').plot(kind='scatter', x='critic_score', y='total_sales', alpha=0.7, ax=axs[1], title='Зависимость продаж игр на XOne от оценок критиков')\n",
    "plt.show()\n",
    "\n",
    "print('Корреляция между отзывами пользователей и количеством продаж платформы XOne равна:', df_actual.query('platform == \"XOne\"')['user_score'].corr(df_actual.query('platform == \"XOne\"')['total_sales']))\n",
    "print('Корреляция между отзывами критиков и количеством продаж платформы XOne равна:', df_actual.query('platform == \"XOne\"')['critic_score'].corr(df_actual.query('platform == \"XOne\"')['total_sales']))"
   ]
  },
  {
   "cell_type": "code",
   "execution_count": 31,
   "metadata": {},
   "outputs": [
    {
     "data": {
      "image/png": "[encoded data removed]",
      "text/plain": [
       "<Figure size 1080x360 with 2 Axes>"
      ]
     },
     "metadata": {
      "needs_background": "light"
     },
     "output_type": "display_data"
    },
    {
     "name": "stdout",
     "output_type": "stream",
     "text": [
      "Корреляция между отзывами пользователей и количеством продаж платформы X360 равна: 0.006163978646213326\n",
      "Корреляция между отзывами критиков и количеством продаж платформы X360 равна: 0.3605734888507336\n"
     ]
    }
   ],
   "source": [
    "f, axs = plt.subplots(1, 2, figsize=(15, 5))\n",
    "df_actual.query('platform == \"X360\"').plot(kind='scatter', x='user_score', y='total_sales', alpha=0.7, ax=axs[0], title='Зависимость продаж игр на X360 от оценок пользователей')\n",
    "df_actual.query('platform == \"X360\"').plot(kind='scatter', x='critic_score', y='total_sales', alpha=0.7, ax=axs[1], title='Зависимость продаж игр на X360 от оценок критиков')\n",
    "plt.show()\n",
    "\n",
    "print('Корреляция между отзывами пользователей и количеством продаж платформы X360 равна:', df_actual.query('platform == \"X360\"')['user_score'].corr(df_actual.query('platform == \"X360\"')['total_sales']))\n",
    "print('Корреляция между отзывами критиков и количеством продаж платформы X360 равна:', df_actual.query('platform == \"X360\"')['critic_score'].corr(df_actual.query('platform == \"X360\"')['total_sales']))"
   ]
  },
  {
   "cell_type": "markdown",
   "metadata": {},
   "source": [
    "Во всех трех случаях наблюдается одинаковая картина:\n",
    "- связь между продажами и оценками пользователей отсутствует;\n",
    "- имеется небольшая линейная связь между продажами и оценками критиков, коэффициент корреляции между продажами и оценками критиков практически одинаковый для 3-х платформ."
   ]
  },
  {
   "cell_type": "markdown",
   "metadata": {},
   "source": [
    "### Распределение глобальных продаж по жанрам ###"
   ]
  },
  {
   "cell_type": "markdown",
   "metadata": {},
   "source": [
    "Посмотрим на распределение количества выпущенных игр по жанрам."
   ]
  },
  {
   "cell_type": "code",
   "execution_count": 32,
   "metadata": {
    "scrolled": true
   },
   "outputs": [
    {
     "data": {
      "image/png": "[encoded data removed]",
      "text/plain": [
       "<Figure size 1080x360 with 1 Axes>"
      ]
     },
     "metadata": {
      "needs_background": "light"
     },
     "output_type": "display_data"
    }
   ],
   "source": [
    "df_actual['genre'].hist(bins=23, figsize=(15, 5), color='yellowgreen')\n",
    "plt.title('Распределение выпущенных игр по жанрам')\n",
    "plt.ylabel('Количество игр')\n",
    "plt.show()"
   ]
  },
  {
   "cell_type": "markdown",
   "metadata": {},
   "source": [
    "Больше всего выпущено игр жанра Action. Второе место делят такие жанры как Misc, Role-Playing, Sports и Adventure."
   ]
  },
  {
   "cell_type": "markdown",
   "metadata": {},
   "source": [
    "Посмотрим, как распределяются общие продажи по жанрам, построим распределение по средним и медианным продажам."
   ]
  },
  {
   "cell_type": "code",
   "execution_count": 33,
   "metadata": {},
   "outputs": [
    {
     "data": {
      "image/png": "[encoded data removed]",
      "text/plain": [
       "<Figure size 1080x360 with 1 Axes>"
      ]
     },
     "metadata": {
      "needs_background": "light"
     },
     "output_type": "display_data"
    }
   ],
   "source": [
    "(\n",
    "    df_actual\n",
    "    .pivot_table(index='genre', values='total_sales')\n",
    "    .plot(kind='bar', rot=0, stacked=True, grid=True, figsize=(15, 5), color='coral')\n",
    ")\n",
    "plt.title('Средние продажи по жанрам')\n",
    "plt.ylabel('Сумма продаж')\n",
    "plt.show()"
   ]
  },
  {
   "cell_type": "code",
   "execution_count": 34,
   "metadata": {},
   "outputs": [
    {
     "data": {
      "image/png": "[encoded data removed]",
      "text/plain": [
       "<Figure size 1440x720 with 1 Axes>"
      ]
     },
     "metadata": {
      "needs_background": "light"
     },
     "output_type": "display_data"
    }
   ],
   "source": [
    "df_actual.boxplot(by='genre', column='total_sales', figsize=(20, 10))\n",
    "plt.ylim(0, 6)\n",
    "plt.show()"
   ]
  },
  {
   "cell_type": "markdown",
   "metadata": {},
   "source": [
    "По средним и медианным продажам явно лидируют игры жанра Shooter."
   ]
  },
  {
   "cell_type": "markdown",
   "metadata": {},
   "source": [
    "**По итогам анализа данных подытожим следующее:**\n",
    "- в последние несколько лет рост продаж наблюдается у двух платформ: PS4 и Xbox One\n",
    "- величина продаж не зависит от пользовательских оценок\n",
    "- присутствует небольшое влияние оценок критиков на величину продаж\n",
    "- больше всего выпускается игр жанра Action\n",
    "- стоит обратить особое внимание на игры жанра Shooter: при относительно небольшом количестве игр данного жанра, по средним и медианным продажам они занимают лидирующее место"
   ]
  },
  {
   "cell_type": "markdown",
   "metadata": {},
   "source": [
    "## Составление портрета пользователя по регионам ##"
   ]
  },
  {
   "cell_type": "markdown",
   "metadata": {},
   "source": [
    "Далее мы рассмотрим распределение продаж по жанрам, платформам и рейтингам в разрезе каждого региона."
   ]
  },
  {
   "cell_type": "markdown",
   "metadata": {},
   "source": [
    "Создадим функции: для построения круговой диаграммы (на ней рассмотрим полное распределение) и для построения столбчатой диаграммы (на ней рассмотрим топ-5 платформ и жанров для каждого региона)."
   ]
  },
  {
   "cell_type": "code",
   "execution_count": 35,
   "metadata": {},
   "outputs": [],
   "source": [
    "# функция для построения двух круговых диаграмм\n",
    "def show_2_pieplot(data, column1, column2, values, name, index1, index2):\n",
    "    f, axs = plt.subplots(ncols=2, figsize=(20, 8))\n",
    "    data1 = data.groupby(column1)[values].sum().sort_values(ascending=False)\n",
    "    data2 = data.groupby(column2)[values].sum().sort_values(ascending=False)\n",
    "    data1.plot(kind='pie', subplots=True, autopct='%1.1f%%', title=name, ax=axs[index1])\n",
    "    data2.plot(kind='pie', subplots=True, autopct='%1.1f%%', title=name, ax=axs[index2])"
   ]
  },
  {
   "cell_type": "code",
   "execution_count": 36,
   "metadata": {},
   "outputs": [],
   "source": [
    "# функция для построения двух стобчатых диаграмм\n",
    "def show_2_barplot(data, column1, column2, values, name, index1, index2):\n",
    "    f, axs = plt.subplots(ncols=2, figsize=(20, 6), sharey=True)\n",
    "    data1 = data.groupby(column1)[values].apply(lambda x: sum(x)/sum(data[values])*100).sort_values(ascending=False).head()\n",
    "    data2 = data.groupby(column2)[values].apply(lambda x: sum(x)/sum(data[values])*100).sort_values(ascending=False).head()\n",
    "    data1.plot(kind='bar', rot=0, grid=True, subplots=True, title=name, color='aquamarine', ax=axs[index1])\n",
    "    data2.plot(kind='bar', rot=0, grid=True, subplots=True, title=name, color='lightcoral', ax=axs[index2])"
   ]
  },
  {
   "cell_type": "code",
   "execution_count": 37,
   "metadata": {},
   "outputs": [],
   "source": [
    "# функция для построения одной круговой диаграммы\n",
    "def show_pieplot(data, column, values, name):\n",
    "    data = data.groupby(column)[values].sum().sort_values(ascending=False)\n",
    "    data.plot(kind='pie', subplots=True, autopct='%1.1f%%', title=name, figsize=(5, 5))"
   ]
  },
  {
   "cell_type": "markdown",
   "metadata": {},
   "source": [
    "### Северная Америка ###"
   ]
  },
  {
   "cell_type": "markdown",
   "metadata": {},
   "source": [
    "Рассмотрим распределение продаж по платформам и жанрам в Северной Америке."
   ]
  },
  {
   "cell_type": "code",
   "execution_count": 38,
   "metadata": {},
   "outputs": [
    {
     "data": {
      "image/png": "[encoded data removed]",
      "text/plain": [
       "<Figure size 1440x576 with 2 Axes>"
      ]
     },
     "metadata": {},
     "output_type": "display_data"
    }
   ],
   "source": [
    "show_2_pieplot(df_actual, 'platform', 'genre', 'na_sales', 'Распределение продаж по платформам и жанрам в Северной Америке', 0, 1)"
   ]
  },
  {
   "cell_type": "markdown",
   "metadata": {},
   "source": [
    "Отдельно посмотрим на топ-5 платформ и жанров в Северной Америке."
   ]
  },
  {
   "cell_type": "code",
   "execution_count": 39,
   "metadata": {},
   "outputs": [
    {
     "data": {
      "image/png": "[encoded data removed]",
      "text/plain": [
       "<Figure size 1440x432 with 2 Axes>"
      ]
     },
     "metadata": {
      "needs_background": "light"
     },
     "output_type": "display_data"
    }
   ],
   "source": [
    "show_2_barplot(df_actual, 'platform', 'genre', 'na_sales', 'Топ-5 платформ и жанров в Северной Америке', 0, 1)"
   ]
  },
  {
   "cell_type": "markdown",
   "metadata": {},
   "source": [
    "Самая популярная платформа в Северной Америке в последние годы - X360. На втором месте - PS4, далее с минимальным отрывом следуют PS3 и XOne.\n",
    "\n",
    "Самый популярный жанр - Action, на втором месте - Shooter. Остальные жанры значительно менее популярны."
   ]
  },
  {
   "cell_type": "markdown",
   "metadata": {},
   "source": [
    "Теперь рассмотрим игры с каким рейтингом преобладают на территории Северной Америки."
   ]
  },
  {
   "cell_type": "code",
   "execution_count": 40,
   "metadata": {},
   "outputs": [
    {
     "data": {
      "image/png": "[encoded data removed]",
      "text/plain": [
       "<Figure size 360x360 with 1 Axes>"
      ]
     },
     "metadata": {},
     "output_type": "display_data"
    }
   ],
   "source": [
    "show_pieplot(df_actual, 'rating', 'na_sales', 'Распределение продаж по рейтингу ESRB в Северной Америке')"
   ]
  },
  {
   "cell_type": "markdown",
   "metadata": {},
   "source": [
    "В Северной Америке преобладающую часть продаж составляют игры с рейтингом M (для взрослых). Далее, по убыванию популярности, идут игры для всех (E) и игры без рейтинга ESRB. Т.к. рейтинг ESRB применяется только на территории США и Канады, вероятно, что игры без данного рейтинга были выпущены на территории других стран, из-за чего данный рейтинг им не присвоен."
   ]
  },
  {
   "cell_type": "markdown",
   "metadata": {},
   "source": [
    "### Европа ###"
   ]
  },
  {
   "cell_type": "markdown",
   "metadata": {},
   "source": [
    "Рассмотрим распределение продаж по платформам и жанрам в Европе."
   ]
  },
  {
   "cell_type": "code",
   "execution_count": 41,
   "metadata": {},
   "outputs": [
    {
     "data": {
      "image/png": "[encoded data removed]",
      "text/plain": [
       "<Figure size 1440x576 with 2 Axes>"
      ]
     },
     "metadata": {},
     "output_type": "display_data"
    }
   ],
   "source": [
    "show_2_pieplot(df_actual, 'platform', 'genre', 'eu_sales', 'Распределение продаж по платформам и жанрам в Европе', 0, 1)"
   ]
  },
  {
   "cell_type": "markdown",
   "metadata": {},
   "source": [
    "Отдельно посмотрим на топ-5 платформ и жанров в Европе."
   ]
  },
  {
   "cell_type": "code",
   "execution_count": 42,
   "metadata": {
    "scrolled": false
   },
   "outputs": [
    {
     "data": {
      "image/png": "[encoded data removed]",
      "text/plain": [
       "<Figure size 1440x432 with 2 Axes>"
      ]
     },
     "metadata": {
      "needs_background": "light"
     },
     "output_type": "display_data"
    }
   ],
   "source": [
    "show_2_barplot(df_actual, 'platform', 'genre', 'eu_sales', 'Топ-5 платформ и жанров в Европе', 0, 1)"
   ]
  },
  {
   "cell_type": "markdown",
   "metadata": {},
   "source": [
    "Самая популярная платформа в Европе в последние годы - PS4. На втором месте - PS3, далее следуют X360 и XOne. Платформы, входящие в топ-5 по Европе, совпадают с перечнем платформ, входящих в топ-5 в Северной Америке, несмотря на то, что доли данных платформ в регионах различаются.\n",
    "\n",
    "Самый популярный жанр - Action, на втором месте - Shooter. Остальные жанры значительно менее популярны, что также совпадает с распределнием продаж в Северной Америке."
   ]
  },
  {
   "cell_type": "markdown",
   "metadata": {},
   "source": [
    "Теперь рассмотрим игры с каким рейтингом преобладают на территории Европе."
   ]
  },
  {
   "cell_type": "code",
   "execution_count": 43,
   "metadata": {
    "scrolled": true
   },
   "outputs": [
    {
     "data": {
      "image/png": "[encoded data removed]",
      "text/plain": [
       "<Figure size 360x360 with 1 Axes>"
      ]
     },
     "metadata": {},
     "output_type": "display_data"
    }
   ],
   "source": [
    "show_pieplot(df_actual, 'rating', 'eu_sales', 'Распределение продаж по рейтингу ESRB в Европе')"
   ]
  },
  {
   "cell_type": "markdown",
   "metadata": {},
   "source": [
    "Распределение продаж по рейтингам в Европе также крайне похожа на распределение в Северной Америке.\n",
    "\n",
    "В Европе преобладающую часть продаж составляют игры с рейтингом M (для взрослых). Далее, по убыванию популярности, идут игры для всех (E) и игры без рейтинга ESRB. "
   ]
  },
  {
   "cell_type": "markdown",
   "metadata": {},
   "source": [
    "### Япония ###"
   ]
  },
  {
   "cell_type": "markdown",
   "metadata": {},
   "source": [
    "Рассмотрим распределение продаж по платформам и жанрам в Японии."
   ]
  },
  {
   "cell_type": "code",
   "execution_count": 44,
   "metadata": {},
   "outputs": [
    {
     "data": {
      "image/png": "[encoded data removed]",
      "text/plain": [
       "<Figure size 1440x576 with 2 Axes>"
      ]
     },
     "metadata": {},
     "output_type": "display_data"
    }
   ],
   "source": [
    "show_2_pieplot(df_actual, 'platform', 'genre', 'jp_sales', 'Распределение продаж по платформам и жанрам в Японии', 0, 1)"
   ]
  },
  {
   "cell_type": "markdown",
   "metadata": {},
   "source": [
    "Отдельно посмотрим на топ-5 платформ и жанров в Японии."
   ]
  },
  {
   "cell_type": "code",
   "execution_count": 45,
   "metadata": {},
   "outputs": [
    {
     "data": {
      "image/png": "[encoded data removed]",
      "text/plain": [
       "<Figure size 1440x432 with 2 Axes>"
      ]
     },
     "metadata": {
      "needs_background": "light"
     },
     "output_type": "display_data"
    }
   ],
   "source": [
    "show_2_barplot(df_actual, 'platform', 'genre', 'jp_sales', 'Топ-5 платформ и жанров в Японии', 0, 1)"
   ]
  },
  {
   "cell_type": "markdown",
   "metadata": {},
   "source": [
    "Среди платформ в Японии с явным отрывом лидирует 3DS.\n",
    "\n",
    "Среди жанров преобладают Role-Playing и Action."
   ]
  },
  {
   "cell_type": "markdown",
   "metadata": {},
   "source": [
    "Теперь рассмотрим игры с каким рейтингом преобладают на территории Японии."
   ]
  },
  {
   "cell_type": "code",
   "execution_count": 46,
   "metadata": {},
   "outputs": [
    {
     "data": {
      "image/png": "[encoded data removed]",
      "text/plain": [
       "<Figure size 360x360 with 1 Axes>"
      ]
     },
     "metadata": {},
     "output_type": "display_data"
    }
   ],
   "source": [
    "show_pieplot(df_actual, 'rating', 'jp_sales', 'Распределение продаж по рейтингу ESRB в Японии')"
   ]
  },
  {
   "cell_type": "markdown",
   "metadata": {},
   "source": [
    "В Японии преобладающую часть продаж составляют игры без рейтинга ESRB. Вероятно, в Японии больше популярны игры, выпущенные в Японии, нежели игры, выпущенные в Северной Америке и Европе."
   ]
  },
  {
   "cell_type": "markdown",
   "metadata": {},
   "source": [
    "Можно заметить, что портреты типичного пользователя игр в Северной Америке и Европе довольно похожи. При этом в Японии картина разительно отличается и по платформам, и по жанрам, и по рейтингу."
   ]
  },
  {
   "cell_type": "markdown",
   "metadata": {},
   "source": [
    "**Особенности пользователя в Северной Америке:**\n",
    "- топ-платформы: X360, PS4, PS3 (почти 60%)\n",
    "- топ-жанры: Action, Shooter (более 50%)\n",
    "- топ-рейтинги: M (для взрослых) (около 40%)"
   ]
  },
  {
   "cell_type": "markdown",
   "metadata": {},
   "source": [
    "**Особенности пользователя в Европе:**\n",
    "- топ-платформы: PS4, PS3 (почти 50%)\n",
    "- топ-жанры: Action, Shooter (более 50%)\n",
    "- топ-рейтинги: M (для взрослых) (около 40%)"
   ]
  },
  {
   "cell_type": "markdown",
   "metadata": {},
   "source": [
    "**Особенности пользователя в Японии:**\n",
    "- топ-платформы: 3DS (более 45%)\n",
    "- топ-жанры: Role-Playing, Action (более 60%)\n",
    "- топ-рейтинги: игры без рейтинга (более 55%)"
   ]
  },
  {
   "cell_type": "markdown",
   "metadata": {},
   "source": [
    "## Проверка гипотез ##"
   ]
  },
  {
   "cell_type": "markdown",
   "metadata": {},
   "source": [
    "Рассмотрим в данном блоке средние пользовательские рейтинги платформ Xbox One и PC и жанров Action и Sports.\n",
    "\n",
    "В качестве нулевой гипотезы в обоих случаях примем равенство средних пользовательских оценок, в качестве альтернативной гипотезы - их неравенство.\n",
    "\n",
    "Пороговое значение alpha примем за 5%."
   ]
  },
  {
   "cell_type": "code",
   "execution_count": 47,
   "metadata": {},
   "outputs": [],
   "source": [
    "alpha = .05 # пороговое значение alpha"
   ]
  },
  {
   "cell_type": "markdown",
   "metadata": {},
   "source": [
    "### Гипотеза о равенстве пользовательских рейтингов для платформ Xbox One и PC ###"
   ]
  },
  {
   "cell_type": "markdown",
   "metadata": {},
   "source": [
    "Проверим, равны ли средние пользовательские рейтинги платформ Xbox One и PC.\n",
    "\n",
    "Нулевая гипотеза: средние пользовательские рейтинги равны.\n",
    "\n",
    "Альтернативная гипотеза: средние пользовательские рейтинги не равны."
   ]
  },
  {
   "cell_type": "code",
   "execution_count": 48,
   "metadata": {},
   "outputs": [],
   "source": [
    "xbox_user_score = df_actual[df_actual['platform'] == 'XOne']['user_score'].dropna() # пользовательские рейтинги Xbox One"
   ]
  },
  {
   "cell_type": "code",
   "execution_count": 49,
   "metadata": {},
   "outputs": [],
   "source": [
    "pc_user_score = df_actual[df_actual['platform'] == 'PC']['user_score'].dropna() # пользовательские рейтинги PC"
   ]
  },
  {
   "cell_type": "code",
   "execution_count": 50,
   "metadata": {},
   "outputs": [
    {
     "data": {
      "text/plain": [
       "182"
      ]
     },
     "execution_count": 50,
     "metadata": {},
     "output_type": "execute_result"
    }
   ],
   "source": [
    "len(xbox_user_score)"
   ]
  },
  {
   "cell_type": "code",
   "execution_count": 51,
   "metadata": {},
   "outputs": [
    {
     "data": {
      "text/plain": [
       "206"
      ]
     },
     "execution_count": 51,
     "metadata": {},
     "output_type": "execute_result"
    }
   ],
   "source": [
    "len(pc_user_score)"
   ]
  },
  {
   "cell_type": "markdown",
   "metadata": {},
   "source": [
    "Так как выборки отличаются по размеру, при проведении t-теста предположим, что их дисперсии не равны (примем аргумент equal_var как False)."
   ]
  },
  {
   "cell_type": "code",
   "execution_count": 52,
   "metadata": {},
   "outputs": [],
   "source": [
    "platform_results = st.ttest_ind(xbox_user_score, pc_user_score, equal_var=False)"
   ]
  },
  {
   "cell_type": "code",
   "execution_count": 53,
   "metadata": {
    "scrolled": true
   },
   "outputs": [
    {
     "data": {
      "text/plain": [
       "0.5489537965134912"
      ]
     },
     "execution_count": 53,
     "metadata": {},
     "output_type": "execute_result"
    }
   ],
   "source": [
    "platform_results.pvalue # значение p-value"
   ]
  },
  {
   "cell_type": "code",
   "execution_count": 54,
   "metadata": {},
   "outputs": [
    {
     "name": "stdout",
     "output_type": "stream",
     "text": [
      "Не получилось отвергнуть нулевую гипотезу\n"
     ]
    }
   ],
   "source": [
    "if platform_results.pvalue < alpha:\n",
    "    print('Отвергаем нулевую гипотезу')\n",
    "else:\n",
    "    print('Не получилось отвергнуть нулевую гипотезу')"
   ]
  },
  {
   "cell_type": "markdown",
   "metadata": {},
   "source": [
    "В данном случае мы с вероятностью более 50% получим одинаковые пользовательские рейтинги по платформам Xbox One и PC. Это достаточно высокое значение, многократно превышающее пороговое значение. Нулевую гипотезу точно не следует отвергать."
   ]
  },
  {
   "cell_type": "markdown",
   "metadata": {},
   "source": [
    "### Гипотеза о равенстве пользовательских рейтингов для жанров Action и Sports ###"
   ]
  },
  {
   "cell_type": "markdown",
   "metadata": {},
   "source": [
    "Проверим, равны ли средние пользовательские рейтинги жанров Action и Sports.\n",
    "\n",
    "Нулевая гипотеза: средние пользовательские рейтинги равны.\n",
    "\n",
    "Альтернативная гипотеза: средние пользовательские рейтинги не равны."
   ]
  },
  {
   "cell_type": "code",
   "execution_count": 55,
   "metadata": {},
   "outputs": [],
   "source": [
    "action_user_score = df_actual[df_actual['genre'] == 'Action']['user_score'].dropna() # пользовательские рейтинги жанра Action"
   ]
  },
  {
   "cell_type": "code",
   "execution_count": 56,
   "metadata": {},
   "outputs": [],
   "source": [
    "sports_user_score = df_actual[df_actual['genre'] == 'Sports']['user_score'].dropna() # пользовательские рейтинги жанра Sports"
   ]
  },
  {
   "cell_type": "code",
   "execution_count": 57,
   "metadata": {},
   "outputs": [
    {
     "data": {
      "text/plain": [
       "523"
      ]
     },
     "execution_count": 57,
     "metadata": {},
     "output_type": "execute_result"
    }
   ],
   "source": [
    "len(action_user_score)"
   ]
  },
  {
   "cell_type": "code",
   "execution_count": 58,
   "metadata": {},
   "outputs": [
    {
     "data": {
      "text/plain": [
       "194"
      ]
     },
     "execution_count": 58,
     "metadata": {},
     "output_type": "execute_result"
    }
   ],
   "source": [
    "len(sports_user_score)"
   ]
  },
  {
   "cell_type": "markdown",
   "metadata": {},
   "source": [
    "Так как выборки существенно отличаются по размеру, при проведении t-теста предположим, что их дисперсии не равны (примем аргумент equal_var как False)."
   ]
  },
  {
   "cell_type": "code",
   "execution_count": 59,
   "metadata": {},
   "outputs": [],
   "source": [
    "genre_results = st.ttest_ind(action_user_score, sports_user_score, equal_var=False)"
   ]
  },
  {
   "cell_type": "code",
   "execution_count": 60,
   "metadata": {},
   "outputs": [
    {
     "data": {
      "text/plain": [
       "5.98945806646755e-20"
      ]
     },
     "execution_count": 60,
     "metadata": {},
     "output_type": "execute_result"
    }
   ],
   "source": [
    "genre_results.pvalue # значение p-value"
   ]
  },
  {
   "cell_type": "code",
   "execution_count": 61,
   "metadata": {},
   "outputs": [
    {
     "name": "stdout",
     "output_type": "stream",
     "text": [
      "Отвергаем нулевую гипотезу\n"
     ]
    }
   ],
   "source": [
    "if genre_results.pvalue < alpha:\n",
    "    print('Отвергаем нулевую гипотезу')\n",
    "else:\n",
    "    print('Не получилось отвергнуть нулевую гипотезу')"
   ]
  },
  {
   "cell_type": "markdown",
   "metadata": {},
   "source": [
    "Вероятность получить одинаковые пользовательские оценки по жанрам Action и Sports крайне мала. Можно отвергуть нулевую гипотезу и остановиться на альтернативной - средние пользовательские рейтинги выбранных жанров не равны."
   ]
  },
  {
   "cell_type": "markdown",
   "metadata": {},
   "source": [
    "## Общий вывод ##"
   ]
  },
  {
   "cell_type": "markdown",
   "metadata": {},
   "source": [
    "**По итогам проведенного анализа исторических данных о продажах игр можно отметить следующие моменты:**\n",
    "\n",
    "1. Особенности предобработки данных:\n",
    "    * Из имеющихся данных были удалены строки с пропусками в столбцах name, genre, year_of_release, т.к. они составляют менее 2% от общего объема данных\n",
    "    * Имеется много пропусков среди оценок пользователей и критиков, данные пропуски были оставлены без изменений.\n",
    "    * Отсутствующие данные в столбце rating вероятно связаны с тем, что игры были выпущены не на территории Европы или Северной Америке, в связи с чем им не был присвоен рейтинг ESRB\n",
    "\n",
    "\n",
    "2. Количество выпускаемых игр распределено по годам неравномерно. Так, в период с 1980 по 1990 индустрия только зарождалась, количество выпускаемых игр было стабильно небольшим. Далее начался стабильный рост, сопровождавшийся несколькими скачками в период с 2000 по 2010 год. С 2010 индустрия пошла на спад, вероятно в связи с развитием рынка мобильных приложений. Ситуация стабилизировалась в 2012 году, начиная с этого момента ежегодное количество выпускаемых игр держится примерно на одном уровне. В связи с этим, для получения актуальных результатов при анализе были отброшены данные до 2012 года.\n",
    "\n",
    "\n",
    "3. Средний срок жизни одной платформы составляет примерно 10 лет. При анализе платформ с самыми высокими продажами за исследуемый период было обнаружено, что все они к моменту исследования находятся в затухающем состоянии.\n",
    "\n",
    "\n",
    "4. Распределение глобальных продаж по платформам показало, что в последние годы популярность набирают 2 платформы - PS4 и XOne. По остальным платформам наблюдается спад продаж.\n",
    "\n",
    "\n",
    "5. Была проанализована зависимость объема продаж от оценок пользователей на примере трех платформ: PS4, XOne, X360. В трех случаях коэффициент корреляции находится в диапазоне -0.1 - 0.1, что говорит об отсутствии такой зависимости.\n",
    "\n",
    "\n",
    "6. Также была проанализована зависимость объема продаж от оценок критиков на примере трех платформ: PS4, XOne, X360. В трех случаях коэффициент корреляции находится в диапазоне 0.35-0.45, что говорит о наличии умеренной связи.\n",
    "\n",
    "\n",
    "7. За исследуемый период выпущено больше всего игр жанра Action (более 1000). Однако самые высокие средние и медианные продажи у игр жанра Shooter. При планировании рекламной кампании основной упор стоит сделать на игры данного жанра.\n",
    "\n",
    "\n",
    "8. Выявлены существенные различия в портретах пользователей по регионам. Портреты пользователей в западных регионах (Северная Америка и Европа) сильно похожи между собой, при этом портрет пользователя в восточной регионе (Японии) разительно отличается. Данные особенности важно учитывать при планировании рекламной кампании.\n",
    "\n",
    "\n",
    "    * Особенности пользователя в Северной Америке:\n",
    "        - топ-платформы: X360, PS4, PS3 (почти 60%)\n",
    "        - топ-жанры: Action, Shooter (более 50%)\n",
    "        - топ-рейтинги: M (для взрослых) (около 40%)\n",
    "\n",
    "    * Особенности пользователя в Европе:\n",
    "        - топ-платформы: PS4, PS3 (почти 50%)\n",
    "        - топ-жанры: Action, Shooter (более 50%)\n",
    "        - топ-рейтинги: M (для взрослых) (около 40%)\n",
    "\n",
    "    * Особенности пользователя в Японии:\n",
    "        - топ-платформы: 3DS (более 45%)\n",
    "        - топ-жанры: Role-Playing, Action (более 60%)\n",
    "        - топ-рейтинги: игры без рейтинга (более 55%)\n",
    "\n",
    "\n",
    "9. При проверке гипотезы о равенстве пользовательских рейтингов для платформ Xbox One и PC, было получено значение p-value равное 0.5489537965134912, что не дает нам основание отвергнуть данную гипотезу. Таким образом, с вероятностью более 50% мы получим одинаковые средние пользовательские рейтинги по платформам Xbox One и PC. \n",
    "\n",
    "\n",
    "10. При проверке гипотезы о равенстве пользовательских рейтингов для жанров Action и Sports, было получено значение p-value равное 5.98945806646755e-20, на основании чего можно сделать вывод, что средние пользовательские рейтинги по жанрам Action и Sport имеют статистически значимые различия."
   ]
  }
 ],
 "metadata": {
  "ExecuteTimeLog": [
   {
    "duration": 423,
    "start_time": "2022-08-02T11:47:46.420Z"
   },
   {
    "duration": 94,
    "start_time": "2022-08-02T11:48:05.178Z"
   },
   {
    "duration": 20,
    "start_time": "2022-08-02T11:48:11.083Z"
   },
   {
    "duration": 15,
    "start_time": "2022-08-02T11:48:39.467Z"
   },
   {
    "duration": 855,
    "start_time": "2022-08-02T11:48:59.571Z"
   },
   {
    "duration": 89,
    "start_time": "2022-08-02T11:54:16.600Z"
   },
   {
    "duration": 6,
    "start_time": "2022-08-02T11:54:23.238Z"
   },
   {
    "duration": 14,
    "start_time": "2022-08-02T11:54:29.784Z"
   },
   {
    "duration": 10,
    "start_time": "2022-08-02T11:54:45.086Z"
   },
   {
    "duration": 75,
    "start_time": "2022-08-02T11:55:32.726Z"
   },
   {
    "duration": 3,
    "start_time": "2022-08-02T11:56:05.282Z"
   },
   {
    "duration": 11,
    "start_time": "2022-08-02T12:01:47.796Z"
   },
   {
    "duration": 7,
    "start_time": "2022-08-02T12:01:52.786Z"
   },
   {
    "duration": 7,
    "start_time": "2022-08-02T12:02:57.422Z"
   },
   {
    "duration": 7,
    "start_time": "2022-08-02T12:03:09.252Z"
   },
   {
    "duration": 6,
    "start_time": "2022-08-02T12:03:54.862Z"
   },
   {
    "duration": 7,
    "start_time": "2022-08-02T12:08:23.193Z"
   },
   {
    "duration": 132,
    "start_time": "2022-08-02T12:09:18.300Z"
   },
   {
    "duration": 6,
    "start_time": "2022-08-02T12:09:24.392Z"
   },
   {
    "duration": 228,
    "start_time": "2022-08-02T13:01:18.610Z"
   },
   {
    "duration": 309,
    "start_time": "2022-08-02T13:01:52.488Z"
   },
   {
    "duration": 208,
    "start_time": "2022-08-02T13:01:58.110Z"
   },
   {
    "duration": 161,
    "start_time": "2022-08-02T13:02:12.070Z"
   },
   {
    "duration": 8,
    "start_time": "2022-08-02T13:05:51.276Z"
   },
   {
    "duration": 15,
    "start_time": "2022-08-02T13:06:00.010Z"
   },
   {
    "duration": 8,
    "start_time": "2022-08-02T13:06:10.526Z"
   },
   {
    "duration": 10,
    "start_time": "2022-08-02T13:06:23.005Z"
   },
   {
    "duration": 6,
    "start_time": "2022-08-02T13:07:57.973Z"
   },
   {
    "duration": 6,
    "start_time": "2022-08-02T13:08:11.167Z"
   },
   {
    "duration": 5,
    "start_time": "2022-08-02T13:08:19.104Z"
   },
   {
    "duration": 20,
    "start_time": "2022-08-02T13:13:04.212Z"
   },
   {
    "duration": 8,
    "start_time": "2022-08-02T13:13:12.082Z"
   },
   {
    "duration": 10,
    "start_time": "2022-08-02T13:13:29.765Z"
   },
   {
    "duration": 7,
    "start_time": "2022-08-02T13:13:31.874Z"
   },
   {
    "duration": 8,
    "start_time": "2022-08-02T13:13:49.132Z"
   },
   {
    "duration": 7,
    "start_time": "2022-08-02T13:13:58.466Z"
   },
   {
    "duration": 10,
    "start_time": "2022-08-02T13:14:23.780Z"
   },
   {
    "duration": 5,
    "start_time": "2022-08-02T13:15:01.648Z"
   },
   {
    "duration": 6,
    "start_time": "2022-08-02T13:15:07.677Z"
   },
   {
    "duration": 7,
    "start_time": "2022-08-02T13:15:27.070Z"
   },
   {
    "duration": 10,
    "start_time": "2022-08-02T13:15:54.720Z"
   },
   {
    "duration": 8,
    "start_time": "2022-08-02T13:16:00.781Z"
   },
   {
    "duration": 9,
    "start_time": "2022-08-02T13:16:28.919Z"
   },
   {
    "duration": 8,
    "start_time": "2022-08-02T13:16:44.159Z"
   },
   {
    "duration": 10,
    "start_time": "2022-08-02T13:17:09.122Z"
   },
   {
    "duration": 8,
    "start_time": "2022-08-02T13:17:10.438Z"
   },
   {
    "duration": 10,
    "start_time": "2022-08-02T13:20:03.623Z"
   },
   {
    "duration": 10,
    "start_time": "2022-08-02T13:20:18.359Z"
   },
   {
    "duration": 8,
    "start_time": "2022-08-02T13:20:19.669Z"
   },
   {
    "duration": 10,
    "start_time": "2022-08-02T13:20:21.942Z"
   },
   {
    "duration": 7,
    "start_time": "2022-08-02T13:20:22.946Z"
   },
   {
    "duration": 8,
    "start_time": "2022-08-02T13:20:58.471Z"
   },
   {
    "duration": 17,
    "start_time": "2022-08-02T13:21:00.495Z"
   },
   {
    "duration": 9,
    "start_time": "2022-08-02T13:21:18.185Z"
   },
   {
    "duration": 8,
    "start_time": "2022-08-02T13:21:20.279Z"
   },
   {
    "duration": 9,
    "start_time": "2022-08-02T13:24:39.096Z"
   },
   {
    "duration": 7,
    "start_time": "2022-08-02T13:24:40.491Z"
   },
   {
    "duration": 11,
    "start_time": "2022-08-02T13:24:41.651Z"
   },
   {
    "duration": 8,
    "start_time": "2022-08-02T13:24:42.715Z"
   },
   {
    "duration": 11,
    "start_time": "2022-08-02T13:24:43.816Z"
   },
   {
    "duration": 7,
    "start_time": "2022-08-02T13:24:44.717Z"
   },
   {
    "duration": 11,
    "start_time": "2022-08-02T13:24:46.374Z"
   },
   {
    "duration": 8,
    "start_time": "2022-08-02T13:24:47.144Z"
   },
   {
    "duration": 9,
    "start_time": "2022-08-02T13:24:48.122Z"
   },
   {
    "duration": 7,
    "start_time": "2022-08-02T13:24:48.794Z"
   },
   {
    "duration": 10,
    "start_time": "2022-08-02T13:24:50.328Z"
   },
   {
    "duration": 7,
    "start_time": "2022-08-02T13:24:51.134Z"
   },
   {
    "duration": 9,
    "start_time": "2022-08-02T13:24:52.139Z"
   },
   {
    "duration": 8,
    "start_time": "2022-08-02T13:24:52.856Z"
   },
   {
    "duration": 9,
    "start_time": "2022-08-02T13:24:54.453Z"
   },
   {
    "duration": 7,
    "start_time": "2022-08-02T13:24:55.122Z"
   },
   {
    "duration": 9,
    "start_time": "2022-08-02T13:24:56.056Z"
   },
   {
    "duration": 10,
    "start_time": "2022-08-02T13:24:56.824Z"
   },
   {
    "duration": 16,
    "start_time": "2022-08-02T13:25:32.061Z"
   },
   {
    "duration": 9,
    "start_time": "2022-08-02T13:25:32.669Z"
   },
   {
    "duration": 3,
    "start_time": "2022-08-03T11:22:51.091Z"
   },
   {
    "duration": 50,
    "start_time": "2022-08-03T11:22:52.023Z"
   },
   {
    "duration": 14,
    "start_time": "2022-08-03T11:22:52.928Z"
   },
   {
    "duration": 14,
    "start_time": "2022-08-03T11:22:54.342Z"
   },
   {
    "duration": 4,
    "start_time": "2022-08-03T11:22:57.048Z"
   },
   {
    "duration": 9,
    "start_time": "2022-08-03T11:22:58.271Z"
   },
   {
    "duration": 9,
    "start_time": "2022-08-03T11:23:00.431Z"
   },
   {
    "duration": 10,
    "start_time": "2022-08-03T11:23:08.682Z"
   },
   {
    "duration": 6,
    "start_time": "2022-08-03T11:23:12.040Z"
   },
   {
    "duration": 10,
    "start_time": "2022-08-03T11:23:33.233Z"
   },
   {
    "duration": 8,
    "start_time": "2022-08-03T11:28:16.118Z"
   },
   {
    "duration": 7,
    "start_time": "2022-08-03T11:28:26.712Z"
   },
   {
    "duration": 5,
    "start_time": "2022-08-03T11:28:39.909Z"
   },
   {
    "duration": 29,
    "start_time": "2022-08-03T11:29:22.764Z"
   },
   {
    "duration": 24,
    "start_time": "2022-08-03T11:29:36.349Z"
   },
   {
    "duration": 40,
    "start_time": "2022-08-03T11:29:46.077Z"
   },
   {
    "duration": 12,
    "start_time": "2022-08-03T11:29:57.866Z"
   },
   {
    "duration": 870,
    "start_time": "2022-08-03T11:31:35.510Z"
   },
   {
    "duration": 21,
    "start_time": "2022-08-03T11:31:41.926Z"
   },
   {
    "duration": 19,
    "start_time": "2022-08-03T11:32:08.853Z"
   },
   {
    "duration": 50,
    "start_time": "2022-08-03T11:33:06.409Z"
   },
   {
    "duration": 15,
    "start_time": "2022-08-03T11:33:14.025Z"
   },
   {
    "duration": 9,
    "start_time": "2022-08-03T11:42:07.631Z"
   },
   {
    "duration": 4,
    "start_time": "2022-08-03T11:44:37.895Z"
   },
   {
    "duration": 9,
    "start_time": "2022-08-03T11:44:58.962Z"
   },
   {
    "duration": 4,
    "start_time": "2022-08-03T11:45:07.032Z"
   },
   {
    "duration": 10,
    "start_time": "2022-08-03T11:45:44.969Z"
   },
   {
    "duration": 8,
    "start_time": "2022-08-03T11:46:13.432Z"
   },
   {
    "duration": 6,
    "start_time": "2022-08-03T11:50:02.835Z"
   },
   {
    "duration": 6,
    "start_time": "2022-08-03T11:50:12.600Z"
   },
   {
    "duration": 8,
    "start_time": "2022-08-03T11:50:18.809Z"
   },
   {
    "duration": 4,
    "start_time": "2022-08-03T11:50:28.851Z"
   },
   {
    "duration": 6,
    "start_time": "2022-08-03T11:50:38.932Z"
   },
   {
    "duration": 4,
    "start_time": "2022-08-03T11:50:56.351Z"
   },
   {
    "duration": 163,
    "start_time": "2022-08-03T11:52:21.303Z"
   },
   {
    "duration": 9,
    "start_time": "2022-08-03T12:20:36.271Z"
   },
   {
    "duration": 6,
    "start_time": "2022-08-03T14:53:52.928Z"
   },
   {
    "duration": 4,
    "start_time": "2022-08-03T14:55:12.751Z"
   },
   {
    "duration": 7,
    "start_time": "2022-08-03T14:55:18.873Z"
   },
   {
    "duration": 21,
    "start_time": "2022-08-03T15:00:59.435Z"
   },
   {
    "duration": 14,
    "start_time": "2022-08-03T15:01:45.459Z"
   },
   {
    "duration": 15,
    "start_time": "2022-08-03T15:06:00.335Z"
   },
   {
    "duration": 3,
    "start_time": "2022-08-04T09:32:06.218Z"
   },
   {
    "duration": 47,
    "start_time": "2022-08-04T09:32:07.389Z"
   },
   {
    "duration": 14,
    "start_time": "2022-08-04T09:32:09.236Z"
   },
   {
    "duration": 13,
    "start_time": "2022-08-04T09:32:11.325Z"
   },
   {
    "duration": 4,
    "start_time": "2022-08-04T09:32:14.507Z"
   },
   {
    "duration": 8,
    "start_time": "2022-08-04T09:32:16.572Z"
   },
   {
    "duration": 10,
    "start_time": "2022-08-04T09:33:35.822Z"
   },
   {
    "duration": 9,
    "start_time": "2022-08-04T09:33:42.755Z"
   },
   {
    "duration": 14,
    "start_time": "2022-08-04T09:33:59.596Z"
   },
   {
    "duration": 6,
    "start_time": "2022-08-04T09:37:12.564Z"
   },
   {
    "duration": 3,
    "start_time": "2022-08-04T09:43:42.529Z"
   },
   {
    "duration": 7,
    "start_time": "2022-08-04T09:46:57.247Z"
   },
   {
    "duration": 5,
    "start_time": "2022-08-04T09:47:23.245Z"
   },
   {
    "duration": 8,
    "start_time": "2022-08-04T09:47:28.003Z"
   },
   {
    "duration": 5,
    "start_time": "2022-08-04T09:47:57.506Z"
   },
   {
    "duration": 12,
    "start_time": "2022-08-04T09:48:03.422Z"
   },
   {
    "duration": 5,
    "start_time": "2022-08-04T09:48:15.726Z"
   },
   {
    "duration": 13,
    "start_time": "2022-08-04T09:48:18.273Z"
   },
   {
    "duration": 15,
    "start_time": "2022-08-04T09:58:27.255Z"
   },
   {
    "duration": 12,
    "start_time": "2022-08-04T09:58:36.550Z"
   },
   {
    "duration": 15,
    "start_time": "2022-08-04T09:58:49.907Z"
   },
   {
    "duration": 14,
    "start_time": "2022-08-04T10:12:55.704Z"
   },
   {
    "duration": 14,
    "start_time": "2022-08-04T10:13:04.050Z"
   },
   {
    "duration": 4,
    "start_time": "2022-08-04T10:14:12.674Z"
   },
   {
    "duration": 5,
    "start_time": "2022-08-04T10:14:27.042Z"
   },
   {
    "duration": 4,
    "start_time": "2022-08-04T10:14:49.706Z"
   },
   {
    "duration": 5,
    "start_time": "2022-08-04T10:16:10.620Z"
   },
   {
    "duration": 7,
    "start_time": "2022-08-04T10:45:33.534Z"
   },
   {
    "duration": 4,
    "start_time": "2022-08-04T10:45:41.812Z"
   },
   {
    "duration": 6,
    "start_time": "2022-08-04T10:46:02.218Z"
   },
   {
    "duration": 15,
    "start_time": "2022-08-04T10:47:14.316Z"
   },
   {
    "duration": 9,
    "start_time": "2022-08-04T10:57:40.927Z"
   },
   {
    "duration": 151,
    "start_time": "2022-08-04T11:16:05.892Z"
   },
   {
    "duration": 5,
    "start_time": "2022-08-04T12:10:42.754Z"
   },
   {
    "duration": 185,
    "start_time": "2022-08-04T12:11:02.616Z"
   },
   {
    "duration": 164,
    "start_time": "2022-08-04T12:12:17.834Z"
   },
   {
    "duration": 165,
    "start_time": "2022-08-04T12:13:06.683Z"
   },
   {
    "duration": 245,
    "start_time": "2022-08-04T12:13:12.064Z"
   },
   {
    "duration": 7,
    "start_time": "2022-08-04T12:14:17.029Z"
   },
   {
    "duration": 951,
    "start_time": "2022-08-04T12:14:32.073Z"
   },
   {
    "duration": 92,
    "start_time": "2022-08-04T12:14:43.283Z"
   },
   {
    "duration": 12,
    "start_time": "2022-08-04T12:14:45.945Z"
   },
   {
    "duration": 15,
    "start_time": "2022-08-04T12:15:58.038Z"
   },
   {
    "duration": 17,
    "start_time": "2022-08-04T12:16:53.526Z"
   },
   {
    "duration": 432,
    "start_time": "2022-08-04T12:20:10.190Z"
   },
   {
    "duration": 431,
    "start_time": "2022-08-04T12:20:17.640Z"
   },
   {
    "duration": 154,
    "start_time": "2022-08-04T12:22:12.123Z"
   },
   {
    "duration": 143,
    "start_time": "2022-08-04T12:25:34.816Z"
   },
   {
    "duration": 138,
    "start_time": "2022-08-04T12:25:48.630Z"
   },
   {
    "duration": 135,
    "start_time": "2022-08-04T12:26:45.023Z"
   },
   {
    "duration": 260,
    "start_time": "2022-08-04T12:28:22.201Z"
   },
   {
    "duration": 176,
    "start_time": "2022-08-04T12:28:42.937Z"
   },
   {
    "duration": 137,
    "start_time": "2022-08-04T12:28:51.489Z"
   },
   {
    "duration": 133,
    "start_time": "2022-08-04T12:28:52.652Z"
   },
   {
    "duration": 21,
    "start_time": "2022-08-04T12:36:27.392Z"
   },
   {
    "duration": 66,
    "start_time": "2022-08-04T12:37:01.197Z"
   },
   {
    "duration": 15,
    "start_time": "2022-08-04T12:37:18.231Z"
   },
   {
    "duration": 184,
    "start_time": "2022-08-04T12:38:30.009Z"
   },
   {
    "duration": 284,
    "start_time": "2022-08-04T12:39:00.837Z"
   },
   {
    "duration": 1000,
    "start_time": "2022-08-04T12:40:48.631Z"
   },
   {
    "duration": 949,
    "start_time": "2022-08-04T12:41:13.350Z"
   },
   {
    "duration": 919,
    "start_time": "2022-08-04T12:50:27.261Z"
   },
   {
    "duration": 6,
    "start_time": "2022-08-04T13:40:54.017Z"
   },
   {
    "duration": 12,
    "start_time": "2022-08-04T13:41:01.670Z"
   },
   {
    "duration": 22,
    "start_time": "2022-08-04T13:42:40.938Z"
   },
   {
    "duration": 178,
    "start_time": "2022-08-04T13:44:41.456Z"
   },
   {
    "duration": 22,
    "start_time": "2022-08-04T13:44:56.775Z"
   },
   {
    "duration": 17,
    "start_time": "2022-08-04T14:10:35.066Z"
   },
   {
    "duration": 17,
    "start_time": "2022-08-04T14:17:05.486Z"
   },
   {
    "duration": 679,
    "start_time": "2022-08-04T14:21:41.047Z"
   },
   {
    "duration": 44,
    "start_time": "2022-08-04T14:22:14.511Z"
   },
   {
    "duration": 17,
    "start_time": "2022-08-04T14:22:24.522Z"
   },
   {
    "duration": 13,
    "start_time": "2022-08-04T14:47:58.146Z"
   },
   {
    "duration": 13,
    "start_time": "2022-08-04T14:48:28.511Z"
   },
   {
    "duration": 16,
    "start_time": "2022-08-04T14:48:36.543Z"
   },
   {
    "duration": 13,
    "start_time": "2022-08-04T14:48:39.730Z"
   },
   {
    "duration": 14,
    "start_time": "2022-08-04T14:49:30.823Z"
   },
   {
    "duration": 13,
    "start_time": "2022-08-04T14:49:34.288Z"
   },
   {
    "duration": 13,
    "start_time": "2022-08-04T14:55:05.937Z"
   },
   {
    "duration": 15,
    "start_time": "2022-08-04T14:55:09.032Z"
   },
   {
    "duration": 14,
    "start_time": "2022-08-04T14:55:11.362Z"
   },
   {
    "duration": 15,
    "start_time": "2022-08-04T14:55:14.044Z"
   },
   {
    "duration": 15,
    "start_time": "2022-08-04T14:55:15.337Z"
   },
   {
    "duration": 15,
    "start_time": "2022-08-04T14:55:17.426Z"
   },
   {
    "duration": 16,
    "start_time": "2022-08-04T14:56:19.244Z"
   },
   {
    "duration": 284,
    "start_time": "2022-08-04T14:56:36.761Z"
   },
   {
    "duration": 277,
    "start_time": "2022-08-04T14:57:20.524Z"
   },
   {
    "duration": 279,
    "start_time": "2022-08-04T14:59:03.491Z"
   },
   {
    "duration": 817,
    "start_time": "2022-08-04T14:59:20.278Z"
   },
   {
    "duration": 288,
    "start_time": "2022-08-04T14:59:31.068Z"
   },
   {
    "duration": 822,
    "start_time": "2022-08-04T14:59:49.237Z"
   },
   {
    "duration": 281,
    "start_time": "2022-08-04T14:59:58.358Z"
   },
   {
    "duration": 341,
    "start_time": "2022-08-04T15:00:14.861Z"
   },
   {
    "duration": 330,
    "start_time": "2022-08-04T15:03:39.485Z"
   },
   {
    "duration": 579,
    "start_time": "2022-08-04T15:05:43.882Z"
   },
   {
    "duration": 342,
    "start_time": "2022-08-04T15:05:56.415Z"
   },
   {
    "duration": 316,
    "start_time": "2022-08-04T15:06:46.584Z"
   },
   {
    "duration": 342,
    "start_time": "2022-08-04T15:07:43.545Z"
   },
   {
    "duration": 337,
    "start_time": "2022-08-04T15:07:57.140Z"
   },
   {
    "duration": 374,
    "start_time": "2022-08-04T15:08:05.183Z"
   },
   {
    "duration": 357,
    "start_time": "2022-08-04T15:08:14.216Z"
   },
   {
    "duration": 330,
    "start_time": "2022-08-04T16:02:00.366Z"
   },
   {
    "duration": 370,
    "start_time": "2022-08-04T16:02:25.544Z"
   },
   {
    "duration": 314,
    "start_time": "2022-08-04T16:02:48.088Z"
   },
   {
    "duration": 360,
    "start_time": "2022-08-04T16:03:02.935Z"
   },
   {
    "duration": 15,
    "start_time": "2022-08-04T16:03:55.777Z"
   },
   {
    "duration": 189,
    "start_time": "2022-08-04T16:04:21.626Z"
   },
   {
    "duration": 178,
    "start_time": "2022-08-04T16:04:26.042Z"
   },
   {
    "duration": 176,
    "start_time": "2022-08-04T16:04:52.732Z"
   },
   {
    "duration": 172,
    "start_time": "2022-08-04T16:05:05.761Z"
   },
   {
    "duration": 342,
    "start_time": "2022-08-04T18:03:57.033Z"
   },
   {
    "duration": 161,
    "start_time": "2022-08-04T18:12:37.328Z"
   },
   {
    "duration": 3,
    "start_time": "2022-08-04T19:17:13.555Z"
   },
   {
    "duration": 4,
    "start_time": "2022-08-04T19:20:20.122Z"
   },
   {
    "duration": 4,
    "start_time": "2022-08-04T19:20:36.914Z"
   },
   {
    "duration": 8,
    "start_time": "2022-08-04T19:21:32.385Z"
   },
   {
    "duration": 3,
    "start_time": "2022-08-04T19:21:44.542Z"
   },
   {
    "duration": 3,
    "start_time": "2022-08-04T19:21:56.286Z"
   },
   {
    "duration": 4,
    "start_time": "2022-08-04T19:22:11.962Z"
   },
   {
    "duration": 3,
    "start_time": "2022-08-04T19:22:35.713Z"
   },
   {
    "duration": 2,
    "start_time": "2022-08-04T19:22:36.724Z"
   },
   {
    "duration": 4,
    "start_time": "2022-08-04T19:22:37.451Z"
   },
   {
    "duration": 8,
    "start_time": "2022-08-04T19:22:58.228Z"
   },
   {
    "duration": 10,
    "start_time": "2022-08-04T19:23:05.339Z"
   },
   {
    "duration": 3,
    "start_time": "2022-08-04T19:23:16.490Z"
   },
   {
    "duration": 4,
    "start_time": "2022-08-04T19:25:14.245Z"
   },
   {
    "duration": 4,
    "start_time": "2022-08-04T19:25:15.342Z"
   },
   {
    "duration": 2,
    "start_time": "2022-08-04T19:25:16.220Z"
   },
   {
    "duration": 3,
    "start_time": "2022-08-04T19:25:17.001Z"
   },
   {
    "duration": 3,
    "start_time": "2022-08-04T19:25:17.718Z"
   },
   {
    "duration": 5,
    "start_time": "2022-08-04T19:26:02.543Z"
   },
   {
    "duration": 4,
    "start_time": "2022-08-04T19:26:03.842Z"
   },
   {
    "duration": 3,
    "start_time": "2022-08-04T19:26:04.542Z"
   },
   {
    "duration": 2,
    "start_time": "2022-08-04T19:26:05.214Z"
   },
   {
    "duration": 4,
    "start_time": "2022-08-04T19:26:05.856Z"
   },
   {
    "duration": 4,
    "start_time": "2022-08-04T19:27:00.744Z"
   },
   {
    "duration": 3,
    "start_time": "2022-08-04T19:27:01.822Z"
   },
   {
    "duration": 3,
    "start_time": "2022-08-04T19:27:02.387Z"
   },
   {
    "duration": 6,
    "start_time": "2022-08-04T19:28:12.156Z"
   },
   {
    "duration": 5,
    "start_time": "2022-08-04T19:28:12.776Z"
   },
   {
    "duration": 3,
    "start_time": "2022-08-04T19:28:13.327Z"
   },
   {
    "duration": 2,
    "start_time": "2022-08-04T19:28:13.835Z"
   },
   {
    "duration": 4,
    "start_time": "2022-08-04T19:28:14.319Z"
   },
   {
    "duration": 4,
    "start_time": "2022-08-04T19:28:41.313Z"
   },
   {
    "duration": 3,
    "start_time": "2022-08-04T19:28:41.871Z"
   },
   {
    "duration": 4,
    "start_time": "2022-08-04T19:28:42.401Z"
   },
   {
    "duration": 8,
    "start_time": "2022-08-04T19:34:49.225Z"
   },
   {
    "duration": 3,
    "start_time": "2022-08-04T19:34:52.715Z"
   },
   {
    "duration": 4,
    "start_time": "2022-08-04T19:34:53.766Z"
   },
   {
    "duration": 3,
    "start_time": "2022-08-04T19:35:03.633Z"
   },
   {
    "duration": 8,
    "start_time": "2022-08-04T19:35:17.699Z"
   },
   {
    "duration": 3,
    "start_time": "2022-08-04T19:35:20.465Z"
   },
   {
    "duration": 4,
    "start_time": "2022-08-04T19:35:21.442Z"
   },
   {
    "duration": 3,
    "start_time": "2022-08-04T19:37:05.364Z"
   },
   {
    "duration": 8,
    "start_time": "2022-08-04T19:37:14.911Z"
   },
   {
    "duration": 5,
    "start_time": "2022-08-04T19:37:25.536Z"
   },
   {
    "duration": 5,
    "start_time": "2022-08-04T19:37:25.983Z"
   },
   {
    "duration": 4,
    "start_time": "2022-08-04T19:37:26.469Z"
   },
   {
    "duration": 3,
    "start_time": "2022-08-04T19:37:26.993Z"
   },
   {
    "duration": 4,
    "start_time": "2022-08-04T19:37:27.470Z"
   },
   {
    "duration": 8,
    "start_time": "2022-08-04T19:37:28.096Z"
   },
   {
    "duration": 3,
    "start_time": "2022-08-04T19:37:36.735Z"
   },
   {
    "duration": 3,
    "start_time": "2022-08-05T06:41:55.352Z"
   },
   {
    "duration": 4,
    "start_time": "2022-08-05T06:49:02.938Z"
   },
   {
    "duration": 4,
    "start_time": "2022-08-05T06:49:04.016Z"
   },
   {
    "duration": 4,
    "start_time": "2022-08-05T06:49:28.192Z"
   },
   {
    "duration": 3,
    "start_time": "2022-08-05T06:49:29.205Z"
   },
   {
    "duration": 169,
    "start_time": "2022-08-05T07:13:33.681Z"
   },
   {
    "duration": 159,
    "start_time": "2022-08-05T07:13:38.679Z"
   },
   {
    "duration": 182,
    "start_time": "2022-08-05T07:14:25.740Z"
   },
   {
    "duration": 7,
    "start_time": "2022-08-05T07:17:44.181Z"
   },
   {
    "duration": 2,
    "start_time": "2022-08-05T07:33:47.827Z"
   },
   {
    "duration": 27,
    "start_time": "2022-08-05T07:35:06.094Z"
   },
   {
    "duration": 25,
    "start_time": "2022-08-05T07:35:36.074Z"
   },
   {
    "duration": 27,
    "start_time": "2022-08-05T07:36:22.347Z"
   },
   {
    "duration": 2,
    "start_time": "2022-08-05T07:42:01.155Z"
   },
   {
    "duration": 2,
    "start_time": "2022-08-05T07:44:03.175Z"
   },
   {
    "duration": 9,
    "start_time": "2022-08-05T07:45:06.676Z"
   },
   {
    "duration": 3,
    "start_time": "2022-08-05T07:45:12.685Z"
   },
   {
    "duration": 9600,
    "start_time": "2022-08-05T07:45:14.014Z"
   },
   {
    "duration": 6,
    "start_time": "2022-08-05T07:46:36.640Z"
   },
   {
    "duration": 1918,
    "start_time": "2022-08-05T07:46:38.540Z"
   },
   {
    "duration": 2032,
    "start_time": "2022-08-05T07:47:23.189Z"
   },
   {
    "duration": 1205,
    "start_time": "2022-08-05T07:47:47.015Z"
   },
   {
    "duration": 1214,
    "start_time": "2022-08-05T07:47:55.552Z"
   },
   {
    "duration": 1926,
    "start_time": "2022-08-05T07:48:01.671Z"
   },
   {
    "duration": 11,
    "start_time": "2022-08-05T07:50:19.382Z"
   },
   {
    "duration": 15,
    "start_time": "2022-08-05T07:50:38.576Z"
   },
   {
    "duration": 11,
    "start_time": "2022-08-05T07:51:02.656Z"
   },
   {
    "duration": 867,
    "start_time": "2022-08-05T07:51:25.185Z"
   },
   {
    "duration": 3,
    "start_time": "2022-08-05T07:51:50.754Z"
   },
   {
    "duration": 508,
    "start_time": "2022-08-05T07:52:07.706Z"
   },
   {
    "duration": 492,
    "start_time": "2022-08-05T07:52:25.296Z"
   },
   {
    "duration": 467,
    "start_time": "2022-08-05T07:52:44.968Z"
   },
   {
    "duration": 448,
    "start_time": "2022-08-05T07:52:50.244Z"
   },
   {
    "duration": 457,
    "start_time": "2022-08-05T07:53:09.888Z"
   },
   {
    "duration": 15,
    "start_time": "2022-08-05T07:54:41.682Z"
   },
   {
    "duration": 457,
    "start_time": "2022-08-05T07:54:42.482Z"
   },
   {
    "duration": 6,
    "start_time": "2022-08-05T08:05:16.125Z"
   },
   {
    "duration": 398,
    "start_time": "2022-08-05T08:09:04.922Z"
   },
   {
    "duration": 467,
    "start_time": "2022-08-05T08:09:51.848Z"
   },
   {
    "duration": 172,
    "start_time": "2022-08-05T08:16:09.599Z"
   },
   {
    "duration": 173,
    "start_time": "2022-08-05T08:16:20.483Z"
   },
   {
    "duration": 247,
    "start_time": "2022-08-05T08:23:16.312Z"
   },
   {
    "duration": 134,
    "start_time": "2022-08-05T08:28:10.056Z"
   },
   {
    "duration": 246,
    "start_time": "2022-08-05T08:28:59.939Z"
   },
   {
    "duration": 403,
    "start_time": "2022-08-05T08:29:43.684Z"
   },
   {
    "duration": 259,
    "start_time": "2022-08-05T08:30:22.003Z"
   },
   {
    "duration": 3,
    "start_time": "2022-08-05T10:38:26.318Z"
   },
   {
    "duration": 144,
    "start_time": "2022-08-05T10:38:47.951Z"
   },
   {
    "duration": 3,
    "start_time": "2022-08-05T10:39:00.975Z"
   },
   {
    "duration": 184,
    "start_time": "2022-08-05T10:39:01.784Z"
   },
   {
    "duration": 132,
    "start_time": "2022-08-05T10:39:47.718Z"
   },
   {
    "duration": 123,
    "start_time": "2022-08-05T10:39:54.693Z"
   },
   {
    "duration": 150,
    "start_time": "2022-08-05T10:42:57.494Z"
   },
   {
    "duration": 152,
    "start_time": "2022-08-05T10:43:15.704Z"
   },
   {
    "duration": 47,
    "start_time": "2022-08-05T10:43:45.350Z"
   },
   {
    "duration": 30,
    "start_time": "2022-08-05T10:44:48.747Z"
   },
   {
    "duration": 31,
    "start_time": "2022-08-05T10:45:02.459Z"
   },
   {
    "duration": 596,
    "start_time": "2022-08-05T10:45:28.512Z"
   },
   {
    "duration": 134,
    "start_time": "2022-08-05T10:45:31.069Z"
   },
   {
    "duration": 143,
    "start_time": "2022-08-05T10:47:11.775Z"
   },
   {
    "duration": 124,
    "start_time": "2022-08-05T10:47:13.673Z"
   },
   {
    "duration": 11,
    "start_time": "2022-08-05T10:57:24.722Z"
   },
   {
    "duration": 13,
    "start_time": "2022-08-05T10:57:36.053Z"
   },
   {
    "duration": 140,
    "start_time": "2022-08-05T11:00:23.687Z"
   },
   {
    "duration": 6,
    "start_time": "2022-08-05T11:01:14.445Z"
   },
   {
    "duration": 10,
    "start_time": "2022-08-05T11:01:15.861Z"
   },
   {
    "duration": 139,
    "start_time": "2022-08-05T11:04:29.897Z"
   },
   {
    "duration": 177,
    "start_time": "2022-08-05T11:04:35.372Z"
   },
   {
    "duration": 140,
    "start_time": "2022-08-05T11:15:02.127Z"
   },
   {
    "duration": 200,
    "start_time": "2022-08-05T11:17:21.805Z"
   },
   {
    "duration": 182,
    "start_time": "2022-08-05T11:17:27.778Z"
   },
   {
    "duration": 195,
    "start_time": "2022-08-05T11:17:43.186Z"
   },
   {
    "duration": 179,
    "start_time": "2022-08-05T11:17:54.580Z"
   },
   {
    "duration": 184,
    "start_time": "2022-08-05T11:18:00.115Z"
   },
   {
    "duration": 171,
    "start_time": "2022-08-05T11:18:08.437Z"
   },
   {
    "duration": 186,
    "start_time": "2022-08-05T11:18:11.979Z"
   },
   {
    "duration": 383,
    "start_time": "2022-08-05T11:20:34.615Z"
   },
   {
    "duration": 358,
    "start_time": "2022-08-05T11:20:59.576Z"
   },
   {
    "duration": 237,
    "start_time": "2022-08-05T11:21:39.372Z"
   },
   {
    "duration": 234,
    "start_time": "2022-08-05T11:21:45.821Z"
   },
   {
    "duration": 125,
    "start_time": "2022-08-05T11:22:30.774Z"
   },
   {
    "duration": 200,
    "start_time": "2022-08-05T11:22:37.994Z"
   },
   {
    "duration": 124,
    "start_time": "2022-08-05T11:23:49.758Z"
   },
   {
    "duration": 189,
    "start_time": "2022-08-05T11:24:03.976Z"
   },
   {
    "duration": 217,
    "start_time": "2022-08-05T11:24:48.025Z"
   },
   {
    "duration": 212,
    "start_time": "2022-08-05T11:25:00.882Z"
   },
   {
    "duration": 174,
    "start_time": "2022-08-05T11:25:21.903Z"
   },
   {
    "duration": 218,
    "start_time": "2022-08-05T11:25:27.161Z"
   },
   {
    "duration": 2,
    "start_time": "2022-08-05T11:28:58.740Z"
   },
   {
    "duration": 195,
    "start_time": "2022-08-05T11:29:16.186Z"
   },
   {
    "duration": 182,
    "start_time": "2022-08-05T11:29:34.948Z"
   },
   {
    "duration": 185,
    "start_time": "2022-08-05T11:29:42.346Z"
   },
   {
    "duration": 241,
    "start_time": "2022-08-05T11:30:01.402Z"
   },
   {
    "duration": 13,
    "start_time": "2022-08-05T11:30:26.548Z"
   },
   {
    "duration": 1133,
    "start_time": "2022-08-05T11:31:10.265Z"
   },
   {
    "duration": 51,
    "start_time": "2022-08-05T11:31:11.400Z"
   },
   {
    "duration": 18,
    "start_time": "2022-08-05T11:31:11.453Z"
   },
   {
    "duration": 13,
    "start_time": "2022-08-05T11:31:11.473Z"
   },
   {
    "duration": 5,
    "start_time": "2022-08-05T11:31:11.487Z"
   },
   {
    "duration": 12,
    "start_time": "2022-08-05T11:31:11.493Z"
   },
   {
    "duration": 11,
    "start_time": "2022-08-05T11:31:11.506Z"
   },
   {
    "duration": 6,
    "start_time": "2022-08-05T11:31:11.520Z"
   },
   {
    "duration": 31,
    "start_time": "2022-08-05T11:31:11.528Z"
   },
   {
    "duration": 5,
    "start_time": "2022-08-05T11:31:11.563Z"
   },
   {
    "duration": 7,
    "start_time": "2022-08-05T11:31:11.570Z"
   },
   {
    "duration": 9,
    "start_time": "2022-08-05T11:31:11.579Z"
   },
   {
    "duration": 16,
    "start_time": "2022-08-05T11:31:11.590Z"
   },
   {
    "duration": 4,
    "start_time": "2022-08-05T11:31:11.608Z"
   },
   {
    "duration": 13,
    "start_time": "2022-08-05T11:31:11.614Z"
   },
   {
    "duration": 32,
    "start_time": "2022-08-05T11:31:11.629Z"
   },
   {
    "duration": 8,
    "start_time": "2022-08-05T11:31:11.662Z"
   },
   {
    "duration": 275,
    "start_time": "2022-08-05T11:31:11.672Z"
   },
   {
    "duration": 19,
    "start_time": "2022-08-05T11:31:11.956Z"
   },
   {
    "duration": 3,
    "start_time": "2022-08-05T11:31:11.977Z"
   },
   {
    "duration": 523,
    "start_time": "2022-08-05T11:31:11.981Z"
   },
   {
    "duration": 7,
    "start_time": "2022-08-05T11:31:12.505Z"
   },
   {
    "duration": 427,
    "start_time": "2022-08-05T11:31:12.514Z"
   },
   {
    "duration": 151,
    "start_time": "2022-08-05T11:31:12.942Z"
   },
   {
    "duration": 169,
    "start_time": "2022-08-05T11:31:13.095Z"
   },
   {
    "duration": 13,
    "start_time": "2022-08-05T11:31:13.266Z"
   },
   {
    "duration": 158,
    "start_time": "2022-08-05T11:31:13.281Z"
   },
   {
    "duration": 16,
    "start_time": "2022-08-05T11:31:13.442Z"
   },
   {
    "duration": 208,
    "start_time": "2022-08-05T11:31:13.460Z"
   },
   {
    "duration": 6,
    "start_time": "2022-08-05T11:31:13.669Z"
   },
   {
    "duration": 138,
    "start_time": "2022-08-05T11:31:13.676Z"
   },
   {
    "duration": 5,
    "start_time": "2022-08-05T11:31:13.816Z"
   },
   {
    "duration": 189,
    "start_time": "2022-08-05T11:31:13.822Z"
   },
   {
    "duration": 206,
    "start_time": "2022-08-05T11:31:14.012Z"
   },
   {
    "duration": 364,
    "start_time": "2022-08-05T11:31:14.219Z"
   },
   {
    "duration": 380,
    "start_time": "2022-08-05T11:31:14.584Z"
   },
   {
    "duration": 242,
    "start_time": "2022-08-05T11:31:14.965Z"
   },
   {
    "duration": 434,
    "start_time": "2022-08-05T11:31:15.209Z"
   },
   {
    "duration": 392,
    "start_time": "2022-08-05T11:31:15.645Z"
   },
   {
    "duration": 198,
    "start_time": "2022-08-05T11:31:16.039Z"
   },
   {
    "duration": 343,
    "start_time": "2022-08-05T11:31:16.239Z"
   },
   {
    "duration": 428,
    "start_time": "2022-08-05T11:31:16.583Z"
   },
   {
    "duration": 185,
    "start_time": "2022-08-05T11:31:17.013Z"
   },
   {
    "duration": 3,
    "start_time": "2022-08-05T11:31:17.200Z"
   },
   {
    "duration": 14,
    "start_time": "2022-08-05T11:31:17.205Z"
   },
   {
    "duration": 11,
    "start_time": "2022-08-05T11:31:17.221Z"
   },
   {
    "duration": 11,
    "start_time": "2022-08-05T11:31:17.234Z"
   },
   {
    "duration": 8,
    "start_time": "2022-08-05T11:31:17.247Z"
   },
   {
    "duration": 20,
    "start_time": "2022-08-05T11:31:17.257Z"
   },
   {
    "duration": 16,
    "start_time": "2022-08-05T11:31:17.279Z"
   },
   {
    "duration": 7,
    "start_time": "2022-08-05T11:31:17.297Z"
   },
   {
    "duration": 16,
    "start_time": "2022-08-05T11:31:17.305Z"
   },
   {
    "duration": 22,
    "start_time": "2022-08-05T11:31:17.323Z"
   },
   {
    "duration": 7,
    "start_time": "2022-08-05T11:31:17.347Z"
   },
   {
    "duration": 8,
    "start_time": "2022-08-05T11:31:17.355Z"
   },
   {
    "duration": 10,
    "start_time": "2022-08-05T11:31:17.364Z"
   },
   {
    "duration": 16,
    "start_time": "2022-08-05T11:31:17.375Z"
   },
   {
    "duration": 8,
    "start_time": "2022-08-05T11:31:17.393Z"
   },
   {
    "duration": 1030,
    "start_time": "2022-08-05T11:32:33.273Z"
   },
   {
    "duration": 50,
    "start_time": "2022-08-05T11:32:34.305Z"
   },
   {
    "duration": 19,
    "start_time": "2022-08-05T11:32:34.357Z"
   },
   {
    "duration": 16,
    "start_time": "2022-08-05T11:32:34.378Z"
   },
   {
    "duration": 6,
    "start_time": "2022-08-05T11:32:34.396Z"
   },
   {
    "duration": 18,
    "start_time": "2022-08-05T11:32:34.404Z"
   },
   {
    "duration": 33,
    "start_time": "2022-08-05T11:32:34.424Z"
   },
   {
    "duration": 4,
    "start_time": "2022-08-05T11:32:34.459Z"
   },
   {
    "duration": 7,
    "start_time": "2022-08-05T11:32:34.465Z"
   },
   {
    "duration": 8,
    "start_time": "2022-08-05T11:32:34.474Z"
   },
   {
    "duration": 6,
    "start_time": "2022-08-05T11:32:34.484Z"
   },
   {
    "duration": 9,
    "start_time": "2022-08-05T11:32:34.491Z"
   },
   {
    "duration": 18,
    "start_time": "2022-08-05T11:32:34.501Z"
   },
   {
    "duration": 5,
    "start_time": "2022-08-05T11:32:34.520Z"
   },
   {
    "duration": 8,
    "start_time": "2022-08-05T11:32:34.526Z"
   },
   {
    "duration": 26,
    "start_time": "2022-08-05T11:32:34.535Z"
   },
   {
    "duration": 8,
    "start_time": "2022-08-05T11:32:34.563Z"
   },
   {
    "duration": 244,
    "start_time": "2022-08-05T11:32:34.573Z"
   },
   {
    "duration": 16,
    "start_time": "2022-08-05T11:32:34.819Z"
   },
   {
    "duration": 2,
    "start_time": "2022-08-05T11:32:34.836Z"
   },
   {
    "duration": 553,
    "start_time": "2022-08-05T11:32:34.840Z"
   },
   {
    "duration": 9,
    "start_time": "2022-08-05T11:32:35.395Z"
   },
   {
    "duration": 427,
    "start_time": "2022-08-05T11:32:35.406Z"
   },
   {
    "duration": 142,
    "start_time": "2022-08-05T11:32:35.834Z"
   },
   {
    "duration": 160,
    "start_time": "2022-08-05T11:32:35.978Z"
   },
   {
    "duration": 19,
    "start_time": "2022-08-05T11:32:36.139Z"
   },
   {
    "duration": 152,
    "start_time": "2022-08-05T11:32:36.160Z"
   },
   {
    "duration": 13,
    "start_time": "2022-08-05T11:32:36.316Z"
   },
   {
    "duration": 216,
    "start_time": "2022-08-05T11:32:36.331Z"
   },
   {
    "duration": 4,
    "start_time": "2022-08-05T11:32:36.548Z"
   },
   {
    "duration": 122,
    "start_time": "2022-08-05T11:32:36.558Z"
   },
   {
    "duration": 5,
    "start_time": "2022-08-05T11:32:36.681Z"
   },
   {
    "duration": 194,
    "start_time": "2022-08-05T11:32:36.688Z"
   },
   {
    "duration": 202,
    "start_time": "2022-08-05T11:32:36.884Z"
   },
   {
    "duration": 372,
    "start_time": "2022-08-05T11:32:37.088Z"
   },
   {
    "duration": 374,
    "start_time": "2022-08-05T11:32:37.462Z"
   },
   {
    "duration": 207,
    "start_time": "2022-08-05T11:32:37.838Z"
   },
   {
    "duration": 349,
    "start_time": "2022-08-05T11:32:38.047Z"
   },
   {
    "duration": 362,
    "start_time": "2022-08-05T11:32:38.398Z"
   },
   {
    "duration": 199,
    "start_time": "2022-08-05T11:32:38.761Z"
   },
   {
    "duration": 350,
    "start_time": "2022-08-05T11:32:38.962Z"
   },
   {
    "duration": 438,
    "start_time": "2022-08-05T11:32:39.314Z"
   },
   {
    "duration": 171,
    "start_time": "2022-08-05T11:32:39.754Z"
   },
   {
    "duration": 3,
    "start_time": "2022-08-05T11:32:39.926Z"
   },
   {
    "duration": 8,
    "start_time": "2022-08-05T11:32:39.930Z"
   },
   {
    "duration": 18,
    "start_time": "2022-08-05T11:32:39.939Z"
   },
   {
    "duration": 6,
    "start_time": "2022-08-05T11:32:39.959Z"
   },
   {
    "duration": 6,
    "start_time": "2022-08-05T11:32:39.967Z"
   },
   {
    "duration": 6,
    "start_time": "2022-08-05T11:32:39.975Z"
   },
   {
    "duration": 7,
    "start_time": "2022-08-05T11:32:39.983Z"
   },
   {
    "duration": 21,
    "start_time": "2022-08-05T11:32:39.991Z"
   },
   {
    "duration": 14,
    "start_time": "2022-08-05T11:32:40.014Z"
   },
   {
    "duration": 11,
    "start_time": "2022-08-05T11:32:40.030Z"
   },
   {
    "duration": 29,
    "start_time": "2022-08-05T11:32:40.043Z"
   },
   {
    "duration": 14,
    "start_time": "2022-08-05T11:32:40.073Z"
   },
   {
    "duration": 19,
    "start_time": "2022-08-05T11:32:40.088Z"
   },
   {
    "duration": 7,
    "start_time": "2022-08-05T11:32:40.108Z"
   },
   {
    "duration": 8,
    "start_time": "2022-08-05T11:32:40.116Z"
   },
   {
    "duration": 203,
    "start_time": "2022-08-05T11:45:11.680Z"
   },
   {
    "duration": 198,
    "start_time": "2022-08-05T11:45:18.296Z"
   },
   {
    "duration": 137,
    "start_time": "2022-08-05T11:55:18.657Z"
   },
   {
    "duration": 140,
    "start_time": "2022-08-05T11:55:36.409Z"
   },
   {
    "duration": 148,
    "start_time": "2022-08-05T11:56:58.745Z"
   },
   {
    "duration": 205,
    "start_time": "2022-08-05T11:58:46.410Z"
   },
   {
    "duration": 124,
    "start_time": "2022-08-05T11:58:56.555Z"
   },
   {
    "duration": 146,
    "start_time": "2022-08-05T11:59:15.780Z"
   },
   {
    "duration": 129,
    "start_time": "2022-08-05T12:02:20.902Z"
   },
   {
    "duration": 216,
    "start_time": "2022-08-05T12:02:25.908Z"
   },
   {
    "duration": 134,
    "start_time": "2022-08-05T12:03:06.715Z"
   },
   {
    "duration": 127,
    "start_time": "2022-08-05T12:03:20.769Z"
   },
   {
    "duration": 131,
    "start_time": "2022-08-05T12:03:29.732Z"
   },
   {
    "duration": 165,
    "start_time": "2022-08-05T12:05:05.237Z"
   },
   {
    "duration": 8,
    "start_time": "2022-08-05T12:07:27.995Z"
   },
   {
    "duration": 8,
    "start_time": "2022-08-05T12:13:04.231Z"
   },
   {
    "duration": 10,
    "start_time": "2022-08-05T12:13:21.239Z"
   },
   {
    "duration": 10,
    "start_time": "2022-08-05T12:13:42.353Z"
   },
   {
    "duration": 119,
    "start_time": "2022-08-05T12:16:17.914Z"
   },
   {
    "duration": 9,
    "start_time": "2022-08-05T12:16:26.226Z"
   },
   {
    "duration": 91,
    "start_time": "2022-08-05T12:46:44.030Z"
   },
   {
    "duration": 60,
    "start_time": "2022-08-05T12:46:48.585Z"
   },
   {
    "duration": 11,
    "start_time": "2022-08-05T12:47:00.169Z"
   },
   {
    "duration": 9,
    "start_time": "2022-08-05T12:47:21.042Z"
   },
   {
    "duration": 470,
    "start_time": "2022-08-05T12:47:26.337Z"
   },
   {
    "duration": 290,
    "start_time": "2022-08-05T12:47:36.844Z"
   },
   {
    "duration": 57,
    "start_time": "2022-08-05T12:48:39.216Z"
   },
   {
    "duration": 303,
    "start_time": "2022-08-05T12:48:52.057Z"
   },
   {
    "duration": 299,
    "start_time": "2022-08-05T12:49:38.378Z"
   },
   {
    "duration": 300,
    "start_time": "2022-08-05T12:49:48.211Z"
   },
   {
    "duration": 316,
    "start_time": "2022-08-05T12:50:17.284Z"
   },
   {
    "duration": 322,
    "start_time": "2022-08-05T12:50:36.389Z"
   },
   {
    "duration": 214,
    "start_time": "2022-08-05T13:20:53.314Z"
   },
   {
    "duration": 126,
    "start_time": "2022-08-05T13:21:04.426Z"
   },
   {
    "duration": 316,
    "start_time": "2022-08-05T13:21:42.300Z"
   },
   {
    "duration": 301,
    "start_time": "2022-08-05T13:21:52.611Z"
   },
   {
    "duration": 142,
    "start_time": "2022-08-05T13:25:23.636Z"
   },
   {
    "duration": 144,
    "start_time": "2022-08-05T13:25:31.843Z"
   },
   {
    "duration": 1045,
    "start_time": "2022-08-05T14:03:36.084Z"
   },
   {
    "duration": 50,
    "start_time": "2022-08-05T14:03:37.130Z"
   },
   {
    "duration": 18,
    "start_time": "2022-08-05T14:03:37.182Z"
   },
   {
    "duration": 16,
    "start_time": "2022-08-05T14:03:37.202Z"
   },
   {
    "duration": 10,
    "start_time": "2022-08-05T14:03:37.220Z"
   },
   {
    "duration": 27,
    "start_time": "2022-08-05T14:03:37.232Z"
   },
   {
    "duration": 28,
    "start_time": "2022-08-05T14:03:37.260Z"
   },
   {
    "duration": 23,
    "start_time": "2022-08-05T14:03:37.289Z"
   },
   {
    "duration": 18,
    "start_time": "2022-08-05T14:03:37.313Z"
   },
   {
    "duration": 35,
    "start_time": "2022-08-05T14:03:37.334Z"
   },
   {
    "duration": 33,
    "start_time": "2022-08-05T14:03:37.370Z"
   },
   {
    "duration": 21,
    "start_time": "2022-08-05T14:03:37.404Z"
   },
   {
    "duration": 22,
    "start_time": "2022-08-05T14:03:37.426Z"
   },
   {
    "duration": 18,
    "start_time": "2022-08-05T14:03:37.449Z"
   },
   {
    "duration": 19,
    "start_time": "2022-08-05T14:03:37.468Z"
   },
   {
    "duration": 20,
    "start_time": "2022-08-05T14:03:37.488Z"
   },
   {
    "duration": 29,
    "start_time": "2022-08-05T14:03:37.509Z"
   },
   {
    "duration": 258,
    "start_time": "2022-08-05T14:03:37.540Z"
   },
   {
    "duration": 19,
    "start_time": "2022-08-05T14:03:37.800Z"
   },
   {
    "duration": 3,
    "start_time": "2022-08-05T14:03:37.821Z"
   },
   {
    "duration": 514,
    "start_time": "2022-08-05T14:03:37.826Z"
   },
   {
    "duration": 6,
    "start_time": "2022-08-05T14:03:38.342Z"
   },
   {
    "duration": 369,
    "start_time": "2022-08-05T14:03:38.357Z"
   },
   {
    "duration": 340,
    "start_time": "2022-08-05T14:03:38.727Z"
   },
   {
    "duration": 167,
    "start_time": "2022-08-05T14:03:39.069Z"
   },
   {
    "duration": 247,
    "start_time": "2022-08-05T14:03:39.238Z"
   },
   {
    "duration": 148,
    "start_time": "2022-08-05T14:03:39.487Z"
   },
   {
    "duration": 142,
    "start_time": "2022-08-05T14:03:39.639Z"
   },
   {
    "duration": 190,
    "start_time": "2022-08-05T14:03:39.783Z"
   },
   {
    "duration": 214,
    "start_time": "2022-08-05T14:03:39.974Z"
   },
   {
    "duration": 364,
    "start_time": "2022-08-05T14:03:40.190Z"
   },
   {
    "duration": 352,
    "start_time": "2022-08-05T14:03:40.556Z"
   },
   {
    "duration": 184,
    "start_time": "2022-08-05T14:03:40.909Z"
   },
   {
    "duration": 351,
    "start_time": "2022-08-05T14:03:41.095Z"
   },
   {
    "duration": 352,
    "start_time": "2022-08-05T14:03:41.448Z"
   },
   {
    "duration": 189,
    "start_time": "2022-08-05T14:03:41.802Z"
   },
   {
    "duration": 427,
    "start_time": "2022-08-05T14:03:41.993Z"
   },
   {
    "duration": 358,
    "start_time": "2022-08-05T14:03:42.422Z"
   },
   {
    "duration": 189,
    "start_time": "2022-08-05T14:03:42.782Z"
   },
   {
    "duration": 3,
    "start_time": "2022-08-05T14:03:42.972Z"
   },
   {
    "duration": 9,
    "start_time": "2022-08-05T14:03:42.977Z"
   },
   {
    "duration": 12,
    "start_time": "2022-08-05T14:03:42.987Z"
   },
   {
    "duration": 5,
    "start_time": "2022-08-05T14:03:43.001Z"
   },
   {
    "duration": 7,
    "start_time": "2022-08-05T14:03:43.008Z"
   },
   {
    "duration": 5,
    "start_time": "2022-08-05T14:03:43.016Z"
   },
   {
    "duration": 6,
    "start_time": "2022-08-05T14:03:43.023Z"
   },
   {
    "duration": 5,
    "start_time": "2022-08-05T14:03:43.031Z"
   },
   {
    "duration": 6,
    "start_time": "2022-08-05T14:03:43.058Z"
   },
   {
    "duration": 9,
    "start_time": "2022-08-05T14:03:43.065Z"
   },
   {
    "duration": 8,
    "start_time": "2022-08-05T14:03:43.076Z"
   },
   {
    "duration": 8,
    "start_time": "2022-08-05T14:03:43.085Z"
   },
   {
    "duration": 7,
    "start_time": "2022-08-05T14:03:43.095Z"
   },
   {
    "duration": 6,
    "start_time": "2022-08-05T14:03:43.104Z"
   },
   {
    "duration": 6,
    "start_time": "2022-08-05T14:03:43.112Z"
   },
   {
    "duration": 52,
    "start_time": "2022-08-06T11:01:26.710Z"
   },
   {
    "duration": 154,
    "start_time": "2022-08-06T11:07:00.604Z"
   },
   {
    "duration": 11,
    "start_time": "2022-08-06T11:13:54.598Z"
   },
   {
    "duration": 1394,
    "start_time": "2022-08-06T11:14:00.765Z"
   },
   {
    "duration": 62,
    "start_time": "2022-08-06T11:14:02.162Z"
   },
   {
    "duration": 32,
    "start_time": "2022-08-06T11:14:02.227Z"
   },
   {
    "duration": 32,
    "start_time": "2022-08-06T11:14:02.262Z"
   },
   {
    "duration": 8,
    "start_time": "2022-08-06T11:14:02.298Z"
   },
   {
    "duration": 27,
    "start_time": "2022-08-06T11:14:02.308Z"
   },
   {
    "duration": 128,
    "start_time": "2022-08-06T11:14:02.337Z"
   },
   {
    "duration": 23,
    "start_time": "2022-08-06T11:14:02.468Z"
   },
   {
    "duration": 20,
    "start_time": "2022-08-06T11:14:02.501Z"
   },
   {
    "duration": 12,
    "start_time": "2022-08-06T11:14:02.523Z"
   },
   {
    "duration": 9,
    "start_time": "2022-08-06T11:14:02.538Z"
   },
   {
    "duration": 8,
    "start_time": "2022-08-06T11:14:02.549Z"
   },
   {
    "duration": 8,
    "start_time": "2022-08-06T11:14:02.559Z"
   },
   {
    "duration": 47,
    "start_time": "2022-08-06T11:14:02.571Z"
   },
   {
    "duration": 9,
    "start_time": "2022-08-06T11:14:02.620Z"
   },
   {
    "duration": 11,
    "start_time": "2022-08-06T11:14:02.630Z"
   },
   {
    "duration": 8,
    "start_time": "2022-08-06T11:14:02.644Z"
   },
   {
    "duration": 30,
    "start_time": "2022-08-06T11:14:02.654Z"
   },
   {
    "duration": 290,
    "start_time": "2022-08-06T11:14:02.692Z"
   },
   {
    "duration": 26,
    "start_time": "2022-08-06T11:14:02.984Z"
   },
   {
    "duration": 3,
    "start_time": "2022-08-06T11:14:03.013Z"
   },
   {
    "duration": 668,
    "start_time": "2022-08-06T11:14:03.019Z"
   },
   {
    "duration": 14,
    "start_time": "2022-08-06T11:14:03.689Z"
   },
   {
    "duration": 489,
    "start_time": "2022-08-06T11:14:03.705Z"
   },
   {
    "duration": 356,
    "start_time": "2022-08-06T11:14:04.195Z"
   },
   {
    "duration": 288,
    "start_time": "2022-08-06T11:14:04.555Z"
   },
   {
    "duration": 259,
    "start_time": "2022-08-06T11:14:04.845Z"
   },
   {
    "duration": 169,
    "start_time": "2022-08-06T11:14:05.105Z"
   },
   {
    "duration": 171,
    "start_time": "2022-08-06T11:14:05.276Z"
   },
   {
    "duration": 227,
    "start_time": "2022-08-06T11:14:05.448Z"
   },
   {
    "duration": 257,
    "start_time": "2022-08-06T11:14:05.677Z"
   },
   {
    "duration": 392,
    "start_time": "2022-08-06T11:14:05.936Z"
   },
   {
    "duration": 416,
    "start_time": "2022-08-06T11:14:06.330Z"
   },
   {
    "duration": 248,
    "start_time": "2022-08-06T11:14:06.749Z"
   },
   {
    "duration": 414,
    "start_time": "2022-08-06T11:14:06.999Z"
   },
   {
    "duration": 448,
    "start_time": "2022-08-06T11:14:07.416Z"
   },
   {
    "duration": 354,
    "start_time": "2022-08-06T11:14:07.867Z"
   },
   {
    "duration": 449,
    "start_time": "2022-08-06T11:14:08.223Z"
   },
   {
    "duration": 519,
    "start_time": "2022-08-06T11:14:08.675Z"
   },
   {
    "duration": 230,
    "start_time": "2022-08-06T11:14:09.196Z"
   },
   {
    "duration": 3,
    "start_time": "2022-08-06T11:14:09.432Z"
   },
   {
    "duration": 14,
    "start_time": "2022-08-06T11:14:09.437Z"
   },
   {
    "duration": 12,
    "start_time": "2022-08-06T11:14:09.453Z"
   },
   {
    "duration": 26,
    "start_time": "2022-08-06T11:14:09.467Z"
   },
   {
    "duration": 5,
    "start_time": "2022-08-06T11:14:09.495Z"
   },
   {
    "duration": 8,
    "start_time": "2022-08-06T11:14:09.503Z"
   },
   {
    "duration": 9,
    "start_time": "2022-08-06T11:14:09.512Z"
   },
   {
    "duration": 7,
    "start_time": "2022-08-06T11:14:09.524Z"
   },
   {
    "duration": 13,
    "start_time": "2022-08-06T11:14:09.533Z"
   },
   {
    "duration": 10,
    "start_time": "2022-08-06T11:14:09.548Z"
   },
   {
    "duration": 35,
    "start_time": "2022-08-06T11:14:09.561Z"
   },
   {
    "duration": 5,
    "start_time": "2022-08-06T11:14:09.599Z"
   },
   {
    "duration": 6,
    "start_time": "2022-08-06T11:14:09.607Z"
   },
   {
    "duration": 7,
    "start_time": "2022-08-06T11:14:09.616Z"
   },
   {
    "duration": 8,
    "start_time": "2022-08-06T11:14:09.625Z"
   },
   {
    "duration": 395,
    "start_time": "2022-08-06T11:14:21.073Z"
   },
   {
    "duration": 353,
    "start_time": "2022-08-06T11:28:06.309Z"
   },
   {
    "duration": 358,
    "start_time": "2022-08-06T11:28:18.156Z"
   },
   {
    "duration": 505,
    "start_time": "2022-08-06T11:35:01.359Z"
   },
   {
    "duration": 353,
    "start_time": "2022-08-06T11:35:07.372Z"
   },
   {
    "duration": 42,
    "start_time": "2022-08-07T09:13:58.782Z"
   },
   {
    "duration": 1137,
    "start_time": "2022-08-07T09:14:08.000Z"
   },
   {
    "duration": 92,
    "start_time": "2022-08-07T09:14:10.018Z"
   },
   {
    "duration": 15,
    "start_time": "2022-08-07T09:14:11.253Z"
   },
   {
    "duration": 13,
    "start_time": "2022-08-07T09:14:13.192Z"
   },
   {
    "duration": 4,
    "start_time": "2022-08-07T09:14:29.093Z"
   },
   {
    "duration": 8,
    "start_time": "2022-08-07T09:14:37.396Z"
   },
   {
    "duration": 11,
    "start_time": "2022-08-07T09:15:24.064Z"
   },
   {
    "duration": 4,
    "start_time": "2022-08-07T09:15:26.729Z"
   },
   {
    "duration": 5,
    "start_time": "2022-08-07T09:15:51.344Z"
   },
   {
    "duration": 4,
    "start_time": "2022-08-07T09:15:52.623Z"
   },
   {
    "duration": 1044,
    "start_time": "2022-08-07T09:18:51.796Z"
   },
   {
    "duration": 12,
    "start_time": "2022-08-07T09:20:16.563Z"
   },
   {
    "duration": 12,
    "start_time": "2022-08-07T09:20:27.338Z"
   },
   {
    "duration": 10,
    "start_time": "2022-08-07T09:20:42.250Z"
   },
   {
    "duration": 10,
    "start_time": "2022-08-07T09:20:50.114Z"
   },
   {
    "duration": 11,
    "start_time": "2022-08-07T09:23:56.413Z"
   },
   {
    "duration": 12,
    "start_time": "2022-08-07T09:24:04.427Z"
   },
   {
    "duration": 17,
    "start_time": "2022-08-07T09:25:41.263Z"
   },
   {
    "duration": 66,
    "start_time": "2022-08-07T09:27:23.113Z"
   },
   {
    "duration": 1421,
    "start_time": "2022-08-07T09:30:17.750Z"
   },
   {
    "duration": 5,
    "start_time": "2022-08-07T09:30:32.983Z"
   },
   {
    "duration": 10,
    "start_time": "2022-08-07T09:30:57.678Z"
   },
   {
    "duration": 5,
    "start_time": "2022-08-07T09:31:06.545Z"
   },
   {
    "duration": 60,
    "start_time": "2022-08-07T09:32:26.186Z"
   },
   {
    "duration": 9,
    "start_time": "2022-08-07T09:32:42.985Z"
   },
   {
    "duration": 826,
    "start_time": "2022-08-07T09:32:48.118Z"
   },
   {
    "duration": 966,
    "start_time": "2022-08-07T09:33:04.154Z"
   },
   {
    "duration": 6,
    "start_time": "2022-08-07T09:34:13.980Z"
   },
   {
    "duration": 15,
    "start_time": "2022-08-07T09:37:13.493Z"
   },
   {
    "duration": 2,
    "start_time": "2022-08-07T09:39:14.946Z"
   },
   {
    "duration": 44,
    "start_time": "2022-08-07T09:39:16.500Z"
   },
   {
    "duration": 12,
    "start_time": "2022-08-07T09:39:17.638Z"
   },
   {
    "duration": 15,
    "start_time": "2022-08-07T09:39:19.602Z"
   },
   {
    "duration": 3,
    "start_time": "2022-08-07T09:39:21.691Z"
   },
   {
    "duration": 9,
    "start_time": "2022-08-07T09:39:23.709Z"
   },
   {
    "duration": 47,
    "start_time": "2022-08-07T09:39:27.123Z"
   },
   {
    "duration": 9,
    "start_time": "2022-08-07T09:39:32.376Z"
   },
   {
    "duration": 5,
    "start_time": "2022-08-07T09:39:34.850Z"
   },
   {
    "duration": 4,
    "start_time": "2022-08-07T09:39:37.065Z"
   },
   {
    "duration": 6,
    "start_time": "2022-08-07T09:39:38.187Z"
   },
   {
    "duration": 4,
    "start_time": "2022-08-07T09:39:40.405Z"
   },
   {
    "duration": 5,
    "start_time": "2022-08-07T09:39:41.736Z"
   },
   {
    "duration": 14,
    "start_time": "2022-08-07T09:39:43.992Z"
   },
   {
    "duration": 5,
    "start_time": "2022-08-07T09:39:45.058Z"
   },
   {
    "duration": 5,
    "start_time": "2022-08-07T09:39:46.240Z"
   },
   {
    "duration": 5,
    "start_time": "2022-08-07T09:39:47.437Z"
   },
   {
    "duration": 17,
    "start_time": "2022-08-07T09:39:49.557Z"
   },
   {
    "duration": 5,
    "start_time": "2022-08-07T09:39:54.425Z"
   },
   {
    "duration": 12,
    "start_time": "2022-08-07T09:39:59.490Z"
   },
   {
    "duration": 344,
    "start_time": "2022-08-07T09:42:09.535Z"
   },
   {
    "duration": 16,
    "start_time": "2022-08-07T09:42:16.921Z"
   },
   {
    "duration": 216,
    "start_time": "2022-08-07T09:47:38.140Z"
   },
   {
    "duration": 201,
    "start_time": "2022-08-07T09:48:15.627Z"
   },
   {
    "duration": 205,
    "start_time": "2022-08-07T09:48:46.002Z"
   },
   {
    "duration": 223,
    "start_time": "2022-08-07T09:49:41.508Z"
   },
   {
    "duration": 302,
    "start_time": "2022-08-07T09:51:13.376Z"
   },
   {
    "duration": 213,
    "start_time": "2022-08-07T09:51:57.423Z"
   },
   {
    "duration": 209,
    "start_time": "2022-08-07T09:52:12.092Z"
   },
   {
    "duration": 223,
    "start_time": "2022-08-07T09:52:39.924Z"
   },
   {
    "duration": 213,
    "start_time": "2022-08-07T09:53:03.367Z"
   },
   {
    "duration": 218,
    "start_time": "2022-08-07T09:53:20.562Z"
   },
   {
    "duration": 321,
    "start_time": "2022-08-07T09:55:04.913Z"
   },
   {
    "duration": 202,
    "start_time": "2022-08-07T09:58:18.378Z"
   },
   {
    "duration": 9,
    "start_time": "2022-08-07T09:59:24.823Z"
   },
   {
    "duration": 4,
    "start_time": "2022-08-07T09:59:40.805Z"
   },
   {
    "duration": 9,
    "start_time": "2022-08-07T09:59:48.404Z"
   },
   {
    "duration": 9,
    "start_time": "2022-08-07T10:01:24.211Z"
   },
   {
    "duration": 189,
    "start_time": "2022-08-07T10:01:35.791Z"
   },
   {
    "duration": 9,
    "start_time": "2022-08-07T10:03:24.262Z"
   },
   {
    "duration": 207,
    "start_time": "2022-08-07T10:03:48.419Z"
   },
   {
    "duration": 10,
    "start_time": "2022-08-07T10:06:53.100Z"
   },
   {
    "duration": 10,
    "start_time": "2022-08-07T10:07:06.788Z"
   },
   {
    "duration": 13,
    "start_time": "2022-08-07T10:07:37.797Z"
   },
   {
    "duration": 1014,
    "start_time": "2022-08-07T10:07:56.016Z"
   },
   {
    "duration": 47,
    "start_time": "2022-08-07T10:07:57.032Z"
   },
   {
    "duration": 18,
    "start_time": "2022-08-07T10:07:57.081Z"
   },
   {
    "duration": 12,
    "start_time": "2022-08-07T10:07:57.100Z"
   },
   {
    "duration": 3,
    "start_time": "2022-08-07T10:07:57.115Z"
   },
   {
    "duration": 12,
    "start_time": "2022-08-07T10:07:57.119Z"
   },
   {
    "duration": 46,
    "start_time": "2022-08-07T10:07:57.132Z"
   },
   {
    "duration": 10,
    "start_time": "2022-08-07T10:07:57.200Z"
   },
   {
    "duration": 5,
    "start_time": "2022-08-07T10:07:57.211Z"
   },
   {
    "duration": 6,
    "start_time": "2022-08-07T10:07:57.217Z"
   },
   {
    "duration": 7,
    "start_time": "2022-08-07T10:07:57.224Z"
   },
   {
    "duration": 7,
    "start_time": "2022-08-07T10:07:57.232Z"
   },
   {
    "duration": 6,
    "start_time": "2022-08-07T10:07:57.240Z"
   },
   {
    "duration": 13,
    "start_time": "2022-08-07T10:07:57.248Z"
   },
   {
    "duration": 8,
    "start_time": "2022-08-07T10:07:57.263Z"
   },
   {
    "duration": 27,
    "start_time": "2022-08-07T10:07:57.273Z"
   },
   {
    "duration": 5,
    "start_time": "2022-08-07T10:07:57.302Z"
   },
   {
    "duration": 19,
    "start_time": "2022-08-07T10:07:57.308Z"
   },
   {
    "duration": 5,
    "start_time": "2022-08-07T10:07:57.328Z"
   },
   {
    "duration": 4,
    "start_time": "2022-08-07T10:07:57.334Z"
   },
   {
    "duration": 246,
    "start_time": "2022-08-07T10:07:57.339Z"
   },
   {
    "duration": 23,
    "start_time": "2022-08-07T10:07:57.586Z"
   },
   {
    "duration": 3,
    "start_time": "2022-08-07T10:07:57.610Z"
   },
   {
    "duration": 437,
    "start_time": "2022-08-07T10:07:57.614Z"
   },
   {
    "duration": 6,
    "start_time": "2022-08-07T10:07:58.052Z"
   },
   {
    "duration": 346,
    "start_time": "2022-08-07T10:07:58.060Z"
   },
   {
    "duration": 292,
    "start_time": "2022-08-07T10:07:58.408Z"
   },
   {
    "duration": 220,
    "start_time": "2022-08-07T10:07:58.701Z"
   },
   {
    "duration": 146,
    "start_time": "2022-08-07T10:07:58.922Z"
   },
   {
    "duration": 140,
    "start_time": "2022-08-07T10:07:59.070Z"
   },
   {
    "duration": 138,
    "start_time": "2022-08-07T10:07:59.212Z"
   },
   {
    "duration": 174,
    "start_time": "2022-08-07T10:07:59.352Z"
   },
   {
    "duration": 187,
    "start_time": "2022-08-07T10:07:59.528Z"
   },
   {
    "duration": 315,
    "start_time": "2022-08-07T10:07:59.716Z"
   },
   {
    "duration": 332,
    "start_time": "2022-08-07T10:08:00.033Z"
   },
   {
    "duration": 173,
    "start_time": "2022-08-07T10:08:00.367Z"
   },
   {
    "duration": 305,
    "start_time": "2022-08-07T10:08:00.541Z"
   },
   {
    "duration": 331,
    "start_time": "2022-08-07T10:08:00.848Z"
   },
   {
    "duration": 268,
    "start_time": "2022-08-07T10:08:01.180Z"
   },
   {
    "duration": 337,
    "start_time": "2022-08-07T10:08:01.451Z"
   },
   {
    "duration": 339,
    "start_time": "2022-08-07T10:08:01.792Z"
   },
   {
    "duration": 161,
    "start_time": "2022-08-07T10:08:02.133Z"
   },
   {
    "duration": 4,
    "start_time": "2022-08-07T10:08:02.296Z"
   },
   {
    "duration": 70,
    "start_time": "2022-08-07T10:08:02.301Z"
   },
   {
    "duration": 22,
    "start_time": "2022-08-07T10:08:02.372Z"
   },
   {
    "duration": 25,
    "start_time": "2022-08-07T10:08:02.395Z"
   },
   {
    "duration": 17,
    "start_time": "2022-08-07T10:08:02.421Z"
   },
   {
    "duration": 15,
    "start_time": "2022-08-07T10:08:02.439Z"
   },
   {
    "duration": 11,
    "start_time": "2022-08-07T10:08:02.456Z"
   },
   {
    "duration": 16,
    "start_time": "2022-08-07T10:08:02.468Z"
   },
   {
    "duration": 17,
    "start_time": "2022-08-07T10:08:02.486Z"
   },
   {
    "duration": 7,
    "start_time": "2022-08-07T10:08:02.504Z"
   },
   {
    "duration": 11,
    "start_time": "2022-08-07T10:08:02.512Z"
   },
   {
    "duration": 14,
    "start_time": "2022-08-07T10:08:02.524Z"
   },
   {
    "duration": 6,
    "start_time": "2022-08-07T10:08:02.539Z"
   },
   {
    "duration": 8,
    "start_time": "2022-08-07T10:08:02.546Z"
   },
   {
    "duration": 20,
    "start_time": "2022-08-07T10:08:02.556Z"
   },
   {
    "duration": 45,
    "start_time": "2022-08-07T10:13:08.643Z"
   },
   {
    "duration": 457,
    "start_time": "2022-08-07T10:21:20.295Z"
   },
   {
    "duration": 449,
    "start_time": "2022-08-07T10:22:05.075Z"
   },
   {
    "duration": 5,
    "start_time": "2022-08-07T10:26:29.220Z"
   },
   {
    "duration": 389,
    "start_time": "2022-08-07T10:27:43.723Z"
   },
   {
    "duration": 308,
    "start_time": "2022-08-07T10:29:18.752Z"
   },
   {
    "duration": 268,
    "start_time": "2022-08-07T10:29:53.867Z"
   },
   {
    "duration": 256,
    "start_time": "2022-08-07T10:30:03.891Z"
   },
   {
    "duration": 260,
    "start_time": "2022-08-07T10:30:08.635Z"
   },
   {
    "duration": 258,
    "start_time": "2022-08-07T10:30:14.772Z"
   },
   {
    "duration": 380,
    "start_time": "2022-08-07T10:32:17.779Z"
   },
   {
    "duration": 259,
    "start_time": "2022-08-07T10:32:40.705Z"
   },
   {
    "duration": 264,
    "start_time": "2022-08-07T10:32:50.955Z"
   },
   {
    "duration": 267,
    "start_time": "2022-08-07T10:34:23.967Z"
   },
   {
    "duration": 315,
    "start_time": "2022-08-07T10:39:48.858Z"
   },
   {
    "duration": 507,
    "start_time": "2022-08-07T10:55:35.641Z"
   },
   {
    "duration": 105,
    "start_time": "2022-08-07T10:56:11.581Z"
   },
   {
    "duration": 242,
    "start_time": "2022-08-07T10:56:26.911Z"
   },
   {
    "duration": 249,
    "start_time": "2022-08-07T11:01:27.590Z"
   },
   {
    "duration": 255,
    "start_time": "2022-08-07T11:02:45.904Z"
   },
   {
    "duration": 287,
    "start_time": "2022-08-07T11:02:52.695Z"
   },
   {
    "duration": 264,
    "start_time": "2022-08-07T11:03:24.988Z"
   },
   {
    "duration": 45,
    "start_time": "2022-08-07T11:03:55.728Z"
   },
   {
    "duration": 267,
    "start_time": "2022-08-07T11:04:25.494Z"
   },
   {
    "duration": 258,
    "start_time": "2022-08-07T11:04:35.910Z"
   },
   {
    "duration": 250,
    "start_time": "2022-08-07T11:05:07.065Z"
   },
   {
    "duration": 259,
    "start_time": "2022-08-07T11:06:59.747Z"
   },
   {
    "duration": 257,
    "start_time": "2022-08-07T11:07:40.773Z"
   },
   {
    "duration": 266,
    "start_time": "2022-08-07T11:14:41.714Z"
   },
   {
    "duration": 167,
    "start_time": "2022-08-07T11:38:45.460Z"
   },
   {
    "duration": 307,
    "start_time": "2022-08-07T11:39:17.400Z"
   },
   {
    "duration": 309,
    "start_time": "2022-08-07T11:39:30.071Z"
   },
   {
    "duration": 303,
    "start_time": "2022-08-07T11:39:44.219Z"
   },
   {
    "duration": 272,
    "start_time": "2022-08-07T11:39:49.525Z"
   },
   {
    "duration": 167,
    "start_time": "2022-08-07T11:41:37.417Z"
   },
   {
    "duration": 291,
    "start_time": "2022-08-07T11:42:02.129Z"
   },
   {
    "duration": 165,
    "start_time": "2022-08-07T11:47:27.722Z"
   },
   {
    "duration": 165,
    "start_time": "2022-08-07T11:47:38.137Z"
   },
   {
    "duration": 168,
    "start_time": "2022-08-07T11:47:49.575Z"
   },
   {
    "duration": 176,
    "start_time": "2022-08-07T11:48:04.178Z"
   },
   {
    "duration": 326,
    "start_time": "2022-08-07T11:49:00.763Z"
   },
   {
    "duration": 294,
    "start_time": "2022-08-07T11:49:06.000Z"
   },
   {
    "duration": 61,
    "start_time": "2022-08-07T15:51:43.856Z"
   },
   {
    "duration": 1349,
    "start_time": "2022-08-07T15:51:52.037Z"
   },
   {
    "duration": 94,
    "start_time": "2022-08-07T15:51:53.388Z"
   },
   {
    "duration": 16,
    "start_time": "2022-08-07T15:51:53.484Z"
   },
   {
    "duration": 17,
    "start_time": "2022-08-07T15:51:53.503Z"
   },
   {
    "duration": 7,
    "start_time": "2022-08-07T15:51:53.522Z"
   },
   {
    "duration": 13,
    "start_time": "2022-08-07T15:51:53.531Z"
   },
   {
    "duration": 51,
    "start_time": "2022-08-07T15:51:53.546Z"
   },
   {
    "duration": 10,
    "start_time": "2022-08-07T15:51:53.599Z"
   },
   {
    "duration": 30,
    "start_time": "2022-08-07T15:51:53.611Z"
   },
   {
    "duration": 5,
    "start_time": "2022-08-07T15:51:53.644Z"
   },
   {
    "duration": 7,
    "start_time": "2022-08-07T15:51:53.652Z"
   },
   {
    "duration": 6,
    "start_time": "2022-08-07T15:51:53.661Z"
   },
   {
    "duration": 6,
    "start_time": "2022-08-07T15:51:53.670Z"
   },
   {
    "duration": 21,
    "start_time": "2022-08-07T15:51:53.678Z"
   },
   {
    "duration": 37,
    "start_time": "2022-08-07T15:51:53.702Z"
   },
   {
    "duration": 6,
    "start_time": "2022-08-07T15:51:53.741Z"
   },
   {
    "duration": 8,
    "start_time": "2022-08-07T15:51:53.749Z"
   },
   {
    "duration": 28,
    "start_time": "2022-08-07T15:51:53.760Z"
   },
   {
    "duration": 5,
    "start_time": "2022-08-07T15:51:53.790Z"
   },
   {
    "duration": 11,
    "start_time": "2022-08-07T15:51:53.796Z"
   },
   {
    "duration": 298,
    "start_time": "2022-08-07T15:51:53.809Z"
   },
   {
    "duration": 17,
    "start_time": "2022-08-07T15:51:54.108Z"
   },
   {
    "duration": 13,
    "start_time": "2022-08-07T15:51:54.127Z"
   },
   {
    "duration": 531,
    "start_time": "2022-08-07T15:51:54.142Z"
   },
   {
    "duration": 7,
    "start_time": "2022-08-07T15:51:54.675Z"
   },
   {
    "duration": 355,
    "start_time": "2022-08-07T15:51:54.684Z"
   },
   {
    "duration": 408,
    "start_time": "2022-08-07T15:51:55.041Z"
   },
   {
    "duration": 405,
    "start_time": "2022-08-07T15:51:55.454Z"
   },
   {
    "duration": 311,
    "start_time": "2022-08-07T15:51:55.861Z"
   },
   {
    "duration": 303,
    "start_time": "2022-08-07T15:51:56.174Z"
   },
   {
    "duration": 197,
    "start_time": "2022-08-07T15:51:56.479Z"
   },
   {
    "duration": 227,
    "start_time": "2022-08-07T15:51:56.678Z"
   },
   {
    "duration": 324,
    "start_time": "2022-08-07T15:51:56.907Z"
   },
   {
    "duration": 315,
    "start_time": "2022-08-07T15:51:57.238Z"
   },
   {
    "duration": 370,
    "start_time": "2022-08-07T15:51:57.555Z"
   },
   {
    "duration": 168,
    "start_time": "2022-08-07T15:51:57.926Z"
   },
   {
    "duration": 343,
    "start_time": "2022-08-07T15:51:58.096Z"
   },
   {
    "duration": 454,
    "start_time": "2022-08-07T15:51:58.442Z"
   },
   {
    "duration": 234,
    "start_time": "2022-08-07T15:51:58.898Z"
   },
   {
    "duration": 414,
    "start_time": "2022-08-07T15:51:59.134Z"
   },
   {
    "duration": 409,
    "start_time": "2022-08-07T15:51:59.551Z"
   },
   {
    "duration": 195,
    "start_time": "2022-08-07T15:51:59.965Z"
   },
   {
    "duration": 210,
    "start_time": "2022-08-07T15:52:00.162Z"
   },
   {
    "duration": 0,
    "start_time": "2022-08-07T15:52:00.374Z"
   },
   {
    "duration": 0,
    "start_time": "2022-08-07T15:52:00.376Z"
   },
   {
    "duration": 0,
    "start_time": "2022-08-07T15:52:00.378Z"
   },
   {
    "duration": 0,
    "start_time": "2022-08-07T15:52:00.380Z"
   },
   {
    "duration": 0,
    "start_time": "2022-08-07T15:52:00.381Z"
   },
   {
    "duration": 0,
    "start_time": "2022-08-07T15:52:00.382Z"
   },
   {
    "duration": 0,
    "start_time": "2022-08-07T15:52:00.384Z"
   },
   {
    "duration": 0,
    "start_time": "2022-08-07T15:52:00.386Z"
   },
   {
    "duration": 0,
    "start_time": "2022-08-07T15:52:00.387Z"
   },
   {
    "duration": 0,
    "start_time": "2022-08-07T15:52:00.389Z"
   },
   {
    "duration": 0,
    "start_time": "2022-08-07T15:52:00.390Z"
   },
   {
    "duration": 0,
    "start_time": "2022-08-07T15:52:00.392Z"
   },
   {
    "duration": 0,
    "start_time": "2022-08-07T15:52:00.393Z"
   },
   {
    "duration": 0,
    "start_time": "2022-08-07T15:52:00.395Z"
   },
   {
    "duration": 0,
    "start_time": "2022-08-07T15:52:00.396Z"
   },
   {
    "duration": 1134,
    "start_time": "2022-08-07T15:53:42.837Z"
   },
   {
    "duration": 51,
    "start_time": "2022-08-07T15:53:43.973Z"
   },
   {
    "duration": 23,
    "start_time": "2022-08-07T15:53:44.026Z"
   },
   {
    "duration": 15,
    "start_time": "2022-08-07T15:53:44.052Z"
   },
   {
    "duration": 4,
    "start_time": "2022-08-07T15:53:44.069Z"
   },
   {
    "duration": 12,
    "start_time": "2022-08-07T15:53:44.074Z"
   },
   {
    "duration": 75,
    "start_time": "2022-08-07T15:53:44.088Z"
   },
   {
    "duration": 10,
    "start_time": "2022-08-07T15:53:44.164Z"
   },
   {
    "duration": 5,
    "start_time": "2022-08-07T15:53:44.175Z"
   },
   {
    "duration": 5,
    "start_time": "2022-08-07T15:53:44.182Z"
   },
   {
    "duration": 7,
    "start_time": "2022-08-07T15:53:44.189Z"
   },
   {
    "duration": 5,
    "start_time": "2022-08-07T15:53:44.198Z"
   },
   {
    "duration": 6,
    "start_time": "2022-08-07T15:53:44.205Z"
   },
   {
    "duration": 50,
    "start_time": "2022-08-07T15:53:44.213Z"
   },
   {
    "duration": 14,
    "start_time": "2022-08-07T15:53:44.265Z"
   },
   {
    "duration": 9,
    "start_time": "2022-08-07T15:53:44.280Z"
   },
   {
    "duration": 6,
    "start_time": "2022-08-07T15:53:44.291Z"
   },
   {
    "duration": 23,
    "start_time": "2022-08-07T15:53:44.299Z"
   },
   {
    "duration": 9,
    "start_time": "2022-08-07T15:53:44.345Z"
   },
   {
    "duration": 13,
    "start_time": "2022-08-07T15:53:44.356Z"
   },
   {
    "duration": 267,
    "start_time": "2022-08-07T15:53:44.370Z"
   },
   {
    "duration": 22,
    "start_time": "2022-08-07T15:53:44.641Z"
   },
   {
    "duration": 2,
    "start_time": "2022-08-07T15:53:44.665Z"
   },
   {
    "duration": 511,
    "start_time": "2022-08-07T15:53:44.669Z"
   },
   {
    "duration": 6,
    "start_time": "2022-08-07T15:53:45.182Z"
   },
   {
    "duration": 354,
    "start_time": "2022-08-07T15:53:45.190Z"
   },
   {
    "duration": 383,
    "start_time": "2022-08-07T15:53:45.546Z"
   },
   {
    "duration": 391,
    "start_time": "2022-08-07T15:53:45.939Z"
   },
   {
    "duration": 290,
    "start_time": "2022-08-07T15:53:46.340Z"
   },
   {
    "duration": 316,
    "start_time": "2022-08-07T15:53:46.632Z"
   },
   {
    "duration": 208,
    "start_time": "2022-08-07T15:53:46.950Z"
   },
   {
    "duration": 248,
    "start_time": "2022-08-07T15:53:47.160Z"
   },
   {
    "duration": 364,
    "start_time": "2022-08-07T15:53:47.411Z"
   },
   {
    "duration": 335,
    "start_time": "2022-08-07T15:53:47.777Z"
   },
   {
    "duration": 388,
    "start_time": "2022-08-07T15:53:48.114Z"
   },
   {
    "duration": 177,
    "start_time": "2022-08-07T15:53:48.503Z"
   },
   {
    "duration": 358,
    "start_time": "2022-08-07T15:53:48.682Z"
   },
   {
    "duration": 535,
    "start_time": "2022-08-07T15:53:49.048Z"
   },
   {
    "duration": 258,
    "start_time": "2022-08-07T15:53:49.586Z"
   },
   {
    "duration": 342,
    "start_time": "2022-08-07T15:53:49.850Z"
   },
   {
    "duration": 386,
    "start_time": "2022-08-07T15:53:50.193Z"
   },
   {
    "duration": 189,
    "start_time": "2022-08-07T15:53:50.581Z"
   },
   {
    "duration": 3,
    "start_time": "2022-08-07T15:53:50.772Z"
   },
   {
    "duration": 10,
    "start_time": "2022-08-07T15:53:50.777Z"
   },
   {
    "duration": 9,
    "start_time": "2022-08-07T15:53:50.789Z"
   },
   {
    "duration": 7,
    "start_time": "2022-08-07T15:53:50.800Z"
   },
   {
    "duration": 5,
    "start_time": "2022-08-07T15:53:50.809Z"
   },
   {
    "duration": 20,
    "start_time": "2022-08-07T15:53:50.841Z"
   },
   {
    "duration": 6,
    "start_time": "2022-08-07T15:53:50.863Z"
   },
   {
    "duration": 10,
    "start_time": "2022-08-07T15:53:50.870Z"
   },
   {
    "duration": 7,
    "start_time": "2022-08-07T15:53:50.882Z"
   },
   {
    "duration": 5,
    "start_time": "2022-08-07T15:53:50.891Z"
   },
   {
    "duration": 6,
    "start_time": "2022-08-07T15:53:50.898Z"
   },
   {
    "duration": 6,
    "start_time": "2022-08-07T15:53:50.905Z"
   },
   {
    "duration": 29,
    "start_time": "2022-08-07T15:53:50.913Z"
   },
   {
    "duration": 5,
    "start_time": "2022-08-07T15:53:50.944Z"
   },
   {
    "duration": 16,
    "start_time": "2022-08-07T15:53:50.950Z"
   },
   {
    "duration": 184,
    "start_time": "2022-08-07T16:18:06.479Z"
   },
   {
    "duration": 183,
    "start_time": "2022-08-07T16:18:14.891Z"
   },
   {
    "duration": 266,
    "start_time": "2022-08-07T16:18:27.578Z"
   },
   {
    "duration": 1383,
    "start_time": "2022-08-08T06:52:56.221Z"
   },
   {
    "duration": 97,
    "start_time": "2022-08-08T06:52:57.608Z"
   },
   {
    "duration": 19,
    "start_time": "2022-08-08T06:52:57.706Z"
   },
   {
    "duration": 15,
    "start_time": "2022-08-08T06:52:57.727Z"
   },
   {
    "duration": 6,
    "start_time": "2022-08-08T06:52:57.744Z"
   },
   {
    "duration": 15,
    "start_time": "2022-08-08T06:52:57.751Z"
   },
   {
    "duration": 84,
    "start_time": "2022-08-08T06:52:57.768Z"
   },
   {
    "duration": 11,
    "start_time": "2022-08-08T06:52:57.854Z"
   },
   {
    "duration": 5,
    "start_time": "2022-08-08T06:52:57.867Z"
   },
   {
    "duration": 7,
    "start_time": "2022-08-08T06:52:57.875Z"
   },
   {
    "duration": 27,
    "start_time": "2022-08-08T06:52:57.883Z"
   },
   {
    "duration": 5,
    "start_time": "2022-08-08T06:52:57.913Z"
   },
   {
    "duration": 10,
    "start_time": "2022-08-08T06:52:57.920Z"
   },
   {
    "duration": 18,
    "start_time": "2022-08-08T06:52:57.932Z"
   },
   {
    "duration": 5,
    "start_time": "2022-08-08T06:52:57.952Z"
   },
   {
    "duration": 7,
    "start_time": "2022-08-08T06:52:57.959Z"
   },
   {
    "duration": 6,
    "start_time": "2022-08-08T06:52:57.967Z"
   },
   {
    "duration": 50,
    "start_time": "2022-08-08T06:52:57.975Z"
   },
   {
    "duration": 5,
    "start_time": "2022-08-08T06:52:58.026Z"
   },
   {
    "duration": 7,
    "start_time": "2022-08-08T06:52:58.033Z"
   },
   {
    "duration": 287,
    "start_time": "2022-08-08T06:52:58.042Z"
   },
   {
    "duration": 18,
    "start_time": "2022-08-08T06:52:58.331Z"
   },
   {
    "duration": 3,
    "start_time": "2022-08-08T06:52:58.350Z"
   },
   {
    "duration": 523,
    "start_time": "2022-08-08T06:52:58.354Z"
   },
   {
    "duration": 7,
    "start_time": "2022-08-08T06:52:58.879Z"
   },
   {
    "duration": 364,
    "start_time": "2022-08-08T06:52:58.887Z"
   },
   {
    "duration": 360,
    "start_time": "2022-08-08T06:52:59.252Z"
   },
   {
    "duration": 415,
    "start_time": "2022-08-08T06:52:59.615Z"
   },
   {
    "duration": 313,
    "start_time": "2022-08-08T06:53:00.032Z"
   },
   {
    "duration": 312,
    "start_time": "2022-08-08T06:53:00.346Z"
   },
   {
    "duration": 212,
    "start_time": "2022-08-08T06:53:00.659Z"
   },
   {
    "duration": 226,
    "start_time": "2022-08-08T06:53:00.873Z"
   },
   {
    "duration": 345,
    "start_time": "2022-08-08T06:53:01.101Z"
   },
   {
    "duration": 348,
    "start_time": "2022-08-08T06:53:01.448Z"
   },
   {
    "duration": 374,
    "start_time": "2022-08-08T06:53:01.797Z"
   },
   {
    "duration": 190,
    "start_time": "2022-08-08T06:53:02.173Z"
   },
   {
    "duration": 327,
    "start_time": "2022-08-08T06:53:02.365Z"
   },
   {
    "duration": 455,
    "start_time": "2022-08-08T06:53:02.694Z"
   },
   {
    "duration": 181,
    "start_time": "2022-08-08T06:53:03.151Z"
   },
   {
    "duration": 315,
    "start_time": "2022-08-08T06:53:03.334Z"
   },
   {
    "duration": 365,
    "start_time": "2022-08-08T06:53:03.651Z"
   },
   {
    "duration": 197,
    "start_time": "2022-08-08T06:53:04.017Z"
   },
   {
    "duration": 3,
    "start_time": "2022-08-08T06:53:04.215Z"
   },
   {
    "duration": 8,
    "start_time": "2022-08-08T06:53:04.219Z"
   },
   {
    "duration": 7,
    "start_time": "2022-08-08T06:53:04.229Z"
   },
   {
    "duration": 10,
    "start_time": "2022-08-08T06:53:04.238Z"
   },
   {
    "duration": 6,
    "start_time": "2022-08-08T06:53:04.249Z"
   },
   {
    "duration": 7,
    "start_time": "2022-08-08T06:53:04.256Z"
   },
   {
    "duration": 9,
    "start_time": "2022-08-08T06:53:04.264Z"
   },
   {
    "duration": 6,
    "start_time": "2022-08-08T06:53:04.275Z"
   },
   {
    "duration": 28,
    "start_time": "2022-08-08T06:53:04.282Z"
   },
   {
    "duration": 5,
    "start_time": "2022-08-08T06:53:04.312Z"
   },
   {
    "duration": 14,
    "start_time": "2022-08-08T06:53:04.318Z"
   },
   {
    "duration": 17,
    "start_time": "2022-08-08T06:53:04.333Z"
   },
   {
    "duration": 7,
    "start_time": "2022-08-08T06:53:04.351Z"
   },
   {
    "duration": 10,
    "start_time": "2022-08-08T06:53:04.360Z"
   },
   {
    "duration": 8,
    "start_time": "2022-08-08T06:53:04.372Z"
   },
   {
    "duration": 360,
    "start_time": "2022-08-08T06:57:54.393Z"
   },
   {
    "duration": 375,
    "start_time": "2022-08-08T06:58:18.395Z"
   },
   {
    "duration": 458,
    "start_time": "2022-08-08T06:59:37.424Z"
   },
   {
    "duration": 388,
    "start_time": "2022-08-08T07:00:34.716Z"
   },
   {
    "duration": 417,
    "start_time": "2022-08-08T07:16:41.338Z"
   },
   {
    "duration": 439,
    "start_time": "2022-08-08T07:19:25.699Z"
   },
   {
    "duration": 495,
    "start_time": "2022-08-08T07:19:32.504Z"
   },
   {
    "duration": 348,
    "start_time": "2022-08-08T07:21:36.141Z"
   },
   {
    "duration": 384,
    "start_time": "2022-08-08T07:21:48.662Z"
   },
   {
    "duration": 378,
    "start_time": "2022-08-08T07:23:36.548Z"
   },
   {
    "duration": 399,
    "start_time": "2022-08-08T07:23:48.246Z"
   },
   {
    "duration": 380,
    "start_time": "2022-08-08T07:23:58.229Z"
   },
   {
    "duration": 439,
    "start_time": "2022-08-08T07:48:26.499Z"
   },
   {
    "duration": 215,
    "start_time": "2022-08-08T07:50:44.197Z"
   },
   {
    "duration": 20,
    "start_time": "2022-08-08T07:51:49.220Z"
   },
   {
    "duration": 21,
    "start_time": "2022-08-08T07:51:56.120Z"
   },
   {
    "duration": 17,
    "start_time": "2022-08-08T08:01:22.920Z"
   },
   {
    "duration": 13,
    "start_time": "2022-08-08T08:01:32.194Z"
   },
   {
    "duration": 21,
    "start_time": "2022-08-08T08:03:15.642Z"
   },
   {
    "duration": 19,
    "start_time": "2022-08-08T08:03:33.842Z"
   },
   {
    "duration": 15,
    "start_time": "2022-08-08T08:04:19.371Z"
   },
   {
    "duration": 396,
    "start_time": "2022-08-08T08:04:26.154Z"
   },
   {
    "duration": 3,
    "start_time": "2022-08-08T08:08:23.900Z"
   },
   {
    "duration": 9,
    "start_time": "2022-08-08T08:08:55.653Z"
   },
   {
    "duration": 9,
    "start_time": "2022-08-08T08:09:15.724Z"
   },
   {
    "duration": 14,
    "start_time": "2022-08-08T08:09:21.877Z"
   },
   {
    "duration": 4,
    "start_time": "2022-08-08T08:09:41.060Z"
   },
   {
    "duration": 10,
    "start_time": "2022-08-08T08:09:42.221Z"
   },
   {
    "duration": 298,
    "start_time": "2022-08-08T08:09:42.827Z"
   },
   {
    "duration": 655,
    "start_time": "2022-08-08T09:27:43.992Z"
   },
   {
    "duration": 1196,
    "start_time": "2022-08-08T09:27:56.544Z"
   },
   {
    "duration": 982,
    "start_time": "2022-08-08T09:30:13.314Z"
   },
   {
    "duration": 1018,
    "start_time": "2022-08-08T09:30:36.455Z"
   },
   {
    "duration": 370,
    "start_time": "2022-08-08T09:32:02.169Z"
   },
   {
    "duration": 366,
    "start_time": "2022-08-08T09:32:13.539Z"
   },
   {
    "duration": 1092,
    "start_time": "2022-08-08T09:33:10.028Z"
   },
   {
    "duration": 33,
    "start_time": "2022-08-08T09:42:34.755Z"
   },
   {
    "duration": 37,
    "start_time": "2022-08-08T09:42:59.044Z"
   },
   {
    "duration": 65,
    "start_time": "2022-08-08T09:44:30.978Z"
   },
   {
    "duration": 17,
    "start_time": "2022-08-08T09:44:35.760Z"
   },
   {
    "duration": 6,
    "start_time": "2022-08-08T09:48:11.885Z"
   },
   {
    "duration": 6,
    "start_time": "2022-08-08T09:48:20.355Z"
   },
   {
    "duration": 1328,
    "start_time": "2022-08-08T09:48:52.702Z"
   },
   {
    "duration": 5,
    "start_time": "2022-08-08T09:49:03.773Z"
   },
   {
    "duration": 1123,
    "start_time": "2022-08-08T13:52:15.325Z"
   },
   {
    "duration": 52,
    "start_time": "2022-08-08T13:52:16.450Z"
   },
   {
    "duration": 16,
    "start_time": "2022-08-08T13:52:16.503Z"
   },
   {
    "duration": 14,
    "start_time": "2022-08-08T13:52:16.521Z"
   },
   {
    "duration": 5,
    "start_time": "2022-08-08T13:52:16.536Z"
   },
   {
    "duration": 23,
    "start_time": "2022-08-08T13:52:16.542Z"
   },
   {
    "duration": 68,
    "start_time": "2022-08-08T13:52:16.567Z"
   },
   {
    "duration": 9,
    "start_time": "2022-08-08T13:52:16.637Z"
   },
   {
    "duration": 30,
    "start_time": "2022-08-08T13:52:16.647Z"
   },
   {
    "duration": 19,
    "start_time": "2022-08-08T13:52:16.680Z"
   },
   {
    "duration": 41,
    "start_time": "2022-08-08T13:52:16.700Z"
   },
   {
    "duration": 7,
    "start_time": "2022-08-08T13:52:16.743Z"
   },
   {
    "duration": 7,
    "start_time": "2022-08-08T13:52:16.752Z"
   },
   {
    "duration": 17,
    "start_time": "2022-08-08T13:52:16.761Z"
   },
   {
    "duration": 4,
    "start_time": "2022-08-08T13:52:16.779Z"
   },
   {
    "duration": 6,
    "start_time": "2022-08-08T13:52:16.785Z"
   },
   {
    "duration": 5,
    "start_time": "2022-08-08T13:52:16.793Z"
   },
   {
    "duration": 20,
    "start_time": "2022-08-08T13:52:16.799Z"
   },
   {
    "duration": 5,
    "start_time": "2022-08-08T13:52:16.820Z"
   },
   {
    "duration": 9,
    "start_time": "2022-08-08T13:52:16.827Z"
   },
   {
    "duration": 281,
    "start_time": "2022-08-08T13:52:16.837Z"
   },
   {
    "duration": 16,
    "start_time": "2022-08-08T13:52:17.121Z"
   },
   {
    "duration": 3,
    "start_time": "2022-08-08T13:52:17.138Z"
   },
   {
    "duration": 622,
    "start_time": "2022-08-08T13:52:17.142Z"
   },
   {
    "duration": 6,
    "start_time": "2022-08-08T13:52:17.766Z"
   },
   {
    "duration": 340,
    "start_time": "2022-08-08T13:52:17.773Z"
   },
   {
    "duration": 383,
    "start_time": "2022-08-08T13:52:18.115Z"
   },
   {
    "duration": 374,
    "start_time": "2022-08-08T13:52:18.508Z"
   },
   {
    "duration": 285,
    "start_time": "2022-08-08T13:52:18.884Z"
   },
   {
    "duration": 276,
    "start_time": "2022-08-08T13:52:19.171Z"
   },
   {
    "duration": 212,
    "start_time": "2022-08-08T13:52:19.449Z"
   },
   {
    "duration": 222,
    "start_time": "2022-08-08T13:52:19.662Z"
   },
   {
    "duration": 356,
    "start_time": "2022-08-08T13:52:19.885Z"
   },
   {
    "duration": 906,
    "start_time": "2022-08-08T13:52:20.243Z"
   },
   {
    "duration": 369,
    "start_time": "2022-08-08T13:52:21.151Z"
   },
   {
    "duration": 197,
    "start_time": "2022-08-08T13:52:21.522Z"
   },
   {
    "duration": 445,
    "start_time": "2022-08-08T13:52:21.724Z"
   },
   {
    "duration": 384,
    "start_time": "2022-08-08T13:52:22.171Z"
   },
   {
    "duration": 198,
    "start_time": "2022-08-08T13:52:22.557Z"
   },
   {
    "duration": 331,
    "start_time": "2022-08-08T13:52:22.756Z"
   },
   {
    "duration": 398,
    "start_time": "2022-08-08T13:52:23.088Z"
   },
   {
    "duration": 194,
    "start_time": "2022-08-08T13:52:23.488Z"
   },
   {
    "duration": 2,
    "start_time": "2022-08-08T13:52:23.684Z"
   },
   {
    "duration": 21,
    "start_time": "2022-08-08T13:52:23.688Z"
   },
   {
    "duration": 19,
    "start_time": "2022-08-08T13:52:23.712Z"
   },
   {
    "duration": 16,
    "start_time": "2022-08-08T13:52:23.733Z"
   },
   {
    "duration": 20,
    "start_time": "2022-08-08T13:52:23.751Z"
   },
   {
    "duration": 18,
    "start_time": "2022-08-08T13:52:23.773Z"
   },
   {
    "duration": 11,
    "start_time": "2022-08-08T13:52:23.792Z"
   },
   {
    "duration": 12,
    "start_time": "2022-08-08T13:52:23.804Z"
   },
   {
    "duration": 12,
    "start_time": "2022-08-08T13:52:23.819Z"
   },
   {
    "duration": 8,
    "start_time": "2022-08-08T13:52:23.833Z"
   },
   {
    "duration": 10,
    "start_time": "2022-08-08T13:52:23.842Z"
   },
   {
    "duration": 13,
    "start_time": "2022-08-08T13:52:23.854Z"
   },
   {
    "duration": 9,
    "start_time": "2022-08-08T13:52:23.869Z"
   },
   {
    "duration": 8,
    "start_time": "2022-08-08T13:52:23.880Z"
   },
   {
    "duration": 8,
    "start_time": "2022-08-08T13:52:23.890Z"
   },
   {
    "duration": 285,
    "start_time": "2022-08-08T14:03:52.011Z"
   },
   {
    "duration": 287,
    "start_time": "2022-08-08T14:04:00.686Z"
   },
   {
    "duration": 335,
    "start_time": "2022-08-08T14:04:25.751Z"
   },
   {
    "duration": 308,
    "start_time": "2022-08-08T14:04:37.995Z"
   },
   {
    "duration": 305,
    "start_time": "2022-08-08T14:05:32.749Z"
   },
   {
    "duration": 422,
    "start_time": "2022-08-08T14:05:37.354Z"
   },
   {
    "duration": 274,
    "start_time": "2022-08-08T14:09:16.738Z"
   },
   {
    "duration": 303,
    "start_time": "2022-08-08T14:09:31.306Z"
   },
   {
    "duration": 288,
    "start_time": "2022-08-08T14:10:30.602Z"
   },
   {
    "duration": 271,
    "start_time": "2022-08-08T14:11:08.130Z"
   },
   {
    "duration": 228,
    "start_time": "2022-08-08T14:11:28.706Z"
   },
   {
    "duration": 219,
    "start_time": "2022-08-08T14:11:37.794Z"
   },
   {
    "duration": 338,
    "start_time": "2022-08-08T14:11:57.595Z"
   },
   {
    "duration": 287,
    "start_time": "2022-08-08T14:12:58.981Z"
   },
   {
    "duration": 287,
    "start_time": "2022-08-08T14:13:19.822Z"
   },
   {
    "duration": 397,
    "start_time": "2022-08-08T14:13:51.891Z"
   },
   {
    "duration": 322,
    "start_time": "2022-08-08T14:14:01.587Z"
   },
   {
    "duration": 321,
    "start_time": "2022-08-08T14:15:10.379Z"
   },
   {
    "duration": 335,
    "start_time": "2022-08-08T14:15:31.999Z"
   },
   {
    "duration": 304,
    "start_time": "2022-08-08T14:15:41.421Z"
   },
   {
    "duration": 1205,
    "start_time": "2022-08-08T14:15:49.427Z"
   },
   {
    "duration": 53,
    "start_time": "2022-08-08T14:15:50.635Z"
   },
   {
    "duration": 16,
    "start_time": "2022-08-08T14:15:50.690Z"
   },
   {
    "duration": 32,
    "start_time": "2022-08-08T14:15:50.708Z"
   },
   {
    "duration": 3,
    "start_time": "2022-08-08T14:15:50.741Z"
   },
   {
    "duration": 27,
    "start_time": "2022-08-08T14:15:50.746Z"
   },
   {
    "duration": 67,
    "start_time": "2022-08-08T14:15:50.775Z"
   },
   {
    "duration": 12,
    "start_time": "2022-08-08T14:15:50.844Z"
   },
   {
    "duration": 5,
    "start_time": "2022-08-08T14:15:50.858Z"
   },
   {
    "duration": 18,
    "start_time": "2022-08-08T14:15:50.867Z"
   },
   {
    "duration": 5,
    "start_time": "2022-08-08T14:15:50.887Z"
   },
   {
    "duration": 6,
    "start_time": "2022-08-08T14:15:50.893Z"
   },
   {
    "duration": 37,
    "start_time": "2022-08-08T14:15:50.900Z"
   },
   {
    "duration": 18,
    "start_time": "2022-08-08T14:15:50.938Z"
   },
   {
    "duration": 5,
    "start_time": "2022-08-08T14:15:50.957Z"
   },
   {
    "duration": 12,
    "start_time": "2022-08-08T14:15:50.963Z"
   },
   {
    "duration": 9,
    "start_time": "2022-08-08T14:15:50.977Z"
   },
   {
    "duration": 26,
    "start_time": "2022-08-08T14:15:50.987Z"
   },
   {
    "duration": 14,
    "start_time": "2022-08-08T14:15:51.024Z"
   },
   {
    "duration": 5,
    "start_time": "2022-08-08T14:15:51.040Z"
   },
   {
    "duration": 289,
    "start_time": "2022-08-08T14:15:51.047Z"
   },
   {
    "duration": 18,
    "start_time": "2022-08-08T14:15:51.338Z"
   },
   {
    "duration": 2,
    "start_time": "2022-08-08T14:15:51.358Z"
   },
   {
    "duration": 591,
    "start_time": "2022-08-08T14:15:51.361Z"
   },
   {
    "duration": 6,
    "start_time": "2022-08-08T14:15:51.954Z"
   },
   {
    "duration": 400,
    "start_time": "2022-08-08T14:15:51.961Z"
   },
   {
    "duration": 417,
    "start_time": "2022-08-08T14:15:52.363Z"
   },
   {
    "duration": 456,
    "start_time": "2022-08-08T14:15:52.783Z"
   },
   {
    "duration": 310,
    "start_time": "2022-08-08T14:15:53.241Z"
   },
   {
    "duration": 325,
    "start_time": "2022-08-08T14:15:53.552Z"
   },
   {
    "duration": 212,
    "start_time": "2022-08-08T14:15:53.878Z"
   },
   {
    "duration": 244,
    "start_time": "2022-08-08T14:15:54.091Z"
   },
   {
    "duration": 331,
    "start_time": "2022-08-08T14:15:54.336Z"
   },
   {
    "duration": 1002,
    "start_time": "2022-08-08T14:15:54.668Z"
   },
   {
    "duration": 387,
    "start_time": "2022-08-08T14:15:55.672Z"
   },
   {
    "duration": 201,
    "start_time": "2022-08-08T14:15:56.061Z"
   },
   {
    "duration": 436,
    "start_time": "2022-08-08T14:15:56.264Z"
   },
   {
    "duration": 396,
    "start_time": "2022-08-08T14:15:56.702Z"
   },
   {
    "duration": 253,
    "start_time": "2022-08-08T14:15:57.099Z"
   },
   {
    "duration": 388,
    "start_time": "2022-08-08T14:15:57.354Z"
   },
   {
    "duration": 403,
    "start_time": "2022-08-08T14:15:57.743Z"
   },
   {
    "duration": 211,
    "start_time": "2022-08-08T14:15:58.148Z"
   },
   {
    "duration": 3,
    "start_time": "2022-08-08T14:15:58.360Z"
   },
   {
    "duration": 13,
    "start_time": "2022-08-08T14:15:58.364Z"
   },
   {
    "duration": 6,
    "start_time": "2022-08-08T14:15:58.379Z"
   },
   {
    "duration": 17,
    "start_time": "2022-08-08T14:15:58.386Z"
   },
   {
    "duration": 18,
    "start_time": "2022-08-08T14:15:58.405Z"
   },
   {
    "duration": 19,
    "start_time": "2022-08-08T14:15:58.425Z"
   },
   {
    "duration": 13,
    "start_time": "2022-08-08T14:15:58.446Z"
   },
   {
    "duration": 7,
    "start_time": "2022-08-08T14:15:58.460Z"
   },
   {
    "duration": 13,
    "start_time": "2022-08-08T14:15:58.469Z"
   },
   {
    "duration": 8,
    "start_time": "2022-08-08T14:15:58.483Z"
   },
   {
    "duration": 15,
    "start_time": "2022-08-08T14:15:58.492Z"
   },
   {
    "duration": 29,
    "start_time": "2022-08-08T14:15:58.510Z"
   },
   {
    "duration": 14,
    "start_time": "2022-08-08T14:15:58.540Z"
   },
   {
    "duration": 21,
    "start_time": "2022-08-08T14:15:58.555Z"
   },
   {
    "duration": 10,
    "start_time": "2022-08-08T14:15:58.578Z"
   },
   {
    "duration": 290,
    "start_time": "2022-08-08T14:16:10.508Z"
   },
   {
    "duration": 276,
    "start_time": "2022-08-08T14:16:32.621Z"
   },
   {
    "duration": 261,
    "start_time": "2022-08-08T14:17:53.766Z"
   },
   {
    "duration": 182,
    "start_time": "2022-08-08T14:18:05.437Z"
   },
   {
    "duration": 380,
    "start_time": "2022-08-08T14:18:18.019Z"
   },
   {
    "duration": 315,
    "start_time": "2022-08-08T14:18:39.919Z"
   },
   {
    "duration": 304,
    "start_time": "2022-08-08T14:20:55.464Z"
   },
   {
    "duration": 319,
    "start_time": "2022-08-08T14:21:01.654Z"
   },
   {
    "duration": 191,
    "start_time": "2022-08-08T14:21:06.070Z"
   },
   {
    "duration": 181,
    "start_time": "2022-08-08T14:21:14.528Z"
   },
   {
    "duration": 281,
    "start_time": "2022-08-08T14:21:20.728Z"
   },
   {
    "duration": 195,
    "start_time": "2022-08-08T14:25:08.091Z"
   },
   {
    "duration": 344,
    "start_time": "2022-08-08T14:25:50.766Z"
   },
   {
    "duration": 280,
    "start_time": "2022-08-08T14:26:35.457Z"
   },
   {
    "duration": 260,
    "start_time": "2022-08-08T14:26:42.435Z"
   },
   {
    "duration": 277,
    "start_time": "2022-08-08T14:27:05.778Z"
   },
   {
    "duration": 258,
    "start_time": "2022-08-08T14:27:47.989Z"
   },
   {
    "duration": 245,
    "start_time": "2022-08-08T14:27:53.402Z"
   },
   {
    "duration": 263,
    "start_time": "2022-08-08T14:30:41.949Z"
   },
   {
    "duration": 253,
    "start_time": "2022-08-08T14:30:48.028Z"
   },
   {
    "duration": 909,
    "start_time": "2022-08-08T14:32:25.697Z"
   },
   {
    "duration": 780,
    "start_time": "2022-08-08T14:32:44.041Z"
   },
   {
    "duration": 818,
    "start_time": "2022-08-08T14:33:20.231Z"
   },
   {
    "duration": 270,
    "start_time": "2022-08-08T14:34:05.645Z"
   },
   {
    "duration": 842,
    "start_time": "2022-08-08T14:34:51.388Z"
   },
   {
    "duration": 265,
    "start_time": "2022-08-08T14:35:22.495Z"
   },
   {
    "duration": 1172,
    "start_time": "2022-08-08T14:36:00.885Z"
   },
   {
    "duration": 53,
    "start_time": "2022-08-08T14:36:02.059Z"
   },
   {
    "duration": 18,
    "start_time": "2022-08-08T14:36:02.114Z"
   },
   {
    "duration": 22,
    "start_time": "2022-08-08T14:36:02.134Z"
   },
   {
    "duration": 3,
    "start_time": "2022-08-08T14:36:02.158Z"
   },
   {
    "duration": 27,
    "start_time": "2022-08-08T14:36:02.162Z"
   },
   {
    "duration": 53,
    "start_time": "2022-08-08T14:36:02.190Z"
   },
   {
    "duration": 10,
    "start_time": "2022-08-08T14:36:02.245Z"
   },
   {
    "duration": 7,
    "start_time": "2022-08-08T14:36:02.256Z"
   },
   {
    "duration": 5,
    "start_time": "2022-08-08T14:36:02.265Z"
   },
   {
    "duration": 7,
    "start_time": "2022-08-08T14:36:02.271Z"
   },
   {
    "duration": 10,
    "start_time": "2022-08-08T14:36:02.280Z"
   },
   {
    "duration": 21,
    "start_time": "2022-08-08T14:36:02.292Z"
   },
   {
    "duration": 19,
    "start_time": "2022-08-08T14:36:02.314Z"
   },
   {
    "duration": 5,
    "start_time": "2022-08-08T14:36:02.335Z"
   },
   {
    "duration": 13,
    "start_time": "2022-08-08T14:36:02.341Z"
   },
   {
    "duration": 12,
    "start_time": "2022-08-08T14:36:02.356Z"
   },
   {
    "duration": 20,
    "start_time": "2022-08-08T14:36:02.369Z"
   },
   {
    "duration": 23,
    "start_time": "2022-08-08T14:36:02.390Z"
   },
   {
    "duration": 15,
    "start_time": "2022-08-08T14:36:02.414Z"
   },
   {
    "duration": 253,
    "start_time": "2022-08-08T14:36:02.431Z"
   },
   {
    "duration": 26,
    "start_time": "2022-08-08T14:36:02.686Z"
   },
   {
    "duration": 2,
    "start_time": "2022-08-08T14:36:02.714Z"
   },
   {
    "duration": 507,
    "start_time": "2022-08-08T14:36:02.718Z"
   },
   {
    "duration": 8,
    "start_time": "2022-08-08T14:36:03.227Z"
   },
   {
    "duration": 333,
    "start_time": "2022-08-08T14:36:03.236Z"
   },
   {
    "duration": 350,
    "start_time": "2022-08-08T14:36:03.570Z"
   },
   {
    "duration": 422,
    "start_time": "2022-08-08T14:36:03.924Z"
   },
   {
    "duration": 286,
    "start_time": "2022-08-08T14:36:04.348Z"
   },
   {
    "duration": 297,
    "start_time": "2022-08-08T14:36:04.635Z"
   },
   {
    "duration": 190,
    "start_time": "2022-08-08T14:36:04.933Z"
   },
   {
    "duration": 200,
    "start_time": "2022-08-08T14:36:05.124Z"
   },
   {
    "duration": 310,
    "start_time": "2022-08-08T14:36:05.326Z"
   },
   {
    "duration": 876,
    "start_time": "2022-08-08T14:36:05.638Z"
   },
   {
    "duration": 247,
    "start_time": "2022-08-08T14:36:06.516Z"
   },
   {
    "duration": 171,
    "start_time": "2022-08-08T14:36:06.765Z"
   },
   {
    "duration": 974,
    "start_time": "2022-08-08T14:36:06.938Z"
   },
   {
    "duration": 268,
    "start_time": "2022-08-08T14:36:07.914Z"
   },
   {
    "duration": 170,
    "start_time": "2022-08-08T14:36:08.184Z"
   },
   {
    "duration": 791,
    "start_time": "2022-08-08T14:36:08.356Z"
   },
   {
    "duration": 238,
    "start_time": "2022-08-08T14:36:09.149Z"
   },
   {
    "duration": 183,
    "start_time": "2022-08-08T14:36:09.388Z"
   },
   {
    "duration": 3,
    "start_time": "2022-08-08T14:36:09.572Z"
   },
   {
    "duration": 28,
    "start_time": "2022-08-08T14:36:09.576Z"
   },
   {
    "duration": 22,
    "start_time": "2022-08-08T14:36:09.606Z"
   },
   {
    "duration": 17,
    "start_time": "2022-08-08T14:36:09.630Z"
   },
   {
    "duration": 16,
    "start_time": "2022-08-08T14:36:09.649Z"
   },
   {
    "duration": 16,
    "start_time": "2022-08-08T14:36:09.666Z"
   },
   {
    "duration": 27,
    "start_time": "2022-08-08T14:36:09.684Z"
   },
   {
    "duration": 30,
    "start_time": "2022-08-08T14:36:09.713Z"
   },
   {
    "duration": 21,
    "start_time": "2022-08-08T14:36:09.745Z"
   },
   {
    "duration": 19,
    "start_time": "2022-08-08T14:36:09.768Z"
   },
   {
    "duration": 27,
    "start_time": "2022-08-08T14:36:09.788Z"
   },
   {
    "duration": 24,
    "start_time": "2022-08-08T14:36:09.817Z"
   },
   {
    "duration": 17,
    "start_time": "2022-08-08T14:36:09.842Z"
   },
   {
    "duration": 20,
    "start_time": "2022-08-08T14:36:09.861Z"
   },
   {
    "duration": 7,
    "start_time": "2022-08-08T14:36:09.883Z"
   },
   {
    "duration": 56,
    "start_time": "2022-08-08T14:39:11.147Z"
   },
   {
    "duration": 116,
    "start_time": "2022-08-08T14:41:03.518Z"
   },
   {
    "duration": 171,
    "start_time": "2022-08-08T14:41:22.740Z"
   },
   {
    "duration": 164,
    "start_time": "2022-08-08T14:44:41.394Z"
   },
   {
    "duration": 180,
    "start_time": "2022-08-08T14:44:45.755Z"
   },
   {
    "duration": 1035,
    "start_time": "2022-08-08T15:24:50.358Z"
   },
   {
    "duration": 52,
    "start_time": "2022-08-08T15:24:51.395Z"
   },
   {
    "duration": 16,
    "start_time": "2022-08-08T15:24:51.449Z"
   },
   {
    "duration": 25,
    "start_time": "2022-08-08T15:24:51.468Z"
   },
   {
    "duration": 9,
    "start_time": "2022-08-08T15:24:51.494Z"
   },
   {
    "duration": 29,
    "start_time": "2022-08-08T15:24:51.504Z"
   },
   {
    "duration": 60,
    "start_time": "2022-08-08T15:24:51.535Z"
   },
   {
    "duration": 10,
    "start_time": "2022-08-08T15:24:51.596Z"
   },
   {
    "duration": 20,
    "start_time": "2022-08-08T15:24:51.607Z"
   },
   {
    "duration": 20,
    "start_time": "2022-08-08T15:24:51.629Z"
   },
   {
    "duration": 22,
    "start_time": "2022-08-08T15:24:51.651Z"
   },
   {
    "duration": 17,
    "start_time": "2022-08-08T15:24:51.675Z"
   },
   {
    "duration": 30,
    "start_time": "2022-08-08T15:24:51.693Z"
   },
   {
    "duration": 44,
    "start_time": "2022-08-08T15:24:51.725Z"
   },
   {
    "duration": 15,
    "start_time": "2022-08-08T15:24:51.771Z"
   },
   {
    "duration": 37,
    "start_time": "2022-08-08T15:24:51.787Z"
   },
   {
    "duration": 22,
    "start_time": "2022-08-08T15:24:51.825Z"
   },
   {
    "duration": 38,
    "start_time": "2022-08-08T15:24:51.848Z"
   },
   {
    "duration": 5,
    "start_time": "2022-08-08T15:24:51.887Z"
   },
   {
    "duration": 24,
    "start_time": "2022-08-08T15:24:51.893Z"
   },
   {
    "duration": 258,
    "start_time": "2022-08-08T15:24:51.919Z"
   },
   {
    "duration": 16,
    "start_time": "2022-08-08T15:24:52.178Z"
   },
   {
    "duration": 35,
    "start_time": "2022-08-08T15:24:52.195Z"
   },
   {
    "duration": 497,
    "start_time": "2022-08-08T15:24:52.232Z"
   },
   {
    "duration": 6,
    "start_time": "2022-08-08T15:24:52.731Z"
   },
   {
    "duration": 358,
    "start_time": "2022-08-08T15:24:52.739Z"
   },
   {
    "duration": 338,
    "start_time": "2022-08-08T15:24:53.099Z"
   },
   {
    "duration": 392,
    "start_time": "2022-08-08T15:24:53.441Z"
   },
   {
    "duration": 297,
    "start_time": "2022-08-08T15:24:53.835Z"
   },
   {
    "duration": 291,
    "start_time": "2022-08-08T15:24:54.134Z"
   },
   {
    "duration": 186,
    "start_time": "2022-08-08T15:24:54.427Z"
   },
   {
    "duration": 202,
    "start_time": "2022-08-08T15:24:54.614Z"
   },
   {
    "duration": 304,
    "start_time": "2022-08-08T15:24:54.818Z"
   },
   {
    "duration": 808,
    "start_time": "2022-08-08T15:24:55.123Z"
   },
   {
    "duration": 291,
    "start_time": "2022-08-08T15:24:55.933Z"
   },
   {
    "duration": 183,
    "start_time": "2022-08-08T15:24:56.225Z"
   },
   {
    "duration": 945,
    "start_time": "2022-08-08T15:24:56.410Z"
   },
   {
    "duration": 272,
    "start_time": "2022-08-08T15:24:57.357Z"
   },
   {
    "duration": 186,
    "start_time": "2022-08-08T15:24:57.632Z"
   },
   {
    "duration": 813,
    "start_time": "2022-08-08T15:24:57.820Z"
   },
   {
    "duration": 244,
    "start_time": "2022-08-08T15:24:58.635Z"
   },
   {
    "duration": 194,
    "start_time": "2022-08-08T15:24:58.881Z"
   },
   {
    "duration": 3,
    "start_time": "2022-08-08T15:24:59.077Z"
   },
   {
    "duration": 9,
    "start_time": "2022-08-08T15:24:59.082Z"
   },
   {
    "duration": 17,
    "start_time": "2022-08-08T15:24:59.093Z"
   },
   {
    "duration": 4,
    "start_time": "2022-08-08T15:24:59.112Z"
   },
   {
    "duration": 8,
    "start_time": "2022-08-08T15:24:59.118Z"
   },
   {
    "duration": 5,
    "start_time": "2022-08-08T15:24:59.128Z"
   },
   {
    "duration": 9,
    "start_time": "2022-08-08T15:24:59.134Z"
   },
   {
    "duration": 7,
    "start_time": "2022-08-08T15:24:59.145Z"
   },
   {
    "duration": 7,
    "start_time": "2022-08-08T15:24:59.154Z"
   },
   {
    "duration": 6,
    "start_time": "2022-08-08T15:24:59.162Z"
   },
   {
    "duration": 7,
    "start_time": "2022-08-08T15:24:59.170Z"
   },
   {
    "duration": 7,
    "start_time": "2022-08-08T15:24:59.178Z"
   },
   {
    "duration": 4,
    "start_time": "2022-08-08T15:24:59.209Z"
   },
   {
    "duration": 7,
    "start_time": "2022-08-08T15:24:59.214Z"
   },
   {
    "duration": 8,
    "start_time": "2022-08-08T15:24:59.223Z"
   },
   {
    "duration": 1198,
    "start_time": "2022-08-08T15:58:46.895Z"
   },
   {
    "duration": 54,
    "start_time": "2022-08-08T15:58:48.095Z"
   },
   {
    "duration": 19,
    "start_time": "2022-08-08T15:58:48.151Z"
   },
   {
    "duration": 16,
    "start_time": "2022-08-08T15:58:48.172Z"
   },
   {
    "duration": 11,
    "start_time": "2022-08-08T15:58:48.190Z"
   },
   {
    "duration": 13,
    "start_time": "2022-08-08T15:58:48.203Z"
   },
   {
    "duration": 58,
    "start_time": "2022-08-08T15:58:48.218Z"
   },
   {
    "duration": 12,
    "start_time": "2022-08-08T15:58:48.277Z"
   },
   {
    "duration": 21,
    "start_time": "2022-08-08T15:58:48.291Z"
   },
   {
    "duration": 12,
    "start_time": "2022-08-08T15:58:48.315Z"
   },
   {
    "duration": 10,
    "start_time": "2022-08-08T15:58:48.329Z"
   },
   {
    "duration": 10,
    "start_time": "2022-08-08T15:58:48.341Z"
   },
   {
    "duration": 17,
    "start_time": "2022-08-08T15:58:48.353Z"
   },
   {
    "duration": 16,
    "start_time": "2022-08-08T15:58:48.372Z"
   },
   {
    "duration": 6,
    "start_time": "2022-08-08T15:58:48.390Z"
   },
   {
    "duration": 4,
    "start_time": "2022-08-08T15:58:48.409Z"
   },
   {
    "duration": 7,
    "start_time": "2022-08-08T15:58:48.415Z"
   },
   {
    "duration": 24,
    "start_time": "2022-08-08T15:58:48.423Z"
   },
   {
    "duration": 6,
    "start_time": "2022-08-08T15:58:48.448Z"
   },
   {
    "duration": 13,
    "start_time": "2022-08-08T15:58:48.455Z"
   },
   {
    "duration": 271,
    "start_time": "2022-08-08T15:58:48.469Z"
   },
   {
    "duration": 16,
    "start_time": "2022-08-08T15:58:48.741Z"
   },
   {
    "duration": 2,
    "start_time": "2022-08-08T15:58:48.759Z"
   },
   {
    "duration": 496,
    "start_time": "2022-08-08T15:58:48.763Z"
   },
   {
    "duration": 6,
    "start_time": "2022-08-08T15:58:49.261Z"
   },
   {
    "duration": 332,
    "start_time": "2022-08-08T15:58:49.268Z"
   },
   {
    "duration": 356,
    "start_time": "2022-08-08T15:58:49.602Z"
   },
   {
    "duration": 397,
    "start_time": "2022-08-08T15:58:49.962Z"
   },
   {
    "duration": 295,
    "start_time": "2022-08-08T15:58:50.361Z"
   },
   {
    "duration": 283,
    "start_time": "2022-08-08T15:58:50.658Z"
   },
   {
    "duration": 200,
    "start_time": "2022-08-08T15:58:50.942Z"
   },
   {
    "duration": 208,
    "start_time": "2022-08-08T15:58:51.144Z"
   },
   {
    "duration": 320,
    "start_time": "2022-08-08T15:58:51.354Z"
   },
   {
    "duration": 850,
    "start_time": "2022-08-08T15:58:51.676Z"
   },
   {
    "duration": 258,
    "start_time": "2022-08-08T15:58:52.528Z"
   },
   {
    "duration": 182,
    "start_time": "2022-08-08T15:58:52.788Z"
   },
   {
    "duration": 908,
    "start_time": "2022-08-08T15:58:52.972Z"
   },
   {
    "duration": 261,
    "start_time": "2022-08-08T15:58:53.882Z"
   },
   {
    "duration": 182,
    "start_time": "2022-08-08T15:58:54.145Z"
   },
   {
    "duration": 842,
    "start_time": "2022-08-08T15:58:54.329Z"
   },
   {
    "duration": 254,
    "start_time": "2022-08-08T15:58:55.173Z"
   },
   {
    "duration": 201,
    "start_time": "2022-08-08T15:58:55.430Z"
   },
   {
    "duration": 4,
    "start_time": "2022-08-08T15:58:55.633Z"
   },
   {
    "duration": 11,
    "start_time": "2022-08-08T15:58:55.638Z"
   },
   {
    "duration": 9,
    "start_time": "2022-08-08T15:58:55.651Z"
   },
   {
    "duration": 7,
    "start_time": "2022-08-08T15:58:55.661Z"
   },
   {
    "duration": 7,
    "start_time": "2022-08-08T15:58:55.669Z"
   },
   {
    "duration": 6,
    "start_time": "2022-08-08T15:58:55.678Z"
   },
   {
    "duration": 27,
    "start_time": "2022-08-08T15:58:55.685Z"
   },
   {
    "duration": 13,
    "start_time": "2022-08-08T15:58:55.714Z"
   },
   {
    "duration": 6,
    "start_time": "2022-08-08T15:58:55.729Z"
   },
   {
    "duration": 8,
    "start_time": "2022-08-08T15:58:55.737Z"
   },
   {
    "duration": 8,
    "start_time": "2022-08-08T15:58:55.747Z"
   },
   {
    "duration": 6,
    "start_time": "2022-08-08T15:58:55.757Z"
   },
   {
    "duration": 5,
    "start_time": "2022-08-08T15:58:55.765Z"
   },
   {
    "duration": 11,
    "start_time": "2022-08-08T15:58:55.772Z"
   },
   {
    "duration": 25,
    "start_time": "2022-08-08T15:58:55.785Z"
   },
   {
    "duration": 1338,
    "start_time": "2022-08-09T08:51:47.430Z"
   },
   {
    "duration": 184,
    "start_time": "2022-08-09T08:51:48.770Z"
   },
   {
    "duration": 18,
    "start_time": "2022-08-09T08:51:48.956Z"
   },
   {
    "duration": 15,
    "start_time": "2022-08-09T08:51:48.976Z"
   },
   {
    "duration": 4,
    "start_time": "2022-08-09T08:51:48.994Z"
   },
   {
    "duration": 11,
    "start_time": "2022-08-09T08:51:48.999Z"
   },
   {
    "duration": 79,
    "start_time": "2022-08-09T08:51:49.012Z"
   },
   {
    "duration": 10,
    "start_time": "2022-08-09T08:51:49.093Z"
   },
   {
    "duration": 5,
    "start_time": "2022-08-09T08:51:49.105Z"
   },
   {
    "duration": 5,
    "start_time": "2022-08-09T08:51:49.112Z"
   },
   {
    "duration": 7,
    "start_time": "2022-08-09T08:51:49.119Z"
   },
   {
    "duration": 22,
    "start_time": "2022-08-09T08:51:49.128Z"
   },
   {
    "duration": 21,
    "start_time": "2022-08-09T08:51:49.152Z"
   },
   {
    "duration": 18,
    "start_time": "2022-08-09T08:51:49.177Z"
   },
   {
    "duration": 5,
    "start_time": "2022-08-09T08:51:49.197Z"
   },
   {
    "duration": 7,
    "start_time": "2022-08-09T08:51:49.204Z"
   },
   {
    "duration": 6,
    "start_time": "2022-08-09T08:51:49.213Z"
   },
   {
    "duration": 52,
    "start_time": "2022-08-09T08:51:49.220Z"
   },
   {
    "duration": 5,
    "start_time": "2022-08-09T08:51:49.274Z"
   },
   {
    "duration": 6,
    "start_time": "2022-08-09T08:51:49.280Z"
   },
   {
    "duration": 301,
    "start_time": "2022-08-09T08:51:49.288Z"
   },
   {
    "duration": 18,
    "start_time": "2022-08-09T08:51:49.591Z"
   },
   {
    "duration": 3,
    "start_time": "2022-08-09T08:51:49.611Z"
   },
   {
    "duration": 567,
    "start_time": "2022-08-09T08:51:49.616Z"
   },
   {
    "duration": 7,
    "start_time": "2022-08-09T08:51:50.185Z"
   },
   {
    "duration": 379,
    "start_time": "2022-08-09T08:51:50.194Z"
   },
   {
    "duration": 389,
    "start_time": "2022-08-09T08:51:50.576Z"
   },
   {
    "duration": 412,
    "start_time": "2022-08-09T08:51:50.967Z"
   },
   {
    "duration": 329,
    "start_time": "2022-08-09T08:51:51.381Z"
   },
   {
    "duration": 318,
    "start_time": "2022-08-09T08:51:51.712Z"
   },
   {
    "duration": 205,
    "start_time": "2022-08-09T08:51:52.033Z"
   },
   {
    "duration": 227,
    "start_time": "2022-08-09T08:51:52.240Z"
   },
   {
    "duration": 337,
    "start_time": "2022-08-09T08:51:52.469Z"
   },
   {
    "duration": 934,
    "start_time": "2022-08-09T08:51:52.808Z"
   },
   {
    "duration": 296,
    "start_time": "2022-08-09T08:51:53.745Z"
   },
   {
    "duration": 196,
    "start_time": "2022-08-09T08:51:54.043Z"
   },
   {
    "duration": 941,
    "start_time": "2022-08-09T08:51:54.240Z"
   },
   {
    "duration": 276,
    "start_time": "2022-08-09T08:51:55.183Z"
   },
   {
    "duration": 195,
    "start_time": "2022-08-09T08:51:55.461Z"
   },
   {
    "duration": 890,
    "start_time": "2022-08-09T08:51:55.658Z"
   },
   {
    "duration": 322,
    "start_time": "2022-08-09T08:51:56.553Z"
   },
   {
    "duration": 208,
    "start_time": "2022-08-09T08:51:56.877Z"
   },
   {
    "duration": 3,
    "start_time": "2022-08-09T08:51:57.087Z"
   },
   {
    "duration": 7,
    "start_time": "2022-08-09T08:51:57.091Z"
   },
   {
    "duration": 5,
    "start_time": "2022-08-09T08:51:57.100Z"
   },
   {
    "duration": 7,
    "start_time": "2022-08-09T08:51:57.107Z"
   },
   {
    "duration": 7,
    "start_time": "2022-08-09T08:51:57.116Z"
   },
   {
    "duration": 6,
    "start_time": "2022-08-09T08:51:57.125Z"
   },
   {
    "duration": 7,
    "start_time": "2022-08-09T08:51:57.132Z"
   },
   {
    "duration": 7,
    "start_time": "2022-08-09T08:51:57.140Z"
   },
   {
    "duration": 10,
    "start_time": "2022-08-09T08:51:57.169Z"
   },
   {
    "duration": 6,
    "start_time": "2022-08-09T08:51:57.181Z"
   },
   {
    "duration": 6,
    "start_time": "2022-08-09T08:51:57.190Z"
   },
   {
    "duration": 7,
    "start_time": "2022-08-09T08:51:57.199Z"
   },
   {
    "duration": 9,
    "start_time": "2022-08-09T08:51:57.208Z"
   },
   {
    "duration": 6,
    "start_time": "2022-08-09T08:51:57.219Z"
   },
   {
    "duration": 4,
    "start_time": "2022-08-09T08:51:57.227Z"
   },
   {
    "duration": 113,
    "start_time": "2022-08-09T08:52:43.768Z"
   },
   {
    "duration": 1182,
    "start_time": "2022-08-09T08:53:47.693Z"
   },
   {
    "duration": 60,
    "start_time": "2022-08-09T08:53:48.877Z"
   },
   {
    "duration": 20,
    "start_time": "2022-08-09T08:53:48.938Z"
   },
   {
    "duration": 16,
    "start_time": "2022-08-09T08:53:48.960Z"
   },
   {
    "duration": 4,
    "start_time": "2022-08-09T08:53:48.978Z"
   },
   {
    "duration": 14,
    "start_time": "2022-08-09T08:53:48.983Z"
   },
   {
    "duration": 86,
    "start_time": "2022-08-09T08:53:48.998Z"
   },
   {
    "duration": 11,
    "start_time": "2022-08-09T08:53:49.086Z"
   },
   {
    "duration": 15,
    "start_time": "2022-08-09T08:53:49.099Z"
   },
   {
    "duration": 15,
    "start_time": "2022-08-09T08:53:49.116Z"
   },
   {
    "duration": 10,
    "start_time": "2022-08-09T08:53:49.132Z"
   },
   {
    "duration": 15,
    "start_time": "2022-08-09T08:53:49.144Z"
   },
   {
    "duration": 9,
    "start_time": "2022-08-09T08:53:49.161Z"
   },
   {
    "duration": 26,
    "start_time": "2022-08-09T08:53:49.174Z"
   },
   {
    "duration": 6,
    "start_time": "2022-08-09T08:53:49.202Z"
   },
   {
    "duration": 15,
    "start_time": "2022-08-09T08:53:49.210Z"
   },
   {
    "duration": 7,
    "start_time": "2022-08-09T08:53:49.228Z"
   },
   {
    "duration": 32,
    "start_time": "2022-08-09T08:53:49.237Z"
   },
   {
    "duration": 5,
    "start_time": "2022-08-09T08:53:49.271Z"
   },
   {
    "duration": 174,
    "start_time": "2022-08-09T08:53:49.278Z"
   },
   {
    "duration": 0,
    "start_time": "2022-08-09T08:53:49.455Z"
   },
   {
    "duration": 0,
    "start_time": "2022-08-09T08:53:49.457Z"
   },
   {
    "duration": 0,
    "start_time": "2022-08-09T08:53:49.458Z"
   },
   {
    "duration": 0,
    "start_time": "2022-08-09T08:53:49.460Z"
   },
   {
    "duration": 0,
    "start_time": "2022-08-09T08:53:49.461Z"
   },
   {
    "duration": 0,
    "start_time": "2022-08-09T08:53:49.463Z"
   },
   {
    "duration": 0,
    "start_time": "2022-08-09T08:53:49.465Z"
   },
   {
    "duration": 0,
    "start_time": "2022-08-09T08:53:49.466Z"
   },
   {
    "duration": 0,
    "start_time": "2022-08-09T08:53:49.468Z"
   },
   {
    "duration": 0,
    "start_time": "2022-08-09T08:53:49.470Z"
   },
   {
    "duration": 0,
    "start_time": "2022-08-09T08:53:49.471Z"
   },
   {
    "duration": 0,
    "start_time": "2022-08-09T08:53:49.473Z"
   },
   {
    "duration": 0,
    "start_time": "2022-08-09T08:53:49.474Z"
   },
   {
    "duration": 0,
    "start_time": "2022-08-09T08:53:49.476Z"
   },
   {
    "duration": 0,
    "start_time": "2022-08-09T08:53:49.477Z"
   },
   {
    "duration": 0,
    "start_time": "2022-08-09T08:53:49.478Z"
   },
   {
    "duration": 0,
    "start_time": "2022-08-09T08:53:49.479Z"
   },
   {
    "duration": 0,
    "start_time": "2022-08-09T08:53:49.480Z"
   },
   {
    "duration": 0,
    "start_time": "2022-08-09T08:53:49.482Z"
   },
   {
    "duration": 0,
    "start_time": "2022-08-09T08:53:49.483Z"
   },
   {
    "duration": 0,
    "start_time": "2022-08-09T08:53:49.484Z"
   },
   {
    "duration": 0,
    "start_time": "2022-08-09T08:53:49.485Z"
   },
   {
    "duration": 0,
    "start_time": "2022-08-09T08:53:49.486Z"
   },
   {
    "duration": 0,
    "start_time": "2022-08-09T08:53:49.487Z"
   },
   {
    "duration": 0,
    "start_time": "2022-08-09T08:53:49.489Z"
   },
   {
    "duration": 0,
    "start_time": "2022-08-09T08:53:49.491Z"
   },
   {
    "duration": 0,
    "start_time": "2022-08-09T08:53:49.492Z"
   },
   {
    "duration": 0,
    "start_time": "2022-08-09T08:53:49.493Z"
   },
   {
    "duration": 0,
    "start_time": "2022-08-09T08:53:49.495Z"
   },
   {
    "duration": 0,
    "start_time": "2022-08-09T08:53:49.496Z"
   },
   {
    "duration": 0,
    "start_time": "2022-08-09T08:53:49.498Z"
   },
   {
    "duration": 0,
    "start_time": "2022-08-09T08:53:49.500Z"
   },
   {
    "duration": 0,
    "start_time": "2022-08-09T08:53:49.501Z"
   },
   {
    "duration": 0,
    "start_time": "2022-08-09T08:53:49.502Z"
   },
   {
    "duration": 0,
    "start_time": "2022-08-09T08:53:49.507Z"
   },
   {
    "duration": 0,
    "start_time": "2022-08-09T08:53:49.568Z"
   },
   {
    "duration": 0,
    "start_time": "2022-08-09T08:53:49.569Z"
   },
   {
    "duration": 0,
    "start_time": "2022-08-09T08:53:49.570Z"
   },
   {
    "duration": 23,
    "start_time": "2022-08-09T08:54:08.730Z"
   },
   {
    "duration": 539,
    "start_time": "2022-08-09T08:54:42.927Z"
   },
   {
    "duration": 19,
    "start_time": "2022-08-09T08:55:49.822Z"
   },
   {
    "duration": 19,
    "start_time": "2022-08-09T08:56:34.178Z"
   },
   {
    "duration": 10,
    "start_time": "2022-08-09T08:57:08.770Z"
   },
   {
    "duration": 17,
    "start_time": "2022-08-09T08:57:23.158Z"
   },
   {
    "duration": 1171,
    "start_time": "2022-08-09T08:58:18.123Z"
   },
   {
    "duration": 57,
    "start_time": "2022-08-09T08:58:19.296Z"
   },
   {
    "duration": 20,
    "start_time": "2022-08-09T08:58:19.355Z"
   },
   {
    "duration": 16,
    "start_time": "2022-08-09T08:58:19.378Z"
   },
   {
    "duration": 4,
    "start_time": "2022-08-09T08:58:19.397Z"
   },
   {
    "duration": 12,
    "start_time": "2022-08-09T08:58:19.402Z"
   },
   {
    "duration": 85,
    "start_time": "2022-08-09T08:58:19.416Z"
   },
   {
    "duration": 12,
    "start_time": "2022-08-09T08:58:19.503Z"
   },
   {
    "duration": 8,
    "start_time": "2022-08-09T08:58:19.517Z"
   },
   {
    "duration": 28,
    "start_time": "2022-08-09T08:58:19.527Z"
   },
   {
    "duration": 11,
    "start_time": "2022-08-09T08:58:19.557Z"
   },
   {
    "duration": 8,
    "start_time": "2022-08-09T08:58:19.570Z"
   },
   {
    "duration": 8,
    "start_time": "2022-08-09T08:58:19.579Z"
   },
   {
    "duration": 19,
    "start_time": "2022-08-09T08:58:19.590Z"
   },
   {
    "duration": 5,
    "start_time": "2022-08-09T08:58:19.611Z"
   },
   {
    "duration": 7,
    "start_time": "2022-08-09T08:58:19.618Z"
   },
   {
    "duration": 9,
    "start_time": "2022-08-09T08:58:19.627Z"
   },
   {
    "duration": 51,
    "start_time": "2022-08-09T08:58:19.638Z"
   },
   {
    "duration": 6,
    "start_time": "2022-08-09T08:58:19.691Z"
   },
   {
    "duration": 22,
    "start_time": "2022-08-09T08:58:19.698Z"
   },
   {
    "duration": 6,
    "start_time": "2022-08-09T08:58:19.723Z"
   },
   {
    "duration": 309,
    "start_time": "2022-08-09T08:58:19.731Z"
   },
   {
    "duration": 31,
    "start_time": "2022-08-09T08:58:20.042Z"
   },
   {
    "duration": 2,
    "start_time": "2022-08-09T08:58:20.076Z"
   },
   {
    "duration": 559,
    "start_time": "2022-08-09T08:58:20.080Z"
   },
   {
    "duration": 8,
    "start_time": "2022-08-09T08:58:20.640Z"
   },
   {
    "duration": 401,
    "start_time": "2022-08-09T08:58:20.649Z"
   },
   {
    "duration": 402,
    "start_time": "2022-08-09T08:58:21.052Z"
   },
   {
    "duration": 468,
    "start_time": "2022-08-09T08:58:21.456Z"
   },
   {
    "duration": 342,
    "start_time": "2022-08-09T08:58:21.926Z"
   },
   {
    "duration": 330,
    "start_time": "2022-08-09T08:58:22.269Z"
   },
   {
    "duration": 229,
    "start_time": "2022-08-09T08:58:22.601Z"
   },
   {
    "duration": 239,
    "start_time": "2022-08-09T08:58:22.832Z"
   },
   {
    "duration": 362,
    "start_time": "2022-08-09T08:58:23.073Z"
   },
   {
    "duration": 921,
    "start_time": "2022-08-09T08:58:23.436Z"
   },
   {
    "duration": 299,
    "start_time": "2022-08-09T08:58:24.359Z"
   },
   {
    "duration": 200,
    "start_time": "2022-08-09T08:58:24.659Z"
   },
   {
    "duration": 1021,
    "start_time": "2022-08-09T08:58:24.868Z"
   },
   {
    "duration": 317,
    "start_time": "2022-08-09T08:58:25.890Z"
   },
   {
    "duration": 200,
    "start_time": "2022-08-09T08:58:26.209Z"
   },
   {
    "duration": 1011,
    "start_time": "2022-08-09T08:58:26.414Z"
   },
   {
    "duration": 284,
    "start_time": "2022-08-09T08:58:27.426Z"
   },
   {
    "duration": 213,
    "start_time": "2022-08-09T08:58:27.712Z"
   },
   {
    "duration": 3,
    "start_time": "2022-08-09T08:58:27.927Z"
   },
   {
    "duration": 8,
    "start_time": "2022-08-09T08:58:27.932Z"
   },
   {
    "duration": 15,
    "start_time": "2022-08-09T08:58:27.941Z"
   },
   {
    "duration": 12,
    "start_time": "2022-08-09T08:58:27.957Z"
   },
   {
    "duration": 5,
    "start_time": "2022-08-09T08:58:27.971Z"
   },
   {
    "duration": 10,
    "start_time": "2022-08-09T08:58:27.978Z"
   },
   {
    "duration": 10,
    "start_time": "2022-08-09T08:58:27.989Z"
   },
   {
    "duration": 11,
    "start_time": "2022-08-09T08:58:28.001Z"
   },
   {
    "duration": 7,
    "start_time": "2022-08-09T08:58:28.014Z"
   },
   {
    "duration": 6,
    "start_time": "2022-08-09T08:58:28.023Z"
   },
   {
    "duration": 6,
    "start_time": "2022-08-09T08:58:28.031Z"
   },
   {
    "duration": 31,
    "start_time": "2022-08-09T08:58:28.038Z"
   },
   {
    "duration": 4,
    "start_time": "2022-08-09T08:58:28.071Z"
   },
   {
    "duration": 6,
    "start_time": "2022-08-09T08:58:28.077Z"
   },
   {
    "duration": 5,
    "start_time": "2022-08-09T08:58:28.085Z"
   },
   {
    "duration": 1238,
    "start_time": "2022-08-09T14:50:31.815Z"
   },
   {
    "duration": 92,
    "start_time": "2022-08-09T14:50:33.054Z"
   },
   {
    "duration": 17,
    "start_time": "2022-08-09T14:50:33.148Z"
   },
   {
    "duration": 13,
    "start_time": "2022-08-09T14:50:33.167Z"
   },
   {
    "duration": 2,
    "start_time": "2022-08-09T14:50:33.182Z"
   },
   {
    "duration": 12,
    "start_time": "2022-08-09T14:50:33.186Z"
   },
   {
    "duration": 48,
    "start_time": "2022-08-09T14:50:33.200Z"
   },
   {
    "duration": 11,
    "start_time": "2022-08-09T14:50:33.249Z"
   },
   {
    "duration": 5,
    "start_time": "2022-08-09T14:50:33.261Z"
   },
   {
    "duration": 6,
    "start_time": "2022-08-09T14:50:33.268Z"
   },
   {
    "duration": 10,
    "start_time": "2022-08-09T14:50:33.275Z"
   },
   {
    "duration": 4,
    "start_time": "2022-08-09T14:50:33.302Z"
   },
   {
    "duration": 12,
    "start_time": "2022-08-09T14:50:33.308Z"
   },
   {
    "duration": 23,
    "start_time": "2022-08-09T14:50:33.321Z"
   },
   {
    "duration": 4,
    "start_time": "2022-08-09T14:50:33.346Z"
   },
   {
    "duration": 8,
    "start_time": "2022-08-09T14:50:33.352Z"
   },
   {
    "duration": 10,
    "start_time": "2022-08-09T14:50:33.361Z"
   },
   {
    "duration": 27,
    "start_time": "2022-08-09T14:50:33.373Z"
   },
   {
    "duration": 4,
    "start_time": "2022-08-09T14:50:33.401Z"
   },
   {
    "duration": 29,
    "start_time": "2022-08-09T14:50:33.407Z"
   },
   {
    "duration": 10,
    "start_time": "2022-08-09T14:50:33.438Z"
   },
   {
    "duration": 230,
    "start_time": "2022-08-09T14:50:33.450Z"
   },
   {
    "duration": 21,
    "start_time": "2022-08-09T14:50:33.682Z"
   },
   {
    "duration": 2,
    "start_time": "2022-08-09T14:50:33.704Z"
   },
   {
    "duration": 476,
    "start_time": "2022-08-09T14:50:33.708Z"
   },
   {
    "duration": 5,
    "start_time": "2022-08-09T14:50:34.187Z"
   },
   {
    "duration": 302,
    "start_time": "2022-08-09T14:50:34.200Z"
   },
   {
    "duration": 317,
    "start_time": "2022-08-09T14:50:34.505Z"
   },
   {
    "duration": 349,
    "start_time": "2022-08-09T14:50:34.823Z"
   },
   {
    "duration": 285,
    "start_time": "2022-08-09T14:50:35.174Z"
   },
   {
    "duration": 262,
    "start_time": "2022-08-09T14:50:35.460Z"
   },
   {
    "duration": 179,
    "start_time": "2022-08-09T14:50:35.724Z"
   },
   {
    "duration": 195,
    "start_time": "2022-08-09T14:50:35.905Z"
   },
   {
    "duration": 288,
    "start_time": "2022-08-09T14:50:36.102Z"
   },
   {
    "duration": 778,
    "start_time": "2022-08-09T14:50:36.393Z"
   },
   {
    "duration": 239,
    "start_time": "2022-08-09T14:50:37.172Z"
   },
   {
    "duration": 166,
    "start_time": "2022-08-09T14:50:37.413Z"
   },
   {
    "duration": 817,
    "start_time": "2022-08-09T14:50:37.580Z"
   },
   {
    "duration": 244,
    "start_time": "2022-08-09T14:50:38.399Z"
   },
   {
    "duration": 159,
    "start_time": "2022-08-09T14:50:38.644Z"
   },
   {
    "duration": 717,
    "start_time": "2022-08-09T14:50:38.804Z"
   },
   {
    "duration": 218,
    "start_time": "2022-08-09T14:50:39.522Z"
   },
   {
    "duration": 164,
    "start_time": "2022-08-09T14:50:39.741Z"
   },
   {
    "duration": 3,
    "start_time": "2022-08-09T14:50:39.907Z"
   },
   {
    "duration": 13,
    "start_time": "2022-08-09T14:50:39.912Z"
   },
   {
    "duration": 9,
    "start_time": "2022-08-09T14:50:39.926Z"
   },
   {
    "duration": 8,
    "start_time": "2022-08-09T14:50:39.937Z"
   },
   {
    "duration": 8,
    "start_time": "2022-08-09T14:50:39.946Z"
   },
   {
    "duration": 5,
    "start_time": "2022-08-09T14:50:39.956Z"
   },
   {
    "duration": 11,
    "start_time": "2022-08-09T14:50:39.962Z"
   },
   {
    "duration": 10,
    "start_time": "2022-08-09T14:50:39.974Z"
   },
   {
    "duration": 6,
    "start_time": "2022-08-09T14:50:39.986Z"
   },
   {
    "duration": 15,
    "start_time": "2022-08-09T14:50:39.993Z"
   },
   {
    "duration": 14,
    "start_time": "2022-08-09T14:50:40.009Z"
   },
   {
    "duration": 35,
    "start_time": "2022-08-09T14:50:40.024Z"
   },
   {
    "duration": 8,
    "start_time": "2022-08-09T14:50:40.060Z"
   },
   {
    "duration": 10,
    "start_time": "2022-08-09T14:50:40.070Z"
   },
   {
    "duration": 14,
    "start_time": "2022-08-09T14:50:40.081Z"
   },
   {
    "duration": 5,
    "start_time": "2022-08-09T15:02:38.666Z"
   },
   {
    "duration": 4,
    "start_time": "2022-08-09T15:02:56.871Z"
   },
   {
    "duration": 292,
    "start_time": "2022-08-09T15:03:37.138Z"
   },
   {
    "duration": 9,
    "start_time": "2022-08-09T15:04:04.524Z"
   },
   {
    "duration": 195,
    "start_time": "2022-08-09T15:04:13.443Z"
   },
   {
    "duration": 4,
    "start_time": "2022-08-09T15:04:37.499Z"
   },
   {
    "duration": 194,
    "start_time": "2022-08-09T15:04:42.013Z"
   },
   {
    "duration": 4,
    "start_time": "2022-08-09T15:13:55.930Z"
   },
   {
    "duration": 4,
    "start_time": "2022-08-09T15:14:06.872Z"
   },
   {
    "duration": 4,
    "start_time": "2022-08-09T15:15:48.419Z"
   },
   {
    "duration": 287,
    "start_time": "2022-08-09T15:15:49.546Z"
   },
   {
    "duration": 5,
    "start_time": "2022-08-09T15:17:34.978Z"
   },
   {
    "duration": 10,
    "start_time": "2022-08-09T15:25:51.748Z"
   },
   {
    "duration": 4,
    "start_time": "2022-08-09T15:25:57.398Z"
   },
   {
    "duration": 13,
    "start_time": "2022-08-09T15:25:58.229Z"
   },
   {
    "duration": 3,
    "start_time": "2022-08-09T15:26:04.269Z"
   },
   {
    "duration": 16,
    "start_time": "2022-08-09T15:26:04.967Z"
   },
   {
    "duration": 55,
    "start_time": "2022-08-09T15:27:31.258Z"
   },
   {
    "duration": 17,
    "start_time": "2022-08-09T15:27:34.099Z"
   },
   {
    "duration": 50,
    "start_time": "2022-08-09T15:31:13.131Z"
   },
   {
    "duration": 4,
    "start_time": "2022-08-09T15:31:18.786Z"
   },
   {
    "duration": 16,
    "start_time": "2022-08-09T15:32:02.466Z"
   },
   {
    "duration": 12,
    "start_time": "2022-08-09T15:33:43.167Z"
   },
   {
    "duration": 4,
    "start_time": "2022-08-09T15:33:50.897Z"
   },
   {
    "duration": 18,
    "start_time": "2022-08-09T15:33:51.704Z"
   },
   {
    "duration": 15,
    "start_time": "2022-08-09T15:36:26.540Z"
   },
   {
    "duration": 15,
    "start_time": "2022-08-09T15:36:50.804Z"
   },
   {
    "duration": 3,
    "start_time": "2022-08-09T15:38:47.422Z"
   },
   {
    "duration": 10,
    "start_time": "2022-08-09T15:38:48.206Z"
   },
   {
    "duration": 9,
    "start_time": "2022-08-09T15:38:57.348Z"
   },
   {
    "duration": 4,
    "start_time": "2022-08-09T15:40:01.396Z"
   },
   {
    "duration": 433,
    "start_time": "2022-08-09T15:40:02.803Z"
   },
   {
    "duration": 5,
    "start_time": "2022-08-09T15:40:09.652Z"
   },
   {
    "duration": 340,
    "start_time": "2022-08-09T15:40:11.966Z"
   },
   {
    "duration": 5,
    "start_time": "2022-08-09T15:40:27.591Z"
   },
   {
    "duration": 306,
    "start_time": "2022-08-09T15:40:28.964Z"
   },
   {
    "duration": 8,
    "start_time": "2022-08-09T15:41:55.271Z"
   },
   {
    "duration": 4,
    "start_time": "2022-08-09T15:41:59.621Z"
   },
   {
    "duration": 9,
    "start_time": "2022-08-09T15:42:00.268Z"
   },
   {
    "duration": 293,
    "start_time": "2022-08-09T15:42:04.524Z"
   },
   {
    "duration": 5,
    "start_time": "2022-08-09T15:42:16.559Z"
   },
   {
    "duration": 323,
    "start_time": "2022-08-09T15:42:17.445Z"
   },
   {
    "duration": 4,
    "start_time": "2022-08-09T15:42:27.209Z"
   },
   {
    "duration": 328,
    "start_time": "2022-08-09T15:42:28.572Z"
   },
   {
    "duration": 4,
    "start_time": "2022-08-09T15:43:49.488Z"
   },
   {
    "duration": 239,
    "start_time": "2022-08-09T15:43:50.167Z"
   },
   {
    "duration": 4,
    "start_time": "2022-08-09T15:46:29.185Z"
   },
   {
    "duration": 202,
    "start_time": "2022-08-09T15:46:29.800Z"
   },
   {
    "duration": 4,
    "start_time": "2022-08-09T15:46:39.136Z"
   },
   {
    "duration": 192,
    "start_time": "2022-08-09T15:46:39.807Z"
   },
   {
    "duration": 3,
    "start_time": "2022-08-09T15:46:46.674Z"
   },
   {
    "duration": 249,
    "start_time": "2022-08-09T15:46:47.240Z"
   },
   {
    "duration": 5,
    "start_time": "2022-08-09T15:54:19.476Z"
   },
   {
    "duration": 276,
    "start_time": "2022-08-09T15:54:20.427Z"
   },
   {
    "duration": 4,
    "start_time": "2022-08-09T15:55:25.541Z"
   },
   {
    "duration": 267,
    "start_time": "2022-08-09T15:55:26.542Z"
   },
   {
    "duration": 186,
    "start_time": "2022-08-09T15:57:40.245Z"
   },
   {
    "duration": 3,
    "start_time": "2022-08-09T15:57:43.669Z"
   },
   {
    "duration": 183,
    "start_time": "2022-08-09T15:57:44.269Z"
   },
   {
    "duration": 3,
    "start_time": "2022-08-09T15:57:51.357Z"
   },
   {
    "duration": 244,
    "start_time": "2022-08-09T15:57:51.942Z"
   },
   {
    "duration": 304,
    "start_time": "2022-08-09T15:58:54.095Z"
   },
   {
    "duration": 365,
    "start_time": "2022-08-09T15:59:14.031Z"
   },
   {
    "duration": 4,
    "start_time": "2022-08-09T16:01:10.393Z"
   },
   {
    "duration": 4,
    "start_time": "2022-08-09T16:02:21.328Z"
   },
   {
    "duration": 3,
    "start_time": "2022-08-09T16:02:50.344Z"
   },
   {
    "duration": 19,
    "start_time": "2022-08-09T16:03:20.361Z"
   },
   {
    "duration": 224,
    "start_time": "2022-08-09T16:03:29.227Z"
   },
   {
    "duration": 3,
    "start_time": "2022-08-09T16:03:44.316Z"
   },
   {
    "duration": 4,
    "start_time": "2022-08-09T16:03:51.840Z"
   },
   {
    "duration": 225,
    "start_time": "2022-08-09T16:03:52.495Z"
   },
   {
    "duration": 207,
    "start_time": "2022-08-09T16:03:57.871Z"
   },
   {
    "duration": 3,
    "start_time": "2022-08-09T16:06:37.049Z"
   },
   {
    "duration": 3,
    "start_time": "2022-08-09T16:06:37.898Z"
   },
   {
    "duration": 310,
    "start_time": "2022-08-09T16:07:26.922Z"
   },
   {
    "duration": 335,
    "start_time": "2022-08-09T16:08:09.834Z"
   },
   {
    "duration": 348,
    "start_time": "2022-08-09T16:08:31.354Z"
   },
   {
    "duration": 314,
    "start_time": "2022-08-09T16:08:44.916Z"
   },
   {
    "duration": 534,
    "start_time": "2022-08-09T16:08:51.243Z"
   },
   {
    "duration": 372,
    "start_time": "2022-08-09T16:08:59.754Z"
   },
   {
    "duration": 310,
    "start_time": "2022-08-09T16:09:10.321Z"
   },
   {
    "duration": 324,
    "start_time": "2022-08-09T16:09:16.867Z"
   },
   {
    "duration": 4,
    "start_time": "2022-08-09T16:09:57.695Z"
   },
   {
    "duration": 189,
    "start_time": "2022-08-09T16:10:02.786Z"
   },
   {
    "duration": 4,
    "start_time": "2022-08-09T16:10:14.210Z"
   },
   {
    "duration": 3,
    "start_time": "2022-08-09T16:10:19.034Z"
   },
   {
    "duration": 4,
    "start_time": "2022-08-09T16:10:19.691Z"
   },
   {
    "duration": 210,
    "start_time": "2022-08-09T16:10:21.571Z"
   },
   {
    "duration": 4,
    "start_time": "2022-08-09T16:10:39.260Z"
   },
   {
    "duration": 310,
    "start_time": "2022-08-09T16:10:40.259Z"
   },
   {
    "duration": 3,
    "start_time": "2022-08-09T16:11:04.459Z"
   },
   {
    "duration": 353,
    "start_time": "2022-08-09T16:11:06.239Z"
   },
   {
    "duration": 258,
    "start_time": "2022-08-09T16:11:13.971Z"
   },
   {
    "duration": 3,
    "start_time": "2022-08-09T16:11:17.003Z"
   },
   {
    "duration": 283,
    "start_time": "2022-08-09T16:11:18.875Z"
   },
   {
    "duration": 295,
    "start_time": "2022-08-09T16:11:28.948Z"
   },
   {
    "duration": 3,
    "start_time": "2022-08-09T16:11:31.885Z"
   },
   {
    "duration": 305,
    "start_time": "2022-08-09T16:11:33.580Z"
   },
   {
    "duration": 293,
    "start_time": "2022-08-09T16:12:06.507Z"
   },
   {
    "duration": 425,
    "start_time": "2022-08-09T16:12:40.300Z"
   },
   {
    "duration": 310,
    "start_time": "2022-08-09T16:12:59.100Z"
   },
   {
    "duration": 347,
    "start_time": "2022-08-09T16:13:09.981Z"
   },
   {
    "duration": 322,
    "start_time": "2022-08-09T16:14:06.932Z"
   },
   {
    "duration": 307,
    "start_time": "2022-08-09T16:14:33.487Z"
   },
   {
    "duration": 86,
    "start_time": "2022-08-09T16:16:15.264Z"
   },
   {
    "duration": 8,
    "start_time": "2022-08-09T16:16:19.464Z"
   },
   {
    "duration": 17,
    "start_time": "2022-08-09T16:16:32.789Z"
   },
   {
    "duration": 104,
    "start_time": "2022-08-09T16:17:17.326Z"
   },
   {
    "duration": 3,
    "start_time": "2022-08-09T16:18:24.421Z"
   },
   {
    "duration": 4,
    "start_time": "2022-08-09T16:18:25.285Z"
   },
   {
    "duration": 4,
    "start_time": "2022-08-09T16:19:29.033Z"
   },
   {
    "duration": 232,
    "start_time": "2022-08-09T16:20:34.145Z"
   },
   {
    "duration": 316,
    "start_time": "2022-08-09T16:20:39.375Z"
   },
   {
    "duration": 223,
    "start_time": "2022-08-09T16:21:23.299Z"
   },
   {
    "duration": 208,
    "start_time": "2022-08-09T16:22:06.514Z"
   },
   {
    "duration": 5,
    "start_time": "2022-08-09T16:23:54.419Z"
   },
   {
    "duration": 235,
    "start_time": "2022-08-09T16:24:22.336Z"
   },
   {
    "duration": 3,
    "start_time": "2022-08-09T16:27:44.884Z"
   },
   {
    "duration": 9,
    "start_time": "2022-08-09T16:28:27.742Z"
   },
   {
    "duration": 4,
    "start_time": "2022-08-09T16:28:30.671Z"
   },
   {
    "duration": 313,
    "start_time": "2022-08-09T16:28:32.267Z"
   },
   {
    "duration": 322,
    "start_time": "2022-08-09T16:29:11.375Z"
   },
   {
    "duration": 308,
    "start_time": "2022-08-09T16:29:32.563Z"
   },
   {
    "duration": 316,
    "start_time": "2022-08-09T16:29:42.876Z"
   },
   {
    "duration": 5,
    "start_time": "2022-08-09T16:29:55.460Z"
   },
   {
    "duration": 355,
    "start_time": "2022-08-09T16:30:33.861Z"
   },
   {
    "duration": 6,
    "start_time": "2022-08-09T16:31:21.414Z"
   },
   {
    "duration": 5,
    "start_time": "2022-08-09T16:32:13.311Z"
   },
   {
    "duration": 227,
    "start_time": "2022-08-09T16:32:24.448Z"
   },
   {
    "duration": 226,
    "start_time": "2022-08-09T16:32:45.121Z"
   },
   {
    "duration": 219,
    "start_time": "2022-08-09T16:33:02.831Z"
   },
   {
    "duration": 3,
    "start_time": "2022-08-09T16:33:29.176Z"
   },
   {
    "duration": 104,
    "start_time": "2022-08-09T16:33:47.625Z"
   },
   {
    "duration": 109,
    "start_time": "2022-08-09T16:34:10.079Z"
   },
   {
    "duration": 109,
    "start_time": "2022-08-09T16:34:28.146Z"
   },
   {
    "duration": 983,
    "start_time": "2022-08-09T16:37:23.653Z"
   },
   {
    "duration": 50,
    "start_time": "2022-08-09T16:37:24.638Z"
   },
   {
    "duration": 16,
    "start_time": "2022-08-09T16:37:24.690Z"
   },
   {
    "duration": 24,
    "start_time": "2022-08-09T16:37:24.707Z"
   },
   {
    "duration": 5,
    "start_time": "2022-08-09T16:37:24.733Z"
   },
   {
    "duration": 13,
    "start_time": "2022-08-09T16:37:24.740Z"
   },
   {
    "duration": 50,
    "start_time": "2022-08-09T16:37:24.754Z"
   },
   {
    "duration": 9,
    "start_time": "2022-08-09T16:37:24.805Z"
   },
   {
    "duration": 6,
    "start_time": "2022-08-09T16:37:24.815Z"
   },
   {
    "duration": 9,
    "start_time": "2022-08-09T16:37:24.823Z"
   },
   {
    "duration": 10,
    "start_time": "2022-08-09T16:37:24.834Z"
   },
   {
    "duration": 12,
    "start_time": "2022-08-09T16:37:24.846Z"
   },
   {
    "duration": 12,
    "start_time": "2022-08-09T16:37:24.860Z"
   },
   {
    "duration": 19,
    "start_time": "2022-08-09T16:37:24.873Z"
   },
   {
    "duration": 4,
    "start_time": "2022-08-09T16:37:24.894Z"
   },
   {
    "duration": 5,
    "start_time": "2022-08-09T16:37:24.899Z"
   },
   {
    "duration": 6,
    "start_time": "2022-08-09T16:37:24.906Z"
   },
   {
    "duration": 23,
    "start_time": "2022-08-09T16:37:24.913Z"
   },
   {
    "duration": 5,
    "start_time": "2022-08-09T16:37:24.937Z"
   },
   {
    "duration": 19,
    "start_time": "2022-08-09T16:37:24.943Z"
   },
   {
    "duration": 8,
    "start_time": "2022-08-09T16:37:24.964Z"
   },
   {
    "duration": 242,
    "start_time": "2022-08-09T16:37:24.973Z"
   },
   {
    "duration": 18,
    "start_time": "2022-08-09T16:37:25.217Z"
   },
   {
    "duration": 2,
    "start_time": "2022-08-09T16:37:25.237Z"
   },
   {
    "duration": 450,
    "start_time": "2022-08-09T16:37:25.241Z"
   },
   {
    "duration": 10,
    "start_time": "2022-08-09T16:37:25.692Z"
   },
   {
    "duration": 301,
    "start_time": "2022-08-09T16:37:25.703Z"
   },
   {
    "duration": 318,
    "start_time": "2022-08-09T16:37:26.009Z"
   },
   {
    "duration": 345,
    "start_time": "2022-08-09T16:37:26.329Z"
   },
   {
    "duration": 263,
    "start_time": "2022-08-09T16:37:26.675Z"
   },
   {
    "duration": 264,
    "start_time": "2022-08-09T16:37:26.940Z"
   },
   {
    "duration": 175,
    "start_time": "2022-08-09T16:37:27.205Z"
   },
   {
    "duration": 182,
    "start_time": "2022-08-09T16:37:27.382Z"
   },
   {
    "duration": 289,
    "start_time": "2022-08-09T16:37:27.565Z"
   },
   {
    "duration": 5,
    "start_time": "2022-08-09T16:37:27.856Z"
   },
   {
    "duration": 12,
    "start_time": "2022-08-09T16:37:27.863Z"
   },
   {
    "duration": 7,
    "start_time": "2022-08-09T16:37:27.877Z"
   },
   {
    "duration": 345,
    "start_time": "2022-08-09T16:37:27.886Z"
   },
   {
    "duration": 240,
    "start_time": "2022-08-09T16:37:28.233Z"
   },
   {
    "duration": 112,
    "start_time": "2022-08-09T16:37:28.474Z"
   },
   {
    "duration": 394,
    "start_time": "2022-08-09T16:37:28.588Z"
   },
   {
    "duration": 244,
    "start_time": "2022-08-09T16:37:28.984Z"
   },
   {
    "duration": 105,
    "start_time": "2022-08-09T16:37:29.230Z"
   },
   {
    "duration": 300,
    "start_time": "2022-08-09T16:37:29.337Z"
   },
   {
    "duration": 218,
    "start_time": "2022-08-09T16:37:29.638Z"
   },
   {
    "duration": 100,
    "start_time": "2022-08-09T16:37:29.857Z"
   },
   {
    "duration": 2,
    "start_time": "2022-08-09T16:37:29.959Z"
   },
   {
    "duration": 10,
    "start_time": "2022-08-09T16:37:29.962Z"
   },
   {
    "duration": 8,
    "start_time": "2022-08-09T16:37:29.973Z"
   },
   {
    "duration": 6,
    "start_time": "2022-08-09T16:37:29.983Z"
   },
   {
    "duration": 9,
    "start_time": "2022-08-09T16:37:29.991Z"
   },
   {
    "duration": 2,
    "start_time": "2022-08-09T16:37:30.002Z"
   },
   {
    "duration": 6,
    "start_time": "2022-08-09T16:37:30.006Z"
   },
   {
    "duration": 31,
    "start_time": "2022-08-09T16:37:30.014Z"
   },
   {
    "duration": 6,
    "start_time": "2022-08-09T16:37:30.047Z"
   },
   {
    "duration": 9,
    "start_time": "2022-08-09T16:37:30.055Z"
   },
   {
    "duration": 12,
    "start_time": "2022-08-09T16:37:30.066Z"
   },
   {
    "duration": 8,
    "start_time": "2022-08-09T16:37:30.079Z"
   },
   {
    "duration": 12,
    "start_time": "2022-08-09T16:37:30.089Z"
   },
   {
    "duration": 15,
    "start_time": "2022-08-09T16:37:30.102Z"
   },
   {
    "duration": 29,
    "start_time": "2022-08-09T16:37:30.119Z"
   }
  ],
  "kernelspec": {
   "display_name": "Python 3 (ipykernel)",
   "language": "python",
   "name": "python3"
  },
  "language_info": {
   "codemirror_mode": {
    "name": "ipython",
    "version": 3
   },
   "file_extension": ".py",
   "mimetype": "text/x-python",
   "name": "python",
   "nbconvert_exporter": "python",
   "pygments_lexer": "ipython3",
   "version": "3.9.12"
  },
  "toc": {
   "base_numbering": 1,
   "nav_menu": {},
   "number_sections": true,
   "sideBar": true,
   "skip_h1_title": true,
   "title_cell": "Содержание",
   "title_sidebar": "Contents",
   "toc_cell": true,
   "toc_position": {},
   "toc_section_display": true,
   "toc_window_display": false
  }
 },
 "nbformat": 4,
 "nbformat_minor": 2
}

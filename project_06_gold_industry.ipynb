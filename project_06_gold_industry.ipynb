{
 "cells": [
  {
   "cell_type": "markdown",
   "metadata": {
    "toc": true
   },
   "source": [
    "<h1>Содержание<span class=\"tocSkip\"></span></h1>\n",
    "<div class=\"toc\"><ul class=\"toc-item\"><li><span><a href=\"#Подготовка-данных\" data-toc-modified-id=\"Подготовка-данных-1\"><span class=\"toc-item-num\">1&nbsp;&nbsp;</span>Подготовка данных</a></span></li><li><span><a href=\"#Анализ-данных\" data-toc-modified-id=\"Анализ-данных-2\"><span class=\"toc-item-num\">2&nbsp;&nbsp;</span>Анализ данных</a></span></li><li><span><a href=\"#Модель\" data-toc-modified-id=\"Модель-3\"><span class=\"toc-item-num\">3&nbsp;&nbsp;</span>Модель</a></span><ul class=\"toc-item\"><li><span><a href=\"#Метрика-качества\" data-toc-modified-id=\"Метрика-качества-3.1\"><span class=\"toc-item-num\">3.1&nbsp;&nbsp;</span>Метрика качества</a></span></li><li><span><a href=\"#Линейная-регрессия\" data-toc-modified-id=\"Линейная-регрессия-3.2\"><span class=\"toc-item-num\">3.2&nbsp;&nbsp;</span>Линейная регрессия</a></span></li><li><span><a href=\"#Дерево-решений\" data-toc-modified-id=\"Дерево-решений-3.3\"><span class=\"toc-item-num\">3.3&nbsp;&nbsp;</span>Дерево решений</a></span></li><li><span><a href=\"#Случайный-лес\" data-toc-modified-id=\"Случайный-лес-3.4\"><span class=\"toc-item-num\">3.4&nbsp;&nbsp;</span>Случайный лес</a></span></li><li><span><a href=\"#Dummy-модель\" data-toc-modified-id=\"Dummy-модель-3.5\"><span class=\"toc-item-num\">3.5&nbsp;&nbsp;</span>Dummy-модель</a></span></li><li><span><a href=\"#Проверка-модели\" data-toc-modified-id=\"Проверка-модели-3.6\"><span class=\"toc-item-num\">3.6&nbsp;&nbsp;</span>Проверка модели</a></span></li></ul></li><li><span><a href=\"#Чек-лист-готовности-проекта\" data-toc-modified-id=\"Чек-лист-готовности-проекта-4\"><span class=\"toc-item-num\">4&nbsp;&nbsp;</span>Чек-лист готовности проекта</a></span></li></ul></div>"
   ]
  },
  {
   "cell_type": "markdown",
   "metadata": {},
   "source": [
    "# Восстановление золота из руды"
   ]
  },
  {
   "cell_type": "markdown",
   "metadata": {},
   "source": [
    "Необходимо подготовить прототип модели машинного обучения для компании, которая разрабатывает решения для эффективной работы промышленных предприятий.\n",
    "\n",
    "Модель должна предсказать коэффициент восстановления золота из золотосодержащей руды. В распоряжении данные с параметрами добычи и очистки. \n",
    "\n",
    "Модель поможет оптимизировать производство, чтобы не запускать предприятие с убыточными характеристиками."
   ]
  },
  {
   "cell_type": "markdown",
   "metadata": {},
   "source": [
    "**Описание данных**\n",
    "\n",
    "Стадии очистки золота:\n",
    "1. Флотация\n",
    "2. Очистка\n",
    "    - первичная\n",
    "    - вторичная\n",
    "    \n",
    "Наименование признаков имеет следующий вид:\n",
    "[этап].[тип_параметра].[название_параметра]\n",
    "\n",
    "Возможные значения для блока [этап]:\n",
    "- rougher — флотация\n",
    "- primary_cleaner — первичная очистка\n",
    "- secondary_cleaner — вторичная очистка\n",
    "- final — финальные характеристики\n",
    "\n",
    "Возможные значения для блока [тип_параметра]:\n",
    "- input — параметры сырья\n",
    "- output — параметры продукта\n",
    "- state — параметры, характеризующие текущее состояние этапа\n",
    "- calculation — расчётные характеристики"
   ]
  },
  {
   "cell_type": "markdown",
   "metadata": {},
   "source": [
    "## Подготовка данных"
   ]
  },
  {
   "cell_type": "markdown",
   "metadata": {},
   "source": [
    "В первую очередь импортируем необходимые библиотеки и инструменты для исследования."
   ]
  },
  {
   "cell_type": "code",
   "execution_count": 1,
   "metadata": {},
   "outputs": [],
   "source": [
    "import pandas as pd\n",
    "import numpy as np\n",
    "import seaborn as sns\n",
    "import matplotlib.pyplot as plt\n",
    "\n",
    "from sklearn.tree import DecisionTreeRegressor\n",
    "from sklearn.ensemble import RandomForestRegressor\n",
    "from sklearn.linear_model import LinearRegression\n",
    "from sklearn.dummy import DummyRegressor\n",
    "from sklearn.metrics import mean_absolute_error, mean_squared_error, r2_score, make_scorer\n",
    "from sklearn.model_selection import GridSearchCV, cross_val_score\n",
    "from sklearn.preprocessing import StandardScaler"
   ]
  },
  {
   "cell_type": "markdown",
   "metadata": {},
   "source": [
    "Сохраним все датасеты в соответствующих переменных."
   ]
  },
  {
   "cell_type": "code",
   "execution_count": 2,
   "metadata": {},
   "outputs": [],
   "source": [
    "df_train = pd.read_csv('gold_recovery_train.csv')\n",
    "df_test = pd.read_csv('gold_recovery_test.csv')\n",
    "df_full = pd.read_csv('gold_recovery_full.csv')"
   ]
  },
  {
   "cell_type": "markdown",
   "metadata": {},
   "source": [
    "Напишем функцию data_info для вывода информации о таблице:\n",
    "- первые 5 строк\n",
    "- основная информация о таблице\n",
    "- % пропусков в каждом столбце\n",
    "- количество полных дубликатов\n",
    "- количество дубликатов в столбце date"
   ]
  },
  {
   "cell_type": "code",
   "execution_count": 3,
   "metadata": {},
   "outputs": [],
   "source": [
    "def data_info(data):\n",
    "    print('Первые пять строк таблицы:')\n",
    "    display(data.head().T)\n",
    "    print()\n",
    "    print('Основная информация о таблице:')\n",
    "    data.info()\n",
    "    print()\n",
    "    print('Процент пропущенных значений в каждом столбце:')\n",
    "    display(pd.DataFrame(round((data.isna().mean()*100),2)).style.background_gradient('coolwarm'))\n",
    "    print()\n",
    "    print('Количество полных дубликатов:', data.duplicated().sum())\n",
    "    print()\n",
    "    print('Количество дубликатов в столбце date:', data['date'].duplicated().sum())"
   ]
  },
  {
   "cell_type": "code",
   "execution_count": 4,
   "metadata": {
    "scrolled": true
   },
   "outputs": [
    {
     "name": "stdout",
     "output_type": "stream",
     "text": [
      "Первые пять строк таблицы:\n"
     ]
    },
    {
     "data": {
      "text/html": [
       "<div>\n",
       "<style scoped>\n",
       "    .dataframe tbody tr th:only-of-type {\n",
       "        vertical-align: middle;\n",
       "    }\n",
       "\n",
       "    .dataframe tbody tr th {\n",
       "        vertical-align: top;\n",
       "    }\n",
       "\n",
       "    .dataframe thead th {\n",
       "        text-align: right;\n",
       "    }\n",
       "</style>\n",
       "<table border=\"1\" class=\"dataframe\">\n",
       "  <thead>\n",
       "    <tr style=\"text-align: right;\">\n",
       "      <th></th>\n",
       "      <th>0</th>\n",
       "      <th>1</th>\n",
       "      <th>2</th>\n",
       "      <th>3</th>\n",
       "      <th>4</th>\n",
       "    </tr>\n",
       "  </thead>\n",
       "  <tbody>\n",
       "    <tr>\n",
       "      <th>date</th>\n",
       "      <td>2016-01-15 00:00:00</td>\n",
       "      <td>2016-01-15 01:00:00</td>\n",
       "      <td>2016-01-15 02:00:00</td>\n",
       "      <td>2016-01-15 03:00:00</td>\n",
       "      <td>2016-01-15 04:00:00</td>\n",
       "    </tr>\n",
       "    <tr>\n",
       "      <th>final.output.concentrate_ag</th>\n",
       "      <td>6.055403</td>\n",
       "      <td>6.029369</td>\n",
       "      <td>6.055926</td>\n",
       "      <td>6.047977</td>\n",
       "      <td>6.148599</td>\n",
       "    </tr>\n",
       "    <tr>\n",
       "      <th>final.output.concentrate_pb</th>\n",
       "      <td>9.889648</td>\n",
       "      <td>9.968944</td>\n",
       "      <td>10.213995</td>\n",
       "      <td>9.977019</td>\n",
       "      <td>10.142511</td>\n",
       "    </tr>\n",
       "    <tr>\n",
       "      <th>final.output.concentrate_sol</th>\n",
       "      <td>5.507324</td>\n",
       "      <td>5.257781</td>\n",
       "      <td>5.383759</td>\n",
       "      <td>4.858634</td>\n",
       "      <td>4.939416</td>\n",
       "    </tr>\n",
       "    <tr>\n",
       "      <th>final.output.concentrate_au</th>\n",
       "      <td>42.19202</td>\n",
       "      <td>42.701629</td>\n",
       "      <td>42.657501</td>\n",
       "      <td>42.689819</td>\n",
       "      <td>42.774141</td>\n",
       "    </tr>\n",
       "    <tr>\n",
       "      <th>...</th>\n",
       "      <td>...</td>\n",
       "      <td>...</td>\n",
       "      <td>...</td>\n",
       "      <td>...</td>\n",
       "      <td>...</td>\n",
       "    </tr>\n",
       "    <tr>\n",
       "      <th>secondary_cleaner.state.floatbank5_a_level</th>\n",
       "      <td>-498.310211</td>\n",
       "      <td>-500.169983</td>\n",
       "      <td>-500.129135</td>\n",
       "      <td>-499.20164</td>\n",
       "      <td>-501.686727</td>\n",
       "    </tr>\n",
       "    <tr>\n",
       "      <th>secondary_cleaner.state.floatbank5_b_air</th>\n",
       "      <td>8.079666</td>\n",
       "      <td>7.984757</td>\n",
       "      <td>8.013877</td>\n",
       "      <td>7.977324</td>\n",
       "      <td>7.894242</td>\n",
       "    </tr>\n",
       "    <tr>\n",
       "      <th>secondary_cleaner.state.floatbank5_b_level</th>\n",
       "      <td>-500.470978</td>\n",
       "      <td>-500.582168</td>\n",
       "      <td>-500.517572</td>\n",
       "      <td>-500.255908</td>\n",
       "      <td>-500.356035</td>\n",
       "    </tr>\n",
       "    <tr>\n",
       "      <th>secondary_cleaner.state.floatbank6_a_air</th>\n",
       "      <td>14.151341</td>\n",
       "      <td>13.998353</td>\n",
       "      <td>14.028663</td>\n",
       "      <td>14.005551</td>\n",
       "      <td>13.996647</td>\n",
       "    </tr>\n",
       "    <tr>\n",
       "      <th>secondary_cleaner.state.floatbank6_a_level</th>\n",
       "      <td>-605.84198</td>\n",
       "      <td>-599.787184</td>\n",
       "      <td>-601.427363</td>\n",
       "      <td>-599.996129</td>\n",
       "      <td>-601.496691</td>\n",
       "    </tr>\n",
       "  </tbody>\n",
       "</table>\n",
       "<p>87 rows × 5 columns</p>\n",
       "</div>"
      ],
      "text/plain": [
       "                                                              0  \\\n",
       "date                                        2016-01-15 00:00:00   \n",
       "final.output.concentrate_ag                            6.055403   \n",
       "final.output.concentrate_pb                            9.889648   \n",
       "final.output.concentrate_sol                           5.507324   \n",
       "final.output.concentrate_au                            42.19202   \n",
       "...                                                         ...   \n",
       "secondary_cleaner.state.floatbank5_a_level          -498.310211   \n",
       "secondary_cleaner.state.floatbank5_b_air               8.079666   \n",
       "secondary_cleaner.state.floatbank5_b_level          -500.470978   \n",
       "secondary_cleaner.state.floatbank6_a_air              14.151341   \n",
       "secondary_cleaner.state.floatbank6_a_level           -605.84198   \n",
       "\n",
       "                                                              1  \\\n",
       "date                                        2016-01-15 01:00:00   \n",
       "final.output.concentrate_ag                            6.029369   \n",
       "final.output.concentrate_pb                            9.968944   \n",
       "final.output.concentrate_sol                           5.257781   \n",
       "final.output.concentrate_au                           42.701629   \n",
       "...                                                         ...   \n",
       "secondary_cleaner.state.floatbank5_a_level          -500.169983   \n",
       "secondary_cleaner.state.floatbank5_b_air               7.984757   \n",
       "secondary_cleaner.state.floatbank5_b_level          -500.582168   \n",
       "secondary_cleaner.state.floatbank6_a_air              13.998353   \n",
       "secondary_cleaner.state.floatbank6_a_level          -599.787184   \n",
       "\n",
       "                                                              2  \\\n",
       "date                                        2016-01-15 02:00:00   \n",
       "final.output.concentrate_ag                            6.055926   \n",
       "final.output.concentrate_pb                           10.213995   \n",
       "final.output.concentrate_sol                           5.383759   \n",
       "final.output.concentrate_au                           42.657501   \n",
       "...                                                         ...   \n",
       "secondary_cleaner.state.floatbank5_a_level          -500.129135   \n",
       "secondary_cleaner.state.floatbank5_b_air               8.013877   \n",
       "secondary_cleaner.state.floatbank5_b_level          -500.517572   \n",
       "secondary_cleaner.state.floatbank6_a_air              14.028663   \n",
       "secondary_cleaner.state.floatbank6_a_level          -601.427363   \n",
       "\n",
       "                                                              3  \\\n",
       "date                                        2016-01-15 03:00:00   \n",
       "final.output.concentrate_ag                            6.047977   \n",
       "final.output.concentrate_pb                            9.977019   \n",
       "final.output.concentrate_sol                           4.858634   \n",
       "final.output.concentrate_au                           42.689819   \n",
       "...                                                         ...   \n",
       "secondary_cleaner.state.floatbank5_a_level           -499.20164   \n",
       "secondary_cleaner.state.floatbank5_b_air               7.977324   \n",
       "secondary_cleaner.state.floatbank5_b_level          -500.255908   \n",
       "secondary_cleaner.state.floatbank6_a_air              14.005551   \n",
       "secondary_cleaner.state.floatbank6_a_level          -599.996129   \n",
       "\n",
       "                                                              4  \n",
       "date                                        2016-01-15 04:00:00  \n",
       "final.output.concentrate_ag                            6.148599  \n",
       "final.output.concentrate_pb                           10.142511  \n",
       "final.output.concentrate_sol                           4.939416  \n",
       "final.output.concentrate_au                           42.774141  \n",
       "...                                                         ...  \n",
       "secondary_cleaner.state.floatbank5_a_level          -501.686727  \n",
       "secondary_cleaner.state.floatbank5_b_air               7.894242  \n",
       "secondary_cleaner.state.floatbank5_b_level          -500.356035  \n",
       "secondary_cleaner.state.floatbank6_a_air              13.996647  \n",
       "secondary_cleaner.state.floatbank6_a_level          -601.496691  \n",
       "\n",
       "[87 rows x 5 columns]"
      ]
     },
     "metadata": {},
     "output_type": "display_data"
    },
    {
     "name": "stdout",
     "output_type": "stream",
     "text": [
      "\n",
      "Основная информация о таблице:\n",
      "<class 'pandas.core.frame.DataFrame'>\n",
      "RangeIndex: 14149 entries, 0 to 14148\n",
      "Data columns (total 87 columns):\n",
      " #   Column                                              Non-Null Count  Dtype  \n",
      "---  ------                                              --------------  -----  \n",
      " 0   date                                                14149 non-null  object \n",
      " 1   final.output.concentrate_ag                         14148 non-null  float64\n",
      " 2   final.output.concentrate_pb                         14148 non-null  float64\n",
      " 3   final.output.concentrate_sol                        13938 non-null  float64\n",
      " 4   final.output.concentrate_au                         14149 non-null  float64\n",
      " 5   final.output.recovery                               14149 non-null  float64\n",
      " 6   final.output.tail_ag                                14149 non-null  float64\n",
      " 7   final.output.tail_pb                                14049 non-null  float64\n",
      " 8   final.output.tail_sol                               14144 non-null  float64\n",
      " 9   final.output.tail_au                                14149 non-null  float64\n",
      " 10  primary_cleaner.input.sulfate                       14129 non-null  float64\n",
      " 11  primary_cleaner.input.depressant                    14117 non-null  float64\n",
      " 12  primary_cleaner.input.feed_size                     14149 non-null  float64\n",
      " 13  primary_cleaner.input.xanthate                      14049 non-null  float64\n",
      " 14  primary_cleaner.output.concentrate_ag               14149 non-null  float64\n",
      " 15  primary_cleaner.output.concentrate_pb               14063 non-null  float64\n",
      " 16  primary_cleaner.output.concentrate_sol              13863 non-null  float64\n",
      " 17  primary_cleaner.output.concentrate_au               14149 non-null  float64\n",
      " 18  primary_cleaner.output.tail_ag                      14148 non-null  float64\n",
      " 19  primary_cleaner.output.tail_pb                      14134 non-null  float64\n",
      " 20  primary_cleaner.output.tail_sol                     14103 non-null  float64\n",
      " 21  primary_cleaner.output.tail_au                      14149 non-null  float64\n",
      " 22  primary_cleaner.state.floatbank8_a_air              14145 non-null  float64\n",
      " 23  primary_cleaner.state.floatbank8_a_level            14148 non-null  float64\n",
      " 24  primary_cleaner.state.floatbank8_b_air              14145 non-null  float64\n",
      " 25  primary_cleaner.state.floatbank8_b_level            14148 non-null  float64\n",
      " 26  primary_cleaner.state.floatbank8_c_air              14147 non-null  float64\n",
      " 27  primary_cleaner.state.floatbank8_c_level            14148 non-null  float64\n",
      " 28  primary_cleaner.state.floatbank8_d_air              14146 non-null  float64\n",
      " 29  primary_cleaner.state.floatbank8_d_level            14148 non-null  float64\n",
      " 30  rougher.calculation.sulfate_to_au_concentrate       14148 non-null  float64\n",
      " 31  rougher.calculation.floatbank10_sulfate_to_au_feed  14148 non-null  float64\n",
      " 32  rougher.calculation.floatbank11_sulfate_to_au_feed  14148 non-null  float64\n",
      " 33  rougher.calculation.au_pb_ratio                     14149 non-null  float64\n",
      " 34  rougher.input.feed_ag                               14149 non-null  float64\n",
      " 35  rougher.input.feed_pb                               14049 non-null  float64\n",
      " 36  rougher.input.feed_rate                             14141 non-null  float64\n",
      " 37  rougher.input.feed_size                             14005 non-null  float64\n",
      " 38  rougher.input.feed_sol                              14071 non-null  float64\n",
      " 39  rougher.input.feed_au                               14149 non-null  float64\n",
      " 40  rougher.input.floatbank10_sulfate                   14120 non-null  float64\n",
      " 41  rougher.input.floatbank10_xanthate                  14141 non-null  float64\n",
      " 42  rougher.input.floatbank11_sulfate                   14113 non-null  float64\n",
      " 43  rougher.input.floatbank11_xanthate                  13721 non-null  float64\n",
      " 44  rougher.output.concentrate_ag                       14149 non-null  float64\n",
      " 45  rougher.output.concentrate_pb                       14149 non-null  float64\n",
      " 46  rougher.output.concentrate_sol                      14127 non-null  float64\n",
      " 47  rougher.output.concentrate_au                       14149 non-null  float64\n",
      " 48  rougher.output.recovery                             14149 non-null  float64\n",
      " 49  rougher.output.tail_ag                              14148 non-null  float64\n",
      " 50  rougher.output.tail_pb                              14149 non-null  float64\n",
      " 51  rougher.output.tail_sol                             14149 non-null  float64\n",
      " 52  rougher.output.tail_au                              14149 non-null  float64\n",
      " 53  rougher.state.floatbank10_a_air                     14148 non-null  float64\n",
      " 54  rougher.state.floatbank10_a_level                   14148 non-null  float64\n",
      " 55  rougher.state.floatbank10_b_air                     14148 non-null  float64\n",
      " 56  rougher.state.floatbank10_b_level                   14148 non-null  float64\n",
      " 57  rougher.state.floatbank10_c_air                     14148 non-null  float64\n",
      " 58  rougher.state.floatbank10_c_level                   14148 non-null  float64\n",
      " 59  rougher.state.floatbank10_d_air                     14149 non-null  float64\n",
      " 60  rougher.state.floatbank10_d_level                   14149 non-null  float64\n",
      " 61  rougher.state.floatbank10_e_air                     13713 non-null  float64\n",
      " 62  rougher.state.floatbank10_e_level                   14149 non-null  float64\n",
      " 63  rougher.state.floatbank10_f_air                     14149 non-null  float64\n",
      " 64  rougher.state.floatbank10_f_level                   14149 non-null  float64\n",
      " 65  secondary_cleaner.output.tail_ag                    14147 non-null  float64\n",
      " 66  secondary_cleaner.output.tail_pb                    14139 non-null  float64\n",
      " 67  secondary_cleaner.output.tail_sol                   12544 non-null  float64\n",
      " 68  secondary_cleaner.output.tail_au                    14149 non-null  float64\n",
      " 69  secondary_cleaner.state.floatbank2_a_air            13932 non-null  float64\n",
      " 70  secondary_cleaner.state.floatbank2_a_level          14148 non-null  float64\n",
      " 71  secondary_cleaner.state.floatbank2_b_air            14128 non-null  float64\n",
      " 72  secondary_cleaner.state.floatbank2_b_level          14148 non-null  float64\n",
      " 73  secondary_cleaner.state.floatbank3_a_air            14145 non-null  float64\n",
      " 74  secondary_cleaner.state.floatbank3_a_level          14148 non-null  float64\n",
      " 75  secondary_cleaner.state.floatbank3_b_air            14148 non-null  float64\n",
      " 76  secondary_cleaner.state.floatbank3_b_level          14148 non-null  float64\n",
      " 77  secondary_cleaner.state.floatbank4_a_air            14143 non-null  float64\n",
      " 78  secondary_cleaner.state.floatbank4_a_level          14148 non-null  float64\n",
      " 79  secondary_cleaner.state.floatbank4_b_air            14148 non-null  float64\n",
      " 80  secondary_cleaner.state.floatbank4_b_level          14148 non-null  float64\n",
      " 81  secondary_cleaner.state.floatbank5_a_air            14148 non-null  float64\n",
      " 82  secondary_cleaner.state.floatbank5_a_level          14148 non-null  float64\n",
      " 83  secondary_cleaner.state.floatbank5_b_air            14148 non-null  float64\n",
      " 84  secondary_cleaner.state.floatbank5_b_level          14148 non-null  float64\n",
      " 85  secondary_cleaner.state.floatbank6_a_air            14147 non-null  float64\n",
      " 86  secondary_cleaner.state.floatbank6_a_level          14148 non-null  float64\n",
      "dtypes: float64(86), object(1)\n",
      "memory usage: 9.4+ MB\n",
      "\n",
      "Процент пропущенных значений в каждом столбце:\n"
     ]
    },
    {
     "data": {
      "text/html": [
       "<style  type=\"text/css\" >\n",
       "#T_f8816_row0_col0,#T_f8816_row1_col0,#T_f8816_row2_col0,#T_f8816_row4_col0,#T_f8816_row5_col0,#T_f8816_row6_col0,#T_f8816_row8_col0,#T_f8816_row9_col0,#T_f8816_row12_col0,#T_f8816_row14_col0,#T_f8816_row17_col0,#T_f8816_row18_col0,#T_f8816_row21_col0,#T_f8816_row22_col0,#T_f8816_row23_col0,#T_f8816_row24_col0,#T_f8816_row25_col0,#T_f8816_row26_col0,#T_f8816_row27_col0,#T_f8816_row28_col0,#T_f8816_row29_col0,#T_f8816_row30_col0,#T_f8816_row31_col0,#T_f8816_row32_col0,#T_f8816_row33_col0,#T_f8816_row34_col0,#T_f8816_row39_col0,#T_f8816_row44_col0,#T_f8816_row45_col0,#T_f8816_row47_col0,#T_f8816_row48_col0,#T_f8816_row49_col0,#T_f8816_row50_col0,#T_f8816_row51_col0,#T_f8816_row52_col0,#T_f8816_row53_col0,#T_f8816_row54_col0,#T_f8816_row55_col0,#T_f8816_row56_col0,#T_f8816_row57_col0,#T_f8816_row58_col0,#T_f8816_row59_col0,#T_f8816_row60_col0,#T_f8816_row62_col0,#T_f8816_row63_col0,#T_f8816_row64_col0,#T_f8816_row65_col0,#T_f8816_row68_col0,#T_f8816_row70_col0,#T_f8816_row72_col0,#T_f8816_row73_col0,#T_f8816_row74_col0,#T_f8816_row75_col0,#T_f8816_row76_col0,#T_f8816_row77_col0,#T_f8816_row78_col0,#T_f8816_row79_col0,#T_f8816_row80_col0,#T_f8816_row81_col0,#T_f8816_row82_col0,#T_f8816_row83_col0,#T_f8816_row84_col0,#T_f8816_row85_col0,#T_f8816_row86_col0{\n",
       "            background-color:  #3b4cc0;\n",
       "            color:  #f1f1f1;\n",
       "        }#T_f8816_row3_col0{\n",
       "            background-color:  #6384eb;\n",
       "            color:  #000000;\n",
       "        }#T_f8816_row7_col0,#T_f8816_row13_col0,#T_f8816_row35_col0{\n",
       "            background-color:  #4e68d8;\n",
       "            color:  #000000;\n",
       "        }#T_f8816_row10_col0,#T_f8816_row46_col0,#T_f8816_row71_col0{\n",
       "            background-color:  #3e51c5;\n",
       "            color:  #f1f1f1;\n",
       "        }#T_f8816_row11_col0,#T_f8816_row42_col0{\n",
       "            background-color:  #4055c8;\n",
       "            color:  #f1f1f1;\n",
       "        }#T_f8816_row15_col0{\n",
       "            background-color:  #4a63d3;\n",
       "            color:  #f1f1f1;\n",
       "        }#T_f8816_row16_col0{\n",
       "            background-color:  #7396f5;\n",
       "            color:  #000000;\n",
       "        }#T_f8816_row19_col0{\n",
       "            background-color:  #3d50c3;\n",
       "            color:  #f1f1f1;\n",
       "        }#T_f8816_row20_col0{\n",
       "            background-color:  #4358cb;\n",
       "            color:  #f1f1f1;\n",
       "        }#T_f8816_row36_col0,#T_f8816_row41_col0,#T_f8816_row66_col0{\n",
       "            background-color:  #3c4ec2;\n",
       "            color:  #f1f1f1;\n",
       "        }#T_f8816_row37_col0{\n",
       "            background-color:  #5673e0;\n",
       "            color:  #000000;\n",
       "        }#T_f8816_row38_col0{\n",
       "            background-color:  #4961d2;\n",
       "            color:  #f1f1f1;\n",
       "        }#T_f8816_row40_col0{\n",
       "            background-color:  #3f53c6;\n",
       "            color:  #f1f1f1;\n",
       "        }#T_f8816_row43_col0{\n",
       "            background-color:  #93b5fe;\n",
       "            color:  #000000;\n",
       "        }#T_f8816_row61_col0{\n",
       "            background-color:  #94b6ff;\n",
       "            color:  #000000;\n",
       "        }#T_f8816_row67_col0{\n",
       "            background-color:  #b40426;\n",
       "            color:  #f1f1f1;\n",
       "        }#T_f8816_row69_col0{\n",
       "            background-color:  #6485ec;\n",
       "            color:  #000000;\n",
       "        }</style><table id=\"T_f8816_\" ><thead>    <tr>        <th class=\"blank level0\" ></th>        <th class=\"col_heading level0 col0\" >0</th>    </tr></thead><tbody>\n",
       "                <tr>\n",
       "                        <th id=\"T_f8816_level0_row0\" class=\"row_heading level0 row0\" >date</th>\n",
       "                        <td id=\"T_f8816_row0_col0\" class=\"data row0 col0\" >0.000000</td>\n",
       "            </tr>\n",
       "            <tr>\n",
       "                        <th id=\"T_f8816_level0_row1\" class=\"row_heading level0 row1\" >final.output.concentrate_ag</th>\n",
       "                        <td id=\"T_f8816_row1_col0\" class=\"data row1 col0\" >0.010000</td>\n",
       "            </tr>\n",
       "            <tr>\n",
       "                        <th id=\"T_f8816_level0_row2\" class=\"row_heading level0 row2\" >final.output.concentrate_pb</th>\n",
       "                        <td id=\"T_f8816_row2_col0\" class=\"data row2 col0\" >0.010000</td>\n",
       "            </tr>\n",
       "            <tr>\n",
       "                        <th id=\"T_f8816_level0_row3\" class=\"row_heading level0 row3\" >final.output.concentrate_sol</th>\n",
       "                        <td id=\"T_f8816_row3_col0\" class=\"data row3 col0\" >1.490000</td>\n",
       "            </tr>\n",
       "            <tr>\n",
       "                        <th id=\"T_f8816_level0_row4\" class=\"row_heading level0 row4\" >final.output.concentrate_au</th>\n",
       "                        <td id=\"T_f8816_row4_col0\" class=\"data row4 col0\" >0.000000</td>\n",
       "            </tr>\n",
       "            <tr>\n",
       "                        <th id=\"T_f8816_level0_row5\" class=\"row_heading level0 row5\" >final.output.recovery</th>\n",
       "                        <td id=\"T_f8816_row5_col0\" class=\"data row5 col0\" >0.000000</td>\n",
       "            </tr>\n",
       "            <tr>\n",
       "                        <th id=\"T_f8816_level0_row6\" class=\"row_heading level0 row6\" >final.output.tail_ag</th>\n",
       "                        <td id=\"T_f8816_row6_col0\" class=\"data row6 col0\" >0.000000</td>\n",
       "            </tr>\n",
       "            <tr>\n",
       "                        <th id=\"T_f8816_level0_row7\" class=\"row_heading level0 row7\" >final.output.tail_pb</th>\n",
       "                        <td id=\"T_f8816_row7_col0\" class=\"data row7 col0\" >0.710000</td>\n",
       "            </tr>\n",
       "            <tr>\n",
       "                        <th id=\"T_f8816_level0_row8\" class=\"row_heading level0 row8\" >final.output.tail_sol</th>\n",
       "                        <td id=\"T_f8816_row8_col0\" class=\"data row8 col0\" >0.040000</td>\n",
       "            </tr>\n",
       "            <tr>\n",
       "                        <th id=\"T_f8816_level0_row9\" class=\"row_heading level0 row9\" >final.output.tail_au</th>\n",
       "                        <td id=\"T_f8816_row9_col0\" class=\"data row9 col0\" >0.000000</td>\n",
       "            </tr>\n",
       "            <tr>\n",
       "                        <th id=\"T_f8816_level0_row10\" class=\"row_heading level0 row10\" >primary_cleaner.input.sulfate</th>\n",
       "                        <td id=\"T_f8816_row10_col0\" class=\"data row10 col0\" >0.140000</td>\n",
       "            </tr>\n",
       "            <tr>\n",
       "                        <th id=\"T_f8816_level0_row11\" class=\"row_heading level0 row11\" >primary_cleaner.input.depressant</th>\n",
       "                        <td id=\"T_f8816_row11_col0\" class=\"data row11 col0\" >0.230000</td>\n",
       "            </tr>\n",
       "            <tr>\n",
       "                        <th id=\"T_f8816_level0_row12\" class=\"row_heading level0 row12\" >primary_cleaner.input.feed_size</th>\n",
       "                        <td id=\"T_f8816_row12_col0\" class=\"data row12 col0\" >0.000000</td>\n",
       "            </tr>\n",
       "            <tr>\n",
       "                        <th id=\"T_f8816_level0_row13\" class=\"row_heading level0 row13\" >primary_cleaner.input.xanthate</th>\n",
       "                        <td id=\"T_f8816_row13_col0\" class=\"data row13 col0\" >0.710000</td>\n",
       "            </tr>\n",
       "            <tr>\n",
       "                        <th id=\"T_f8816_level0_row14\" class=\"row_heading level0 row14\" >primary_cleaner.output.concentrate_ag</th>\n",
       "                        <td id=\"T_f8816_row14_col0\" class=\"data row14 col0\" >0.000000</td>\n",
       "            </tr>\n",
       "            <tr>\n",
       "                        <th id=\"T_f8816_level0_row15\" class=\"row_heading level0 row15\" >primary_cleaner.output.concentrate_pb</th>\n",
       "                        <td id=\"T_f8816_row15_col0\" class=\"data row15 col0\" >0.610000</td>\n",
       "            </tr>\n",
       "            <tr>\n",
       "                        <th id=\"T_f8816_level0_row16\" class=\"row_heading level0 row16\" >primary_cleaner.output.concentrate_sol</th>\n",
       "                        <td id=\"T_f8816_row16_col0\" class=\"data row16 col0\" >2.020000</td>\n",
       "            </tr>\n",
       "            <tr>\n",
       "                        <th id=\"T_f8816_level0_row17\" class=\"row_heading level0 row17\" >primary_cleaner.output.concentrate_au</th>\n",
       "                        <td id=\"T_f8816_row17_col0\" class=\"data row17 col0\" >0.000000</td>\n",
       "            </tr>\n",
       "            <tr>\n",
       "                        <th id=\"T_f8816_level0_row18\" class=\"row_heading level0 row18\" >primary_cleaner.output.tail_ag</th>\n",
       "                        <td id=\"T_f8816_row18_col0\" class=\"data row18 col0\" >0.010000</td>\n",
       "            </tr>\n",
       "            <tr>\n",
       "                        <th id=\"T_f8816_level0_row19\" class=\"row_heading level0 row19\" >primary_cleaner.output.tail_pb</th>\n",
       "                        <td id=\"T_f8816_row19_col0\" class=\"data row19 col0\" >0.110000</td>\n",
       "            </tr>\n",
       "            <tr>\n",
       "                        <th id=\"T_f8816_level0_row20\" class=\"row_heading level0 row20\" >primary_cleaner.output.tail_sol</th>\n",
       "                        <td id=\"T_f8816_row20_col0\" class=\"data row20 col0\" >0.330000</td>\n",
       "            </tr>\n",
       "            <tr>\n",
       "                        <th id=\"T_f8816_level0_row21\" class=\"row_heading level0 row21\" >primary_cleaner.output.tail_au</th>\n",
       "                        <td id=\"T_f8816_row21_col0\" class=\"data row21 col0\" >0.000000</td>\n",
       "            </tr>\n",
       "            <tr>\n",
       "                        <th id=\"T_f8816_level0_row22\" class=\"row_heading level0 row22\" >primary_cleaner.state.floatbank8_a_air</th>\n",
       "                        <td id=\"T_f8816_row22_col0\" class=\"data row22 col0\" >0.030000</td>\n",
       "            </tr>\n",
       "            <tr>\n",
       "                        <th id=\"T_f8816_level0_row23\" class=\"row_heading level0 row23\" >primary_cleaner.state.floatbank8_a_level</th>\n",
       "                        <td id=\"T_f8816_row23_col0\" class=\"data row23 col0\" >0.010000</td>\n",
       "            </tr>\n",
       "            <tr>\n",
       "                        <th id=\"T_f8816_level0_row24\" class=\"row_heading level0 row24\" >primary_cleaner.state.floatbank8_b_air</th>\n",
       "                        <td id=\"T_f8816_row24_col0\" class=\"data row24 col0\" >0.030000</td>\n",
       "            </tr>\n",
       "            <tr>\n",
       "                        <th id=\"T_f8816_level0_row25\" class=\"row_heading level0 row25\" >primary_cleaner.state.floatbank8_b_level</th>\n",
       "                        <td id=\"T_f8816_row25_col0\" class=\"data row25 col0\" >0.010000</td>\n",
       "            </tr>\n",
       "            <tr>\n",
       "                        <th id=\"T_f8816_level0_row26\" class=\"row_heading level0 row26\" >primary_cleaner.state.floatbank8_c_air</th>\n",
       "                        <td id=\"T_f8816_row26_col0\" class=\"data row26 col0\" >0.010000</td>\n",
       "            </tr>\n",
       "            <tr>\n",
       "                        <th id=\"T_f8816_level0_row27\" class=\"row_heading level0 row27\" >primary_cleaner.state.floatbank8_c_level</th>\n",
       "                        <td id=\"T_f8816_row27_col0\" class=\"data row27 col0\" >0.010000</td>\n",
       "            </tr>\n",
       "            <tr>\n",
       "                        <th id=\"T_f8816_level0_row28\" class=\"row_heading level0 row28\" >primary_cleaner.state.floatbank8_d_air</th>\n",
       "                        <td id=\"T_f8816_row28_col0\" class=\"data row28 col0\" >0.020000</td>\n",
       "            </tr>\n",
       "            <tr>\n",
       "                        <th id=\"T_f8816_level0_row29\" class=\"row_heading level0 row29\" >primary_cleaner.state.floatbank8_d_level</th>\n",
       "                        <td id=\"T_f8816_row29_col0\" class=\"data row29 col0\" >0.010000</td>\n",
       "            </tr>\n",
       "            <tr>\n",
       "                        <th id=\"T_f8816_level0_row30\" class=\"row_heading level0 row30\" >rougher.calculation.sulfate_to_au_concentrate</th>\n",
       "                        <td id=\"T_f8816_row30_col0\" class=\"data row30 col0\" >0.010000</td>\n",
       "            </tr>\n",
       "            <tr>\n",
       "                        <th id=\"T_f8816_level0_row31\" class=\"row_heading level0 row31\" >rougher.calculation.floatbank10_sulfate_to_au_feed</th>\n",
       "                        <td id=\"T_f8816_row31_col0\" class=\"data row31 col0\" >0.010000</td>\n",
       "            </tr>\n",
       "            <tr>\n",
       "                        <th id=\"T_f8816_level0_row32\" class=\"row_heading level0 row32\" >rougher.calculation.floatbank11_sulfate_to_au_feed</th>\n",
       "                        <td id=\"T_f8816_row32_col0\" class=\"data row32 col0\" >0.010000</td>\n",
       "            </tr>\n",
       "            <tr>\n",
       "                        <th id=\"T_f8816_level0_row33\" class=\"row_heading level0 row33\" >rougher.calculation.au_pb_ratio</th>\n",
       "                        <td id=\"T_f8816_row33_col0\" class=\"data row33 col0\" >0.000000</td>\n",
       "            </tr>\n",
       "            <tr>\n",
       "                        <th id=\"T_f8816_level0_row34\" class=\"row_heading level0 row34\" >rougher.input.feed_ag</th>\n",
       "                        <td id=\"T_f8816_row34_col0\" class=\"data row34 col0\" >0.000000</td>\n",
       "            </tr>\n",
       "            <tr>\n",
       "                        <th id=\"T_f8816_level0_row35\" class=\"row_heading level0 row35\" >rougher.input.feed_pb</th>\n",
       "                        <td id=\"T_f8816_row35_col0\" class=\"data row35 col0\" >0.710000</td>\n",
       "            </tr>\n",
       "            <tr>\n",
       "                        <th id=\"T_f8816_level0_row36\" class=\"row_heading level0 row36\" >rougher.input.feed_rate</th>\n",
       "                        <td id=\"T_f8816_row36_col0\" class=\"data row36 col0\" >0.060000</td>\n",
       "            </tr>\n",
       "            <tr>\n",
       "                        <th id=\"T_f8816_level0_row37\" class=\"row_heading level0 row37\" >rougher.input.feed_size</th>\n",
       "                        <td id=\"T_f8816_row37_col0\" class=\"data row37 col0\" >1.020000</td>\n",
       "            </tr>\n",
       "            <tr>\n",
       "                        <th id=\"T_f8816_level0_row38\" class=\"row_heading level0 row38\" >rougher.input.feed_sol</th>\n",
       "                        <td id=\"T_f8816_row38_col0\" class=\"data row38 col0\" >0.550000</td>\n",
       "            </tr>\n",
       "            <tr>\n",
       "                        <th id=\"T_f8816_level0_row39\" class=\"row_heading level0 row39\" >rougher.input.feed_au</th>\n",
       "                        <td id=\"T_f8816_row39_col0\" class=\"data row39 col0\" >0.000000</td>\n",
       "            </tr>\n",
       "            <tr>\n",
       "                        <th id=\"T_f8816_level0_row40\" class=\"row_heading level0 row40\" >rougher.input.floatbank10_sulfate</th>\n",
       "                        <td id=\"T_f8816_row40_col0\" class=\"data row40 col0\" >0.200000</td>\n",
       "            </tr>\n",
       "            <tr>\n",
       "                        <th id=\"T_f8816_level0_row41\" class=\"row_heading level0 row41\" >rougher.input.floatbank10_xanthate</th>\n",
       "                        <td id=\"T_f8816_row41_col0\" class=\"data row41 col0\" >0.060000</td>\n",
       "            </tr>\n",
       "            <tr>\n",
       "                        <th id=\"T_f8816_level0_row42\" class=\"row_heading level0 row42\" >rougher.input.floatbank11_sulfate</th>\n",
       "                        <td id=\"T_f8816_row42_col0\" class=\"data row42 col0\" >0.250000</td>\n",
       "            </tr>\n",
       "            <tr>\n",
       "                        <th id=\"T_f8816_level0_row43\" class=\"row_heading level0 row43\" >rougher.input.floatbank11_xanthate</th>\n",
       "                        <td id=\"T_f8816_row43_col0\" class=\"data row43 col0\" >3.020000</td>\n",
       "            </tr>\n",
       "            <tr>\n",
       "                        <th id=\"T_f8816_level0_row44\" class=\"row_heading level0 row44\" >rougher.output.concentrate_ag</th>\n",
       "                        <td id=\"T_f8816_row44_col0\" class=\"data row44 col0\" >0.000000</td>\n",
       "            </tr>\n",
       "            <tr>\n",
       "                        <th id=\"T_f8816_level0_row45\" class=\"row_heading level0 row45\" >rougher.output.concentrate_pb</th>\n",
       "                        <td id=\"T_f8816_row45_col0\" class=\"data row45 col0\" >0.000000</td>\n",
       "            </tr>\n",
       "            <tr>\n",
       "                        <th id=\"T_f8816_level0_row46\" class=\"row_heading level0 row46\" >rougher.output.concentrate_sol</th>\n",
       "                        <td id=\"T_f8816_row46_col0\" class=\"data row46 col0\" >0.160000</td>\n",
       "            </tr>\n",
       "            <tr>\n",
       "                        <th id=\"T_f8816_level0_row47\" class=\"row_heading level0 row47\" >rougher.output.concentrate_au</th>\n",
       "                        <td id=\"T_f8816_row47_col0\" class=\"data row47 col0\" >0.000000</td>\n",
       "            </tr>\n",
       "            <tr>\n",
       "                        <th id=\"T_f8816_level0_row48\" class=\"row_heading level0 row48\" >rougher.output.recovery</th>\n",
       "                        <td id=\"T_f8816_row48_col0\" class=\"data row48 col0\" >0.000000</td>\n",
       "            </tr>\n",
       "            <tr>\n",
       "                        <th id=\"T_f8816_level0_row49\" class=\"row_heading level0 row49\" >rougher.output.tail_ag</th>\n",
       "                        <td id=\"T_f8816_row49_col0\" class=\"data row49 col0\" >0.010000</td>\n",
       "            </tr>\n",
       "            <tr>\n",
       "                        <th id=\"T_f8816_level0_row50\" class=\"row_heading level0 row50\" >rougher.output.tail_pb</th>\n",
       "                        <td id=\"T_f8816_row50_col0\" class=\"data row50 col0\" >0.000000</td>\n",
       "            </tr>\n",
       "            <tr>\n",
       "                        <th id=\"T_f8816_level0_row51\" class=\"row_heading level0 row51\" >rougher.output.tail_sol</th>\n",
       "                        <td id=\"T_f8816_row51_col0\" class=\"data row51 col0\" >0.000000</td>\n",
       "            </tr>\n",
       "            <tr>\n",
       "                        <th id=\"T_f8816_level0_row52\" class=\"row_heading level0 row52\" >rougher.output.tail_au</th>\n",
       "                        <td id=\"T_f8816_row52_col0\" class=\"data row52 col0\" >0.000000</td>\n",
       "            </tr>\n",
       "            <tr>\n",
       "                        <th id=\"T_f8816_level0_row53\" class=\"row_heading level0 row53\" >rougher.state.floatbank10_a_air</th>\n",
       "                        <td id=\"T_f8816_row53_col0\" class=\"data row53 col0\" >0.010000</td>\n",
       "            </tr>\n",
       "            <tr>\n",
       "                        <th id=\"T_f8816_level0_row54\" class=\"row_heading level0 row54\" >rougher.state.floatbank10_a_level</th>\n",
       "                        <td id=\"T_f8816_row54_col0\" class=\"data row54 col0\" >0.010000</td>\n",
       "            </tr>\n",
       "            <tr>\n",
       "                        <th id=\"T_f8816_level0_row55\" class=\"row_heading level0 row55\" >rougher.state.floatbank10_b_air</th>\n",
       "                        <td id=\"T_f8816_row55_col0\" class=\"data row55 col0\" >0.010000</td>\n",
       "            </tr>\n",
       "            <tr>\n",
       "                        <th id=\"T_f8816_level0_row56\" class=\"row_heading level0 row56\" >rougher.state.floatbank10_b_level</th>\n",
       "                        <td id=\"T_f8816_row56_col0\" class=\"data row56 col0\" >0.010000</td>\n",
       "            </tr>\n",
       "            <tr>\n",
       "                        <th id=\"T_f8816_level0_row57\" class=\"row_heading level0 row57\" >rougher.state.floatbank10_c_air</th>\n",
       "                        <td id=\"T_f8816_row57_col0\" class=\"data row57 col0\" >0.010000</td>\n",
       "            </tr>\n",
       "            <tr>\n",
       "                        <th id=\"T_f8816_level0_row58\" class=\"row_heading level0 row58\" >rougher.state.floatbank10_c_level</th>\n",
       "                        <td id=\"T_f8816_row58_col0\" class=\"data row58 col0\" >0.010000</td>\n",
       "            </tr>\n",
       "            <tr>\n",
       "                        <th id=\"T_f8816_level0_row59\" class=\"row_heading level0 row59\" >rougher.state.floatbank10_d_air</th>\n",
       "                        <td id=\"T_f8816_row59_col0\" class=\"data row59 col0\" >0.000000</td>\n",
       "            </tr>\n",
       "            <tr>\n",
       "                        <th id=\"T_f8816_level0_row60\" class=\"row_heading level0 row60\" >rougher.state.floatbank10_d_level</th>\n",
       "                        <td id=\"T_f8816_row60_col0\" class=\"data row60 col0\" >0.000000</td>\n",
       "            </tr>\n",
       "            <tr>\n",
       "                        <th id=\"T_f8816_level0_row61\" class=\"row_heading level0 row61\" >rougher.state.floatbank10_e_air</th>\n",
       "                        <td id=\"T_f8816_row61_col0\" class=\"data row61 col0\" >3.080000</td>\n",
       "            </tr>\n",
       "            <tr>\n",
       "                        <th id=\"T_f8816_level0_row62\" class=\"row_heading level0 row62\" >rougher.state.floatbank10_e_level</th>\n",
       "                        <td id=\"T_f8816_row62_col0\" class=\"data row62 col0\" >0.000000</td>\n",
       "            </tr>\n",
       "            <tr>\n",
       "                        <th id=\"T_f8816_level0_row63\" class=\"row_heading level0 row63\" >rougher.state.floatbank10_f_air</th>\n",
       "                        <td id=\"T_f8816_row63_col0\" class=\"data row63 col0\" >0.000000</td>\n",
       "            </tr>\n",
       "            <tr>\n",
       "                        <th id=\"T_f8816_level0_row64\" class=\"row_heading level0 row64\" >rougher.state.floatbank10_f_level</th>\n",
       "                        <td id=\"T_f8816_row64_col0\" class=\"data row64 col0\" >0.000000</td>\n",
       "            </tr>\n",
       "            <tr>\n",
       "                        <th id=\"T_f8816_level0_row65\" class=\"row_heading level0 row65\" >secondary_cleaner.output.tail_ag</th>\n",
       "                        <td id=\"T_f8816_row65_col0\" class=\"data row65 col0\" >0.010000</td>\n",
       "            </tr>\n",
       "            <tr>\n",
       "                        <th id=\"T_f8816_level0_row66\" class=\"row_heading level0 row66\" >secondary_cleaner.output.tail_pb</th>\n",
       "                        <td id=\"T_f8816_row66_col0\" class=\"data row66 col0\" >0.070000</td>\n",
       "            </tr>\n",
       "            <tr>\n",
       "                        <th id=\"T_f8816_level0_row67\" class=\"row_heading level0 row67\" >secondary_cleaner.output.tail_sol</th>\n",
       "                        <td id=\"T_f8816_row67_col0\" class=\"data row67 col0\" >11.340000</td>\n",
       "            </tr>\n",
       "            <tr>\n",
       "                        <th id=\"T_f8816_level0_row68\" class=\"row_heading level0 row68\" >secondary_cleaner.output.tail_au</th>\n",
       "                        <td id=\"T_f8816_row68_col0\" class=\"data row68 col0\" >0.000000</td>\n",
       "            </tr>\n",
       "            <tr>\n",
       "                        <th id=\"T_f8816_level0_row69\" class=\"row_heading level0 row69\" >secondary_cleaner.state.floatbank2_a_air</th>\n",
       "                        <td id=\"T_f8816_row69_col0\" class=\"data row69 col0\" >1.530000</td>\n",
       "            </tr>\n",
       "            <tr>\n",
       "                        <th id=\"T_f8816_level0_row70\" class=\"row_heading level0 row70\" >secondary_cleaner.state.floatbank2_a_level</th>\n",
       "                        <td id=\"T_f8816_row70_col0\" class=\"data row70 col0\" >0.010000</td>\n",
       "            </tr>\n",
       "            <tr>\n",
       "                        <th id=\"T_f8816_level0_row71\" class=\"row_heading level0 row71\" >secondary_cleaner.state.floatbank2_b_air</th>\n",
       "                        <td id=\"T_f8816_row71_col0\" class=\"data row71 col0\" >0.150000</td>\n",
       "            </tr>\n",
       "            <tr>\n",
       "                        <th id=\"T_f8816_level0_row72\" class=\"row_heading level0 row72\" >secondary_cleaner.state.floatbank2_b_level</th>\n",
       "                        <td id=\"T_f8816_row72_col0\" class=\"data row72 col0\" >0.010000</td>\n",
       "            </tr>\n",
       "            <tr>\n",
       "                        <th id=\"T_f8816_level0_row73\" class=\"row_heading level0 row73\" >secondary_cleaner.state.floatbank3_a_air</th>\n",
       "                        <td id=\"T_f8816_row73_col0\" class=\"data row73 col0\" >0.030000</td>\n",
       "            </tr>\n",
       "            <tr>\n",
       "                        <th id=\"T_f8816_level0_row74\" class=\"row_heading level0 row74\" >secondary_cleaner.state.floatbank3_a_level</th>\n",
       "                        <td id=\"T_f8816_row74_col0\" class=\"data row74 col0\" >0.010000</td>\n",
       "            </tr>\n",
       "            <tr>\n",
       "                        <th id=\"T_f8816_level0_row75\" class=\"row_heading level0 row75\" >secondary_cleaner.state.floatbank3_b_air</th>\n",
       "                        <td id=\"T_f8816_row75_col0\" class=\"data row75 col0\" >0.010000</td>\n",
       "            </tr>\n",
       "            <tr>\n",
       "                        <th id=\"T_f8816_level0_row76\" class=\"row_heading level0 row76\" >secondary_cleaner.state.floatbank3_b_level</th>\n",
       "                        <td id=\"T_f8816_row76_col0\" class=\"data row76 col0\" >0.010000</td>\n",
       "            </tr>\n",
       "            <tr>\n",
       "                        <th id=\"T_f8816_level0_row77\" class=\"row_heading level0 row77\" >secondary_cleaner.state.floatbank4_a_air</th>\n",
       "                        <td id=\"T_f8816_row77_col0\" class=\"data row77 col0\" >0.040000</td>\n",
       "            </tr>\n",
       "            <tr>\n",
       "                        <th id=\"T_f8816_level0_row78\" class=\"row_heading level0 row78\" >secondary_cleaner.state.floatbank4_a_level</th>\n",
       "                        <td id=\"T_f8816_row78_col0\" class=\"data row78 col0\" >0.010000</td>\n",
       "            </tr>\n",
       "            <tr>\n",
       "                        <th id=\"T_f8816_level0_row79\" class=\"row_heading level0 row79\" >secondary_cleaner.state.floatbank4_b_air</th>\n",
       "                        <td id=\"T_f8816_row79_col0\" class=\"data row79 col0\" >0.010000</td>\n",
       "            </tr>\n",
       "            <tr>\n",
       "                        <th id=\"T_f8816_level0_row80\" class=\"row_heading level0 row80\" >secondary_cleaner.state.floatbank4_b_level</th>\n",
       "                        <td id=\"T_f8816_row80_col0\" class=\"data row80 col0\" >0.010000</td>\n",
       "            </tr>\n",
       "            <tr>\n",
       "                        <th id=\"T_f8816_level0_row81\" class=\"row_heading level0 row81\" >secondary_cleaner.state.floatbank5_a_air</th>\n",
       "                        <td id=\"T_f8816_row81_col0\" class=\"data row81 col0\" >0.010000</td>\n",
       "            </tr>\n",
       "            <tr>\n",
       "                        <th id=\"T_f8816_level0_row82\" class=\"row_heading level0 row82\" >secondary_cleaner.state.floatbank5_a_level</th>\n",
       "                        <td id=\"T_f8816_row82_col0\" class=\"data row82 col0\" >0.010000</td>\n",
       "            </tr>\n",
       "            <tr>\n",
       "                        <th id=\"T_f8816_level0_row83\" class=\"row_heading level0 row83\" >secondary_cleaner.state.floatbank5_b_air</th>\n",
       "                        <td id=\"T_f8816_row83_col0\" class=\"data row83 col0\" >0.010000</td>\n",
       "            </tr>\n",
       "            <tr>\n",
       "                        <th id=\"T_f8816_level0_row84\" class=\"row_heading level0 row84\" >secondary_cleaner.state.floatbank5_b_level</th>\n",
       "                        <td id=\"T_f8816_row84_col0\" class=\"data row84 col0\" >0.010000</td>\n",
       "            </tr>\n",
       "            <tr>\n",
       "                        <th id=\"T_f8816_level0_row85\" class=\"row_heading level0 row85\" >secondary_cleaner.state.floatbank6_a_air</th>\n",
       "                        <td id=\"T_f8816_row85_col0\" class=\"data row85 col0\" >0.010000</td>\n",
       "            </tr>\n",
       "            <tr>\n",
       "                        <th id=\"T_f8816_level0_row86\" class=\"row_heading level0 row86\" >secondary_cleaner.state.floatbank6_a_level</th>\n",
       "                        <td id=\"T_f8816_row86_col0\" class=\"data row86 col0\" >0.010000</td>\n",
       "            </tr>\n",
       "    </tbody></table>"
      ],
      "text/plain": [
       "<pandas.io.formats.style.Styler at 0x7f29f781d580>"
      ]
     },
     "metadata": {},
     "output_type": "display_data"
    },
    {
     "name": "stdout",
     "output_type": "stream",
     "text": [
      "\n",
      "Количество полных дубликатов: 0\n",
      "\n",
      "Количество дубликатов в столбце date: 0\n"
     ]
    }
   ],
   "source": [
    "data_info(df_train)"
   ]
  },
  {
   "cell_type": "code",
   "execution_count": 5,
   "metadata": {},
   "outputs": [
    {
     "name": "stdout",
     "output_type": "stream",
     "text": [
      "Первые пять строк таблицы:\n"
     ]
    },
    {
     "data": {
      "text/html": [
       "<div>\n",
       "<style scoped>\n",
       "    .dataframe tbody tr th:only-of-type {\n",
       "        vertical-align: middle;\n",
       "    }\n",
       "\n",
       "    .dataframe tbody tr th {\n",
       "        vertical-align: top;\n",
       "    }\n",
       "\n",
       "    .dataframe thead th {\n",
       "        text-align: right;\n",
       "    }\n",
       "</style>\n",
       "<table border=\"1\" class=\"dataframe\">\n",
       "  <thead>\n",
       "    <tr style=\"text-align: right;\">\n",
       "      <th></th>\n",
       "      <th>0</th>\n",
       "      <th>1</th>\n",
       "      <th>2</th>\n",
       "      <th>3</th>\n",
       "      <th>4</th>\n",
       "    </tr>\n",
       "  </thead>\n",
       "  <tbody>\n",
       "    <tr>\n",
       "      <th>date</th>\n",
       "      <td>2016-09-01 00:59:59</td>\n",
       "      <td>2016-09-01 01:59:59</td>\n",
       "      <td>2016-09-01 02:59:59</td>\n",
       "      <td>2016-09-01 03:59:59</td>\n",
       "      <td>2016-09-01 04:59:59</td>\n",
       "    </tr>\n",
       "    <tr>\n",
       "      <th>primary_cleaner.input.sulfate</th>\n",
       "      <td>210.800909</td>\n",
       "      <td>215.392455</td>\n",
       "      <td>215.259946</td>\n",
       "      <td>215.336236</td>\n",
       "      <td>199.099327</td>\n",
       "    </tr>\n",
       "    <tr>\n",
       "      <th>primary_cleaner.input.depressant</th>\n",
       "      <td>14.993118</td>\n",
       "      <td>14.987471</td>\n",
       "      <td>12.884934</td>\n",
       "      <td>12.006805</td>\n",
       "      <td>10.68253</td>\n",
       "    </tr>\n",
       "    <tr>\n",
       "      <th>primary_cleaner.input.feed_size</th>\n",
       "      <td>8.08</td>\n",
       "      <td>8.08</td>\n",
       "      <td>7.786667</td>\n",
       "      <td>7.64</td>\n",
       "      <td>7.53</td>\n",
       "    </tr>\n",
       "    <tr>\n",
       "      <th>primary_cleaner.input.xanthate</th>\n",
       "      <td>1.005021</td>\n",
       "      <td>0.990469</td>\n",
       "      <td>0.996043</td>\n",
       "      <td>0.863514</td>\n",
       "      <td>0.805575</td>\n",
       "    </tr>\n",
       "    <tr>\n",
       "      <th>primary_cleaner.state.floatbank8_a_air</th>\n",
       "      <td>1398.981301</td>\n",
       "      <td>1398.777912</td>\n",
       "      <td>1398.493666</td>\n",
       "      <td>1399.618111</td>\n",
       "      <td>1401.268123</td>\n",
       "    </tr>\n",
       "    <tr>\n",
       "      <th>primary_cleaner.state.floatbank8_a_level</th>\n",
       "      <td>-500.225577</td>\n",
       "      <td>-500.057435</td>\n",
       "      <td>-500.86836</td>\n",
       "      <td>-498.863574</td>\n",
       "      <td>-500.808305</td>\n",
       "    </tr>\n",
       "    <tr>\n",
       "      <th>primary_cleaner.state.floatbank8_b_air</th>\n",
       "      <td>1399.144926</td>\n",
       "      <td>1398.055362</td>\n",
       "      <td>1398.860436</td>\n",
       "      <td>1397.44012</td>\n",
       "      <td>1398.128818</td>\n",
       "    </tr>\n",
       "    <tr>\n",
       "      <th>primary_cleaner.state.floatbank8_b_level</th>\n",
       "      <td>-499.919735</td>\n",
       "      <td>-499.778182</td>\n",
       "      <td>-499.764529</td>\n",
       "      <td>-499.211024</td>\n",
       "      <td>-499.504543</td>\n",
       "    </tr>\n",
       "    <tr>\n",
       "      <th>primary_cleaner.state.floatbank8_c_air</th>\n",
       "      <td>1400.102998</td>\n",
       "      <td>1396.151033</td>\n",
       "      <td>1398.075709</td>\n",
       "      <td>1400.129303</td>\n",
       "      <td>1402.172226</td>\n",
       "    </tr>\n",
       "    <tr>\n",
       "      <th>primary_cleaner.state.floatbank8_c_level</th>\n",
       "      <td>-500.704369</td>\n",
       "      <td>-499.240168</td>\n",
       "      <td>-502.151509</td>\n",
       "      <td>-498.355873</td>\n",
       "      <td>-500.810606</td>\n",
       "    </tr>\n",
       "    <tr>\n",
       "      <th>primary_cleaner.state.floatbank8_d_air</th>\n",
       "      <td>1399.001695</td>\n",
       "      <td>1399.508091</td>\n",
       "      <td>1399.497088</td>\n",
       "      <td>1401.065165</td>\n",
       "      <td>1399.480508</td>\n",
       "    </tr>\n",
       "    <tr>\n",
       "      <th>primary_cleaner.state.floatbank8_d_level</th>\n",
       "      <td>-499.485144</td>\n",
       "      <td>-500.416324</td>\n",
       "      <td>-499.715479</td>\n",
       "      <td>-501.038738</td>\n",
       "      <td>-499.374053</td>\n",
       "    </tr>\n",
       "    <tr>\n",
       "      <th>rougher.input.feed_ag</th>\n",
       "      <td>13.128569</td>\n",
       "      <td>13.03628</td>\n",
       "      <td>13.138412</td>\n",
       "      <td>12.400507</td>\n",
       "      <td>11.327427</td>\n",
       "    </tr>\n",
       "    <tr>\n",
       "      <th>rougher.input.feed_pb</th>\n",
       "      <td>5.63671</td>\n",
       "      <td>5.526065</td>\n",
       "      <td>5.426561</td>\n",
       "      <td>5.114758</td>\n",
       "      <td>4.767383</td>\n",
       "    </tr>\n",
       "    <tr>\n",
       "      <th>rougher.input.feed_rate</th>\n",
       "      <td>489.793655</td>\n",
       "      <td>490.104534</td>\n",
       "      <td>489.617969</td>\n",
       "      <td>476.61813</td>\n",
       "      <td>488.248117</td>\n",
       "    </tr>\n",
       "    <tr>\n",
       "      <th>rougher.input.feed_size</th>\n",
       "      <td>62.710452</td>\n",
       "      <td>61.961163</td>\n",
       "      <td>66.903807</td>\n",
       "      <td>59.865919</td>\n",
       "      <td>63.315324</td>\n",
       "    </tr>\n",
       "    <tr>\n",
       "      <th>rougher.input.feed_sol</th>\n",
       "      <td>42.02244</td>\n",
       "      <td>41.187903</td>\n",
       "      <td>42.546294</td>\n",
       "      <td>41.060195</td>\n",
       "      <td>41.269161</td>\n",
       "    </tr>\n",
       "    <tr>\n",
       "      <th>rougher.input.feed_au</th>\n",
       "      <td>12.084103</td>\n",
       "      <td>11.918977</td>\n",
       "      <td>12.091332</td>\n",
       "      <td>12.181597</td>\n",
       "      <td>11.290425</td>\n",
       "    </tr>\n",
       "    <tr>\n",
       "      <th>rougher.input.floatbank10_sulfate</th>\n",
       "      <td>16.922877</td>\n",
       "      <td>17.002532</td>\n",
       "      <td>16.99252</td>\n",
       "      <td>16.532144</td>\n",
       "      <td>13.607257</td>\n",
       "    </tr>\n",
       "    <tr>\n",
       "      <th>rougher.input.floatbank10_xanthate</th>\n",
       "      <td>6.153479</td>\n",
       "      <td>5.999043</td>\n",
       "      <td>5.850632</td>\n",
       "      <td>5.801935</td>\n",
       "      <td>5.738081</td>\n",
       "    </tr>\n",
       "    <tr>\n",
       "      <th>rougher.input.floatbank11_sulfate</th>\n",
       "      <td>16.867518</td>\n",
       "      <td>16.996063</td>\n",
       "      <td>16.982096</td>\n",
       "      <td>16.515277</td>\n",
       "      <td>13.650053</td>\n",
       "    </tr>\n",
       "    <tr>\n",
       "      <th>rougher.input.floatbank11_xanthate</th>\n",
       "      <td>6.150709</td>\n",
       "      <td>6.002315</td>\n",
       "      <td>5.853594</td>\n",
       "      <td>5.803657</td>\n",
       "      <td>5.739634</td>\n",
       "    </tr>\n",
       "    <tr>\n",
       "      <th>rougher.state.floatbank10_a_air</th>\n",
       "      <td>1001.849317</td>\n",
       "      <td>998.690785</td>\n",
       "      <td>998.51672</td>\n",
       "      <td>1000.276604</td>\n",
       "      <td>996.541302</td>\n",
       "    </tr>\n",
       "    <tr>\n",
       "      <th>rougher.state.floatbank10_a_level</th>\n",
       "      <td>-350.301265</td>\n",
       "      <td>-350.425704</td>\n",
       "      <td>-349.783538</td>\n",
       "      <td>-350.172597</td>\n",
       "      <td>-350.562517</td>\n",
       "    </tr>\n",
       "    <tr>\n",
       "      <th>rougher.state.floatbank10_b_air</th>\n",
       "      <td>1249.738612</td>\n",
       "      <td>1248.395457</td>\n",
       "      <td>1247.440748</td>\n",
       "      <td>1251.322675</td>\n",
       "      <td>1304.658848</td>\n",
       "    </tr>\n",
       "    <tr>\n",
       "      <th>rougher.state.floatbank10_b_level</th>\n",
       "      <td>-399.107531</td>\n",
       "      <td>-399.946025</td>\n",
       "      <td>-400.26433</td>\n",
       "      <td>-398.655289</td>\n",
       "      <td>-399.511519</td>\n",
       "    </tr>\n",
       "    <tr>\n",
       "      <th>rougher.state.floatbank10_c_air</th>\n",
       "      <td>1249.75052</td>\n",
       "      <td>1249.514451</td>\n",
       "      <td>1248.207204</td>\n",
       "      <td>1250.493702</td>\n",
       "      <td>1306.455515</td>\n",
       "    </tr>\n",
       "    <tr>\n",
       "      <th>rougher.state.floatbank10_c_level</th>\n",
       "      <td>-399.39673</td>\n",
       "      <td>-399.63081</td>\n",
       "      <td>-401.074405</td>\n",
       "      <td>-399.746728</td>\n",
       "      <td>-399.050685</td>\n",
       "    </tr>\n",
       "    <tr>\n",
       "      <th>rougher.state.floatbank10_d_air</th>\n",
       "      <td>1198.287855</td>\n",
       "      <td>1200.506459</td>\n",
       "      <td>1199.770026</td>\n",
       "      <td>1199.398691</td>\n",
       "      <td>1248.699349</td>\n",
       "    </tr>\n",
       "    <tr>\n",
       "      <th>rougher.state.floatbank10_d_level</th>\n",
       "      <td>-399.488594</td>\n",
       "      <td>-399.942434</td>\n",
       "      <td>-400.790582</td>\n",
       "      <td>-397.503052</td>\n",
       "      <td>-400.876894</td>\n",
       "    </tr>\n",
       "    <tr>\n",
       "      <th>rougher.state.floatbank10_e_air</th>\n",
       "      <td>999.47225</td>\n",
       "      <td>1000.002114</td>\n",
       "      <td>999.925519</td>\n",
       "      <td>1001.930679</td>\n",
       "      <td>1058.839106</td>\n",
       "    </tr>\n",
       "    <tr>\n",
       "      <th>rougher.state.floatbank10_e_level</th>\n",
       "      <td>-399.530962</td>\n",
       "      <td>-399.491528</td>\n",
       "      <td>-399.236999</td>\n",
       "      <td>-400.437573</td>\n",
       "      <td>-398.988239</td>\n",
       "    </tr>\n",
       "    <tr>\n",
       "      <th>rougher.state.floatbank10_f_air</th>\n",
       "      <td>949.566189</td>\n",
       "      <td>950.200009</td>\n",
       "      <td>950.320481</td>\n",
       "      <td>950.735324</td>\n",
       "      <td>949.645313</td>\n",
       "    </tr>\n",
       "    <tr>\n",
       "      <th>rougher.state.floatbank10_f_level</th>\n",
       "      <td>-398.180807</td>\n",
       "      <td>-405.787514</td>\n",
       "      <td>-400.86434</td>\n",
       "      <td>-399.802986</td>\n",
       "      <td>-399.277632</td>\n",
       "    </tr>\n",
       "    <tr>\n",
       "      <th>secondary_cleaner.state.floatbank2_a_air</th>\n",
       "      <td>24.9382</td>\n",
       "      <td>24.923466</td>\n",
       "      <td>24.908732</td>\n",
       "      <td>24.893998</td>\n",
       "      <td>24.886905</td>\n",
       "    </tr>\n",
       "    <tr>\n",
       "      <th>secondary_cleaner.state.floatbank2_a_level</th>\n",
       "      <td>-500.490963</td>\n",
       "      <td>-499.813963</td>\n",
       "      <td>-500.304035</td>\n",
       "      <td>-499.382374</td>\n",
       "      <td>-499.357375</td>\n",
       "    </tr>\n",
       "    <tr>\n",
       "      <th>secondary_cleaner.state.floatbank2_b_air</th>\n",
       "      <td>14.947607</td>\n",
       "      <td>14.930873</td>\n",
       "      <td>14.996511</td>\n",
       "      <td>14.916674</td>\n",
       "      <td>14.979233</td>\n",
       "    </tr>\n",
       "    <tr>\n",
       "      <th>secondary_cleaner.state.floatbank2_b_level</th>\n",
       "      <td>-500.013837</td>\n",
       "      <td>-500.764452</td>\n",
       "      <td>-500.993821</td>\n",
       "      <td>-499.862299</td>\n",
       "      <td>-500.186804</td>\n",
       "    </tr>\n",
       "    <tr>\n",
       "      <th>secondary_cleaner.state.floatbank3_a_air</th>\n",
       "      <td>20.018166</td>\n",
       "      <td>19.988503</td>\n",
       "      <td>20.039689</td>\n",
       "      <td>20.0311</td>\n",
       "      <td>19.962364</td>\n",
       "    </tr>\n",
       "    <tr>\n",
       "      <th>secondary_cleaner.state.floatbank3_a_level</th>\n",
       "      <td>-450.395995</td>\n",
       "      <td>-450.114024</td>\n",
       "      <td>-450.263164</td>\n",
       "      <td>-449.37257</td>\n",
       "      <td>-450.638828</td>\n",
       "    </tr>\n",
       "    <tr>\n",
       "      <th>secondary_cleaner.state.floatbank3_b_air</th>\n",
       "      <td>13.987058</td>\n",
       "      <td>14.092981</td>\n",
       "      <td>14.077881</td>\n",
       "      <td>14.013968</td>\n",
       "      <td>14.009245</td>\n",
       "    </tr>\n",
       "    <tr>\n",
       "      <th>secondary_cleaner.state.floatbank3_b_level</th>\n",
       "      <td>-449.831513</td>\n",
       "      <td>-450.059163</td>\n",
       "      <td>-449.660997</td>\n",
       "      <td>-449.5269</td>\n",
       "      <td>-450.022259</td>\n",
       "    </tr>\n",
       "    <tr>\n",
       "      <th>secondary_cleaner.state.floatbank4_a_air</th>\n",
       "      <td>12.023554</td>\n",
       "      <td>12.05814</td>\n",
       "      <td>11.962366</td>\n",
       "      <td>12.033091</td>\n",
       "      <td>12.025367</td>\n",
       "    </tr>\n",
       "    <tr>\n",
       "      <th>secondary_cleaner.state.floatbank4_a_level</th>\n",
       "      <td>-497.795834</td>\n",
       "      <td>-498.695773</td>\n",
       "      <td>-498.767484</td>\n",
       "      <td>-498.350935</td>\n",
       "      <td>-500.786497</td>\n",
       "    </tr>\n",
       "    <tr>\n",
       "      <th>secondary_cleaner.state.floatbank4_b_air</th>\n",
       "      <td>8.016656</td>\n",
       "      <td>8.130979</td>\n",
       "      <td>8.096893</td>\n",
       "      <td>8.074946</td>\n",
       "      <td>8.054678</td>\n",
       "    </tr>\n",
       "    <tr>\n",
       "      <th>secondary_cleaner.state.floatbank4_b_level</th>\n",
       "      <td>-501.289139</td>\n",
       "      <td>-499.634209</td>\n",
       "      <td>-500.827423</td>\n",
       "      <td>-499.474407</td>\n",
       "      <td>-500.3975</td>\n",
       "    </tr>\n",
       "    <tr>\n",
       "      <th>secondary_cleaner.state.floatbank5_a_air</th>\n",
       "      <td>7.946562</td>\n",
       "      <td>7.95827</td>\n",
       "      <td>8.071056</td>\n",
       "      <td>7.897085</td>\n",
       "      <td>8.10789</td>\n",
       "    </tr>\n",
       "    <tr>\n",
       "      <th>secondary_cleaner.state.floatbank5_a_level</th>\n",
       "      <td>-432.31785</td>\n",
       "      <td>-525.839648</td>\n",
       "      <td>-500.801673</td>\n",
       "      <td>-500.868509</td>\n",
       "      <td>-509.526725</td>\n",
       "    </tr>\n",
       "    <tr>\n",
       "      <th>secondary_cleaner.state.floatbank5_b_air</th>\n",
       "      <td>4.872511</td>\n",
       "      <td>4.87885</td>\n",
       "      <td>4.905125</td>\n",
       "      <td>4.9314</td>\n",
       "      <td>4.957674</td>\n",
       "    </tr>\n",
       "    <tr>\n",
       "      <th>secondary_cleaner.state.floatbank5_b_level</th>\n",
       "      <td>-500.037437</td>\n",
       "      <td>-500.162375</td>\n",
       "      <td>-499.82851</td>\n",
       "      <td>-499.963623</td>\n",
       "      <td>-500.360026</td>\n",
       "    </tr>\n",
       "    <tr>\n",
       "      <th>secondary_cleaner.state.floatbank6_a_air</th>\n",
       "      <td>26.705889</td>\n",
       "      <td>25.01994</td>\n",
       "      <td>24.994862</td>\n",
       "      <td>24.948919</td>\n",
       "      <td>25.003331</td>\n",
       "    </tr>\n",
       "    <tr>\n",
       "      <th>secondary_cleaner.state.floatbank6_a_level</th>\n",
       "      <td>-499.709414</td>\n",
       "      <td>-499.819438</td>\n",
       "      <td>-500.622559</td>\n",
       "      <td>-498.709987</td>\n",
       "      <td>-500.856333</td>\n",
       "    </tr>\n",
       "  </tbody>\n",
       "</table>\n",
       "</div>"
      ],
      "text/plain": [
       "                                                              0  \\\n",
       "date                                        2016-09-01 00:59:59   \n",
       "primary_cleaner.input.sulfate                        210.800909   \n",
       "primary_cleaner.input.depressant                      14.993118   \n",
       "primary_cleaner.input.feed_size                            8.08   \n",
       "primary_cleaner.input.xanthate                         1.005021   \n",
       "primary_cleaner.state.floatbank8_a_air              1398.981301   \n",
       "primary_cleaner.state.floatbank8_a_level            -500.225577   \n",
       "primary_cleaner.state.floatbank8_b_air              1399.144926   \n",
       "primary_cleaner.state.floatbank8_b_level            -499.919735   \n",
       "primary_cleaner.state.floatbank8_c_air              1400.102998   \n",
       "primary_cleaner.state.floatbank8_c_level            -500.704369   \n",
       "primary_cleaner.state.floatbank8_d_air              1399.001695   \n",
       "primary_cleaner.state.floatbank8_d_level            -499.485144   \n",
       "rougher.input.feed_ag                                 13.128569   \n",
       "rougher.input.feed_pb                                   5.63671   \n",
       "rougher.input.feed_rate                              489.793655   \n",
       "rougher.input.feed_size                               62.710452   \n",
       "rougher.input.feed_sol                                 42.02244   \n",
       "rougher.input.feed_au                                 12.084103   \n",
       "rougher.input.floatbank10_sulfate                     16.922877   \n",
       "rougher.input.floatbank10_xanthate                     6.153479   \n",
       "rougher.input.floatbank11_sulfate                     16.867518   \n",
       "rougher.input.floatbank11_xanthate                     6.150709   \n",
       "rougher.state.floatbank10_a_air                     1001.849317   \n",
       "rougher.state.floatbank10_a_level                   -350.301265   \n",
       "rougher.state.floatbank10_b_air                     1249.738612   \n",
       "rougher.state.floatbank10_b_level                   -399.107531   \n",
       "rougher.state.floatbank10_c_air                      1249.75052   \n",
       "rougher.state.floatbank10_c_level                    -399.39673   \n",
       "rougher.state.floatbank10_d_air                     1198.287855   \n",
       "rougher.state.floatbank10_d_level                   -399.488594   \n",
       "rougher.state.floatbank10_e_air                       999.47225   \n",
       "rougher.state.floatbank10_e_level                   -399.530962   \n",
       "rougher.state.floatbank10_f_air                      949.566189   \n",
       "rougher.state.floatbank10_f_level                   -398.180807   \n",
       "secondary_cleaner.state.floatbank2_a_air                24.9382   \n",
       "secondary_cleaner.state.floatbank2_a_level          -500.490963   \n",
       "secondary_cleaner.state.floatbank2_b_air              14.947607   \n",
       "secondary_cleaner.state.floatbank2_b_level          -500.013837   \n",
       "secondary_cleaner.state.floatbank3_a_air              20.018166   \n",
       "secondary_cleaner.state.floatbank3_a_level          -450.395995   \n",
       "secondary_cleaner.state.floatbank3_b_air              13.987058   \n",
       "secondary_cleaner.state.floatbank3_b_level          -449.831513   \n",
       "secondary_cleaner.state.floatbank4_a_air              12.023554   \n",
       "secondary_cleaner.state.floatbank4_a_level          -497.795834   \n",
       "secondary_cleaner.state.floatbank4_b_air               8.016656   \n",
       "secondary_cleaner.state.floatbank4_b_level          -501.289139   \n",
       "secondary_cleaner.state.floatbank5_a_air               7.946562   \n",
       "secondary_cleaner.state.floatbank5_a_level           -432.31785   \n",
       "secondary_cleaner.state.floatbank5_b_air               4.872511   \n",
       "secondary_cleaner.state.floatbank5_b_level          -500.037437   \n",
       "secondary_cleaner.state.floatbank6_a_air              26.705889   \n",
       "secondary_cleaner.state.floatbank6_a_level          -499.709414   \n",
       "\n",
       "                                                              1  \\\n",
       "date                                        2016-09-01 01:59:59   \n",
       "primary_cleaner.input.sulfate                        215.392455   \n",
       "primary_cleaner.input.depressant                      14.987471   \n",
       "primary_cleaner.input.feed_size                            8.08   \n",
       "primary_cleaner.input.xanthate                         0.990469   \n",
       "primary_cleaner.state.floatbank8_a_air              1398.777912   \n",
       "primary_cleaner.state.floatbank8_a_level            -500.057435   \n",
       "primary_cleaner.state.floatbank8_b_air              1398.055362   \n",
       "primary_cleaner.state.floatbank8_b_level            -499.778182   \n",
       "primary_cleaner.state.floatbank8_c_air              1396.151033   \n",
       "primary_cleaner.state.floatbank8_c_level            -499.240168   \n",
       "primary_cleaner.state.floatbank8_d_air              1399.508091   \n",
       "primary_cleaner.state.floatbank8_d_level            -500.416324   \n",
       "rougher.input.feed_ag                                  13.03628   \n",
       "rougher.input.feed_pb                                  5.526065   \n",
       "rougher.input.feed_rate                              490.104534   \n",
       "rougher.input.feed_size                               61.961163   \n",
       "rougher.input.feed_sol                                41.187903   \n",
       "rougher.input.feed_au                                 11.918977   \n",
       "rougher.input.floatbank10_sulfate                     17.002532   \n",
       "rougher.input.floatbank10_xanthate                     5.999043   \n",
       "rougher.input.floatbank11_sulfate                     16.996063   \n",
       "rougher.input.floatbank11_xanthate                     6.002315   \n",
       "rougher.state.floatbank10_a_air                      998.690785   \n",
       "rougher.state.floatbank10_a_level                   -350.425704   \n",
       "rougher.state.floatbank10_b_air                     1248.395457   \n",
       "rougher.state.floatbank10_b_level                   -399.946025   \n",
       "rougher.state.floatbank10_c_air                     1249.514451   \n",
       "rougher.state.floatbank10_c_level                    -399.63081   \n",
       "rougher.state.floatbank10_d_air                     1200.506459   \n",
       "rougher.state.floatbank10_d_level                   -399.942434   \n",
       "rougher.state.floatbank10_e_air                     1000.002114   \n",
       "rougher.state.floatbank10_e_level                   -399.491528   \n",
       "rougher.state.floatbank10_f_air                      950.200009   \n",
       "rougher.state.floatbank10_f_level                   -405.787514   \n",
       "secondary_cleaner.state.floatbank2_a_air              24.923466   \n",
       "secondary_cleaner.state.floatbank2_a_level          -499.813963   \n",
       "secondary_cleaner.state.floatbank2_b_air              14.930873   \n",
       "secondary_cleaner.state.floatbank2_b_level          -500.764452   \n",
       "secondary_cleaner.state.floatbank3_a_air              19.988503   \n",
       "secondary_cleaner.state.floatbank3_a_level          -450.114024   \n",
       "secondary_cleaner.state.floatbank3_b_air              14.092981   \n",
       "secondary_cleaner.state.floatbank3_b_level          -450.059163   \n",
       "secondary_cleaner.state.floatbank4_a_air               12.05814   \n",
       "secondary_cleaner.state.floatbank4_a_level          -498.695773   \n",
       "secondary_cleaner.state.floatbank4_b_air               8.130979   \n",
       "secondary_cleaner.state.floatbank4_b_level          -499.634209   \n",
       "secondary_cleaner.state.floatbank5_a_air                7.95827   \n",
       "secondary_cleaner.state.floatbank5_a_level          -525.839648   \n",
       "secondary_cleaner.state.floatbank5_b_air                4.87885   \n",
       "secondary_cleaner.state.floatbank5_b_level          -500.162375   \n",
       "secondary_cleaner.state.floatbank6_a_air               25.01994   \n",
       "secondary_cleaner.state.floatbank6_a_level          -499.819438   \n",
       "\n",
       "                                                              2  \\\n",
       "date                                        2016-09-01 02:59:59   \n",
       "primary_cleaner.input.sulfate                        215.259946   \n",
       "primary_cleaner.input.depressant                      12.884934   \n",
       "primary_cleaner.input.feed_size                        7.786667   \n",
       "primary_cleaner.input.xanthate                         0.996043   \n",
       "primary_cleaner.state.floatbank8_a_air              1398.493666   \n",
       "primary_cleaner.state.floatbank8_a_level             -500.86836   \n",
       "primary_cleaner.state.floatbank8_b_air              1398.860436   \n",
       "primary_cleaner.state.floatbank8_b_level            -499.764529   \n",
       "primary_cleaner.state.floatbank8_c_air              1398.075709   \n",
       "primary_cleaner.state.floatbank8_c_level            -502.151509   \n",
       "primary_cleaner.state.floatbank8_d_air              1399.497088   \n",
       "primary_cleaner.state.floatbank8_d_level            -499.715479   \n",
       "rougher.input.feed_ag                                 13.138412   \n",
       "rougher.input.feed_pb                                  5.426561   \n",
       "rougher.input.feed_rate                              489.617969   \n",
       "rougher.input.feed_size                               66.903807   \n",
       "rougher.input.feed_sol                                42.546294   \n",
       "rougher.input.feed_au                                 12.091332   \n",
       "rougher.input.floatbank10_sulfate                      16.99252   \n",
       "rougher.input.floatbank10_xanthate                     5.850632   \n",
       "rougher.input.floatbank11_sulfate                     16.982096   \n",
       "rougher.input.floatbank11_xanthate                     5.853594   \n",
       "rougher.state.floatbank10_a_air                       998.51672   \n",
       "rougher.state.floatbank10_a_level                   -349.783538   \n",
       "rougher.state.floatbank10_b_air                     1247.440748   \n",
       "rougher.state.floatbank10_b_level                    -400.26433   \n",
       "rougher.state.floatbank10_c_air                     1248.207204   \n",
       "rougher.state.floatbank10_c_level                   -401.074405   \n",
       "rougher.state.floatbank10_d_air                     1199.770026   \n",
       "rougher.state.floatbank10_d_level                   -400.790582   \n",
       "rougher.state.floatbank10_e_air                      999.925519   \n",
       "rougher.state.floatbank10_e_level                   -399.236999   \n",
       "rougher.state.floatbank10_f_air                      950.320481   \n",
       "rougher.state.floatbank10_f_level                    -400.86434   \n",
       "secondary_cleaner.state.floatbank2_a_air              24.908732   \n",
       "secondary_cleaner.state.floatbank2_a_level          -500.304035   \n",
       "secondary_cleaner.state.floatbank2_b_air              14.996511   \n",
       "secondary_cleaner.state.floatbank2_b_level          -500.993821   \n",
       "secondary_cleaner.state.floatbank3_a_air              20.039689   \n",
       "secondary_cleaner.state.floatbank3_a_level          -450.263164   \n",
       "secondary_cleaner.state.floatbank3_b_air              14.077881   \n",
       "secondary_cleaner.state.floatbank3_b_level          -449.660997   \n",
       "secondary_cleaner.state.floatbank4_a_air              11.962366   \n",
       "secondary_cleaner.state.floatbank4_a_level          -498.767484   \n",
       "secondary_cleaner.state.floatbank4_b_air               8.096893   \n",
       "secondary_cleaner.state.floatbank4_b_level          -500.827423   \n",
       "secondary_cleaner.state.floatbank5_a_air               8.071056   \n",
       "secondary_cleaner.state.floatbank5_a_level          -500.801673   \n",
       "secondary_cleaner.state.floatbank5_b_air               4.905125   \n",
       "secondary_cleaner.state.floatbank5_b_level           -499.82851   \n",
       "secondary_cleaner.state.floatbank6_a_air              24.994862   \n",
       "secondary_cleaner.state.floatbank6_a_level          -500.622559   \n",
       "\n",
       "                                                              3  \\\n",
       "date                                        2016-09-01 03:59:59   \n",
       "primary_cleaner.input.sulfate                        215.336236   \n",
       "primary_cleaner.input.depressant                      12.006805   \n",
       "primary_cleaner.input.feed_size                            7.64   \n",
       "primary_cleaner.input.xanthate                         0.863514   \n",
       "primary_cleaner.state.floatbank8_a_air              1399.618111   \n",
       "primary_cleaner.state.floatbank8_a_level            -498.863574   \n",
       "primary_cleaner.state.floatbank8_b_air               1397.44012   \n",
       "primary_cleaner.state.floatbank8_b_level            -499.211024   \n",
       "primary_cleaner.state.floatbank8_c_air              1400.129303   \n",
       "primary_cleaner.state.floatbank8_c_level            -498.355873   \n",
       "primary_cleaner.state.floatbank8_d_air              1401.065165   \n",
       "primary_cleaner.state.floatbank8_d_level            -501.038738   \n",
       "rougher.input.feed_ag                                 12.400507   \n",
       "rougher.input.feed_pb                                  5.114758   \n",
       "rougher.input.feed_rate                               476.61813   \n",
       "rougher.input.feed_size                               59.865919   \n",
       "rougher.input.feed_sol                                41.060195   \n",
       "rougher.input.feed_au                                 12.181597   \n",
       "rougher.input.floatbank10_sulfate                     16.532144   \n",
       "rougher.input.floatbank10_xanthate                     5.801935   \n",
       "rougher.input.floatbank11_sulfate                     16.515277   \n",
       "rougher.input.floatbank11_xanthate                     5.803657   \n",
       "rougher.state.floatbank10_a_air                     1000.276604   \n",
       "rougher.state.floatbank10_a_level                   -350.172597   \n",
       "rougher.state.floatbank10_b_air                     1251.322675   \n",
       "rougher.state.floatbank10_b_level                   -398.655289   \n",
       "rougher.state.floatbank10_c_air                     1250.493702   \n",
       "rougher.state.floatbank10_c_level                   -399.746728   \n",
       "rougher.state.floatbank10_d_air                     1199.398691   \n",
       "rougher.state.floatbank10_d_level                   -397.503052   \n",
       "rougher.state.floatbank10_e_air                     1001.930679   \n",
       "rougher.state.floatbank10_e_level                   -400.437573   \n",
       "rougher.state.floatbank10_f_air                      950.735324   \n",
       "rougher.state.floatbank10_f_level                   -399.802986   \n",
       "secondary_cleaner.state.floatbank2_a_air              24.893998   \n",
       "secondary_cleaner.state.floatbank2_a_level          -499.382374   \n",
       "secondary_cleaner.state.floatbank2_b_air              14.916674   \n",
       "secondary_cleaner.state.floatbank2_b_level          -499.862299   \n",
       "secondary_cleaner.state.floatbank3_a_air                20.0311   \n",
       "secondary_cleaner.state.floatbank3_a_level           -449.37257   \n",
       "secondary_cleaner.state.floatbank3_b_air              14.013968   \n",
       "secondary_cleaner.state.floatbank3_b_level            -449.5269   \n",
       "secondary_cleaner.state.floatbank4_a_air              12.033091   \n",
       "secondary_cleaner.state.floatbank4_a_level          -498.350935   \n",
       "secondary_cleaner.state.floatbank4_b_air               8.074946   \n",
       "secondary_cleaner.state.floatbank4_b_level          -499.474407   \n",
       "secondary_cleaner.state.floatbank5_a_air               7.897085   \n",
       "secondary_cleaner.state.floatbank5_a_level          -500.868509   \n",
       "secondary_cleaner.state.floatbank5_b_air                 4.9314   \n",
       "secondary_cleaner.state.floatbank5_b_level          -499.963623   \n",
       "secondary_cleaner.state.floatbank6_a_air              24.948919   \n",
       "secondary_cleaner.state.floatbank6_a_level          -498.709987   \n",
       "\n",
       "                                                              4  \n",
       "date                                        2016-09-01 04:59:59  \n",
       "primary_cleaner.input.sulfate                        199.099327  \n",
       "primary_cleaner.input.depressant                       10.68253  \n",
       "primary_cleaner.input.feed_size                            7.53  \n",
       "primary_cleaner.input.xanthate                         0.805575  \n",
       "primary_cleaner.state.floatbank8_a_air              1401.268123  \n",
       "primary_cleaner.state.floatbank8_a_level            -500.808305  \n",
       "primary_cleaner.state.floatbank8_b_air              1398.128818  \n",
       "primary_cleaner.state.floatbank8_b_level            -499.504543  \n",
       "primary_cleaner.state.floatbank8_c_air              1402.172226  \n",
       "primary_cleaner.state.floatbank8_c_level            -500.810606  \n",
       "primary_cleaner.state.floatbank8_d_air              1399.480508  \n",
       "primary_cleaner.state.floatbank8_d_level            -499.374053  \n",
       "rougher.input.feed_ag                                 11.327427  \n",
       "rougher.input.feed_pb                                  4.767383  \n",
       "rougher.input.feed_rate                              488.248117  \n",
       "rougher.input.feed_size                               63.315324  \n",
       "rougher.input.feed_sol                                41.269161  \n",
       "rougher.input.feed_au                                 11.290425  \n",
       "rougher.input.floatbank10_sulfate                     13.607257  \n",
       "rougher.input.floatbank10_xanthate                     5.738081  \n",
       "rougher.input.floatbank11_sulfate                     13.650053  \n",
       "rougher.input.floatbank11_xanthate                     5.739634  \n",
       "rougher.state.floatbank10_a_air                      996.541302  \n",
       "rougher.state.floatbank10_a_level                   -350.562517  \n",
       "rougher.state.floatbank10_b_air                     1304.658848  \n",
       "rougher.state.floatbank10_b_level                   -399.511519  \n",
       "rougher.state.floatbank10_c_air                     1306.455515  \n",
       "rougher.state.floatbank10_c_level                   -399.050685  \n",
       "rougher.state.floatbank10_d_air                     1248.699349  \n",
       "rougher.state.floatbank10_d_level                   -400.876894  \n",
       "rougher.state.floatbank10_e_air                     1058.839106  \n",
       "rougher.state.floatbank10_e_level                   -398.988239  \n",
       "rougher.state.floatbank10_f_air                      949.645313  \n",
       "rougher.state.floatbank10_f_level                   -399.277632  \n",
       "secondary_cleaner.state.floatbank2_a_air              24.886905  \n",
       "secondary_cleaner.state.floatbank2_a_level          -499.357375  \n",
       "secondary_cleaner.state.floatbank2_b_air              14.979233  \n",
       "secondary_cleaner.state.floatbank2_b_level          -500.186804  \n",
       "secondary_cleaner.state.floatbank3_a_air              19.962364  \n",
       "secondary_cleaner.state.floatbank3_a_level          -450.638828  \n",
       "secondary_cleaner.state.floatbank3_b_air              14.009245  \n",
       "secondary_cleaner.state.floatbank3_b_level          -450.022259  \n",
       "secondary_cleaner.state.floatbank4_a_air              12.025367  \n",
       "secondary_cleaner.state.floatbank4_a_level          -500.786497  \n",
       "secondary_cleaner.state.floatbank4_b_air               8.054678  \n",
       "secondary_cleaner.state.floatbank4_b_level            -500.3975  \n",
       "secondary_cleaner.state.floatbank5_a_air                8.10789  \n",
       "secondary_cleaner.state.floatbank5_a_level          -509.526725  \n",
       "secondary_cleaner.state.floatbank5_b_air               4.957674  \n",
       "secondary_cleaner.state.floatbank5_b_level          -500.360026  \n",
       "secondary_cleaner.state.floatbank6_a_air              25.003331  \n",
       "secondary_cleaner.state.floatbank6_a_level          -500.856333  "
      ]
     },
     "metadata": {},
     "output_type": "display_data"
    },
    {
     "name": "stdout",
     "output_type": "stream",
     "text": [
      "\n",
      "Основная информация о таблице:\n",
      "<class 'pandas.core.frame.DataFrame'>\n",
      "RangeIndex: 5290 entries, 0 to 5289\n",
      "Data columns (total 53 columns):\n",
      " #   Column                                      Non-Null Count  Dtype  \n",
      "---  ------                                      --------------  -----  \n",
      " 0   date                                        5290 non-null   object \n",
      " 1   primary_cleaner.input.sulfate               5286 non-null   float64\n",
      " 2   primary_cleaner.input.depressant            5285 non-null   float64\n",
      " 3   primary_cleaner.input.feed_size             5290 non-null   float64\n",
      " 4   primary_cleaner.input.xanthate              5286 non-null   float64\n",
      " 5   primary_cleaner.state.floatbank8_a_air      5290 non-null   float64\n",
      " 6   primary_cleaner.state.floatbank8_a_level    5290 non-null   float64\n",
      " 7   primary_cleaner.state.floatbank8_b_air      5290 non-null   float64\n",
      " 8   primary_cleaner.state.floatbank8_b_level    5290 non-null   float64\n",
      " 9   primary_cleaner.state.floatbank8_c_air      5290 non-null   float64\n",
      " 10  primary_cleaner.state.floatbank8_c_level    5290 non-null   float64\n",
      " 11  primary_cleaner.state.floatbank8_d_air      5290 non-null   float64\n",
      " 12  primary_cleaner.state.floatbank8_d_level    5290 non-null   float64\n",
      " 13  rougher.input.feed_ag                       5290 non-null   float64\n",
      " 14  rougher.input.feed_pb                       5290 non-null   float64\n",
      " 15  rougher.input.feed_rate                     5287 non-null   float64\n",
      " 16  rougher.input.feed_size                     5289 non-null   float64\n",
      " 17  rougher.input.feed_sol                      5269 non-null   float64\n",
      " 18  rougher.input.feed_au                       5290 non-null   float64\n",
      " 19  rougher.input.floatbank10_sulfate           5285 non-null   float64\n",
      " 20  rougher.input.floatbank10_xanthate          5290 non-null   float64\n",
      " 21  rougher.input.floatbank11_sulfate           5282 non-null   float64\n",
      " 22  rougher.input.floatbank11_xanthate          5265 non-null   float64\n",
      " 23  rougher.state.floatbank10_a_air             5290 non-null   float64\n",
      " 24  rougher.state.floatbank10_a_level           5290 non-null   float64\n",
      " 25  rougher.state.floatbank10_b_air             5290 non-null   float64\n",
      " 26  rougher.state.floatbank10_b_level           5290 non-null   float64\n",
      " 27  rougher.state.floatbank10_c_air             5290 non-null   float64\n",
      " 28  rougher.state.floatbank10_c_level           5290 non-null   float64\n",
      " 29  rougher.state.floatbank10_d_air             5290 non-null   float64\n",
      " 30  rougher.state.floatbank10_d_level           5290 non-null   float64\n",
      " 31  rougher.state.floatbank10_e_air             5290 non-null   float64\n",
      " 32  rougher.state.floatbank10_e_level           5290 non-null   float64\n",
      " 33  rougher.state.floatbank10_f_air             5290 non-null   float64\n",
      " 34  rougher.state.floatbank10_f_level           5290 non-null   float64\n",
      " 35  secondary_cleaner.state.floatbank2_a_air    5287 non-null   float64\n",
      " 36  secondary_cleaner.state.floatbank2_a_level  5290 non-null   float64\n",
      " 37  secondary_cleaner.state.floatbank2_b_air    5288 non-null   float64\n",
      " 38  secondary_cleaner.state.floatbank2_b_level  5290 non-null   float64\n",
      " 39  secondary_cleaner.state.floatbank3_a_air    5281 non-null   float64\n",
      " 40  secondary_cleaner.state.floatbank3_a_level  5290 non-null   float64\n",
      " 41  secondary_cleaner.state.floatbank3_b_air    5290 non-null   float64\n",
      " 42  secondary_cleaner.state.floatbank3_b_level  5290 non-null   float64\n",
      " 43  secondary_cleaner.state.floatbank4_a_air    5290 non-null   float64\n",
      " 44  secondary_cleaner.state.floatbank4_a_level  5290 non-null   float64\n",
      " 45  secondary_cleaner.state.floatbank4_b_air    5290 non-null   float64\n",
      " 46  secondary_cleaner.state.floatbank4_b_level  5290 non-null   float64\n",
      " 47  secondary_cleaner.state.floatbank5_a_air    5290 non-null   float64\n",
      " 48  secondary_cleaner.state.floatbank5_a_level  5290 non-null   float64\n",
      " 49  secondary_cleaner.state.floatbank5_b_air    5290 non-null   float64\n",
      " 50  secondary_cleaner.state.floatbank5_b_level  5290 non-null   float64\n",
      " 51  secondary_cleaner.state.floatbank6_a_air    5290 non-null   float64\n",
      " 52  secondary_cleaner.state.floatbank6_a_level  5290 non-null   float64\n",
      "dtypes: float64(52), object(1)\n",
      "memory usage: 2.1+ MB\n",
      "\n",
      "Процент пропущенных значений в каждом столбце:\n"
     ]
    },
    {
     "data": {
      "text/html": [
       "<style  type=\"text/css\" >\n",
       "#T_98589_row0_col0,#T_98589_row3_col0,#T_98589_row5_col0,#T_98589_row6_col0,#T_98589_row7_col0,#T_98589_row8_col0,#T_98589_row9_col0,#T_98589_row10_col0,#T_98589_row11_col0,#T_98589_row12_col0,#T_98589_row13_col0,#T_98589_row14_col0,#T_98589_row18_col0,#T_98589_row20_col0,#T_98589_row23_col0,#T_98589_row24_col0,#T_98589_row25_col0,#T_98589_row26_col0,#T_98589_row27_col0,#T_98589_row28_col0,#T_98589_row29_col0,#T_98589_row30_col0,#T_98589_row31_col0,#T_98589_row32_col0,#T_98589_row33_col0,#T_98589_row34_col0,#T_98589_row36_col0,#T_98589_row38_col0,#T_98589_row40_col0,#T_98589_row41_col0,#T_98589_row42_col0,#T_98589_row43_col0,#T_98589_row44_col0,#T_98589_row45_col0,#T_98589_row46_col0,#T_98589_row47_col0,#T_98589_row48_col0,#T_98589_row49_col0,#T_98589_row50_col0,#T_98589_row51_col0,#T_98589_row52_col0{\n",
       "            background-color:  #3b4cc0;\n",
       "            color:  #f1f1f1;\n",
       "        }#T_98589_row1_col0,#T_98589_row4_col0{\n",
       "            background-color:  #7093f3;\n",
       "            color:  #000000;\n",
       "        }#T_98589_row2_col0,#T_98589_row19_col0{\n",
       "            background-color:  #799cf8;\n",
       "            color:  #000000;\n",
       "        }#T_98589_row15_col0,#T_98589_row35_col0{\n",
       "            background-color:  #6282ea;\n",
       "            color:  #000000;\n",
       "        }#T_98589_row16_col0{\n",
       "            background-color:  #465ecf;\n",
       "            color:  #f1f1f1;\n",
       "        }#T_98589_row17_col0{\n",
       "            background-color:  #e36c55;\n",
       "            color:  #000000;\n",
       "        }#T_98589_row21_col0{\n",
       "            background-color:  #a5c3fe;\n",
       "            color:  #000000;\n",
       "        }#T_98589_row22_col0{\n",
       "            background-color:  #b40426;\n",
       "            color:  #f1f1f1;\n",
       "        }#T_98589_row37_col0{\n",
       "            background-color:  #5470de;\n",
       "            color:  #000000;\n",
       "        }#T_98589_row39_col0{\n",
       "            background-color:  #b3cdfb;\n",
       "            color:  #000000;\n",
       "        }</style><table id=\"T_98589_\" ><thead>    <tr>        <th class=\"blank level0\" ></th>        <th class=\"col_heading level0 col0\" >0</th>    </tr></thead><tbody>\n",
       "                <tr>\n",
       "                        <th id=\"T_98589_level0_row0\" class=\"row_heading level0 row0\" >date</th>\n",
       "                        <td id=\"T_98589_row0_col0\" class=\"data row0 col0\" >0.000000</td>\n",
       "            </tr>\n",
       "            <tr>\n",
       "                        <th id=\"T_98589_level0_row1\" class=\"row_heading level0 row1\" >primary_cleaner.input.sulfate</th>\n",
       "                        <td id=\"T_98589_row1_col0\" class=\"data row1 col0\" >0.080000</td>\n",
       "            </tr>\n",
       "            <tr>\n",
       "                        <th id=\"T_98589_level0_row2\" class=\"row_heading level0 row2\" >primary_cleaner.input.depressant</th>\n",
       "                        <td id=\"T_98589_row2_col0\" class=\"data row2 col0\" >0.090000</td>\n",
       "            </tr>\n",
       "            <tr>\n",
       "                        <th id=\"T_98589_level0_row3\" class=\"row_heading level0 row3\" >primary_cleaner.input.feed_size</th>\n",
       "                        <td id=\"T_98589_row3_col0\" class=\"data row3 col0\" >0.000000</td>\n",
       "            </tr>\n",
       "            <tr>\n",
       "                        <th id=\"T_98589_level0_row4\" class=\"row_heading level0 row4\" >primary_cleaner.input.xanthate</th>\n",
       "                        <td id=\"T_98589_row4_col0\" class=\"data row4 col0\" >0.080000</td>\n",
       "            </tr>\n",
       "            <tr>\n",
       "                        <th id=\"T_98589_level0_row5\" class=\"row_heading level0 row5\" >primary_cleaner.state.floatbank8_a_air</th>\n",
       "                        <td id=\"T_98589_row5_col0\" class=\"data row5 col0\" >0.000000</td>\n",
       "            </tr>\n",
       "            <tr>\n",
       "                        <th id=\"T_98589_level0_row6\" class=\"row_heading level0 row6\" >primary_cleaner.state.floatbank8_a_level</th>\n",
       "                        <td id=\"T_98589_row6_col0\" class=\"data row6 col0\" >0.000000</td>\n",
       "            </tr>\n",
       "            <tr>\n",
       "                        <th id=\"T_98589_level0_row7\" class=\"row_heading level0 row7\" >primary_cleaner.state.floatbank8_b_air</th>\n",
       "                        <td id=\"T_98589_row7_col0\" class=\"data row7 col0\" >0.000000</td>\n",
       "            </tr>\n",
       "            <tr>\n",
       "                        <th id=\"T_98589_level0_row8\" class=\"row_heading level0 row8\" >primary_cleaner.state.floatbank8_b_level</th>\n",
       "                        <td id=\"T_98589_row8_col0\" class=\"data row8 col0\" >0.000000</td>\n",
       "            </tr>\n",
       "            <tr>\n",
       "                        <th id=\"T_98589_level0_row9\" class=\"row_heading level0 row9\" >primary_cleaner.state.floatbank8_c_air</th>\n",
       "                        <td id=\"T_98589_row9_col0\" class=\"data row9 col0\" >0.000000</td>\n",
       "            </tr>\n",
       "            <tr>\n",
       "                        <th id=\"T_98589_level0_row10\" class=\"row_heading level0 row10\" >primary_cleaner.state.floatbank8_c_level</th>\n",
       "                        <td id=\"T_98589_row10_col0\" class=\"data row10 col0\" >0.000000</td>\n",
       "            </tr>\n",
       "            <tr>\n",
       "                        <th id=\"T_98589_level0_row11\" class=\"row_heading level0 row11\" >primary_cleaner.state.floatbank8_d_air</th>\n",
       "                        <td id=\"T_98589_row11_col0\" class=\"data row11 col0\" >0.000000</td>\n",
       "            </tr>\n",
       "            <tr>\n",
       "                        <th id=\"T_98589_level0_row12\" class=\"row_heading level0 row12\" >primary_cleaner.state.floatbank8_d_level</th>\n",
       "                        <td id=\"T_98589_row12_col0\" class=\"data row12 col0\" >0.000000</td>\n",
       "            </tr>\n",
       "            <tr>\n",
       "                        <th id=\"T_98589_level0_row13\" class=\"row_heading level0 row13\" >rougher.input.feed_ag</th>\n",
       "                        <td id=\"T_98589_row13_col0\" class=\"data row13 col0\" >0.000000</td>\n",
       "            </tr>\n",
       "            <tr>\n",
       "                        <th id=\"T_98589_level0_row14\" class=\"row_heading level0 row14\" >rougher.input.feed_pb</th>\n",
       "                        <td id=\"T_98589_row14_col0\" class=\"data row14 col0\" >0.000000</td>\n",
       "            </tr>\n",
       "            <tr>\n",
       "                        <th id=\"T_98589_level0_row15\" class=\"row_heading level0 row15\" >rougher.input.feed_rate</th>\n",
       "                        <td id=\"T_98589_row15_col0\" class=\"data row15 col0\" >0.060000</td>\n",
       "            </tr>\n",
       "            <tr>\n",
       "                        <th id=\"T_98589_level0_row16\" class=\"row_heading level0 row16\" >rougher.input.feed_size</th>\n",
       "                        <td id=\"T_98589_row16_col0\" class=\"data row16 col0\" >0.020000</td>\n",
       "            </tr>\n",
       "            <tr>\n",
       "                        <th id=\"T_98589_level0_row17\" class=\"row_heading level0 row17\" >rougher.input.feed_sol</th>\n",
       "                        <td id=\"T_98589_row17_col0\" class=\"data row17 col0\" >0.400000</td>\n",
       "            </tr>\n",
       "            <tr>\n",
       "                        <th id=\"T_98589_level0_row18\" class=\"row_heading level0 row18\" >rougher.input.feed_au</th>\n",
       "                        <td id=\"T_98589_row18_col0\" class=\"data row18 col0\" >0.000000</td>\n",
       "            </tr>\n",
       "            <tr>\n",
       "                        <th id=\"T_98589_level0_row19\" class=\"row_heading level0 row19\" >rougher.input.floatbank10_sulfate</th>\n",
       "                        <td id=\"T_98589_row19_col0\" class=\"data row19 col0\" >0.090000</td>\n",
       "            </tr>\n",
       "            <tr>\n",
       "                        <th id=\"T_98589_level0_row20\" class=\"row_heading level0 row20\" >rougher.input.floatbank10_xanthate</th>\n",
       "                        <td id=\"T_98589_row20_col0\" class=\"data row20 col0\" >0.000000</td>\n",
       "            </tr>\n",
       "            <tr>\n",
       "                        <th id=\"T_98589_level0_row21\" class=\"row_heading level0 row21\" >rougher.input.floatbank11_sulfate</th>\n",
       "                        <td id=\"T_98589_row21_col0\" class=\"data row21 col0\" >0.150000</td>\n",
       "            </tr>\n",
       "            <tr>\n",
       "                        <th id=\"T_98589_level0_row22\" class=\"row_heading level0 row22\" >rougher.input.floatbank11_xanthate</th>\n",
       "                        <td id=\"T_98589_row22_col0\" class=\"data row22 col0\" >0.470000</td>\n",
       "            </tr>\n",
       "            <tr>\n",
       "                        <th id=\"T_98589_level0_row23\" class=\"row_heading level0 row23\" >rougher.state.floatbank10_a_air</th>\n",
       "                        <td id=\"T_98589_row23_col0\" class=\"data row23 col0\" >0.000000</td>\n",
       "            </tr>\n",
       "            <tr>\n",
       "                        <th id=\"T_98589_level0_row24\" class=\"row_heading level0 row24\" >rougher.state.floatbank10_a_level</th>\n",
       "                        <td id=\"T_98589_row24_col0\" class=\"data row24 col0\" >0.000000</td>\n",
       "            </tr>\n",
       "            <tr>\n",
       "                        <th id=\"T_98589_level0_row25\" class=\"row_heading level0 row25\" >rougher.state.floatbank10_b_air</th>\n",
       "                        <td id=\"T_98589_row25_col0\" class=\"data row25 col0\" >0.000000</td>\n",
       "            </tr>\n",
       "            <tr>\n",
       "                        <th id=\"T_98589_level0_row26\" class=\"row_heading level0 row26\" >rougher.state.floatbank10_b_level</th>\n",
       "                        <td id=\"T_98589_row26_col0\" class=\"data row26 col0\" >0.000000</td>\n",
       "            </tr>\n",
       "            <tr>\n",
       "                        <th id=\"T_98589_level0_row27\" class=\"row_heading level0 row27\" >rougher.state.floatbank10_c_air</th>\n",
       "                        <td id=\"T_98589_row27_col0\" class=\"data row27 col0\" >0.000000</td>\n",
       "            </tr>\n",
       "            <tr>\n",
       "                        <th id=\"T_98589_level0_row28\" class=\"row_heading level0 row28\" >rougher.state.floatbank10_c_level</th>\n",
       "                        <td id=\"T_98589_row28_col0\" class=\"data row28 col0\" >0.000000</td>\n",
       "            </tr>\n",
       "            <tr>\n",
       "                        <th id=\"T_98589_level0_row29\" class=\"row_heading level0 row29\" >rougher.state.floatbank10_d_air</th>\n",
       "                        <td id=\"T_98589_row29_col0\" class=\"data row29 col0\" >0.000000</td>\n",
       "            </tr>\n",
       "            <tr>\n",
       "                        <th id=\"T_98589_level0_row30\" class=\"row_heading level0 row30\" >rougher.state.floatbank10_d_level</th>\n",
       "                        <td id=\"T_98589_row30_col0\" class=\"data row30 col0\" >0.000000</td>\n",
       "            </tr>\n",
       "            <tr>\n",
       "                        <th id=\"T_98589_level0_row31\" class=\"row_heading level0 row31\" >rougher.state.floatbank10_e_air</th>\n",
       "                        <td id=\"T_98589_row31_col0\" class=\"data row31 col0\" >0.000000</td>\n",
       "            </tr>\n",
       "            <tr>\n",
       "                        <th id=\"T_98589_level0_row32\" class=\"row_heading level0 row32\" >rougher.state.floatbank10_e_level</th>\n",
       "                        <td id=\"T_98589_row32_col0\" class=\"data row32 col0\" >0.000000</td>\n",
       "            </tr>\n",
       "            <tr>\n",
       "                        <th id=\"T_98589_level0_row33\" class=\"row_heading level0 row33\" >rougher.state.floatbank10_f_air</th>\n",
       "                        <td id=\"T_98589_row33_col0\" class=\"data row33 col0\" >0.000000</td>\n",
       "            </tr>\n",
       "            <tr>\n",
       "                        <th id=\"T_98589_level0_row34\" class=\"row_heading level0 row34\" >rougher.state.floatbank10_f_level</th>\n",
       "                        <td id=\"T_98589_row34_col0\" class=\"data row34 col0\" >0.000000</td>\n",
       "            </tr>\n",
       "            <tr>\n",
       "                        <th id=\"T_98589_level0_row35\" class=\"row_heading level0 row35\" >secondary_cleaner.state.floatbank2_a_air</th>\n",
       "                        <td id=\"T_98589_row35_col0\" class=\"data row35 col0\" >0.060000</td>\n",
       "            </tr>\n",
       "            <tr>\n",
       "                        <th id=\"T_98589_level0_row36\" class=\"row_heading level0 row36\" >secondary_cleaner.state.floatbank2_a_level</th>\n",
       "                        <td id=\"T_98589_row36_col0\" class=\"data row36 col0\" >0.000000</td>\n",
       "            </tr>\n",
       "            <tr>\n",
       "                        <th id=\"T_98589_level0_row37\" class=\"row_heading level0 row37\" >secondary_cleaner.state.floatbank2_b_air</th>\n",
       "                        <td id=\"T_98589_row37_col0\" class=\"data row37 col0\" >0.040000</td>\n",
       "            </tr>\n",
       "            <tr>\n",
       "                        <th id=\"T_98589_level0_row38\" class=\"row_heading level0 row38\" >secondary_cleaner.state.floatbank2_b_level</th>\n",
       "                        <td id=\"T_98589_row38_col0\" class=\"data row38 col0\" >0.000000</td>\n",
       "            </tr>\n",
       "            <tr>\n",
       "                        <th id=\"T_98589_level0_row39\" class=\"row_heading level0 row39\" >secondary_cleaner.state.floatbank3_a_air</th>\n",
       "                        <td id=\"T_98589_row39_col0\" class=\"data row39 col0\" >0.170000</td>\n",
       "            </tr>\n",
       "            <tr>\n",
       "                        <th id=\"T_98589_level0_row40\" class=\"row_heading level0 row40\" >secondary_cleaner.state.floatbank3_a_level</th>\n",
       "                        <td id=\"T_98589_row40_col0\" class=\"data row40 col0\" >0.000000</td>\n",
       "            </tr>\n",
       "            <tr>\n",
       "                        <th id=\"T_98589_level0_row41\" class=\"row_heading level0 row41\" >secondary_cleaner.state.floatbank3_b_air</th>\n",
       "                        <td id=\"T_98589_row41_col0\" class=\"data row41 col0\" >0.000000</td>\n",
       "            </tr>\n",
       "            <tr>\n",
       "                        <th id=\"T_98589_level0_row42\" class=\"row_heading level0 row42\" >secondary_cleaner.state.floatbank3_b_level</th>\n",
       "                        <td id=\"T_98589_row42_col0\" class=\"data row42 col0\" >0.000000</td>\n",
       "            </tr>\n",
       "            <tr>\n",
       "                        <th id=\"T_98589_level0_row43\" class=\"row_heading level0 row43\" >secondary_cleaner.state.floatbank4_a_air</th>\n",
       "                        <td id=\"T_98589_row43_col0\" class=\"data row43 col0\" >0.000000</td>\n",
       "            </tr>\n",
       "            <tr>\n",
       "                        <th id=\"T_98589_level0_row44\" class=\"row_heading level0 row44\" >secondary_cleaner.state.floatbank4_a_level</th>\n",
       "                        <td id=\"T_98589_row44_col0\" class=\"data row44 col0\" >0.000000</td>\n",
       "            </tr>\n",
       "            <tr>\n",
       "                        <th id=\"T_98589_level0_row45\" class=\"row_heading level0 row45\" >secondary_cleaner.state.floatbank4_b_air</th>\n",
       "                        <td id=\"T_98589_row45_col0\" class=\"data row45 col0\" >0.000000</td>\n",
       "            </tr>\n",
       "            <tr>\n",
       "                        <th id=\"T_98589_level0_row46\" class=\"row_heading level0 row46\" >secondary_cleaner.state.floatbank4_b_level</th>\n",
       "                        <td id=\"T_98589_row46_col0\" class=\"data row46 col0\" >0.000000</td>\n",
       "            </tr>\n",
       "            <tr>\n",
       "                        <th id=\"T_98589_level0_row47\" class=\"row_heading level0 row47\" >secondary_cleaner.state.floatbank5_a_air</th>\n",
       "                        <td id=\"T_98589_row47_col0\" class=\"data row47 col0\" >0.000000</td>\n",
       "            </tr>\n",
       "            <tr>\n",
       "                        <th id=\"T_98589_level0_row48\" class=\"row_heading level0 row48\" >secondary_cleaner.state.floatbank5_a_level</th>\n",
       "                        <td id=\"T_98589_row48_col0\" class=\"data row48 col0\" >0.000000</td>\n",
       "            </tr>\n",
       "            <tr>\n",
       "                        <th id=\"T_98589_level0_row49\" class=\"row_heading level0 row49\" >secondary_cleaner.state.floatbank5_b_air</th>\n",
       "                        <td id=\"T_98589_row49_col0\" class=\"data row49 col0\" >0.000000</td>\n",
       "            </tr>\n",
       "            <tr>\n",
       "                        <th id=\"T_98589_level0_row50\" class=\"row_heading level0 row50\" >secondary_cleaner.state.floatbank5_b_level</th>\n",
       "                        <td id=\"T_98589_row50_col0\" class=\"data row50 col0\" >0.000000</td>\n",
       "            </tr>\n",
       "            <tr>\n",
       "                        <th id=\"T_98589_level0_row51\" class=\"row_heading level0 row51\" >secondary_cleaner.state.floatbank6_a_air</th>\n",
       "                        <td id=\"T_98589_row51_col0\" class=\"data row51 col0\" >0.000000</td>\n",
       "            </tr>\n",
       "            <tr>\n",
       "                        <th id=\"T_98589_level0_row52\" class=\"row_heading level0 row52\" >secondary_cleaner.state.floatbank6_a_level</th>\n",
       "                        <td id=\"T_98589_row52_col0\" class=\"data row52 col0\" >0.000000</td>\n",
       "            </tr>\n",
       "    </tbody></table>"
      ],
      "text/plain": [
       "<pandas.io.formats.style.Styler at 0x7f2a7c57fb20>"
      ]
     },
     "metadata": {},
     "output_type": "display_data"
    },
    {
     "name": "stdout",
     "output_type": "stream",
     "text": [
      "\n",
      "Количество полных дубликатов: 0\n",
      "\n",
      "Количество дубликатов в столбце date: 0\n"
     ]
    }
   ],
   "source": [
    "data_info(df_test)"
   ]
  },
  {
   "cell_type": "code",
   "execution_count": 6,
   "metadata": {
    "scrolled": true
   },
   "outputs": [
    {
     "name": "stdout",
     "output_type": "stream",
     "text": [
      "Первые пять строк таблицы:\n"
     ]
    },
    {
     "data": {
      "text/html": [
       "<div>\n",
       "<style scoped>\n",
       "    .dataframe tbody tr th:only-of-type {\n",
       "        vertical-align: middle;\n",
       "    }\n",
       "\n",
       "    .dataframe tbody tr th {\n",
       "        vertical-align: top;\n",
       "    }\n",
       "\n",
       "    .dataframe thead th {\n",
       "        text-align: right;\n",
       "    }\n",
       "</style>\n",
       "<table border=\"1\" class=\"dataframe\">\n",
       "  <thead>\n",
       "    <tr style=\"text-align: right;\">\n",
       "      <th></th>\n",
       "      <th>0</th>\n",
       "      <th>1</th>\n",
       "      <th>2</th>\n",
       "      <th>3</th>\n",
       "      <th>4</th>\n",
       "    </tr>\n",
       "  </thead>\n",
       "  <tbody>\n",
       "    <tr>\n",
       "      <th>date</th>\n",
       "      <td>2016-01-15 00:00:00</td>\n",
       "      <td>2016-01-15 01:00:00</td>\n",
       "      <td>2016-01-15 02:00:00</td>\n",
       "      <td>2016-01-15 03:00:00</td>\n",
       "      <td>2016-01-15 04:00:00</td>\n",
       "    </tr>\n",
       "    <tr>\n",
       "      <th>final.output.concentrate_ag</th>\n",
       "      <td>6.055403</td>\n",
       "      <td>6.029369</td>\n",
       "      <td>6.055926</td>\n",
       "      <td>6.047977</td>\n",
       "      <td>6.148599</td>\n",
       "    </tr>\n",
       "    <tr>\n",
       "      <th>final.output.concentrate_pb</th>\n",
       "      <td>9.889648</td>\n",
       "      <td>9.968944</td>\n",
       "      <td>10.213995</td>\n",
       "      <td>9.977019</td>\n",
       "      <td>10.142511</td>\n",
       "    </tr>\n",
       "    <tr>\n",
       "      <th>final.output.concentrate_sol</th>\n",
       "      <td>5.507324</td>\n",
       "      <td>5.257781</td>\n",
       "      <td>5.383759</td>\n",
       "      <td>4.858634</td>\n",
       "      <td>4.939416</td>\n",
       "    </tr>\n",
       "    <tr>\n",
       "      <th>final.output.concentrate_au</th>\n",
       "      <td>42.19202</td>\n",
       "      <td>42.701629</td>\n",
       "      <td>42.657501</td>\n",
       "      <td>42.689819</td>\n",
       "      <td>42.774141</td>\n",
       "    </tr>\n",
       "    <tr>\n",
       "      <th>...</th>\n",
       "      <td>...</td>\n",
       "      <td>...</td>\n",
       "      <td>...</td>\n",
       "      <td>...</td>\n",
       "      <td>...</td>\n",
       "    </tr>\n",
       "    <tr>\n",
       "      <th>secondary_cleaner.state.floatbank5_a_level</th>\n",
       "      <td>-498.310211</td>\n",
       "      <td>-500.169983</td>\n",
       "      <td>-500.129135</td>\n",
       "      <td>-499.20164</td>\n",
       "      <td>-501.686727</td>\n",
       "    </tr>\n",
       "    <tr>\n",
       "      <th>secondary_cleaner.state.floatbank5_b_air</th>\n",
       "      <td>8.079666</td>\n",
       "      <td>7.984757</td>\n",
       "      <td>8.013877</td>\n",
       "      <td>7.977324</td>\n",
       "      <td>7.894242</td>\n",
       "    </tr>\n",
       "    <tr>\n",
       "      <th>secondary_cleaner.state.floatbank5_b_level</th>\n",
       "      <td>-500.470978</td>\n",
       "      <td>-500.582168</td>\n",
       "      <td>-500.517572</td>\n",
       "      <td>-500.255908</td>\n",
       "      <td>-500.356035</td>\n",
       "    </tr>\n",
       "    <tr>\n",
       "      <th>secondary_cleaner.state.floatbank6_a_air</th>\n",
       "      <td>14.151341</td>\n",
       "      <td>13.998353</td>\n",
       "      <td>14.028663</td>\n",
       "      <td>14.005551</td>\n",
       "      <td>13.996647</td>\n",
       "    </tr>\n",
       "    <tr>\n",
       "      <th>secondary_cleaner.state.floatbank6_a_level</th>\n",
       "      <td>-605.84198</td>\n",
       "      <td>-599.787184</td>\n",
       "      <td>-601.427363</td>\n",
       "      <td>-599.996129</td>\n",
       "      <td>-601.496691</td>\n",
       "    </tr>\n",
       "  </tbody>\n",
       "</table>\n",
       "<p>87 rows × 5 columns</p>\n",
       "</div>"
      ],
      "text/plain": [
       "                                                              0  \\\n",
       "date                                        2016-01-15 00:00:00   \n",
       "final.output.concentrate_ag                            6.055403   \n",
       "final.output.concentrate_pb                            9.889648   \n",
       "final.output.concentrate_sol                           5.507324   \n",
       "final.output.concentrate_au                            42.19202   \n",
       "...                                                         ...   \n",
       "secondary_cleaner.state.floatbank5_a_level          -498.310211   \n",
       "secondary_cleaner.state.floatbank5_b_air               8.079666   \n",
       "secondary_cleaner.state.floatbank5_b_level          -500.470978   \n",
       "secondary_cleaner.state.floatbank6_a_air              14.151341   \n",
       "secondary_cleaner.state.floatbank6_a_level           -605.84198   \n",
       "\n",
       "                                                              1  \\\n",
       "date                                        2016-01-15 01:00:00   \n",
       "final.output.concentrate_ag                            6.029369   \n",
       "final.output.concentrate_pb                            9.968944   \n",
       "final.output.concentrate_sol                           5.257781   \n",
       "final.output.concentrate_au                           42.701629   \n",
       "...                                                         ...   \n",
       "secondary_cleaner.state.floatbank5_a_level          -500.169983   \n",
       "secondary_cleaner.state.floatbank5_b_air               7.984757   \n",
       "secondary_cleaner.state.floatbank5_b_level          -500.582168   \n",
       "secondary_cleaner.state.floatbank6_a_air              13.998353   \n",
       "secondary_cleaner.state.floatbank6_a_level          -599.787184   \n",
       "\n",
       "                                                              2  \\\n",
       "date                                        2016-01-15 02:00:00   \n",
       "final.output.concentrate_ag                            6.055926   \n",
       "final.output.concentrate_pb                           10.213995   \n",
       "final.output.concentrate_sol                           5.383759   \n",
       "final.output.concentrate_au                           42.657501   \n",
       "...                                                         ...   \n",
       "secondary_cleaner.state.floatbank5_a_level          -500.129135   \n",
       "secondary_cleaner.state.floatbank5_b_air               8.013877   \n",
       "secondary_cleaner.state.floatbank5_b_level          -500.517572   \n",
       "secondary_cleaner.state.floatbank6_a_air              14.028663   \n",
       "secondary_cleaner.state.floatbank6_a_level          -601.427363   \n",
       "\n",
       "                                                              3  \\\n",
       "date                                        2016-01-15 03:00:00   \n",
       "final.output.concentrate_ag                            6.047977   \n",
       "final.output.concentrate_pb                            9.977019   \n",
       "final.output.concentrate_sol                           4.858634   \n",
       "final.output.concentrate_au                           42.689819   \n",
       "...                                                         ...   \n",
       "secondary_cleaner.state.floatbank5_a_level           -499.20164   \n",
       "secondary_cleaner.state.floatbank5_b_air               7.977324   \n",
       "secondary_cleaner.state.floatbank5_b_level          -500.255908   \n",
       "secondary_cleaner.state.floatbank6_a_air              14.005551   \n",
       "secondary_cleaner.state.floatbank6_a_level          -599.996129   \n",
       "\n",
       "                                                              4  \n",
       "date                                        2016-01-15 04:00:00  \n",
       "final.output.concentrate_ag                            6.148599  \n",
       "final.output.concentrate_pb                           10.142511  \n",
       "final.output.concentrate_sol                           4.939416  \n",
       "final.output.concentrate_au                           42.774141  \n",
       "...                                                         ...  \n",
       "secondary_cleaner.state.floatbank5_a_level          -501.686727  \n",
       "secondary_cleaner.state.floatbank5_b_air               7.894242  \n",
       "secondary_cleaner.state.floatbank5_b_level          -500.356035  \n",
       "secondary_cleaner.state.floatbank6_a_air              13.996647  \n",
       "secondary_cleaner.state.floatbank6_a_level          -601.496691  \n",
       "\n",
       "[87 rows x 5 columns]"
      ]
     },
     "metadata": {},
     "output_type": "display_data"
    },
    {
     "name": "stdout",
     "output_type": "stream",
     "text": [
      "\n",
      "Основная информация о таблице:\n",
      "<class 'pandas.core.frame.DataFrame'>\n",
      "RangeIndex: 19439 entries, 0 to 19438\n",
      "Data columns (total 87 columns):\n",
      " #   Column                                              Non-Null Count  Dtype  \n",
      "---  ------                                              --------------  -----  \n",
      " 0   date                                                19439 non-null  object \n",
      " 1   final.output.concentrate_ag                         19438 non-null  float64\n",
      " 2   final.output.concentrate_pb                         19438 non-null  float64\n",
      " 3   final.output.concentrate_sol                        19228 non-null  float64\n",
      " 4   final.output.concentrate_au                         19439 non-null  float64\n",
      " 5   final.output.recovery                               19439 non-null  float64\n",
      " 6   final.output.tail_ag                                19438 non-null  float64\n",
      " 7   final.output.tail_pb                                19338 non-null  float64\n",
      " 8   final.output.tail_sol                               19433 non-null  float64\n",
      " 9   final.output.tail_au                                19439 non-null  float64\n",
      " 10  primary_cleaner.input.sulfate                       19415 non-null  float64\n",
      " 11  primary_cleaner.input.depressant                    19402 non-null  float64\n",
      " 12  primary_cleaner.input.feed_size                     19439 non-null  float64\n",
      " 13  primary_cleaner.input.xanthate                      19335 non-null  float64\n",
      " 14  primary_cleaner.output.concentrate_ag               19439 non-null  float64\n",
      " 15  primary_cleaner.output.concentrate_pb               19323 non-null  float64\n",
      " 16  primary_cleaner.output.concentrate_sol              19069 non-null  float64\n",
      " 17  primary_cleaner.output.concentrate_au               19439 non-null  float64\n",
      " 18  primary_cleaner.output.tail_ag                      19435 non-null  float64\n",
      " 19  primary_cleaner.output.tail_pb                      19418 non-null  float64\n",
      " 20  primary_cleaner.output.tail_sol                     19377 non-null  float64\n",
      " 21  primary_cleaner.output.tail_au                      19439 non-null  float64\n",
      " 22  primary_cleaner.state.floatbank8_a_air              19435 non-null  float64\n",
      " 23  primary_cleaner.state.floatbank8_a_level            19438 non-null  float64\n",
      " 24  primary_cleaner.state.floatbank8_b_air              19435 non-null  float64\n",
      " 25  primary_cleaner.state.floatbank8_b_level            19438 non-null  float64\n",
      " 26  primary_cleaner.state.floatbank8_c_air              19437 non-null  float64\n",
      " 27  primary_cleaner.state.floatbank8_c_level            19438 non-null  float64\n",
      " 28  primary_cleaner.state.floatbank8_d_air              19436 non-null  float64\n",
      " 29  primary_cleaner.state.floatbank8_d_level            19438 non-null  float64\n",
      " 30  rougher.calculation.sulfate_to_au_concentrate       19437 non-null  float64\n",
      " 31  rougher.calculation.floatbank10_sulfate_to_au_feed  19437 non-null  float64\n",
      " 32  rougher.calculation.floatbank11_sulfate_to_au_feed  19437 non-null  float64\n",
      " 33  rougher.calculation.au_pb_ratio                     19439 non-null  float64\n",
      " 34  rougher.input.feed_ag                               19439 non-null  float64\n",
      " 35  rougher.input.feed_pb                               19339 non-null  float64\n",
      " 36  rougher.input.feed_rate                             19428 non-null  float64\n",
      " 37  rougher.input.feed_size                             19294 non-null  float64\n",
      " 38  rougher.input.feed_sol                              19340 non-null  float64\n",
      " 39  rougher.input.feed_au                               19439 non-null  float64\n",
      " 40  rougher.input.floatbank10_sulfate                   19405 non-null  float64\n",
      " 41  rougher.input.floatbank10_xanthate                  19431 non-null  float64\n",
      " 42  rougher.input.floatbank11_sulfate                   19395 non-null  float64\n",
      " 43  rougher.input.floatbank11_xanthate                  18986 non-null  float64\n",
      " 44  rougher.output.concentrate_ag                       19439 non-null  float64\n",
      " 45  rougher.output.concentrate_pb                       19439 non-null  float64\n",
      " 46  rougher.output.concentrate_sol                      19416 non-null  float64\n",
      " 47  rougher.output.concentrate_au                       19439 non-null  float64\n",
      " 48  rougher.output.recovery                             19439 non-null  float64\n",
      " 49  rougher.output.tail_ag                              19438 non-null  float64\n",
      " 50  rougher.output.tail_pb                              19439 non-null  float64\n",
      " 51  rougher.output.tail_sol                             19439 non-null  float64\n",
      " 52  rougher.output.tail_au                              19439 non-null  float64\n",
      " 53  rougher.state.floatbank10_a_air                     19438 non-null  float64\n",
      " 54  rougher.state.floatbank10_a_level                   19438 non-null  float64\n",
      " 55  rougher.state.floatbank10_b_air                     19438 non-null  float64\n",
      " 56  rougher.state.floatbank10_b_level                   19438 non-null  float64\n",
      " 57  rougher.state.floatbank10_c_air                     19438 non-null  float64\n",
      " 58  rougher.state.floatbank10_c_level                   19438 non-null  float64\n",
      " 59  rougher.state.floatbank10_d_air                     19439 non-null  float64\n",
      " 60  rougher.state.floatbank10_d_level                   19439 non-null  float64\n",
      " 61  rougher.state.floatbank10_e_air                     19003 non-null  float64\n",
      " 62  rougher.state.floatbank10_e_level                   19439 non-null  float64\n",
      " 63  rougher.state.floatbank10_f_air                     19439 non-null  float64\n",
      " 64  rougher.state.floatbank10_f_level                   19439 non-null  float64\n",
      " 65  secondary_cleaner.output.tail_ag                    19437 non-null  float64\n",
      " 66  secondary_cleaner.output.tail_pb                    19427 non-null  float64\n",
      " 67  secondary_cleaner.output.tail_sol                   17691 non-null  float64\n",
      " 68  secondary_cleaner.output.tail_au                    19439 non-null  float64\n",
      " 69  secondary_cleaner.state.floatbank2_a_air            19219 non-null  float64\n",
      " 70  secondary_cleaner.state.floatbank2_a_level          19438 non-null  float64\n",
      " 71  secondary_cleaner.state.floatbank2_b_air            19416 non-null  float64\n",
      " 72  secondary_cleaner.state.floatbank2_b_level          19438 non-null  float64\n",
      " 73  secondary_cleaner.state.floatbank3_a_air            19426 non-null  float64\n",
      " 74  secondary_cleaner.state.floatbank3_a_level          19438 non-null  float64\n",
      " 75  secondary_cleaner.state.floatbank3_b_air            19438 non-null  float64\n",
      " 76  secondary_cleaner.state.floatbank3_b_level          19438 non-null  float64\n",
      " 77  secondary_cleaner.state.floatbank4_a_air            19433 non-null  float64\n",
      " 78  secondary_cleaner.state.floatbank4_a_level          19438 non-null  float64\n",
      " 79  secondary_cleaner.state.floatbank4_b_air            19438 non-null  float64\n",
      " 80  secondary_cleaner.state.floatbank4_b_level          19438 non-null  float64\n",
      " 81  secondary_cleaner.state.floatbank5_a_air            19438 non-null  float64\n",
      " 82  secondary_cleaner.state.floatbank5_a_level          19438 non-null  float64\n",
      " 83  secondary_cleaner.state.floatbank5_b_air            19438 non-null  float64\n",
      " 84  secondary_cleaner.state.floatbank5_b_level          19438 non-null  float64\n",
      " 85  secondary_cleaner.state.floatbank6_a_air            19437 non-null  float64\n",
      " 86  secondary_cleaner.state.floatbank6_a_level          19438 non-null  float64\n",
      "dtypes: float64(86), object(1)\n",
      "memory usage: 12.9+ MB\n",
      "\n",
      "Процент пропущенных значений в каждом столбце:\n"
     ]
    },
    {
     "data": {
      "text/html": [
       "<style  type=\"text/css\" >\n",
       "#T_73d5a_row0_col0,#T_73d5a_row1_col0,#T_73d5a_row2_col0,#T_73d5a_row4_col0,#T_73d5a_row5_col0,#T_73d5a_row6_col0,#T_73d5a_row8_col0,#T_73d5a_row9_col0,#T_73d5a_row12_col0,#T_73d5a_row14_col0,#T_73d5a_row17_col0,#T_73d5a_row18_col0,#T_73d5a_row21_col0,#T_73d5a_row22_col0,#T_73d5a_row23_col0,#T_73d5a_row24_col0,#T_73d5a_row25_col0,#T_73d5a_row26_col0,#T_73d5a_row27_col0,#T_73d5a_row28_col0,#T_73d5a_row29_col0,#T_73d5a_row30_col0,#T_73d5a_row31_col0,#T_73d5a_row32_col0,#T_73d5a_row33_col0,#T_73d5a_row34_col0,#T_73d5a_row39_col0,#T_73d5a_row44_col0,#T_73d5a_row45_col0,#T_73d5a_row47_col0,#T_73d5a_row48_col0,#T_73d5a_row49_col0,#T_73d5a_row50_col0,#T_73d5a_row51_col0,#T_73d5a_row52_col0,#T_73d5a_row53_col0,#T_73d5a_row54_col0,#T_73d5a_row55_col0,#T_73d5a_row56_col0,#T_73d5a_row57_col0,#T_73d5a_row58_col0,#T_73d5a_row59_col0,#T_73d5a_row60_col0,#T_73d5a_row62_col0,#T_73d5a_row63_col0,#T_73d5a_row64_col0,#T_73d5a_row65_col0,#T_73d5a_row68_col0,#T_73d5a_row70_col0,#T_73d5a_row72_col0,#T_73d5a_row74_col0,#T_73d5a_row75_col0,#T_73d5a_row76_col0,#T_73d5a_row77_col0,#T_73d5a_row78_col0,#T_73d5a_row79_col0,#T_73d5a_row80_col0,#T_73d5a_row81_col0,#T_73d5a_row82_col0,#T_73d5a_row83_col0,#T_73d5a_row84_col0,#T_73d5a_row85_col0,#T_73d5a_row86_col0{\n",
       "            background-color:  #3b4cc0;\n",
       "            color:  #f1f1f1;\n",
       "        }#T_73d5a_row3_col0{\n",
       "            background-color:  #6180e9;\n",
       "            color:  #000000;\n",
       "        }#T_73d5a_row7_col0,#T_73d5a_row35_col0,#T_73d5a_row38_col0{\n",
       "            background-color:  #4b64d5;\n",
       "            color:  #f1f1f1;\n",
       "        }#T_73d5a_row10_col0,#T_73d5a_row19_col0,#T_73d5a_row46_col0,#T_73d5a_row71_col0{\n",
       "            background-color:  #3e51c5;\n",
       "            color:  #f1f1f1;\n",
       "        }#T_73d5a_row11_col0{\n",
       "            background-color:  #4055c8;\n",
       "            color:  #f1f1f1;\n",
       "        }#T_73d5a_row13_col0{\n",
       "            background-color:  #4c66d6;\n",
       "            color:  #000000;\n",
       "        }#T_73d5a_row15_col0{\n",
       "            background-color:  #4f69d9;\n",
       "            color:  #000000;\n",
       "        }#T_73d5a_row16_col0{\n",
       "            background-color:  #80a3fa;\n",
       "            color:  #000000;\n",
       "        }#T_73d5a_row20_col0{\n",
       "            background-color:  #455cce;\n",
       "            color:  #f1f1f1;\n",
       "        }#T_73d5a_row36_col0,#T_73d5a_row41_col0,#T_73d5a_row66_col0,#T_73d5a_row73_col0{\n",
       "            background-color:  #3c4ec2;\n",
       "            color:  #f1f1f1;\n",
       "        }#T_73d5a_row37_col0{\n",
       "            background-color:  #5470de;\n",
       "            color:  #000000;\n",
       "        }#T_73d5a_row40_col0{\n",
       "            background-color:  #3f53c6;\n",
       "            color:  #f1f1f1;\n",
       "        }#T_73d5a_row42_col0{\n",
       "            background-color:  #4257c9;\n",
       "            color:  #f1f1f1;\n",
       "        }#T_73d5a_row43_col0{\n",
       "            background-color:  #90b2fe;\n",
       "            color:  #000000;\n",
       "        }#T_73d5a_row61_col0{\n",
       "            background-color:  #8caffe;\n",
       "            color:  #000000;\n",
       "        }#T_73d5a_row67_col0{\n",
       "            background-color:  #b40426;\n",
       "            color:  #f1f1f1;\n",
       "        }#T_73d5a_row69_col0{\n",
       "            background-color:  #6282ea;\n",
       "            color:  #000000;\n",
       "        }</style><table id=\"T_73d5a_\" ><thead>    <tr>        <th class=\"blank level0\" ></th>        <th class=\"col_heading level0 col0\" >0</th>    </tr></thead><tbody>\n",
       "                <tr>\n",
       "                        <th id=\"T_73d5a_level0_row0\" class=\"row_heading level0 row0\" >date</th>\n",
       "                        <td id=\"T_73d5a_row0_col0\" class=\"data row0 col0\" >0.000000</td>\n",
       "            </tr>\n",
       "            <tr>\n",
       "                        <th id=\"T_73d5a_level0_row1\" class=\"row_heading level0 row1\" >final.output.concentrate_ag</th>\n",
       "                        <td id=\"T_73d5a_row1_col0\" class=\"data row1 col0\" >0.010000</td>\n",
       "            </tr>\n",
       "            <tr>\n",
       "                        <th id=\"T_73d5a_level0_row2\" class=\"row_heading level0 row2\" >final.output.concentrate_pb</th>\n",
       "                        <td id=\"T_73d5a_row2_col0\" class=\"data row2 col0\" >0.010000</td>\n",
       "            </tr>\n",
       "            <tr>\n",
       "                        <th id=\"T_73d5a_level0_row3\" class=\"row_heading level0 row3\" >final.output.concentrate_sol</th>\n",
       "                        <td id=\"T_73d5a_row3_col0\" class=\"data row3 col0\" >1.090000</td>\n",
       "            </tr>\n",
       "            <tr>\n",
       "                        <th id=\"T_73d5a_level0_row4\" class=\"row_heading level0 row4\" >final.output.concentrate_au</th>\n",
       "                        <td id=\"T_73d5a_row4_col0\" class=\"data row4 col0\" >0.000000</td>\n",
       "            </tr>\n",
       "            <tr>\n",
       "                        <th id=\"T_73d5a_level0_row5\" class=\"row_heading level0 row5\" >final.output.recovery</th>\n",
       "                        <td id=\"T_73d5a_row5_col0\" class=\"data row5 col0\" >0.000000</td>\n",
       "            </tr>\n",
       "            <tr>\n",
       "                        <th id=\"T_73d5a_level0_row6\" class=\"row_heading level0 row6\" >final.output.tail_ag</th>\n",
       "                        <td id=\"T_73d5a_row6_col0\" class=\"data row6 col0\" >0.010000</td>\n",
       "            </tr>\n",
       "            <tr>\n",
       "                        <th id=\"T_73d5a_level0_row7\" class=\"row_heading level0 row7\" >final.output.tail_pb</th>\n",
       "                        <td id=\"T_73d5a_row7_col0\" class=\"data row7 col0\" >0.520000</td>\n",
       "            </tr>\n",
       "            <tr>\n",
       "                        <th id=\"T_73d5a_level0_row8\" class=\"row_heading level0 row8\" >final.output.tail_sol</th>\n",
       "                        <td id=\"T_73d5a_row8_col0\" class=\"data row8 col0\" >0.030000</td>\n",
       "            </tr>\n",
       "            <tr>\n",
       "                        <th id=\"T_73d5a_level0_row9\" class=\"row_heading level0 row9\" >final.output.tail_au</th>\n",
       "                        <td id=\"T_73d5a_row9_col0\" class=\"data row9 col0\" >0.000000</td>\n",
       "            </tr>\n",
       "            <tr>\n",
       "                        <th id=\"T_73d5a_level0_row10\" class=\"row_heading level0 row10\" >primary_cleaner.input.sulfate</th>\n",
       "                        <td id=\"T_73d5a_row10_col0\" class=\"data row10 col0\" >0.120000</td>\n",
       "            </tr>\n",
       "            <tr>\n",
       "                        <th id=\"T_73d5a_level0_row11\" class=\"row_heading level0 row11\" >primary_cleaner.input.depressant</th>\n",
       "                        <td id=\"T_73d5a_row11_col0\" class=\"data row11 col0\" >0.190000</td>\n",
       "            </tr>\n",
       "            <tr>\n",
       "                        <th id=\"T_73d5a_level0_row12\" class=\"row_heading level0 row12\" >primary_cleaner.input.feed_size</th>\n",
       "                        <td id=\"T_73d5a_row12_col0\" class=\"data row12 col0\" >0.000000</td>\n",
       "            </tr>\n",
       "            <tr>\n",
       "                        <th id=\"T_73d5a_level0_row13\" class=\"row_heading level0 row13\" >primary_cleaner.input.xanthate</th>\n",
       "                        <td id=\"T_73d5a_row13_col0\" class=\"data row13 col0\" >0.540000</td>\n",
       "            </tr>\n",
       "            <tr>\n",
       "                        <th id=\"T_73d5a_level0_row14\" class=\"row_heading level0 row14\" >primary_cleaner.output.concentrate_ag</th>\n",
       "                        <td id=\"T_73d5a_row14_col0\" class=\"data row14 col0\" >0.000000</td>\n",
       "            </tr>\n",
       "            <tr>\n",
       "                        <th id=\"T_73d5a_level0_row15\" class=\"row_heading level0 row15\" >primary_cleaner.output.concentrate_pb</th>\n",
       "                        <td id=\"T_73d5a_row15_col0\" class=\"data row15 col0\" >0.600000</td>\n",
       "            </tr>\n",
       "            <tr>\n",
       "                        <th id=\"T_73d5a_level0_row16\" class=\"row_heading level0 row16\" >primary_cleaner.output.concentrate_sol</th>\n",
       "                        <td id=\"T_73d5a_row16_col0\" class=\"data row16 col0\" >1.900000</td>\n",
       "            </tr>\n",
       "            <tr>\n",
       "                        <th id=\"T_73d5a_level0_row17\" class=\"row_heading level0 row17\" >primary_cleaner.output.concentrate_au</th>\n",
       "                        <td id=\"T_73d5a_row17_col0\" class=\"data row17 col0\" >0.000000</td>\n",
       "            </tr>\n",
       "            <tr>\n",
       "                        <th id=\"T_73d5a_level0_row18\" class=\"row_heading level0 row18\" >primary_cleaner.output.tail_ag</th>\n",
       "                        <td id=\"T_73d5a_row18_col0\" class=\"data row18 col0\" >0.020000</td>\n",
       "            </tr>\n",
       "            <tr>\n",
       "                        <th id=\"T_73d5a_level0_row19\" class=\"row_heading level0 row19\" >primary_cleaner.output.tail_pb</th>\n",
       "                        <td id=\"T_73d5a_row19_col0\" class=\"data row19 col0\" >0.110000</td>\n",
       "            </tr>\n",
       "            <tr>\n",
       "                        <th id=\"T_73d5a_level0_row20\" class=\"row_heading level0 row20\" >primary_cleaner.output.tail_sol</th>\n",
       "                        <td id=\"T_73d5a_row20_col0\" class=\"data row20 col0\" >0.320000</td>\n",
       "            </tr>\n",
       "            <tr>\n",
       "                        <th id=\"T_73d5a_level0_row21\" class=\"row_heading level0 row21\" >primary_cleaner.output.tail_au</th>\n",
       "                        <td id=\"T_73d5a_row21_col0\" class=\"data row21 col0\" >0.000000</td>\n",
       "            </tr>\n",
       "            <tr>\n",
       "                        <th id=\"T_73d5a_level0_row22\" class=\"row_heading level0 row22\" >primary_cleaner.state.floatbank8_a_air</th>\n",
       "                        <td id=\"T_73d5a_row22_col0\" class=\"data row22 col0\" >0.020000</td>\n",
       "            </tr>\n",
       "            <tr>\n",
       "                        <th id=\"T_73d5a_level0_row23\" class=\"row_heading level0 row23\" >primary_cleaner.state.floatbank8_a_level</th>\n",
       "                        <td id=\"T_73d5a_row23_col0\" class=\"data row23 col0\" >0.010000</td>\n",
       "            </tr>\n",
       "            <tr>\n",
       "                        <th id=\"T_73d5a_level0_row24\" class=\"row_heading level0 row24\" >primary_cleaner.state.floatbank8_b_air</th>\n",
       "                        <td id=\"T_73d5a_row24_col0\" class=\"data row24 col0\" >0.020000</td>\n",
       "            </tr>\n",
       "            <tr>\n",
       "                        <th id=\"T_73d5a_level0_row25\" class=\"row_heading level0 row25\" >primary_cleaner.state.floatbank8_b_level</th>\n",
       "                        <td id=\"T_73d5a_row25_col0\" class=\"data row25 col0\" >0.010000</td>\n",
       "            </tr>\n",
       "            <tr>\n",
       "                        <th id=\"T_73d5a_level0_row26\" class=\"row_heading level0 row26\" >primary_cleaner.state.floatbank8_c_air</th>\n",
       "                        <td id=\"T_73d5a_row26_col0\" class=\"data row26 col0\" >0.010000</td>\n",
       "            </tr>\n",
       "            <tr>\n",
       "                        <th id=\"T_73d5a_level0_row27\" class=\"row_heading level0 row27\" >primary_cleaner.state.floatbank8_c_level</th>\n",
       "                        <td id=\"T_73d5a_row27_col0\" class=\"data row27 col0\" >0.010000</td>\n",
       "            </tr>\n",
       "            <tr>\n",
       "                        <th id=\"T_73d5a_level0_row28\" class=\"row_heading level0 row28\" >primary_cleaner.state.floatbank8_d_air</th>\n",
       "                        <td id=\"T_73d5a_row28_col0\" class=\"data row28 col0\" >0.020000</td>\n",
       "            </tr>\n",
       "            <tr>\n",
       "                        <th id=\"T_73d5a_level0_row29\" class=\"row_heading level0 row29\" >primary_cleaner.state.floatbank8_d_level</th>\n",
       "                        <td id=\"T_73d5a_row29_col0\" class=\"data row29 col0\" >0.010000</td>\n",
       "            </tr>\n",
       "            <tr>\n",
       "                        <th id=\"T_73d5a_level0_row30\" class=\"row_heading level0 row30\" >rougher.calculation.sulfate_to_au_concentrate</th>\n",
       "                        <td id=\"T_73d5a_row30_col0\" class=\"data row30 col0\" >0.010000</td>\n",
       "            </tr>\n",
       "            <tr>\n",
       "                        <th id=\"T_73d5a_level0_row31\" class=\"row_heading level0 row31\" >rougher.calculation.floatbank10_sulfate_to_au_feed</th>\n",
       "                        <td id=\"T_73d5a_row31_col0\" class=\"data row31 col0\" >0.010000</td>\n",
       "            </tr>\n",
       "            <tr>\n",
       "                        <th id=\"T_73d5a_level0_row32\" class=\"row_heading level0 row32\" >rougher.calculation.floatbank11_sulfate_to_au_feed</th>\n",
       "                        <td id=\"T_73d5a_row32_col0\" class=\"data row32 col0\" >0.010000</td>\n",
       "            </tr>\n",
       "            <tr>\n",
       "                        <th id=\"T_73d5a_level0_row33\" class=\"row_heading level0 row33\" >rougher.calculation.au_pb_ratio</th>\n",
       "                        <td id=\"T_73d5a_row33_col0\" class=\"data row33 col0\" >0.000000</td>\n",
       "            </tr>\n",
       "            <tr>\n",
       "                        <th id=\"T_73d5a_level0_row34\" class=\"row_heading level0 row34\" >rougher.input.feed_ag</th>\n",
       "                        <td id=\"T_73d5a_row34_col0\" class=\"data row34 col0\" >0.000000</td>\n",
       "            </tr>\n",
       "            <tr>\n",
       "                        <th id=\"T_73d5a_level0_row35\" class=\"row_heading level0 row35\" >rougher.input.feed_pb</th>\n",
       "                        <td id=\"T_73d5a_row35_col0\" class=\"data row35 col0\" >0.510000</td>\n",
       "            </tr>\n",
       "            <tr>\n",
       "                        <th id=\"T_73d5a_level0_row36\" class=\"row_heading level0 row36\" >rougher.input.feed_rate</th>\n",
       "                        <td id=\"T_73d5a_row36_col0\" class=\"data row36 col0\" >0.060000</td>\n",
       "            </tr>\n",
       "            <tr>\n",
       "                        <th id=\"T_73d5a_level0_row37\" class=\"row_heading level0 row37\" >rougher.input.feed_size</th>\n",
       "                        <td id=\"T_73d5a_row37_col0\" class=\"data row37 col0\" >0.750000</td>\n",
       "            </tr>\n",
       "            <tr>\n",
       "                        <th id=\"T_73d5a_level0_row38\" class=\"row_heading level0 row38\" >rougher.input.feed_sol</th>\n",
       "                        <td id=\"T_73d5a_row38_col0\" class=\"data row38 col0\" >0.510000</td>\n",
       "            </tr>\n",
       "            <tr>\n",
       "                        <th id=\"T_73d5a_level0_row39\" class=\"row_heading level0 row39\" >rougher.input.feed_au</th>\n",
       "                        <td id=\"T_73d5a_row39_col0\" class=\"data row39 col0\" >0.000000</td>\n",
       "            </tr>\n",
       "            <tr>\n",
       "                        <th id=\"T_73d5a_level0_row40\" class=\"row_heading level0 row40\" >rougher.input.floatbank10_sulfate</th>\n",
       "                        <td id=\"T_73d5a_row40_col0\" class=\"data row40 col0\" >0.170000</td>\n",
       "            </tr>\n",
       "            <tr>\n",
       "                        <th id=\"T_73d5a_level0_row41\" class=\"row_heading level0 row41\" >rougher.input.floatbank10_xanthate</th>\n",
       "                        <td id=\"T_73d5a_row41_col0\" class=\"data row41 col0\" >0.040000</td>\n",
       "            </tr>\n",
       "            <tr>\n",
       "                        <th id=\"T_73d5a_level0_row42\" class=\"row_heading level0 row42\" >rougher.input.floatbank11_sulfate</th>\n",
       "                        <td id=\"T_73d5a_row42_col0\" class=\"data row42 col0\" >0.230000</td>\n",
       "            </tr>\n",
       "            <tr>\n",
       "                        <th id=\"T_73d5a_level0_row43\" class=\"row_heading level0 row43\" >rougher.input.floatbank11_xanthate</th>\n",
       "                        <td id=\"T_73d5a_row43_col0\" class=\"data row43 col0\" >2.330000</td>\n",
       "            </tr>\n",
       "            <tr>\n",
       "                        <th id=\"T_73d5a_level0_row44\" class=\"row_heading level0 row44\" >rougher.output.concentrate_ag</th>\n",
       "                        <td id=\"T_73d5a_row44_col0\" class=\"data row44 col0\" >0.000000</td>\n",
       "            </tr>\n",
       "            <tr>\n",
       "                        <th id=\"T_73d5a_level0_row45\" class=\"row_heading level0 row45\" >rougher.output.concentrate_pb</th>\n",
       "                        <td id=\"T_73d5a_row45_col0\" class=\"data row45 col0\" >0.000000</td>\n",
       "            </tr>\n",
       "            <tr>\n",
       "                        <th id=\"T_73d5a_level0_row46\" class=\"row_heading level0 row46\" >rougher.output.concentrate_sol</th>\n",
       "                        <td id=\"T_73d5a_row46_col0\" class=\"data row46 col0\" >0.120000</td>\n",
       "            </tr>\n",
       "            <tr>\n",
       "                        <th id=\"T_73d5a_level0_row47\" class=\"row_heading level0 row47\" >rougher.output.concentrate_au</th>\n",
       "                        <td id=\"T_73d5a_row47_col0\" class=\"data row47 col0\" >0.000000</td>\n",
       "            </tr>\n",
       "            <tr>\n",
       "                        <th id=\"T_73d5a_level0_row48\" class=\"row_heading level0 row48\" >rougher.output.recovery</th>\n",
       "                        <td id=\"T_73d5a_row48_col0\" class=\"data row48 col0\" >0.000000</td>\n",
       "            </tr>\n",
       "            <tr>\n",
       "                        <th id=\"T_73d5a_level0_row49\" class=\"row_heading level0 row49\" >rougher.output.tail_ag</th>\n",
       "                        <td id=\"T_73d5a_row49_col0\" class=\"data row49 col0\" >0.010000</td>\n",
       "            </tr>\n",
       "            <tr>\n",
       "                        <th id=\"T_73d5a_level0_row50\" class=\"row_heading level0 row50\" >rougher.output.tail_pb</th>\n",
       "                        <td id=\"T_73d5a_row50_col0\" class=\"data row50 col0\" >0.000000</td>\n",
       "            </tr>\n",
       "            <tr>\n",
       "                        <th id=\"T_73d5a_level0_row51\" class=\"row_heading level0 row51\" >rougher.output.tail_sol</th>\n",
       "                        <td id=\"T_73d5a_row51_col0\" class=\"data row51 col0\" >0.000000</td>\n",
       "            </tr>\n",
       "            <tr>\n",
       "                        <th id=\"T_73d5a_level0_row52\" class=\"row_heading level0 row52\" >rougher.output.tail_au</th>\n",
       "                        <td id=\"T_73d5a_row52_col0\" class=\"data row52 col0\" >0.000000</td>\n",
       "            </tr>\n",
       "            <tr>\n",
       "                        <th id=\"T_73d5a_level0_row53\" class=\"row_heading level0 row53\" >rougher.state.floatbank10_a_air</th>\n",
       "                        <td id=\"T_73d5a_row53_col0\" class=\"data row53 col0\" >0.010000</td>\n",
       "            </tr>\n",
       "            <tr>\n",
       "                        <th id=\"T_73d5a_level0_row54\" class=\"row_heading level0 row54\" >rougher.state.floatbank10_a_level</th>\n",
       "                        <td id=\"T_73d5a_row54_col0\" class=\"data row54 col0\" >0.010000</td>\n",
       "            </tr>\n",
       "            <tr>\n",
       "                        <th id=\"T_73d5a_level0_row55\" class=\"row_heading level0 row55\" >rougher.state.floatbank10_b_air</th>\n",
       "                        <td id=\"T_73d5a_row55_col0\" class=\"data row55 col0\" >0.010000</td>\n",
       "            </tr>\n",
       "            <tr>\n",
       "                        <th id=\"T_73d5a_level0_row56\" class=\"row_heading level0 row56\" >rougher.state.floatbank10_b_level</th>\n",
       "                        <td id=\"T_73d5a_row56_col0\" class=\"data row56 col0\" >0.010000</td>\n",
       "            </tr>\n",
       "            <tr>\n",
       "                        <th id=\"T_73d5a_level0_row57\" class=\"row_heading level0 row57\" >rougher.state.floatbank10_c_air</th>\n",
       "                        <td id=\"T_73d5a_row57_col0\" class=\"data row57 col0\" >0.010000</td>\n",
       "            </tr>\n",
       "            <tr>\n",
       "                        <th id=\"T_73d5a_level0_row58\" class=\"row_heading level0 row58\" >rougher.state.floatbank10_c_level</th>\n",
       "                        <td id=\"T_73d5a_row58_col0\" class=\"data row58 col0\" >0.010000</td>\n",
       "            </tr>\n",
       "            <tr>\n",
       "                        <th id=\"T_73d5a_level0_row59\" class=\"row_heading level0 row59\" >rougher.state.floatbank10_d_air</th>\n",
       "                        <td id=\"T_73d5a_row59_col0\" class=\"data row59 col0\" >0.000000</td>\n",
       "            </tr>\n",
       "            <tr>\n",
       "                        <th id=\"T_73d5a_level0_row60\" class=\"row_heading level0 row60\" >rougher.state.floatbank10_d_level</th>\n",
       "                        <td id=\"T_73d5a_row60_col0\" class=\"data row60 col0\" >0.000000</td>\n",
       "            </tr>\n",
       "            <tr>\n",
       "                        <th id=\"T_73d5a_level0_row61\" class=\"row_heading level0 row61\" >rougher.state.floatbank10_e_air</th>\n",
       "                        <td id=\"T_73d5a_row61_col0\" class=\"data row61 col0\" >2.240000</td>\n",
       "            </tr>\n",
       "            <tr>\n",
       "                        <th id=\"T_73d5a_level0_row62\" class=\"row_heading level0 row62\" >rougher.state.floatbank10_e_level</th>\n",
       "                        <td id=\"T_73d5a_row62_col0\" class=\"data row62 col0\" >0.000000</td>\n",
       "            </tr>\n",
       "            <tr>\n",
       "                        <th id=\"T_73d5a_level0_row63\" class=\"row_heading level0 row63\" >rougher.state.floatbank10_f_air</th>\n",
       "                        <td id=\"T_73d5a_row63_col0\" class=\"data row63 col0\" >0.000000</td>\n",
       "            </tr>\n",
       "            <tr>\n",
       "                        <th id=\"T_73d5a_level0_row64\" class=\"row_heading level0 row64\" >rougher.state.floatbank10_f_level</th>\n",
       "                        <td id=\"T_73d5a_row64_col0\" class=\"data row64 col0\" >0.000000</td>\n",
       "            </tr>\n",
       "            <tr>\n",
       "                        <th id=\"T_73d5a_level0_row65\" class=\"row_heading level0 row65\" >secondary_cleaner.output.tail_ag</th>\n",
       "                        <td id=\"T_73d5a_row65_col0\" class=\"data row65 col0\" >0.010000</td>\n",
       "            </tr>\n",
       "            <tr>\n",
       "                        <th id=\"T_73d5a_level0_row66\" class=\"row_heading level0 row66\" >secondary_cleaner.output.tail_pb</th>\n",
       "                        <td id=\"T_73d5a_row66_col0\" class=\"data row66 col0\" >0.060000</td>\n",
       "            </tr>\n",
       "            <tr>\n",
       "                        <th id=\"T_73d5a_level0_row67\" class=\"row_heading level0 row67\" >secondary_cleaner.output.tail_sol</th>\n",
       "                        <td id=\"T_73d5a_row67_col0\" class=\"data row67 col0\" >8.990000</td>\n",
       "            </tr>\n",
       "            <tr>\n",
       "                        <th id=\"T_73d5a_level0_row68\" class=\"row_heading level0 row68\" >secondary_cleaner.output.tail_au</th>\n",
       "                        <td id=\"T_73d5a_row68_col0\" class=\"data row68 col0\" >0.000000</td>\n",
       "            </tr>\n",
       "            <tr>\n",
       "                        <th id=\"T_73d5a_level0_row69\" class=\"row_heading level0 row69\" >secondary_cleaner.state.floatbank2_a_air</th>\n",
       "                        <td id=\"T_73d5a_row69_col0\" class=\"data row69 col0\" >1.130000</td>\n",
       "            </tr>\n",
       "            <tr>\n",
       "                        <th id=\"T_73d5a_level0_row70\" class=\"row_heading level0 row70\" >secondary_cleaner.state.floatbank2_a_level</th>\n",
       "                        <td id=\"T_73d5a_row70_col0\" class=\"data row70 col0\" >0.010000</td>\n",
       "            </tr>\n",
       "            <tr>\n",
       "                        <th id=\"T_73d5a_level0_row71\" class=\"row_heading level0 row71\" >secondary_cleaner.state.floatbank2_b_air</th>\n",
       "                        <td id=\"T_73d5a_row71_col0\" class=\"data row71 col0\" >0.120000</td>\n",
       "            </tr>\n",
       "            <tr>\n",
       "                        <th id=\"T_73d5a_level0_row72\" class=\"row_heading level0 row72\" >secondary_cleaner.state.floatbank2_b_level</th>\n",
       "                        <td id=\"T_73d5a_row72_col0\" class=\"data row72 col0\" >0.010000</td>\n",
       "            </tr>\n",
       "            <tr>\n",
       "                        <th id=\"T_73d5a_level0_row73\" class=\"row_heading level0 row73\" >secondary_cleaner.state.floatbank3_a_air</th>\n",
       "                        <td id=\"T_73d5a_row73_col0\" class=\"data row73 col0\" >0.070000</td>\n",
       "            </tr>\n",
       "            <tr>\n",
       "                        <th id=\"T_73d5a_level0_row74\" class=\"row_heading level0 row74\" >secondary_cleaner.state.floatbank3_a_level</th>\n",
       "                        <td id=\"T_73d5a_row74_col0\" class=\"data row74 col0\" >0.010000</td>\n",
       "            </tr>\n",
       "            <tr>\n",
       "                        <th id=\"T_73d5a_level0_row75\" class=\"row_heading level0 row75\" >secondary_cleaner.state.floatbank3_b_air</th>\n",
       "                        <td id=\"T_73d5a_row75_col0\" class=\"data row75 col0\" >0.010000</td>\n",
       "            </tr>\n",
       "            <tr>\n",
       "                        <th id=\"T_73d5a_level0_row76\" class=\"row_heading level0 row76\" >secondary_cleaner.state.floatbank3_b_level</th>\n",
       "                        <td id=\"T_73d5a_row76_col0\" class=\"data row76 col0\" >0.010000</td>\n",
       "            </tr>\n",
       "            <tr>\n",
       "                        <th id=\"T_73d5a_level0_row77\" class=\"row_heading level0 row77\" >secondary_cleaner.state.floatbank4_a_air</th>\n",
       "                        <td id=\"T_73d5a_row77_col0\" class=\"data row77 col0\" >0.030000</td>\n",
       "            </tr>\n",
       "            <tr>\n",
       "                        <th id=\"T_73d5a_level0_row78\" class=\"row_heading level0 row78\" >secondary_cleaner.state.floatbank4_a_level</th>\n",
       "                        <td id=\"T_73d5a_row78_col0\" class=\"data row78 col0\" >0.010000</td>\n",
       "            </tr>\n",
       "            <tr>\n",
       "                        <th id=\"T_73d5a_level0_row79\" class=\"row_heading level0 row79\" >secondary_cleaner.state.floatbank4_b_air</th>\n",
       "                        <td id=\"T_73d5a_row79_col0\" class=\"data row79 col0\" >0.010000</td>\n",
       "            </tr>\n",
       "            <tr>\n",
       "                        <th id=\"T_73d5a_level0_row80\" class=\"row_heading level0 row80\" >secondary_cleaner.state.floatbank4_b_level</th>\n",
       "                        <td id=\"T_73d5a_row80_col0\" class=\"data row80 col0\" >0.010000</td>\n",
       "            </tr>\n",
       "            <tr>\n",
       "                        <th id=\"T_73d5a_level0_row81\" class=\"row_heading level0 row81\" >secondary_cleaner.state.floatbank5_a_air</th>\n",
       "                        <td id=\"T_73d5a_row81_col0\" class=\"data row81 col0\" >0.010000</td>\n",
       "            </tr>\n",
       "            <tr>\n",
       "                        <th id=\"T_73d5a_level0_row82\" class=\"row_heading level0 row82\" >secondary_cleaner.state.floatbank5_a_level</th>\n",
       "                        <td id=\"T_73d5a_row82_col0\" class=\"data row82 col0\" >0.010000</td>\n",
       "            </tr>\n",
       "            <tr>\n",
       "                        <th id=\"T_73d5a_level0_row83\" class=\"row_heading level0 row83\" >secondary_cleaner.state.floatbank5_b_air</th>\n",
       "                        <td id=\"T_73d5a_row83_col0\" class=\"data row83 col0\" >0.010000</td>\n",
       "            </tr>\n",
       "            <tr>\n",
       "                        <th id=\"T_73d5a_level0_row84\" class=\"row_heading level0 row84\" >secondary_cleaner.state.floatbank5_b_level</th>\n",
       "                        <td id=\"T_73d5a_row84_col0\" class=\"data row84 col0\" >0.010000</td>\n",
       "            </tr>\n",
       "            <tr>\n",
       "                        <th id=\"T_73d5a_level0_row85\" class=\"row_heading level0 row85\" >secondary_cleaner.state.floatbank6_a_air</th>\n",
       "                        <td id=\"T_73d5a_row85_col0\" class=\"data row85 col0\" >0.010000</td>\n",
       "            </tr>\n",
       "            <tr>\n",
       "                        <th id=\"T_73d5a_level0_row86\" class=\"row_heading level0 row86\" >secondary_cleaner.state.floatbank6_a_level</th>\n",
       "                        <td id=\"T_73d5a_row86_col0\" class=\"data row86 col0\" >0.010000</td>\n",
       "            </tr>\n",
       "    </tbody></table>"
      ],
      "text/plain": [
       "<pandas.io.formats.style.Styler at 0x7f29f7660f40>"
      ]
     },
     "metadata": {},
     "output_type": "display_data"
    },
    {
     "name": "stdout",
     "output_type": "stream",
     "text": [
      "\n",
      "Количество полных дубликатов: 0\n",
      "\n",
      "Количество дубликатов в столбце date: 0\n"
     ]
    }
   ],
   "source": [
    "data_info(df_full)"
   ]
  },
  {
   "cell_type": "markdown",
   "metadata": {},
   "source": [
    "В данных нет дубликатов, все признаки имеют корректный тип данных.\n",
    "\n",
    "Данные поделены на обучающую и тестовую выборки в соотношении 75:25.\n",
    "\n",
    "В тестовой выборке отсутствует примерно 1/3 признаков, которые есть в исходном датасете (full).\n",
    "\n",
    "Наибольшее количество пропусков содержится в столбце secondary_cleaner.output.tail_sol. Так как этот столбец отсутствует в тестовой выборке, он нам не понадобится для исследования. Соответственно, нам не принципиально, какими значениями заполнить пропуски в данном столбце. В остальных столбцах количество пропусков не превышает 2.5%. Заполним пропуски мотодом интерполяции."
   ]
  },
  {
   "cell_type": "code",
   "execution_count": 7,
   "metadata": {},
   "outputs": [],
   "source": [
    "df_train = df_train.interpolate(limit_direction='both')\n",
    "df_test = df_test.interpolate(limit_direction='both')\n",
    "df_full = df_full.interpolate(limit_direction='both')"
   ]
  },
  {
   "cell_type": "markdown",
   "metadata": {},
   "source": [
    "Проверим на обучающей выборке корректность расчета эффективности обогащения золота. Для этого напишем функцию для расчета эффективности обогащения (calc_recovery) и сравним получившиеся значения со столбцом rougher.output.recovery."
   ]
  },
  {
   "cell_type": "code",
   "execution_count": 8,
   "metadata": {},
   "outputs": [],
   "source": [
    "numerator = df_train['rougher.output.concentrate_au'] * (df_train['rougher.input.feed_au'] - df_train['rougher.output.tail_au'])\n",
    "denominator = df_train['rougher.input.feed_au'] * (df_train['rougher.output.concentrate_au'] - df_train['rougher.output.tail_au'])\n",
    "\n",
    "\n",
    "calc_recovery = 100 * numerator / denominator"
   ]
  },
  {
   "cell_type": "code",
   "execution_count": 9,
   "metadata": {},
   "outputs": [
    {
     "name": "stdout",
     "output_type": "stream",
     "text": [
      "Среднее абсолютное отклонение: 1.1131451184435918e-14\n"
     ]
    }
   ],
   "source": [
    "print('Среднее абсолютное отклонение:', mean_absolute_error(df_train['rougher.output.recovery'], calc_recovery))"
   ]
  },
  {
   "cell_type": "code",
   "execution_count": 10,
   "metadata": {},
   "outputs": [
    {
     "data": {
      "image/png": "[encoded data removed]",
      "text/plain": [
       "<Figure size 432x288 with 1 Axes>"
      ]
     },
     "metadata": {
      "needs_background": "light"
     },
     "output_type": "display_data"
    }
   ],
   "source": [
    "calc_recovery.plot(kind='hist', histtype='step', color='darkgreen', linewidth=2, grid=True, legend=True, label='calc_recovery')\n",
    "df_train['rougher.output.recovery'].plot(kind='hist', color='purple', alpha=0.5, grid=True, legend=True)\n",
    "plt.title('Сравнение признака rougher.output.recovery с рассчитанным recovery')\n",
    "plt.show()"
   ]
  },
  {
   "cell_type": "markdown",
   "metadata": {},
   "source": [
    "Среднее абсолютное отклонение минимально, что означает корректность расчета эффективности обогащения золота в обучающей выборке."
   ]
  },
  {
   "cell_type": "markdown",
   "metadata": {},
   "source": [
    "Также рассмотрим, какие признаки отсутствуют в тестовой выборке."
   ]
  },
  {
   "cell_type": "code",
   "execution_count": 11,
   "metadata": {},
   "outputs": [
    {
     "data": {
      "text/plain": [
       "{'final.output.concentrate_ag',\n",
       " 'final.output.concentrate_au',\n",
       " 'final.output.concentrate_pb',\n",
       " 'final.output.concentrate_sol',\n",
       " 'final.output.recovery',\n",
       " 'final.output.tail_ag',\n",
       " 'final.output.tail_au',\n",
       " 'final.output.tail_pb',\n",
       " 'final.output.tail_sol',\n",
       " 'primary_cleaner.output.concentrate_ag',\n",
       " 'primary_cleaner.output.concentrate_au',\n",
       " 'primary_cleaner.output.concentrate_pb',\n",
       " 'primary_cleaner.output.concentrate_sol',\n",
       " 'primary_cleaner.output.tail_ag',\n",
       " 'primary_cleaner.output.tail_au',\n",
       " 'primary_cleaner.output.tail_pb',\n",
       " 'primary_cleaner.output.tail_sol',\n",
       " 'rougher.calculation.au_pb_ratio',\n",
       " 'rougher.calculation.floatbank10_sulfate_to_au_feed',\n",
       " 'rougher.calculation.floatbank11_sulfate_to_au_feed',\n",
       " 'rougher.calculation.sulfate_to_au_concentrate',\n",
       " 'rougher.output.concentrate_ag',\n",
       " 'rougher.output.concentrate_au',\n",
       " 'rougher.output.concentrate_pb',\n",
       " 'rougher.output.concentrate_sol',\n",
       " 'rougher.output.recovery',\n",
       " 'rougher.output.tail_ag',\n",
       " 'rougher.output.tail_au',\n",
       " 'rougher.output.tail_pb',\n",
       " 'rougher.output.tail_sol',\n",
       " 'secondary_cleaner.output.tail_ag',\n",
       " 'secondary_cleaner.output.tail_au',\n",
       " 'secondary_cleaner.output.tail_pb',\n",
       " 'secondary_cleaner.output.tail_sol'}"
      ]
     },
     "execution_count": 11,
     "metadata": {},
     "output_type": "execute_result"
    }
   ],
   "source": [
    "set(df_train.columns) - set(df_test.columns)"
   ]
  },
  {
   "cell_type": "markdown",
   "metadata": {},
   "source": [
    "Все признаки относятся к выходным параметрам продукта на различных этапах. Так как данные признаки отсутствуют в тестовой выборке, обучение модели необходимо проводить также без учета данных признаков.\n",
    "\n",
    "Проведем анализ данных, а затем приведем к соответствию обучающую и тестовую выборки."
   ]
  },
  {
   "cell_type": "markdown",
   "metadata": {},
   "source": [
    "## Анализ данных"
   ]
  },
  {
   "cell_type": "markdown",
   "metadata": {},
   "source": [
    "Рассмотрим распределение веществ (au, ag, pb, sol) на разных этапах очистки - от исходного сырья до финального концентрата.\n",
    "Напишем функцию, которая выведет график распределения концетрации каждого вещества и медианное значение на каждом этапе."
   ]
  },
  {
   "cell_type": "code",
   "execution_count": 12,
   "metadata": {},
   "outputs": [],
   "source": [
    "def concentration_plot(series_1, series_2, series_3, series_4, title):\n",
    "    f, axs = plt.subplots(ncols=2, figsize=(17, 6))\n",
    "    series_1.plot(kind='hist', bins=200, grid=True, legend=True, alpha=0.7, subplots=True, ax=axs[0], color='blue')\n",
    "    series_2.plot(kind='hist', bins=200, grid=True, legend=True, alpha=0.7, subplots=True, ax=axs[0], color='red')\n",
    "    series_3.plot(kind='hist', bins=200, grid=True, legend=True, alpha=0.7, subplots=True, ax=axs[0], color='green')\n",
    "    series_4.plot(kind='hist', bins=200, grid=True, legend=True, alpha=0.7, subplots=True, ax=axs[0], color='orange')\n",
    "    pd.Series([series_1.median(), series_2.median(), series_3.median(), series_4.median()]).plot(kind='bar', grid=True, subplots=True, ax=axs[1], title=title)\n",
    "    plt.show()"
   ]
  },
  {
   "cell_type": "code",
   "execution_count": 13,
   "metadata": {
    "scrolled": false
   },
   "outputs": [
    {
     "data": {
      "image/png": "[encoded data removed]",
      "text/plain": [
       "<Figure size 1224x432 with 2 Axes>"
      ]
     },
     "metadata": {
      "needs_background": "light"
     },
     "output_type": "display_data"
    },
    {
     "data": {
      "image/png": "[encoded data removed]",
      "text/plain": [
       "<Figure size 1224x432 with 2 Axes>"
      ]
     },
     "metadata": {
      "needs_background": "light"
     },
     "output_type": "display_data"
    },
    {
     "data": {
      "image/png": "[encoded data removed]",
      "text/plain": [
       "<Figure size 1224x432 with 2 Axes>"
      ]
     },
     "metadata": {
      "needs_background": "light"
     },
     "output_type": "display_data"
    },
    {
     "data": {
      "image/png": "[encoded data removed]",
      "text/plain": [
       "<Figure size 1224x432 with 2 Axes>"
      ]
     },
     "metadata": {
      "needs_background": "light"
     },
     "output_type": "display_data"
    }
   ],
   "source": [
    "concentration_plot(\n",
    "    df_full['rougher.input.feed_au'], df_full['rougher.output.concentrate_au'], \n",
    "    df_full['primary_cleaner.output.concentrate_au'], df_full['final.output.concentrate_au'], \n",
    "    'Изменение концентрации золота по этапам очистки')\n",
    "\n",
    "concentration_plot(\n",
    "    df_full['rougher.input.feed_ag'], df_full['rougher.output.concentrate_ag'], \n",
    "    df_full['primary_cleaner.output.concentrate_ag'], df_full['final.output.concentrate_ag'], \n",
    "    'Изменение концентрации серебра по этапам очистки')\n",
    "\n",
    "concentration_plot(\n",
    "    df_full['rougher.input.feed_pb'], df_full['rougher.output.concentrate_pb'], \n",
    "    df_full['primary_cleaner.output.concentrate_pb'], df_full['final.output.concentrate_pb'], \n",
    "    'Изменение концентрации свинца по этапам очистки')\n",
    "\n",
    "concentration_plot(\n",
    "    df_full['rougher.input.feed_sol'], df_full['rougher.output.concentrate_sol'], \n",
    "    df_full['primary_cleaner.output.concentrate_sol'], df_full['final.output.concentrate_sol'], \n",
    "    'Изменение концентрации sol по этапам очистки')"
   ]
  },
  {
   "cell_type": "markdown",
   "metadata": {},
   "source": [
    "- Концентрация золота постепенно увеличивается от этапа к этапу.\n",
    "- Концентрация серебра увеличивается после процесса флотации, после чего постепенно снижается.\n",
    "- Концентрация свинца постепенно увеличивается в процессе флотации и первичной очистки и не меняетяс в процессе вторичной очистки.\n",
    "- Концентрация sol постепенно снижается от этапа к этапу."
   ]
  },
  {
   "cell_type": "markdown",
   "metadata": {},
   "source": [
    "На графиках распределения также видно, что в данных присутствуют выбросы и аномальные значения. \n",
    "\n",
    "Однако все признаки, по которым построены распределения, кроме rougher.input.feed_, отсутствуют в тестовой выборках. Поэтому рассмотрим отдельно только признак rougher.input.feed_ в обучающей и тестовой выборках для каждого вещества."
   ]
  },
  {
   "cell_type": "code",
   "execution_count": 14,
   "metadata": {},
   "outputs": [
    {
     "data": {
      "image/png": "[encoded data removed]",
      "text/plain": [
       "<Figure size 1080x360 with 2 Axes>"
      ]
     },
     "metadata": {
      "needs_background": "light"
     },
     "output_type": "display_data"
    },
    {
     "data": {
      "image/png": "[encoded data removed]",
      "text/plain": [
       "<Figure size 1080x360 with 2 Axes>"
      ]
     },
     "metadata": {
      "needs_background": "light"
     },
     "output_type": "display_data"
    }
   ],
   "source": [
    "f, axs = plt.subplots(ncols=2, figsize=(15, 5))\n",
    "df_train['rougher.input.feed_au'].plot(kind='hist', histtype='step', bins=100, grid=True, legend=True, alpha=0.7, color='blue', linewidth=2, subplots=True, ax=axs[0], label='rougher.input.feed_au_train')\n",
    "df_test['rougher.input.feed_au'].plot(kind='hist', histtype='step', bins=100, grid=True, legend=True, alpha=0.7, color='red', linewidth=2, subplots=True, ax=axs[0], label='rougher.input.feed_au_test')\n",
    "df_train['rougher.input.feed_ag'].plot(kind='hist', histtype='step', bins=100, grid=True, legend=True, alpha=0.7, color='blue', linewidth=2, subplots=True, ax=axs[1], label='rougher.input.feed_ag_train')\n",
    "df_test['rougher.input.feed_ag'].plot(kind='hist', histtype='step', bins=100, grid=True, legend=True, alpha=0.7, color='red', linewidth=2, subplots=True, ax=axs[1], label='rougher.input.feed_ag_test')\n",
    "plt.show()\n",
    "\n",
    "f, axs = plt.subplots(ncols=2, figsize=(15, 5))\n",
    "df_train['rougher.input.feed_pb'].plot(kind='hist', histtype='step', bins=100, grid=True, legend=True, alpha=0.7, color='blue', linewidth=2, subplots=True, ax=axs[0], label='rougher.input.feed_pb_train')\n",
    "df_test['rougher.input.feed_pb'].plot(kind='hist', histtype='step', bins=100, grid=True, legend=True, alpha=0.7, color='red', linewidth=2, subplots=True, ax=axs[0], label='rougher.input.feed_pb_test')\n",
    "df_train['rougher.input.feed_sol'].plot(kind='hist', histtype='step', bins=100, grid=True, legend=True, alpha=0.7, color='blue', linewidth=2, subplots=True, ax=axs[1], label='rougher.input.feed_sol_train')\n",
    "df_test['rougher.input.feed_sol'].plot(kind='hist', histtype='step', bins=100, grid=True, legend=True, alpha=0.7, color='red', linewidth=2, subplots=True, ax=axs[1], label='rougher.input.feed_sol_test')\n",
    "plt.show()"
   ]
  },
  {
   "cell_type": "markdown",
   "metadata": {},
   "source": [
    "Концентрация свинца распределена нормально. По остальным веществам ограничим распределения, чтобы избавиться от самых редких значений."
   ]
  },
  {
   "cell_type": "code",
   "execution_count": 15,
   "metadata": {},
   "outputs": [],
   "source": [
    "df_train = df_train[df_train['rougher.input.feed_au'] > 2]\n",
    "df_test = df_test[df_test['rougher.input.feed_au'] > 2]\n",
    "\n",
    "df_train = df_train[df_train['rougher.input.feed_ag'] > 4]\n",
    "df_test = df_test[df_test['rougher.input.feed_ag'] > 4]\n",
    "                  \n",
    "df_train = df_train[(df_train['rougher.input.feed_sol'] > 15) & (df_train['rougher.input.feed_sol'] < 50)]\n",
    "df_test = df_test[(df_test['rougher.input.feed_sol'] > 15) & (df_test['rougher.input.feed_sol'] < 50)]"
   ]
  },
  {
   "cell_type": "markdown",
   "metadata": {},
   "source": [
    "Теперь рассмотрим размер гранул сырья на обучающей и тестовой выборках. Размеры гранул представлены в признаках rougher.input.feed_size и primary_cleaner.input.feed_size."
   ]
  },
  {
   "cell_type": "code",
   "execution_count": 16,
   "metadata": {
    "scrolled": true
   },
   "outputs": [
    {
     "data": {
      "image/png": "[encoded data removed]",
      "text/plain": [
       "<Figure size 1080x360 with 2 Axes>"
      ]
     },
     "metadata": {
      "needs_background": "light"
     },
     "output_type": "display_data"
    }
   ],
   "source": [
    "f, axs = plt.subplots(ncols=2, figsize=(15, 5))\n",
    "df_train['rougher.input.feed_size'].plot(kind='hist', bins=100, grid=True, label='train', legend=True, figsize=(8,5), color='green', alpha=0.7, subplots=True, ax=axs[0])\n",
    "df_test['rougher.input.feed_size'].plot(kind='hist', bins=100, grid=True, label='test', legend=True, figsize=(8,5), alpha=0.7, subplots=True, ax=axs[0])\n",
    "df_train['primary_cleaner.input.feed_size'].plot(kind='hist', bins=100, grid=True, label='train', legend=True, figsize=(8,5), color='green', alpha=0.7, subplots=True, ax=axs[1])\n",
    "df_test['primary_cleaner.input.feed_size'].plot(kind='hist', bins=100, grid=True, label='test', legend=True, figsize=(8,5), alpha=0.7, subplots=True, ax=axs[1])\n",
    "plt.show()"
   ]
  },
  {
   "cell_type": "markdown",
   "metadata": {},
   "source": [
    "В данном случае мы также наблюдаем большой разброс редких значений. Ограничим обе выборки."
   ]
  },
  {
   "cell_type": "code",
   "execution_count": 17,
   "metadata": {},
   "outputs": [],
   "source": [
    "df_train = df_train[(df_train['rougher.input.feed_size'] > 20) & (df_train['rougher.input.feed_size'] < 120)]\n",
    "df_test = df_test[(df_test['rougher.input.feed_size'] > 20) & (df_test['rougher.input.feed_size'] < 120)]\n",
    "df_train = df_train[(df_train['primary_cleaner.input.feed_size'] > 5) & (df_train['primary_cleaner.input.feed_size'] < 10)]\n",
    "df_test = df_test[(df_test['primary_cleaner.input.feed_size'] > 5) & (df_test['primary_cleaner.input.feed_size'] < 10)]"
   ]
  },
  {
   "cell_type": "code",
   "execution_count": 18,
   "metadata": {},
   "outputs": [
    {
     "data": {
      "image/png": "[encoded data removed]",
      "text/plain": [
       "<Figure size 1080x360 with 2 Axes>"
      ]
     },
     "metadata": {
      "needs_background": "light"
     },
     "output_type": "display_data"
    }
   ],
   "source": [
    "f, axs = plt.subplots(ncols=2, figsize=(15, 5))\n",
    "df_train['rougher.input.feed_size'].plot(kind='hist', bins=100, grid=True, label='train', legend=True, figsize=(8,5), color='green', alpha=0.7, subplots=True, ax=axs[0])\n",
    "df_test['rougher.input.feed_size'].plot(kind='hist', bins=100, grid=True, label='test', legend=True, figsize=(8,5), alpha=0.7, subplots=True, ax=axs[0])\n",
    "df_train['primary_cleaner.input.feed_size'].plot(kind='hist', bins=100, grid=True, label='train', legend=True, figsize=(8,5), color='green', alpha=0.7, subplots=True, ax=axs[1])\n",
    "df_test['primary_cleaner.input.feed_size'].plot(kind='hist', bins=100, grid=True, label='test', legend=True, figsize=(8,5), alpha=0.7, subplots=True, ax=axs[1])\n",
    "plt.show()"
   ]
  },
  {
   "cell_type": "code",
   "execution_count": 19,
   "metadata": {},
   "outputs": [
    {
     "name": "stdout",
     "output_type": "stream",
     "text": [
      "count    13824.000000\n",
      "mean        58.346650\n",
      "std         13.484667\n",
      "min         20.056099\n",
      "25%         48.856895\n",
      "50%         55.096830\n",
      "75%         65.400005\n",
      "max        119.664018\n",
      "Name: rougher.input.feed_size, dtype: float64\n",
      "\n",
      "count    5119.000000\n",
      "mean       54.404487\n",
      "std        13.310012\n",
      "min        25.334235\n",
      "25%        43.824316\n",
      "50%        50.117205\n",
      "75%        61.249977\n",
      "max       119.222131\n",
      "Name: rougher.input.feed_size, dtype: float64\n",
      "\n",
      "count    13824.000000\n",
      "mean         7.337592\n",
      "std          0.582641\n",
      "min          5.410000\n",
      "25%          6.976458\n",
      "50%          7.300000\n",
      "75%          7.700000\n",
      "max          9.500000\n",
      "Name: primary_cleaner.input.feed_size, dtype: float64\n",
      "\n",
      "count    5119.000000\n",
      "mean        7.253682\n",
      "std         0.587480\n",
      "min         5.650000\n",
      "25%         6.890000\n",
      "50%         7.245000\n",
      "75%         7.590000\n",
      "max         9.630000\n",
      "Name: primary_cleaner.input.feed_size, dtype: float64\n"
     ]
    }
   ],
   "source": [
    "print(df_train['rougher.input.feed_size'].describe())\n",
    "print()\n",
    "print(df_test['rougher.input.feed_size'].describe())\n",
    "print()\n",
    "print(df_train['primary_cleaner.input.feed_size'].describe())\n",
    "print()\n",
    "print(df_test['primary_cleaner.input.feed_size'].describe())"
   ]
  },
  {
   "cell_type": "markdown",
   "metadata": {},
   "source": [
    "Распределения размера гранул после флотации на обучающей и тестовой выборках очень похожи.\n",
    "\n",
    "Распределения размера гранул исходного сырья на обучающей и тестовой выборках отличаются, но несущественно для нашего исследования."
   ]
  },
  {
   "cell_type": "markdown",
   "metadata": {},
   "source": [
    "Рассмотрим также суммарную концентрацию всех веществ на каждом этапе. В этот раз построим распределение по обучающей выборке, чтобы посмотреть, какое влияние оказало удаление аномальных значений."
   ]
  },
  {
   "cell_type": "code",
   "execution_count": 20,
   "metadata": {},
   "outputs": [],
   "source": [
    "summary_rougher_input = pd.Series(df_train['rougher.input.feed_au'] + df_train['rougher.input.feed_ag'] + df_train['rougher.input.feed_pb'] + df_train['rougher.input.feed_sol'])\n",
    "summary_rougher_output = pd.Series(df_train['rougher.output.concentrate_au'] + df_train['rougher.output.concentrate_ag'] + df_train['rougher.output.concentrate_pb'] + df_train['rougher.output.concentrate_sol'])\n",
    "summary_primary_cleaner_output = pd.Series(df_train['primary_cleaner.output.concentrate_au'] + df_train['primary_cleaner.output.concentrate_ag'] + df_train['primary_cleaner.output.concentrate_pb'] + df_train['primary_cleaner.output.concentrate_sol'])\n",
    "summary_final_output = pd.Series(df_train['final.output.concentrate_au'] + df_train['final.output.concentrate_ag'] + df_train['final.output.concentrate_pb'] + df_train['final.output.concentrate_sol'])"
   ]
  },
  {
   "cell_type": "code",
   "execution_count": 21,
   "metadata": {},
   "outputs": [
    {
     "data": {
      "image/png": "[encoded data removed]",
      "text/plain": [
       "<Figure size 1224x432 with 1 Axes>"
      ]
     },
     "metadata": {
      "needs_background": "light"
     },
     "output_type": "display_data"
    }
   ],
   "source": [
    "summary_rougher_input.plot(kind='hist', histtype='step', linewidth=2, bins=100, grid=True, legend=True, figsize=(17,6), alpha=0.7, color='blue', label='rougher_input')\n",
    "summary_rougher_output.plot(kind='hist', histtype='step', linewidth=2, bins=100, grid=True, legend=True, figsize=(17,6), alpha=0.7, color='red', label='rougher_output')\n",
    "summary_primary_cleaner_output.plot(kind='hist', histtype='step', linewidth=2, bins=100, grid=True, legend=True, figsize=(17,6), alpha=0.7, color='green', label='primary_cleaner_output')\n",
    "summary_final_output.plot(kind='hist', histtype='step', linewidth=2, bins=100, grid=True, legend=True, figsize=(17,6), alpha=0.7, color='orange', label='final_output')\n",
    "plt.title('Суммарная концентрацию веществ по этапам')\n",
    "plt.show()"
   ]
  },
  {
   "cell_type": "markdown",
   "metadata": {},
   "source": [
    "Наблюдается всплекс нулевых концентраций на всех этапах, кроме входного сырья (т.к. они были удалены ранее). Аналогичные выбросы присутствовали при рассмотрении концентрации веществ по отдельности на исходном датасете. \n",
    "\n",
    "Удалим данные аномалии."
   ]
  },
  {
   "cell_type": "code",
   "execution_count": 22,
   "metadata": {},
   "outputs": [],
   "source": [
    "df_train = df_train[\n",
    "    (df_train['rougher.output.concentrate_au'] > 0) & \n",
    "    (df_train['rougher.output.concentrate_ag'] > 0) & \n",
    "    (df_train['rougher.output.concentrate_pb'] > 0) & \n",
    "    (df_train['rougher.output.concentrate_sol'] > 0) &\n",
    "    (df_train['primary_cleaner.output.concentrate_au'] > 0) & \n",
    "    (df_train['primary_cleaner.output.concentrate_ag'] > 0) & \n",
    "    (df_train['primary_cleaner.output.concentrate_pb'] > 0) & \n",
    "    (df_train['primary_cleaner.output.concentrate_sol'] > 0) & \n",
    "    (df_train['final.output.concentrate_au'] > 0) & \n",
    "    (df_train['final.output.concentrate_ag'] > 0) & \n",
    "    (df_train['final.output.concentrate_pb'] > 0) & \n",
    "    (df_train['final.output.concentrate_sol'] > 0)\n",
    "]"
   ]
  },
  {
   "cell_type": "markdown",
   "metadata": {},
   "source": [
    "Добавим в тестовую выборку столбцы rougher.output.recovery и final.output.recovery (т.к. они являются целевым признаком для проверки модели), затем удалить из обучающей выборки все столбцы, которые отсутствуют в тестовой.\n",
    "\n",
    "Изменим индексацию во всех датасетах на столбец date, затем выполним описанные выше действия."
   ]
  },
  {
   "cell_type": "code",
   "execution_count": 23,
   "metadata": {},
   "outputs": [],
   "source": [
    "df_train = df_train.set_index('date')\n",
    "df_test = df_test.set_index('date')\n",
    "df_full = df_full.set_index('date')"
   ]
  },
  {
   "cell_type": "code",
   "execution_count": 24,
   "metadata": {},
   "outputs": [],
   "source": [
    "df_test['rougher.output.recovery'] = df_full['rougher.output.recovery']\n",
    "df_test['final.output.recovery'] = df_full['final.output.recovery']"
   ]
  },
  {
   "cell_type": "code",
   "execution_count": 25,
   "metadata": {},
   "outputs": [],
   "source": [
    "drop_col = list(set(df_train.columns) - set(df_test.columns))\n",
    "df_train = df_train.drop(drop_col, axis=1)"
   ]
  },
  {
   "cell_type": "markdown",
   "metadata": {},
   "source": [
    "Посмотрим на распределение целевых признаков rougher.output.recovery и final.output.recovery."
   ]
  },
  {
   "cell_type": "code",
   "execution_count": 26,
   "metadata": {},
   "outputs": [
    {
     "data": {
      "image/png": "[encoded data removed]",
      "text/plain": [
       "<Figure size 1080x360 with 2 Axes>"
      ]
     },
     "metadata": {
      "needs_background": "light"
     },
     "output_type": "display_data"
    }
   ],
   "source": [
    "f, axs = plt.subplots(ncols=2, figsize=(15, 5))\n",
    "df_train['rougher.output.recovery'].plot(kind='hist', bins=100, grid=True, legend=True, figsize=(8,5), color='green', alpha=0.7, subplots=True, ax=axs[0], label='rougher_recovery_train')\n",
    "df_test['rougher.output.recovery'].plot(kind='hist', bins=100, grid=True, legend=True, figsize=(8,5), alpha=0.7, subplots=True, ax=axs[0], label='rougher_recovery_test')\n",
    "df_train['final.output.recovery'].plot(kind='hist', bins=100, grid=True, legend=True, figsize=(8,5), color='green', alpha=0.7, subplots=True, ax=axs[1], label='final_recovery_train')\n",
    "df_test['final.output.recovery'].plot(kind='hist', bins=100, grid=True, legend=True, figsize=(8,5), alpha=0.7, subplots=True, ax=axs[1], label='final_recovery_test')\n",
    "plt.show()"
   ]
  },
  {
   "cell_type": "markdown",
   "metadata": {},
   "source": [
    "В распределениях также присутствуют аномальные значения. Удалим их."
   ]
  },
  {
   "cell_type": "code",
   "execution_count": 27,
   "metadata": {},
   "outputs": [],
   "source": [
    "df_train = df_train[df_train['rougher.output.recovery'] > 50]\n",
    "df_test = df_test[df_test['rougher.output.recovery'] > 50]\n",
    "df_train = df_train[(df_train['final.output.recovery'] > 30) & (df_train['final.output.recovery'] < 90)]\n",
    "df_test = df_test[(df_test['final.output.recovery'] > 30) & (df_test['final.output.recovery'] < 90)]"
   ]
  },
  {
   "cell_type": "code",
   "execution_count": 28,
   "metadata": {},
   "outputs": [
    {
     "data": {
      "image/png": "[encoded data removed]",
      "text/plain": [
       "<Figure size 1080x360 with 2 Axes>"
      ]
     },
     "metadata": {
      "needs_background": "light"
     },
     "output_type": "display_data"
    }
   ],
   "source": [
    "f, axs = plt.subplots(ncols=2, figsize=(15, 5))\n",
    "df_train['rougher.output.recovery'].plot(kind='hist', bins=100, grid=True, legend=True, figsize=(8,5), color='green', alpha=0.7, subplots=True, ax=axs[0], label='rougher_recovery_train')\n",
    "df_test['rougher.output.recovery'].plot(kind='hist', bins=100, grid=True, legend=True, figsize=(8,5), alpha=0.7, subplots=True, ax=axs[0], label='rougher_recovery_test')\n",
    "df_train['final.output.recovery'].plot(kind='hist', bins=100, grid=True, legend=True, figsize=(8,5), color='green', alpha=0.7, subplots=True, ax=axs[1], label='final_recovery_train')\n",
    "df_test['final.output.recovery'].plot(kind='hist', bins=100, grid=True, legend=True, figsize=(8,5), alpha=0.7, subplots=True, ax=axs[1], label='final_recovery_test')\n",
    "plt.show()"
   ]
  },
  {
   "cell_type": "markdown",
   "metadata": {},
   "source": [
    "Теперь распределения приближены к нормальным. Приступим к построению моделей."
   ]
  },
  {
   "cell_type": "markdown",
   "metadata": {},
   "source": [
    "## Модель"
   ]
  },
  {
   "cell_type": "markdown",
   "metadata": {},
   "source": [
    "### Метрика качества ###"
   ]
  },
  {
   "cell_type": "markdown",
   "metadata": {},
   "source": [
    "Для решения задачи введём новую метрику качества — sMAPE (англ. Symmetric Mean Absolute Percentage Error, «симметричное среднее абсолютное процентное отклонение»).\n",
    "\n",
    "Создадим две функции для ее расчета."
   ]
  },
  {
   "cell_type": "code",
   "execution_count": 29,
   "metadata": {},
   "outputs": [],
   "source": [
    "def smape(target, predictions):\n",
    "    total = 0\n",
    "    for i in range(len(predictions)):\n",
    "        total += (2 * (abs(target[i] - predictions[i])) / (abs(target[i]) + abs(predictions[i])))\n",
    "    smape = total * 100 / len(predictions)\n",
    "    return smape\n",
    "\n",
    "smape_score = make_scorer(smape, greater_is_better=False)\n",
    "\n",
    "def final_smape(rougher_smape, final_smape):\n",
    "    final_smape = 0.25 * rougher_smape + 0.75 * final_smape\n",
    "    return final_smape"
   ]
  },
  {
   "cell_type": "markdown",
   "metadata": {},
   "source": [
    "Разделим обучающую и тестовую выбоки на признаки и 2 целевых признака."
   ]
  },
  {
   "cell_type": "code",
   "execution_count": 30,
   "metadata": {},
   "outputs": [],
   "source": [
    "features_train = df_train.drop(['rougher.output.recovery', 'final.output.recovery'], axis=1)\n",
    "target_rougher_train = df_train['rougher.output.recovery']\n",
    "target_final_train = df_train['final.output.recovery']\n",
    "\n",
    "features_test = df_test.drop(['rougher.output.recovery', 'final.output.recovery'], axis=1)\n",
    "target_rougher_test = df_test['rougher.output.recovery']\n",
    "target_final_test = df_test['final.output.recovery']"
   ]
  },
  {
   "cell_type": "markdown",
   "metadata": {},
   "source": [
    "Проведем масштабирование признаков обучающей выборки."
   ]
  },
  {
   "cell_type": "code",
   "execution_count": 31,
   "metadata": {},
   "outputs": [],
   "source": [
    "scaler = StandardScaler()\n",
    "scaler.fit(features_train)\n",
    "features_train = scaler.transform(features_train)\n",
    "features_test = scaler.transform(features_test)\n",
    "pd.options.mode.chained_assignment = None"
   ]
  },
  {
   "cell_type": "markdown",
   "metadata": {},
   "source": [
    "Приступим к обучению моделей."
   ]
  },
  {
   "cell_type": "markdown",
   "metadata": {},
   "source": [
    "### Линейная регрессия ###"
   ]
  },
  {
   "cell_type": "code",
   "execution_count": 32,
   "metadata": {},
   "outputs": [
    {
     "name": "stdout",
     "output_type": "stream",
     "text": [
      "Оценка предсказаний rougher.output.recovery -6.483228400131097\n",
      "\n",
      "Оценка предсказаний final.output.recovery -9.869854760092938\n",
      "\n",
      "Итоговый SMAPE для логистической регрессии на обучающей выборке -9.023198170102479\n",
      "\n",
      "CPU times: user 996 ms, sys: 2.03 s, total: 3.02 s\n",
      "Wall time: 3.02 s\n"
     ]
    }
   ],
   "source": [
    "%%time\n",
    "\n",
    "model_lr_rougher = LinearRegression()\n",
    "scores_lr_rougher = cross_val_score(model_lr_rougher, features_train, target_rougher_train, scoring=smape_score, cv=5, n_jobs=-1)\n",
    "print('Оценка предсказаний rougher.output.recovery', scores_lr_rougher.mean())\n",
    "print()\n",
    "\n",
    "model_lr_final = LinearRegression()\n",
    "scores_lr_final = cross_val_score(model_lr_final, features_train, target_final_train, scoring=smape_score, cv=5, n_jobs=-1)\n",
    "print('Оценка предсказаний final.output.recovery', scores_lr_final.mean())\n",
    "print()\n",
    "\n",
    "print('Итоговый SMAPE для логистической регрессии на обучающей выборке', final_smape(scores_lr_rougher.mean(), scores_lr_final.mean()))\n",
    "print()"
   ]
  },
  {
   "cell_type": "markdown",
   "metadata": {},
   "source": [
    "При обучении логистической регрессии ошибка предсказаний признака final.output.recovery на треть больше ошибки предсказаний признака rougher.output.recovery. Рассмотрим другие модели для сравнения."
   ]
  },
  {
   "cell_type": "markdown",
   "metadata": {},
   "source": [
    "### Дерево решений ###"
   ]
  },
  {
   "cell_type": "code",
   "execution_count": 33,
   "metadata": {
    "scrolled": true
   },
   "outputs": [
    {
     "name": "stdout",
     "output_type": "stream",
     "text": [
      "Оценка предсказаний rougher.output.recovery -6.40419269536832\n",
      "Лучшая глубина дерева для rougher.output.recovery {'max_depth': 3}\n",
      "\n",
      "Оценка предсказаний final.output.recovery -8.635302443537055\n",
      "Лучшая глубина дерева для final.output.recovery {'max_depth': 1}\n",
      "\n",
      "Итоговый SMAPE для дерева решений на обучающей выборке -8.077525006494872\n",
      "\n",
      "CPU times: user 24.2 s, sys: 89.6 ms, total: 24.3 s\n",
      "Wall time: 24.3 s\n"
     ]
    }
   ],
   "source": [
    "%%time\n",
    "\n",
    "params_dtr = {'max_depth': range(1, 10)}\n",
    "\n",
    "model_dtr_rougher = DecisionTreeRegressor(random_state=12345)\n",
    "grid_dtr_rougher = GridSearchCV(model_dtr_rougher, params_dtr, scoring=smape_score, cv=5, n_jobs=-1)\n",
    "grid_dtr_rougher.fit(features_train, target_rougher_train)\n",
    "\n",
    "print('Оценка предсказаний rougher.output.recovery', grid_dtr_rougher.best_score_)\n",
    "print('Лучшая глубина дерева для rougher.output.recovery', grid_dtr_rougher.best_params_)\n",
    "print()\n",
    "\n",
    "model_dtr_final = DecisionTreeRegressor(random_state=12345)\n",
    "grid_dtr_final = GridSearchCV(model_dtr_final, params_dtr, scoring=smape_score, cv=5, n_jobs=-1)\n",
    "grid_dtr_final.fit(features_train, target_final_train)\n",
    "\n",
    "print('Оценка предсказаний final.output.recovery', grid_dtr_final.best_score_)\n",
    "print('Лучшая глубина дерева для final.output.recovery', grid_dtr_final.best_params_)\n",
    "print()\n",
    "\n",
    "print('Итоговый SMAPE для дерева решений на обучающей выборке', final_smape(grid_dtr_rougher.best_score_, grid_dtr_final.best_score_))\n",
    "print()"
   ]
  },
  {
   "cell_type": "markdown",
   "metadata": {},
   "source": [
    "При обучении дерева решений ошибки предсказаний обоих признаков немного ниже, чем при использовании логистической регрессии. Итоговая SMAPE также немного ниже."
   ]
  },
  {
   "cell_type": "markdown",
   "metadata": {},
   "source": [
    "### Случайный лес ###"
   ]
  },
  {
   "cell_type": "code",
   "execution_count": 34,
   "metadata": {},
   "outputs": [
    {
     "name": "stdout",
     "output_type": "stream",
     "text": [
      "Оценка предсказаний rougher.output.recovery -5.875136331799746\n",
      "Лучшие параметры случайного леса для rougher.output.recovery {'max_depth': 6, 'n_estimators': 40}\n",
      "\n",
      "Оценка предсказаний final.output.recovery -7.981436004446389\n",
      "Лучшие параметры случайного леса для final.output.recovery {'max_depth': 4, 'n_estimators': 30}\n",
      "\n",
      "Итоговый SMAPE для случайного леса на обучающей выборке -7.454861086284728\n",
      "\n",
      "CPU times: user 1h 2min 16s, sys: 13.4 s, total: 1h 2min 29s\n",
      "Wall time: 1h 2min 31s\n"
     ]
    }
   ],
   "source": [
    "%%time\n",
    "\n",
    "params_rfr = {\n",
    "    'n_estimators': range(10, 51, 5),\n",
    "    'max_depth': range(1, 10)\n",
    "}\n",
    "\n",
    "model_rfr_rougher = RandomForestRegressor(random_state=12345)\n",
    "grid_rfr_rougher = GridSearchCV(model_rfr_rougher, params_rfr, scoring=smape_score, cv=5, n_jobs=-1)\n",
    "grid_rfr_rougher.fit(features_train, target_rougher_train)\n",
    "\n",
    "print('Оценка предсказаний rougher.output.recovery', grid_rfr_rougher.best_score_)\n",
    "print('Лучшие параметры случайного леса для rougher.output.recovery', grid_rfr_rougher.best_params_)\n",
    "print()\n",
    "\n",
    "model_rfr_final = RandomForestRegressor(random_state=12345)\n",
    "grid_rfr_final = GridSearchCV(model_rfr_final, params_rfr, scoring=smape_score, cv=5, n_jobs=-1)\n",
    "grid_rfr_final.fit(features_train, target_final_train)\n",
    "\n",
    "print('Оценка предсказаний final.output.recovery', grid_rfr_final.best_score_)\n",
    "print('Лучшие параметры случайного леса для final.output.recovery', grid_rfr_final.best_params_)\n",
    "print()\n",
    "\n",
    "print('Итоговый SMAPE для случайного леса на обучающей выборке', final_smape(grid_rfr_rougher.best_score_, grid_rfr_final.best_score_))\n",
    "print()"
   ]
  },
  {
   "cell_type": "markdown",
   "metadata": {},
   "source": [
    "Случайный лес, несмотря на очень высокое время обучения, дает самые низкие значения ошибок. Для того, чтобы удостовериться, что данная модель является лучшей, рассмотрим также константную модель."
   ]
  },
  {
   "cell_type": "markdown",
   "metadata": {},
   "source": [
    "### Dummy-модель ###"
   ]
  },
  {
   "cell_type": "markdown",
   "metadata": {},
   "source": [
    "Для оценки качества наших моделей сравним их результаты с dummy-моделью, которая по всем наблюдениям предсказывает медианное значение целевого признака."
   ]
  },
  {
   "cell_type": "code",
   "execution_count": 35,
   "metadata": {},
   "outputs": [
    {
     "name": "stdout",
     "output_type": "stream",
     "text": [
      "Оценка предсказаний rougher.output.recovery -7.442152509135115\n",
      "\n",
      "Оценка предсказаний final.output.recovery -9.45971638092725\n",
      "\n",
      "Итоговый SMAPE для dummy-модели на обучающей выборке -8.955325412979217\n",
      "\n",
      "CPU times: user 164 ms, sys: 4.02 ms, total: 168 ms\n",
      "Wall time: 177 ms\n"
     ]
    }
   ],
   "source": [
    "%%time\n",
    "\n",
    "model_dummy_rougher = DummyRegressor(strategy='median')\n",
    "scores_dummy_rougher = cross_val_score(model_dummy_rougher, features_train, target_rougher_train, scoring=smape_score, cv=5, n_jobs=-1)\n",
    "print('Оценка предсказаний rougher.output.recovery', scores_dummy_rougher.mean())\n",
    "print()\n",
    "\n",
    "model_dummy_final = DummyRegressor(strategy='median')\n",
    "scores_dummy_final = cross_val_score(model_dummy_final, features_train, target_final_train, scoring=smape_score, cv=5, n_jobs=-1)\n",
    "print('Оценка предсказаний final.output.recovery', scores_dummy_final.mean())\n",
    "print()\n",
    "\n",
    "print('Итоговый SMAPE для dummy-модели на обучающей выборке', final_smape(scores_dummy_rougher.mean(), scores_dummy_final.mean()))\n",
    "print()"
   ]
  },
  {
   "cell_type": "markdown",
   "metadata": {},
   "source": [
    "Результаты констатной модели сравнимы с результатами логистической регрессии.\n",
    "\n",
    "Таким образом, лучшей моделью является случайный лес с подобранными гиперпараметрами. Проверим его на тестовой выборке."
   ]
  },
  {
   "cell_type": "markdown",
   "metadata": {},
   "source": [
    "### Проверка модели ###"
   ]
  },
  {
   "cell_type": "code",
   "execution_count": 36,
   "metadata": {},
   "outputs": [
    {
     "data": {
      "text/plain": [
       "-6.754277702430722"
      ]
     },
     "execution_count": 36,
     "metadata": {},
     "output_type": "execute_result"
    }
   ],
   "source": [
    "rougher_test_smape = grid_rfr_rougher.score(features_test, target_rougher_test)\n",
    "final_test_smape = grid_rfr_final.score(features_test, target_final_test)\n",
    "final_smape(rougher_test_smape, final_test_smape)"
   ]
  },
  {
   "cell_type": "markdown",
   "metadata": {},
   "source": [
    "Случайный лес на тестовой выборке показал хороший результат. Значение SMAPE вышло ниже, чем на валидации."
   ]
  },
  {
   "cell_type": "code",
   "execution_count": null,
   "metadata": {},
   "outputs": [],
   "source": []
  }
 ],
 "metadata": {
  "ExecuteTimeLog": [
   {
    "duration": 15,
    "start_time": "2022-09-23T16:59:49.414Z"
   },
   {
    "duration": 1367,
    "start_time": "2022-09-23T16:59:51.506Z"
   },
   {
    "duration": 117,
    "start_time": "2022-09-23T16:59:52.875Z"
   },
   {
    "duration": 0,
    "start_time": "2022-09-23T16:59:52.994Z"
   },
   {
    "duration": 3446,
    "start_time": "2022-09-23T17:00:18.179Z"
   },
   {
    "duration": 3,
    "start_time": "2022-09-23T17:00:23.329Z"
   },
   {
    "duration": 28,
    "start_time": "2022-09-23T17:00:48.870Z"
   },
   {
    "duration": 60,
    "start_time": "2022-09-23T17:01:30.950Z"
   },
   {
    "duration": 4,
    "start_time": "2022-09-23T17:01:35.602Z"
   },
   {
    "duration": 24,
    "start_time": "2022-09-23T17:01:37.033Z"
   },
   {
    "duration": 3,
    "start_time": "2022-09-23T17:02:01.165Z"
   },
   {
    "duration": 17,
    "start_time": "2022-09-23T17:02:01.771Z"
   },
   {
    "duration": 15,
    "start_time": "2022-09-23T17:02:17.848Z"
   },
   {
    "duration": 24,
    "start_time": "2022-09-23T17:02:24.398Z"
   },
   {
    "duration": 48,
    "start_time": "2022-09-26T11:14:53.169Z"
   },
   {
    "duration": 1340,
    "start_time": "2022-09-26T11:14:58.307Z"
   },
   {
    "duration": 3272,
    "start_time": "2022-09-26T11:14:59.649Z"
   },
   {
    "duration": 23,
    "start_time": "2022-09-26T11:15:06.567Z"
   },
   {
    "duration": 49,
    "start_time": "2022-09-26T12:57:45.966Z"
   },
   {
    "duration": 81,
    "start_time": "2022-09-26T12:57:53.350Z"
   },
   {
    "duration": 67,
    "start_time": "2022-09-26T12:57:59.493Z"
   },
   {
    "duration": 63,
    "start_time": "2022-09-26T12:58:08.774Z"
   },
   {
    "duration": 57,
    "start_time": "2022-09-26T12:58:19.886Z"
   },
   {
    "duration": 71,
    "start_time": "2022-09-26T12:59:52.985Z"
   },
   {
    "duration": 5,
    "start_time": "2022-09-26T13:00:16.128Z"
   },
   {
    "duration": 7,
    "start_time": "2022-09-26T13:00:25.201Z"
   },
   {
    "duration": 144,
    "start_time": "2022-09-26T13:00:53.113Z"
   },
   {
    "duration": 106,
    "start_time": "2022-09-26T13:02:05.610Z"
   },
   {
    "duration": 140,
    "start_time": "2022-09-26T13:02:18.314Z"
   },
   {
    "duration": 123,
    "start_time": "2022-09-26T13:03:01.147Z"
   },
   {
    "duration": 126,
    "start_time": "2022-09-26T13:03:23.931Z"
   },
   {
    "duration": 120,
    "start_time": "2022-09-26T13:03:28.352Z"
   },
   {
    "duration": 16,
    "start_time": "2022-09-26T13:09:08.431Z"
   },
   {
    "duration": 260,
    "start_time": "2022-09-26T13:09:16.177Z"
   },
   {
    "duration": 5,
    "start_time": "2022-09-26T13:09:20.951Z"
   },
   {
    "duration": 139,
    "start_time": "2022-09-26T13:50:02.174Z"
   },
   {
    "duration": 22,
    "start_time": "2022-09-26T13:52:23.240Z"
   },
   {
    "duration": 10,
    "start_time": "2022-09-26T13:53:07.206Z"
   },
   {
    "duration": 4,
    "start_time": "2022-09-26T13:54:01.956Z"
   },
   {
    "duration": 20,
    "start_time": "2022-09-26T13:56:58.146Z"
   },
   {
    "duration": 22,
    "start_time": "2022-09-26T13:57:07.361Z"
   },
   {
    "duration": 6686,
    "start_time": "2022-09-26T14:25:33.183Z"
   },
   {
    "duration": 8400,
    "start_time": "2022-09-26T14:26:11.376Z"
   },
   {
    "duration": 8332,
    "start_time": "2022-09-26T14:26:21.568Z"
   },
   {
    "duration": 11,
    "start_time": "2022-09-26T14:55:08.406Z"
   },
   {
    "duration": 4,
    "start_time": "2022-09-26T14:55:45.508Z"
   },
   {
    "duration": 5,
    "start_time": "2022-09-26T14:55:52.140Z"
   },
   {
    "duration": 9,
    "start_time": "2022-09-26T14:57:03.368Z"
   },
   {
    "duration": 4,
    "start_time": "2022-09-26T14:59:29.863Z"
   },
   {
    "duration": 50,
    "start_time": "2022-09-26T15:01:53.296Z"
   },
   {
    "duration": 1704,
    "start_time": "2022-09-28T10:56:53.287Z"
   },
   {
    "duration": 4,
    "start_time": "2022-09-28T10:57:42.352Z"
   },
   {
    "duration": 1893,
    "start_time": "2022-09-28T10:58:25.506Z"
   },
   {
    "duration": 70,
    "start_time": "2022-09-28T10:58:51.577Z"
   },
   {
    "duration": 17,
    "start_time": "2022-09-28T10:58:55.499Z"
   },
   {
    "duration": 16,
    "start_time": "2022-09-28T10:59:23.669Z"
   },
   {
    "duration": 13,
    "start_time": "2022-09-28T10:59:33.586Z"
   },
   {
    "duration": 4,
    "start_time": "2022-09-28T11:02:53.628Z"
   },
   {
    "duration": 17,
    "start_time": "2022-09-28T11:03:04.797Z"
   },
   {
    "duration": 3,
    "start_time": "2022-09-28T11:03:35.004Z"
   },
   {
    "duration": 17,
    "start_time": "2022-09-28T11:03:36.097Z"
   },
   {
    "duration": 3,
    "start_time": "2022-09-28T11:04:57.996Z"
   },
   {
    "duration": 15,
    "start_time": "2022-09-28T11:04:58.604Z"
   },
   {
    "duration": 3,
    "start_time": "2022-09-28T11:05:02.861Z"
   },
   {
    "duration": 17,
    "start_time": "2022-09-28T11:05:03.395Z"
   },
   {
    "duration": 3,
    "start_time": "2022-09-28T11:07:25.517Z"
   },
   {
    "duration": 31,
    "start_time": "2022-09-28T11:07:26.064Z"
   },
   {
    "duration": 3,
    "start_time": "2022-09-28T11:07:55.254Z"
   },
   {
    "duration": 3,
    "start_time": "2022-09-28T11:07:59.734Z"
   },
   {
    "duration": 199,
    "start_time": "2022-09-28T11:08:00.325Z"
   },
   {
    "duration": 9,
    "start_time": "2022-09-28T11:09:22.374Z"
   },
   {
    "duration": 15,
    "start_time": "2022-09-28T11:09:33.144Z"
   },
   {
    "duration": 18,
    "start_time": "2022-09-28T11:09:46.800Z"
   },
   {
    "duration": 4,
    "start_time": "2022-09-28T11:10:04.823Z"
   },
   {
    "duration": 148,
    "start_time": "2022-09-28T11:10:05.469Z"
   },
   {
    "duration": 3,
    "start_time": "2022-09-28T11:10:55.719Z"
   },
   {
    "duration": 30,
    "start_time": "2022-09-28T11:10:56.338Z"
   },
   {
    "duration": 3,
    "start_time": "2022-09-28T11:11:07.551Z"
   },
   {
    "duration": 3,
    "start_time": "2022-09-28T11:11:22.311Z"
   },
   {
    "duration": 35,
    "start_time": "2022-09-28T11:11:23.690Z"
   },
   {
    "duration": 34,
    "start_time": "2022-09-28T11:11:36.320Z"
   },
   {
    "duration": 4,
    "start_time": "2022-09-28T11:11:54.331Z"
   },
   {
    "duration": 52,
    "start_time": "2022-09-28T11:11:55.593Z"
   },
   {
    "duration": 36,
    "start_time": "2022-09-28T11:12:41.640Z"
   },
   {
    "duration": 52,
    "start_time": "2022-09-28T11:12:48.672Z"
   },
   {
    "duration": 5,
    "start_time": "2022-09-28T11:24:21.806Z"
   },
   {
    "duration": 178,
    "start_time": "2022-09-28T11:24:24.475Z"
   },
   {
    "duration": 57,
    "start_time": "2022-09-28T11:25:14.650Z"
   },
   {
    "duration": 155,
    "start_time": "2022-09-28T11:25:20.058Z"
   },
   {
    "duration": 11,
    "start_time": "2022-09-28T11:32:46.164Z"
   },
   {
    "duration": 174,
    "start_time": "2022-09-28T11:33:01.371Z"
   },
   {
    "duration": 11,
    "start_time": "2022-09-28T11:33:30.580Z"
   },
   {
    "duration": 170,
    "start_time": "2022-09-28T11:35:25.542Z"
   },
   {
    "duration": 5,
    "start_time": "2022-09-28T11:35:44.277Z"
   },
   {
    "duration": 194,
    "start_time": "2022-09-28T11:35:45.732Z"
   },
   {
    "duration": 120,
    "start_time": "2022-09-28T11:35:55.837Z"
   },
   {
    "duration": 127,
    "start_time": "2022-09-28T11:36:00.838Z"
   },
   {
    "duration": 173,
    "start_time": "2022-09-28T11:36:21.191Z"
   },
   {
    "duration": 10,
    "start_time": "2022-09-28T11:36:28.936Z"
   },
   {
    "duration": 6,
    "start_time": "2022-09-28T11:36:37.837Z"
   },
   {
    "duration": 191,
    "start_time": "2022-09-28T11:37:08.349Z"
   },
   {
    "duration": 127,
    "start_time": "2022-09-28T11:49:08.909Z"
   },
   {
    "duration": 6,
    "start_time": "2022-09-28T11:49:14.327Z"
   },
   {
    "duration": 4,
    "start_time": "2022-09-28T11:58:07.584Z"
   },
   {
    "duration": 13,
    "start_time": "2022-09-28T12:18:59.847Z"
   },
   {
    "duration": 298,
    "start_time": "2022-09-28T12:21:50.726Z"
   },
   {
    "duration": 931,
    "start_time": "2022-09-28T12:25:59.223Z"
   },
   {
    "duration": 893,
    "start_time": "2022-09-28T12:26:29.961Z"
   },
   {
    "duration": 956,
    "start_time": "2022-09-28T12:27:06.672Z"
   },
   {
    "duration": 4,
    "start_time": "2022-09-28T12:38:42.959Z"
   },
   {
    "duration": 859,
    "start_time": "2022-09-28T12:39:52.304Z"
   },
   {
    "duration": 5,
    "start_time": "2022-09-28T12:40:07.159Z"
   },
   {
    "duration": 1004,
    "start_time": "2022-09-28T12:40:09.585Z"
   },
   {
    "duration": 846,
    "start_time": "2022-09-28T12:42:27.042Z"
   },
   {
    "duration": 1067,
    "start_time": "2022-09-28T12:43:04.792Z"
   },
   {
    "duration": 834,
    "start_time": "2022-09-28T12:44:08.604Z"
   },
   {
    "duration": 4,
    "start_time": "2022-09-28T12:45:22.962Z"
   },
   {
    "duration": 1082,
    "start_time": "2022-09-28T12:45:23.668Z"
   },
   {
    "duration": 1028,
    "start_time": "2022-09-28T12:45:28.265Z"
   },
   {
    "duration": 913,
    "start_time": "2022-09-28T12:45:36.698Z"
   },
   {
    "duration": 1062,
    "start_time": "2022-09-28T12:45:46.553Z"
   },
   {
    "duration": 5,
    "start_time": "2022-09-28T12:48:28.236Z"
   },
   {
    "duration": 908,
    "start_time": "2022-09-28T12:48:29.586Z"
   },
   {
    "duration": 5,
    "start_time": "2022-09-28T12:48:34.250Z"
   },
   {
    "duration": 1099,
    "start_time": "2022-09-28T12:48:35.303Z"
   },
   {
    "duration": 5,
    "start_time": "2022-09-28T12:48:50.924Z"
   },
   {
    "duration": 1014,
    "start_time": "2022-09-28T12:48:51.636Z"
   },
   {
    "duration": 1107,
    "start_time": "2022-09-28T12:48:58.188Z"
   },
   {
    "duration": 5,
    "start_time": "2022-09-28T12:49:10.269Z"
   },
   {
    "duration": 1008,
    "start_time": "2022-09-28T12:49:10.820Z"
   },
   {
    "duration": 1134,
    "start_time": "2022-09-28T12:49:16.747Z"
   },
   {
    "duration": 5,
    "start_time": "2022-09-28T12:49:28.068Z"
   },
   {
    "duration": 31,
    "start_time": "2022-09-28T12:49:28.707Z"
   },
   {
    "duration": 5,
    "start_time": "2022-09-28T12:51:05.157Z"
   },
   {
    "duration": 13,
    "start_time": "2022-09-28T12:51:05.966Z"
   },
   {
    "duration": 5,
    "start_time": "2022-09-28T12:51:30.702Z"
   },
   {
    "duration": 1025,
    "start_time": "2022-09-28T12:51:31.260Z"
   },
   {
    "duration": 6,
    "start_time": "2022-09-28T12:51:46.268Z"
   },
   {
    "duration": 1111,
    "start_time": "2022-09-28T12:51:46.902Z"
   },
   {
    "duration": 7,
    "start_time": "2022-09-28T12:51:51.228Z"
   },
   {
    "duration": 1154,
    "start_time": "2022-09-28T12:51:51.814Z"
   },
   {
    "duration": 1190,
    "start_time": "2022-09-28T12:51:55.221Z"
   },
   {
    "duration": 1292,
    "start_time": "2022-09-28T12:51:58.284Z"
   },
   {
    "duration": 970,
    "start_time": "2022-09-28T12:52:00.504Z"
   },
   {
    "duration": 1142,
    "start_time": "2022-09-28T12:53:08.269Z"
   },
   {
    "duration": 1041,
    "start_time": "2022-09-28T12:54:10.661Z"
   },
   {
    "duration": 1098,
    "start_time": "2022-09-28T12:54:15.634Z"
   },
   {
    "duration": 924,
    "start_time": "2022-09-28T12:54:19.005Z"
   },
   {
    "duration": 614,
    "start_time": "2022-09-28T14:56:35.608Z"
   },
   {
    "duration": 497,
    "start_time": "2022-09-28T14:56:59.007Z"
   },
   {
    "duration": 10,
    "start_time": "2022-09-28T15:08:07.654Z"
   },
   {
    "duration": 3411,
    "start_time": "2022-09-28T15:08:14.534Z"
   },
   {
    "duration": 116,
    "start_time": "2022-09-28T15:08:40.294Z"
   },
   {
    "duration": 4,
    "start_time": "2022-09-28T15:11:25.113Z"
   },
   {
    "duration": 2154,
    "start_time": "2022-09-28T15:11:27.030Z"
   },
   {
    "duration": 5,
    "start_time": "2022-09-28T15:11:57.352Z"
   },
   {
    "duration": 1183,
    "start_time": "2022-09-28T15:11:58.056Z"
   },
   {
    "duration": 5,
    "start_time": "2022-09-28T15:12:18.776Z"
   },
   {
    "duration": 52,
    "start_time": "2022-09-28T15:13:44.225Z"
   },
   {
    "duration": 13,
    "start_time": "2022-09-28T15:14:56.844Z"
   },
   {
    "duration": 978,
    "start_time": "2022-09-28T15:15:08.281Z"
   },
   {
    "duration": 6,
    "start_time": "2022-09-28T15:22:57.561Z"
   },
   {
    "duration": 1499,
    "start_time": "2022-09-28T15:23:01.071Z"
   },
   {
    "duration": 6,
    "start_time": "2022-09-28T15:23:37.311Z"
   },
   {
    "duration": 1330,
    "start_time": "2022-09-28T15:23:37.926Z"
   },
   {
    "duration": 5,
    "start_time": "2022-09-28T15:23:53.494Z"
   },
   {
    "duration": 596,
    "start_time": "2022-09-28T15:23:54.558Z"
   },
   {
    "duration": 5,
    "start_time": "2022-09-28T15:24:03.407Z"
   },
   {
    "duration": 947,
    "start_time": "2022-09-28T15:24:04.086Z"
   },
   {
    "duration": 9,
    "start_time": "2022-09-28T15:24:11.591Z"
   },
   {
    "duration": 709,
    "start_time": "2022-09-28T15:24:12.662Z"
   },
   {
    "duration": 6,
    "start_time": "2022-09-28T15:24:21.638Z"
   },
   {
    "duration": 1163,
    "start_time": "2022-09-28T15:24:23.713Z"
   },
   {
    "duration": 10,
    "start_time": "2022-09-28T15:28:24.914Z"
   },
   {
    "duration": 28,
    "start_time": "2022-09-28T15:29:21.874Z"
   },
   {
    "duration": 8,
    "start_time": "2022-09-28T15:30:00.026Z"
   },
   {
    "duration": 23,
    "start_time": "2022-09-28T15:30:00.915Z"
   },
   {
    "duration": 6,
    "start_time": "2022-09-28T15:30:13.274Z"
   },
   {
    "duration": 5,
    "start_time": "2022-09-28T15:30:22.876Z"
   },
   {
    "duration": 68,
    "start_time": "2022-09-28T15:30:35.482Z"
   },
   {
    "duration": 8,
    "start_time": "2022-09-28T15:30:44.955Z"
   },
   {
    "duration": 24,
    "start_time": "2022-09-28T15:30:45.699Z"
   },
   {
    "duration": 5,
    "start_time": "2022-09-28T15:31:09.907Z"
   },
   {
    "duration": 27,
    "start_time": "2022-09-28T15:31:14.330Z"
   },
   {
    "duration": 874,
    "start_time": "2022-09-28T15:32:22.213Z"
   },
   {
    "duration": 18,
    "start_time": "2022-09-28T15:35:08.301Z"
   },
   {
    "duration": 6952,
    "start_time": "2022-09-28T15:35:11.885Z"
   },
   {
    "duration": 7682,
    "start_time": "2022-09-28T15:35:44.732Z"
   },
   {
    "duration": 7264,
    "start_time": "2022-09-28T15:35:57.429Z"
   },
   {
    "duration": 9,
    "start_time": "2022-09-28T18:26:50.885Z"
   },
   {
    "duration": 29,
    "start_time": "2022-09-28T18:26:57.322Z"
   },
   {
    "duration": 8,
    "start_time": "2022-09-28T18:27:20.176Z"
   },
   {
    "duration": 31,
    "start_time": "2022-09-28T18:27:22.438Z"
   },
   {
    "duration": 3,
    "start_time": "2022-09-28T18:28:12.334Z"
   },
   {
    "duration": 4,
    "start_time": "2022-09-28T18:28:17.982Z"
   },
   {
    "duration": 6,
    "start_time": "2022-09-28T18:28:27.038Z"
   },
   {
    "duration": 4,
    "start_time": "2022-09-28T18:28:32.362Z"
   },
   {
    "duration": 1559,
    "start_time": "2022-09-28T18:29:03.217Z"
   },
   {
    "duration": 2161,
    "start_time": "2022-09-28T18:29:04.778Z"
   },
   {
    "duration": 5,
    "start_time": "2022-09-28T18:29:06.941Z"
   },
   {
    "duration": 231,
    "start_time": "2022-09-28T18:29:06.948Z"
   },
   {
    "duration": 74,
    "start_time": "2022-09-28T18:29:07.181Z"
   },
   {
    "duration": 199,
    "start_time": "2022-09-28T18:29:07.256Z"
   },
   {
    "duration": 93,
    "start_time": "2022-09-28T18:29:07.457Z"
   },
   {
    "duration": 7561,
    "start_time": "2022-09-28T18:29:07.552Z"
   },
   {
    "duration": 5,
    "start_time": "2022-09-28T18:29:15.115Z"
   },
   {
    "duration": 5,
    "start_time": "2022-09-28T18:29:15.124Z"
   },
   {
    "duration": 13,
    "start_time": "2022-09-28T18:29:15.131Z"
   },
   {
    "duration": 229,
    "start_time": "2022-09-28T18:29:15.147Z"
   },
   {
    "duration": 16,
    "start_time": "2022-09-28T18:29:15.379Z"
   },
   {
    "duration": 19,
    "start_time": "2022-09-28T18:29:15.402Z"
   },
   {
    "duration": 1224,
    "start_time": "2022-09-28T18:29:15.423Z"
   },
   {
    "duration": 833,
    "start_time": "2022-09-28T18:29:16.648Z"
   },
   {
    "duration": 1070,
    "start_time": "2022-09-28T18:29:17.483Z"
   },
   {
    "duration": 1106,
    "start_time": "2022-09-28T18:29:18.558Z"
   },
   {
    "duration": 533,
    "start_time": "2022-09-28T18:29:19.666Z"
   },
   {
    "duration": 503,
    "start_time": "2022-09-28T18:29:20.205Z"
   },
   {
    "duration": 8,
    "start_time": "2022-09-28T18:29:20.710Z"
   },
   {
    "duration": 987,
    "start_time": "2022-09-28T18:29:20.719Z"
   },
   {
    "duration": 5,
    "start_time": "2022-09-28T18:29:21.707Z"
   },
   {
    "duration": 6,
    "start_time": "2022-09-28T18:29:21.714Z"
   },
   {
    "duration": 8,
    "start_time": "2022-09-28T18:29:21.721Z"
   },
   {
    "duration": 173,
    "start_time": "2022-09-28T18:29:21.730Z"
   },
   {
    "duration": 0,
    "start_time": "2022-09-28T18:29:21.907Z"
   },
   {
    "duration": 0,
    "start_time": "2022-09-28T18:29:21.909Z"
   },
   {
    "duration": 5,
    "start_time": "2022-09-28T18:29:43.956Z"
   },
   {
    "duration": 5,
    "start_time": "2022-09-28T18:29:51.809Z"
   },
   {
    "duration": 8,
    "start_time": "2022-09-28T18:29:58.398Z"
   },
   {
    "duration": 92,
    "start_time": "2022-09-28T18:30:34.638Z"
   },
   {
    "duration": 4,
    "start_time": "2022-09-28T18:30:38.759Z"
   },
   {
    "duration": 4,
    "start_time": "2022-09-28T18:30:46.242Z"
   },
   {
    "duration": 754,
    "start_time": "2022-09-28T18:30:48.587Z"
   },
   {
    "duration": 88,
    "start_time": "2022-09-28T18:30:58.445Z"
   },
   {
    "duration": 5,
    "start_time": "2022-09-28T18:31:05.841Z"
   },
   {
    "duration": 10,
    "start_time": "2022-09-28T18:31:37.693Z"
   },
   {
    "duration": 5,
    "start_time": "2022-09-28T18:31:40.170Z"
   },
   {
    "duration": 4,
    "start_time": "2022-09-28T18:31:51.468Z"
   },
   {
    "duration": 5,
    "start_time": "2022-09-28T18:31:52.210Z"
   },
   {
    "duration": 7,
    "start_time": "2022-09-28T18:32:01.368Z"
   },
   {
    "duration": 36,
    "start_time": "2022-09-28T18:32:06.348Z"
   },
   {
    "duration": 3,
    "start_time": "2022-09-28T18:35:00.819Z"
   },
   {
    "duration": 4,
    "start_time": "2022-09-28T18:35:55.953Z"
   },
   {
    "duration": 6,
    "start_time": "2022-09-28T18:35:58.220Z"
   },
   {
    "duration": 3,
    "start_time": "2022-09-28T18:36:00.406Z"
   },
   {
    "duration": 4,
    "start_time": "2022-09-28T18:37:38.034Z"
   },
   {
    "duration": 79,
    "start_time": "2022-09-28T18:38:02.258Z"
   },
   {
    "duration": 668,
    "start_time": "2022-09-28T18:38:47.439Z"
   },
   {
    "duration": 15,
    "start_time": "2022-09-28T18:38:59.878Z"
   },
   {
    "duration": 2,
    "start_time": "2022-09-28T18:39:06.851Z"
   },
   {
    "duration": 11,
    "start_time": "2022-09-28T18:39:07.606Z"
   },
   {
    "duration": 7,
    "start_time": "2022-09-28T18:39:17.220Z"
   },
   {
    "duration": 7,
    "start_time": "2022-09-28T18:39:27.736Z"
   },
   {
    "duration": 31,
    "start_time": "2022-09-28T18:39:39.602Z"
   },
   {
    "duration": 13,
    "start_time": "2022-09-28T18:42:39.959Z"
   },
   {
    "duration": 25,
    "start_time": "2022-09-28T18:42:45.308Z"
   },
   {
    "duration": 26,
    "start_time": "2022-09-28T18:42:50.304Z"
   },
   {
    "duration": 8,
    "start_time": "2022-09-28T18:43:01.709Z"
   },
   {
    "duration": 6,
    "start_time": "2022-09-28T18:43:02.250Z"
   },
   {
    "duration": 4,
    "start_time": "2022-09-28T18:43:02.942Z"
   },
   {
    "duration": 25,
    "start_time": "2022-09-28T18:43:03.563Z"
   },
   {
    "duration": 11,
    "start_time": "2022-09-28T18:43:04.438Z"
   },
   {
    "duration": 32209,
    "start_time": "2022-09-28T18:43:17.660Z"
   },
   {
    "duration": 4,
    "start_time": "2022-09-28T18:46:22.419Z"
   },
   {
    "duration": 1511,
    "start_time": "2022-09-28T19:04:32.050Z"
   },
   {
    "duration": 769,
    "start_time": "2022-09-28T19:04:33.563Z"
   },
   {
    "duration": 4,
    "start_time": "2022-09-28T19:04:34.334Z"
   },
   {
    "duration": 261,
    "start_time": "2022-09-28T19:04:34.340Z"
   },
   {
    "duration": 74,
    "start_time": "2022-09-28T19:04:34.603Z"
   },
   {
    "duration": 225,
    "start_time": "2022-09-28T19:04:34.679Z"
   },
   {
    "duration": 100,
    "start_time": "2022-09-28T19:04:34.909Z"
   },
   {
    "duration": 7594,
    "start_time": "2022-09-28T19:04:35.011Z"
   },
   {
    "duration": 5,
    "start_time": "2022-09-28T19:04:42.606Z"
   },
   {
    "duration": 6,
    "start_time": "2022-09-28T19:04:42.614Z"
   },
   {
    "duration": 192,
    "start_time": "2022-09-28T19:04:42.622Z"
   },
   {
    "duration": 5,
    "start_time": "2022-09-28T19:04:42.816Z"
   },
   {
    "duration": 8,
    "start_time": "2022-09-28T19:04:42.823Z"
   },
   {
    "duration": 1215,
    "start_time": "2022-09-28T19:04:42.833Z"
   },
   {
    "duration": 853,
    "start_time": "2022-09-28T19:04:44.050Z"
   },
   {
    "duration": 1049,
    "start_time": "2022-09-28T19:04:44.905Z"
   },
   {
    "duration": 974,
    "start_time": "2022-09-28T19:04:45.956Z"
   },
   {
    "duration": 508,
    "start_time": "2022-09-28T19:04:46.932Z"
   },
   {
    "duration": 494,
    "start_time": "2022-09-28T19:04:47.442Z"
   },
   {
    "duration": 8,
    "start_time": "2022-09-28T19:04:47.937Z"
   },
   {
    "duration": 972,
    "start_time": "2022-09-28T19:04:47.947Z"
   },
   {
    "duration": 6,
    "start_time": "2022-09-28T19:04:48.921Z"
   },
   {
    "duration": 13,
    "start_time": "2022-09-28T19:04:48.929Z"
   },
   {
    "duration": 11,
    "start_time": "2022-09-28T19:04:48.944Z"
   },
   {
    "duration": 11,
    "start_time": "2022-09-28T19:04:48.957Z"
   },
   {
    "duration": 8,
    "start_time": "2022-09-28T19:04:48.970Z"
   },
   {
    "duration": 142,
    "start_time": "2022-09-28T19:04:48.991Z"
   },
   {
    "duration": 0,
    "start_time": "2022-09-28T19:04:49.135Z"
   },
   {
    "duration": 0,
    "start_time": "2022-09-28T19:04:49.136Z"
   },
   {
    "duration": 0,
    "start_time": "2022-09-28T19:04:49.138Z"
   },
   {
    "duration": 0,
    "start_time": "2022-09-28T19:04:49.139Z"
   },
   {
    "duration": 0,
    "start_time": "2022-09-28T19:04:49.140Z"
   },
   {
    "duration": 31,
    "start_time": "2022-09-28T19:05:11.601Z"
   },
   {
    "duration": 22127,
    "start_time": "2022-09-28T19:05:27.043Z"
   },
   {
    "duration": 4,
    "start_time": "2022-09-28T19:07:17.283Z"
   },
   {
    "duration": 28111,
    "start_time": "2022-09-28T19:07:28.678Z"
   },
   {
    "duration": 3,
    "start_time": "2022-09-29T07:13:09.768Z"
   },
   {
    "duration": 10,
    "start_time": "2022-09-29T07:13:14.798Z"
   },
   {
    "duration": 4,
    "start_time": "2022-09-29T07:15:42.117Z"
   },
   {
    "duration": 702,
    "start_time": "2022-09-29T07:15:44.276Z"
   },
   {
    "duration": 7,
    "start_time": "2022-09-29T07:15:59.133Z"
   },
   {
    "duration": 32,
    "start_time": "2022-09-29T07:16:04.443Z"
   },
   {
    "duration": 17,
    "start_time": "2022-09-29T07:16:51.641Z"
   },
   {
    "duration": 4,
    "start_time": "2022-09-29T07:17:06.154Z"
   },
   {
    "duration": 732,
    "start_time": "2022-09-29T07:17:07.346Z"
   },
   {
    "duration": 19,
    "start_time": "2022-09-29T07:17:11.730Z"
   },
   {
    "duration": 10,
    "start_time": "2022-09-29T07:17:21.381Z"
   },
   {
    "duration": 45,
    "start_time": "2022-09-29T07:17:31.121Z"
   },
   {
    "duration": 24,
    "start_time": "2022-09-29T07:17:50.529Z"
   },
   {
    "duration": 27,
    "start_time": "2022-09-29T07:18:02.567Z"
   },
   {
    "duration": 56,
    "start_time": "2022-09-29T07:19:06.941Z"
   },
   {
    "duration": 29,
    "start_time": "2022-09-29T07:19:28.662Z"
   },
   {
    "duration": 112,
    "start_time": "2022-09-29T07:20:25.813Z"
   },
   {
    "duration": 10,
    "start_time": "2022-09-29T07:20:29.821Z"
   },
   {
    "duration": 9,
    "start_time": "2022-09-29T07:20:42.789Z"
   },
   {
    "duration": 4,
    "start_time": "2022-09-29T07:25:58.344Z"
   },
   {
    "duration": 12,
    "start_time": "2022-09-29T07:26:54.033Z"
   },
   {
    "duration": 4,
    "start_time": "2022-09-29T07:27:02.363Z"
   },
   {
    "duration": 691,
    "start_time": "2022-09-29T07:27:03.404Z"
   },
   {
    "duration": 5,
    "start_time": "2022-09-29T07:27:05.426Z"
   },
   {
    "duration": 172,
    "start_time": "2022-09-29T07:27:06.932Z"
   },
   {
    "duration": 61,
    "start_time": "2022-09-29T07:27:29.754Z"
   },
   {
    "duration": 99,
    "start_time": "2022-09-29T07:30:22.164Z"
   },
   {
    "duration": 6,
    "start_time": "2022-09-29T07:36:19.681Z"
   },
   {
    "duration": 5,
    "start_time": "2022-09-29T07:36:36.622Z"
   },
   {
    "duration": 211,
    "start_time": "2022-09-29T07:38:45.071Z"
   },
   {
    "duration": 145,
    "start_time": "2022-09-29T07:39:33.919Z"
   },
   {
    "duration": 195,
    "start_time": "2022-09-29T07:39:37.501Z"
   },
   {
    "duration": 11,
    "start_time": "2022-09-29T07:40:25.056Z"
   },
   {
    "duration": 6,
    "start_time": "2022-09-29T07:40:27.359Z"
   },
   {
    "duration": 5,
    "start_time": "2022-09-29T07:40:28.120Z"
   },
   {
    "duration": 194,
    "start_time": "2022-09-29T07:40:49.722Z"
   },
   {
    "duration": 4,
    "start_time": "2022-09-29T07:41:27.714Z"
   },
   {
    "duration": 206,
    "start_time": "2022-09-29T07:41:44.013Z"
   },
   {
    "duration": 6,
    "start_time": "2022-09-29T07:48:29.920Z"
   },
   {
    "duration": 14,
    "start_time": "2022-09-29T08:20:25.413Z"
   },
   {
    "duration": 9,
    "start_time": "2022-09-29T08:37:41.118Z"
   },
   {
    "duration": 10,
    "start_time": "2022-09-29T08:37:49.160Z"
   },
   {
    "duration": 4,
    "start_time": "2022-09-29T08:37:55.440Z"
   },
   {
    "duration": 4,
    "start_time": "2022-09-29T08:38:05.281Z"
   },
   {
    "duration": 5,
    "start_time": "2022-09-29T08:39:20.665Z"
   },
   {
    "duration": 13,
    "start_time": "2022-09-29T08:39:28.290Z"
   },
   {
    "duration": 5,
    "start_time": "2022-09-29T09:57:34.442Z"
   },
   {
    "duration": 986,
    "start_time": "2022-09-29T09:57:34.986Z"
   },
   {
    "duration": 851,
    "start_time": "2022-09-29T09:57:48.857Z"
   },
   {
    "duration": 7,
    "start_time": "2022-09-29T09:59:01.899Z"
   },
   {
    "duration": 1016,
    "start_time": "2022-09-29T09:59:02.667Z"
   },
   {
    "duration": 5,
    "start_time": "2022-09-29T09:59:12.884Z"
   },
   {
    "duration": 914,
    "start_time": "2022-09-29T09:59:13.742Z"
   },
   {
    "duration": 5,
    "start_time": "2022-09-29T09:59:26.116Z"
   },
   {
    "duration": 1589,
    "start_time": "2022-09-29T09:59:26.601Z"
   },
   {
    "duration": 1636,
    "start_time": "2022-09-29T09:59:34.029Z"
   },
   {
    "duration": 1818,
    "start_time": "2022-09-29T09:59:55.027Z"
   },
   {
    "duration": 1676,
    "start_time": "2022-09-29T10:00:12.599Z"
   },
   {
    "duration": 11,
    "start_time": "2022-09-29T10:04:20.887Z"
   },
   {
    "duration": 11,
    "start_time": "2022-09-29T10:04:34.455Z"
   },
   {
    "duration": 14,
    "start_time": "2022-09-29T10:04:42.199Z"
   },
   {
    "duration": 129,
    "start_time": "2022-09-29T10:04:47.698Z"
   },
   {
    "duration": 100,
    "start_time": "2022-09-29T10:04:57.272Z"
   },
   {
    "duration": 6,
    "start_time": "2022-09-29T10:07:46.694Z"
   },
   {
    "duration": 203,
    "start_time": "2022-09-29T10:07:48.913Z"
   },
   {
    "duration": 6,
    "start_time": "2022-09-29T10:08:19.330Z"
   },
   {
    "duration": 1756,
    "start_time": "2022-09-29T10:08:48.500Z"
   },
   {
    "duration": 7,
    "start_time": "2022-09-29T10:11:29.620Z"
   },
   {
    "duration": 1804,
    "start_time": "2022-09-29T10:11:31.929Z"
   },
   {
    "duration": 6,
    "start_time": "2022-09-29T10:12:17.970Z"
   },
   {
    "duration": 1763,
    "start_time": "2022-09-29T10:12:19.956Z"
   },
   {
    "duration": 6,
    "start_time": "2022-09-29T10:13:13.978Z"
   },
   {
    "duration": 1723,
    "start_time": "2022-09-29T10:13:15.795Z"
   },
   {
    "duration": 6,
    "start_time": "2022-09-29T10:13:27.482Z"
   },
   {
    "duration": 1817,
    "start_time": "2022-09-29T10:13:28.865Z"
   },
   {
    "duration": 1754,
    "start_time": "2022-09-29T10:22:42.943Z"
   },
   {
    "duration": 158,
    "start_time": "2022-09-29T10:23:07.017Z"
   },
   {
    "duration": 1724,
    "start_time": "2022-09-29T10:23:07.604Z"
   },
   {
    "duration": 7,
    "start_time": "2022-09-29T10:23:23.647Z"
   },
   {
    "duration": 1822,
    "start_time": "2022-09-29T10:23:24.317Z"
   },
   {
    "duration": 7,
    "start_time": "2022-09-29T10:23:37.479Z"
   },
   {
    "duration": 1807,
    "start_time": "2022-09-29T10:23:37.974Z"
   },
   {
    "duration": 6,
    "start_time": "2022-09-29T10:23:58.310Z"
   },
   {
    "duration": 1814,
    "start_time": "2022-09-29T10:23:58.892Z"
   },
   {
    "duration": 6,
    "start_time": "2022-09-29T10:24:04.230Z"
   },
   {
    "duration": 1764,
    "start_time": "2022-09-29T10:24:04.876Z"
   },
   {
    "duration": 8,
    "start_time": "2022-09-29T10:24:15.386Z"
   },
   {
    "duration": 1771,
    "start_time": "2022-09-29T10:24:15.967Z"
   },
   {
    "duration": 6,
    "start_time": "2022-09-29T10:24:44.199Z"
   },
   {
    "duration": 1787,
    "start_time": "2022-09-29T10:24:45.300Z"
   },
   {
    "duration": 1774,
    "start_time": "2022-09-29T10:25:34.823Z"
   },
   {
    "duration": 6,
    "start_time": "2022-09-29T10:26:04.833Z"
   },
   {
    "duration": 1713,
    "start_time": "2022-09-29T10:26:05.499Z"
   },
   {
    "duration": 1784,
    "start_time": "2022-09-29T10:26:13.530Z"
   },
   {
    "duration": 8,
    "start_time": "2022-09-29T10:27:59.547Z"
   },
   {
    "duration": 1848,
    "start_time": "2022-09-29T10:28:02.722Z"
   },
   {
    "duration": 174,
    "start_time": "2022-09-29T10:28:27.101Z"
   },
   {
    "duration": 1872,
    "start_time": "2022-09-29T10:28:27.701Z"
   },
   {
    "duration": 1829,
    "start_time": "2022-09-29T10:28:55.206Z"
   },
   {
    "duration": 2042,
    "start_time": "2022-09-29T10:29:33.767Z"
   },
   {
    "duration": 1985,
    "start_time": "2022-09-29T10:30:15.279Z"
   },
   {
    "duration": 227,
    "start_time": "2022-09-29T10:37:30.132Z"
   },
   {
    "duration": 254,
    "start_time": "2022-09-29T10:38:00.450Z"
   },
   {
    "duration": 267,
    "start_time": "2022-09-29T10:38:37.935Z"
   },
   {
    "duration": 567,
    "start_time": "2022-09-29T10:38:38.608Z"
   },
   {
    "duration": 270,
    "start_time": "2022-09-29T10:38:45.210Z"
   },
   {
    "duration": 269,
    "start_time": "2022-09-29T10:38:56.557Z"
   },
   {
    "duration": 266,
    "start_time": "2022-09-29T10:39:04.232Z"
   },
   {
    "duration": 344,
    "start_time": "2022-09-29T10:40:39.131Z"
   },
   {
    "duration": 325,
    "start_time": "2022-09-29T10:40:46.816Z"
   },
   {
    "duration": 680,
    "start_time": "2022-09-29T10:41:27.401Z"
   },
   {
    "duration": 4349,
    "start_time": "2022-09-29T11:14:47.064Z"
   },
   {
    "duration": 9199,
    "start_time": "2022-09-29T11:15:09.144Z"
   },
   {
    "duration": 632,
    "start_time": "2022-09-29T11:32:57.854Z"
   },
   {
    "duration": 554,
    "start_time": "2022-09-29T11:49:18.509Z"
   },
   {
    "duration": 504,
    "start_time": "2022-09-29T11:49:22.459Z"
   },
   {
    "duration": 997,
    "start_time": "2022-09-29T11:50:18.366Z"
   },
   {
    "duration": 1311,
    "start_time": "2022-09-29T11:50:47.350Z"
   },
   {
    "duration": 47,
    "start_time": "2022-09-29T11:55:04.168Z"
   },
   {
    "duration": 321,
    "start_time": "2022-09-29T11:57:41.625Z"
   },
   {
    "duration": 7,
    "start_time": "2022-09-29T11:58:03.866Z"
   },
   {
    "duration": 14,
    "start_time": "2022-09-29T11:58:11.387Z"
   },
   {
    "duration": 1053,
    "start_time": "2022-09-29T11:58:14.907Z"
   },
   {
    "duration": 318,
    "start_time": "2022-09-29T11:58:43.843Z"
   },
   {
    "duration": 351,
    "start_time": "2022-09-29T11:58:50.446Z"
   },
   {
    "duration": 350,
    "start_time": "2022-09-29T11:59:40.032Z"
   },
   {
    "duration": 15,
    "start_time": "2022-09-29T12:00:01.917Z"
   },
   {
    "duration": 13,
    "start_time": "2022-09-29T12:00:19.335Z"
   },
   {
    "duration": 1359,
    "start_time": "2022-09-29T12:00:24.582Z"
   },
   {
    "duration": 9,
    "start_time": "2022-09-29T12:01:03.320Z"
   },
   {
    "duration": 1075,
    "start_time": "2022-09-29T12:01:05.038Z"
   },
   {
    "duration": 14,
    "start_time": "2022-09-29T12:01:59.002Z"
   },
   {
    "duration": 6,
    "start_time": "2022-09-29T12:02:04.319Z"
   },
   {
    "duration": 9,
    "start_time": "2022-09-29T12:02:08.737Z"
   },
   {
    "duration": 18,
    "start_time": "2022-09-29T12:02:57.645Z"
   },
   {
    "duration": 20,
    "start_time": "2022-09-29T12:03:11.326Z"
   },
   {
    "duration": 1264,
    "start_time": "2022-09-29T12:10:29.051Z"
   },
   {
    "duration": 1000,
    "start_time": "2022-09-29T12:11:05.972Z"
   },
   {
    "duration": 645,
    "start_time": "2022-09-29T13:18:41.248Z"
   },
   {
    "duration": 823,
    "start_time": "2022-09-29T13:22:20.255Z"
   },
   {
    "duration": 654,
    "start_time": "2022-09-29T13:24:01.384Z"
   },
   {
    "duration": 629,
    "start_time": "2022-09-29T13:24:56.218Z"
   },
   {
    "duration": 635,
    "start_time": "2022-09-29T13:25:10.809Z"
   },
   {
    "duration": 717,
    "start_time": "2022-09-29T13:26:10.289Z"
   },
   {
    "duration": 629,
    "start_time": "2022-09-29T13:26:55.360Z"
   },
   {
    "duration": 909,
    "start_time": "2022-09-29T13:27:06.171Z"
   },
   {
    "duration": 634,
    "start_time": "2022-09-29T13:27:14.443Z"
   },
   {
    "duration": 624,
    "start_time": "2022-09-29T13:27:26.123Z"
   },
   {
    "duration": 632,
    "start_time": "2022-09-29T13:27:37.244Z"
   },
   {
    "duration": 660,
    "start_time": "2022-09-29T13:27:48.883Z"
   },
   {
    "duration": 650,
    "start_time": "2022-09-29T13:31:32.822Z"
   },
   {
    "duration": 16,
    "start_time": "2022-09-29T13:35:48.408Z"
   },
   {
    "duration": 618,
    "start_time": "2022-09-29T13:35:56.504Z"
   },
   {
    "duration": 5,
    "start_time": "2022-09-29T13:36:20.093Z"
   },
   {
    "duration": 5,
    "start_time": "2022-09-29T13:36:30.424Z"
   },
   {
    "duration": 15,
    "start_time": "2022-09-29T13:47:01.116Z"
   },
   {
    "duration": 1322,
    "start_time": "2022-09-29T13:47:01.773Z"
   },
   {
    "duration": 1244,
    "start_time": "2022-09-29T13:47:10.213Z"
   },
   {
    "duration": 6,
    "start_time": "2022-09-29T13:48:02.297Z"
   },
   {
    "duration": 731,
    "start_time": "2022-09-29T13:48:03.628Z"
   },
   {
    "duration": 4,
    "start_time": "2022-09-29T13:48:05.437Z"
   },
   {
    "duration": 178,
    "start_time": "2022-09-29T13:48:07.298Z"
   },
   {
    "duration": 76,
    "start_time": "2022-09-29T13:48:08.961Z"
   },
   {
    "duration": 158,
    "start_time": "2022-09-29T13:48:10.543Z"
   },
   {
    "duration": 94,
    "start_time": "2022-09-29T13:48:13.445Z"
   },
   {
    "duration": 7,
    "start_time": "2022-09-29T13:48:15.022Z"
   },
   {
    "duration": 5,
    "start_time": "2022-09-29T13:48:16.413Z"
   },
   {
    "duration": 242,
    "start_time": "2022-09-29T13:48:17.384Z"
   },
   {
    "duration": 5,
    "start_time": "2022-09-29T13:48:20.382Z"
   },
   {
    "duration": 14,
    "start_time": "2022-09-29T13:48:22.236Z"
   },
   {
    "duration": 13,
    "start_time": "2022-09-29T13:48:23.184Z"
   },
   {
    "duration": 6,
    "start_time": "2022-09-29T13:48:24.164Z"
   },
   {
    "duration": 6,
    "start_time": "2022-09-29T13:48:28.822Z"
   },
   {
    "duration": 8328,
    "start_time": "2022-09-29T13:48:31.513Z"
   },
   {
    "duration": 728,
    "start_time": "2022-09-29T13:48:45.516Z"
   },
   {
    "duration": 21,
    "start_time": "2022-09-29T13:48:48.582Z"
   },
   {
    "duration": 1133,
    "start_time": "2022-09-29T13:48:51.567Z"
   },
   {
    "duration": 15,
    "start_time": "2022-09-29T13:48:56.525Z"
   },
   {
    "duration": 1385,
    "start_time": "2022-09-29T13:48:57.496Z"
   },
   {
    "duration": 23,
    "start_time": "2022-09-29T13:49:10.253Z"
   },
   {
    "duration": 880,
    "start_time": "2022-09-29T14:12:55.238Z"
   },
   {
    "duration": 1087,
    "start_time": "2022-09-29T14:13:12.021Z"
   },
   {
    "duration": 1384,
    "start_time": "2022-09-29T14:18:40.576Z"
   },
   {
    "duration": 8373,
    "start_time": "2022-09-29T14:18:57.681Z"
   },
   {
    "duration": 1502,
    "start_time": "2022-09-29T14:19:16.598Z"
   },
   {
    "duration": 750,
    "start_time": "2022-09-29T14:24:08.675Z"
   },
   {
    "duration": 993,
    "start_time": "2022-09-29T14:24:28.700Z"
   },
   {
    "duration": 712,
    "start_time": "2022-09-29T14:24:33.601Z"
   },
   {
    "duration": 230,
    "start_time": "2022-09-29T14:24:47.132Z"
   },
   {
    "duration": 315,
    "start_time": "2022-09-29T14:25:41.325Z"
   },
   {
    "duration": 1255,
    "start_time": "2022-09-29T15:05:45.806Z"
   },
   {
    "duration": 5,
    "start_time": "2022-09-29T15:09:59.857Z"
   },
   {
    "duration": 754,
    "start_time": "2022-09-29T15:10:01.200Z"
   },
   {
    "duration": 7,
    "start_time": "2022-09-29T15:10:03.001Z"
   },
   {
    "duration": 181,
    "start_time": "2022-09-29T15:10:03.861Z"
   },
   {
    "duration": 79,
    "start_time": "2022-09-29T15:10:05.336Z"
   },
   {
    "duration": 156,
    "start_time": "2022-09-29T15:10:06.643Z"
   },
   {
    "duration": 99,
    "start_time": "2022-09-29T15:10:08.840Z"
   },
   {
    "duration": 6,
    "start_time": "2022-09-29T15:10:10.361Z"
   },
   {
    "duration": 6,
    "start_time": "2022-09-29T15:10:11.325Z"
   },
   {
    "duration": 203,
    "start_time": "2022-09-29T15:10:12.757Z"
   },
   {
    "duration": 6,
    "start_time": "2022-09-29T15:10:17.459Z"
   },
   {
    "duration": 7659,
    "start_time": "2022-09-29T15:11:24.388Z"
   },
   {
    "duration": 1063,
    "start_time": "2022-09-29T15:11:52.495Z"
   },
   {
    "duration": 25,
    "start_time": "2022-09-29T15:12:01.337Z"
   },
   {
    "duration": 989,
    "start_time": "2022-09-29T15:12:09.409Z"
   },
   {
    "duration": 15,
    "start_time": "2022-09-29T15:12:12.818Z"
   },
   {
    "duration": 1242,
    "start_time": "2022-09-29T15:12:15.450Z"
   },
   {
    "duration": 20,
    "start_time": "2022-09-29T15:12:16.865Z"
   },
   {
    "duration": 10,
    "start_time": "2022-09-29T15:13:26.076Z"
   },
   {
    "duration": 9,
    "start_time": "2022-09-29T15:14:24.795Z"
   },
   {
    "duration": 265,
    "start_time": "2022-09-29T15:14:25.572Z"
   },
   {
    "duration": 13,
    "start_time": "2022-09-29T15:28:41.403Z"
   },
   {
    "duration": 9,
    "start_time": "2022-09-29T15:28:42.136Z"
   },
   {
    "duration": 7,
    "start_time": "2022-09-29T15:28:42.868Z"
   },
   {
    "duration": 1018,
    "start_time": "2022-09-29T15:29:20.009Z"
   },
   {
    "duration": 290,
    "start_time": "2022-09-29T15:30:34.749Z"
   },
   {
    "duration": 1277,
    "start_time": "2022-09-29T15:31:02.460Z"
   },
   {
    "duration": 34,
    "start_time": "2022-09-29T15:37:43.367Z"
   },
   {
    "duration": 12,
    "start_time": "2022-09-29T15:38:18.407Z"
   },
   {
    "duration": 1109,
    "start_time": "2022-09-29T15:38:27.338Z"
   },
   {
    "duration": 130,
    "start_time": "2022-09-29T15:38:56.573Z"
   },
   {
    "duration": 13,
    "start_time": "2022-09-29T15:39:07.346Z"
   },
   {
    "duration": 1323,
    "start_time": "2022-09-29T15:39:08.438Z"
   },
   {
    "duration": 19,
    "start_time": "2022-09-29T15:39:47.082Z"
   },
   {
    "duration": 1054,
    "start_time": "2022-09-29T15:39:47.684Z"
   },
   {
    "duration": 4,
    "start_time": "2022-09-30T07:00:36.840Z"
   },
   {
    "duration": 3,
    "start_time": "2022-09-30T07:01:11.921Z"
   },
   {
    "duration": 4,
    "start_time": "2022-09-30T07:01:26.120Z"
   },
   {
    "duration": 6,
    "start_time": "2022-09-30T07:12:35.807Z"
   },
   {
    "duration": 4,
    "start_time": "2022-09-30T07:43:40.242Z"
   },
   {
    "duration": 1255,
    "start_time": "2022-09-30T07:47:18.339Z"
   },
   {
    "duration": 4,
    "start_time": "2022-09-30T07:51:52.650Z"
   },
   {
    "duration": 1361,
    "start_time": "2022-09-30T07:51:55.732Z"
   },
   {
    "duration": 4,
    "start_time": "2022-09-30T07:53:30.208Z"
   },
   {
    "duration": 7,
    "start_time": "2022-09-30T07:53:31.420Z"
   },
   {
    "duration": 1423,
    "start_time": "2022-09-30T07:53:32.179Z"
   },
   {
    "duration": 1312,
    "start_time": "2022-09-30T07:54:30.382Z"
   },
   {
    "duration": 1340,
    "start_time": "2022-09-30T07:54:35.749Z"
   },
   {
    "duration": 1617,
    "start_time": "2022-09-30T07:55:08.573Z"
   },
   {
    "duration": 13,
    "start_time": "2022-09-30T08:11:44.021Z"
   },
   {
    "duration": 12577,
    "start_time": "2022-09-30T08:31:00.637Z"
   },
   {
    "duration": 13041,
    "start_time": "2022-09-30T08:35:07.568Z"
   },
   {
    "duration": 12264,
    "start_time": "2022-09-30T09:38:29.942Z"
   },
   {
    "duration": 12223,
    "start_time": "2022-09-30T09:39:33.936Z"
   },
   {
    "duration": 12641,
    "start_time": "2022-09-30T09:40:12.215Z"
   },
   {
    "duration": 12360,
    "start_time": "2022-09-30T09:40:37.953Z"
   },
   {
    "duration": 6,
    "start_time": "2022-09-30T09:43:31.917Z"
   },
   {
    "duration": 1525,
    "start_time": "2022-09-30T09:43:34.579Z"
   },
   {
    "duration": 4,
    "start_time": "2022-09-30T09:43:53.425Z"
   },
   {
    "duration": 19,
    "start_time": "2022-09-30T09:45:23.260Z"
   },
   {
    "duration": 1681,
    "start_time": "2022-09-30T09:45:42.018Z"
   },
   {
    "duration": 1870,
    "start_time": "2022-09-30T09:45:52.133Z"
   },
   {
    "duration": 1479,
    "start_time": "2022-09-30T09:46:16.918Z"
   },
   {
    "duration": 12557,
    "start_time": "2022-09-30T09:46:21.637Z"
   },
   {
    "duration": 12719,
    "start_time": "2022-09-30T09:46:39.068Z"
   },
   {
    "duration": 4,
    "start_time": "2022-09-30T09:50:37.967Z"
   },
   {
    "duration": 87,
    "start_time": "2022-09-30T09:53:29.664Z"
   },
   {
    "duration": 3375,
    "start_time": "2022-09-30T09:53:40.936Z"
   },
   {
    "duration": 2777,
    "start_time": "2022-09-30T09:58:48.627Z"
   },
   {
    "duration": 3382,
    "start_time": "2022-09-30T10:01:32.221Z"
   },
   {
    "duration": 27521,
    "start_time": "2022-09-30T10:01:39.733Z"
   },
   {
    "duration": 25161,
    "start_time": "2022-09-30T10:03:27.823Z"
   },
   {
    "duration": 25610,
    "start_time": "2022-09-30T10:10:53.616Z"
   },
   {
    "duration": 3924627,
    "start_time": "2022-09-30T10:12:06.131Z"
   },
   {
    "duration": 4,
    "start_time": "2022-09-30T11:21:29.479Z"
   },
   {
    "duration": 167,
    "start_time": "2022-09-30T11:21:35.432Z"
   },
   {
    "duration": 18,
    "start_time": "2022-09-30T11:34:13.576Z"
   },
   {
    "duration": 9,
    "start_time": "2022-09-30T11:34:15.607Z"
   },
   {
    "duration": 8,
    "start_time": "2022-09-30T11:37:39.240Z"
   },
   {
    "duration": 10,
    "start_time": "2022-09-30T11:39:59.963Z"
   },
   {
    "duration": 13,
    "start_time": "2022-09-30T11:40:04.035Z"
   },
   {
    "duration": 7,
    "start_time": "2022-09-30T11:40:05.167Z"
   },
   {
    "duration": 11,
    "start_time": "2022-09-30T11:40:07.361Z"
   },
   {
    "duration": 15,
    "start_time": "2022-09-30T11:40:16.433Z"
   },
   {
    "duration": 8,
    "start_time": "2022-09-30T11:40:22.107Z"
   },
   {
    "duration": 10,
    "start_time": "2022-09-30T11:40:32.610Z"
   },
   {
    "duration": 16,
    "start_time": "2022-09-30T11:45:55.323Z"
   },
   {
    "duration": 8,
    "start_time": "2022-09-30T11:45:56.109Z"
   },
   {
    "duration": 10,
    "start_time": "2022-09-30T11:46:07.844Z"
   },
   {
    "duration": 15,
    "start_time": "2022-09-30T11:46:45.620Z"
   },
   {
    "duration": 10,
    "start_time": "2022-09-30T11:46:54.439Z"
   },
   {
    "duration": 6,
    "start_time": "2022-09-30T11:46:59.337Z"
   },
   {
    "duration": 5,
    "start_time": "2022-09-30T11:47:20.948Z"
   },
   {
    "duration": 5,
    "start_time": "2022-09-30T11:47:35.677Z"
   },
   {
    "duration": 18,
    "start_time": "2022-09-30T11:57:32.715Z"
   },
   {
    "duration": 1449,
    "start_time": "2022-09-30T11:57:55.921Z"
   },
   {
    "duration": 762,
    "start_time": "2022-09-30T11:57:57.373Z"
   },
   {
    "duration": 4,
    "start_time": "2022-09-30T11:57:58.137Z"
   },
   {
    "duration": 254,
    "start_time": "2022-09-30T11:57:58.143Z"
   },
   {
    "duration": 58,
    "start_time": "2022-09-30T11:57:58.399Z"
   },
   {
    "duration": 192,
    "start_time": "2022-09-30T11:57:58.459Z"
   },
   {
    "duration": 111,
    "start_time": "2022-09-30T11:57:58.653Z"
   },
   {
    "duration": 6,
    "start_time": "2022-09-30T11:57:58.765Z"
   },
   {
    "duration": 18,
    "start_time": "2022-09-30T11:57:58.772Z"
   },
   {
    "duration": 222,
    "start_time": "2022-09-30T11:57:58.793Z"
   },
   {
    "duration": 5,
    "start_time": "2022-09-30T11:57:59.017Z"
   },
   {
    "duration": 15,
    "start_time": "2022-09-30T11:57:59.023Z"
   },
   {
    "duration": 7283,
    "start_time": "2022-09-30T11:57:59.040Z"
   },
   {
    "duration": 643,
    "start_time": "2022-09-30T11:58:06.325Z"
   },
   {
    "duration": 31,
    "start_time": "2022-09-30T11:58:06.969Z"
   },
   {
    "duration": 900,
    "start_time": "2022-09-30T11:58:07.001Z"
   },
   {
    "duration": 20,
    "start_time": "2022-09-30T11:58:07.903Z"
   },
   {
    "duration": 1055,
    "start_time": "2022-09-30T11:58:07.925Z"
   },
   {
    "duration": 24,
    "start_time": "2022-09-30T11:58:08.982Z"
   },
   {
    "duration": 8,
    "start_time": "2022-09-30T11:58:09.008Z"
   },
   {
    "duration": 278,
    "start_time": "2022-09-30T11:58:09.018Z"
   },
   {
    "duration": 18,
    "start_time": "2022-09-30T11:58:09.298Z"
   },
   {
    "duration": 9,
    "start_time": "2022-09-30T11:58:09.318Z"
   },
   {
    "duration": 9,
    "start_time": "2022-09-30T11:58:09.329Z"
   },
   {
    "duration": 1109,
    "start_time": "2022-09-30T11:58:09.339Z"
   },
   {
    "duration": 12,
    "start_time": "2022-09-30T11:58:10.450Z"
   },
   {
    "duration": 958,
    "start_time": "2022-09-30T11:58:10.464Z"
   },
   {
    "duration": 131,
    "start_time": "2022-09-30T11:58:11.427Z"
   },
   {
    "duration": 0,
    "start_time": "2022-09-30T11:58:11.560Z"
   },
   {
    "duration": 0,
    "start_time": "2022-09-30T11:58:11.561Z"
   },
   {
    "duration": 0,
    "start_time": "2022-09-30T11:58:11.563Z"
   },
   {
    "duration": 0,
    "start_time": "2022-09-30T11:58:11.564Z"
   },
   {
    "duration": 0,
    "start_time": "2022-09-30T11:58:11.566Z"
   },
   {
    "duration": 0,
    "start_time": "2022-09-30T11:58:11.568Z"
   },
   {
    "duration": 0,
    "start_time": "2022-09-30T11:58:11.569Z"
   },
   {
    "duration": 1556,
    "start_time": "2022-09-30T11:58:57.275Z"
   },
   {
    "duration": 758,
    "start_time": "2022-09-30T11:58:58.833Z"
   },
   {
    "duration": 4,
    "start_time": "2022-09-30T11:58:59.596Z"
   },
   {
    "duration": 303,
    "start_time": "2022-09-30T11:58:59.601Z"
   },
   {
    "duration": 58,
    "start_time": "2022-09-30T11:58:59.906Z"
   },
   {
    "duration": 192,
    "start_time": "2022-09-30T11:58:59.965Z"
   },
   {
    "duration": 113,
    "start_time": "2022-09-30T11:59:00.159Z"
   },
   {
    "duration": 5,
    "start_time": "2022-09-30T11:59:00.274Z"
   },
   {
    "duration": 5,
    "start_time": "2022-09-30T11:59:00.288Z"
   },
   {
    "duration": 228,
    "start_time": "2022-09-30T11:59:00.295Z"
   },
   {
    "duration": 5,
    "start_time": "2022-09-30T11:59:00.524Z"
   },
   {
    "duration": 10,
    "start_time": "2022-09-30T11:59:00.531Z"
   },
   {
    "duration": 7318,
    "start_time": "2022-09-30T11:59:00.542Z"
   },
   {
    "duration": 716,
    "start_time": "2022-09-30T11:59:07.862Z"
   },
   {
    "duration": 27,
    "start_time": "2022-09-30T11:59:08.579Z"
   },
   {
    "duration": 973,
    "start_time": "2022-09-30T11:59:08.608Z"
   },
   {
    "duration": 24,
    "start_time": "2022-09-30T11:59:09.582Z"
   },
   {
    "duration": 1089,
    "start_time": "2022-09-30T11:59:09.608Z"
   },
   {
    "duration": 20,
    "start_time": "2022-09-30T11:59:10.698Z"
   },
   {
    "duration": 9,
    "start_time": "2022-09-30T11:59:10.719Z"
   },
   {
    "duration": 280,
    "start_time": "2022-09-30T11:59:10.731Z"
   },
   {
    "duration": 17,
    "start_time": "2022-09-30T11:59:11.012Z"
   },
   {
    "duration": 8,
    "start_time": "2022-09-30T11:59:11.030Z"
   },
   {
    "duration": 8,
    "start_time": "2022-09-30T11:59:11.039Z"
   },
   {
    "duration": 1247,
    "start_time": "2022-09-30T11:59:11.049Z"
   },
   {
    "duration": 14,
    "start_time": "2022-09-30T11:59:12.298Z"
   },
   {
    "duration": 981,
    "start_time": "2022-09-30T11:59:12.315Z"
   },
   {
    "duration": 5,
    "start_time": "2022-09-30T11:59:13.298Z"
   },
   {
    "duration": 10,
    "start_time": "2022-09-30T11:59:13.304Z"
   },
   {
    "duration": 23,
    "start_time": "2022-09-30T11:59:13.316Z"
   },
   {
    "duration": 2855,
    "start_time": "2022-09-30T11:59:13.341Z"
   },
   {
    "duration": 24755,
    "start_time": "2022-09-30T11:59:16.198Z"
   },
   {
    "duration": 3823275,
    "start_time": "2022-09-30T11:59:40.955Z"
   },
   {
    "duration": 182,
    "start_time": "2022-09-30T13:03:24.232Z"
   },
   {
    "duration": 19,
    "start_time": "2022-09-30T13:03:24.416Z"
   },
   {
    "duration": 52,
    "start_time": "2022-10-02T13:30:12.219Z"
   },
   {
    "duration": 1641,
    "start_time": "2022-10-02T13:30:22.681Z"
   },
   {
    "duration": 3349,
    "start_time": "2022-10-02T13:30:24.325Z"
   },
   {
    "duration": 6,
    "start_time": "2022-10-02T13:30:27.676Z"
   },
   {
    "duration": 253,
    "start_time": "2022-10-02T13:30:27.683Z"
   },
   {
    "duration": 62,
    "start_time": "2022-10-02T13:30:29.247Z"
   },
   {
    "duration": 144,
    "start_time": "2022-10-02T13:30:31.230Z"
   },
   {
    "duration": 102,
    "start_time": "2022-10-02T13:30:37.951Z"
   },
   {
    "duration": 6,
    "start_time": "2022-10-02T13:30:39.835Z"
   },
   {
    "duration": 6,
    "start_time": "2022-10-02T13:30:42.439Z"
   },
   {
    "duration": 222,
    "start_time": "2022-10-02T13:30:43.220Z"
   },
   {
    "duration": 5,
    "start_time": "2022-10-02T13:30:48.399Z"
   },
   {
    "duration": 5,
    "start_time": "2022-10-02T13:30:53.008Z"
   },
   {
    "duration": 7436,
    "start_time": "2022-10-02T13:30:54.139Z"
   },
   {
    "duration": 663,
    "start_time": "2022-10-02T13:31:05.756Z"
   },
   {
    "duration": 26,
    "start_time": "2022-10-02T13:31:10.260Z"
   },
   {
    "duration": 953,
    "start_time": "2022-10-02T13:31:12.838Z"
   },
   {
    "duration": 23,
    "start_time": "2022-10-02T13:31:16.425Z"
   },
   {
    "duration": 1129,
    "start_time": "2022-10-02T13:31:17.085Z"
   },
   {
    "duration": 21,
    "start_time": "2022-10-02T13:31:19.892Z"
   },
   {
    "duration": 13,
    "start_time": "2022-10-02T13:31:23.599Z"
   },
   {
    "duration": 238,
    "start_time": "2022-10-02T13:31:24.443Z"
   },
   {
    "duration": 10,
    "start_time": "2022-10-02T13:31:28.277Z"
   },
   {
    "duration": 241,
    "start_time": "2022-10-02T13:31:38.564Z"
   },
   {
    "duration": 9,
    "start_time": "2022-10-02T13:31:51.579Z"
   },
   {
    "duration": 260,
    "start_time": "2022-10-02T13:31:52.651Z"
   },
   {
    "duration": 12,
    "start_time": "2022-10-02T13:34:04.600Z"
   },
   {
    "duration": 10,
    "start_time": "2022-10-02T13:34:05.374Z"
   },
   {
    "duration": 242,
    "start_time": "2022-10-02T13:34:06.150Z"
   },
   {
    "duration": 11,
    "start_time": "2022-10-02T13:34:10.690Z"
   },
   {
    "duration": 9,
    "start_time": "2022-10-02T13:34:11.203Z"
   },
   {
    "duration": 248,
    "start_time": "2022-10-02T13:34:11.741Z"
   },
   {
    "duration": 15,
    "start_time": "2022-10-02T13:34:23.243Z"
   },
   {
    "duration": 9,
    "start_time": "2022-10-02T13:34:24.031Z"
   },
   {
    "duration": 366,
    "start_time": "2022-10-02T13:34:24.605Z"
   },
   {
    "duration": 11,
    "start_time": "2022-10-02T13:34:28.310Z"
   },
   {
    "duration": 11,
    "start_time": "2022-10-02T13:34:28.894Z"
   },
   {
    "duration": 251,
    "start_time": "2022-10-02T13:34:29.423Z"
   },
   {
    "duration": 1425,
    "start_time": "2022-10-02T13:35:59.763Z"
   },
   {
    "duration": 695,
    "start_time": "2022-10-02T13:36:01.190Z"
   },
   {
    "duration": 4,
    "start_time": "2022-10-02T13:36:01.887Z"
   },
   {
    "duration": 261,
    "start_time": "2022-10-02T13:36:01.894Z"
   },
   {
    "duration": 84,
    "start_time": "2022-10-02T13:36:02.156Z"
   },
   {
    "duration": 179,
    "start_time": "2022-10-02T13:36:02.242Z"
   },
   {
    "duration": 112,
    "start_time": "2022-10-02T13:36:02.423Z"
   },
   {
    "duration": 7,
    "start_time": "2022-10-02T13:36:02.536Z"
   },
   {
    "duration": 23,
    "start_time": "2022-10-02T13:36:02.545Z"
   },
   {
    "duration": 233,
    "start_time": "2022-10-02T13:36:02.572Z"
   },
   {
    "duration": 5,
    "start_time": "2022-10-02T13:36:02.806Z"
   },
   {
    "duration": 10,
    "start_time": "2022-10-02T13:36:02.812Z"
   },
   {
    "duration": 7425,
    "start_time": "2022-10-02T13:36:02.824Z"
   },
   {
    "duration": 666,
    "start_time": "2022-10-02T13:36:10.251Z"
   },
   {
    "duration": 24,
    "start_time": "2022-10-02T13:36:10.918Z"
   },
   {
    "duration": 996,
    "start_time": "2022-10-02T13:36:10.944Z"
   },
   {
    "duration": 20,
    "start_time": "2022-10-02T13:36:11.942Z"
   },
   {
    "duration": 1105,
    "start_time": "2022-10-02T13:36:11.963Z"
   },
   {
    "duration": 25,
    "start_time": "2022-10-02T13:36:13.070Z"
   },
   {
    "duration": 27,
    "start_time": "2022-10-02T13:36:13.097Z"
   },
   {
    "duration": 245,
    "start_time": "2022-10-02T13:36:13.125Z"
   },
   {
    "duration": 12,
    "start_time": "2022-10-02T13:36:13.372Z"
   },
   {
    "duration": 20,
    "start_time": "2022-10-02T13:36:13.386Z"
   },
   {
    "duration": 20,
    "start_time": "2022-10-02T13:36:13.408Z"
   },
   {
    "duration": 12,
    "start_time": "2022-10-02T13:36:13.430Z"
   },
   {
    "duration": 1101,
    "start_time": "2022-10-02T13:36:13.444Z"
   },
   {
    "duration": 13,
    "start_time": "2022-10-02T13:36:14.547Z"
   },
   {
    "duration": 975,
    "start_time": "2022-10-02T13:36:14.563Z"
   },
   {
    "duration": 4,
    "start_time": "2022-10-02T13:36:15.540Z"
   },
   {
    "duration": 26,
    "start_time": "2022-10-02T13:36:15.546Z"
   },
   {
    "duration": 28,
    "start_time": "2022-10-02T13:36:15.574Z"
   },
   {
    "duration": 3026,
    "start_time": "2022-10-02T13:36:15.604Z"
   },
   {
    "duration": 24313,
    "start_time": "2022-10-02T13:36:18.632Z"
   },
   {
    "duration": 3751338,
    "start_time": "2022-10-02T13:36:42.947Z"
   },
   {
    "duration": 182,
    "start_time": "2022-10-02T14:39:14.287Z"
   },
   {
    "duration": 83,
    "start_time": "2022-10-02T14:39:14.472Z"
   },
   {
    "duration": 0,
    "start_time": "2022-10-03T13:57:55.921Z"
   },
   {
    "duration": 5,
    "start_time": "2022-10-03T13:58:00.069Z"
   }
  ],
  "kernelspec": {
   "display_name": "Python 3 (ipykernel)",
   "language": "python",
   "name": "python3"
  },
  "language_info": {
   "codemirror_mode": {
    "name": "ipython",
    "version": 3
   },
   "file_extension": ".py",
   "mimetype": "text/x-python",
   "name": "python",
   "nbconvert_exporter": "python",
   "pygments_lexer": "ipython3",
   "version": "3.9.12"
  },
  "toc": {
   "base_numbering": 1,
   "nav_menu": {},
   "number_sections": true,
   "sideBar": true,
   "skip_h1_title": true,
   "title_cell": "Содержание",
   "title_sidebar": "Contents",
   "toc_cell": true,
   "toc_position": {
    "height": "calc(100% - 180px)",
    "left": "10px",
    "top": "150px",
    "width": "323.767px"
   },
   "toc_section_display": true,
   "toc_window_display": true
  }
 },
 "nbformat": 4,
 "nbformat_minor": 2
}

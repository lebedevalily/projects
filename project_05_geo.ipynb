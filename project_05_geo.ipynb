{
 "cells": [
  {
   "cell_type": "markdown",
   "metadata": {},
   "source": [
    "# Выбор локации для скважины"
   ]
  },
  {
   "cell_type": "markdown",
   "metadata": {
    "toc": true
   },
   "source": [
    "<h1>Содержание<span class=\"tocSkip\"></span></h1>\n",
    "<div class=\"toc\"><ul class=\"toc-item\"><li><ul ><a href=\"#Описание-задачи-и-данных\" data-toc-modified-id=\"Описание-задачи-и-данных-1\"><span class=\"toc-item-num\">1&nbsp;&nbsp;</span>Описание задачи и данных</a></span></li><li><span><a href=\"#Загрузка-и-подготовка-данных\" data-toc-modified-id=\"Загрузка-и-подготовка-данных-2\"><span class=\"toc-item-num\">2&nbsp;&nbsp;</span>Загрузка и подготовка данных</a></span></li><li><span><a href=\"#Обучение-и-проверка-модели\" data-toc-modified-id=\"Обучение-и-проверка-модели-3\"><span class=\"toc-item-num\">3&nbsp;&nbsp;</span>Обучение и проверка модели</a></span></li><li><span><a href=\"#Подготовка-к-расчёту-прибыли\" data-toc-modified-id=\"Подготовка-к-расчёту-прибыли-4\"><span class=\"toc-item-num\">4&nbsp;&nbsp;</span>Подготовка к расчёту прибыли</a></span></li><li><span><a href=\"#Расчёт-прибыли-и-рисков\" data-toc-modified-id=\"Расчёт-прибыли-и-рисков-5\"><span class=\"toc-item-num\">5&nbsp;&nbsp;</span>Расчёт прибыли и рисков</a></span></li><li><span><a href=\"#Чек-лист-готовности-проекта\" data-toc-modified-id=\"Чек-лист-готовности-проекта-6\"><span class=\"toc-item-num\">6&nbsp;&nbsp;</span>Чек-лист готовности проекта</a></span></li></ul></div>"
   ]
  },
  {
   "cell_type": "markdown",
   "metadata": {},
   "source": [
    "## Описание задачи и данных ##"
   ]
  },
  {
   "cell_type": "markdown",
   "metadata": {},
   "source": [
    "Добывающей компании необходимо решить, где бурить новую скважину.\n",
    "\n",
    "Предоставлены пробы нефти в трёх регионах: в каждом 100 000 месторождений, где измерили качество нефти и объём её запасов. Необходимо построить модель машинного обучения, которая поможет определить регион, где добыча принесёт наибольшую прибыль, а также проанализировать возможную прибыль и риски техникой *Bootstrap.*\n",
    "\n",
    "Шаги для выбора локации:\n",
    "\n",
    "- В избранном регионе ищут месторождения, для каждого определяют значения признаков;\n",
    "- Строят модель и оценивают объём запасов;\n",
    "- Выбирают месторождения с самым высокими оценками значений. Количество месторождений зависит от бюджета компании и стоимости разработки одной скважины;\n",
    "- Прибыль равна суммарной прибыли отобранных месторождений."
   ]
  },
  {
   "cell_type": "markdown",
   "metadata": {},
   "source": [
    "Описание данных\n",
    "\n",
    "Данные геологоразведки трех регионов находятся в трех разных файлах.\n",
    "\n",
    "- id — уникальный идентификатор скважины;\n",
    "- f0, f1, f2 — три признака точек (неважно, что они означают, но сами признаки значимы);\n",
    "- product — объём запасов в скважине (тыс. баррелей).\n",
    "\n",
    "Условия задачи:\n",
    "- Для обучения модели подходит только линейная регрессия (остальные — недостаточно предсказуемые).\n",
    "- При разведке региона исследуют 500 точек, из которых с помощью машинного обучения выбирают 200 лучших для разработки.\n",
    "- Бюджет на разработку скважин в регионе — 10 млрд рублей.\n",
    "- При нынешних ценах один баррель сырья приносит 450 рублей дохода. Доход с каждой единицы продукта составляет 450 тыс. рублей, поскольку объём указан в тысячах баррелей.\n",
    "- После оценки рисков нужно оставить лишь те регионы, в которых вероятность убытков меньше 2.5%. Среди них выбирают регион с наибольшей средней прибылью.\n",
    "- Данные синтетические: детали контрактов и характеристики месторождений не разглашаются."
   ]
  },
  {
   "cell_type": "markdown",
   "metadata": {},
   "source": [
    "## Загрузка и подготовка данных"
   ]
  },
  {
   "cell_type": "markdown",
   "metadata": {},
   "source": [
    "Импортируем необходимые библиотеки и инструменты."
   ]
  },
  {
   "cell_type": "code",
   "execution_count": 1,
   "metadata": {},
   "outputs": [],
   "source": [
    "import pandas as pd\n",
    "import numpy as np\n",
    "import matplotlib.pyplot as plt\n",
    "\n",
    "from scipy import stats as st\n",
    "from sklearn.linear_model import LinearRegression\n",
    "from sklearn.model_selection import train_test_split\n",
    "from sklearn.preprocessing import StandardScaler\n",
    "from sklearn.metrics import mean_squared_error, mean_absolute_error, r2_score"
   ]
  },
  {
   "cell_type": "markdown",
   "metadata": {},
   "source": [
    "Сохраним данные по каждому региону в отдельные переменные."
   ]
  },
  {
   "cell_type": "code",
   "execution_count": 2,
   "metadata": {},
   "outputs": [],
   "source": [
    "geo_data_0 = pd.read_csv('geo_data_0.csv') # данные по региону О\n",
    "geo_data_1 = pd.read_csv('geo_data_1.csv') # данные по региону 1\n",
    "geo_data_2 = pd.read_csv('geo_data_2.csv') # данные по региону 2"
   ]
  },
  {
   "cell_type": "markdown",
   "metadata": {},
   "source": [
    "Напишем функцию, которая по каждому региону выведет на экран первые 5 строк таблицы, основную информацию о таблице, количество полных дубликатов, а также гистограммы по каждому столбцу."
   ]
  },
  {
   "cell_type": "code",
   "execution_count": 3,
   "metadata": {},
   "outputs": [],
   "source": [
    "def data_info(data):\n",
    "    print('Первые пять строк таблицы:')\n",
    "    print(data.head())\n",
    "    print()\n",
    "    print('Основная информация о таблице:')\n",
    "    data.info()\n",
    "    print()\n",
    "    print('Количество полных дубликатов:', data.duplicated().sum())\n",
    "    print()\n",
    "    data.hist(figsize=(15, 8))"
   ]
  },
  {
   "cell_type": "markdown",
   "metadata": {},
   "source": [
    "**Регион 0**"
   ]
  },
  {
   "cell_type": "code",
   "execution_count": 4,
   "metadata": {},
   "outputs": [
    {
     "name": "stdout",
     "output_type": "stream",
     "text": [
      "Первые пять строк таблицы:\n",
      "      id        f0        f1        f2     product\n",
      "0  txEyH  0.705745 -0.497823  1.221170  105.280062\n",
      "1  2acmU  1.334711 -0.340164  4.365080   73.037750\n",
      "2  409Wp  1.022732  0.151990  1.419926   85.265647\n",
      "3  iJLyR -0.032172  0.139033  2.978566  168.620776\n",
      "4  Xdl7t  1.988431  0.155413  4.751769  154.036647\n",
      "\n",
      "Основная информация о таблице:\n",
      "<class 'pandas.core.frame.DataFrame'>\n",
      "RangeIndex: 100000 entries, 0 to 99999\n",
      "Data columns (total 5 columns):\n",
      " #   Column   Non-Null Count   Dtype  \n",
      "---  ------   --------------   -----  \n",
      " 0   id       100000 non-null  object \n",
      " 1   f0       100000 non-null  float64\n",
      " 2   f1       100000 non-null  float64\n",
      " 3   f2       100000 non-null  float64\n",
      " 4   product  100000 non-null  float64\n",
      "dtypes: float64(4), object(1)\n",
      "memory usage: 3.8+ MB\n",
      "\n",
      "Количество полных дубликатов: 0\n",
      "\n"
     ]
    },
    {
     "data": {
      "image/png": "[encoded data removed]",
      "text/plain": [
       "<Figure size 1080x576 with 4 Axes>"
      ]
     },
     "metadata": {
      "needs_background": "light"
     },
     "output_type": "display_data"
    }
   ],
   "source": [
    "data_info(geo_data_0)"
   ]
  },
  {
   "cell_type": "markdown",
   "metadata": {},
   "source": [
    "В данных отсутствуют пропуски и дубликаты. В целом, наблюдается близкое к нормальному распределение значений в признаках и целевом признаке."
   ]
  },
  {
   "cell_type": "markdown",
   "metadata": {},
   "source": [
    "**Регион 1**"
   ]
  },
  {
   "cell_type": "code",
   "execution_count": 5,
   "metadata": {},
   "outputs": [
    {
     "name": "stdout",
     "output_type": "stream",
     "text": [
      "Первые пять строк таблицы:\n",
      "      id         f0         f1        f2     product\n",
      "0  kBEdx -15.001348  -8.276000 -0.005876    3.179103\n",
      "1  62mP7  14.272088  -3.475083  0.999183   26.953261\n",
      "2  vyE1P   6.263187  -5.948386  5.001160  134.766305\n",
      "3  KcrkZ -13.081196 -11.506057  4.999415  137.945408\n",
      "4  AHL4O  12.702195  -8.147433  5.004363  134.766305\n",
      "\n",
      "Основная информация о таблице:\n",
      "<class 'pandas.core.frame.DataFrame'>\n",
      "RangeIndex: 100000 entries, 0 to 99999\n",
      "Data columns (total 5 columns):\n",
      " #   Column   Non-Null Count   Dtype  \n",
      "---  ------   --------------   -----  \n",
      " 0   id       100000 non-null  object \n",
      " 1   f0       100000 non-null  float64\n",
      " 2   f1       100000 non-null  float64\n",
      " 3   f2       100000 non-null  float64\n",
      " 4   product  100000 non-null  float64\n",
      "dtypes: float64(4), object(1)\n",
      "memory usage: 3.8+ MB\n",
      "\n",
      "Количество полных дубликатов: 0\n",
      "\n"
     ]
    },
    {
     "data": {
      "image/png": "[encoded data removed]",
      "text/plain": [
       "<Figure size 1080x576 with 4 Axes>"
      ]
     },
     "metadata": {
      "needs_background": "light"
     },
     "output_type": "display_data"
    }
   ],
   "source": [
    "data_info(geo_data_1)"
   ]
  },
  {
   "cell_type": "markdown",
   "metadata": {},
   "source": [
    "В данных отсутствуют пропуски и дубликаты. По признакам f0 и f1 наблюдается близкое к нормальному распределение значений. По признаку f2 и целевому признаку распределение значений отличается от нормального."
   ]
  },
  {
   "cell_type": "markdown",
   "metadata": {},
   "source": [
    "**Регион 2**"
   ]
  },
  {
   "cell_type": "code",
   "execution_count": 6,
   "metadata": {},
   "outputs": [
    {
     "name": "stdout",
     "output_type": "stream",
     "text": [
      "Первые пять строк таблицы:\n",
      "      id        f0        f1        f2     product\n",
      "0  fwXo0 -1.146987  0.963328 -0.828965   27.758673\n",
      "1  WJtFt  0.262778  0.269839 -2.530187   56.069697\n",
      "2  ovLUW  0.194587  0.289035 -5.586433   62.871910\n",
      "3  q6cA6  2.236060 -0.553760  0.930038  114.572842\n",
      "4  WPMUX -0.515993  1.716266  5.899011  149.600746\n",
      "\n",
      "Основная информация о таблице:\n",
      "<class 'pandas.core.frame.DataFrame'>\n",
      "RangeIndex: 100000 entries, 0 to 99999\n",
      "Data columns (total 5 columns):\n",
      " #   Column   Non-Null Count   Dtype  \n",
      "---  ------   --------------   -----  \n",
      " 0   id       100000 non-null  object \n",
      " 1   f0       100000 non-null  float64\n",
      " 2   f1       100000 non-null  float64\n",
      " 3   f2       100000 non-null  float64\n",
      " 4   product  100000 non-null  float64\n",
      "dtypes: float64(4), object(1)\n",
      "memory usage: 3.8+ MB\n",
      "\n",
      "Количество полных дубликатов: 0\n",
      "\n"
     ]
    },
    {
     "data": {
      "image/png": "[encoded data removed]",
      "text/plain": [
       "<Figure size 1080x576 with 4 Axes>"
      ]
     },
     "metadata": {
      "needs_background": "light"
     },
     "output_type": "display_data"
    }
   ],
   "source": [
    "data_info(geo_data_2)"
   ]
  },
  {
   "cell_type": "markdown",
   "metadata": {},
   "source": [
    "В данных отсутствуют пропуски и дубликаты. Значения в признаках и целевом признаке распределены нормально."
   ]
  },
  {
   "cell_type": "markdown",
   "metadata": {},
   "source": [
    "## Обучение и проверка модели"
   ]
  },
  {
   "cell_type": "markdown",
   "metadata": {},
   "source": [
    "Теперь для каждого региона обучим модель линейной регрессии и рассчитаем основные метрики на полученных данных."
   ]
  },
  {
   "cell_type": "markdown",
   "metadata": {},
   "source": [
    "Построим две функции lin_reg и scores.\n",
    "\n",
    "Функция lin_reg:\n",
    "- делит данные на признаки и целевой признак\n",
    "- делит признаки и целевой признак на обучающую и валидационную выборки\n",
    "- масштабирует признаки\n",
    "- обучает модель и делает предсказание на валидационных данных\n",
    "\n",
    "Функция scores:\n",
    "- рассчитывает средний запас предсказанного сырья и значение метрики RMSE\n",
    "- рассчитывает медианный запас предсказанного сырья и значение метрики MAE\n",
    "- рассчитывает коэффициент детерминации\n",
    "- строит график распределения признаков, фактического продукта и предсказанных значений"
   ]
  },
  {
   "cell_type": "code",
   "execution_count": 7,
   "metadata": {},
   "outputs": [],
   "source": [
    "def lin_reg(data):\n",
    "    \n",
    "    # разделение данных на признаки и целевой признак, на обучающую и валидационную выборки\n",
    "    features = data.drop(['id', 'product'], axis=1)\n",
    "    target = data['product']\n",
    "    features_train, features_valid, target_train, target_valid = train_test_split(\n",
    "        features, target, test_size=0.25, random_state=12345)\n",
    "    \n",
    "    # масштабирование признаков\n",
    "    scaler = StandardScaler()\n",
    "    scaler.fit(features_train)\n",
    "    features_train = scaler.transform(features_train)\n",
    "    features_valid = scaler.transform(features_valid)\n",
    "    pd.options.mode.chained_assignment = None\n",
    "    \n",
    "    # обучение модели\n",
    "    model = LinearRegression()\n",
    "    model.fit(features_train, target_train)\n",
    "    predicted_valid = pd.Series(model.predict(features_valid))\n",
    "    \n",
    "    return target_valid, predicted_valid"
   ]
  },
  {
   "cell_type": "code",
   "execution_count": 8,
   "metadata": {},
   "outputs": [],
   "source": [
    "def scores(target, predicted, data):\n",
    "    print('Средний запас предсказанного сырья:', predicted.mean())\n",
    "    print('Корень из средней квадратичной ошибки, RMSE:', mean_squared_error(target, predicted) ** 0.5)\n",
    "    print()\n",
    "    print('Медианный запас предсказанного сырья:', predicted.median())\n",
    "    print('Среднее абсолютное отклонение, MAE:', mean_absolute_error(target, predicted))\n",
    "    print()\n",
    "    print('Коэффициент детерминации:', r2_score(target, predicted))\n",
    "    print()\n",
    "    print('Распределение значений:')\n",
    "    f, axs = plt.subplots(ncols=3, figsize=(15, 4))\n",
    "    data['f0'].plot(kind='hist', histtype='step', color='red', bins=100, label='f0', grid=True, subplots=True, ax=axs[0], legend=True, linewidth=2, alpha=0.5)\n",
    "    data['f1'].plot(kind='hist', histtype='step', color='green', bins=100, label='f1', grid=True, subplots=True, ax=axs[0], legend=True, linewidth=2, alpha=0.5)\n",
    "    data['f2'].plot(kind='hist', histtype='step', color='yellow', bins=100, label='f2', grid=True, subplots=True, ax=axs[1], legend=True, linewidth=2, alpha=0.5)\n",
    "    predicted.plot(kind='hist', histtype='step', color='blue', bins=100, label='predicted', grid=True, subplots=True, ax=axs[2], legend=True, linewidth=2, alpha=0.7)\n",
    "    target.plot(kind='hist', histtype='step', color='purple', bins=100, label='product', grid=True, subplots=True, ax=axs[2], legend=True, linewidth=2, alpha=0.5)"
   ]
  },
  {
   "cell_type": "markdown",
   "metadata": {},
   "source": [
    "**Регион 0**"
   ]
  },
  {
   "cell_type": "code",
   "execution_count": 9,
   "metadata": {},
   "outputs": [],
   "source": [
    "target_valid_0, predicted_valid_0 = lin_reg(geo_data_0)"
   ]
  },
  {
   "cell_type": "code",
   "execution_count": 10,
   "metadata": {
    "scrolled": false
   },
   "outputs": [
    {
     "name": "stdout",
     "output_type": "stream",
     "text": [
      "Средний запас предсказанного сырья: 92.59256778438035\n",
      "Корень из средней квадратичной ошибки, RMSE: 37.5794217150813\n",
      "\n",
      "Медианный запас предсказанного сырья: 92.66188351790804\n",
      "Среднее абсолютное отклонение, MAE: 30.919600777151313\n",
      "\n",
      "Коэффициент детерминации: 0.27994321524487786\n",
      "\n",
      "Распределение значений:\n"
     ]
    },
    {
     "data": {
      "image/png": "[encoded data removed]",
      "text/plain": [
       "<Figure size 1080x288 with 3 Axes>"
      ]
     },
     "metadata": {
      "needs_background": "light"
     },
     "output_type": "display_data"
    }
   ],
   "source": [
    "scores(target_valid_0, predicted_valid_0, geo_data_0)"
   ]
  },
  {
   "cell_type": "markdown",
   "metadata": {},
   "source": [
    "Средний и медианный предсказанный запас по региону 0 практически равны, следовательно, значения предсказаний распределены нормально.\n",
    "\n",
    "При этом график предсказаний максимально приближен к графику распределения признака f2.\n",
    "\n",
    "Низкое значение коэффициента детерминации говорит о низком качестве модели, что также подтверждают значения метрик RMSE и MAE (отклонения в обоих случаях составляют около трети от среднего и медианного предсказаний)."
   ]
  },
  {
   "cell_type": "markdown",
   "metadata": {},
   "source": [
    "**Регион 1**"
   ]
  },
  {
   "cell_type": "code",
   "execution_count": 11,
   "metadata": {},
   "outputs": [],
   "source": [
    "target_valid_1, predicted_valid_1 = lin_reg(geo_data_1)"
   ]
  },
  {
   "cell_type": "code",
   "execution_count": 12,
   "metadata": {},
   "outputs": [
    {
     "name": "stdout",
     "output_type": "stream",
     "text": [
      "Средний запас предсказанного сырья: 68.728546895446\n",
      "Корень из средней квадратичной ошибки, RMSE: 0.893099286775617\n",
      "\n",
      "Медианный запас предсказанного сырья: 57.85158588242699\n",
      "Среднее абсолютное отклонение, MAE: 0.7187662442124758\n",
      "\n",
      "Коэффициент детерминации: 0.9996233978805127\n",
      "\n",
      "Распределение значений:\n"
     ]
    },
    {
     "data": {
      "image/png": "[encoded data removed]",
      "text/plain": [
       "<Figure size 1080x288 with 3 Axes>"
      ]
     },
     "metadata": {
      "needs_background": "light"
     },
     "output_type": "display_data"
    }
   ],
   "source": [
    "scores(target_valid_1, predicted_valid_1, geo_data_1)"
   ]
  },
  {
   "cell_type": "markdown",
   "metadata": {},
   "source": [
    "По региону 1 коэффициент детерминации практически равен единице, что говорит о высоком качестве модели и почти идеальных предсказаниях.\n",
    "\n",
    "При этом наблюдается необычное распределение значений предсказаний, похожее на распределение значений признака f2 и продукта.\n",
    "\n",
    "Несмотря на более низкие значения среднего и медианного запаса предсказанного сырья по сравнению с другими регионами, метрики RMSE и MAE также крайне низкие, что подтверждает высокую точность предсказаний."
   ]
  },
  {
   "cell_type": "markdown",
   "metadata": {},
   "source": [
    "**Регион 2**"
   ]
  },
  {
   "cell_type": "code",
   "execution_count": 13,
   "metadata": {},
   "outputs": [],
   "source": [
    "target_valid_2, predicted_valid_2 = lin_reg(geo_data_2)"
   ]
  },
  {
   "cell_type": "code",
   "execution_count": 14,
   "metadata": {},
   "outputs": [
    {
     "name": "stdout",
     "output_type": "stream",
     "text": [
      "Средний запас предсказанного сырья: 94.96504596800489\n",
      "Корень из средней квадратичной ошибки, RMSE: 40.02970873393434\n",
      "\n",
      "Медианный запас предсказанного сырья: 95.03120442123549\n",
      "Среднее абсолютное отклонение, MAE: 32.792652105481814\n",
      "\n",
      "Коэффициент детерминации: 0.20524758386040443\n",
      "\n",
      "Распределение значений:\n"
     ]
    },
    {
     "data": {
      "image/png": "[encoded data removed]",
      "text/plain": [
       "<Figure size 1080x288 with 3 Axes>"
      ]
     },
     "metadata": {
      "needs_background": "light"
     },
     "output_type": "display_data"
    }
   ],
   "source": [
    "scores(target_valid_2, predicted_valid_2, geo_data_2)"
   ]
  },
  {
   "cell_type": "markdown",
   "metadata": {},
   "source": [
    "Средний и медианный предсказанный запас по региону 2 практически равны, следовательно, значения предсказаний распределены нормально.\n",
    "\n",
    "График распределения предсказаний поход на графики распределения всех признаков, но отличается от распределения продукта.\n",
    "\n",
    "Низкое значение коэффициента детерминации говорит о низком качестве модели, что также подтверждают значения метрик RMSE и MAE (отклонения в обоих случаях составляют более трети от среднего и медианного предсказаний)."
   ]
  },
  {
   "cell_type": "markdown",
   "metadata": {},
   "source": [
    "Таким образом, по результатам изучения данных по трем регионам, самые точные предсказания получены по региону 1. Предположительно, в данных по региону 1 присутствует линейная зависимость целевого признака от значений признаков.\n",
    "\n",
    "Также можно заметить более сильное влияние признака f2 (по сравнению с двумя другими признаками) на результат предсказаний по всем трем регионам."
   ]
  },
  {
   "cell_type": "markdown",
   "metadata": {},
   "source": [
    "## Подготовка к расчёту прибыли"
   ]
  },
  {
   "cell_type": "markdown",
   "metadata": {},
   "source": [
    "Сохраним необходимые для расчета прибыли значения в отдельных переменных."
   ]
  },
  {
   "cell_type": "code",
   "execution_count": 15,
   "metadata": {},
   "outputs": [],
   "source": [
    "FIELD_NUM_FOR_SEARCH = 500 # количество месторождений для исследования"
   ]
  },
  {
   "cell_type": "code",
   "execution_count": 16,
   "metadata": {},
   "outputs": [],
   "source": [
    "FIELD_NUM_FOR_DEVELOP = 200 # количество месторождений для разработки"
   ]
  },
  {
   "cell_type": "code",
   "execution_count": 17,
   "metadata": {},
   "outputs": [],
   "source": [
    "BUDGET = 10000000000 # бюджет на разработку месторождений"
   ]
  },
  {
   "cell_type": "code",
   "execution_count": 18,
   "metadata": {},
   "outputs": [],
   "source": [
    "ONE_BARREL_INCOME = 450 # доход с одного барреля сырья"
   ]
  },
  {
   "cell_type": "code",
   "execution_count": 19,
   "metadata": {},
   "outputs": [],
   "source": [
    "ONE_UNIT_PRODUCT_INCOME = ONE_BARREL_INCOME * 1000 # доход с одной единицы продукта (составляет 1000 баррелей)"
   ]
  },
  {
   "cell_type": "code",
   "execution_count": 20,
   "metadata": {},
   "outputs": [],
   "source": [
    "LOSS_THRESHOLD = 0.025 # максимальная вероятность убытков"
   ]
  },
  {
   "cell_type": "code",
   "execution_count": 21,
   "metadata": {},
   "outputs": [],
   "source": [
    "CONFIDENCE_INTERVAL = 0.95 # % доверительного интервала"
   ]
  },
  {
   "cell_type": "code",
   "execution_count": 22,
   "metadata": {},
   "outputs": [],
   "source": [
    "LOWER = (1 - CONFIDENCE_INTERVAL) / 2 # нижний порог доверительного интервала"
   ]
  },
  {
   "cell_type": "code",
   "execution_count": 23,
   "metadata": {},
   "outputs": [],
   "source": [
    "UPPER = CONFIDENCE_INTERVAL + LOWER # верхний порог доверительного интервала"
   ]
  },
  {
   "cell_type": "markdown",
   "metadata": {},
   "source": [
    "Рассчитаем количество единиц продукта, которое необходимо получить с каждого месторождения для покрытия расходов на их разработку."
   ]
  },
  {
   "cell_type": "code",
   "execution_count": 24,
   "metadata": {},
   "outputs": [
    {
     "data": {
      "text/plain": [
       "111.11111111111111"
      ]
     },
     "execution_count": 24,
     "metadata": {},
     "output_type": "execute_result"
    }
   ],
   "source": [
    "BUDGET / FIELD_NUM_FOR_DEVELOP / ONE_UNIT_PRODUCT_INCOME"
   ]
  },
  {
   "cell_type": "markdown",
   "metadata": {},
   "source": [
    "С каждого месторождения необходимо получить более 111 единиц продукта для покрытия расходов.\n",
    "\n",
    "В регионах 0 и 2 средний и медианный предсказанный запас сырья составляет чуть больше 90 единиц продукта. При этом средние отклонения (и абсолютное, и корень из квадратичного) составляют от 30 до 40 единиц продукта.\n",
    "\n",
    "В регионе 1 средний запас предсказанного сырья составляет почти 69 единиц продукта, медианный - почти 58. При этом средние отклонения практически нулевые.\n",
    "\n",
    "На первый взгляд, в регионах 0 и 2 больше вероятность выйти на положительную прибыль, выбрав случайным образом 500 месторождений и разработать 200 лучших из них на основе предсказаний модели. \n",
    "\n",
    "Однако у моделей по регионам 0 и 2 значительно более низкое качество, чем у модели по региону 1. Соответственно, предсказанные значения по регионам 0 и 2 существенно отличаются от фактических данных."
   ]
  },
  {
   "cell_type": "markdown",
   "metadata": {},
   "source": [
    "## Расчёт прибыли и рисков "
   ]
  },
  {
   "cell_type": "markdown",
   "metadata": {},
   "source": [
    "Напишем функцию для расчета прибыли, которая на основе предсказаний отбирает лучшие 200 месторождений и рассчитывает доход от них на основании фактически добытого сырья."
   ]
  },
  {
   "cell_type": "code",
   "execution_count": 25,
   "metadata": {},
   "outputs": [],
   "source": [
    "def profit(target, predicted):\n",
    "    predicted_sort = predicted.sort_values(ascending=False)\n",
    "    target_prep = pd.Series(target).reset_index(drop=True)\n",
    "    selected = target_prep[predicted_sort.index][:FIELD_NUM_FOR_DEVELOP]\n",
    "    profit = ONE_UNIT_PRODUCT_INCOME * selected.sum() - BUDGET\n",
    "    return profit"
   ]
  },
  {
   "cell_type": "markdown",
   "metadata": {},
   "source": [
    "Также напишем функцию, которая для каждого региона 1000 раз случайным образом отбирает 500 месторождений и рассчитывает прибыль по 200 лучшим из них. По результатам применения функции на экран выводятся:\n",
    "- средняя прибыль по результату 1000 итераций\n",
    "- 95% доверительный интервал\n",
    "- вероятность получения отрицательной прибыли\n",
    "\n",
    "Применим данную функцию к данным по трем регионам."
   ]
  },
  {
   "cell_type": "code",
   "execution_count": 26,
   "metadata": {},
   "outputs": [],
   "source": [
    "def risk_prob(target, predicted):\n",
    "    state = np.random.RandomState(12345)\n",
    "    \n",
    "    # расчет прибыли для 1000 случайных выборок месторождений\n",
    "    values = []\n",
    "    for i in range(1000):\n",
    "        predicted_sample = predicted.sample(n=500, random_state=state, replace=True)\n",
    "        values.append(profit(target, predicted_sample))\n",
    "    values = pd.Series(values)\n",
    "    \n",
    "    # средняя прибыль по 1000 случайных выборок\n",
    "    mean_profit = values.mean()\n",
    "    print('Средняя прибыль:', mean_profit)\n",
    "    \n",
    "    # расчет доверительного интервала\n",
    "    lower = values.quantile(LOWER)\n",
    "    upper = values.quantile(UPPER)\n",
    "    confidence_interval = [lower, upper]\n",
    "    print('95% доверительный интервал:', confidence_interval)\n",
    "\n",
    "    # расчет риска убытков\n",
    "    risk_values_counter = 0\n",
    "    values_counter = 0\n",
    "    for i in values:\n",
    "        if i < 0:\n",
    "            risk_values_counter += 1\n",
    "        values_counter += 1\n",
    "    loss_risk = risk_values_counter / values_counter\n",
    "    print(f'Риск убытков: {loss_risk * 100}%')\n",
    "    \n",
    "    if loss_risk > LOSS_THRESHOLD:\n",
    "        print('Риск убытков выше целевого значения. Регион не подходит для разработки.')\n",
    "    else:\n",
    "        print('Риск убытков не превышает целевое значение. Регион подходит для разработки.')"
   ]
  },
  {
   "cell_type": "markdown",
   "metadata": {},
   "source": [
    "**Регион 0**"
   ]
  },
  {
   "cell_type": "code",
   "execution_count": 27,
   "metadata": {},
   "outputs": [
    {
     "name": "stdout",
     "output_type": "stream",
     "text": [
      "Средняя прибыль: 396164984.8023711\n",
      "95% доверительный интервал: [-111215545.89049524, 909766941.5534226]\n",
      "Риск убытков: 6.9%\n",
      "Риск убытков выше целевого значения. Регион не подходит для разработки.\n"
     ]
    }
   ],
   "source": [
    "risk_prob(target_valid_0, predicted_valid_0)"
   ]
  },
  {
   "cell_type": "markdown",
   "metadata": {},
   "source": [
    "**Регион 1**"
   ]
  },
  {
   "cell_type": "code",
   "execution_count": 28,
   "metadata": {},
   "outputs": [
    {
     "name": "stdout",
     "output_type": "stream",
     "text": [
      "Средняя прибыль: 456045105.7866608\n",
      "95% доверительный интервал: [33820509.39898369, 852289453.866036]\n",
      "Риск убытков: 1.5%\n",
      "Риск убытков не превышает целевое значение. Регион подходит для разработки.\n"
     ]
    }
   ],
   "source": [
    "risk_prob(target_valid_1, predicted_valid_1)"
   ]
  },
  {
   "cell_type": "markdown",
   "metadata": {},
   "source": [
    "**Регион 2**"
   ]
  },
  {
   "cell_type": "code",
   "execution_count": 29,
   "metadata": {},
   "outputs": [
    {
     "name": "stdout",
     "output_type": "stream",
     "text": [
      "Средняя прибыль: 404403866.5683568\n",
      "95% доверительный интервал: [-163350413.39560103, 950359574.9237995]\n",
      "Риск убытков: 7.6%\n",
      "Риск убытков выше целевого значения. Регион не подходит для разработки.\n"
     ]
    }
   ],
   "source": [
    "risk_prob(target_valid_2, predicted_valid_2)"
   ]
  },
  {
   "cell_type": "markdown",
   "metadata": {},
   "source": [
    "Только в регионе 1 риск убытков составляет менее 2,5% при случайном выборе 500 месторождений для исследования. В двух других регионах риск убытков более 2,5%.\n",
    "\n",
    "Также только по региону 1 с помощью модели машинного обучения удалось получить самые точные предсказания, практически соответствующие реальным данным.\n",
    "\n",
    "Рекомендовано выбрать регион 1 для разработки месторождений."
   ]
  },
  {
   "cell_type": "code",
   "execution_count": null,
   "metadata": {},
   "outputs": [],
   "source": []
  }
 ],
 "metadata": {
  "ExecuteTimeLog": [
   {
    "duration": 432,
    "start_time": "2022-09-18T13:24:42.663Z"
   },
   {
    "duration": 1572,
    "start_time": "2022-09-18T13:24:43.116Z"
   },
   {
    "duration": 3,
    "start_time": "2022-09-18T13:25:38.804Z"
   },
   {
    "duration": 49,
    "start_time": "2022-09-18T13:25:56.451Z"
   },
   {
    "duration": 18,
    "start_time": "2022-09-18T13:34:59.332Z"
   },
   {
    "duration": 4,
    "start_time": "2022-09-18T13:36:08.204Z"
   },
   {
    "duration": 80,
    "start_time": "2022-09-18T13:36:08.881Z"
   },
   {
    "duration": 68,
    "start_time": "2022-09-18T13:36:14.701Z"
   },
   {
    "duration": 77,
    "start_time": "2022-09-18T13:36:18.569Z"
   },
   {
    "duration": 3,
    "start_time": "2022-09-18T13:38:42.310Z"
   },
   {
    "duration": 75,
    "start_time": "2022-09-18T13:38:42.808Z"
   },
   {
    "duration": 3,
    "start_time": "2022-09-18T13:39:01.756Z"
   },
   {
    "duration": 500,
    "start_time": "2022-09-18T13:39:02.597Z"
   },
   {
    "duration": 3,
    "start_time": "2022-09-18T13:39:15.592Z"
   },
   {
    "duration": 4,
    "start_time": "2022-09-18T13:39:26.669Z"
   },
   {
    "duration": 74,
    "start_time": "2022-09-18T13:39:27.447Z"
   },
   {
    "duration": 79,
    "start_time": "2022-09-18T13:40:56.500Z"
   },
   {
    "duration": 3,
    "start_time": "2022-09-18T13:41:00.657Z"
   },
   {
    "duration": 518,
    "start_time": "2022-09-18T13:41:01.616Z"
   },
   {
    "duration": 4,
    "start_time": "2022-09-18T13:41:11.845Z"
   },
   {
    "duration": 47,
    "start_time": "2022-09-18T13:41:13.755Z"
   },
   {
    "duration": 3,
    "start_time": "2022-09-18T13:41:47.506Z"
   },
   {
    "duration": 69,
    "start_time": "2022-09-18T13:41:48.896Z"
   },
   {
    "duration": 4,
    "start_time": "2022-09-18T13:43:39.598Z"
   },
   {
    "duration": 43,
    "start_time": "2022-09-18T13:43:40.157Z"
   },
   {
    "duration": 3,
    "start_time": "2022-09-18T13:46:15.805Z"
   },
   {
    "duration": 827,
    "start_time": "2022-09-18T13:46:16.356Z"
   },
   {
    "duration": 3,
    "start_time": "2022-09-18T13:47:02.699Z"
   },
   {
    "duration": 397,
    "start_time": "2022-09-18T13:47:03.154Z"
   },
   {
    "duration": 3,
    "start_time": "2022-09-18T13:47:03.569Z"
   },
   {
    "duration": 488,
    "start_time": "2022-09-18T13:47:04.367Z"
   },
   {
    "duration": 391,
    "start_time": "2022-09-18T13:47:37.267Z"
   },
   {
    "duration": 413,
    "start_time": "2022-09-18T13:47:42.989Z"
   },
   {
    "duration": 4,
    "start_time": "2022-09-18T13:48:08.465Z"
   },
   {
    "duration": 464,
    "start_time": "2022-09-18T13:48:08.862Z"
   },
   {
    "duration": 4,
    "start_time": "2022-09-18T13:48:25.820Z"
   },
   {
    "duration": 666,
    "start_time": "2022-09-18T13:48:28.187Z"
   },
   {
    "duration": 4,
    "start_time": "2022-09-18T13:49:19.146Z"
   },
   {
    "duration": 671,
    "start_time": "2022-09-18T13:49:19.676Z"
   },
   {
    "duration": 3,
    "start_time": "2022-09-18T13:49:39.965Z"
   },
   {
    "duration": 591,
    "start_time": "2022-09-18T13:49:40.547Z"
   },
   {
    "duration": 563,
    "start_time": "2022-09-18T13:49:42.059Z"
   },
   {
    "duration": 584,
    "start_time": "2022-09-18T13:49:43.490Z"
   },
   {
    "duration": 750,
    "start_time": "2022-09-18T14:21:21.216Z"
   },
   {
    "duration": 3,
    "start_time": "2022-09-18T14:24:45.213Z"
   },
   {
    "duration": 32,
    "start_time": "2022-09-18T14:25:25.954Z"
   },
   {
    "duration": 92,
    "start_time": "2022-09-18T14:25:29.098Z"
   },
   {
    "duration": 39,
    "start_time": "2022-09-18T14:25:31.804Z"
   },
   {
    "duration": 4,
    "start_time": "2022-09-18T14:30:27.260Z"
   },
   {
    "duration": 83,
    "start_time": "2022-09-18T14:30:27.806Z"
   },
   {
    "duration": 27,
    "start_time": "2022-09-18T14:30:28.895Z"
   },
   {
    "duration": 28,
    "start_time": "2022-09-18T14:30:29.710Z"
   },
   {
    "duration": 50,
    "start_time": "2022-09-18T15:37:25.112Z"
   },
   {
    "duration": 3,
    "start_time": "2022-09-18T15:37:28.613Z"
   },
   {
    "duration": 4,
    "start_time": "2022-09-18T15:37:29.033Z"
   },
   {
    "duration": 5,
    "start_time": "2022-09-18T15:38:35.282Z"
   },
   {
    "duration": 4,
    "start_time": "2022-09-18T15:38:55.607Z"
   },
   {
    "duration": 4,
    "start_time": "2022-09-18T15:39:08.571Z"
   },
   {
    "duration": 3,
    "start_time": "2022-09-18T15:39:15.679Z"
   },
   {
    "duration": 3,
    "start_time": "2022-09-18T15:39:20.991Z"
   },
   {
    "duration": 3,
    "start_time": "2022-09-18T15:39:26.511Z"
   },
   {
    "duration": 4,
    "start_time": "2022-09-18T15:40:04.691Z"
   },
   {
    "duration": 4,
    "start_time": "2022-09-18T15:41:06.808Z"
   },
   {
    "duration": 69,
    "start_time": "2022-09-18T15:41:18.008Z"
   },
   {
    "duration": 4,
    "start_time": "2022-09-18T15:41:22.517Z"
   },
   {
    "duration": 9,
    "start_time": "2022-09-18T17:42:42.366Z"
   },
   {
    "duration": 1964,
    "start_time": "2022-09-18T17:46:01.606Z"
   },
   {
    "duration": 1225,
    "start_time": "2022-09-18T17:46:03.571Z"
   },
   {
    "duration": 4,
    "start_time": "2022-09-18T17:46:04.797Z"
   },
   {
    "duration": 4,
    "start_time": "2022-09-18T17:46:06.594Z"
   },
   {
    "duration": 56,
    "start_time": "2022-09-18T17:46:07.294Z"
   },
   {
    "duration": 36,
    "start_time": "2022-09-18T17:46:19.048Z"
   },
   {
    "duration": 31,
    "start_time": "2022-09-18T17:46:20.288Z"
   },
   {
    "duration": 4,
    "start_time": "2022-09-18T17:46:22.749Z"
   },
   {
    "duration": 5,
    "start_time": "2022-09-18T17:46:23.157Z"
   },
   {
    "duration": 4,
    "start_time": "2022-09-18T17:46:23.599Z"
   },
   {
    "duration": 4,
    "start_time": "2022-09-18T17:46:24.048Z"
   },
   {
    "duration": 4,
    "start_time": "2022-09-18T17:46:24.488Z"
   },
   {
    "duration": 3,
    "start_time": "2022-09-18T17:46:26.286Z"
   },
   {
    "duration": 4,
    "start_time": "2022-09-18T17:48:14.596Z"
   },
   {
    "duration": 68,
    "start_time": "2022-09-18T17:48:16.087Z"
   },
   {
    "duration": 46,
    "start_time": "2022-09-18T17:48:17.609Z"
   },
   {
    "duration": 29,
    "start_time": "2022-09-18T17:48:18.355Z"
   },
   {
    "duration": 5,
    "start_time": "2022-09-18T17:49:13.250Z"
   },
   {
    "duration": 52,
    "start_time": "2022-09-18T17:49:20.706Z"
   },
   {
    "duration": 27,
    "start_time": "2022-09-18T17:49:24.061Z"
   },
   {
    "duration": 46,
    "start_time": "2022-09-18T17:49:27.311Z"
   },
   {
    "duration": 4,
    "start_time": "2022-09-18T17:51:12.051Z"
   },
   {
    "duration": 353,
    "start_time": "2022-09-18T17:51:17.202Z"
   },
   {
    "duration": 29,
    "start_time": "2022-09-18T17:51:39.385Z"
   },
   {
    "duration": 5,
    "start_time": "2022-09-18T17:51:44.291Z"
   },
   {
    "duration": 59,
    "start_time": "2022-09-18T17:51:47.191Z"
   },
   {
    "duration": 88,
    "start_time": "2022-09-18T17:51:49.554Z"
   },
   {
    "duration": 3,
    "start_time": "2022-09-18T17:52:13.185Z"
   },
   {
    "duration": 33,
    "start_time": "2022-09-18T17:52:13.858Z"
   },
   {
    "duration": 80,
    "start_time": "2022-09-18T17:52:14.749Z"
   },
   {
    "duration": 4,
    "start_time": "2022-09-18T17:52:31.154Z"
   },
   {
    "duration": 29,
    "start_time": "2022-09-18T17:52:31.752Z"
   },
   {
    "duration": 41,
    "start_time": "2022-09-18T17:52:32.382Z"
   },
   {
    "duration": 32,
    "start_time": "2022-09-18T17:52:46.458Z"
   },
   {
    "duration": 49,
    "start_time": "2022-09-18T17:52:53.603Z"
   },
   {
    "duration": 3,
    "start_time": "2022-09-18T17:54:50.911Z"
   },
   {
    "duration": 26,
    "start_time": "2022-09-18T17:54:51.590Z"
   },
   {
    "duration": 43,
    "start_time": "2022-09-18T17:54:59.090Z"
   },
   {
    "duration": 31,
    "start_time": "2022-09-18T17:55:08.447Z"
   },
   {
    "duration": 46,
    "start_time": "2022-09-18T17:55:10.387Z"
   },
   {
    "duration": 5,
    "start_time": "2022-09-18T18:15:12.055Z"
   },
   {
    "duration": 3,
    "start_time": "2022-09-18T18:15:12.550Z"
   },
   {
    "duration": 134,
    "start_time": "2022-09-18T18:15:13.100Z"
   },
   {
    "duration": 31,
    "start_time": "2022-09-18T18:15:13.982Z"
   },
   {
    "duration": 106,
    "start_time": "2022-09-18T18:15:14.516Z"
   },
   {
    "duration": 4,
    "start_time": "2022-09-18T18:15:15.152Z"
   },
   {
    "duration": 132,
    "start_time": "2022-09-18T18:15:52.096Z"
   },
   {
    "duration": 3,
    "start_time": "2022-09-18T18:16:34.866Z"
   },
   {
    "duration": 4,
    "start_time": "2022-09-18T18:16:38.462Z"
   },
   {
    "duration": 664,
    "start_time": "2022-09-18T18:16:38.984Z"
   },
   {
    "duration": 657,
    "start_time": "2022-09-18T18:16:40.994Z"
   },
   {
    "duration": 576,
    "start_time": "2022-09-18T18:16:42.585Z"
   },
   {
    "duration": 4,
    "start_time": "2022-09-18T19:02:40.231Z"
   },
   {
    "duration": 3,
    "start_time": "2022-09-18T19:02:40.953Z"
   },
   {
    "duration": 34,
    "start_time": "2022-09-18T19:02:42.002Z"
   },
   {
    "duration": 30,
    "start_time": "2022-09-18T19:02:54.909Z"
   },
   {
    "duration": 1676,
    "start_time": "2022-09-20T06:55:20.039Z"
   },
   {
    "duration": 768,
    "start_time": "2022-09-20T06:55:21.717Z"
   },
   {
    "duration": 3,
    "start_time": "2022-09-20T06:55:25.290Z"
   },
   {
    "duration": 4,
    "start_time": "2022-09-20T06:59:26.092Z"
   },
   {
    "duration": 4,
    "start_time": "2022-09-20T06:59:26.859Z"
   },
   {
    "duration": 3,
    "start_time": "2022-09-20T06:59:43.045Z"
   },
   {
    "duration": 3,
    "start_time": "2022-09-20T06:59:44.186Z"
   },
   {
    "duration": 3,
    "start_time": "2022-09-20T06:59:45.206Z"
   },
   {
    "duration": 26,
    "start_time": "2022-09-20T07:00:16.605Z"
   },
   {
    "duration": 8,
    "start_time": "2022-09-20T07:00:28.381Z"
   },
   {
    "duration": 4,
    "start_time": "2022-09-20T07:00:47.694Z"
   },
   {
    "duration": 4,
    "start_time": "2022-09-20T07:01:02.166Z"
   },
   {
    "duration": 3,
    "start_time": "2022-09-20T07:01:02.780Z"
   },
   {
    "duration": 26,
    "start_time": "2022-09-20T07:01:03.380Z"
   },
   {
    "duration": 6,
    "start_time": "2022-09-20T07:01:03.943Z"
   },
   {
    "duration": 5,
    "start_time": "2022-09-20T07:01:05.428Z"
   },
   {
    "duration": 6,
    "start_time": "2022-09-20T07:01:34.245Z"
   },
   {
    "duration": 3,
    "start_time": "2022-09-20T07:02:57.437Z"
   },
   {
    "duration": 4,
    "start_time": "2022-09-20T07:03:25.848Z"
   },
   {
    "duration": 3,
    "start_time": "2022-09-20T07:03:28.551Z"
   },
   {
    "duration": 125,
    "start_time": "2022-09-20T07:03:29.414Z"
   },
   {
    "duration": 4,
    "start_time": "2022-09-20T07:03:44.822Z"
   },
   {
    "duration": 4,
    "start_time": "2022-09-20T07:03:45.340Z"
   },
   {
    "duration": 29,
    "start_time": "2022-09-20T07:03:45.961Z"
   },
   {
    "duration": 6,
    "start_time": "2022-09-20T07:03:47.461Z"
   },
   {
    "duration": 24,
    "start_time": "2022-09-20T07:04:35.614Z"
   },
   {
    "duration": 5,
    "start_time": "2022-09-20T07:04:37.750Z"
   },
   {
    "duration": 24,
    "start_time": "2022-09-20T07:04:47.016Z"
   },
   {
    "duration": 6,
    "start_time": "2022-09-20T07:04:47.774Z"
   },
   {
    "duration": 3,
    "start_time": "2022-09-20T07:06:51.312Z"
   },
   {
    "duration": 3,
    "start_time": "2022-09-20T07:06:51.800Z"
   },
   {
    "duration": 116,
    "start_time": "2022-09-20T07:06:52.504Z"
   },
   {
    "duration": 6,
    "start_time": "2022-09-20T07:06:53.072Z"
   },
   {
    "duration": 22,
    "start_time": "2022-09-20T07:06:54.680Z"
   },
   {
    "duration": 8,
    "start_time": "2022-09-20T07:06:55.638Z"
   },
   {
    "duration": 22,
    "start_time": "2022-09-20T07:06:57.471Z"
   },
   {
    "duration": 7,
    "start_time": "2022-09-20T07:06:58.233Z"
   },
   {
    "duration": 10,
    "start_time": "2022-09-20T07:09:08.475Z"
   },
   {
    "duration": 3,
    "start_time": "2022-09-20T07:09:11.450Z"
   },
   {
    "duration": 9,
    "start_time": "2022-09-20T07:09:12.691Z"
   },
   {
    "duration": 4,
    "start_time": "2022-09-20T07:09:16.537Z"
   },
   {
    "duration": 4,
    "start_time": "2022-09-20T07:09:17.005Z"
   },
   {
    "duration": 4,
    "start_time": "2022-09-20T07:09:17.547Z"
   },
   {
    "duration": 4,
    "start_time": "2022-09-20T07:09:18.049Z"
   },
   {
    "duration": 4,
    "start_time": "2022-09-20T07:09:18.522Z"
   },
   {
    "duration": 3,
    "start_time": "2022-09-20T07:09:20.476Z"
   },
   {
    "duration": 48,
    "start_time": "2022-09-20T07:09:21.416Z"
   },
   {
    "duration": 7,
    "start_time": "2022-09-20T07:11:15.467Z"
   },
   {
    "duration": 41,
    "start_time": "2022-09-20T07:11:42.094Z"
   },
   {
    "duration": 6,
    "start_time": "2022-09-20T07:12:04.913Z"
   },
   {
    "duration": 6,
    "start_time": "2022-09-20T07:12:41.693Z"
   },
   {
    "duration": 5,
    "start_time": "2022-09-20T07:12:50.683Z"
   },
   {
    "duration": 4,
    "start_time": "2022-09-20T07:13:46.876Z"
   },
   {
    "duration": 14,
    "start_time": "2022-09-20T07:14:07.421Z"
   },
   {
    "duration": 14,
    "start_time": "2022-09-20T07:15:02.317Z"
   },
   {
    "duration": 10,
    "start_time": "2022-09-20T07:15:20.684Z"
   },
   {
    "duration": 13,
    "start_time": "2022-09-20T07:15:41.652Z"
   },
   {
    "duration": 3,
    "start_time": "2022-09-20T07:15:53.334Z"
   },
   {
    "duration": 5,
    "start_time": "2022-09-20T07:15:57.573Z"
   },
   {
    "duration": 4,
    "start_time": "2022-09-20T07:19:05.111Z"
   },
   {
    "duration": 6,
    "start_time": "2022-09-20T07:19:06.133Z"
   },
   {
    "duration": 5,
    "start_time": "2022-09-20T07:19:36.911Z"
   },
   {
    "duration": 4,
    "start_time": "2022-09-20T07:21:04.584Z"
   },
   {
    "duration": 54,
    "start_time": "2022-09-20T07:21:07.073Z"
   },
   {
    "duration": 7,
    "start_time": "2022-09-20T07:21:40.872Z"
   },
   {
    "duration": 3,
    "start_time": "2022-09-20T07:21:50.403Z"
   },
   {
    "duration": 6,
    "start_time": "2022-09-20T07:21:54.754Z"
   },
   {
    "duration": 6,
    "start_time": "2022-09-20T07:22:05.305Z"
   },
   {
    "duration": 46,
    "start_time": "2022-09-20T07:22:20.133Z"
   },
   {
    "duration": 3,
    "start_time": "2022-09-20T07:25:38.313Z"
   },
   {
    "duration": 10,
    "start_time": "2022-09-20T07:25:41.515Z"
   },
   {
    "duration": 6,
    "start_time": "2022-09-20T07:26:14.208Z"
   },
   {
    "duration": 4,
    "start_time": "2022-09-20T07:26:15.580Z"
   },
   {
    "duration": 59,
    "start_time": "2022-09-20T07:26:22.758Z"
   },
   {
    "duration": 5,
    "start_time": "2022-09-20T07:26:24.963Z"
   },
   {
    "duration": 6,
    "start_time": "2022-09-20T07:26:29.202Z"
   },
   {
    "duration": 6,
    "start_time": "2022-09-20T07:26:34.459Z"
   },
   {
    "duration": 9,
    "start_time": "2022-09-20T07:27:17.572Z"
   },
   {
    "duration": 13,
    "start_time": "2022-09-20T07:27:19.011Z"
   },
   {
    "duration": 3,
    "start_time": "2022-09-20T07:29:18.825Z"
   },
   {
    "duration": 9,
    "start_time": "2022-09-20T07:29:20.029Z"
   },
   {
    "duration": 10,
    "start_time": "2022-09-20T07:29:20.815Z"
   },
   {
    "duration": 9,
    "start_time": "2022-09-20T07:29:21.575Z"
   },
   {
    "duration": 9,
    "start_time": "2022-09-20T07:30:06.885Z"
   },
   {
    "duration": 3,
    "start_time": "2022-09-20T07:30:11.118Z"
   },
   {
    "duration": 10,
    "start_time": "2022-09-20T07:30:11.925Z"
   },
   {
    "duration": 10,
    "start_time": "2022-09-20T07:30:16.789Z"
   },
   {
    "duration": 10,
    "start_time": "2022-09-20T07:30:21.405Z"
   },
   {
    "duration": 4,
    "start_time": "2022-09-20T07:47:04.678Z"
   },
   {
    "duration": 38,
    "start_time": "2022-09-20T07:47:05.413Z"
   },
   {
    "duration": 4637,
    "start_time": "2022-09-20T07:47:18.753Z"
   },
   {
    "duration": 3,
    "start_time": "2022-09-20T07:48:08.838Z"
   },
   {
    "duration": 5,
    "start_time": "2022-09-20T07:53:21.676Z"
   },
   {
    "duration": 975,
    "start_time": "2022-09-20T07:53:22.537Z"
   },
   {
    "duration": 888,
    "start_time": "2022-09-20T07:53:54.399Z"
   },
   {
    "duration": 1013,
    "start_time": "2022-09-20T07:54:08.942Z"
   },
   {
    "duration": 5,
    "start_time": "2022-09-20T07:55:11.831Z"
   },
   {
    "duration": 896,
    "start_time": "2022-09-20T07:55:13.791Z"
   },
   {
    "duration": 891,
    "start_time": "2022-09-20T07:55:16.805Z"
   },
   {
    "duration": 897,
    "start_time": "2022-09-20T07:55:26.120Z"
   },
   {
    "duration": 3,
    "start_time": "2022-09-20T14:07:35.222Z"
   },
   {
    "duration": 3,
    "start_time": "2022-09-20T14:13:18.497Z"
   },
   {
    "duration": 25,
    "start_time": "2022-09-20T14:13:22.689Z"
   },
   {
    "duration": 8,
    "start_time": "2022-09-20T14:13:23.385Z"
   },
   {
    "duration": 36,
    "start_time": "2022-09-20T14:13:28.961Z"
   },
   {
    "duration": 8,
    "start_time": "2022-09-20T14:13:29.617Z"
   },
   {
    "duration": 21,
    "start_time": "2022-09-20T14:13:43.241Z"
   },
   {
    "duration": 7,
    "start_time": "2022-09-20T14:13:43.803Z"
   },
   {
    "duration": 639,
    "start_time": "2022-09-20T14:14:26.981Z"
   },
   {
    "duration": 583,
    "start_time": "2022-09-20T14:14:31.914Z"
   },
   {
    "duration": 664,
    "start_time": "2022-09-20T14:14:35.938Z"
   },
   {
    "duration": 2,
    "start_time": "2022-09-20T14:16:46.684Z"
   },
   {
    "duration": 3,
    "start_time": "2022-09-20T14:16:47.091Z"
   },
   {
    "duration": 3,
    "start_time": "2022-09-20T14:16:47.457Z"
   },
   {
    "duration": 2,
    "start_time": "2022-09-20T14:16:48.456Z"
   },
   {
    "duration": 12,
    "start_time": "2022-09-20T14:16:48.461Z"
   },
   {
    "duration": 3,
    "start_time": "2022-09-20T14:16:49.073Z"
   },
   {
    "duration": 3,
    "start_time": "2022-09-20T14:17:20.601Z"
   },
   {
    "duration": 4,
    "start_time": "2022-09-20T14:23:33.560Z"
   },
   {
    "duration": 5,
    "start_time": "2022-09-20T14:24:08.464Z"
   },
   {
    "duration": 3,
    "start_time": "2022-09-21T07:07:55.146Z"
   },
   {
    "duration": 390,
    "start_time": "2022-09-21T07:08:52.539Z"
   },
   {
    "duration": 3,
    "start_time": "2022-09-21T07:25:25.656Z"
   },
   {
    "duration": 366,
    "start_time": "2022-09-21T07:25:27.863Z"
   },
   {
    "duration": 4,
    "start_time": "2022-09-21T07:25:29.975Z"
   },
   {
    "duration": 591,
    "start_time": "2022-09-21T07:25:32.015Z"
   },
   {
    "duration": 582,
    "start_time": "2022-09-21T07:25:35.768Z"
   },
   {
    "duration": 591,
    "start_time": "2022-09-21T07:25:39.366Z"
   },
   {
    "duration": 5,
    "start_time": "2022-09-21T07:36:48.271Z"
   },
   {
    "duration": 4,
    "start_time": "2022-09-21T07:37:16.593Z"
   },
   {
    "duration": 5,
    "start_time": "2022-09-21T07:42:44.706Z"
   },
   {
    "duration": 82,
    "start_time": "2022-09-21T07:42:46.343Z"
   },
   {
    "duration": 5,
    "start_time": "2022-09-21T07:43:02.604Z"
   },
   {
    "duration": 219,
    "start_time": "2022-09-21T07:43:04.304Z"
   },
   {
    "duration": 5,
    "start_time": "2022-09-21T07:43:10.192Z"
   },
   {
    "duration": 95,
    "start_time": "2022-09-21T07:43:11.527Z"
   },
   {
    "duration": 119,
    "start_time": "2022-09-21T07:43:18.881Z"
   },
   {
    "duration": 5,
    "start_time": "2022-09-21T07:43:22.464Z"
   },
   {
    "duration": 25,
    "start_time": "2022-09-21T07:43:24.041Z"
   },
   {
    "duration": 9,
    "start_time": "2022-09-21T07:43:27.378Z"
   },
   {
    "duration": 31,
    "start_time": "2022-09-21T07:43:31.504Z"
   },
   {
    "duration": 7,
    "start_time": "2022-09-21T07:43:33.647Z"
   },
   {
    "duration": 26,
    "start_time": "2022-09-21T07:43:36.004Z"
   },
   {
    "duration": 9,
    "start_time": "2022-09-21T07:43:36.647Z"
   },
   {
    "duration": 5,
    "start_time": "2022-09-21T08:18:11.892Z"
   },
   {
    "duration": 36,
    "start_time": "2022-09-21T08:18:14.904Z"
   },
   {
    "duration": 207,
    "start_time": "2022-09-21T08:18:15.668Z"
   },
   {
    "duration": 26,
    "start_time": "2022-09-21T08:19:27.504Z"
   },
   {
    "duration": 443,
    "start_time": "2022-09-21T08:19:28.621Z"
   },
   {
    "duration": 31,
    "start_time": "2022-09-21T08:19:38.045Z"
   },
   {
    "duration": 266,
    "start_time": "2022-09-21T08:19:38.934Z"
   },
   {
    "duration": 4,
    "start_time": "2022-09-21T08:20:53.606Z"
   },
   {
    "duration": 105,
    "start_time": "2022-09-21T08:20:55.415Z"
   },
   {
    "duration": 159,
    "start_time": "2022-09-21T08:20:55.956Z"
   },
   {
    "duration": 30,
    "start_time": "2022-09-21T08:21:12.982Z"
   },
   {
    "duration": 165,
    "start_time": "2022-09-21T08:21:13.725Z"
   },
   {
    "duration": 30,
    "start_time": "2022-09-21T08:21:24.445Z"
   },
   {
    "duration": 181,
    "start_time": "2022-09-21T08:21:24.958Z"
   },
   {
    "duration": 6,
    "start_time": "2022-09-21T09:48:46.220Z"
   },
   {
    "duration": 37,
    "start_time": "2022-09-21T09:48:47.400Z"
   },
   {
    "duration": 340,
    "start_time": "2022-09-21T09:48:47.912Z"
   },
   {
    "duration": 4,
    "start_time": "2022-09-21T09:49:06.650Z"
   },
   {
    "duration": 36,
    "start_time": "2022-09-21T09:49:07.706Z"
   },
   {
    "duration": 300,
    "start_time": "2022-09-21T09:49:08.265Z"
   },
   {
    "duration": 35,
    "start_time": "2022-09-21T09:49:18.394Z"
   },
   {
    "duration": 461,
    "start_time": "2022-09-21T09:49:18.932Z"
   },
   {
    "duration": 38,
    "start_time": "2022-09-21T09:49:28.844Z"
   },
   {
    "duration": 307,
    "start_time": "2022-09-21T09:49:29.338Z"
   },
   {
    "duration": 5,
    "start_time": "2022-09-21T09:49:40.008Z"
   },
   {
    "duration": 36,
    "start_time": "2022-09-21T09:49:41.043Z"
   },
   {
    "duration": 185,
    "start_time": "2022-09-21T09:49:41.649Z"
   },
   {
    "duration": 4,
    "start_time": "2022-09-21T09:50:12.107Z"
   },
   {
    "duration": 31,
    "start_time": "2022-09-21T09:50:13.057Z"
   },
   {
    "duration": 180,
    "start_time": "2022-09-21T09:50:13.478Z"
   },
   {
    "duration": 6,
    "start_time": "2022-09-21T09:50:21.251Z"
   },
   {
    "duration": 34,
    "start_time": "2022-09-21T09:50:22.268Z"
   },
   {
    "duration": 160,
    "start_time": "2022-09-21T09:50:22.705Z"
   },
   {
    "duration": 81,
    "start_time": "2022-09-21T09:50:33.091Z"
   },
   {
    "duration": 6,
    "start_time": "2022-09-21T09:50:36.604Z"
   },
   {
    "duration": 35,
    "start_time": "2022-09-21T09:50:37.668Z"
   },
   {
    "duration": 177,
    "start_time": "2022-09-21T09:50:38.203Z"
   },
   {
    "duration": 26,
    "start_time": "2022-09-21T09:50:43.642Z"
   },
   {
    "duration": 151,
    "start_time": "2022-09-21T09:50:44.329Z"
   },
   {
    "duration": 4,
    "start_time": "2022-09-21T09:51:43.604Z"
   },
   {
    "duration": 29,
    "start_time": "2022-09-21T09:53:32.504Z"
   },
   {
    "duration": 159,
    "start_time": "2022-09-21T09:53:33.035Z"
   },
   {
    "duration": 5,
    "start_time": "2022-09-21T10:05:58.565Z"
   },
   {
    "duration": 115,
    "start_time": "2022-09-21T10:06:00.514Z"
   },
   {
    "duration": 225,
    "start_time": "2022-09-21T10:06:01.023Z"
   },
   {
    "duration": 5,
    "start_time": "2022-09-21T10:06:09.259Z"
   },
   {
    "duration": 43,
    "start_time": "2022-09-21T10:06:10.420Z"
   },
   {
    "duration": 254,
    "start_time": "2022-09-21T10:06:10.923Z"
   },
   {
    "duration": 5,
    "start_time": "2022-09-21T10:06:15.581Z"
   },
   {
    "duration": 9,
    "start_time": "2022-09-21T10:07:27.205Z"
   },
   {
    "duration": 53,
    "start_time": "2022-09-21T10:07:28.318Z"
   },
   {
    "duration": 419,
    "start_time": "2022-09-21T10:07:28.864Z"
   },
   {
    "duration": 8,
    "start_time": "2022-09-21T10:09:19.647Z"
   },
   {
    "duration": 28,
    "start_time": "2022-09-21T10:09:20.820Z"
   },
   {
    "duration": 166,
    "start_time": "2022-09-21T10:09:21.447Z"
   },
   {
    "duration": 43,
    "start_time": "2022-09-21T10:09:34.492Z"
   },
   {
    "duration": 10,
    "start_time": "2022-09-21T10:09:35.271Z"
   },
   {
    "duration": 6,
    "start_time": "2022-09-21T10:09:42.078Z"
   },
   {
    "duration": 30,
    "start_time": "2022-09-21T10:09:43.683Z"
   },
   {
    "duration": 268,
    "start_time": "2022-09-21T10:09:44.173Z"
   },
   {
    "duration": 11,
    "start_time": "2022-09-21T10:10:22.122Z"
   },
   {
    "duration": 33,
    "start_time": "2022-09-21T10:10:23.200Z"
   },
   {
    "duration": 170,
    "start_time": "2022-09-21T10:10:23.677Z"
   },
   {
    "duration": 5,
    "start_time": "2022-09-21T10:11:48.812Z"
   },
   {
    "duration": 48,
    "start_time": "2022-09-21T10:11:49.841Z"
   },
   {
    "duration": 170,
    "start_time": "2022-09-21T10:11:50.316Z"
   },
   {
    "duration": 10,
    "start_time": "2022-09-21T10:19:59.848Z"
   },
   {
    "duration": 39,
    "start_time": "2022-09-21T10:20:01.119Z"
   },
   {
    "duration": 397,
    "start_time": "2022-09-21T10:20:01.896Z"
   },
   {
    "duration": 7,
    "start_time": "2022-09-21T10:20:33.261Z"
   },
   {
    "duration": 37,
    "start_time": "2022-09-21T10:20:34.392Z"
   },
   {
    "duration": 408,
    "start_time": "2022-09-21T10:20:34.976Z"
   },
   {
    "duration": 8,
    "start_time": "2022-09-21T10:23:42.081Z"
   },
   {
    "duration": 33,
    "start_time": "2022-09-21T10:23:43.386Z"
   },
   {
    "duration": 414,
    "start_time": "2022-09-21T10:23:43.940Z"
   },
   {
    "duration": 6,
    "start_time": "2022-09-21T10:23:58.668Z"
   },
   {
    "duration": 101,
    "start_time": "2022-09-21T10:23:59.719Z"
   },
   {
    "duration": 418,
    "start_time": "2022-09-21T10:24:00.239Z"
   },
   {
    "duration": 28,
    "start_time": "2022-09-21T10:24:04.080Z"
   },
   {
    "duration": 9,
    "start_time": "2022-09-21T10:24:04.585Z"
   },
   {
    "duration": 563,
    "start_time": "2022-09-21T10:24:12.588Z"
   },
   {
    "duration": 101,
    "start_time": "2022-09-21T10:24:23.720Z"
   },
   {
    "duration": 12,
    "start_time": "2022-09-21T10:24:24.338Z"
   },
   {
    "duration": 453,
    "start_time": "2022-09-21T10:24:31.114Z"
   },
   {
    "duration": 7,
    "start_time": "2022-09-21T10:25:00.564Z"
   },
   {
    "duration": 27,
    "start_time": "2022-09-21T10:25:01.473Z"
   },
   {
    "duration": 440,
    "start_time": "2022-09-21T10:25:01.962Z"
   },
   {
    "duration": 7,
    "start_time": "2022-09-21T10:25:32.403Z"
   },
   {
    "duration": 31,
    "start_time": "2022-09-21T10:25:33.266Z"
   },
   {
    "duration": 492,
    "start_time": "2022-09-21T10:25:33.763Z"
   },
   {
    "duration": 12,
    "start_time": "2022-09-21T10:25:48.699Z"
   },
   {
    "duration": 39,
    "start_time": "2022-09-21T10:25:49.693Z"
   },
   {
    "duration": 565,
    "start_time": "2022-09-21T10:25:50.216Z"
   },
   {
    "duration": 112,
    "start_time": "2022-09-21T10:26:07.316Z"
   },
   {
    "duration": 702,
    "start_time": "2022-09-21T10:26:07.785Z"
   },
   {
    "duration": 22,
    "start_time": "2022-09-21T10:26:42.316Z"
   },
   {
    "duration": 32,
    "start_time": "2022-09-21T10:26:43.516Z"
   },
   {
    "duration": 504,
    "start_time": "2022-09-21T10:26:44.132Z"
   },
   {
    "duration": 77,
    "start_time": "2022-09-21T10:26:49.644Z"
   },
   {
    "duration": 518,
    "start_time": "2022-09-21T10:26:50.170Z"
   },
   {
    "duration": 138,
    "start_time": "2022-09-21T10:27:08.387Z"
   },
   {
    "duration": 624,
    "start_time": "2022-09-21T10:27:08.836Z"
   },
   {
    "duration": 7,
    "start_time": "2022-09-21T10:27:25.748Z"
   },
   {
    "duration": 39,
    "start_time": "2022-09-21T10:27:26.946Z"
   },
   {
    "duration": 498,
    "start_time": "2022-09-21T10:27:27.387Z"
   },
   {
    "duration": 7,
    "start_time": "2022-09-21T10:27:45.540Z"
   },
   {
    "duration": 41,
    "start_time": "2022-09-21T10:27:46.485Z"
   },
   {
    "duration": 503,
    "start_time": "2022-09-21T10:27:46.937Z"
   },
   {
    "duration": 33,
    "start_time": "2022-09-21T10:27:51.698Z"
   },
   {
    "duration": 667,
    "start_time": "2022-09-21T10:27:52.147Z"
   },
   {
    "duration": 9,
    "start_time": "2022-09-21T10:28:16.475Z"
   },
   {
    "duration": 34,
    "start_time": "2022-09-21T10:28:17.458Z"
   },
   {
    "duration": 505,
    "start_time": "2022-09-21T10:28:17.887Z"
   },
   {
    "duration": 40,
    "start_time": "2022-09-21T10:28:21.098Z"
   },
   {
    "duration": 542,
    "start_time": "2022-09-21T10:28:22.091Z"
   },
   {
    "duration": 25,
    "start_time": "2022-09-21T10:28:28.683Z"
   },
   {
    "duration": 545,
    "start_time": "2022-09-21T10:28:29.124Z"
   },
   {
    "duration": 5,
    "start_time": "2022-09-21T10:29:12.674Z"
   },
   {
    "duration": 8,
    "start_time": "2022-09-21T10:29:35.508Z"
   },
   {
    "duration": 43,
    "start_time": "2022-09-21T10:29:36.603Z"
   },
   {
    "duration": 496,
    "start_time": "2022-09-21T10:29:37.053Z"
   },
   {
    "duration": 8,
    "start_time": "2022-09-21T10:37:18.436Z"
   },
   {
    "duration": 81,
    "start_time": "2022-09-21T10:37:20.343Z"
   },
   {
    "duration": 615,
    "start_time": "2022-09-21T10:37:20.943Z"
   },
   {
    "duration": 27,
    "start_time": "2022-09-21T10:37:26.695Z"
   },
   {
    "duration": 529,
    "start_time": "2022-09-21T10:37:27.255Z"
   },
   {
    "duration": 8,
    "start_time": "2022-09-21T10:37:45.936Z"
   },
   {
    "duration": 31,
    "start_time": "2022-09-21T10:37:46.919Z"
   },
   {
    "duration": 491,
    "start_time": "2022-09-21T10:37:47.463Z"
   },
   {
    "duration": 35,
    "start_time": "2022-09-21T10:37:53.992Z"
   },
   {
    "duration": 526,
    "start_time": "2022-09-21T10:38:00.647Z"
   },
   {
    "duration": 25,
    "start_time": "2022-09-21T10:38:02.839Z"
   },
   {
    "duration": 496,
    "start_time": "2022-09-21T10:38:04.644Z"
   },
   {
    "duration": 4,
    "start_time": "2022-09-21T10:47:25.341Z"
   },
   {
    "duration": 5,
    "start_time": "2022-09-21T10:59:05.794Z"
   },
   {
    "duration": 1088,
    "start_time": "2022-09-21T10:59:20.708Z"
   },
   {
    "duration": 971,
    "start_time": "2022-09-21T10:59:34.881Z"
   },
   {
    "duration": 1049,
    "start_time": "2022-09-21T10:59:47.952Z"
   },
   {
    "duration": 1993,
    "start_time": "2022-09-21T11:19:55.319Z"
   },
   {
    "duration": 702,
    "start_time": "2022-09-21T11:19:57.314Z"
   },
   {
    "duration": 6,
    "start_time": "2022-09-21T11:19:58.018Z"
   },
   {
    "duration": 799,
    "start_time": "2022-09-21T11:19:58.027Z"
   },
   {
    "duration": 807,
    "start_time": "2022-09-21T11:19:58.828Z"
   },
   {
    "duration": 837,
    "start_time": "2022-09-21T11:19:59.641Z"
   },
   {
    "duration": 6,
    "start_time": "2022-09-21T11:20:00.481Z"
   },
   {
    "duration": 84,
    "start_time": "2022-09-21T11:20:00.489Z"
   },
   {
    "duration": 92,
    "start_time": "2022-09-21T11:20:00.576Z"
   },
   {
    "duration": 713,
    "start_time": "2022-09-21T11:20:00.763Z"
   },
   {
    "duration": 60,
    "start_time": "2022-09-21T11:20:01.479Z"
   },
   {
    "duration": 771,
    "start_time": "2022-09-21T11:20:01.544Z"
   },
   {
    "duration": 55,
    "start_time": "2022-09-21T11:20:02.317Z"
   },
   {
    "duration": 731,
    "start_time": "2022-09-21T11:20:02.374Z"
   },
   {
    "duration": 3,
    "start_time": "2022-09-21T11:20:03.107Z"
   },
   {
    "duration": 39,
    "start_time": "2022-09-21T11:20:03.123Z"
   },
   {
    "duration": 7,
    "start_time": "2022-09-21T11:20:03.165Z"
   },
   {
    "duration": 8,
    "start_time": "2022-09-21T11:20:03.174Z"
   },
   {
    "duration": 7,
    "start_time": "2022-09-21T11:20:03.184Z"
   },
   {
    "duration": 7,
    "start_time": "2022-09-21T11:20:03.193Z"
   },
   {
    "duration": 11,
    "start_time": "2022-09-21T11:20:03.202Z"
   },
   {
    "duration": 9,
    "start_time": "2022-09-21T11:20:03.215Z"
   },
   {
    "duration": 44,
    "start_time": "2022-09-21T11:20:03.225Z"
   },
   {
    "duration": 1122,
    "start_time": "2022-09-21T11:20:03.272Z"
   },
   {
    "duration": 1031,
    "start_time": "2022-09-21T11:20:04.396Z"
   },
   {
    "duration": 1029,
    "start_time": "2022-09-21T11:20:05.429Z"
   },
   {
    "duration": 5,
    "start_time": "2022-09-21T11:22:20.359Z"
   },
   {
    "duration": 722,
    "start_time": "2022-09-21T11:22:21.671Z"
   },
   {
    "duration": 815,
    "start_time": "2022-09-21T11:22:32.263Z"
   },
   {
    "duration": 702,
    "start_time": "2022-09-21T11:22:35.504Z"
   },
   {
    "duration": 1581,
    "start_time": "2022-09-21T11:22:46.696Z"
   },
   {
    "duration": 457,
    "start_time": "2022-09-21T11:22:48.280Z"
   },
   {
    "duration": 6,
    "start_time": "2022-09-21T11:22:48.739Z"
   },
   {
    "duration": 854,
    "start_time": "2022-09-21T11:22:48.748Z"
   },
   {
    "duration": 676,
    "start_time": "2022-09-21T11:22:49.604Z"
   },
   {
    "duration": 783,
    "start_time": "2022-09-21T11:22:50.281Z"
   },
   {
    "duration": 5,
    "start_time": "2022-09-21T11:22:51.066Z"
   },
   {
    "duration": 12,
    "start_time": "2022-09-21T11:22:51.074Z"
   },
   {
    "duration": 80,
    "start_time": "2022-09-21T11:22:51.088Z"
   },
   {
    "duration": 683,
    "start_time": "2022-09-21T11:22:51.234Z"
   },
   {
    "duration": 117,
    "start_time": "2022-09-21T11:22:51.920Z"
   },
   {
    "duration": 678,
    "start_time": "2022-09-21T11:22:52.042Z"
   },
   {
    "duration": 100,
    "start_time": "2022-09-21T11:22:52.723Z"
   },
   {
    "duration": 642,
    "start_time": "2022-09-21T11:22:52.825Z"
   },
   {
    "duration": 3,
    "start_time": "2022-09-21T11:22:53.469Z"
   },
   {
    "duration": 8,
    "start_time": "2022-09-21T11:22:53.474Z"
   },
   {
    "duration": 9,
    "start_time": "2022-09-21T11:22:53.483Z"
   },
   {
    "duration": 5,
    "start_time": "2022-09-21T11:22:53.494Z"
   },
   {
    "duration": 6,
    "start_time": "2022-09-21T11:22:53.501Z"
   },
   {
    "duration": 4,
    "start_time": "2022-09-21T11:22:53.524Z"
   },
   {
    "duration": 35,
    "start_time": "2022-09-21T11:22:53.529Z"
   },
   {
    "duration": 8,
    "start_time": "2022-09-21T11:22:53.566Z"
   },
   {
    "duration": 7,
    "start_time": "2022-09-21T11:22:53.576Z"
   },
   {
    "duration": 1083,
    "start_time": "2022-09-21T11:22:53.585Z"
   },
   {
    "duration": 1079,
    "start_time": "2022-09-21T11:22:54.671Z"
   },
   {
    "duration": 1053,
    "start_time": "2022-09-21T11:22:55.755Z"
   },
   {
    "duration": 1623,
    "start_time": "2022-09-22T08:00:34.396Z"
   },
   {
    "duration": 976,
    "start_time": "2022-09-22T08:00:36.021Z"
   },
   {
    "duration": 5,
    "start_time": "2022-09-22T08:00:36.999Z"
   },
   {
    "duration": 662,
    "start_time": "2022-09-22T08:00:37.007Z"
   },
   {
    "duration": 582,
    "start_time": "2022-09-22T08:00:37.672Z"
   },
   {
    "duration": 658,
    "start_time": "2022-09-22T08:00:38.256Z"
   },
   {
    "duration": 5,
    "start_time": "2022-09-22T08:00:38.916Z"
   },
   {
    "duration": 29,
    "start_time": "2022-09-22T08:00:38.923Z"
   },
   {
    "duration": 49,
    "start_time": "2022-09-22T08:00:38.954Z"
   },
   {
    "duration": 560,
    "start_time": "2022-09-22T08:00:39.044Z"
   },
   {
    "duration": 48,
    "start_time": "2022-09-22T08:00:39.606Z"
   },
   {
    "duration": 633,
    "start_time": "2022-09-22T08:00:39.655Z"
   },
   {
    "duration": 47,
    "start_time": "2022-09-22T08:00:40.290Z"
   },
   {
    "duration": 562,
    "start_time": "2022-09-22T08:00:40.345Z"
   },
   {
    "duration": 2,
    "start_time": "2022-09-22T08:00:40.909Z"
   },
   {
    "duration": 6,
    "start_time": "2022-09-22T08:00:40.913Z"
   },
   {
    "duration": 23,
    "start_time": "2022-09-22T08:00:40.933Z"
   },
   {
    "duration": 5,
    "start_time": "2022-09-22T08:00:40.958Z"
   },
   {
    "duration": 8,
    "start_time": "2022-09-22T08:00:40.965Z"
   },
   {
    "duration": 6,
    "start_time": "2022-09-22T08:00:40.974Z"
   },
   {
    "duration": 8,
    "start_time": "2022-09-22T08:00:40.982Z"
   },
   {
    "duration": 7,
    "start_time": "2022-09-22T08:00:40.991Z"
   },
   {
    "duration": 6,
    "start_time": "2022-09-22T08:00:41.000Z"
   },
   {
    "duration": 912,
    "start_time": "2022-09-22T08:00:41.007Z"
   },
   {
    "duration": 887,
    "start_time": "2022-09-22T08:00:41.921Z"
   },
   {
    "duration": 891,
    "start_time": "2022-09-22T08:00:42.810Z"
   },
   {
    "duration": 124,
    "start_time": "2022-09-22T08:14:00.770Z"
   },
   {
    "duration": 17,
    "start_time": "2022-09-22T08:14:15.050Z"
   },
   {
    "duration": 48,
    "start_time": "2022-09-22T08:18:15.580Z"
   },
   {
    "duration": 5,
    "start_time": "2022-09-22T08:20:51.159Z"
   },
   {
    "duration": 866,
    "start_time": "2022-09-22T08:20:54.013Z"
   },
   {
    "duration": 810,
    "start_time": "2022-09-22T08:21:00.142Z"
   },
   {
    "duration": 784,
    "start_time": "2022-09-22T08:21:03.639Z"
   },
   {
    "duration": 3,
    "start_time": "2022-09-22T08:52:08.756Z"
   },
   {
    "duration": 3,
    "start_time": "2022-09-22T08:52:09.180Z"
   },
   {
    "duration": 6,
    "start_time": "2022-09-22T08:52:09.630Z"
   },
   {
    "duration": 6,
    "start_time": "2022-09-22T08:52:10.148Z"
   },
   {
    "duration": 4,
    "start_time": "2022-09-22T08:52:10.806Z"
   },
   {
    "duration": 9,
    "start_time": "2022-09-22T08:59:58.817Z"
   },
   {
    "duration": 814,
    "start_time": "2022-09-22T09:00:03.245Z"
   },
   {
    "duration": 862,
    "start_time": "2022-09-22T09:00:14.897Z"
   },
   {
    "duration": 818,
    "start_time": "2022-09-22T09:00:20.902Z"
   },
   {
    "duration": 5,
    "start_time": "2022-09-22T09:01:21.975Z"
   },
   {
    "duration": 962,
    "start_time": "2022-09-22T09:01:25.655Z"
   },
   {
    "duration": 5,
    "start_time": "2022-09-22T09:01:54.876Z"
   },
   {
    "duration": 889,
    "start_time": "2022-09-22T09:01:56.142Z"
   },
   {
    "duration": 5,
    "start_time": "2022-09-22T09:03:11.287Z"
   },
   {
    "duration": 5,
    "start_time": "2022-09-22T09:03:17.223Z"
   },
   {
    "duration": 895,
    "start_time": "2022-09-22T09:03:19.180Z"
   },
   {
    "duration": 6,
    "start_time": "2022-09-22T09:06:17.281Z"
   },
   {
    "duration": 932,
    "start_time": "2022-09-22T09:06:18.543Z"
   },
   {
    "duration": 8,
    "start_time": "2022-09-22T09:06:37.266Z"
   },
   {
    "duration": 919,
    "start_time": "2022-09-22T09:06:38.189Z"
   },
   {
    "duration": 9,
    "start_time": "2022-09-22T09:06:46.670Z"
   },
   {
    "duration": 6,
    "start_time": "2022-09-22T09:07:01.285Z"
   },
   {
    "duration": 999,
    "start_time": "2022-09-22T09:07:02.180Z"
   },
   {
    "duration": 834,
    "start_time": "2022-09-22T09:10:13.926Z"
   },
   {
    "duration": 810,
    "start_time": "2022-09-22T09:10:16.941Z"
   },
   {
    "duration": 1587,
    "start_time": "2022-09-22T09:13:53.355Z"
   },
   {
    "duration": 463,
    "start_time": "2022-09-22T09:13:54.946Z"
   },
   {
    "duration": 4,
    "start_time": "2022-09-22T09:13:55.410Z"
   },
   {
    "duration": 723,
    "start_time": "2022-09-22T09:13:55.416Z"
   },
   {
    "duration": 879,
    "start_time": "2022-09-22T09:13:56.146Z"
   },
   {
    "duration": 834,
    "start_time": "2022-09-22T09:13:57.029Z"
   },
   {
    "duration": 17,
    "start_time": "2022-09-22T09:13:57.868Z"
   },
   {
    "duration": 32,
    "start_time": "2022-09-22T09:13:57.895Z"
   },
   {
    "duration": 166,
    "start_time": "2022-09-22T09:13:57.930Z"
   },
   {
    "duration": 775,
    "start_time": "2022-09-22T09:13:58.102Z"
   },
   {
    "duration": 55,
    "start_time": "2022-09-22T09:13:58.885Z"
   },
   {
    "duration": 719,
    "start_time": "2022-09-22T09:13:58.943Z"
   },
   {
    "duration": 103,
    "start_time": "2022-09-22T09:13:59.666Z"
   },
   {
    "duration": 729,
    "start_time": "2022-09-22T09:13:59.776Z"
   },
   {
    "duration": 3,
    "start_time": "2022-09-22T09:14:00.506Z"
   },
   {
    "duration": 77,
    "start_time": "2022-09-22T09:14:00.511Z"
   },
   {
    "duration": 93,
    "start_time": "2022-09-22T09:14:00.595Z"
   },
   {
    "duration": 64,
    "start_time": "2022-09-22T09:14:00.696Z"
   },
   {
    "duration": 30,
    "start_time": "2022-09-22T09:14:00.768Z"
   },
   {
    "duration": 21,
    "start_time": "2022-09-22T09:14:00.801Z"
   },
   {
    "duration": 63,
    "start_time": "2022-09-22T09:14:00.825Z"
   },
   {
    "duration": 20,
    "start_time": "2022-09-22T09:14:00.890Z"
   },
   {
    "duration": 26,
    "start_time": "2022-09-22T09:14:00.912Z"
   },
   {
    "duration": 58,
    "start_time": "2022-09-22T09:14:00.941Z"
   },
   {
    "duration": 26,
    "start_time": "2022-09-22T09:14:01.001Z"
   },
   {
    "duration": 79,
    "start_time": "2022-09-22T09:14:01.029Z"
   },
   {
    "duration": 1377,
    "start_time": "2022-09-22T09:14:01.110Z"
   },
   {
    "duration": 1032,
    "start_time": "2022-09-22T09:14:02.489Z"
   },
   {
    "duration": 1320,
    "start_time": "2022-09-22T09:14:03.523Z"
   }
  ],
  "kernelspec": {
   "display_name": "Python 3 (ipykernel)",
   "language": "python",
   "name": "python3"
  },
  "language_info": {
   "codemirror_mode": {
    "name": "ipython",
    "version": 3
   },
   "file_extension": ".py",
   "mimetype": "text/x-python",
   "name": "python",
   "nbconvert_exporter": "python",
   "pygments_lexer": "ipython3",
   "version": "3.9.12"
  },
  "toc": {
   "base_numbering": 1,
   "nav_menu": {},
   "number_sections": true,
   "sideBar": true,
   "skip_h1_title": true,
   "title_cell": "Содержание",
   "title_sidebar": "Contents",
   "toc_cell": true,
   "toc_position": {},
   "toc_section_display": true,
   "toc_window_display": false
  }
 },
 "nbformat": 4,
 "nbformat_minor": 2
}

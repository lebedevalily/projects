{
 "cells": [
  {
   "cell_type": "markdown",
   "metadata": {
    "toc": true
   },
   "source": [
    "<h1>Содержание<span class=\"tocSkip\"></span></h1>\n",
    "<div class=\"toc\"><ul class=\"toc-item\"><li><span><a href=\"#Подготовка-данных\" data-toc-modified-id=\"Подготовка-данных-1\"><span class=\"toc-item-num\">1&nbsp;&nbsp;</span>Подготовка данных</a></span></li><li><span><a href=\"#Исследование-задачи\" data-toc-modified-id=\"Исследование-задачи-2\"><span class=\"toc-item-num\">2&nbsp;&nbsp;</span>Исследование задачи</a></span><ul class=\"toc-item\"><li><span><a href=\"#Логистическая-регрессия\" data-toc-modified-id=\"Логистическая-регрессия-2.1\"><span class=\"toc-item-num\">2.1&nbsp;&nbsp;</span>Логистическая регрессия</a></span></li><li><span><a href=\"#Дерево-решений\" data-toc-modified-id=\"Дерево-решений-2.2\"><span class=\"toc-item-num\">2.2&nbsp;&nbsp;</span>Дерево решений</a></span></li><li><span><a href=\"#Случайный-лес\" data-toc-modified-id=\"Случайный-лес-2.3\"><span class=\"toc-item-num\">2.3&nbsp;&nbsp;</span>Случайный лес</a></span></li></ul></li><li><span><a href=\"#Борьба-с-дисбалансом\" data-toc-modified-id=\"Борьба-с-дисбалансом-3\"><span class=\"toc-item-num\">3&nbsp;&nbsp;</span>Борьба с дисбалансом</a></span><ul class=\"toc-item\"><li><span><a href=\"#Взвешивание-классов\" data-toc-modified-id=\"Взвешивание-классов-3.1\"><span class=\"toc-item-num\">3.1&nbsp;&nbsp;</span>Взвешивание классов</a></span></li><li><span><a href=\"#Увеличение-выборки\" data-toc-modified-id=\"Увеличение-выборки-3.2\"><span class=\"toc-item-num\">3.2&nbsp;&nbsp;</span>Увеличение выборки</a></span></li><li><span><a href=\"#Уменьшение-выборки\" data-toc-modified-id=\"Уменьшение-выборки-3.3\"><span class=\"toc-item-num\">3.3&nbsp;&nbsp;</span>Уменьшение выборки</a></span></li><li><span><a href=\"#Изменение-порога\" data-toc-modified-id=\"Изменение-порога-3.4\"><span class=\"toc-item-num\">3.4&nbsp;&nbsp;</span>Изменение порога</a></span></li></ul></li><li><span><a href=\"#Тестирование-модели\" data-toc-modified-id=\"Тестирование-модели-4\"><span class=\"toc-item-num\">4&nbsp;&nbsp;</span>Тестирование модели</a></span></li><li><span><a href=\"#Чек-лист-готовности-проекта\" data-toc-modified-id=\"Чек-лист-готовности-проекта-5\"><span class=\"toc-item-num\">5&nbsp;&nbsp;</span>Чек-лист готовности проекта</a></span></li></ul></div>"
   ]
  },
  {
   "cell_type": "markdown",
   "metadata": {},
   "source": [
    "# Отток клиентов"
   ]
  },
  {
   "cell_type": "markdown",
   "metadata": {},
   "source": [
    "Из банка стали уходить клиенты. Каждый месяц. Немного, но заметно. Банковские маркетологи посчитали: сохранять текущих клиентов дешевле, чем привлекать новых.\n",
    "\n",
    "Нужно спрогнозировать, уйдёт клиент из банка в ближайшее время или нет. Предоставлены исторические данные о поведении клиентов и расторжении договоров с банком. \n",
    "\n",
    "Необходимо построить модель с предельно большим значением *F1*-меры. Пороговое значение метрики - не менее 0.59. \n",
    "\n",
    "Источник данных: [https://www.kaggle.com/barelydedicated/bank-customer-churn-modeling](https://www.kaggle.com/barelydedicated/bank-customer-churn-modeling)"
   ]
  },
  {
   "cell_type": "markdown",
   "metadata": {},
   "source": [
    "**Описание данных**\n",
    "\n",
    "Признаки:\n",
    "- RowNumber — индекс строки в данных\n",
    "- CustomerId — уникальный идентификатор клиента\n",
    "- Surname — фамилия\n",
    "- CreditScore — кредитный рейтинг\n",
    "- Geography — страна проживания\n",
    "- Gender — пол\n",
    "- Age — возраст\n",
    "- Tenure — сколько лет человек является клиентом банка\n",
    "- Balance — баланс на счёте\n",
    "- NumOfProducts — количество продуктов банка, используемых клиентом\n",
    "- HasCrCard — наличие кредитной карты\n",
    "- IsActiveMember — активность клиента\n",
    "- EstimatedSalary — предполагаемая зарплата\n",
    "\n",
    "Целевой признак:\n",
    "- Exited — факт ухода клиента"
   ]
  },
  {
   "cell_type": "markdown",
   "metadata": {},
   "source": [
    "## Подготовка данных"
   ]
  },
  {
   "cell_type": "code",
   "execution_count": 1,
   "metadata": {},
   "outputs": [],
   "source": [
    "# импорт библиотек\n",
    "import pandas as pd\n",
    "import numpy as np\n",
    "import matplotlib.pyplot as plt\n",
    "\n",
    "# импорт моделей\n",
    "from sklearn.tree import DecisionTreeClassifier\n",
    "from sklearn.ensemble import RandomForestClassifier\n",
    "from sklearn.linear_model import LogisticRegression\n",
    "from sklearn.dummy import DummyClassifier\n",
    "\n",
    "# импорт инструментов и метрик для исследования\n",
    "from sklearn.model_selection import train_test_split\n",
    "from sklearn.preprocessing import StandardScaler\n",
    "иfrom sklearn.utils import shuffle\n",
    "from sklearn.metrics import accuracy_score, precision_score, recall_score, f1_score, confusion_matrix, roc_curve, roc_auc_score"
   ]
  },
  {
   "cell_type": "markdown",
   "metadata": {},
   "source": [
    "Сохраним файл в переменную df и изучим первые пять строк таблицы."
   ]
  },
  {
   "cell_type": "code",
   "execution_count": 2,
   "metadata": {},
   "outputs": [],
   "source": [
    "df = pd.read_csv('Churn.csv')"
   ]
  },
  {
   "cell_type": "code",
   "execution_count": 3,
   "metadata": {},
   "outputs": [
    {
     "data": {
      "text/html": [
       "<div>\n",
       "<style scoped>\n",
       "    .dataframe tbody tr th:only-of-type {\n",
       "        vertical-align: middle;\n",
       "    }\n",
       "\n",
       "    .dataframe tbody tr th {\n",
       "        vertical-align: top;\n",
       "    }\n",
       "\n",
       "    .dataframe thead th {\n",
       "        text-align: right;\n",
       "    }\n",
       "</style>\n",
       "<table border=\"1\" class=\"dataframe\">\n",
       "  <thead>\n",
       "    <tr style=\"text-align: right;\">\n",
       "      <th></th>\n",
       "      <th>RowNumber</th>\n",
       "      <th>CustomerId</th>\n",
       "      <th>Surname</th>\n",
       "      <th>CreditScore</th>\n",
       "      <th>Geography</th>\n",
       "      <th>Gender</th>\n",
       "      <th>Age</th>\n",
       "      <th>Tenure</th>\n",
       "      <th>Balance</th>\n",
       "      <th>NumOfProducts</th>\n",
       "      <th>HasCrCard</th>\n",
       "      <th>IsActiveMember</th>\n",
       "      <th>EstimatedSalary</th>\n",
       "      <th>Exited</th>\n",
       "    </tr>\n",
       "  </thead>\n",
       "  <tbody>\n",
       "    <tr>\n",
       "      <th>0</th>\n",
       "      <td>1</td>\n",
       "      <td>15634602</td>\n",
       "      <td>Hargrave</td>\n",
       "      <td>619</td>\n",
       "      <td>France</td>\n",
       "      <td>Female</td>\n",
       "      <td>42</td>\n",
       "      <td>2.0</td>\n",
       "      <td>0.00</td>\n",
       "      <td>1</td>\n",
       "      <td>1</td>\n",
       "      <td>1</td>\n",
       "      <td>101348.88</td>\n",
       "      <td>1</td>\n",
       "    </tr>\n",
       "    <tr>\n",
       "      <th>1</th>\n",
       "      <td>2</td>\n",
       "      <td>15647311</td>\n",
       "      <td>Hill</td>\n",
       "      <td>608</td>\n",
       "      <td>Spain</td>\n",
       "      <td>Female</td>\n",
       "      <td>41</td>\n",
       "      <td>1.0</td>\n",
       "      <td>83807.86</td>\n",
       "      <td>1</td>\n",
       "      <td>0</td>\n",
       "      <td>1</td>\n",
       "      <td>112542.58</td>\n",
       "      <td>0</td>\n",
       "    </tr>\n",
       "    <tr>\n",
       "      <th>2</th>\n",
       "      <td>3</td>\n",
       "      <td>15619304</td>\n",
       "      <td>Onio</td>\n",
       "      <td>502</td>\n",
       "      <td>France</td>\n",
       "      <td>Female</td>\n",
       "      <td>42</td>\n",
       "      <td>8.0</td>\n",
       "      <td>159660.80</td>\n",
       "      <td>3</td>\n",
       "      <td>1</td>\n",
       "      <td>0</td>\n",
       "      <td>113931.57</td>\n",
       "      <td>1</td>\n",
       "    </tr>\n",
       "    <tr>\n",
       "      <th>3</th>\n",
       "      <td>4</td>\n",
       "      <td>15701354</td>\n",
       "      <td>Boni</td>\n",
       "      <td>699</td>\n",
       "      <td>France</td>\n",
       "      <td>Female</td>\n",
       "      <td>39</td>\n",
       "      <td>1.0</td>\n",
       "      <td>0.00</td>\n",
       "      <td>2</td>\n",
       "      <td>0</td>\n",
       "      <td>0</td>\n",
       "      <td>93826.63</td>\n",
       "      <td>0</td>\n",
       "    </tr>\n",
       "    <tr>\n",
       "      <th>4</th>\n",
       "      <td>5</td>\n",
       "      <td>15737888</td>\n",
       "      <td>Mitchell</td>\n",
       "      <td>850</td>\n",
       "      <td>Spain</td>\n",
       "      <td>Female</td>\n",
       "      <td>43</td>\n",
       "      <td>2.0</td>\n",
       "      <td>125510.82</td>\n",
       "      <td>1</td>\n",
       "      <td>1</td>\n",
       "      <td>1</td>\n",
       "      <td>79084.10</td>\n",
       "      <td>0</td>\n",
       "    </tr>\n",
       "  </tbody>\n",
       "</table>\n",
       "</div>"
      ],
      "text/plain": [
       "   RowNumber  CustomerId   Surname  CreditScore Geography  Gender  Age  \\\n",
       "0          1    15634602  Hargrave          619    France  Female   42   \n",
       "1          2    15647311      Hill          608     Spain  Female   41   \n",
       "2          3    15619304      Onio          502    France  Female   42   \n",
       "3          4    15701354      Boni          699    France  Female   39   \n",
       "4          5    15737888  Mitchell          850     Spain  Female   43   \n",
       "\n",
       "   Tenure    Balance  NumOfProducts  HasCrCard  IsActiveMember  \\\n",
       "0     2.0       0.00              1          1               1   \n",
       "1     1.0   83807.86              1          0               1   \n",
       "2     8.0  159660.80              3          1               0   \n",
       "3     1.0       0.00              2          0               0   \n",
       "4     2.0  125510.82              1          1               1   \n",
       "\n",
       "   EstimatedSalary  Exited  \n",
       "0        101348.88       1  \n",
       "1        112542.58       0  \n",
       "2        113931.57       1  \n",
       "3         93826.63       0  \n",
       "4         79084.10       0  "
      ]
     },
     "execution_count": 3,
     "metadata": {},
     "output_type": "execute_result"
    }
   ],
   "source": [
    "df.head()"
   ]
  },
  {
   "cell_type": "markdown",
   "metadata": {},
   "source": [
    "Также изучим основную информацию о таблице."
   ]
  },
  {
   "cell_type": "code",
   "execution_count": 4,
   "metadata": {},
   "outputs": [
    {
     "name": "stdout",
     "output_type": "stream",
     "text": [
      "<class 'pandas.core.frame.DataFrame'>\n",
      "RangeIndex: 10000 entries, 0 to 9999\n",
      "Data columns (total 14 columns):\n",
      " #   Column           Non-Null Count  Dtype  \n",
      "---  ------           --------------  -----  \n",
      " 0   RowNumber        10000 non-null  int64  \n",
      " 1   CustomerId       10000 non-null  int64  \n",
      " 2   Surname          10000 non-null  object \n",
      " 3   CreditScore      10000 non-null  int64  \n",
      " 4   Geography        10000 non-null  object \n",
      " 5   Gender           10000 non-null  object \n",
      " 6   Age              10000 non-null  int64  \n",
      " 7   Tenure           9091 non-null   float64\n",
      " 8   Balance          10000 non-null  float64\n",
      " 9   NumOfProducts    10000 non-null  int64  \n",
      " 10  HasCrCard        10000 non-null  int64  \n",
      " 11  IsActiveMember   10000 non-null  int64  \n",
      " 12  EstimatedSalary  10000 non-null  float64\n",
      " 13  Exited           10000 non-null  int64  \n",
      "dtypes: float64(3), int64(8), object(3)\n",
      "memory usage: 1.1+ MB\n"
     ]
    }
   ],
   "source": [
    "df.info()"
   ]
  },
  {
   "cell_type": "markdown",
   "metadata": {},
   "source": [
    "Все столбцы имеют корректный тип данных. В столбце Tenure довольно большое количество пропусков (около 10%). Также названия столбцов не приведены к змеиному регистру. Исправим это."
   ]
  },
  {
   "cell_type": "code",
   "execution_count": 5,
   "metadata": {},
   "outputs": [],
   "source": [
    "df = df.rename(columns={\n",
    "    'RowNumber': 'Row_Number',\n",
    "    'CustomerId': 'Customer_Id',\n",
    "    'CreditScore': 'Credit_Score', \n",
    "    'NumOfProducts': 'Num_Of_Products', \n",
    "    'HasCrCard': 'Has_Cr_Card', \n",
    "    'IsActiveMember': 'Is_Active_Member', \n",
    "    'EstimatedSalary': 'Estimated_Salary'\n",
    "    }\n",
    ")"
   ]
  },
  {
   "cell_type": "code",
   "execution_count": 6,
   "metadata": {},
   "outputs": [],
   "source": [
    "df.columns = df.columns.str.lower()"
   ]
  },
  {
   "cell_type": "markdown",
   "metadata": {},
   "source": [
    "Для проверки выведем на экран скорректированные названия столбцов."
   ]
  },
  {
   "cell_type": "code",
   "execution_count": 7,
   "metadata": {
    "scrolled": true
   },
   "outputs": [
    {
     "data": {
      "text/plain": [
       "Index(['row_number', 'customer_id', 'surname', 'credit_score', 'geography',\n",
       "       'gender', 'age', 'tenure', 'balance', 'num_of_products', 'has_cr_card',\n",
       "       'is_active_member', 'estimated_salary', 'exited'],\n",
       "      dtype='object')"
      ]
     },
     "execution_count": 7,
     "metadata": {},
     "output_type": "execute_result"
    }
   ],
   "source": [
    "df.columns"
   ]
  },
  {
   "cell_type": "markdown",
   "metadata": {},
   "source": [
    "Проверим наличие дубликатов в таблице по связке customer_id-surname."
   ]
  },
  {
   "cell_type": "code",
   "execution_count": 8,
   "metadata": {},
   "outputs": [
    {
     "data": {
      "text/html": [
       "<div>\n",
       "<style scoped>\n",
       "    .dataframe tbody tr th:only-of-type {\n",
       "        vertical-align: middle;\n",
       "    }\n",
       "\n",
       "    .dataframe tbody tr th {\n",
       "        vertical-align: top;\n",
       "    }\n",
       "\n",
       "    .dataframe thead th {\n",
       "        text-align: right;\n",
       "    }\n",
       "</style>\n",
       "<table border=\"1\" class=\"dataframe\">\n",
       "  <thead>\n",
       "    <tr style=\"text-align: right;\">\n",
       "      <th></th>\n",
       "      <th>row_number</th>\n",
       "      <th>customer_id</th>\n",
       "      <th>surname</th>\n",
       "      <th>credit_score</th>\n",
       "      <th>geography</th>\n",
       "      <th>gender</th>\n",
       "      <th>age</th>\n",
       "      <th>tenure</th>\n",
       "      <th>balance</th>\n",
       "      <th>num_of_products</th>\n",
       "      <th>has_cr_card</th>\n",
       "      <th>is_active_member</th>\n",
       "      <th>estimated_salary</th>\n",
       "      <th>exited</th>\n",
       "    </tr>\n",
       "  </thead>\n",
       "  <tbody>\n",
       "  </tbody>\n",
       "</table>\n",
       "</div>"
      ],
      "text/plain": [
       "Empty DataFrame\n",
       "Columns: [row_number, customer_id, surname, credit_score, geography, gender, age, tenure, balance, num_of_products, has_cr_card, is_active_member, estimated_salary, exited]\n",
       "Index: []"
      ]
     },
     "execution_count": 8,
     "metadata": {},
     "output_type": "execute_result"
    }
   ],
   "source": [
    "df[df.duplicated(subset=['customer_id', 'surname'], keep=False)]"
   ]
  },
  {
   "cell_type": "markdown",
   "metadata": {},
   "source": [
    "Дубликатов нет. Удалим столбцы row_number, customer_id, surname, т.к. в них содержатся уникальные значения и они нам не понадобятся для построения моделей."
   ]
  },
  {
   "cell_type": "code",
   "execution_count": 9,
   "metadata": {},
   "outputs": [],
   "source": [
    "df = df.drop(['row_number', 'customer_id', 'surname'], axis=1)"
   ]
  },
  {
   "cell_type": "markdown",
   "metadata": {},
   "source": [
    "Рассмотрим уникальные значения в остальных столбцых и распределение данных в них для выявления аномалий."
   ]
  },
  {
   "cell_type": "code",
   "execution_count": 10,
   "metadata": {},
   "outputs": [
    {
     "data": {
      "text/plain": [
       "France     0.5014\n",
       "Germany    0.2509\n",
       "Spain      0.2477\n",
       "Name: geography, dtype: float64"
      ]
     },
     "execution_count": 10,
     "metadata": {},
     "output_type": "execute_result"
    }
   ],
   "source": [
    "df['geography'].value_counts(normalize=True)"
   ]
  },
  {
   "cell_type": "code",
   "execution_count": 11,
   "metadata": {},
   "outputs": [
    {
     "data": {
      "text/plain": [
       "Male      0.5457\n",
       "Female    0.4543\n",
       "Name: gender, dtype: float64"
      ]
     },
     "execution_count": 11,
     "metadata": {},
     "output_type": "execute_result"
    }
   ],
   "source": [
    "df['gender'].value_counts(normalize=True)"
   ]
  },
  {
   "cell_type": "code",
   "execution_count": 12,
   "metadata": {
    "scrolled": true
   },
   "outputs": [
    {
     "data": {
      "text/plain": [
       "array([42, 41, 39, 43, 44, 50, 29, 27, 31, 24, 34, 25, 35, 45, 58, 32, 38,\n",
       "       46, 36, 33, 40, 51, 61, 49, 37, 19, 66, 56, 26, 21, 55, 75, 22, 30,\n",
       "       28, 65, 48, 52, 57, 73, 47, 54, 72, 20, 67, 79, 62, 53, 80, 59, 68,\n",
       "       23, 60, 70, 63, 64, 18, 82, 69, 74, 71, 76, 77, 88, 85, 84, 78, 81,\n",
       "       92, 83])"
      ]
     },
     "execution_count": 12,
     "metadata": {},
     "output_type": "execute_result"
    }
   ],
   "source": [
    "df['age'].unique()"
   ]
  },
  {
   "cell_type": "code",
   "execution_count": 13,
   "metadata": {},
   "outputs": [
    {
     "data": {
      "text/plain": [
       "1    0.5084\n",
       "2    0.4590\n",
       "3    0.0266\n",
       "4    0.0060\n",
       "Name: num_of_products, dtype: float64"
      ]
     },
     "execution_count": 13,
     "metadata": {},
     "output_type": "execute_result"
    }
   ],
   "source": [
    "df['num_of_products'].value_counts(normalize=True)"
   ]
  },
  {
   "cell_type": "code",
   "execution_count": 14,
   "metadata": {},
   "outputs": [
    {
     "data": {
      "text/plain": [
       "1    0.7055\n",
       "0    0.2945\n",
       "Name: has_cr_card, dtype: float64"
      ]
     },
     "execution_count": 14,
     "metadata": {},
     "output_type": "execute_result"
    }
   ],
   "source": [
    "df['has_cr_card'].value_counts(normalize=True)"
   ]
  },
  {
   "cell_type": "code",
   "execution_count": 15,
   "metadata": {},
   "outputs": [
    {
     "data": {
      "text/plain": [
       "1    0.5151\n",
       "0    0.4849\n",
       "Name: is_active_member, dtype: float64"
      ]
     },
     "execution_count": 15,
     "metadata": {},
     "output_type": "execute_result"
    }
   ],
   "source": [
    "df['is_active_member'].value_counts(normalize=True)"
   ]
  },
  {
   "cell_type": "markdown",
   "metadata": {},
   "source": [
    "В стобцах geography, gender, age, num_of_products, has_cr_card, is_active_member нет аномальных значений. Распределение данных не вызывает вопросов."
   ]
  },
  {
   "cell_type": "markdown",
   "metadata": {},
   "source": [
    "Также взглянем на распределение данных в целевом признаке exited."
   ]
  },
  {
   "cell_type": "code",
   "execution_count": 16,
   "metadata": {
    "scrolled": true
   },
   "outputs": [
    {
     "data": {
      "text/plain": [
       "0    0.7963\n",
       "1    0.2037\n",
       "Name: exited, dtype: float64"
      ]
     },
     "execution_count": 16,
     "metadata": {},
     "output_type": "execute_result"
    }
   ],
   "source": [
    "df['exited'].value_counts(normalize=True)"
   ]
  },
  {
   "cell_type": "markdown",
   "metadata": {},
   "source": [
    "Чуть больше 20% клиентов из нашей выборки ушли из банка. Соответственно, accuracy дефолтной модели, которая для всех клиентов предсказывает, что они не уйдут из банка, составит 0.7963."
   ]
  },
  {
   "cell_type": "markdown",
   "metadata": {},
   "source": [
    "Теперь рассмотрим на распределение данных в столбце с пропусками - tenure."
   ]
  },
  {
   "cell_type": "code",
   "execution_count": 17,
   "metadata": {},
   "outputs": [
    {
     "data": {
      "text/plain": [
       "1.0     0.104719\n",
       "2.0     0.104499\n",
       "8.0     0.102629\n",
       "3.0     0.102079\n",
       "5.0     0.101969\n",
       "7.0     0.101749\n",
       "4.0     0.097349\n",
       "9.0     0.097019\n",
       "6.0     0.096909\n",
       "10.0    0.049060\n",
       "0.0     0.042020\n",
       "Name: tenure, dtype: float64"
      ]
     },
     "execution_count": 17,
     "metadata": {},
     "output_type": "execute_result"
    }
   ],
   "source": [
    "df['tenure'].value_counts(normalize=True)"
   ]
  },
  {
   "cell_type": "markdown",
   "metadata": {},
   "source": [
    "Похоже, что данные распределены нормально. Проверим это с помощью графика."
   ]
  },
  {
   "cell_type": "code",
   "execution_count": 18,
   "metadata": {},
   "outputs": [
    {
     "data": {
      "image/png": "[encoded data removed]",
      "text/plain": [
       "<Figure size 432x288 with 1 Axes>"
      ]
     },
     "metadata": {
      "needs_background": "light"
     },
     "output_type": "display_data"
    }
   ],
   "source": [
    "df['tenure'].hist(bins=11)\n",
    "plt.title('Cколько лет человек является клиентом банка')\n",
    "plt.xlabel('Количество лет')\n",
    "plt.ylabel('Количество клиентов')\n",
    "plt.show()"
   ]
  },
  {
   "cell_type": "markdown",
   "metadata": {},
   "source": [
    "Также изучим первые 15 строк выборки, где пропущено значение в столбце tenure."
   ]
  },
  {
   "cell_type": "code",
   "execution_count": 19,
   "metadata": {},
   "outputs": [
    {
     "data": {
      "text/html": [
       "<div>\n",
       "<style scoped>\n",
       "    .dataframe tbody tr th:only-of-type {\n",
       "        vertical-align: middle;\n",
       "    }\n",
       "\n",
       "    .dataframe tbody tr th {\n",
       "        vertical-align: top;\n",
       "    }\n",
       "\n",
       "    .dataframe thead th {\n",
       "        text-align: right;\n",
       "    }\n",
       "</style>\n",
       "<table border=\"1\" class=\"dataframe\">\n",
       "  <thead>\n",
       "    <tr style=\"text-align: right;\">\n",
       "      <th></th>\n",
       "      <th>credit_score</th>\n",
       "      <th>geography</th>\n",
       "      <th>gender</th>\n",
       "      <th>age</th>\n",
       "      <th>tenure</th>\n",
       "      <th>balance</th>\n",
       "      <th>num_of_products</th>\n",
       "      <th>has_cr_card</th>\n",
       "      <th>is_active_member</th>\n",
       "      <th>estimated_salary</th>\n",
       "      <th>exited</th>\n",
       "    </tr>\n",
       "  </thead>\n",
       "  <tbody>\n",
       "    <tr>\n",
       "      <th>30</th>\n",
       "      <td>591</td>\n",
       "      <td>Spain</td>\n",
       "      <td>Female</td>\n",
       "      <td>39</td>\n",
       "      <td>NaN</td>\n",
       "      <td>0.00</td>\n",
       "      <td>3</td>\n",
       "      <td>1</td>\n",
       "      <td>0</td>\n",
       "      <td>140469.38</td>\n",
       "      <td>1</td>\n",
       "    </tr>\n",
       "    <tr>\n",
       "      <th>48</th>\n",
       "      <td>550</td>\n",
       "      <td>Germany</td>\n",
       "      <td>Male</td>\n",
       "      <td>38</td>\n",
       "      <td>NaN</td>\n",
       "      <td>103391.38</td>\n",
       "      <td>1</td>\n",
       "      <td>0</td>\n",
       "      <td>1</td>\n",
       "      <td>90878.13</td>\n",
       "      <td>0</td>\n",
       "    </tr>\n",
       "    <tr>\n",
       "      <th>51</th>\n",
       "      <td>585</td>\n",
       "      <td>Germany</td>\n",
       "      <td>Male</td>\n",
       "      <td>36</td>\n",
       "      <td>NaN</td>\n",
       "      <td>146050.97</td>\n",
       "      <td>2</td>\n",
       "      <td>0</td>\n",
       "      <td>0</td>\n",
       "      <td>86424.57</td>\n",
       "      <td>0</td>\n",
       "    </tr>\n",
       "    <tr>\n",
       "      <th>53</th>\n",
       "      <td>655</td>\n",
       "      <td>Germany</td>\n",
       "      <td>Male</td>\n",
       "      <td>41</td>\n",
       "      <td>NaN</td>\n",
       "      <td>125561.97</td>\n",
       "      <td>1</td>\n",
       "      <td>0</td>\n",
       "      <td>0</td>\n",
       "      <td>164040.94</td>\n",
       "      <td>1</td>\n",
       "    </tr>\n",
       "    <tr>\n",
       "      <th>60</th>\n",
       "      <td>742</td>\n",
       "      <td>Germany</td>\n",
       "      <td>Male</td>\n",
       "      <td>35</td>\n",
       "      <td>NaN</td>\n",
       "      <td>136857.00</td>\n",
       "      <td>1</td>\n",
       "      <td>0</td>\n",
       "      <td>0</td>\n",
       "      <td>84509.57</td>\n",
       "      <td>0</td>\n",
       "    </tr>\n",
       "    <tr>\n",
       "      <th>82</th>\n",
       "      <td>543</td>\n",
       "      <td>France</td>\n",
       "      <td>Female</td>\n",
       "      <td>36</td>\n",
       "      <td>NaN</td>\n",
       "      <td>0.00</td>\n",
       "      <td>2</td>\n",
       "      <td>0</td>\n",
       "      <td>0</td>\n",
       "      <td>26019.59</td>\n",
       "      <td>0</td>\n",
       "    </tr>\n",
       "    <tr>\n",
       "      <th>85</th>\n",
       "      <td>652</td>\n",
       "      <td>Spain</td>\n",
       "      <td>Female</td>\n",
       "      <td>75</td>\n",
       "      <td>NaN</td>\n",
       "      <td>0.00</td>\n",
       "      <td>2</td>\n",
       "      <td>1</td>\n",
       "      <td>1</td>\n",
       "      <td>114675.75</td>\n",
       "      <td>0</td>\n",
       "    </tr>\n",
       "    <tr>\n",
       "      <th>94</th>\n",
       "      <td>730</td>\n",
       "      <td>Spain</td>\n",
       "      <td>Male</td>\n",
       "      <td>42</td>\n",
       "      <td>NaN</td>\n",
       "      <td>0.00</td>\n",
       "      <td>2</td>\n",
       "      <td>0</td>\n",
       "      <td>1</td>\n",
       "      <td>85982.47</td>\n",
       "      <td>0</td>\n",
       "    </tr>\n",
       "    <tr>\n",
       "      <th>99</th>\n",
       "      <td>413</td>\n",
       "      <td>France</td>\n",
       "      <td>Male</td>\n",
       "      <td>34</td>\n",
       "      <td>NaN</td>\n",
       "      <td>0.00</td>\n",
       "      <td>2</td>\n",
       "      <td>0</td>\n",
       "      <td>0</td>\n",
       "      <td>6534.18</td>\n",
       "      <td>0</td>\n",
       "    </tr>\n",
       "    <tr>\n",
       "      <th>111</th>\n",
       "      <td>538</td>\n",
       "      <td>Germany</td>\n",
       "      <td>Male</td>\n",
       "      <td>39</td>\n",
       "      <td>NaN</td>\n",
       "      <td>108055.10</td>\n",
       "      <td>2</td>\n",
       "      <td>1</td>\n",
       "      <td>0</td>\n",
       "      <td>27231.26</td>\n",
       "      <td>0</td>\n",
       "    </tr>\n",
       "    <tr>\n",
       "      <th>123</th>\n",
       "      <td>684</td>\n",
       "      <td>Germany</td>\n",
       "      <td>Female</td>\n",
       "      <td>48</td>\n",
       "      <td>NaN</td>\n",
       "      <td>126384.42</td>\n",
       "      <td>1</td>\n",
       "      <td>1</td>\n",
       "      <td>1</td>\n",
       "      <td>198129.36</td>\n",
       "      <td>0</td>\n",
       "    </tr>\n",
       "    <tr>\n",
       "      <th>125</th>\n",
       "      <td>432</td>\n",
       "      <td>France</td>\n",
       "      <td>Male</td>\n",
       "      <td>42</td>\n",
       "      <td>NaN</td>\n",
       "      <td>152603.45</td>\n",
       "      <td>1</td>\n",
       "      <td>1</td>\n",
       "      <td>0</td>\n",
       "      <td>110265.24</td>\n",
       "      <td>1</td>\n",
       "    </tr>\n",
       "    <tr>\n",
       "      <th>146</th>\n",
       "      <td>635</td>\n",
       "      <td>Spain</td>\n",
       "      <td>Female</td>\n",
       "      <td>29</td>\n",
       "      <td>NaN</td>\n",
       "      <td>138296.94</td>\n",
       "      <td>2</td>\n",
       "      <td>1</td>\n",
       "      <td>0</td>\n",
       "      <td>141075.51</td>\n",
       "      <td>0</td>\n",
       "    </tr>\n",
       "    <tr>\n",
       "      <th>162</th>\n",
       "      <td>800</td>\n",
       "      <td>France</td>\n",
       "      <td>Female</td>\n",
       "      <td>49</td>\n",
       "      <td>NaN</td>\n",
       "      <td>108007.36</td>\n",
       "      <td>1</td>\n",
       "      <td>0</td>\n",
       "      <td>0</td>\n",
       "      <td>47125.11</td>\n",
       "      <td>0</td>\n",
       "    </tr>\n",
       "    <tr>\n",
       "      <th>173</th>\n",
       "      <td>578</td>\n",
       "      <td>France</td>\n",
       "      <td>Male</td>\n",
       "      <td>30</td>\n",
       "      <td>NaN</td>\n",
       "      <td>169462.09</td>\n",
       "      <td>1</td>\n",
       "      <td>1</td>\n",
       "      <td>0</td>\n",
       "      <td>112187.11</td>\n",
       "      <td>0</td>\n",
       "    </tr>\n",
       "  </tbody>\n",
       "</table>\n",
       "</div>"
      ],
      "text/plain": [
       "     credit_score geography  gender  age  tenure    balance  num_of_products  \\\n",
       "30            591     Spain  Female   39     NaN       0.00                3   \n",
       "48            550   Germany    Male   38     NaN  103391.38                1   \n",
       "51            585   Germany    Male   36     NaN  146050.97                2   \n",
       "53            655   Germany    Male   41     NaN  125561.97                1   \n",
       "60            742   Germany    Male   35     NaN  136857.00                1   \n",
       "82            543    France  Female   36     NaN       0.00                2   \n",
       "85            652     Spain  Female   75     NaN       0.00                2   \n",
       "94            730     Spain    Male   42     NaN       0.00                2   \n",
       "99            413    France    Male   34     NaN       0.00                2   \n",
       "111           538   Germany    Male   39     NaN  108055.10                2   \n",
       "123           684   Germany  Female   48     NaN  126384.42                1   \n",
       "125           432    France    Male   42     NaN  152603.45                1   \n",
       "146           635     Spain  Female   29     NaN  138296.94                2   \n",
       "162           800    France  Female   49     NaN  108007.36                1   \n",
       "173           578    France    Male   30     NaN  169462.09                1   \n",
       "\n",
       "     has_cr_card  is_active_member  estimated_salary  exited  \n",
       "30             1                 0         140469.38       1  \n",
       "48             0                 1          90878.13       0  \n",
       "51             0                 0          86424.57       0  \n",
       "53             0                 0         164040.94       1  \n",
       "60             0                 0          84509.57       0  \n",
       "82             0                 0          26019.59       0  \n",
       "85             1                 1         114675.75       0  \n",
       "94             0                 1          85982.47       0  \n",
       "99             0                 0           6534.18       0  \n",
       "111            1                 0          27231.26       0  \n",
       "123            1                 1         198129.36       0  \n",
       "125            1                 0         110265.24       1  \n",
       "146            1                 0         141075.51       0  \n",
       "162            0                 0          47125.11       0  \n",
       "173            1                 0         112187.11       0  "
      ]
     },
     "execution_count": 19,
     "metadata": {},
     "output_type": "execute_result"
    }
   ],
   "source": [
    "df[df['tenure'].isna()].head(15)"
   ]
  },
  {
   "cell_type": "markdown",
   "metadata": {},
   "source": [
    "Какие-либо закономерности для пропусков не выявлены. Учитывая, что данные в этом столбце нормально распределены, заменим пропуски случайными значениями от 0 до 10 с учетом веса этих значений в исходном файле."
   ]
  },
  {
   "cell_type": "code",
   "execution_count": 20,
   "metadata": {},
   "outputs": [],
   "source": [
    "random_items = df['tenure'].dropna().sample(n=df.shape[0], replace=True, random_state=12345).reset_index(drop=True)\n",
    "df['tenure'] = df['tenure'].fillna(random_items)"
   ]
  },
  {
   "cell_type": "markdown",
   "metadata": {},
   "source": [
    "Проверим наличие пропусков в столбце и повторно построим график по значениям столбца, чтобы проверить, что распределение осталось прежним."
   ]
  },
  {
   "cell_type": "code",
   "execution_count": 21,
   "metadata": {},
   "outputs": [
    {
     "data": {
      "text/plain": [
       "0"
      ]
     },
     "execution_count": 21,
     "metadata": {},
     "output_type": "execute_result"
    }
   ],
   "source": [
    "df['tenure'].isna().sum()"
   ]
  },
  {
   "cell_type": "code",
   "execution_count": 22,
   "metadata": {
    "scrolled": true
   },
   "outputs": [
    {
     "data": {
      "image/png": "[encoded data removed]",
      "text/plain": [
       "<Figure size 432x288 with 1 Axes>"
      ]
     },
     "metadata": {
      "needs_background": "light"
     },
     "output_type": "display_data"
    }
   ],
   "source": [
    "df['tenure'].hist(bins=11)\n",
    "plt.title('Cколько лет человек является клиентом банка')\n",
    "plt.xlabel('Количество лет')\n",
    "plt.ylabel('Количество клиентов')\n",
    "plt.show()"
   ]
  },
  {
   "cell_type": "markdown",
   "metadata": {},
   "source": [
    "Преобразуем категориальные признаки в численные с помощью прямого кодирования."
   ]
  },
  {
   "cell_type": "code",
   "execution_count": 23,
   "metadata": {},
   "outputs": [],
   "source": [
    "df = pd.get_dummies(df, drop_first=True)"
   ]
  },
  {
   "cell_type": "markdown",
   "metadata": {},
   "source": [
    "Разделим данные таблицы на признаки и целевой признак."
   ]
  },
  {
   "cell_type": "code",
   "execution_count": 24,
   "metadata": {},
   "outputs": [],
   "source": [
    "features = df.drop(['exited'], axis=1)\n",
    "target = df['exited']"
   ]
  },
  {
   "cell_type": "markdown",
   "metadata": {},
   "source": [
    "Теперь приведем все количественные признаки к одному масштабу."
   ]
  },
  {
   "cell_type": "code",
   "execution_count": 25,
   "metadata": {},
   "outputs": [],
   "source": [
    "numeric = ['credit_score', 'age', 'tenure', 'balance', 'num_of_products', 'estimated_salary']\n",
    "scaler = StandardScaler()\n",
    "scaler.fit(features[numeric])\n",
    "features[numeric] = scaler.transform(features[numeric])\n",
    "pd.options.mode.chained_assignment = None"
   ]
  },
  {
   "cell_type": "markdown",
   "metadata": {},
   "source": [
    "Разделим признаки и целевой признак на три выборки - обучающую, валидационную и тестовую."
   ]
  },
  {
   "cell_type": "code",
   "execution_count": 26,
   "metadata": {},
   "outputs": [],
   "source": [
    "features_new, features_test, target_new, target_test = train_test_split(\n",
    "    features, target, test_size=0.2, random_state=12345, stratify=target)"
   ]
  },
  {
   "cell_type": "code",
   "execution_count": 27,
   "metadata": {
    "scrolled": true
   },
   "outputs": [],
   "source": [
    "features_train, features_valid, target_train, target_valid = train_test_split(\n",
    "    features_new, target_new, test_size=0.25, random_state=12345, stratify=target_new)"
   ]
  },
  {
   "cell_type": "markdown",
   "metadata": {},
   "source": [
    "Проверим размеры полученных выборок."
   ]
  },
  {
   "cell_type": "code",
   "execution_count": 28,
   "metadata": {},
   "outputs": [
    {
     "data": {
      "text/plain": [
       "(6000, 11)"
      ]
     },
     "metadata": {},
     "output_type": "display_data"
    },
    {
     "data": {
      "text/plain": [
       "(6000,)"
      ]
     },
     "metadata": {},
     "output_type": "display_data"
    },
    {
     "data": {
      "text/plain": [
       "(2000, 11)"
      ]
     },
     "metadata": {},
     "output_type": "display_data"
    },
    {
     "data": {
      "text/plain": [
       "(2000,)"
      ]
     },
     "metadata": {},
     "output_type": "display_data"
    },
    {
     "data": {
      "text/plain": [
       "(2000, 11)"
      ]
     },
     "metadata": {},
     "output_type": "display_data"
    },
    {
     "data": {
      "text/plain": [
       "(2000,)"
      ]
     },
     "metadata": {},
     "output_type": "display_data"
    }
   ],
   "source": [
    "display(features_train.shape)\n",
    "display(target_train.shape)\n",
    "display(features_valid.shape)\n",
    "display(target_valid.shape)\n",
    "display(features_test.shape)\n",
    "display(target_test.shape)"
   ]
  },
  {
   "cell_type": "markdown",
   "metadata": {},
   "source": [
    "Данные готовы к исследованию. Приступим к построению моделей."
   ]
  },
  {
   "cell_type": "markdown",
   "metadata": {},
   "source": [
    "## Исследование задачи"
   ]
  },
  {
   "cell_type": "markdown",
   "metadata": {},
   "source": [
    "Ранее мы выявили несбалансированность классов в целевом признаке: количество клиентов, которые ушли из банка, в 4 раза меньше тех, которые остались."
   ]
  },
  {
   "cell_type": "markdown",
   "metadata": {},
   "source": [
    "Построим модель, которая по дефолту прогнозирует наиболее часто встречающееся значение целевого признака, т.е. что клиент не уйдет из банка."
   ]
  },
  {
   "cell_type": "code",
   "execution_count": 29,
   "metadata": {},
   "outputs": [],
   "source": [
    "model = DummyClassifier(strategy='most_frequent', random_state=12345)\n",
    "model.fit(features_train, target_train)\n",
    "predicted_valid = model.predict(features_valid)"
   ]
  },
  {
   "cell_type": "markdown",
   "metadata": {},
   "source": [
    "Так как положительные значения данная модель не предсказыват, по ней можно рассчитать только значение accuracy."
   ]
  },
  {
   "cell_type": "code",
   "execution_count": 30,
   "metadata": {},
   "outputs": [
    {
     "data": {
      "text/plain": [
       "0.7965"
      ]
     },
     "execution_count": 30,
     "metadata": {},
     "output_type": "execute_result"
    }
   ],
   "source": [
    "accuracy_score(target_valid, predicted_valid)"
   ]
  },
  {
   "cell_type": "markdown",
   "metadata": {},
   "source": [
    "Теперь построим несколько моделей по нашим данным, не балансируя классы, и изучим их метрики.\n",
    "\n",
    "Для начала создадим функцию, которая будет выводить все необходимые метрики для любой модели."
   ]
  },
  {
   "cell_type": "code",
   "execution_count": 31,
   "metadata": {},
   "outputs": [],
   "source": [
    "def metrics(model, features, target, predicted):\n",
    "    probabilities = model.predict_proba(features)\n",
    "    probabilities_one = probabilities[:, 1]\n",
    "    print('Доля правильных ответов:', accuracy_score(target, predicted))\n",
    "    print('Точность:', precision_score(target, predicted))\n",
    "    print('Полнота:', recall_score(target, predicted))\n",
    "    print('F1-мера:', f1_score(target, predicted))\n",
    "    print('Матрица ошибок:')\n",
    "    print(confusion_matrix(target, predicted))\n",
    "    print('AUC-ROC:', roc_auc_score(target, probabilities_one))\n",
    "    print('ROC-кривая:')\n",
    "    fpr, tpr, thresholds = roc_curve(target, probabilities_one)\n",
    "    plt.figure()\n",
    "    plt.plot(fpr, tpr)\n",
    "    plt.plot([0, 1], [0, 1], linestyle='--')\n",
    "    plt.xlim([0.0, 1.0])\n",
    "    plt.ylim([0.0, 1.0])\n",
    "    plt.xlabel('False Positive Rate')\n",
    "    plt.ylabel('True Positive Rate')\n",
    "    plt.title('ROC-кривая')\n",
    "    plt.show()"
   ]
  },
  {
   "cell_type": "markdown",
   "metadata": {},
   "source": [
    "### Логистическая регрессия ###"
   ]
  },
  {
   "cell_type": "markdown",
   "metadata": {},
   "source": [
    "Построим модель логистической регрессии."
   ]
  },
  {
   "cell_type": "code",
   "execution_count": 32,
   "metadata": {},
   "outputs": [
    {
     "name": "stdout",
     "output_type": "stream",
     "text": [
      "Доля правильных ответов: 0.8185\n",
      "Точность: 0.671875\n",
      "Полнота: 0.2113022113022113\n",
      "F1-мера: 0.3214953271028037\n",
      "Матрица ошибок:\n",
      "[[1551   42]\n",
      " [ 321   86]]\n",
      "AUC-ROC: 0.7874978213961265\n",
      "ROC-кривая:\n"
     ]
    },
    {
     "data": {
      "image/png": "[encoded data removed]",
      "text/plain": [
       "<Figure size 432x288 with 1 Axes>"
      ]
     },
     "metadata": {
      "needs_background": "light"
     },
     "output_type": "display_data"
    },
    {
     "name": "stdout",
     "output_type": "stream",
     "text": [
      "CPU times: user 199 ms, sys: 110 ms, total: 310 ms\n",
      "Wall time: 314 ms\n"
     ]
    }
   ],
   "source": [
    "%%time\n",
    "\n",
    "model = LogisticRegression(random_state=12345, solver='liblinear', max_iter=1000)\n",
    "model.fit(features_train, target_train)\n",
    "predicted_valid = model.predict(features_valid)\n",
    "metrics(model, features_valid, target_valid, predicted_valid)"
   ]
  },
  {
   "cell_type": "markdown",
   "metadata": {},
   "source": [
    "Значение accuracy совсем немного выше, чем на дефолтной модели. Показатели полноты и f1-меры крайне низкие."
   ]
  },
  {
   "cell_type": "markdown",
   "metadata": {},
   "source": [
    "### Дерево решений ###"
   ]
  },
  {
   "cell_type": "markdown",
   "metadata": {},
   "source": [
    "Посмотрим, какие показатели мы получим с помощью решающего дерева. Сначала подберем наилучшую глубину дерева."
   ]
  },
  {
   "cell_type": "code",
   "execution_count": 33,
   "metadata": {
    "scrolled": true
   },
   "outputs": [
    {
     "name": "stdout",
     "output_type": "stream",
     "text": [
      "CPU times: user 159 ms, sys: 400 µs, total: 160 ms\n",
      "Wall time: 164 ms\n"
     ]
    }
   ],
   "source": [
    "%%time\n",
    "\n",
    "best_model = None\n",
    "best_depth = 0\n",
    "best_accuracy = 0\n",
    "for depth in range(2, 12):\n",
    "    model = DecisionTreeClassifier(random_state=12345, max_depth=depth)\n",
    "    model.fit(features_train, target_train)\n",
    "    accuracy = model.score(features_valid, target_valid)\n",
    "    if accuracy > best_accuracy:\n",
    "        best_accuracy = accuracy\n",
    "        best_model = model\n",
    "        best_depth = depth"
   ]
  },
  {
   "cell_type": "code",
   "execution_count": 34,
   "metadata": {},
   "outputs": [
    {
     "name": "stdout",
     "output_type": "stream",
     "text": [
      "0.855\n",
      "7\n"
     ]
    }
   ],
   "source": [
    "print(best_accuracy)\n",
    "print(best_depth)"
   ]
  },
  {
   "cell_type": "markdown",
   "metadata": {},
   "source": [
    "Теперь построим модель с глубиной дерева равной 7 и изучим метрики."
   ]
  },
  {
   "cell_type": "code",
   "execution_count": 35,
   "metadata": {},
   "outputs": [
    {
     "name": "stdout",
     "output_type": "stream",
     "text": [
      "Доля правильных ответов: 0.855\n",
      "Точность: 0.7489361702127659\n",
      "Полнота: 0.43243243243243246\n",
      "F1-мера: 0.5482866043613708\n",
      "Матрица ошибок:\n",
      "[[1534   59]\n",
      " [ 231  176]]\n",
      "AUC-ROC: 0.8309997208302294\n",
      "ROC-кривая:\n"
     ]
    },
    {
     "data": {
      "image/png": "[encoded data removed]",
      "text/plain": [
       "<Figure size 432x288 with 1 Axes>"
      ]
     },
     "metadata": {
      "needs_background": "light"
     },
     "output_type": "display_data"
    },
    {
     "name": "stdout",
     "output_type": "stream",
     "text": [
      "CPU times: user 119 ms, sys: 20 ms, total: 139 ms\n",
      "Wall time: 142 ms\n"
     ]
    }
   ],
   "source": [
    "%%time\n",
    "\n",
    "model = DecisionTreeClassifier(random_state=12345, max_depth=7)\n",
    "model.fit(features_train, target_train)\n",
    "predicted_valid = model.predict(features_valid)\n",
    "metrics(model, features_valid, target_valid, predicted_valid)"
   ]
  },
  {
   "cell_type": "markdown",
   "metadata": {},
   "source": [
    "При использовании решающего дерева значение всех метрик выросло, особенно полнота и f1-мера."
   ]
  },
  {
   "cell_type": "markdown",
   "metadata": {},
   "source": [
    "### Случайный лес ###"
   ]
  },
  {
   "cell_type": "markdown",
   "metadata": {},
   "source": [
    "Перейдем к случайному лесу. Как и в случае решающего дерева, сначала подберем оптимальные гиперпараметры."
   ]
  },
  {
   "cell_type": "code",
   "execution_count": 36,
   "metadata": {},
   "outputs": [
    {
     "name": "stdout",
     "output_type": "stream",
     "text": [
      "CPU times: user 1min 16s, sys: 366 ms, total: 1min 16s\n",
      "Wall time: 1min 16s\n"
     ]
    }
   ],
   "source": [
    "%%time\n",
    "\n",
    "best_model = None\n",
    "best_depth = 0\n",
    "best_est = 0\n",
    "best_accuracy = 0\n",
    "for est in range(10, 200, 10):\n",
    "    for depth in range(2, 12):\n",
    "        model = RandomForestClassifier(random_state=12345, n_estimators=est, max_depth=depth, n_jobs=-1)\n",
    "        model.fit(features_train, target_train)\n",
    "        accuracy = model.score(features_valid, target_valid)\n",
    "        if accuracy > best_accuracy:\n",
    "            best_accuracy = accuracy\n",
    "            best_model = model\n",
    "            best_depth = depth\n",
    "            best_est = est"
   ]
  },
  {
   "cell_type": "code",
   "execution_count": 37,
   "metadata": {},
   "outputs": [
    {
     "name": "stdout",
     "output_type": "stream",
     "text": [
      "0.865\n",
      "10\n",
      "120\n"
     ]
    }
   ],
   "source": [
    "print(best_accuracy)\n",
    "print(best_depth)\n",
    "print(best_est)"
   ]
  },
  {
   "cell_type": "code",
   "execution_count": 38,
   "metadata": {},
   "outputs": [
    {
     "name": "stdout",
     "output_type": "stream",
     "text": [
      "Доля правильных ответов: 0.865\n",
      "Точность: 0.8374384236453202\n",
      "Полнота: 0.4176904176904177\n",
      "F1-мера: 0.5573770491803278\n",
      "Матрица ошибок:\n",
      "[[1560   33]\n",
      " [ 237  170]]\n",
      "AUC-ROC: 0.871745397169126\n",
      "ROC-кривая:\n"
     ]
    },
    {
     "data": {
      "image/png": "[encoded data removed]",
      "text/plain": [
       "<Figure size 432x288 with 1 Axes>"
      ]
     },
     "metadata": {
      "needs_background": "light"
     },
     "output_type": "display_data"
    },
    {
     "name": "stdout",
     "output_type": "stream",
     "text": [
      "CPU times: user 780 ms, sys: 11.9 ms, total: 792 ms\n",
      "Wall time: 797 ms\n"
     ]
    }
   ],
   "source": [
    "%%time\n",
    "\n",
    "model = RandomForestClassifier(random_state=12345, n_estimators=120, max_depth=10, n_jobs=-1)\n",
    "model.fit(features_train, target_train)\n",
    "predicted_valid = model.predict(features_valid)\n",
    "metrics(model, features_valid, target_valid, predicted_valid)"
   ]
  },
  {
   "cell_type": "markdown",
   "metadata": {},
   "source": [
    "При использование случайного леса все метрики, кроме полноты, немного повысились по сравнению с решающим деревом. Однако значение f1-меры по-прежнему не достигает целевого 0.59."
   ]
  },
  {
   "cell_type": "markdown",
   "metadata": {},
   "source": [
    "Попробуем повысить значения метрик путем балансировки классов. В дальнейшем исследовании возьмем за основу модель случайного леса с подобранными гиперпараметрами: глубина 10 и количество деревьев 120."
   ]
  },
  {
   "cell_type": "markdown",
   "metadata": {},
   "source": [
    "## Борьба с дисбалансом"
   ]
  },
  {
   "cell_type": "markdown",
   "metadata": {},
   "source": [
    "### Взвешивание классов ###"
   ]
  },
  {
   "cell_type": "markdown",
   "metadata": {},
   "source": [
    "В первую очередь попробуем метод взвешивания классов при построении модели."
   ]
  },
  {
   "cell_type": "code",
   "execution_count": 39,
   "metadata": {},
   "outputs": [
    {
     "name": "stdout",
     "output_type": "stream",
     "text": [
      "Доля правильных ответов: 0.847\n",
      "Точность: 0.6188235294117647\n",
      "Полнота: 0.6461916461916462\n",
      "F1-мера: 0.6322115384615384\n",
      "Матрица ошибок:\n",
      "[[1431  162]\n",
      " [ 144  263]]\n",
      "AUC-ROC: 0.8688966316084958\n",
      "ROC-кривая:\n"
     ]
    },
    {
     "data": {
      "image/png": "[encoded data removed]",
      "text/plain": [
       "<Figure size 432x288 with 1 Axes>"
      ]
     },
     "metadata": {
      "needs_background": "light"
     },
     "output_type": "display_data"
    },
    {
     "name": "stdout",
     "output_type": "stream",
     "text": [
      "CPU times: user 766 ms, sys: 3.93 ms, total: 770 ms\n",
      "Wall time: 779 ms\n"
     ]
    }
   ],
   "source": [
    "%%time\n",
    "\n",
    "model = RandomForestClassifier(random_state=12345, n_estimators=120, max_depth=10, n_jobs=-1, class_weight='balanced')\n",
    "model.fit(features_train, target_train)\n",
    "predicted_valid = model.predict(features_valid)\n",
    "metrics(model, features_valid, target_valid, predicted_valid)"
   ]
  },
  {
   "cell_type": "markdown",
   "metadata": {},
   "source": [
    "Взвешивание классов помогло повысить f1-меру до 0.63. До балансировки классов такого значения достичь не удавалось."
   ]
  },
  {
   "cell_type": "markdown",
   "metadata": {},
   "source": [
    "### Увеличение выборки ###"
   ]
  },
  {
   "cell_type": "markdown",
   "metadata": {},
   "source": [
    "Теперь приведем классы к одинаковому размеру путем увеличения класса, в котором содержится меньше объектов (клиенты, которые ушли из банка)."
   ]
  },
  {
   "cell_type": "code",
   "execution_count": 40,
   "metadata": {},
   "outputs": [],
   "source": [
    "features_upsampled = pd.concat([features_train[target_train == 0]] + [features_train[target_train == 1]] * 4)\n",
    "target_upsampled = pd.concat([target_train[target_train == 0]] + [target_train[target_train == 1]] * 4)\n",
    "features_upsampled, target_upsampled = shuffle(features_upsampled, target_upsampled, random_state=12345)"
   ]
  },
  {
   "cell_type": "code",
   "execution_count": 41,
   "metadata": {},
   "outputs": [
    {
     "name": "stdout",
     "output_type": "stream",
     "text": [
      "Доля правильных ответов: 0.829\n",
      "Точность: 0.5623800383877159\n",
      "Полнота: 0.7199017199017199\n",
      "F1-мера: 0.6314655172413792\n",
      "Матрица ошибок:\n",
      "[[1365  228]\n",
      " [ 114  293]]\n",
      "AUC-ROC: 0.869188140374581\n",
      "ROC-кривая:\n"
     ]
    },
    {
     "data": {
      "image/png": "[encoded data removed]",
      "text/plain": [
       "<Figure size 432x288 with 1 Axes>"
      ]
     },
     "metadata": {
      "needs_background": "light"
     },
     "output_type": "display_data"
    },
    {
     "name": "stdout",
     "output_type": "stream",
     "text": [
      "CPU times: user 976 ms, sys: 11.9 ms, total: 988 ms\n",
      "Wall time: 1 s\n"
     ]
    }
   ],
   "source": [
    "%%time\n",
    "\n",
    "model = RandomForestClassifier(random_state=12345, n_estimators=120, max_depth=10, n_jobs=-1)\n",
    "model.fit(features_upsampled, target_upsampled)\n",
    "predicted_valid = model.predict(features_valid)\n",
    "metrics(model, features_valid, target_valid, predicted_valid)"
   ]
  },
  {
   "cell_type": "markdown",
   "metadata": {},
   "source": [
    "В данном случае значение f1-меры немного ниже, чем при взвещивании классов, а значение AUC-ROC немного выше."
   ]
  },
  {
   "cell_type": "markdown",
   "metadata": {},
   "source": [
    "### Уменьшение выборки ###"
   ]
  },
  {
   "cell_type": "markdown",
   "metadata": {},
   "source": [
    "Теперь попробуем уменьшить класс, в котором меньше объектов, чтобы привести классы к одному размеру."
   ]
  },
  {
   "cell_type": "code",
   "execution_count": 42,
   "metadata": {},
   "outputs": [],
   "source": [
    "features_downsampled = pd.concat(\n",
    "    [features_train[target_train == 0].sample(frac=0.25, random_state=12345)] + [features_train[target_train == 1]])\n",
    "target_downsampled = pd.concat(\n",
    "    [target_train[target_train == 0].sample(frac=0.25, random_state=12345)] + [target_train[target_train == 1]])\n",
    "features_downsampled, target_downsampled = shuffle(features_downsampled, target_downsampled, random_state=12345)"
   ]
  },
  {
   "cell_type": "code",
   "execution_count": 43,
   "metadata": {},
   "outputs": [
    {
     "name": "stdout",
     "output_type": "stream",
     "text": [
      "Доля правильных ответов: 0.8015\n",
      "Точность: 0.5082236842105263\n",
      "Полнота: 0.7592137592137592\n",
      "F1-мера: 0.6088669950738917\n",
      "Матрица ошибок:\n",
      "[[1294  299]\n",
      " [  98  309]]\n",
      "AUC-ROC: 0.8700534124262937\n",
      "ROC-кривая:\n"
     ]
    },
    {
     "data": {
      "image/png": "[encoded data removed]",
      "text/plain": [
       "<Figure size 432x288 with 1 Axes>"
      ]
     },
     "metadata": {
      "needs_background": "light"
     },
     "output_type": "display_data"
    },
    {
     "name": "stdout",
     "output_type": "stream",
     "text": [
      "CPU times: user 498 ms, sys: 7.97 ms, total: 506 ms\n",
      "Wall time: 508 ms\n"
     ]
    }
   ],
   "source": [
    "%%time\n",
    "\n",
    "model = RandomForestClassifier(random_state=12345, n_estimators=120, max_depth=10, n_jobs=-1)\n",
    "model.fit(features_downsampled, target_downsampled)\n",
    "predicted_valid = model.predict(features_valid)\n",
    "metrics(model, features_valid, target_valid, predicted_valid)"
   ]
  },
  {
   "cell_type": "markdown",
   "metadata": {},
   "source": [
    "Несмотря на увеличение метрики AUC-ROC, f1-мера заметно снизилась."
   ]
  },
  {
   "cell_type": "markdown",
   "metadata": {},
   "source": [
    "### Изменение порога ###"
   ]
  },
  {
   "cell_type": "markdown",
   "metadata": {},
   "source": [
    "Теперь попробуем снизить порог классификации, проверим значения точности, полноты и f1-меры для значений порога от 0.1 до 0.5 с шагом 0.02."
   ]
  },
  {
   "cell_type": "code",
   "execution_count": 44,
   "metadata": {},
   "outputs": [
    {
     "name": "stdout",
     "output_type": "stream",
     "text": [
      "Порог = 0.10 | Точность = 0.325, Полнота = 0.936, F1-мера = 0.482\n",
      "Порог = 0.12 | Точность = 0.354, Полнота = 0.904, F1-мера = 0.509\n",
      "Порог = 0.14 | Точность = 0.379, Полнота = 0.865, F1-мера = 0.527\n",
      "Порог = 0.16 | Точность = 0.413, Полнота = 0.843, F1-мера = 0.554\n",
      "Порог = 0.18 | Точность = 0.451, Полнота = 0.816, F1-мера = 0.581\n",
      "Порог = 0.20 | Точность = 0.491, Полнота = 0.803, F1-мера = 0.610\n",
      "Порог = 0.22 | Точность = 0.515, Полнота = 0.762, F1-мера = 0.614\n",
      "Порог = 0.24 | Точность = 0.552, Полнота = 0.740, F1-мера = 0.632\n",
      "Порог = 0.26 | Точность = 0.569, Полнота = 0.708, F1-мера = 0.631\n",
      "Порог = 0.28 | Точность = 0.591, Полнота = 0.673, F1-мера = 0.629\n",
      "Порог = 0.30 | Точность = 0.609, Полнота = 0.651, F1-мера = 0.629\n",
      "Порог = 0.32 | Точность = 0.642, Полнота = 0.612, F1-мера = 0.626\n",
      "Порог = 0.34 | Точность = 0.671, Полнота = 0.587, F1-мера = 0.626\n",
      "Порог = 0.36 | Точность = 0.699, Полнота = 0.560, F1-мера = 0.622\n",
      "Порог = 0.38 | Точность = 0.723, Полнота = 0.526, F1-мера = 0.609\n",
      "Порог = 0.40 | Точность = 0.733, Полнота = 0.499, F1-мера = 0.594\n",
      "Порог = 0.42 | Точность = 0.762, Полнота = 0.486, F1-мера = 0.594\n",
      "Порог = 0.44 | Точность = 0.776, Полнота = 0.469, F1-мера = 0.585\n",
      "Порог = 0.46 | Точность = 0.803, Полнота = 0.450, F1-мера = 0.576\n",
      "Порог = 0.48 | Точность = 0.813, Полнота = 0.437, F1-мера = 0.569\n",
      "CPU times: user 679 ms, sys: 16 ms, total: 695 ms\n",
      "Wall time: 705 ms\n"
     ]
    }
   ],
   "source": [
    "%%time\n",
    "\n",
    "model = RandomForestClassifier(random_state=12345, n_estimators=120, max_depth=10, n_jobs=-1)\n",
    "model.fit(features_train, target_train)\n",
    "probabilities_valid = model.predict_proba(features_valid)\n",
    "probabilities_one_valid = probabilities_valid[:, 1]\n",
    "for threshold in np.arange(0.1, 0.5, 0.02):\n",
    "    predicted_valid = probabilities_one_valid > threshold\n",
    "    precision = precision_score(target_valid, predicted_valid)\n",
    "    recall = recall_score(target_valid, predicted_valid)\n",
    "    f1 = f1_score(target_valid, predicted_valid)\n",
    "    print(\"Порог = {:.2f} | Точность = {:.3f}, Полнота = {:.3f}, F1-мера = {:.3f}\".format(\n",
    "        threshold, precision, recall, f1))"
   ]
  },
  {
   "cell_type": "markdown",
   "metadata": {},
   "source": [
    "Наилучшее значение f1-меры получается при значении порога 0.24. Построим модель с этим значением порога и рассмотрим все ее метрики."
   ]
  },
  {
   "cell_type": "code",
   "execution_count": 45,
   "metadata": {},
   "outputs": [
    {
     "name": "stdout",
     "output_type": "stream",
     "text": [
      "Доля правильных ответов: 0.825\n",
      "Точность: 0.5522935779816514\n",
      "Полнота: 0.7395577395577395\n",
      "F1-мера: 0.6323529411764706\n",
      "Матрица ошибок:\n",
      "[[1349  244]\n",
      " [ 106  301]]\n",
      "AUC-ROC: 0.871745397169126\n",
      "ROC-кривая:\n"
     ]
    },
    {
     "data": {
      "image/png": "[encoded data removed]",
      "text/plain": [
       "<Figure size 432x288 with 1 Axes>"
      ]
     },
     "metadata": {
      "needs_background": "light"
     },
     "output_type": "display_data"
    },
    {
     "name": "stdout",
     "output_type": "stream",
     "text": [
      "CPU times: user 780 ms, sys: 3.98 ms, total: 784 ms\n",
      "Wall time: 797 ms\n"
     ]
    }
   ],
   "source": [
    "%%time\n",
    "\n",
    "model = RandomForestClassifier(random_state=12345, n_estimators=120, max_depth=10, n_jobs=-1)\n",
    "model.fit(features_train, target_train)\n",
    "probabilities_valid = model.predict_proba(features_valid)\n",
    "probabilities_one_valid = probabilities_valid[:, 1]\n",
    "predicted_valid = probabilities_one_valid > 0.24\n",
    "metrics(model, features_valid, target_valid, predicted_valid)"
   ]
  },
  {
   "cell_type": "markdown",
   "metadata": {},
   "source": [
    "У данной модели самые высокие значения f1-меры и AUC-ROC."
   ]
  },
  {
   "cell_type": "markdown",
   "metadata": {},
   "source": [
    "Таким образом самые высокие метрики качества показывается модель случайного леса с глубиной дерева 10 и количеством деревьев 120 при снижении порога классификации до 0.24."
   ]
  },
  {
   "cell_type": "markdown",
   "metadata": {},
   "source": [
    "Проверим нашу модель на тестовой выборке."
   ]
  },
  {
   "cell_type": "markdown",
   "metadata": {},
   "source": [
    "## Тестирование модели"
   ]
  },
  {
   "cell_type": "code",
   "execution_count": 46,
   "metadata": {},
   "outputs": [
    {
     "name": "stdout",
     "output_type": "stream",
     "text": [
      "Доля правильных ответов: 0.8285\n",
      "Точность: 0.5588235294117647\n",
      "Полнота: 0.7469287469287469\n",
      "F1-мера: 0.6393270241850684\n",
      "Матрица ошибок:\n",
      "[[1353  240]\n",
      " [ 103  304]]\n",
      "AUC-ROC: 0.8729052627357712\n",
      "ROC-кривая:\n"
     ]
    },
    {
     "data": {
      "image/png": "[encoded data removed]",
      "text/plain": [
       "<Figure size 432x288 with 1 Axes>"
      ]
     },
     "metadata": {
      "needs_background": "light"
     },
     "output_type": "display_data"
    },
    {
     "name": "stdout",
     "output_type": "stream",
     "text": [
      "CPU times: user 750 ms, sys: 12 ms, total: 762 ms\n",
      "Wall time: 769 ms\n"
     ]
    }
   ],
   "source": [
    "%%time\n",
    "\n",
    "model = RandomForestClassifier(random_state=12345, n_estimators=120, max_depth=10, n_jobs=-1)\n",
    "model.fit(features_train, target_train)\n",
    "probabilities_test = model.predict_proba(features_test)\n",
    "probabilities_one_test = probabilities_test[:, 1]\n",
    "predicted_test = probabilities_one_test > 0.24\n",
    "metrics(model, features_test, target_test, predicted_test)"
   ]
  },
  {
   "cell_type": "markdown",
   "metadata": {},
   "source": [
    "На тестовой выборке удалось достичь максимального значения f1-меры почти 0.64 и значения AUC-ROC 0.87."
   ]
  },
  {
   "cell_type": "code",
   "execution_count": null,
   "metadata": {},
   "outputs": [],
   "source": []
  }
 ],
 "metadata": {
  "ExecuteTimeLog": [
   {
    "duration": 382,
    "start_time": "2022-09-06T06:49:04.456Z"
   },
   {
    "duration": 77,
    "start_time": "2022-09-06T06:49:04.979Z"
   },
   {
    "duration": 19,
    "start_time": "2022-09-06T06:49:14.444Z"
   },
   {
    "duration": 14,
    "start_time": "2022-09-06T06:49:28.236Z"
   },
   {
    "duration": 12,
    "start_time": "2022-09-06T06:51:40.581Z"
   },
   {
    "duration": 6,
    "start_time": "2022-09-06T06:53:47.441Z"
   },
   {
    "duration": 3,
    "start_time": "2022-09-06T07:49:30.683Z"
   },
   {
    "duration": 3,
    "start_time": "2022-09-06T07:51:44.998Z"
   },
   {
    "duration": 38,
    "start_time": "2022-09-06T07:51:45.670Z"
   },
   {
    "duration": 13,
    "start_time": "2022-09-06T07:51:46.404Z"
   },
   {
    "duration": 16,
    "start_time": "2022-09-06T07:51:47.535Z"
   },
   {
    "duration": 42,
    "start_time": "2022-09-06T07:51:49.585Z"
   },
   {
    "duration": 8,
    "start_time": "2022-09-06T07:52:30.877Z"
   },
   {
    "duration": 5,
    "start_time": "2022-09-06T07:52:33.312Z"
   },
   {
    "duration": 63,
    "start_time": "2022-09-06T07:52:46.817Z"
   },
   {
    "duration": 6,
    "start_time": "2022-09-06T07:52:50.019Z"
   },
   {
    "duration": 2,
    "start_time": "2022-09-06T07:54:28.057Z"
   },
   {
    "duration": 46,
    "start_time": "2022-09-06T07:54:28.647Z"
   },
   {
    "duration": 18,
    "start_time": "2022-09-06T07:54:29.178Z"
   },
   {
    "duration": 12,
    "start_time": "2022-09-06T07:54:30.483Z"
   },
   {
    "duration": 5,
    "start_time": "2022-09-06T07:55:00.983Z"
   },
   {
    "duration": 4,
    "start_time": "2022-09-06T07:55:01.881Z"
   },
   {
    "duration": 5,
    "start_time": "2022-09-06T07:55:02.636Z"
   },
   {
    "duration": 14,
    "start_time": "2022-09-06T07:56:16.490Z"
   },
   {
    "duration": 6,
    "start_time": "2022-09-06T07:56:19.841Z"
   },
   {
    "duration": 12,
    "start_time": "2022-09-06T07:56:26.723Z"
   },
   {
    "duration": 43,
    "start_time": "2022-09-06T07:58:47.259Z"
   },
   {
    "duration": 27,
    "start_time": "2022-09-06T07:59:33.592Z"
   },
   {
    "duration": 5,
    "start_time": "2022-09-06T08:00:56.629Z"
   },
   {
    "duration": 558,
    "start_time": "2022-09-06T08:01:13.589Z"
   },
   {
    "duration": 116528,
    "start_time": "2022-09-06T08:01:28.666Z"
   },
   {
    "duration": 9,
    "start_time": "2022-09-06T08:03:41.236Z"
   },
   {
    "duration": 7,
    "start_time": "2022-09-06T08:04:04.588Z"
   },
   {
    "duration": 5,
    "start_time": "2022-09-06T08:04:22.028Z"
   },
   {
    "duration": 8,
    "start_time": "2022-09-06T08:04:53.933Z"
   },
   {
    "duration": 8,
    "start_time": "2022-09-06T08:05:21.427Z"
   },
   {
    "duration": 7,
    "start_time": "2022-09-06T08:06:26.926Z"
   },
   {
    "duration": 7,
    "start_time": "2022-09-06T08:07:05.826Z"
   },
   {
    "duration": 7,
    "start_time": "2022-09-06T08:07:10.433Z"
   },
   {
    "duration": 7,
    "start_time": "2022-09-06T08:07:14.150Z"
   },
   {
    "duration": 21,
    "start_time": "2022-09-06T13:38:04.252Z"
   },
   {
    "duration": 13,
    "start_time": "2022-09-06T13:38:08.152Z"
   },
   {
    "duration": 6,
    "start_time": "2022-09-06T13:38:38.061Z"
   },
   {
    "duration": 122,
    "start_time": "2022-09-07T10:32:54.436Z"
   },
   {
    "duration": 108,
    "start_time": "2022-09-07T10:32:58.548Z"
   },
   {
    "duration": 111,
    "start_time": "2022-09-07T10:33:13.006Z"
   },
   {
    "duration": 108,
    "start_time": "2022-09-07T10:33:17.813Z"
   },
   {
    "duration": 111,
    "start_time": "2022-09-07T10:35:32.084Z"
   },
   {
    "duration": 745,
    "start_time": "2022-09-07T10:35:38.209Z"
   },
   {
    "duration": 117,
    "start_time": "2022-09-07T10:35:43.128Z"
   },
   {
    "duration": 128,
    "start_time": "2022-09-07T10:35:52.794Z"
   },
   {
    "duration": 146,
    "start_time": "2022-09-07T10:36:40.139Z"
   },
   {
    "duration": 61,
    "start_time": "2022-09-07T10:54:20.292Z"
   },
   {
    "duration": 6,
    "start_time": "2022-09-07T10:57:44.786Z"
   },
   {
    "duration": 5,
    "start_time": "2022-09-07T10:58:05.380Z"
   },
   {
    "duration": 149,
    "start_time": "2022-09-07T10:58:13.636Z"
   },
   {
    "duration": 10,
    "start_time": "2022-09-07T11:00:48.614Z"
   },
   {
    "duration": 11,
    "start_time": "2022-09-07T11:01:07.891Z"
   },
   {
    "duration": 11,
    "start_time": "2022-09-07T11:01:26.287Z"
   },
   {
    "duration": 10,
    "start_time": "2022-09-07T11:01:26.894Z"
   },
   {
    "duration": 6,
    "start_time": "2022-09-07T11:02:03.897Z"
   },
   {
    "duration": 22,
    "start_time": "2022-09-07T11:04:29.702Z"
   },
   {
    "duration": 11,
    "start_time": "2022-09-07T11:04:47.256Z"
   },
   {
    "duration": 11,
    "start_time": "2022-09-07T11:05:42.044Z"
   },
   {
    "duration": 8,
    "start_time": "2022-09-07T11:06:20.957Z"
   },
   {
    "duration": 13,
    "start_time": "2022-09-07T11:06:21.491Z"
   },
   {
    "duration": 9,
    "start_time": "2022-09-07T11:08:07.743Z"
   },
   {
    "duration": 1375,
    "start_time": "2022-09-07T11:08:22.153Z"
   },
   {
    "duration": 40,
    "start_time": "2022-09-07T11:08:23.530Z"
   },
   {
    "duration": 16,
    "start_time": "2022-09-07T11:08:23.572Z"
   },
   {
    "duration": 13,
    "start_time": "2022-09-07T11:08:23.590Z"
   },
   {
    "duration": 3,
    "start_time": "2022-09-07T11:08:23.604Z"
   },
   {
    "duration": 9,
    "start_time": "2022-09-07T11:08:23.609Z"
   },
   {
    "duration": 13,
    "start_time": "2022-09-07T11:08:23.620Z"
   },
   {
    "duration": 14,
    "start_time": "2022-09-07T11:08:23.634Z"
   },
   {
    "duration": 3,
    "start_time": "2022-09-07T11:08:23.650Z"
   },
   {
    "duration": 8,
    "start_time": "2022-09-07T11:08:23.656Z"
   },
   {
    "duration": 8,
    "start_time": "2022-09-07T11:08:23.665Z"
   },
   {
    "duration": 7,
    "start_time": "2022-09-07T11:08:23.674Z"
   },
   {
    "duration": 9,
    "start_time": "2022-09-07T11:08:23.683Z"
   },
   {
    "duration": 7,
    "start_time": "2022-09-07T11:08:23.694Z"
   },
   {
    "duration": 7,
    "start_time": "2022-09-07T11:08:23.702Z"
   },
   {
    "duration": 28,
    "start_time": "2022-09-07T11:08:23.711Z"
   },
   {
    "duration": 5,
    "start_time": "2022-09-07T11:08:23.740Z"
   },
   {
    "duration": 145,
    "start_time": "2022-09-07T11:08:23.747Z"
   },
   {
    "duration": 13,
    "start_time": "2022-09-07T11:08:23.893Z"
   },
   {
    "duration": 6,
    "start_time": "2022-09-07T11:08:23.908Z"
   },
   {
    "duration": 5,
    "start_time": "2022-09-07T11:08:23.915Z"
   },
   {
    "duration": 129,
    "start_time": "2022-09-07T11:08:23.939Z"
   },
   {
    "duration": 9,
    "start_time": "2022-09-07T11:08:24.069Z"
   },
   {
    "duration": 9,
    "start_time": "2022-09-07T11:08:24.080Z"
   },
   {
    "duration": 15,
    "start_time": "2022-09-07T11:08:24.090Z"
   },
   {
    "duration": 35,
    "start_time": "2022-09-07T11:08:24.106Z"
   },
   {
    "duration": 12,
    "start_time": "2022-09-07T11:08:24.142Z"
   },
   {
    "duration": 7,
    "start_time": "2022-09-07T11:08:24.157Z"
   },
   {
    "duration": 130,
    "start_time": "2022-09-07T11:08:24.166Z"
   },
   {
    "duration": 0,
    "start_time": "2022-09-07T11:08:24.298Z"
   },
   {
    "duration": 11,
    "start_time": "2022-09-07T11:10:25.393Z"
   },
   {
    "duration": 3,
    "start_time": "2022-09-07T11:10:45.618Z"
   },
   {
    "duration": 4,
    "start_time": "2022-09-07T11:11:00.783Z"
   },
   {
    "duration": 6,
    "start_time": "2022-09-07T11:11:32.656Z"
   },
   {
    "duration": 11,
    "start_time": "2022-09-07T11:11:41.640Z"
   },
   {
    "duration": 16,
    "start_time": "2022-09-07T11:11:46.130Z"
   },
   {
    "duration": 9,
    "start_time": "2022-09-07T11:15:50.850Z"
   },
   {
    "duration": 10,
    "start_time": "2022-09-07T11:15:54.682Z"
   },
   {
    "duration": 17,
    "start_time": "2022-09-07T11:19:14.680Z"
   },
   {
    "duration": 11,
    "start_time": "2022-09-07T11:19:15.509Z"
   },
   {
    "duration": 1377,
    "start_time": "2022-09-07T11:19:26.211Z"
   },
   {
    "duration": 41,
    "start_time": "2022-09-07T11:19:27.590Z"
   },
   {
    "duration": 27,
    "start_time": "2022-09-07T11:19:27.632Z"
   },
   {
    "duration": 12,
    "start_time": "2022-09-07T11:19:27.661Z"
   },
   {
    "duration": 4,
    "start_time": "2022-09-07T11:19:27.674Z"
   },
   {
    "duration": 6,
    "start_time": "2022-09-07T11:19:27.680Z"
   },
   {
    "duration": 8,
    "start_time": "2022-09-07T11:19:27.687Z"
   },
   {
    "duration": 12,
    "start_time": "2022-09-07T11:19:27.696Z"
   },
   {
    "duration": 6,
    "start_time": "2022-09-07T11:19:27.710Z"
   },
   {
    "duration": 33,
    "start_time": "2022-09-07T11:19:27.718Z"
   },
   {
    "duration": 7,
    "start_time": "2022-09-07T11:19:27.752Z"
   },
   {
    "duration": 6,
    "start_time": "2022-09-07T11:19:27.760Z"
   },
   {
    "duration": 7,
    "start_time": "2022-09-07T11:19:27.768Z"
   },
   {
    "duration": 6,
    "start_time": "2022-09-07T11:19:27.777Z"
   },
   {
    "duration": 9,
    "start_time": "2022-09-07T11:19:27.785Z"
   },
   {
    "duration": 9,
    "start_time": "2022-09-07T11:19:27.796Z"
   },
   {
    "duration": 7,
    "start_time": "2022-09-07T11:19:27.806Z"
   },
   {
    "duration": 158,
    "start_time": "2022-09-07T11:19:27.814Z"
   },
   {
    "duration": 13,
    "start_time": "2022-09-07T11:19:27.974Z"
   },
   {
    "duration": 10,
    "start_time": "2022-09-07T11:19:27.989Z"
   },
   {
    "duration": 5,
    "start_time": "2022-09-07T11:19:28.001Z"
   },
   {
    "duration": 147,
    "start_time": "2022-09-07T11:19:28.008Z"
   },
   {
    "duration": 9,
    "start_time": "2022-09-07T11:19:28.156Z"
   },
   {
    "duration": 21,
    "start_time": "2022-09-07T11:19:28.167Z"
   },
   {
    "duration": 17,
    "start_time": "2022-09-07T11:19:28.189Z"
   },
   {
    "duration": 24,
    "start_time": "2022-09-07T11:19:28.208Z"
   },
   {
    "duration": 16,
    "start_time": "2022-09-07T11:19:28.234Z"
   },
   {
    "duration": 17,
    "start_time": "2022-09-07T11:19:28.253Z"
   },
   {
    "duration": 6,
    "start_time": "2022-09-07T11:19:28.272Z"
   },
   {
    "duration": 15,
    "start_time": "2022-09-07T11:19:28.280Z"
   },
   {
    "duration": 146,
    "start_time": "2022-09-07T12:19:58.742Z"
   },
   {
    "duration": 4,
    "start_time": "2022-09-07T12:20:33.680Z"
   },
   {
    "duration": 4,
    "start_time": "2022-09-07T12:20:39.125Z"
   },
   {
    "duration": 19,
    "start_time": "2022-09-07T12:22:39.646Z"
   },
   {
    "duration": 4,
    "start_time": "2022-09-07T12:25:46.519Z"
   },
   {
    "duration": 17,
    "start_time": "2022-09-07T12:28:06.200Z"
   },
   {
    "duration": 22,
    "start_time": "2022-09-07T12:28:11.662Z"
   },
   {
    "duration": 19,
    "start_time": "2022-09-07T12:28:12.252Z"
   },
   {
    "duration": 16,
    "start_time": "2022-09-07T12:28:51.854Z"
   },
   {
    "duration": 17,
    "start_time": "2022-09-07T12:29:32.769Z"
   },
   {
    "duration": 13,
    "start_time": "2022-09-07T12:29:46.113Z"
   },
   {
    "duration": 49,
    "start_time": "2022-09-07T12:29:55.377Z"
   },
   {
    "duration": 63,
    "start_time": "2022-09-07T12:29:59.431Z"
   },
   {
    "duration": 11,
    "start_time": "2022-09-07T12:30:08.523Z"
   },
   {
    "duration": 10,
    "start_time": "2022-09-07T12:30:27.473Z"
   },
   {
    "duration": 13,
    "start_time": "2022-09-07T12:30:48.863Z"
   },
   {
    "duration": 43,
    "start_time": "2022-09-07T12:46:54.199Z"
   },
   {
    "duration": 20,
    "start_time": "2022-09-07T12:48:16.092Z"
   },
   {
    "duration": 50936,
    "start_time": "2022-09-07T13:10:11.670Z"
   },
   {
    "duration": 134,
    "start_time": "2022-09-07T13:11:02.608Z"
   },
   {
    "duration": 21,
    "start_time": "2022-09-07T13:11:15.127Z"
   },
   {
    "duration": 4,
    "start_time": "2022-09-07T13:14:16.801Z"
   },
   {
    "duration": 22,
    "start_time": "2022-09-07T13:14:17.728Z"
   },
   {
    "duration": 194,
    "start_time": "2022-09-07T13:14:18.543Z"
   },
   {
    "duration": 5,
    "start_time": "2022-09-07T13:16:40.032Z"
   },
   {
    "duration": 280,
    "start_time": "2022-09-07T13:16:46.808Z"
   },
   {
    "duration": 24,
    "start_time": "2022-09-07T13:18:04.803Z"
   },
   {
    "duration": 252,
    "start_time": "2022-09-07T13:18:07.009Z"
   },
   {
    "duration": 166,
    "start_time": "2022-09-07T13:22:54.630Z"
   },
   {
    "duration": 3,
    "start_time": "2022-09-07T13:23:14.400Z"
   },
   {
    "duration": 19,
    "start_time": "2022-09-07T13:24:30.273Z"
   },
   {
    "duration": 284,
    "start_time": "2022-09-07T13:24:32.456Z"
   },
   {
    "duration": 157,
    "start_time": "2022-09-07T13:24:36.942Z"
   },
   {
    "duration": 3,
    "start_time": "2022-09-07T13:24:41.034Z"
   },
   {
    "duration": 20,
    "start_time": "2022-09-07T13:24:43.318Z"
   },
   {
    "duration": 113,
    "start_time": "2022-09-07T13:25:12.462Z"
   },
   {
    "duration": 20,
    "start_time": "2022-09-07T13:27:39.969Z"
   },
   {
    "duration": 117,
    "start_time": "2022-09-07T13:27:42.705Z"
   },
   {
    "duration": 50499,
    "start_time": "2022-09-07T13:30:04.729Z"
   },
   {
    "duration": 172849,
    "start_time": "2022-09-07T13:32:33.899Z"
   },
   {
    "duration": 3,
    "start_time": "2022-09-07T13:35:36.228Z"
   },
   {
    "duration": 577,
    "start_time": "2022-09-07T13:35:51.875Z"
   },
   {
    "duration": 196,
    "start_time": "2022-09-07T13:35:58.332Z"
   },
   {
    "duration": 17,
    "start_time": "2022-09-07T13:46:16.641Z"
   },
   {
    "duration": 292,
    "start_time": "2022-09-07T13:46:17.848Z"
   },
   {
    "duration": 62,
    "start_time": "2022-09-07T13:46:42.514Z"
   },
   {
    "duration": 3,
    "start_time": "2022-09-07T13:46:43.114Z"
   },
   {
    "duration": 21,
    "start_time": "2022-09-07T13:46:46.612Z"
   },
   {
    "duration": 156,
    "start_time": "2022-09-07T13:46:58.208Z"
   },
   {
    "duration": 3,
    "start_time": "2022-09-07T13:46:59.433Z"
   },
   {
    "duration": 23,
    "start_time": "2022-09-07T13:47:00.748Z"
   },
   {
    "duration": 391,
    "start_time": "2022-09-07T13:47:22.821Z"
   },
   {
    "duration": 175,
    "start_time": "2022-09-07T13:47:24.298Z"
   },
   {
    "duration": 571,
    "start_time": "2022-09-07T13:47:32.274Z"
   },
   {
    "duration": 202,
    "start_time": "2022-09-07T13:47:40.084Z"
   },
   {
    "duration": 603,
    "start_time": "2022-09-07T14:41:51.479Z"
   },
   {
    "duration": 275,
    "start_time": "2022-09-07T14:41:54.728Z"
   },
   {
    "duration": 24,
    "start_time": "2022-09-07T14:43:44.297Z"
   },
   {
    "duration": 334,
    "start_time": "2022-09-07T14:43:45.546Z"
   },
   {
    "duration": 13,
    "start_time": "2022-09-07T14:48:45.445Z"
   },
   {
    "duration": 843,
    "start_time": "2022-09-07T14:48:47.046Z"
   },
   {
    "duration": 231,
    "start_time": "2022-09-07T14:48:50.724Z"
   },
   {
    "duration": 862,
    "start_time": "2022-09-07T14:49:39.086Z"
   },
   {
    "duration": 257,
    "start_time": "2022-09-07T14:49:41.300Z"
   },
   {
    "duration": 11,
    "start_time": "2022-09-07T14:52:51.337Z"
   },
   {
    "duration": 349,
    "start_time": "2022-09-07T14:52:53.481Z"
   },
   {
    "duration": 232,
    "start_time": "2022-09-07T14:52:55.111Z"
   },
   {
    "duration": 219,
    "start_time": "2022-09-07T14:54:43.439Z"
   },
   {
    "duration": 294,
    "start_time": "2022-09-07T14:55:36.057Z"
   },
   {
    "duration": 418,
    "start_time": "2022-09-07T14:56:59.800Z"
   },
   {
    "duration": 830,
    "start_time": "2022-09-07T14:57:27.019Z"
   },
   {
    "duration": 791,
    "start_time": "2022-09-07T15:06:47.932Z"
   },
   {
    "duration": 1115,
    "start_time": "2022-09-07T15:07:05.439Z"
   },
   {
    "duration": 512,
    "start_time": "2022-09-07T15:07:22.401Z"
   },
   {
    "duration": 648,
    "start_time": "2022-09-07T15:08:40.928Z"
   },
   {
    "duration": 884,
    "start_time": "2022-09-07T15:09:05.012Z"
   },
   {
    "duration": 788,
    "start_time": "2022-09-07T15:09:50.979Z"
   },
   {
    "duration": 692,
    "start_time": "2022-09-07T15:18:42.008Z"
   },
   {
    "duration": 702,
    "start_time": "2022-09-07T15:19:44.841Z"
   },
   {
    "duration": 776,
    "start_time": "2022-09-07T15:21:10.210Z"
   },
   {
    "duration": 578,
    "start_time": "2022-09-07T15:21:25.244Z"
   },
   {
    "duration": 758,
    "start_time": "2022-09-07T15:21:31.681Z"
   },
   {
    "duration": 279,
    "start_time": "2022-09-07T15:23:06.160Z"
   },
   {
    "duration": 128,
    "start_time": "2022-09-07T15:23:20.513Z"
   },
   {
    "duration": 787,
    "start_time": "2022-09-07T15:23:30.721Z"
   },
   {
    "duration": 4,
    "start_time": "2022-09-07T17:57:52.298Z"
   },
   {
    "duration": 1242,
    "start_time": "2022-09-07T18:02:12.484Z"
   },
   {
    "duration": 39,
    "start_time": "2022-09-07T18:02:13.727Z"
   },
   {
    "duration": 15,
    "start_time": "2022-09-07T18:02:13.768Z"
   },
   {
    "duration": 13,
    "start_time": "2022-09-07T18:02:13.785Z"
   },
   {
    "duration": 4,
    "start_time": "2022-09-07T18:02:13.800Z"
   },
   {
    "duration": 9,
    "start_time": "2022-09-07T18:02:13.806Z"
   },
   {
    "duration": 6,
    "start_time": "2022-09-07T18:02:13.817Z"
   },
   {
    "duration": 20,
    "start_time": "2022-09-07T18:02:13.825Z"
   },
   {
    "duration": 4,
    "start_time": "2022-09-07T18:02:13.846Z"
   },
   {
    "duration": 9,
    "start_time": "2022-09-07T18:02:13.852Z"
   },
   {
    "duration": 8,
    "start_time": "2022-09-07T18:02:13.862Z"
   },
   {
    "duration": 10,
    "start_time": "2022-09-07T18:02:13.872Z"
   },
   {
    "duration": 11,
    "start_time": "2022-09-07T18:02:13.883Z"
   },
   {
    "duration": 7,
    "start_time": "2022-09-07T18:02:13.896Z"
   },
   {
    "duration": 35,
    "start_time": "2022-09-07T18:02:13.904Z"
   },
   {
    "duration": 5,
    "start_time": "2022-09-07T18:02:13.941Z"
   },
   {
    "duration": 7,
    "start_time": "2022-09-07T18:02:13.948Z"
   },
   {
    "duration": 156,
    "start_time": "2022-09-07T18:02:13.956Z"
   },
   {
    "duration": 13,
    "start_time": "2022-09-07T18:02:14.114Z"
   },
   {
    "duration": 22,
    "start_time": "2022-09-07T18:02:14.139Z"
   },
   {
    "duration": 6,
    "start_time": "2022-09-07T18:02:14.162Z"
   },
   {
    "duration": 137,
    "start_time": "2022-09-07T18:02:14.169Z"
   },
   {
    "duration": 10,
    "start_time": "2022-09-07T18:02:14.308Z"
   },
   {
    "duration": 22,
    "start_time": "2022-09-07T18:02:14.319Z"
   },
   {
    "duration": 21,
    "start_time": "2022-09-07T18:02:14.343Z"
   },
   {
    "duration": 7,
    "start_time": "2022-09-07T18:02:14.366Z"
   },
   {
    "duration": 6,
    "start_time": "2022-09-07T18:02:14.375Z"
   },
   {
    "duration": 131,
    "start_time": "2022-09-07T18:02:14.384Z"
   },
   {
    "duration": 0,
    "start_time": "2022-09-07T18:02:14.516Z"
   },
   {
    "duration": 0,
    "start_time": "2022-09-07T18:02:14.517Z"
   },
   {
    "duration": 0,
    "start_time": "2022-09-07T18:02:14.518Z"
   },
   {
    "duration": 0,
    "start_time": "2022-09-07T18:02:14.518Z"
   },
   {
    "duration": 0,
    "start_time": "2022-09-07T18:02:14.519Z"
   },
   {
    "duration": 0,
    "start_time": "2022-09-07T18:02:14.520Z"
   },
   {
    "duration": 0,
    "start_time": "2022-09-07T18:02:14.521Z"
   },
   {
    "duration": 0,
    "start_time": "2022-09-07T18:02:14.522Z"
   },
   {
    "duration": 0,
    "start_time": "2022-09-07T18:02:14.523Z"
   },
   {
    "duration": 0,
    "start_time": "2022-09-07T18:02:14.538Z"
   },
   {
    "duration": 0,
    "start_time": "2022-09-07T18:02:14.539Z"
   },
   {
    "duration": 0,
    "start_time": "2022-09-07T18:02:14.540Z"
   },
   {
    "duration": 0,
    "start_time": "2022-09-07T18:02:14.540Z"
   },
   {
    "duration": 0,
    "start_time": "2022-09-07T18:02:14.541Z"
   },
   {
    "duration": 0,
    "start_time": "2022-09-07T18:02:14.542Z"
   },
   {
    "duration": 0,
    "start_time": "2022-09-07T18:02:14.543Z"
   },
   {
    "duration": 0,
    "start_time": "2022-09-07T18:02:14.544Z"
   },
   {
    "duration": 1241,
    "start_time": "2022-09-07T18:03:35.275Z"
   },
   {
    "duration": 39,
    "start_time": "2022-09-07T18:03:36.517Z"
   },
   {
    "duration": 16,
    "start_time": "2022-09-07T18:03:36.557Z"
   },
   {
    "duration": 24,
    "start_time": "2022-09-07T18:03:36.576Z"
   },
   {
    "duration": 4,
    "start_time": "2022-09-07T18:03:36.602Z"
   },
   {
    "duration": 6,
    "start_time": "2022-09-07T18:03:36.608Z"
   },
   {
    "duration": 7,
    "start_time": "2022-09-07T18:03:36.615Z"
   },
   {
    "duration": 12,
    "start_time": "2022-09-07T18:03:36.638Z"
   },
   {
    "duration": 5,
    "start_time": "2022-09-07T18:03:36.651Z"
   },
   {
    "duration": 9,
    "start_time": "2022-09-07T18:03:36.657Z"
   },
   {
    "duration": 13,
    "start_time": "2022-09-07T18:03:36.668Z"
   },
   {
    "duration": 7,
    "start_time": "2022-09-07T18:03:36.682Z"
   },
   {
    "duration": 6,
    "start_time": "2022-09-07T18:03:36.690Z"
   },
   {
    "duration": 42,
    "start_time": "2022-09-07T18:03:36.697Z"
   },
   {
    "duration": 7,
    "start_time": "2022-09-07T18:03:36.741Z"
   },
   {
    "duration": 7,
    "start_time": "2022-09-07T18:03:36.750Z"
   },
   {
    "duration": 8,
    "start_time": "2022-09-07T18:03:36.758Z"
   },
   {
    "duration": 163,
    "start_time": "2022-09-07T18:03:36.768Z"
   },
   {
    "duration": 15,
    "start_time": "2022-09-07T18:03:36.938Z"
   },
   {
    "duration": 27,
    "start_time": "2022-09-07T18:03:36.954Z"
   },
   {
    "duration": 7,
    "start_time": "2022-09-07T18:03:36.982Z"
   },
   {
    "duration": 123,
    "start_time": "2022-09-07T18:03:36.991Z"
   },
   {
    "duration": 9,
    "start_time": "2022-09-07T18:03:37.116Z"
   },
   {
    "duration": 14,
    "start_time": "2022-09-07T18:03:37.126Z"
   },
   {
    "duration": 17,
    "start_time": "2022-09-07T18:03:37.142Z"
   },
   {
    "duration": 7,
    "start_time": "2022-09-07T18:03:37.160Z"
   },
   {
    "duration": 6,
    "start_time": "2022-09-07T18:03:37.169Z"
   },
   {
    "duration": 7,
    "start_time": "2022-09-07T18:03:37.178Z"
   },
   {
    "duration": 4,
    "start_time": "2022-09-07T18:03:37.186Z"
   },
   {
    "duration": 6,
    "start_time": "2022-09-07T18:03:37.191Z"
   },
   {
    "duration": 44,
    "start_time": "2022-09-07T18:03:37.198Z"
   },
   {
    "duration": 299,
    "start_time": "2022-09-07T18:03:37.243Z"
   },
   {
    "duration": 179,
    "start_time": "2022-09-07T18:03:37.543Z"
   },
   {
    "duration": 3,
    "start_time": "2022-09-07T18:03:37.723Z"
   },
   {
    "duration": 147,
    "start_time": "2022-09-07T18:03:37.728Z"
   },
   {
    "duration": 173774,
    "start_time": "2022-09-07T18:03:37.876Z"
   },
   {
    "duration": 3,
    "start_time": "2022-09-07T18:06:31.652Z"
   },
   {
    "duration": 783,
    "start_time": "2022-09-07T18:06:31.656Z"
   },
   {
    "duration": 798,
    "start_time": "2022-09-07T18:06:32.441Z"
   },
   {
    "duration": 11,
    "start_time": "2022-09-07T18:06:33.241Z"
   },
   {
    "duration": 1042,
    "start_time": "2022-09-07T18:06:33.253Z"
   },
   {
    "duration": 10,
    "start_time": "2022-09-07T18:06:34.296Z"
   },
   {
    "duration": 550,
    "start_time": "2022-09-07T18:06:34.308Z"
   },
   {
    "duration": 718,
    "start_time": "2022-09-07T18:06:34.860Z"
   },
   {
    "duration": 809,
    "start_time": "2022-09-07T18:06:35.580Z"
   },
   {
    "duration": 76606,
    "start_time": "2022-09-07T18:09:13.813Z"
   },
   {
    "duration": 3,
    "start_time": "2022-09-07T18:10:33.850Z"
   },
   {
    "duration": 724,
    "start_time": "2022-09-07T18:22:06.324Z"
   },
   {
    "duration": 8,
    "start_time": "2022-09-07T18:23:44.036Z"
   },
   {
    "duration": 283,
    "start_time": "2022-09-07T18:23:47.266Z"
   },
   {
    "duration": 146,
    "start_time": "2022-09-07T18:24:00.139Z"
   },
   {
    "duration": 1298,
    "start_time": "2022-09-07T18:24:10.551Z"
   },
   {
    "duration": 1350,
    "start_time": "2022-09-07T18:24:20.752Z"
   },
   {
    "duration": 162,
    "start_time": "2022-09-07T18:24:59.648Z"
   },
   {
    "duration": 782,
    "start_time": "2022-09-07T18:25:05.748Z"
   },
   {
    "duration": 817,
    "start_time": "2022-09-07T18:25:13.266Z"
   },
   {
    "duration": 1016,
    "start_time": "2022-09-07T18:25:37.528Z"
   },
   {
    "duration": 517,
    "start_time": "2022-09-07T18:25:46.725Z"
   },
   {
    "duration": 790,
    "start_time": "2022-09-07T18:26:40.560Z"
   },
   {
    "duration": 775,
    "start_time": "2022-09-07T18:31:09.840Z"
   },
   {
    "duration": 84,
    "start_time": "2022-09-07T18:35:28.384Z"
   },
   {
    "duration": 321,
    "start_time": "2022-09-07T18:35:40.524Z"
   },
   {
    "duration": 154,
    "start_time": "2022-09-07T18:35:56.127Z"
   },
   {
    "duration": 778,
    "start_time": "2022-09-07T18:36:02.140Z"
   },
   {
    "duration": 773,
    "start_time": "2022-09-07T18:36:17.931Z"
   },
   {
    "duration": 1001,
    "start_time": "2022-09-07T18:36:32.023Z"
   },
   {
    "duration": 545,
    "start_time": "2022-09-07T18:36:47.065Z"
   },
   {
    "duration": 754,
    "start_time": "2022-09-07T18:37:39.520Z"
   },
   {
    "duration": 799,
    "start_time": "2022-09-07T18:38:35.423Z"
   },
   {
    "duration": 784,
    "start_time": "2022-09-07T18:38:59.542Z"
   },
   {
    "duration": 1241,
    "start_time": "2022-09-07T18:50:20.260Z"
   },
   {
    "duration": 39,
    "start_time": "2022-09-07T18:50:21.503Z"
   },
   {
    "duration": 14,
    "start_time": "2022-09-07T18:50:21.544Z"
   },
   {
    "duration": 17,
    "start_time": "2022-09-07T18:50:21.561Z"
   },
   {
    "duration": 11,
    "start_time": "2022-09-07T18:50:21.580Z"
   },
   {
    "duration": 25,
    "start_time": "2022-09-07T18:50:21.593Z"
   },
   {
    "duration": 29,
    "start_time": "2022-09-07T18:50:21.619Z"
   },
   {
    "duration": 18,
    "start_time": "2022-09-07T18:50:21.650Z"
   },
   {
    "duration": 8,
    "start_time": "2022-09-07T18:50:21.670Z"
   },
   {
    "duration": 48,
    "start_time": "2022-09-07T18:50:21.680Z"
   },
   {
    "duration": 20,
    "start_time": "2022-09-07T18:50:21.729Z"
   },
   {
    "duration": 35,
    "start_time": "2022-09-07T18:50:21.750Z"
   },
   {
    "duration": 17,
    "start_time": "2022-09-07T18:50:21.787Z"
   },
   {
    "duration": 28,
    "start_time": "2022-09-07T18:50:21.805Z"
   },
   {
    "duration": 28,
    "start_time": "2022-09-07T18:50:21.834Z"
   },
   {
    "duration": 21,
    "start_time": "2022-09-07T18:50:21.863Z"
   },
   {
    "duration": 27,
    "start_time": "2022-09-07T18:50:21.886Z"
   },
   {
    "duration": 139,
    "start_time": "2022-09-07T18:50:21.914Z"
   },
   {
    "duration": 15,
    "start_time": "2022-09-07T18:50:22.055Z"
   },
   {
    "duration": 49,
    "start_time": "2022-09-07T18:50:22.072Z"
   },
   {
    "duration": 25,
    "start_time": "2022-09-07T18:50:22.122Z"
   },
   {
    "duration": 139,
    "start_time": "2022-09-07T18:50:22.149Z"
   },
   {
    "duration": 9,
    "start_time": "2022-09-07T18:50:22.290Z"
   },
   {
    "duration": 13,
    "start_time": "2022-09-07T18:50:22.301Z"
   },
   {
    "duration": 28,
    "start_time": "2022-09-07T18:50:22.316Z"
   },
   {
    "duration": 10,
    "start_time": "2022-09-07T18:50:22.345Z"
   },
   {
    "duration": 48,
    "start_time": "2022-09-07T18:50:22.357Z"
   },
   {
    "duration": 25,
    "start_time": "2022-09-07T18:50:22.408Z"
   },
   {
    "duration": 20,
    "start_time": "2022-09-07T18:50:22.435Z"
   },
   {
    "duration": 17,
    "start_time": "2022-09-07T18:50:22.456Z"
   },
   {
    "duration": 12,
    "start_time": "2022-09-07T18:50:22.475Z"
   },
   {
    "duration": 353,
    "start_time": "2022-09-07T18:50:22.488Z"
   },
   {
    "duration": 168,
    "start_time": "2022-09-07T18:50:22.842Z"
   },
   {
    "duration": 3,
    "start_time": "2022-09-07T18:50:23.012Z"
   },
   {
    "duration": 160,
    "start_time": "2022-09-07T18:50:23.016Z"
   },
   {
    "duration": 76547,
    "start_time": "2022-09-07T18:50:23.178Z"
   },
   {
    "duration": 4,
    "start_time": "2022-09-07T18:51:39.727Z"
   },
   {
    "duration": 800,
    "start_time": "2022-09-07T18:51:39.746Z"
   },
   {
    "duration": 782,
    "start_time": "2022-09-07T18:51:40.548Z"
   },
   {
    "duration": 10,
    "start_time": "2022-09-07T18:51:41.337Z"
   },
   {
    "duration": 1004,
    "start_time": "2022-09-07T18:51:41.348Z"
   },
   {
    "duration": 10,
    "start_time": "2022-09-07T18:51:42.353Z"
   },
   {
    "duration": 524,
    "start_time": "2022-09-07T18:51:42.364Z"
   },
   {
    "duration": 711,
    "start_time": "2022-09-07T18:51:42.890Z"
   },
   {
    "duration": 800,
    "start_time": "2022-09-07T18:51:43.603Z"
   },
   {
    "duration": 773,
    "start_time": "2022-09-07T18:51:44.404Z"
   }
  ],
  "kernelspec": {
   "display_name": "Python 3 (ipykernel)",
   "language": "python",
   "name": "python3"
  },
  "language_info": {
   "codemirror_mode": {
    "name": "ipython",
    "version": 3
   },
   "file_extension": ".py",
   "mimetype": "text/x-python",
   "name": "python",
   "nbconvert_exporter": "python",
   "pygments_lexer": "ipython3",
   "version": "3.9.12"
  },
  "toc": {
   "base_numbering": 1,
   "nav_menu": {},
   "number_sections": true,
   "sideBar": true,
   "skip_h1_title": true,
   "title_cell": "Содержание",
   "title_sidebar": "Contents",
   "toc_cell": true,
   "toc_position": {},
   "toc_section_display": true,
   "toc_window_display": true
  }
 },
 "nbformat": 4,
 "nbformat_minor": 2
}

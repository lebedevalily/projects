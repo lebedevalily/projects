{
 "cells": [
  {
   "cell_type": "markdown",
   "metadata": {
    "toc": true
   },
   "source": [
    "<h1>Содержание<span class=\"tocSkip\"></span></h1>\n",
    "<div class=\"toc\"><ul class=\"toc-item\"><li><span><a href=\"#Открытие-и-изучение-файла\" data-toc-modified-id=\"Открытие-и-изучение-файла-1\"><span class=\"toc-item-num\">1&nbsp;&nbsp;</span>Открытие и изучение файла</a></span></li><li><span><a href=\"#Разбивка-данных-на-выборки\" data-toc-modified-id=\"Разбивка-данных-на-выборки-2\"><span class=\"toc-item-num\">2&nbsp;&nbsp;</span>Разбейте данные на выборки</a></span></li><li><span><a href=\"#Исследование-моделей\" data-toc-modified-id=\"Исследование-моделей-3\"><span class=\"toc-item-num\">3&nbsp;&nbsp;</span>Исследование моделей</a></span><ul class=\"toc-item\"><li><span><a href=\"#Дерево-решений\" data-toc-modified-id=\"Дерево-решений-3.1\"><span class=\"toc-item-num\">3.1&nbsp;&nbsp;</span>Дерево решений</a></span></li><li><span><a href=\"#Случайный-лес\" data-toc-modified-id=\"Случайный-лес-3.2\"><span class=\"toc-item-num\">3.2&nbsp;&nbsp;</span>Случайный лес</a></span></li><li><span><a href=\"#Логистическая-регрессия\" data-toc-modified-id=\"Логистическая-регрессия-3.3\"><span class=\"toc-item-num\">3.3&nbsp;&nbsp;</span>Логистическая регрессия</a></span></li></ul></li><li><span><a href=\"#Проверка-модели-на-тестовой-выборке\" data-toc-modified-id=\"Проверка-модели-на-тестовой-выборке-4\"><span class=\"toc-item-num\">4&nbsp;&nbsp;</span>Проверка модели на тестовой выборке</a></span></li><li><span><a href=\"#Проверка-модели-на-адекватность\" data-toc-modified-id=\"Проверка-модели-на-адекватность-5\"><span class=\"toc-item-num\">5&nbsp;&nbsp;</span>Проверка модели на адекватность</a></span></li></ul></div>"
   ]
  },
  {
   "cell_type": "markdown",
   "metadata": {},
   "source": [
    "# Рекомендация тарифов"
   ]
  },
  {
   "cell_type": "markdown",
   "metadata": {},
   "source": [
    "Требуется модель для задачи классификации, которая будет рекомендовать клиенту подходящий тариф. \n",
    "\n",
    "Необходимо построить модель с максимально большим значением *accuracy*. Пороговое значение метрики - не менее 0.75."
   ]
  },
  {
   "cell_type": "markdown",
   "metadata": {},
   "source": [
    "## Открытие и изучение файла"
   ]
  },
  {
   "cell_type": "markdown",
   "metadata": {},
   "source": [
    "Импортируем необходимые библиотеки."
   ]
  },
  {
   "cell_type": "code",
   "execution_count": 1,
   "metadata": {},
   "outputs": [],
   "source": [
    "import pandas as pd\n",
    "\n",
    "from sklearn.model_selection import train_test_split\n",
    "from sklearn.metrics import accuracy_score, precision_score, recall_score, f1_score, confusion_matrix\n",
    "from sklearn.tree import DecisionTreeClassifier\n",
    "from sklearn.ensemble import RandomForestClassifier\n",
    "from sklearn.linear_model import LogisticRegression\n",
    "from sklearn.dummy import DummyClassifier"
   ]
  },
  {
   "cell_type": "markdown",
   "metadata": {},
   "source": [
    "Сохраним файл в переменную df."
   ]
  },
  {
   "cell_type": "code",
   "execution_count": 2,
   "metadata": {},
   "outputs": [],
   "source": [
    "df = pd.read_csv('users_behavior.csv')"
   ]
  },
  {
   "cell_type": "markdown",
   "metadata": {},
   "source": [
    "Изучим первые 5 строк таблицы."
   ]
  },
  {
   "cell_type": "code",
   "execution_count": 3,
   "metadata": {},
   "outputs": [
    {
     "data": {
      "text/html": [
       "<div>\n",
       "<style scoped>\n",
       "    .dataframe tbody tr th:only-of-type {\n",
       "        vertical-align: middle;\n",
       "    }\n",
       "\n",
       "    .dataframe tbody tr th {\n",
       "        vertical-align: top;\n",
       "    }\n",
       "\n",
       "    .dataframe thead th {\n",
       "        text-align: right;\n",
       "    }\n",
       "</style>\n",
       "<table border=\"1\" class=\"dataframe\">\n",
       "  <thead>\n",
       "    <tr style=\"text-align: right;\">\n",
       "      <th></th>\n",
       "      <th>calls</th>\n",
       "      <th>minutes</th>\n",
       "      <th>messages</th>\n",
       "      <th>mb_used</th>\n",
       "      <th>is_ultra</th>\n",
       "    </tr>\n",
       "  </thead>\n",
       "  <tbody>\n",
       "    <tr>\n",
       "      <th>0</th>\n",
       "      <td>40.0</td>\n",
       "      <td>311.90</td>\n",
       "      <td>83.0</td>\n",
       "      <td>19915.42</td>\n",
       "      <td>0</td>\n",
       "    </tr>\n",
       "    <tr>\n",
       "      <th>1</th>\n",
       "      <td>85.0</td>\n",
       "      <td>516.75</td>\n",
       "      <td>56.0</td>\n",
       "      <td>22696.96</td>\n",
       "      <td>0</td>\n",
       "    </tr>\n",
       "    <tr>\n",
       "      <th>2</th>\n",
       "      <td>77.0</td>\n",
       "      <td>467.66</td>\n",
       "      <td>86.0</td>\n",
       "      <td>21060.45</td>\n",
       "      <td>0</td>\n",
       "    </tr>\n",
       "    <tr>\n",
       "      <th>3</th>\n",
       "      <td>106.0</td>\n",
       "      <td>745.53</td>\n",
       "      <td>81.0</td>\n",
       "      <td>8437.39</td>\n",
       "      <td>1</td>\n",
       "    </tr>\n",
       "    <tr>\n",
       "      <th>4</th>\n",
       "      <td>66.0</td>\n",
       "      <td>418.74</td>\n",
       "      <td>1.0</td>\n",
       "      <td>14502.75</td>\n",
       "      <td>0</td>\n",
       "    </tr>\n",
       "  </tbody>\n",
       "</table>\n",
       "</div>"
      ],
      "text/plain": [
       "   calls  minutes  messages   mb_used  is_ultra\n",
       "0   40.0   311.90      83.0  19915.42         0\n",
       "1   85.0   516.75      56.0  22696.96         0\n",
       "2   77.0   467.66      86.0  21060.45         0\n",
       "3  106.0   745.53      81.0   8437.39         1\n",
       "4   66.0   418.74       1.0  14502.75         0"
      ]
     },
     "execution_count": 3,
     "metadata": {},
     "output_type": "execute_result"
    }
   ],
   "source": [
    "df.head()"
   ]
  },
  {
   "cell_type": "markdown",
   "metadata": {},
   "source": [
    "Изучим основную информацию о таблице."
   ]
  },
  {
   "cell_type": "code",
   "execution_count": 4,
   "metadata": {},
   "outputs": [
    {
     "name": "stdout",
     "output_type": "stream",
     "text": [
      "<class 'pandas.core.frame.DataFrame'>\n",
      "RangeIndex: 3214 entries, 0 to 3213\n",
      "Data columns (total 5 columns):\n",
      " #   Column    Non-Null Count  Dtype  \n",
      "---  ------    --------------  -----  \n",
      " 0   calls     3214 non-null   float64\n",
      " 1   minutes   3214 non-null   float64\n",
      " 2   messages  3214 non-null   float64\n",
      " 3   mb_used   3214 non-null   float64\n",
      " 4   is_ultra  3214 non-null   int64  \n",
      "dtypes: float64(4), int64(1)\n",
      "memory usage: 125.7 KB\n"
     ]
    }
   ],
   "source": [
    "df.info()"
   ]
  },
  {
   "cell_type": "markdown",
   "metadata": {},
   "source": [
    "Посчитаем доли пользователей с тарифами smart и ultra."
   ]
  },
  {
   "cell_type": "code",
   "execution_count": 5,
   "metadata": {},
   "outputs": [
    {
     "data": {
      "text/plain": [
       "0.693528313627878"
      ]
     },
     "execution_count": 5,
     "metadata": {},
     "output_type": "execute_result"
    }
   ],
   "source": [
    "len(df.query('is_ultra == 0')) / len(df) # доля пользователей с тарифом smart"
   ]
  },
  {
   "cell_type": "code",
   "execution_count": 6,
   "metadata": {},
   "outputs": [
    {
     "data": {
      "text/plain": [
       "0.30647168637212197"
      ]
     },
     "execution_count": 6,
     "metadata": {},
     "output_type": "execute_result"
    }
   ],
   "source": [
    "len(df.query('is_ultra == 1')) / len(df) # доля пользователей с тарифом ultra"
   ]
  },
  {
   "cell_type": "markdown",
   "metadata": {},
   "source": [
    "В нашей выборке почти 70% пользователей используют тариф smart. Соответственно, если мы для рекомендации тарифов будем использовать модель, которая по умолчанию предлагает пользователю наиболее часто встречающийся тариф, то accuracy такой модели будет равно 0.69."
   ]
  },
  {
   "cell_type": "markdown",
   "metadata": {},
   "source": [
    "## Разбивка данных на выборки"
   ]
  },
  {
   "cell_type": "markdown",
   "metadata": {},
   "source": [
    "Разделим датасет на признаки и целевой признак. Признаки сохраним в переменную **features**, а целевой признак - в переменную **target**."
   ]
  },
  {
   "cell_type": "code",
   "execution_count": 7,
   "metadata": {},
   "outputs": [],
   "source": [
    "features = df.drop(['is_ultra'], axis=1)"
   ]
  },
  {
   "cell_type": "code",
   "execution_count": 8,
   "metadata": {},
   "outputs": [],
   "source": [
    "target = df['is_ultra']"
   ]
  },
  {
   "cell_type": "markdown",
   "metadata": {},
   "source": [
    "Теперь разделим признаки и целевой признак на три выбоки: обучающую (train), валидационную (valid) и тестовую (test)."
   ]
  },
  {
   "cell_type": "code",
   "execution_count": 9,
   "metadata": {},
   "outputs": [],
   "source": [
    "features_new, features_test, target_new, target_test = (\n",
    "    train_test_split(features, target, test_size=0.2, random_state=12345, stratify=target)\n",
    ")"
   ]
  },
  {
   "cell_type": "code",
   "execution_count": 10,
   "metadata": {},
   "outputs": [],
   "source": [
    "features_train, features_valid, target_train, target_valid = (\n",
    "    train_test_split(features_new, target_new, test_size=0.25, random_state=12345, stratify=target_new)\n",
    ")"
   ]
  },
  {
   "cell_type": "code",
   "execution_count": 11,
   "metadata": {},
   "outputs": [
    {
     "data": {
      "text/plain": [
       "(1928, 4)"
      ]
     },
     "metadata": {},
     "output_type": "display_data"
    },
    {
     "data": {
      "text/plain": [
       "(1928,)"
      ]
     },
     "metadata": {},
     "output_type": "display_data"
    },
    {
     "data": {
      "text/plain": [
       "(643, 4)"
      ]
     },
     "metadata": {},
     "output_type": "display_data"
    },
    {
     "data": {
      "text/plain": [
       "(643,)"
      ]
     },
     "metadata": {},
     "output_type": "display_data"
    },
    {
     "data": {
      "text/plain": [
       "(643, 4)"
      ]
     },
     "metadata": {},
     "output_type": "display_data"
    },
    {
     "data": {
      "text/plain": [
       "(643,)"
      ]
     },
     "metadata": {},
     "output_type": "display_data"
    }
   ],
   "source": [
    "display(features_train.shape)\n",
    "display(target_train.shape)\n",
    "display(features_valid.shape)\n",
    "display(target_valid.shape)\n",
    "display(features_test.shape)\n",
    "display(target_test.shape)"
   ]
  },
  {
   "cell_type": "markdown",
   "metadata": {},
   "source": [
    "## Исследование моделей"
   ]
  },
  {
   "cell_type": "markdown",
   "metadata": {},
   "source": [
    "### Дерево решений ###"
   ]
  },
  {
   "cell_type": "markdown",
   "metadata": {},
   "source": [
    "Исследуем дерево решений. Для получения оптимального результата рассмотрим модели с разной глубиной дерева от 2 до 5. Большую глубину брать не будем для исключения переобучения."
   ]
  },
  {
   "cell_type": "code",
   "execution_count": 12,
   "metadata": {},
   "outputs": [],
   "source": [
    "best_model_1 = None\n",
    "best_depth_1 = 0\n",
    "best_accuracy_1 = 0\n",
    "for depth in range(2, 6):\n",
    "    model_1 = DecisionTreeClassifier(random_state=12345, max_depth=depth)\n",
    "    model_1.fit(features_train, target_train)\n",
    "    accuracy_1 = model_1.score(features_valid, target_valid)\n",
    "    if accuracy_1 > best_accuracy_1:\n",
    "        best_accuracy_1 = accuracy_1\n",
    "        best_model_1 = model_1\n",
    "        best_depth_1 = depth"
   ]
  },
  {
   "cell_type": "code",
   "execution_count": 13,
   "metadata": {},
   "outputs": [
    {
     "name": "stdout",
     "output_type": "stream",
     "text": [
      "Лучший результат дерева решений - 0.8164852255054432\n",
      "Лучшая глубина дерева решений - 5\n"
     ]
    }
   ],
   "source": [
    "print('Лучший результат дерева решений -', best_accuracy_1)\n",
    "print('Лучшая глубина дерева решений -', best_depth_1)"
   ]
  },
  {
   "cell_type": "markdown",
   "metadata": {},
   "source": [
    "Дерево решений показывает достаточно высокое значение accuracy, при этом скорость обработки данных тоже высокая."
   ]
  },
  {
   "cell_type": "markdown",
   "metadata": {},
   "source": [
    "### Случайный лес ###"
   ]
  },
  {
   "cell_type": "markdown",
   "metadata": {},
   "source": [
    "Теперь попробуем найти лучшую модель случайного леса. Переберем различные варианты количества деревьев в диапазоне от 10 до 300 с шагом 10. Глубину также зададим от 2 до 5."
   ]
  },
  {
   "cell_type": "code",
   "execution_count": 14,
   "metadata": {},
   "outputs": [],
   "source": [
    "best_model_2 = None\n",
    "best_depth_2 = 0\n",
    "best_est_2 = 0\n",
    "best_accuracy_2 = 0\n",
    "for est in range(10, 300, 10):\n",
    "    for depth in range(2, 6):\n",
    "        model_2 = RandomForestClassifier(random_state=12345, n_estimators=est, max_depth=depth, n_jobs=-1)\n",
    "        model_2.fit(features_train, target_train)\n",
    "        accuracy_2 = model_2.score(features_valid, target_valid)\n",
    "        if accuracy_2 > best_accuracy_2:\n",
    "            best_accuracy_2 = accuracy_2\n",
    "            best_model_2 = model_2\n",
    "            best_depth_2 = depth\n",
    "            best_est_2 = est"
   ]
  },
  {
   "cell_type": "code",
   "execution_count": 15,
   "metadata": {},
   "outputs": [
    {
     "name": "stdout",
     "output_type": "stream",
     "text": [
      "Лучший результат случайного леса - 0.8211508553654744\n",
      "Лучшее количество деревьев случайного леса - 10\n",
      "Лучшая глубина случайного леса - 4\n"
     ]
    }
   ],
   "source": [
    "print('Лучший результат случайного леса -', best_accuracy_2)\n",
    "print('Лучшее количество деревьев случайного леса -', best_est_2)\n",
    "print('Лучшая глубина случайного леса -', best_depth_2)"
   ]
  },
  {
   "cell_type": "markdown",
   "metadata": {},
   "source": [
    "Несмотря на низкую скорость работы, случайный лес позволяет достичь более высокого значения accuracy на валидационной выборке."
   ]
  },
  {
   "cell_type": "markdown",
   "metadata": {},
   "source": [
    "### Логистическая регрессия ###"
   ]
  },
  {
   "cell_type": "markdown",
   "metadata": {},
   "source": [
    "Также построим модель, основанную на логистической регрессии."
   ]
  },
  {
   "cell_type": "code",
   "execution_count": 16,
   "metadata": {},
   "outputs": [],
   "source": [
    "model_3 = LogisticRegression(random_state=12345, solver='lbfgs', max_iter=1000)\n",
    "model_3.fit(features_train, target_train)\n",
    "best_accuracy_3 = model_3.score(features_valid, target_valid)"
   ]
  },
  {
   "cell_type": "code",
   "execution_count": 17,
   "metadata": {},
   "outputs": [
    {
     "name": "stdout",
     "output_type": "stream",
     "text": [
      "Лучший результат логистической регрессии - 0.7558320373250389\n"
     ]
    }
   ],
   "source": [
    "print('Лучший результат логистической регрессии -', best_accuracy_3)"
   ]
  },
  {
   "cell_type": "markdown",
   "metadata": {},
   "source": [
    "Несмотря на очень высокую скорость обработки данных, результат accuracy ниже чем у других моделей."
   ]
  },
  {
   "cell_type": "markdown",
   "metadata": {},
   "source": [
    "**Лучшее значение accuracy показала модель, построенная на основе случайного леса с 10 деревьями и глубиной равной 4. Проверим ее на тестовой выборке.**"
   ]
  },
  {
   "cell_type": "markdown",
   "metadata": {},
   "source": [
    "## Проверка модели на тестовой выборке"
   ]
  },
  {
   "cell_type": "markdown",
   "metadata": {},
   "source": [
    "Снова построим модель на основе случайного леса с заранее заданными гиперпараметрами: количество деревьев - 10, глубина - 4.\n",
    "\n",
    "Для улучшения качества обучения модели будем использовать суммарно выборки train и valid."
   ]
  },
  {
   "cell_type": "code",
   "execution_count": 18,
   "metadata": {},
   "outputs": [
    {
     "data": {
      "text/plain": [
       "RandomForestClassifier(max_depth=4, n_estimators=10, random_state=12345)"
      ]
     },
     "execution_count": 18,
     "metadata": {},
     "output_type": "execute_result"
    }
   ],
   "source": [
    "model = RandomForestClassifier(random_state=12345, n_estimators=10, max_depth=4)\n",
    "model.fit(features_new, target_new)"
   ]
  },
  {
   "cell_type": "markdown",
   "metadata": {},
   "source": [
    "Предсказания построенной модели:"
   ]
  },
  {
   "cell_type": "code",
   "execution_count": 19,
   "metadata": {},
   "outputs": [],
   "source": [
    "predictions = model.predict(features_test)"
   ]
  },
  {
   "cell_type": "markdown",
   "metadata": {},
   "source": [
    "Доля правильных ответов:"
   ]
  },
  {
   "cell_type": "code",
   "execution_count": 20,
   "metadata": {},
   "outputs": [
    {
     "data": {
      "text/plain": [
       "0.7978227060653188"
      ]
     },
     "execution_count": 20,
     "metadata": {},
     "output_type": "execute_result"
    }
   ],
   "source": [
    "accuracy_score(target_test, predictions)"
   ]
  },
  {
   "cell_type": "markdown",
   "metadata": {},
   "source": [
    "Точность (доля правильно предсказанных пользователей с тарифом ultra):"
   ]
  },
  {
   "cell_type": "code",
   "execution_count": 21,
   "metadata": {},
   "outputs": [
    {
     "data": {
      "text/plain": [
       "0.8252427184466019"
      ]
     },
     "execution_count": 21,
     "metadata": {},
     "output_type": "execute_result"
    }
   ],
   "source": [
    "precision_score(target_test, predictions)"
   ]
  },
  {
   "cell_type": "markdown",
   "metadata": {},
   "source": [
    "Полнота (доля пользователей с тарифом ultra, которых выделила модель):"
   ]
  },
  {
   "cell_type": "code",
   "execution_count": 22,
   "metadata": {},
   "outputs": [
    {
     "data": {
      "text/plain": [
       "0.43147208121827413"
      ]
     },
     "execution_count": 22,
     "metadata": {},
     "output_type": "execute_result"
    }
   ],
   "source": [
    "recall_score(target_test, predictions)"
   ]
  },
  {
   "cell_type": "markdown",
   "metadata": {},
   "source": [
    "Гармоническое среднее значение запоминания и точности:"
   ]
  },
  {
   "cell_type": "code",
   "execution_count": 23,
   "metadata": {},
   "outputs": [
    {
     "data": {
      "text/plain": [
       "0.5666666666666667"
      ]
     },
     "execution_count": 23,
     "metadata": {},
     "output_type": "execute_result"
    }
   ],
   "source": [
    "f1_score(target_test, predictions)"
   ]
  },
  {
   "cell_type": "markdown",
   "metadata": {},
   "source": [
    "Построение confusion_matrix:"
   ]
  },
  {
   "cell_type": "code",
   "execution_count": 24,
   "metadata": {},
   "outputs": [
    {
     "data": {
      "text/plain": [
       "array([[428,  18],\n",
       "       [112,  85]])"
      ]
     },
     "execution_count": 24,
     "metadata": {},
     "output_type": "execute_result"
    }
   ],
   "source": [
    "confusion_matrix(target_test, predictions)"
   ]
  },
  {
   "cell_type": "markdown",
   "metadata": {},
   "source": [
    "Согласно confusion_matrix получаем следующий результат:\n",
    "- 428 правильно предсказанных тарифов smart\n",
    "- 112 неправильно предсказанных тарифов smart\n",
    "- 18 неправильно предсказанных тарифов ultra\n",
    "- 85 правильно предсказанных тарифов ultra"
   ]
  },
  {
   "cell_type": "markdown",
   "metadata": {},
   "source": [
    "Построенная модель может помочь бизнесу, предлагая пользователю те тарифы, которые выгодны компании. Тем самым можно сократить издержки на поддержание старых тарифов. Это также может быть полезно для самих пользователей, которые регулярно не укладываются в пакет услуг, предусмотренных используемым тарифом, или наоборот не расходуют его полностью."
   ]
  },
  {
   "cell_type": "markdown",
   "metadata": {},
   "source": [
    "## Проверка модели на адекватность"
   ]
  },
  {
   "cell_type": "markdown",
   "metadata": {},
   "source": [
    "Для того, чтобы проверить целесообразность создания и использования модели машинного обучения, сравним ее с моделью, которая по умолчанию предлагает пользователю один из тарифов."
   ]
  },
  {
   "cell_type": "markdown",
   "metadata": {},
   "source": [
    "Построим модель, которая для всех пользователей предлагает наиболее часто встречающийся тариф, и сравним ее значение accuracy с ранее построенной моделью на основе случайного леса."
   ]
  },
  {
   "cell_type": "code",
   "execution_count": 25,
   "metadata": {},
   "outputs": [],
   "source": [
    "model_test = DummyClassifier(random_state=12345, strategy='most_frequent')\n",
    "model_test.fit(features_train, target_train)\n",
    "accuracy_test = model_test.score(features_test, target_test)"
   ]
  },
  {
   "cell_type": "code",
   "execution_count": 26,
   "metadata": {},
   "outputs": [
    {
     "data": {
      "text/plain": [
       "0.6936236391912908"
      ]
     },
     "execution_count": 26,
     "metadata": {},
     "output_type": "execute_result"
    }
   ],
   "source": [
    "accuracy_test"
   ]
  },
  {
   "cell_type": "markdown",
   "metadata": {},
   "source": [
    "Значение accuracy получилось ниже и не соответствует целевому значению (0.75). Значит, использование построенной модели на основе случайного леса для рекомендации тарифа целесообразно."
   ]
  },
  {
   "cell_type": "code",
   "execution_count": null,
   "metadata": {},
   "outputs": [],
   "source": []
  }
 ],
 "metadata": {
  "ExecuteTimeLog": [
   {
    "duration": 347,
    "start_time": "2022-08-12T18:45:49.361Z"
   },
   {
    "duration": 120,
    "start_time": "2022-08-12T18:45:50.038Z"
   },
   {
    "duration": 16,
    "start_time": "2022-08-12T18:45:50.599Z"
   },
   {
    "duration": 11,
    "start_time": "2022-08-12T18:45:51.329Z"
   },
   {
    "duration": 755,
    "start_time": "2022-08-12T19:08:01.614Z"
   },
   {
    "duration": 31,
    "start_time": "2022-08-12T19:08:03.618Z"
   },
   {
    "duration": 12,
    "start_time": "2022-08-12T19:08:04.328Z"
   },
   {
    "duration": 10,
    "start_time": "2022-08-12T19:08:05.077Z"
   },
   {
    "duration": 4,
    "start_time": "2022-08-12T19:08:08.263Z"
   },
   {
    "duration": 4,
    "start_time": "2022-08-12T19:08:08.917Z"
   },
   {
    "duration": 80,
    "start_time": "2022-08-12T19:08:09.580Z"
   },
   {
    "duration": 5,
    "start_time": "2022-08-12T19:08:15.142Z"
   },
   {
    "duration": 5,
    "start_time": "2022-08-12T19:08:18.831Z"
   },
   {
    "duration": 110,
    "start_time": "2022-08-12T19:16:07.000Z"
   },
   {
    "duration": 14,
    "start_time": "2022-08-12T19:16:18.502Z"
   },
   {
    "duration": 5,
    "start_time": "2022-08-12T19:17:17.164Z"
   },
   {
    "duration": 29,
    "start_time": "2022-08-12T19:17:18.520Z"
   },
   {
    "duration": 69,
    "start_time": "2022-08-12T19:19:04.523Z"
   },
   {
    "duration": 41,
    "start_time": "2022-08-12T19:19:12.857Z"
   },
   {
    "duration": 43,
    "start_time": "2022-08-12T19:19:18.578Z"
   },
   {
    "duration": 44,
    "start_time": "2022-08-12T19:19:24.692Z"
   },
   {
    "duration": 62,
    "start_time": "2022-08-12T19:21:06.110Z"
   },
   {
    "duration": 19,
    "start_time": "2022-08-12T19:25:06.019Z"
   },
   {
    "duration": 24,
    "start_time": "2022-08-12T19:25:14.180Z"
   },
   {
    "duration": 27,
    "start_time": "2022-08-12T19:32:15.933Z"
   },
   {
    "duration": 75,
    "start_time": "2022-08-12T19:34:21.135Z"
   },
   {
    "duration": 3,
    "start_time": "2022-08-12T19:34:23.292Z"
   },
   {
    "duration": 10517,
    "start_time": "2022-08-12T19:34:59.832Z"
   },
   {
    "duration": 6,
    "start_time": "2022-08-12T19:35:10.351Z"
   },
   {
    "duration": 34,
    "start_time": "2022-08-12T19:35:37.767Z"
   },
   {
    "duration": 4,
    "start_time": "2022-08-12T19:35:38.523Z"
   },
   {
    "duration": 297,
    "start_time": "2022-08-12T19:38:30.680Z"
   },
   {
    "duration": 150,
    "start_time": "2022-08-12T19:38:52.227Z"
   },
   {
    "duration": 4,
    "start_time": "2022-08-12T19:38:53.216Z"
   },
   {
    "duration": 1197,
    "start_time": "2022-08-18T14:08:14.906Z"
   },
   {
    "duration": 116,
    "start_time": "2022-08-18T14:08:17.173Z"
   },
   {
    "duration": 15,
    "start_time": "2022-08-18T14:08:18.909Z"
   },
   {
    "duration": 10,
    "start_time": "2022-08-18T14:08:20.236Z"
   },
   {
    "duration": 3,
    "start_time": "2022-08-18T14:08:22.468Z"
   },
   {
    "duration": 2,
    "start_time": "2022-08-18T14:08:23.445Z"
   },
   {
    "duration": 10,
    "start_time": "2022-08-18T14:08:31.862Z"
   },
   {
    "duration": 5,
    "start_time": "2022-08-18T14:12:13.162Z"
   },
   {
    "duration": 6,
    "start_time": "2022-08-18T14:12:13.823Z"
   },
   {
    "duration": 68,
    "start_time": "2022-08-18T14:12:16.288Z"
   },
   {
    "duration": 3,
    "start_time": "2022-08-18T14:12:17.736Z"
   },
   {
    "duration": 65,
    "start_time": "2022-08-18T14:12:24.258Z"
   },
   {
    "duration": 3,
    "start_time": "2022-08-18T14:12:25.262Z"
   },
   {
    "duration": 28,
    "start_time": "2022-08-18T14:12:39.144Z"
   },
   {
    "duration": 3,
    "start_time": "2022-08-18T14:12:39.769Z"
   },
   {
    "duration": 64,
    "start_time": "2022-08-18T14:12:44.105Z"
   },
   {
    "duration": 3,
    "start_time": "2022-08-18T14:12:44.848Z"
   },
   {
    "duration": 10336,
    "start_time": "2022-08-18T14:15:43.588Z"
   },
   {
    "duration": 104,
    "start_time": "2022-08-18T14:15:53.926Z"
   },
   {
    "duration": 4,
    "start_time": "2022-08-18T14:16:09.445Z"
   },
   {
    "duration": 26,
    "start_time": "2022-08-18T14:19:35.418Z"
   },
   {
    "duration": 4,
    "start_time": "2022-08-18T14:19:36.388Z"
   },
   {
    "duration": 27,
    "start_time": "2022-08-18T14:19:41.729Z"
   },
   {
    "duration": 3,
    "start_time": "2022-08-18T14:19:42.292Z"
   },
   {
    "duration": 41,
    "start_time": "2022-08-18T14:19:45.698Z"
   },
   {
    "duration": 3,
    "start_time": "2022-08-18T14:19:46.259Z"
   },
   {
    "duration": 36,
    "start_time": "2022-08-18T14:19:49.714Z"
   },
   {
    "duration": 2,
    "start_time": "2022-08-18T14:19:50.194Z"
   },
   {
    "duration": 176,
    "start_time": "2022-08-18T14:20:10.281Z"
   },
   {
    "duration": 4,
    "start_time": "2022-08-18T14:20:11.800Z"
   },
   {
    "duration": 99543,
    "start_time": "2022-08-18T14:24:54.909Z"
   },
   {
    "duration": 4,
    "start_time": "2022-08-18T14:26:48.028Z"
   },
   {
    "duration": 101080,
    "start_time": "2022-08-18T14:27:05.902Z"
   },
   {
    "duration": 3,
    "start_time": "2022-08-18T14:29:14.951Z"
   },
   {
    "duration": 39952,
    "start_time": "2022-08-18T14:59:08.857Z"
   },
   {
    "duration": 4,
    "start_time": "2022-08-18T14:59:51.935Z"
   },
   {
    "duration": 108,
    "start_time": "2022-08-18T15:00:12.113Z"
   },
   {
    "duration": 3,
    "start_time": "2022-08-18T15:00:18.157Z"
   },
   {
    "duration": 1041,
    "start_time": "2022-08-20T11:37:02.266Z"
   },
   {
    "duration": 3,
    "start_time": "2022-08-20T11:38:27.372Z"
   },
   {
    "duration": 124,
    "start_time": "2022-08-20T11:38:28.406Z"
   },
   {
    "duration": 19,
    "start_time": "2022-08-20T11:38:30.006Z"
   },
   {
    "duration": 12,
    "start_time": "2022-08-20T11:38:31.122Z"
   },
   {
    "duration": 7,
    "start_time": "2022-08-20T11:39:03.556Z"
   },
   {
    "duration": 8,
    "start_time": "2022-08-20T11:39:09.379Z"
   },
   {
    "duration": 89,
    "start_time": "2022-08-20T11:44:13.739Z"
   },
   {
    "duration": 4,
    "start_time": "2022-08-20T11:44:20.053Z"
   },
   {
    "duration": 3,
    "start_time": "2022-08-20T11:44:20.622Z"
   },
   {
    "duration": 6,
    "start_time": "2022-08-20T11:44:22.078Z"
   },
   {
    "duration": 5,
    "start_time": "2022-08-20T11:44:22.598Z"
   },
   {
    "duration": 25,
    "start_time": "2022-08-20T11:44:26.954Z"
   },
   {
    "duration": 3,
    "start_time": "2022-08-20T11:44:28.098Z"
   },
   {
    "duration": 35,
    "start_time": "2022-08-20T11:47:05.988Z"
   },
   {
    "duration": 4,
    "start_time": "2022-08-20T11:47:09.482Z"
   },
   {
    "duration": 28,
    "start_time": "2022-08-20T11:47:15.554Z"
   },
   {
    "duration": 3,
    "start_time": "2022-08-20T11:47:16.254Z"
   },
   {
    "duration": 26,
    "start_time": "2022-08-20T11:49:00.642Z"
   },
   {
    "duration": 5,
    "start_time": "2022-08-20T11:49:01.537Z"
   },
   {
    "duration": 32895,
    "start_time": "2022-08-20T11:51:50.935Z"
   },
   {
    "duration": 3,
    "start_time": "2022-08-20T11:52:55.742Z"
   },
   {
    "duration": 33,
    "start_time": "2022-08-20T11:54:21.146Z"
   },
   {
    "duration": 5,
    "start_time": "2022-08-20T11:54:21.976Z"
   },
   {
    "duration": 21,
    "start_time": "2022-08-20T11:55:30.643Z"
   },
   {
    "duration": 5,
    "start_time": "2022-08-20T11:55:31.345Z"
   },
   {
    "duration": 33,
    "start_time": "2022-08-20T11:55:38.301Z"
   },
   {
    "duration": 3,
    "start_time": "2022-08-20T11:55:39.660Z"
   },
   {
    "duration": 31,
    "start_time": "2022-08-20T11:56:06.652Z"
   },
   {
    "duration": 4,
    "start_time": "2022-08-20T11:56:07.342Z"
   },
   {
    "duration": 23,
    "start_time": "2022-08-20T11:56:28.748Z"
   },
   {
    "duration": 4,
    "start_time": "2022-08-20T11:56:29.440Z"
   },
   {
    "duration": 32420,
    "start_time": "2022-08-20T11:56:31.766Z"
   },
   {
    "duration": 4,
    "start_time": "2022-08-20T11:57:05.289Z"
   },
   {
    "duration": 90,
    "start_time": "2022-08-20T11:57:16.385Z"
   },
   {
    "duration": 4,
    "start_time": "2022-08-20T11:57:17.279Z"
   },
   {
    "duration": 49,
    "start_time": "2022-08-20T12:21:16.531Z"
   },
   {
    "duration": 14,
    "start_time": "2022-08-20T12:21:54.338Z"
   },
   {
    "duration": 5,
    "start_time": "2022-08-20T12:22:06.838Z"
   },
   {
    "duration": 5,
    "start_time": "2022-08-20T12:26:52.282Z"
   },
   {
    "duration": 4,
    "start_time": "2022-08-20T12:26:59.265Z"
   },
   {
    "duration": 1107,
    "start_time": "2022-08-20T12:34:48.796Z"
   },
   {
    "duration": 32,
    "start_time": "2022-08-20T12:34:49.905Z"
   },
   {
    "duration": 18,
    "start_time": "2022-08-20T12:34:49.938Z"
   },
   {
    "duration": 11,
    "start_time": "2022-08-20T12:34:49.959Z"
   },
   {
    "duration": 5,
    "start_time": "2022-08-20T12:34:49.972Z"
   },
   {
    "duration": 6,
    "start_time": "2022-08-20T12:34:49.979Z"
   },
   {
    "duration": 9,
    "start_time": "2022-08-20T12:34:49.986Z"
   },
   {
    "duration": 7,
    "start_time": "2022-08-20T12:34:49.996Z"
   },
   {
    "duration": 31,
    "start_time": "2022-08-20T12:34:50.004Z"
   },
   {
    "duration": 4,
    "start_time": "2022-08-20T12:34:50.038Z"
   },
   {
    "duration": 33845,
    "start_time": "2022-08-20T12:34:50.046Z"
   },
   {
    "duration": 9,
    "start_time": "2022-08-20T12:35:23.892Z"
   },
   {
    "duration": 77,
    "start_time": "2022-08-20T12:35:23.903Z"
   },
   {
    "duration": 4,
    "start_time": "2022-08-20T12:35:23.982Z"
   },
   {
    "duration": 110,
    "start_time": "2022-08-20T12:35:23.988Z"
   },
   {
    "duration": 6,
    "start_time": "2022-08-20T12:35:24.101Z"
   },
   {
    "duration": 10,
    "start_time": "2022-08-20T12:35:24.108Z"
   },
   {
    "duration": 11,
    "start_time": "2022-08-20T12:35:24.120Z"
   },
   {
    "duration": 1238,
    "start_time": "2022-08-20T21:29:34.103Z"
   },
   {
    "duration": 30,
    "start_time": "2022-08-20T21:29:35.343Z"
   },
   {
    "duration": 16,
    "start_time": "2022-08-20T21:29:35.375Z"
   },
   {
    "duration": 10,
    "start_time": "2022-08-20T21:29:35.392Z"
   },
   {
    "duration": 5,
    "start_time": "2022-08-20T21:29:35.403Z"
   },
   {
    "duration": 9,
    "start_time": "2022-08-20T21:29:35.409Z"
   },
   {
    "duration": 5,
    "start_time": "2022-08-20T21:29:35.420Z"
   },
   {
    "duration": 6,
    "start_time": "2022-08-20T21:29:35.427Z"
   },
   {
    "duration": 24,
    "start_time": "2022-08-20T21:29:35.434Z"
   },
   {
    "duration": 3,
    "start_time": "2022-08-20T21:29:35.461Z"
   },
   {
    "duration": 31392,
    "start_time": "2022-08-20T21:29:35.466Z"
   },
   {
    "duration": 3,
    "start_time": "2022-08-20T21:30:06.860Z"
   },
   {
    "duration": 42,
    "start_time": "2022-08-20T21:30:06.865Z"
   },
   {
    "duration": 3,
    "start_time": "2022-08-20T21:30:06.908Z"
   },
   {
    "duration": 95,
    "start_time": "2022-08-20T21:30:06.913Z"
   },
   {
    "duration": 3,
    "start_time": "2022-08-20T21:30:07.010Z"
   },
   {
    "duration": 8,
    "start_time": "2022-08-20T21:30:07.015Z"
   },
   {
    "duration": 6,
    "start_time": "2022-08-20T21:30:07.024Z"
   },
   {
    "duration": 965,
    "start_time": "2022-08-21T11:21:51.835Z"
   },
   {
    "duration": 151,
    "start_time": "2022-08-21T11:21:52.802Z"
   },
   {
    "duration": 18,
    "start_time": "2022-08-21T11:21:52.955Z"
   },
   {
    "duration": 11,
    "start_time": "2022-08-21T11:21:52.975Z"
   },
   {
    "duration": 6,
    "start_time": "2022-08-21T11:21:52.987Z"
   },
   {
    "duration": 5,
    "start_time": "2022-08-21T11:21:52.994Z"
   },
   {
    "duration": 7,
    "start_time": "2022-08-21T11:21:53.000Z"
   },
   {
    "duration": 5,
    "start_time": "2022-08-21T11:21:53.008Z"
   },
   {
    "duration": 25,
    "start_time": "2022-08-21T11:21:53.015Z"
   },
   {
    "duration": 3,
    "start_time": "2022-08-21T11:21:53.042Z"
   },
   {
    "duration": 33436,
    "start_time": "2022-08-21T11:21:53.046Z"
   },
   {
    "duration": 4,
    "start_time": "2022-08-21T11:22:26.483Z"
   },
   {
    "duration": 42,
    "start_time": "2022-08-21T11:22:26.488Z"
   },
   {
    "duration": 3,
    "start_time": "2022-08-21T11:22:26.531Z"
   },
   {
    "duration": 112,
    "start_time": "2022-08-21T11:22:26.535Z"
   },
   {
    "duration": 3,
    "start_time": "2022-08-21T11:22:26.649Z"
   },
   {
    "duration": 7,
    "start_time": "2022-08-21T11:22:26.653Z"
   },
   {
    "duration": 5,
    "start_time": "2022-08-21T11:22:26.661Z"
   },
   {
    "duration": 117,
    "start_time": "2022-08-21T11:22:45.408Z"
   },
   {
    "duration": 4,
    "start_time": "2022-08-21T11:22:46.463Z"
   },
   {
    "duration": 96,
    "start_time": "2022-08-21T11:23:10.562Z"
   },
   {
    "duration": 4,
    "start_time": "2022-08-21T11:23:11.193Z"
   },
   {
    "duration": 111,
    "start_time": "2022-08-21T11:23:21.965Z"
   },
   {
    "duration": 3,
    "start_time": "2022-08-21T11:23:23.212Z"
   },
   {
    "duration": 1276,
    "start_time": "2022-08-22T12:05:05.863Z"
   },
   {
    "duration": 120,
    "start_time": "2022-08-22T12:05:09.310Z"
   },
   {
    "duration": 27,
    "start_time": "2022-08-22T12:05:10.800Z"
   },
   {
    "duration": 14,
    "start_time": "2022-08-22T12:05:12.766Z"
   },
   {
    "duration": 5,
    "start_time": "2022-08-22T12:05:15.548Z"
   },
   {
    "duration": 3,
    "start_time": "2022-08-22T12:05:16.245Z"
   },
   {
    "duration": 8,
    "start_time": "2022-08-22T12:05:19.185Z"
   },
   {
    "duration": 8,
    "start_time": "2022-08-22T12:05:26.157Z"
   },
   {
    "duration": 3,
    "start_time": "2022-08-22T12:07:21.008Z"
   },
   {
    "duration": 346,
    "start_time": "2022-08-22T12:07:21.511Z"
   },
   {
    "duration": 7,
    "start_time": "2022-08-22T12:07:45.700Z"
   },
   {
    "duration": 60,
    "start_time": "2022-08-22T12:07:46.700Z"
   },
   {
    "duration": 4,
    "start_time": "2022-08-22T12:07:52.042Z"
   },
   {
    "duration": 85,
    "start_time": "2022-08-22T12:07:55.024Z"
   },
   {
    "duration": 4,
    "start_time": "2022-08-22T12:07:57.641Z"
   },
   {
    "duration": 10,
    "start_time": "2022-08-22T12:10:32.878Z"
   },
   {
    "duration": 12,
    "start_time": "2022-08-22T12:10:47.001Z"
   },
   {
    "duration": 8,
    "start_time": "2022-08-22T12:11:06.628Z"
   },
   {
    "duration": 4,
    "start_time": "2022-08-22T12:49:28.715Z"
   },
   {
    "duration": 121,
    "start_time": "2022-08-22T13:14:59.815Z"
   },
   {
    "duration": 11,
    "start_time": "2022-08-22T13:15:14.985Z"
   },
   {
    "duration": 3,
    "start_time": "2022-08-22T13:15:16.321Z"
   },
   {
    "duration": 3,
    "start_time": "2022-08-22T13:15:18.180Z"
   },
   {
    "duration": 3,
    "start_time": "2022-08-22T13:15:19.555Z"
   },
   {
    "duration": 3,
    "start_time": "2022-08-22T13:24:51.929Z"
   },
   {
    "duration": 5,
    "start_time": "2022-08-22T13:25:19.261Z"
   },
   {
    "duration": 14,
    "start_time": "2022-08-22T13:35:04.425Z"
   },
   {
    "duration": 4,
    "start_time": "2022-08-22T13:35:23.837Z"
   },
   {
    "duration": 5,
    "start_time": "2022-08-22T13:35:46.509Z"
   },
   {
    "duration": 10,
    "start_time": "2022-08-22T13:35:53.883Z"
   },
   {
    "duration": 6,
    "start_time": "2022-08-22T13:36:02.261Z"
   },
   {
    "duration": 8,
    "start_time": "2022-08-22T13:43:30.562Z"
   },
   {
    "duration": 7,
    "start_time": "2022-08-22T13:43:31.676Z"
   },
   {
    "duration": 6,
    "start_time": "2022-08-22T13:44:55.219Z"
   },
   {
    "duration": 15,
    "start_time": "2022-08-22T13:44:55.883Z"
   },
   {
    "duration": 18,
    "start_time": "2022-08-22T13:52:07.181Z"
   },
   {
    "duration": 14,
    "start_time": "2022-08-22T13:52:08.677Z"
   },
   {
    "duration": 4,
    "start_time": "2022-08-22T13:52:09.407Z"
   },
   {
    "duration": 6,
    "start_time": "2022-08-22T13:52:10.699Z"
   },
   {
    "duration": 6,
    "start_time": "2022-08-22T13:52:11.731Z"
   },
   {
    "duration": 6,
    "start_time": "2022-08-22T13:52:12.892Z"
   },
   {
    "duration": 5,
    "start_time": "2022-08-22T13:52:13.396Z"
   },
   {
    "duration": 1117,
    "start_time": "2022-08-22T13:52:31.796Z"
   },
   {
    "duration": 39,
    "start_time": "2022-08-22T13:52:32.915Z"
   },
   {
    "duration": 19,
    "start_time": "2022-08-22T13:52:32.955Z"
   },
   {
    "duration": 24,
    "start_time": "2022-08-22T13:52:32.976Z"
   },
   {
    "duration": 11,
    "start_time": "2022-08-22T13:52:33.001Z"
   },
   {
    "duration": 6,
    "start_time": "2022-08-22T13:52:33.013Z"
   },
   {
    "duration": 7,
    "start_time": "2022-08-22T13:52:33.020Z"
   },
   {
    "duration": 6,
    "start_time": "2022-08-22T13:52:33.028Z"
   },
   {
    "duration": 8,
    "start_time": "2022-08-22T13:52:33.036Z"
   },
   {
    "duration": 5,
    "start_time": "2022-08-22T13:52:33.047Z"
   },
   {
    "duration": 11,
    "start_time": "2022-08-22T13:52:33.053Z"
   },
   {
    "duration": 27,
    "start_time": "2022-08-22T13:52:33.095Z"
   },
   {
    "duration": 3,
    "start_time": "2022-08-22T13:52:33.124Z"
   },
   {
    "duration": 34927,
    "start_time": "2022-08-22T13:52:33.129Z"
   },
   {
    "duration": 3,
    "start_time": "2022-08-22T13:53:08.058Z"
   },
   {
    "duration": 40,
    "start_time": "2022-08-22T13:53:08.062Z"
   },
   {
    "duration": 3,
    "start_time": "2022-08-22T13:53:08.104Z"
   },
   {
    "duration": 124,
    "start_time": "2022-08-22T13:53:08.109Z"
   },
   {
    "duration": 11,
    "start_time": "2022-08-22T13:53:08.235Z"
   },
   {
    "duration": 12,
    "start_time": "2022-08-22T13:53:08.247Z"
   },
   {
    "duration": 19,
    "start_time": "2022-08-22T13:53:08.261Z"
   },
   {
    "duration": 18,
    "start_time": "2022-08-22T13:53:08.281Z"
   },
   {
    "duration": 10,
    "start_time": "2022-08-22T13:53:08.302Z"
   },
   {
    "duration": 9,
    "start_time": "2022-08-22T13:53:08.314Z"
   },
   {
    "duration": 6,
    "start_time": "2022-08-22T13:53:08.325Z"
   },
   {
    "duration": 7,
    "start_time": "2022-08-22T13:53:08.332Z"
   },
   {
    "duration": 16,
    "start_time": "2022-08-22T13:53:08.340Z"
   },
   {
    "duration": 42,
    "start_time": "2022-08-22T13:55:21.854Z"
   },
   {
    "duration": 7,
    "start_time": "2022-08-22T13:55:23.973Z"
   },
   {
    "duration": 8,
    "start_time": "2022-08-22T13:55:25.472Z"
   },
   {
    "duration": 5,
    "start_time": "2022-08-22T13:55:26.635Z"
   },
   {
    "duration": 33,
    "start_time": "2022-08-22T13:56:08.134Z"
   },
   {
    "duration": 7,
    "start_time": "2022-08-22T13:56:10.701Z"
   },
   {
    "duration": 9,
    "start_time": "2022-08-22T13:56:12.005Z"
   },
   {
    "duration": 1064,
    "start_time": "2022-08-22T14:17:54.352Z"
   },
   {
    "duration": 31,
    "start_time": "2022-08-22T14:17:55.418Z"
   },
   {
    "duration": 18,
    "start_time": "2022-08-22T14:17:55.451Z"
   },
   {
    "duration": 10,
    "start_time": "2022-08-22T14:17:55.471Z"
   },
   {
    "duration": 40,
    "start_time": "2022-08-22T14:17:55.483Z"
   },
   {
    "duration": 6,
    "start_time": "2022-08-22T14:17:55.524Z"
   },
   {
    "duration": 7,
    "start_time": "2022-08-22T14:17:55.532Z"
   },
   {
    "duration": 8,
    "start_time": "2022-08-22T14:17:55.541Z"
   },
   {
    "duration": 10,
    "start_time": "2022-08-22T14:17:55.551Z"
   },
   {
    "duration": 6,
    "start_time": "2022-08-22T14:17:55.565Z"
   },
   {
    "duration": 10,
    "start_time": "2022-08-22T14:17:55.573Z"
   },
   {
    "duration": 32,
    "start_time": "2022-08-22T14:17:55.585Z"
   },
   {
    "duration": 6,
    "start_time": "2022-08-22T14:17:55.619Z"
   },
   {
    "duration": 37687,
    "start_time": "2022-08-22T14:17:55.626Z"
   },
   {
    "duration": 5,
    "start_time": "2022-08-22T14:18:33.315Z"
   },
   {
    "duration": 49,
    "start_time": "2022-08-22T14:18:33.322Z"
   },
   {
    "duration": 3,
    "start_time": "2022-08-22T14:18:33.372Z"
   },
   {
    "duration": 76,
    "start_time": "2022-08-22T14:18:33.377Z"
   },
   {
    "duration": 7,
    "start_time": "2022-08-22T14:18:33.455Z"
   },
   {
    "duration": 53,
    "start_time": "2022-08-22T14:18:33.463Z"
   },
   {
    "duration": 15,
    "start_time": "2022-08-22T14:18:33.517Z"
   },
   {
    "duration": 13,
    "start_time": "2022-08-22T14:18:33.534Z"
   },
   {
    "duration": 13,
    "start_time": "2022-08-22T14:18:33.549Z"
   },
   {
    "duration": 10,
    "start_time": "2022-08-22T14:18:33.563Z"
   },
   {
    "duration": 42,
    "start_time": "2022-08-22T14:18:33.575Z"
   },
   {
    "duration": 15,
    "start_time": "2022-08-22T14:18:33.619Z"
   },
   {
    "duration": 6,
    "start_time": "2022-08-22T14:20:19.356Z"
   },
   {
    "duration": 84,
    "start_time": "2022-08-22T14:38:25.758Z"
   },
   {
    "duration": 1065,
    "start_time": "2022-08-22T14:40:18.767Z"
   },
   {
    "duration": 31,
    "start_time": "2022-08-22T14:40:19.834Z"
   },
   {
    "duration": 25,
    "start_time": "2022-08-22T14:40:19.867Z"
   },
   {
    "duration": 17,
    "start_time": "2022-08-22T14:40:19.901Z"
   },
   {
    "duration": 10,
    "start_time": "2022-08-22T14:40:19.920Z"
   },
   {
    "duration": 7,
    "start_time": "2022-08-22T14:40:19.932Z"
   },
   {
    "duration": 5,
    "start_time": "2022-08-22T14:40:19.940Z"
   },
   {
    "duration": 4,
    "start_time": "2022-08-22T14:40:19.946Z"
   },
   {
    "duration": 7,
    "start_time": "2022-08-22T14:40:19.952Z"
   },
   {
    "duration": 6,
    "start_time": "2022-08-22T14:40:19.961Z"
   },
   {
    "duration": 11,
    "start_time": "2022-08-22T14:40:19.985Z"
   },
   {
    "duration": 38,
    "start_time": "2022-08-22T14:40:20.000Z"
   },
   {
    "duration": 3,
    "start_time": "2022-08-22T14:40:20.040Z"
   },
   {
    "duration": 37078,
    "start_time": "2022-08-22T14:40:20.045Z"
   },
   {
    "duration": 4,
    "start_time": "2022-08-22T14:40:57.125Z"
   },
   {
    "duration": 34,
    "start_time": "2022-08-22T14:40:57.131Z"
   },
   {
    "duration": 3,
    "start_time": "2022-08-22T14:40:57.167Z"
   },
   {
    "duration": 39,
    "start_time": "2022-08-22T14:40:57.189Z"
   },
   {
    "duration": 6,
    "start_time": "2022-08-22T14:40:57.230Z"
   },
   {
    "duration": 5,
    "start_time": "2022-08-22T14:40:57.237Z"
   },
   {
    "duration": 10,
    "start_time": "2022-08-22T14:40:57.244Z"
   },
   {
    "duration": 8,
    "start_time": "2022-08-22T14:40:57.255Z"
   },
   {
    "duration": 7,
    "start_time": "2022-08-22T14:40:57.265Z"
   },
   {
    "duration": 17,
    "start_time": "2022-08-22T14:40:57.287Z"
   },
   {
    "duration": 13,
    "start_time": "2022-08-22T14:40:57.306Z"
   },
   {
    "duration": 5,
    "start_time": "2022-08-22T14:40:57.321Z"
   }
  ],
  "kernelspec": {
   "display_name": "Python 3 (ipykernel)",
   "language": "python",
   "name": "python3"
  },
  "language_info": {
   "codemirror_mode": {
    "name": "ipython",
    "version": 3
   },
   "file_extension": ".py",
   "mimetype": "text/x-python",
   "name": "python",
   "nbconvert_exporter": "python",
   "pygments_lexer": "ipython3",
   "version": "3.9.12"
  },
  "toc": {
   "base_numbering": 1,
   "nav_menu": {},
   "number_sections": true,
   "sideBar": true,
   "skip_h1_title": true,
   "title_cell": "Содержание",
   "title_sidebar": "Contents",
   "toc_cell": true,
   "toc_position": {},
   "toc_section_display": true,
   "toc_window_display": false
  }
 },
 "nbformat": 4,
 "nbformat_minor": 2
}

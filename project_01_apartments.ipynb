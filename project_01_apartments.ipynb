{
 "cells": [
  {
   "cell_type": "markdown",
   "metadata": {},
   "source": [
    "# Исследование объявлений о продаже квартир\n",
    "\n",
    "В распоряжении архив объявлений о продаже квартир в Санкт-Петербурге и соседних населённых пунктов за несколько лет. Нужно научиться определять рыночную стоимость объектов недвижимости. Задача — установить параметры. Это позволит построить автоматизированную систему: она отследит аномалии и мошенническую деятельность. \n",
    "\n",
    "По каждой квартире на продажу доступны два вида данных. Первые вписаны пользователем, вторые — получены автоматически на основе картографических данных. Например, расстояние до центра, аэропорта, ближайшего парка и водоёма. "
   ]
  },
  {
   "cell_type": "markdown",
   "metadata": {},
   "source": [
    "### Изучение данных"
   ]
  },
  {
   "cell_type": "code",
   "execution_count": 1,
   "metadata": {
    "scrolled": true
   },
   "outputs": [],
   "source": [
    "import pandas as pd\n",
    "import matplotlib.pyplot as plt\n",
    "df = pd.read_csv('real_estate_data.csv', sep='\\t')"
   ]
  },
  {
   "cell_type": "markdown",
   "metadata": {},
   "source": [
    "Взглянем на первые 5 строк таблицы, чтобы ознакомиться с данными."
   ]
  },
  {
   "cell_type": "code",
   "execution_count": 2,
   "metadata": {},
   "outputs": [
    {
     "data": {
      "text/html": [
       "<div>\n",
       "<style scoped>\n",
       "    .dataframe tbody tr th:only-of-type {\n",
       "        vertical-align: middle;\n",
       "    }\n",
       "\n",
       "    .dataframe tbody tr th {\n",
       "        vertical-align: top;\n",
       "    }\n",
       "\n",
       "    .dataframe thead th {\n",
       "        text-align: right;\n",
       "    }\n",
       "</style>\n",
       "<table border=\"1\" class=\"dataframe\">\n",
       "  <thead>\n",
       "    <tr style=\"text-align: right;\">\n",
       "      <th></th>\n",
       "      <th>total_images</th>\n",
       "      <th>last_price</th>\n",
       "      <th>total_area</th>\n",
       "      <th>first_day_exposition</th>\n",
       "      <th>rooms</th>\n",
       "      <th>ceiling_height</th>\n",
       "      <th>floors_total</th>\n",
       "      <th>living_area</th>\n",
       "      <th>floor</th>\n",
       "      <th>is_apartment</th>\n",
       "      <th>...</th>\n",
       "      <th>kitchen_area</th>\n",
       "      <th>balcony</th>\n",
       "      <th>locality_name</th>\n",
       "      <th>airports_nearest</th>\n",
       "      <th>cityCenters_nearest</th>\n",
       "      <th>parks_around3000</th>\n",
       "      <th>parks_nearest</th>\n",
       "      <th>ponds_around3000</th>\n",
       "      <th>ponds_nearest</th>\n",
       "      <th>days_exposition</th>\n",
       "    </tr>\n",
       "  </thead>\n",
       "  <tbody>\n",
       "    <tr>\n",
       "      <th>0</th>\n",
       "      <td>20</td>\n",
       "      <td>13000000.0</td>\n",
       "      <td>108.0</td>\n",
       "      <td>2019-03-07T00:00:00</td>\n",
       "      <td>3</td>\n",
       "      <td>2.70</td>\n",
       "      <td>16.0</td>\n",
       "      <td>51.0</td>\n",
       "      <td>8</td>\n",
       "      <td>NaN</td>\n",
       "      <td>...</td>\n",
       "      <td>25.0</td>\n",
       "      <td>NaN</td>\n",
       "      <td>Санкт-Петербург</td>\n",
       "      <td>18863.0</td>\n",
       "      <td>16028.0</td>\n",
       "      <td>1.0</td>\n",
       "      <td>482.0</td>\n",
       "      <td>2.0</td>\n",
       "      <td>755.0</td>\n",
       "      <td>NaN</td>\n",
       "    </tr>\n",
       "    <tr>\n",
       "      <th>1</th>\n",
       "      <td>7</td>\n",
       "      <td>3350000.0</td>\n",
       "      <td>40.4</td>\n",
       "      <td>2018-12-04T00:00:00</td>\n",
       "      <td>1</td>\n",
       "      <td>NaN</td>\n",
       "      <td>11.0</td>\n",
       "      <td>18.6</td>\n",
       "      <td>1</td>\n",
       "      <td>NaN</td>\n",
       "      <td>...</td>\n",
       "      <td>11.0</td>\n",
       "      <td>2.0</td>\n",
       "      <td>посёлок Шушары</td>\n",
       "      <td>12817.0</td>\n",
       "      <td>18603.0</td>\n",
       "      <td>0.0</td>\n",
       "      <td>NaN</td>\n",
       "      <td>0.0</td>\n",
       "      <td>NaN</td>\n",
       "      <td>81.0</td>\n",
       "    </tr>\n",
       "    <tr>\n",
       "      <th>2</th>\n",
       "      <td>10</td>\n",
       "      <td>5196000.0</td>\n",
       "      <td>56.0</td>\n",
       "      <td>2015-08-20T00:00:00</td>\n",
       "      <td>2</td>\n",
       "      <td>NaN</td>\n",
       "      <td>5.0</td>\n",
       "      <td>34.3</td>\n",
       "      <td>4</td>\n",
       "      <td>NaN</td>\n",
       "      <td>...</td>\n",
       "      <td>8.3</td>\n",
       "      <td>0.0</td>\n",
       "      <td>Санкт-Петербург</td>\n",
       "      <td>21741.0</td>\n",
       "      <td>13933.0</td>\n",
       "      <td>1.0</td>\n",
       "      <td>90.0</td>\n",
       "      <td>2.0</td>\n",
       "      <td>574.0</td>\n",
       "      <td>558.0</td>\n",
       "    </tr>\n",
       "    <tr>\n",
       "      <th>3</th>\n",
       "      <td>0</td>\n",
       "      <td>64900000.0</td>\n",
       "      <td>159.0</td>\n",
       "      <td>2015-07-24T00:00:00</td>\n",
       "      <td>3</td>\n",
       "      <td>NaN</td>\n",
       "      <td>14.0</td>\n",
       "      <td>NaN</td>\n",
       "      <td>9</td>\n",
       "      <td>NaN</td>\n",
       "      <td>...</td>\n",
       "      <td>NaN</td>\n",
       "      <td>0.0</td>\n",
       "      <td>Санкт-Петербург</td>\n",
       "      <td>28098.0</td>\n",
       "      <td>6800.0</td>\n",
       "      <td>2.0</td>\n",
       "      <td>84.0</td>\n",
       "      <td>3.0</td>\n",
       "      <td>234.0</td>\n",
       "      <td>424.0</td>\n",
       "    </tr>\n",
       "    <tr>\n",
       "      <th>4</th>\n",
       "      <td>2</td>\n",
       "      <td>10000000.0</td>\n",
       "      <td>100.0</td>\n",
       "      <td>2018-06-19T00:00:00</td>\n",
       "      <td>2</td>\n",
       "      <td>3.03</td>\n",
       "      <td>14.0</td>\n",
       "      <td>32.0</td>\n",
       "      <td>13</td>\n",
       "      <td>NaN</td>\n",
       "      <td>...</td>\n",
       "      <td>41.0</td>\n",
       "      <td>NaN</td>\n",
       "      <td>Санкт-Петербург</td>\n",
       "      <td>31856.0</td>\n",
       "      <td>8098.0</td>\n",
       "      <td>2.0</td>\n",
       "      <td>112.0</td>\n",
       "      <td>1.0</td>\n",
       "      <td>48.0</td>\n",
       "      <td>121.0</td>\n",
       "    </tr>\n",
       "  </tbody>\n",
       "</table>\n",
       "<p>5 rows × 22 columns</p>\n",
       "</div>"
      ],
      "text/plain": [
       "   total_images  last_price  total_area first_day_exposition  rooms  \\\n",
       "0            20  13000000.0       108.0  2019-03-07T00:00:00      3   \n",
       "1             7   3350000.0        40.4  2018-12-04T00:00:00      1   \n",
       "2            10   5196000.0        56.0  2015-08-20T00:00:00      2   \n",
       "3             0  64900000.0       159.0  2015-07-24T00:00:00      3   \n",
       "4             2  10000000.0       100.0  2018-06-19T00:00:00      2   \n",
       "\n",
       "   ceiling_height  floors_total  living_area  floor is_apartment  ...  \\\n",
       "0            2.70          16.0         51.0      8          NaN  ...   \n",
       "1             NaN          11.0         18.6      1          NaN  ...   \n",
       "2             NaN           5.0         34.3      4          NaN  ...   \n",
       "3             NaN          14.0          NaN      9          NaN  ...   \n",
       "4            3.03          14.0         32.0     13          NaN  ...   \n",
       "\n",
       "   kitchen_area  balcony    locality_name  airports_nearest  \\\n",
       "0          25.0      NaN  Санкт-Петербург           18863.0   \n",
       "1          11.0      2.0   посёлок Шушары           12817.0   \n",
       "2           8.3      0.0  Санкт-Петербург           21741.0   \n",
       "3           NaN      0.0  Санкт-Петербург           28098.0   \n",
       "4          41.0      NaN  Санкт-Петербург           31856.0   \n",
       "\n",
       "  cityCenters_nearest  parks_around3000  parks_nearest  ponds_around3000  \\\n",
       "0             16028.0               1.0          482.0               2.0   \n",
       "1             18603.0               0.0            NaN               0.0   \n",
       "2             13933.0               1.0           90.0               2.0   \n",
       "3              6800.0               2.0           84.0               3.0   \n",
       "4              8098.0               2.0          112.0               1.0   \n",
       "\n",
       "   ponds_nearest  days_exposition  \n",
       "0          755.0              NaN  \n",
       "1            NaN             81.0  \n",
       "2          574.0            558.0  \n",
       "3          234.0            424.0  \n",
       "4           48.0            121.0  \n",
       "\n",
       "[5 rows x 22 columns]"
      ]
     },
     "execution_count": 2,
     "metadata": {},
     "output_type": "execute_result"
    }
   ],
   "source": [
    "df.head()"
   ]
  },
  {
   "cell_type": "markdown",
   "metadata": {},
   "source": [
    "Также рассмотрим общую информацию о датафрейме: количество заполненных значений по столбцам и типы данных в них."
   ]
  },
  {
   "cell_type": "code",
   "execution_count": 3,
   "metadata": {
    "scrolled": true
   },
   "outputs": [
    {
     "name": "stdout",
     "output_type": "stream",
     "text": [
      "<class 'pandas.core.frame.DataFrame'>\n",
      "RangeIndex: 23699 entries, 0 to 23698\n",
      "Data columns (total 22 columns):\n",
      " #   Column                Non-Null Count  Dtype  \n",
      "---  ------                --------------  -----  \n",
      " 0   total_images          23699 non-null  int64  \n",
      " 1   last_price            23699 non-null  float64\n",
      " 2   total_area            23699 non-null  float64\n",
      " 3   first_day_exposition  23699 non-null  object \n",
      " 4   rooms                 23699 non-null  int64  \n",
      " 5   ceiling_height        14504 non-null  float64\n",
      " 6   floors_total          23613 non-null  float64\n",
      " 7   living_area           21796 non-null  float64\n",
      " 8   floor                 23699 non-null  int64  \n",
      " 9   is_apartment          2775 non-null   object \n",
      " 10  studio                23699 non-null  bool   \n",
      " 11  open_plan             23699 non-null  bool   \n",
      " 12  kitchen_area          21421 non-null  float64\n",
      " 13  balcony               12180 non-null  float64\n",
      " 14  locality_name         23650 non-null  object \n",
      " 15  airports_nearest      18157 non-null  float64\n",
      " 16  cityCenters_nearest   18180 non-null  float64\n",
      " 17  parks_around3000      18181 non-null  float64\n",
      " 18  parks_nearest         8079 non-null   float64\n",
      " 19  ponds_around3000      18181 non-null  float64\n",
      " 20  ponds_nearest         9110 non-null   float64\n",
      " 21  days_exposition       20518 non-null  float64\n",
      "dtypes: bool(2), float64(14), int64(3), object(3)\n",
      "memory usage: 3.7+ MB\n"
     ]
    }
   ],
   "source": [
    "df.info()"
   ]
  },
  {
   "cell_type": "markdown",
   "metadata": {},
   "source": [
    "Также посмотрим на описание числовых столбцов и построим гистограммы по всем столбцам таблицы."
   ]
  },
  {
   "cell_type": "code",
   "execution_count": 4,
   "metadata": {
    "scrolled": true
   },
   "outputs": [
    {
     "data": {
      "text/html": [
       "<div>\n",
       "<style scoped>\n",
       "    .dataframe tbody tr th:only-of-type {\n",
       "        vertical-align: middle;\n",
       "    }\n",
       "\n",
       "    .dataframe tbody tr th {\n",
       "        vertical-align: top;\n",
       "    }\n",
       "\n",
       "    .dataframe thead th {\n",
       "        text-align: right;\n",
       "    }\n",
       "</style>\n",
       "<table border=\"1\" class=\"dataframe\">\n",
       "  <thead>\n",
       "    <tr style=\"text-align: right;\">\n",
       "      <th></th>\n",
       "      <th>total_images</th>\n",
       "      <th>last_price</th>\n",
       "      <th>total_area</th>\n",
       "      <th>rooms</th>\n",
       "      <th>ceiling_height</th>\n",
       "      <th>floors_total</th>\n",
       "      <th>living_area</th>\n",
       "      <th>floor</th>\n",
       "      <th>kitchen_area</th>\n",
       "      <th>balcony</th>\n",
       "      <th>airports_nearest</th>\n",
       "      <th>cityCenters_nearest</th>\n",
       "      <th>parks_around3000</th>\n",
       "      <th>parks_nearest</th>\n",
       "      <th>ponds_around3000</th>\n",
       "      <th>ponds_nearest</th>\n",
       "      <th>days_exposition</th>\n",
       "    </tr>\n",
       "  </thead>\n",
       "  <tbody>\n",
       "    <tr>\n",
       "      <th>count</th>\n",
       "      <td>23699.000000</td>\n",
       "      <td>2.369900e+04</td>\n",
       "      <td>23699.000000</td>\n",
       "      <td>23699.000000</td>\n",
       "      <td>14504.000000</td>\n",
       "      <td>23613.000000</td>\n",
       "      <td>21796.000000</td>\n",
       "      <td>23699.000000</td>\n",
       "      <td>21421.000000</td>\n",
       "      <td>12180.000000</td>\n",
       "      <td>18157.000000</td>\n",
       "      <td>18180.000000</td>\n",
       "      <td>18181.000000</td>\n",
       "      <td>8079.000000</td>\n",
       "      <td>18181.000000</td>\n",
       "      <td>9110.000000</td>\n",
       "      <td>20518.000000</td>\n",
       "    </tr>\n",
       "    <tr>\n",
       "      <th>mean</th>\n",
       "      <td>9.858475</td>\n",
       "      <td>6.541549e+06</td>\n",
       "      <td>60.348651</td>\n",
       "      <td>2.070636</td>\n",
       "      <td>2.771499</td>\n",
       "      <td>10.673824</td>\n",
       "      <td>34.457852</td>\n",
       "      <td>5.892358</td>\n",
       "      <td>10.569807</td>\n",
       "      <td>1.150082</td>\n",
       "      <td>28793.672193</td>\n",
       "      <td>14191.277833</td>\n",
       "      <td>0.611408</td>\n",
       "      <td>490.804555</td>\n",
       "      <td>0.770255</td>\n",
       "      <td>517.980900</td>\n",
       "      <td>180.888634</td>\n",
       "    </tr>\n",
       "    <tr>\n",
       "      <th>std</th>\n",
       "      <td>5.682529</td>\n",
       "      <td>1.088701e+07</td>\n",
       "      <td>35.654083</td>\n",
       "      <td>1.078405</td>\n",
       "      <td>1.261056</td>\n",
       "      <td>6.597173</td>\n",
       "      <td>22.030445</td>\n",
       "      <td>4.885249</td>\n",
       "      <td>5.905438</td>\n",
       "      <td>1.071300</td>\n",
       "      <td>12630.880622</td>\n",
       "      <td>8608.386210</td>\n",
       "      <td>0.802074</td>\n",
       "      <td>342.317995</td>\n",
       "      <td>0.938346</td>\n",
       "      <td>277.720643</td>\n",
       "      <td>219.727988</td>\n",
       "    </tr>\n",
       "    <tr>\n",
       "      <th>min</th>\n",
       "      <td>0.000000</td>\n",
       "      <td>1.219000e+04</td>\n",
       "      <td>12.000000</td>\n",
       "      <td>0.000000</td>\n",
       "      <td>1.000000</td>\n",
       "      <td>1.000000</td>\n",
       "      <td>2.000000</td>\n",
       "      <td>1.000000</td>\n",
       "      <td>1.300000</td>\n",
       "      <td>0.000000</td>\n",
       "      <td>0.000000</td>\n",
       "      <td>181.000000</td>\n",
       "      <td>0.000000</td>\n",
       "      <td>1.000000</td>\n",
       "      <td>0.000000</td>\n",
       "      <td>13.000000</td>\n",
       "      <td>1.000000</td>\n",
       "    </tr>\n",
       "    <tr>\n",
       "      <th>25%</th>\n",
       "      <td>6.000000</td>\n",
       "      <td>3.400000e+06</td>\n",
       "      <td>40.000000</td>\n",
       "      <td>1.000000</td>\n",
       "      <td>2.520000</td>\n",
       "      <td>5.000000</td>\n",
       "      <td>18.600000</td>\n",
       "      <td>2.000000</td>\n",
       "      <td>7.000000</td>\n",
       "      <td>0.000000</td>\n",
       "      <td>18585.000000</td>\n",
       "      <td>9238.000000</td>\n",
       "      <td>0.000000</td>\n",
       "      <td>288.000000</td>\n",
       "      <td>0.000000</td>\n",
       "      <td>294.000000</td>\n",
       "      <td>45.000000</td>\n",
       "    </tr>\n",
       "    <tr>\n",
       "      <th>50%</th>\n",
       "      <td>9.000000</td>\n",
       "      <td>4.650000e+06</td>\n",
       "      <td>52.000000</td>\n",
       "      <td>2.000000</td>\n",
       "      <td>2.650000</td>\n",
       "      <td>9.000000</td>\n",
       "      <td>30.000000</td>\n",
       "      <td>4.000000</td>\n",
       "      <td>9.100000</td>\n",
       "      <td>1.000000</td>\n",
       "      <td>26726.000000</td>\n",
       "      <td>13098.500000</td>\n",
       "      <td>0.000000</td>\n",
       "      <td>455.000000</td>\n",
       "      <td>1.000000</td>\n",
       "      <td>502.000000</td>\n",
       "      <td>95.000000</td>\n",
       "    </tr>\n",
       "    <tr>\n",
       "      <th>75%</th>\n",
       "      <td>14.000000</td>\n",
       "      <td>6.800000e+06</td>\n",
       "      <td>69.900000</td>\n",
       "      <td>3.000000</td>\n",
       "      <td>2.800000</td>\n",
       "      <td>16.000000</td>\n",
       "      <td>42.300000</td>\n",
       "      <td>8.000000</td>\n",
       "      <td>12.000000</td>\n",
       "      <td>2.000000</td>\n",
       "      <td>37273.000000</td>\n",
       "      <td>16293.000000</td>\n",
       "      <td>1.000000</td>\n",
       "      <td>612.000000</td>\n",
       "      <td>1.000000</td>\n",
       "      <td>729.000000</td>\n",
       "      <td>232.000000</td>\n",
       "    </tr>\n",
       "    <tr>\n",
       "      <th>max</th>\n",
       "      <td>50.000000</td>\n",
       "      <td>7.630000e+08</td>\n",
       "      <td>900.000000</td>\n",
       "      <td>19.000000</td>\n",
       "      <td>100.000000</td>\n",
       "      <td>60.000000</td>\n",
       "      <td>409.700000</td>\n",
       "      <td>33.000000</td>\n",
       "      <td>112.000000</td>\n",
       "      <td>5.000000</td>\n",
       "      <td>84869.000000</td>\n",
       "      <td>65968.000000</td>\n",
       "      <td>3.000000</td>\n",
       "      <td>3190.000000</td>\n",
       "      <td>3.000000</td>\n",
       "      <td>1344.000000</td>\n",
       "      <td>1580.000000</td>\n",
       "    </tr>\n",
       "  </tbody>\n",
       "</table>\n",
       "</div>"
      ],
      "text/plain": [
       "       total_images    last_price    total_area         rooms  ceiling_height  \\\n",
       "count  23699.000000  2.369900e+04  23699.000000  23699.000000    14504.000000   \n",
       "mean       9.858475  6.541549e+06     60.348651      2.070636        2.771499   \n",
       "std        5.682529  1.088701e+07     35.654083      1.078405        1.261056   \n",
       "min        0.000000  1.219000e+04     12.000000      0.000000        1.000000   \n",
       "25%        6.000000  3.400000e+06     40.000000      1.000000        2.520000   \n",
       "50%        9.000000  4.650000e+06     52.000000      2.000000        2.650000   \n",
       "75%       14.000000  6.800000e+06     69.900000      3.000000        2.800000   \n",
       "max       50.000000  7.630000e+08    900.000000     19.000000      100.000000   \n",
       "\n",
       "       floors_total   living_area         floor  kitchen_area       balcony  \\\n",
       "count  23613.000000  21796.000000  23699.000000  21421.000000  12180.000000   \n",
       "mean      10.673824     34.457852      5.892358     10.569807      1.150082   \n",
       "std        6.597173     22.030445      4.885249      5.905438      1.071300   \n",
       "min        1.000000      2.000000      1.000000      1.300000      0.000000   \n",
       "25%        5.000000     18.600000      2.000000      7.000000      0.000000   \n",
       "50%        9.000000     30.000000      4.000000      9.100000      1.000000   \n",
       "75%       16.000000     42.300000      8.000000     12.000000      2.000000   \n",
       "max       60.000000    409.700000     33.000000    112.000000      5.000000   \n",
       "\n",
       "       airports_nearest  cityCenters_nearest  parks_around3000  parks_nearest  \\\n",
       "count      18157.000000         18180.000000      18181.000000    8079.000000   \n",
       "mean       28793.672193         14191.277833          0.611408     490.804555   \n",
       "std        12630.880622          8608.386210          0.802074     342.317995   \n",
       "min            0.000000           181.000000          0.000000       1.000000   \n",
       "25%        18585.000000          9238.000000          0.000000     288.000000   \n",
       "50%        26726.000000         13098.500000          0.000000     455.000000   \n",
       "75%        37273.000000         16293.000000          1.000000     612.000000   \n",
       "max        84869.000000         65968.000000          3.000000    3190.000000   \n",
       "\n",
       "       ponds_around3000  ponds_nearest  days_exposition  \n",
       "count      18181.000000    9110.000000     20518.000000  \n",
       "mean           0.770255     517.980900       180.888634  \n",
       "std            0.938346     277.720643       219.727988  \n",
       "min            0.000000      13.000000         1.000000  \n",
       "25%            0.000000     294.000000        45.000000  \n",
       "50%            1.000000     502.000000        95.000000  \n",
       "75%            1.000000     729.000000       232.000000  \n",
       "max            3.000000    1344.000000      1580.000000  "
      ]
     },
     "execution_count": 4,
     "metadata": {},
     "output_type": "execute_result"
    }
   ],
   "source": [
    "df.describe()"
   ]
  },
  {
   "cell_type": "code",
   "execution_count": 5,
   "metadata": {},
   "outputs": [
    {
     "data": {
      "image/png": "[encoded data removed]",
      "text/plain": [
       "<Figure size 1080x1440 with 20 Axes>"
      ]
     },
     "metadata": {
      "needs_background": "light"
     },
     "output_type": "display_data"
    }
   ],
   "source": [
    "df.hist(figsize=(15, 20))\n",
    "plt.show()"
   ]
  },
  {
   "cell_type": "markdown",
   "metadata": {},
   "source": [
    "В числовых данных нет отрицательных значений, что уже хорошо. Однако во многих столбцах большой разброс данных и высокое стандартное отклонение.\n",
    "\n",
    "Рассмотрим данные подробнее."
   ]
  },
  {
   "cell_type": "markdown",
   "metadata": {},
   "source": [
    "### Предобработка данных"
   ]
  },
  {
   "cell_type": "markdown",
   "metadata": {},
   "source": [
    "Проверим, в каких столбцах имеются пропуски."
   ]
  },
  {
   "cell_type": "code",
   "execution_count": 6,
   "metadata": {},
   "outputs": [
    {
     "data": {
      "text/plain": [
       "total_images                0\n",
       "last_price                  0\n",
       "total_area                  0\n",
       "first_day_exposition        0\n",
       "rooms                       0\n",
       "ceiling_height           9195\n",
       "floors_total               86\n",
       "living_area              1903\n",
       "floor                       0\n",
       "is_apartment            20924\n",
       "studio                      0\n",
       "open_plan                   0\n",
       "kitchen_area             2278\n",
       "balcony                 11519\n",
       "locality_name              49\n",
       "airports_nearest         5542\n",
       "cityCenters_nearest      5519\n",
       "parks_around3000         5518\n",
       "parks_nearest           15620\n",
       "ponds_around3000         5518\n",
       "ponds_nearest           14589\n",
       "days_exposition          3181\n",
       "dtype: int64"
      ]
     },
     "execution_count": 6,
     "metadata": {},
     "output_type": "execute_result"
    }
   ],
   "source": [
    "df.isna().sum()"
   ]
  },
  {
   "cell_type": "markdown",
   "metadata": {},
   "source": [
    "В столбцах **floors_total** и **locality_name** пропусков мало, заполнить их невозможно (в датасете нет данных, на основании которых можно заполнить эти пропуски, например года постройки или координат).\n",
    "Удалим строки с пропусками в данных столбцах."
   ]
  },
  {
   "cell_type": "code",
   "execution_count": 7,
   "metadata": {
    "scrolled": true
   },
   "outputs": [],
   "source": [
    "df = df.dropna(subset = ['locality_name']).reset_index(drop=True) # удаление строк с пропусками в столбце locality_name"
   ]
  },
  {
   "cell_type": "code",
   "execution_count": 8,
   "metadata": {},
   "outputs": [],
   "source": [
    "df = df.dropna(subset = ['floors_total']).reset_index(drop=True) # удаление строк с пропусками в столбце floors_total"
   ]
  },
  {
   "cell_type": "markdown",
   "metadata": {},
   "source": [
    "Довольно много пропусков в стобце **balcony**.\n",
    "Предположим, что отсутствие значение в столбце **balcony** говорит об отсутствии балконов в квартире.\n",
    "Заменим эти пропуски на 0."
   ]
  },
  {
   "cell_type": "code",
   "execution_count": 9,
   "metadata": {},
   "outputs": [],
   "source": [
    "df['balcony'] = df['balcony'].fillna(0)"
   ]
  },
  {
   "cell_type": "markdown",
   "metadata": {},
   "source": [
    "Практически одинаковое количество пропусков наблюдается в столбцах:\n",
    "- airports_nearest\n",
    "- cityCenters_nearest\n",
    "- parks_around3000\n",
    "- ponds_around3000\n",
    "\n",
    "Можно предположить, что эти данные пропущены для целых населенных пунктов.\n",
    "Рассмотрим как распределены значения в этих столбцах по населенным пунктам."
   ]
  },
  {
   "cell_type": "code",
   "execution_count": 10,
   "metadata": {
    "scrolled": true
   },
   "outputs": [
    {
     "data": {
      "text/plain": [
       "364"
      ]
     },
     "metadata": {},
     "output_type": "display_data"
    }
   ],
   "source": [
    "display(len(df['locality_name'].unique())) # общее количество уникальных населенных пунктов"
   ]
  },
  {
   "cell_type": "code",
   "execution_count": 11,
   "metadata": {},
   "outputs": [
    {
     "data": {
      "text/html": [
       "<div>\n",
       "<style scoped>\n",
       "    .dataframe tbody tr th:only-of-type {\n",
       "        vertical-align: middle;\n",
       "    }\n",
       "\n",
       "    .dataframe tbody tr th {\n",
       "        vertical-align: top;\n",
       "    }\n",
       "\n",
       "    .dataframe thead th {\n",
       "        text-align: right;\n",
       "    }\n",
       "</style>\n",
       "<table border=\"1\" class=\"dataframe\">\n",
       "  <thead>\n",
       "    <tr style=\"text-align: right;\">\n",
       "      <th></th>\n",
       "      <th>airports_nearest</th>\n",
       "      <th>cityCenters_nearest</th>\n",
       "      <th>parks_around3000</th>\n",
       "      <th>ponds_around3000</th>\n",
       "    </tr>\n",
       "    <tr>\n",
       "      <th>locality_name</th>\n",
       "      <th></th>\n",
       "      <th></th>\n",
       "      <th></th>\n",
       "      <th></th>\n",
       "    </tr>\n",
       "  </thead>\n",
       "  <tbody>\n",
       "    <tr>\n",
       "      <th>Зеленогорск</th>\n",
       "      <td>73300.250000</td>\n",
       "      <td>54617.583333</td>\n",
       "      <td>1.916667</td>\n",
       "      <td>0.875000</td>\n",
       "    </tr>\n",
       "    <tr>\n",
       "      <th>Колпино</th>\n",
       "      <td>26375.863501</td>\n",
       "      <td>32113.771513</td>\n",
       "      <td>0.522255</td>\n",
       "      <td>0.997033</td>\n",
       "    </tr>\n",
       "    <tr>\n",
       "      <th>Красное Село</th>\n",
       "      <td>26610.028736</td>\n",
       "      <td>30034.741379</td>\n",
       "      <td>0.482759</td>\n",
       "      <td>0.091954</td>\n",
       "    </tr>\n",
       "    <tr>\n",
       "      <th>Кронштадт</th>\n",
       "      <td>67469.263158</td>\n",
       "      <td>49195.726316</td>\n",
       "      <td>1.789474</td>\n",
       "      <td>1.936842</td>\n",
       "    </tr>\n",
       "    <tr>\n",
       "      <th>Ломоносов</th>\n",
       "      <td>48308.280303</td>\n",
       "      <td>50739.969697</td>\n",
       "      <td>0.242424</td>\n",
       "      <td>1.128788</td>\n",
       "    </tr>\n",
       "    <tr>\n",
       "      <th>Павловск</th>\n",
       "      <td>21053.342105</td>\n",
       "      <td>33206.921053</td>\n",
       "      <td>1.552632</td>\n",
       "      <td>1.842105</td>\n",
       "    </tr>\n",
       "    <tr>\n",
       "      <th>Петергоф</th>\n",
       "      <td>40184.676617</td>\n",
       "      <td>35468.925373</td>\n",
       "      <td>1.338308</td>\n",
       "      <td>1.308458</td>\n",
       "    </tr>\n",
       "    <tr>\n",
       "      <th>Пушкин</th>\n",
       "      <td>16447.869919</td>\n",
       "      <td>28745.375000</td>\n",
       "      <td>0.747967</td>\n",
       "      <td>0.872629</td>\n",
       "    </tr>\n",
       "    <tr>\n",
       "      <th>Санкт-Петербург</th>\n",
       "      <td>28040.281621</td>\n",
       "      <td>11588.493939</td>\n",
       "      <td>0.627606</td>\n",
       "      <td>0.770188</td>\n",
       "    </tr>\n",
       "    <tr>\n",
       "      <th>Сестрорецк</th>\n",
       "      <td>56640.486339</td>\n",
       "      <td>34624.480874</td>\n",
       "      <td>0.601093</td>\n",
       "      <td>1.207650</td>\n",
       "    </tr>\n",
       "    <tr>\n",
       "      <th>поселок Лисий Нос</th>\n",
       "      <td>55930.000000</td>\n",
       "      <td>28246.000000</td>\n",
       "      <td>0.000000</td>\n",
       "      <td>0.000000</td>\n",
       "    </tr>\n",
       "    <tr>\n",
       "      <th>посёлок Александровская</th>\n",
       "      <td>12896.500000</td>\n",
       "      <td>27468.000000</td>\n",
       "      <td>0.000000</td>\n",
       "      <td>1.000000</td>\n",
       "    </tr>\n",
       "    <tr>\n",
       "      <th>посёлок Белоостров</th>\n",
       "      <td>57769.000000</td>\n",
       "      <td>38868.000000</td>\n",
       "      <td>0.000000</td>\n",
       "      <td>1.000000</td>\n",
       "    </tr>\n",
       "    <tr>\n",
       "      <th>посёлок Левашово</th>\n",
       "      <td>52693.000000</td>\n",
       "      <td>25727.000000</td>\n",
       "      <td>0.000000</td>\n",
       "      <td>0.000000</td>\n",
       "    </tr>\n",
       "    <tr>\n",
       "      <th>посёлок Лисий Нос</th>\n",
       "      <td>54988.500000</td>\n",
       "      <td>27297.000000</td>\n",
       "      <td>0.000000</td>\n",
       "      <td>0.000000</td>\n",
       "    </tr>\n",
       "    <tr>\n",
       "      <th>посёлок Металлострой</th>\n",
       "      <td>25726.484848</td>\n",
       "      <td>27561.348485</td>\n",
       "      <td>0.000000</td>\n",
       "      <td>0.000000</td>\n",
       "    </tr>\n",
       "    <tr>\n",
       "      <th>посёлок Молодёжное</th>\n",
       "      <td>84430.200000</td>\n",
       "      <td>65529.200000</td>\n",
       "      <td>0.000000</td>\n",
       "      <td>0.000000</td>\n",
       "    </tr>\n",
       "    <tr>\n",
       "      <th>посёлок Парголово</th>\n",
       "      <td>53994.926606</td>\n",
       "      <td>19924.776758</td>\n",
       "      <td>0.030581</td>\n",
       "      <td>0.290520</td>\n",
       "    </tr>\n",
       "    <tr>\n",
       "      <th>посёлок Песочный</th>\n",
       "      <td>54565.500000</td>\n",
       "      <td>26475.250000</td>\n",
       "      <td>0.000000</td>\n",
       "      <td>0.000000</td>\n",
       "    </tr>\n",
       "    <tr>\n",
       "      <th>посёлок Петро-Славянка</th>\n",
       "      <td>20605.000000</td>\n",
       "      <td>27165.000000</td>\n",
       "      <td>0.000000</td>\n",
       "      <td>2.000000</td>\n",
       "    </tr>\n",
       "    <tr>\n",
       "      <th>посёлок Понтонный</th>\n",
       "      <td>30581.400000</td>\n",
       "      <td>32293.450000</td>\n",
       "      <td>0.000000</td>\n",
       "      <td>0.350000</td>\n",
       "    </tr>\n",
       "    <tr>\n",
       "      <th>посёлок Репино</th>\n",
       "      <td>62293.250000</td>\n",
       "      <td>43392.250000</td>\n",
       "      <td>0.000000</td>\n",
       "      <td>0.000000</td>\n",
       "    </tr>\n",
       "    <tr>\n",
       "      <th>посёлок Сапёрный</th>\n",
       "      <td>34142.666667</td>\n",
       "      <td>35854.666667</td>\n",
       "      <td>0.000000</td>\n",
       "      <td>1.000000</td>\n",
       "    </tr>\n",
       "    <tr>\n",
       "      <th>посёлок Стрельна</th>\n",
       "      <td>28145.395349</td>\n",
       "      <td>23374.302326</td>\n",
       "      <td>0.720930</td>\n",
       "      <td>1.069767</td>\n",
       "    </tr>\n",
       "    <tr>\n",
       "      <th>посёлок Усть-Ижора</th>\n",
       "      <td>26510.500000</td>\n",
       "      <td>28222.500000</td>\n",
       "      <td>0.000000</td>\n",
       "      <td>0.000000</td>\n",
       "    </tr>\n",
       "    <tr>\n",
       "      <th>посёлок Шушары</th>\n",
       "      <td>16061.458716</td>\n",
       "      <td>24243.387615</td>\n",
       "      <td>0.000000</td>\n",
       "      <td>0.348624</td>\n",
       "    </tr>\n",
       "  </tbody>\n",
       "</table>\n",
       "</div>"
      ],
      "text/plain": [
       "                         airports_nearest  cityCenters_nearest  \\\n",
       "locality_name                                                    \n",
       "Зеленогорск                  73300.250000         54617.583333   \n",
       "Колпино                      26375.863501         32113.771513   \n",
       "Красное Село                 26610.028736         30034.741379   \n",
       "Кронштадт                    67469.263158         49195.726316   \n",
       "Ломоносов                    48308.280303         50739.969697   \n",
       "Павловск                     21053.342105         33206.921053   \n",
       "Петергоф                     40184.676617         35468.925373   \n",
       "Пушкин                       16447.869919         28745.375000   \n",
       "Санкт-Петербург              28040.281621         11588.493939   \n",
       "Сестрорецк                   56640.486339         34624.480874   \n",
       "поселок Лисий Нос            55930.000000         28246.000000   \n",
       "посёлок Александровская      12896.500000         27468.000000   \n",
       "посёлок Белоостров           57769.000000         38868.000000   \n",
       "посёлок Левашово             52693.000000         25727.000000   \n",
       "посёлок Лисий Нос            54988.500000         27297.000000   \n",
       "посёлок Металлострой         25726.484848         27561.348485   \n",
       "посёлок Молодёжное           84430.200000         65529.200000   \n",
       "посёлок Парголово            53994.926606         19924.776758   \n",
       "посёлок Песочный             54565.500000         26475.250000   \n",
       "посёлок Петро-Славянка       20605.000000         27165.000000   \n",
       "посёлок Понтонный            30581.400000         32293.450000   \n",
       "посёлок Репино               62293.250000         43392.250000   \n",
       "посёлок Сапёрный             34142.666667         35854.666667   \n",
       "посёлок Стрельна             28145.395349         23374.302326   \n",
       "посёлок Усть-Ижора           26510.500000         28222.500000   \n",
       "посёлок Шушары               16061.458716         24243.387615   \n",
       "\n",
       "                         parks_around3000  ponds_around3000  \n",
       "locality_name                                                \n",
       "Зеленогорск                      1.916667          0.875000  \n",
       "Колпино                          0.522255          0.997033  \n",
       "Красное Село                     0.482759          0.091954  \n",
       "Кронштадт                        1.789474          1.936842  \n",
       "Ломоносов                        0.242424          1.128788  \n",
       "Павловск                         1.552632          1.842105  \n",
       "Петергоф                         1.338308          1.308458  \n",
       "Пушкин                           0.747967          0.872629  \n",
       "Санкт-Петербург                  0.627606          0.770188  \n",
       "Сестрорецк                       0.601093          1.207650  \n",
       "поселок Лисий Нос                0.000000          0.000000  \n",
       "посёлок Александровская          0.000000          1.000000  \n",
       "посёлок Белоостров               0.000000          1.000000  \n",
       "посёлок Левашово                 0.000000          0.000000  \n",
       "посёлок Лисий Нос                0.000000          0.000000  \n",
       "посёлок Металлострой             0.000000          0.000000  \n",
       "посёлок Молодёжное               0.000000          0.000000  \n",
       "посёлок Парголово                0.030581          0.290520  \n",
       "посёлок Песочный                 0.000000          0.000000  \n",
       "посёлок Петро-Славянка           0.000000          2.000000  \n",
       "посёлок Понтонный                0.000000          0.350000  \n",
       "посёлок Репино                   0.000000          0.000000  \n",
       "посёлок Сапёрный                 0.000000          1.000000  \n",
       "посёлок Стрельна                 0.720930          1.069767  \n",
       "посёлок Усть-Ижора               0.000000          0.000000  \n",
       "посёлок Шушары                   0.000000          0.348624  "
      ]
     },
     "execution_count": 11,
     "metadata": {},
     "output_type": "execute_result"
    }
   ],
   "source": [
    "df.pivot_table(index='locality_name', values=['airports_nearest', 'cityCenters_nearest', 'parks_around3000', 'ponds_around3000'])"
   ]
  },
  {
   "cell_type": "markdown",
   "metadata": {},
   "source": [
    "Действительно, населенных пунктов 364, а данные по выбранным столбцам заполненные менее чем в 30.\n",
    "\n",
    "Проделаем то же самое для столбцов **parks_nearest** и **ponds_nearest**."
   ]
  },
  {
   "cell_type": "code",
   "execution_count": 12,
   "metadata": {},
   "outputs": [
    {
     "data": {
      "text/html": [
       "<div>\n",
       "<style scoped>\n",
       "    .dataframe tbody tr th:only-of-type {\n",
       "        vertical-align: middle;\n",
       "    }\n",
       "\n",
       "    .dataframe tbody tr th {\n",
       "        vertical-align: top;\n",
       "    }\n",
       "\n",
       "    .dataframe thead th {\n",
       "        text-align: right;\n",
       "    }\n",
       "</style>\n",
       "<table border=\"1\" class=\"dataframe\">\n",
       "  <thead>\n",
       "    <tr style=\"text-align: right;\">\n",
       "      <th></th>\n",
       "      <th>parks_nearest</th>\n",
       "      <th>ponds_nearest</th>\n",
       "    </tr>\n",
       "    <tr>\n",
       "      <th>locality_name</th>\n",
       "      <th></th>\n",
       "      <th></th>\n",
       "    </tr>\n",
       "  </thead>\n",
       "  <tbody>\n",
       "    <tr>\n",
       "      <th>Зеленогорск</th>\n",
       "      <td>210.625000</td>\n",
       "      <td>485.888889</td>\n",
       "    </tr>\n",
       "    <tr>\n",
       "      <th>Колпино</th>\n",
       "      <td>495.481203</td>\n",
       "      <td>532.268421</td>\n",
       "    </tr>\n",
       "    <tr>\n",
       "      <th>Красное Село</th>\n",
       "      <td>468.400000</td>\n",
       "      <td>445.500000</td>\n",
       "    </tr>\n",
       "    <tr>\n",
       "      <th>Кронштадт</th>\n",
       "      <td>324.574713</td>\n",
       "      <td>343.413793</td>\n",
       "    </tr>\n",
       "    <tr>\n",
       "      <th>Ломоносов</th>\n",
       "      <td>389.062500</td>\n",
       "      <td>550.048193</td>\n",
       "    </tr>\n",
       "    <tr>\n",
       "      <th>Павловск</th>\n",
       "      <td>379.538462</td>\n",
       "      <td>493.382353</td>\n",
       "    </tr>\n",
       "    <tr>\n",
       "      <th>Петергоф</th>\n",
       "      <td>419.559441</td>\n",
       "      <td>513.367521</td>\n",
       "    </tr>\n",
       "    <tr>\n",
       "      <th>Пушкин</th>\n",
       "      <td>404.297170</td>\n",
       "      <td>482.988701</td>\n",
       "    </tr>\n",
       "    <tr>\n",
       "      <th>Санкт-Петербург</th>\n",
       "      <td>498.338298</td>\n",
       "      <td>520.391129</td>\n",
       "    </tr>\n",
       "    <tr>\n",
       "      <th>Сестрорецк</th>\n",
       "      <td>409.583333</td>\n",
       "      <td>397.977778</td>\n",
       "    </tr>\n",
       "    <tr>\n",
       "      <th>посёлок Александровская</th>\n",
       "      <td>NaN</td>\n",
       "      <td>711.500000</td>\n",
       "    </tr>\n",
       "    <tr>\n",
       "      <th>посёлок Белоостров</th>\n",
       "      <td>NaN</td>\n",
       "      <td>320.000000</td>\n",
       "    </tr>\n",
       "    <tr>\n",
       "      <th>посёлок Парголово</th>\n",
       "      <td>501.100000</td>\n",
       "      <td>598.071429</td>\n",
       "    </tr>\n",
       "    <tr>\n",
       "      <th>посёлок Петро-Славянка</th>\n",
       "      <td>NaN</td>\n",
       "      <td>663.000000</td>\n",
       "    </tr>\n",
       "    <tr>\n",
       "      <th>посёлок Понтонный</th>\n",
       "      <td>NaN</td>\n",
       "      <td>589.857143</td>\n",
       "    </tr>\n",
       "    <tr>\n",
       "      <th>посёлок Сапёрный</th>\n",
       "      <td>NaN</td>\n",
       "      <td>426.833333</td>\n",
       "    </tr>\n",
       "    <tr>\n",
       "      <th>посёлок Стрельна</th>\n",
       "      <td>580.157895</td>\n",
       "      <td>741.875000</td>\n",
       "    </tr>\n",
       "    <tr>\n",
       "      <th>посёлок Шушары</th>\n",
       "      <td>NaN</td>\n",
       "      <td>573.217105</td>\n",
       "    </tr>\n",
       "  </tbody>\n",
       "</table>\n",
       "</div>"
      ],
      "text/plain": [
       "                         parks_nearest  ponds_nearest\n",
       "locality_name                                        \n",
       "Зеленогорск                 210.625000     485.888889\n",
       "Колпино                     495.481203     532.268421\n",
       "Красное Село                468.400000     445.500000\n",
       "Кронштадт                   324.574713     343.413793\n",
       "Ломоносов                   389.062500     550.048193\n",
       "Павловск                    379.538462     493.382353\n",
       "Петергоф                    419.559441     513.367521\n",
       "Пушкин                      404.297170     482.988701\n",
       "Санкт-Петербург             498.338298     520.391129\n",
       "Сестрорецк                  409.583333     397.977778\n",
       "посёлок Александровская            NaN     711.500000\n",
       "посёлок Белоостров                 NaN     320.000000\n",
       "посёлок Парголово           501.100000     598.071429\n",
       "посёлок Петро-Славянка             NaN     663.000000\n",
       "посёлок Понтонный                  NaN     589.857143\n",
       "посёлок Сапёрный                   NaN     426.833333\n",
       "посёлок Стрельна            580.157895     741.875000\n",
       "посёлок Шушары                     NaN     573.217105"
      ]
     },
     "execution_count": 12,
     "metadata": {},
     "output_type": "execute_result"
    }
   ],
   "source": [
    "df.pivot_table(index='locality_name', values=['parks_nearest', 'ponds_nearest'])"
   ]
  },
  {
   "cell_type": "markdown",
   "metadata": {},
   "source": [
    "Здесь ситуация еще хуже. Информация о ближайших парках есть только по 12 населенным пунктам, о ближайших водоемах - по 18."
   ]
  },
  {
   "cell_type": "markdown",
   "metadata": {},
   "source": [
    "Картографические данные по большинству населенных пунктов отсутствуют. Это может быть связано с тем, что в некоторых населенных пунктах отсутствуют аэропорты, парки, водоемы, а также центр города."
   ]
  },
  {
   "cell_type": "markdown",
   "metadata": {},
   "source": [
    "Рассмотрим распределение значений в столбце is_apartment."
   ]
  },
  {
   "cell_type": "code",
   "execution_count": 13,
   "metadata": {
    "scrolled": true
   },
   "outputs": [
    {
     "data": {
      "text/plain": [
       "False    2710\n",
       "True       50\n",
       "Name: is_apartment, dtype: int64"
      ]
     },
     "execution_count": 13,
     "metadata": {},
     "output_type": "execute_result"
    }
   ],
   "source": [
    "df['is_apartment'].value_counts()"
   ]
  },
  {
   "cell_type": "markdown",
   "metadata": {},
   "source": [
    "Строк, в которых **is_apartment** принимает значение True совсем мало. Взглянем на них подробнее."
   ]
  },
  {
   "cell_type": "code",
   "execution_count": 14,
   "metadata": {},
   "outputs": [
    {
     "data": {
      "text/html": [
       "<div>\n",
       "<style scoped>\n",
       "    .dataframe tbody tr th:only-of-type {\n",
       "        vertical-align: middle;\n",
       "    }\n",
       "\n",
       "    .dataframe tbody tr th {\n",
       "        vertical-align: top;\n",
       "    }\n",
       "\n",
       "    .dataframe thead th {\n",
       "        text-align: right;\n",
       "    }\n",
       "</style>\n",
       "<table border=\"1\" class=\"dataframe\">\n",
       "  <thead>\n",
       "    <tr style=\"text-align: right;\">\n",
       "      <th></th>\n",
       "      <th>total_images</th>\n",
       "      <th>last_price</th>\n",
       "      <th>total_area</th>\n",
       "      <th>first_day_exposition</th>\n",
       "      <th>rooms</th>\n",
       "      <th>ceiling_height</th>\n",
       "      <th>floors_total</th>\n",
       "      <th>living_area</th>\n",
       "      <th>floor</th>\n",
       "      <th>is_apartment</th>\n",
       "      <th>...</th>\n",
       "      <th>kitchen_area</th>\n",
       "      <th>balcony</th>\n",
       "      <th>locality_name</th>\n",
       "      <th>airports_nearest</th>\n",
       "      <th>cityCenters_nearest</th>\n",
       "      <th>parks_around3000</th>\n",
       "      <th>parks_nearest</th>\n",
       "      <th>ponds_around3000</th>\n",
       "      <th>ponds_nearest</th>\n",
       "      <th>days_exposition</th>\n",
       "    </tr>\n",
       "  </thead>\n",
       "  <tbody>\n",
       "    <tr>\n",
       "      <th>540</th>\n",
       "      <td>11</td>\n",
       "      <td>12790000.0</td>\n",
       "      <td>56.60</td>\n",
       "      <td>2018-11-06T00:00:00</td>\n",
       "      <td>2</td>\n",
       "      <td>3.50</td>\n",
       "      <td>3.0</td>\n",
       "      <td>29.400000</td>\n",
       "      <td>1</td>\n",
       "      <td>True</td>\n",
       "      <td>...</td>\n",
       "      <td>NaN</td>\n",
       "      <td>0.0</td>\n",
       "      <td>Петергоф</td>\n",
       "      <td>35248.0</td>\n",
       "      <td>30437.0</td>\n",
       "      <td>3.0</td>\n",
       "      <td>53.0</td>\n",
       "      <td>3.0</td>\n",
       "      <td>22.0</td>\n",
       "      <td>NaN</td>\n",
       "    </tr>\n",
       "    <tr>\n",
       "      <th>912</th>\n",
       "      <td>11</td>\n",
       "      <td>8183000.0</td>\n",
       "      <td>70.00</td>\n",
       "      <td>2018-01-11T00:00:00</td>\n",
       "      <td>2</td>\n",
       "      <td>3.12</td>\n",
       "      <td>3.0</td>\n",
       "      <td>40.000000</td>\n",
       "      <td>3</td>\n",
       "      <td>True</td>\n",
       "      <td>...</td>\n",
       "      <td>NaN</td>\n",
       "      <td>2.0</td>\n",
       "      <td>Санкт-Петербург</td>\n",
       "      <td>45796.0</td>\n",
       "      <td>21729.0</td>\n",
       "      <td>0.0</td>\n",
       "      <td>NaN</td>\n",
       "      <td>1.0</td>\n",
       "      <td>754.0</td>\n",
       "      <td>179.0</td>\n",
       "    </tr>\n",
       "    <tr>\n",
       "      <th>1104</th>\n",
       "      <td>1</td>\n",
       "      <td>34878556.0</td>\n",
       "      <td>95.80</td>\n",
       "      <td>2014-12-09T00:00:00</td>\n",
       "      <td>2</td>\n",
       "      <td>NaN</td>\n",
       "      <td>6.0</td>\n",
       "      <td>58.300000</td>\n",
       "      <td>5</td>\n",
       "      <td>True</td>\n",
       "      <td>...</td>\n",
       "      <td>20.00</td>\n",
       "      <td>1.0</td>\n",
       "      <td>Санкт-Петербург</td>\n",
       "      <td>21860.0</td>\n",
       "      <td>318.0</td>\n",
       "      <td>2.0</td>\n",
       "      <td>160.0</td>\n",
       "      <td>3.0</td>\n",
       "      <td>569.0</td>\n",
       "      <td>1572.0</td>\n",
       "    </tr>\n",
       "    <tr>\n",
       "      <th>1603</th>\n",
       "      <td>12</td>\n",
       "      <td>2150000.0</td>\n",
       "      <td>20.10</td>\n",
       "      <td>2019-01-30T00:00:00</td>\n",
       "      <td>1</td>\n",
       "      <td>NaN</td>\n",
       "      <td>9.0</td>\n",
       "      <td>NaN</td>\n",
       "      <td>1</td>\n",
       "      <td>True</td>\n",
       "      <td>...</td>\n",
       "      <td>NaN</td>\n",
       "      <td>0.0</td>\n",
       "      <td>Санкт-Петербург</td>\n",
       "      <td>26646.0</td>\n",
       "      <td>12147.0</td>\n",
       "      <td>0.0</td>\n",
       "      <td>NaN</td>\n",
       "      <td>0.0</td>\n",
       "      <td>NaN</td>\n",
       "      <td>13.0</td>\n",
       "    </tr>\n",
       "    <tr>\n",
       "      <th>2748</th>\n",
       "      <td>11</td>\n",
       "      <td>7500000.0</td>\n",
       "      <td>152.00</td>\n",
       "      <td>2018-07-27T00:00:00</td>\n",
       "      <td>3</td>\n",
       "      <td>3.00</td>\n",
       "      <td>3.0</td>\n",
       "      <td>NaN</td>\n",
       "      <td>1</td>\n",
       "      <td>True</td>\n",
       "      <td>...</td>\n",
       "      <td>NaN</td>\n",
       "      <td>1.0</td>\n",
       "      <td>Всеволожск</td>\n",
       "      <td>NaN</td>\n",
       "      <td>NaN</td>\n",
       "      <td>NaN</td>\n",
       "      <td>NaN</td>\n",
       "      <td>NaN</td>\n",
       "      <td>NaN</td>\n",
       "      <td>7.0</td>\n",
       "    </tr>\n",
       "    <tr>\n",
       "      <th>2962</th>\n",
       "      <td>9</td>\n",
       "      <td>4931398.0</td>\n",
       "      <td>42.90</td>\n",
       "      <td>2018-07-23T00:00:00</td>\n",
       "      <td>1</td>\n",
       "      <td>3.15</td>\n",
       "      <td>4.0</td>\n",
       "      <td>20.390000</td>\n",
       "      <td>3</td>\n",
       "      <td>True</td>\n",
       "      <td>...</td>\n",
       "      <td>10.29</td>\n",
       "      <td>0.0</td>\n",
       "      <td>Санкт-Петербург</td>\n",
       "      <td>44870.0</td>\n",
       "      <td>20802.0</td>\n",
       "      <td>0.0</td>\n",
       "      <td>NaN</td>\n",
       "      <td>1.0</td>\n",
       "      <td>792.0</td>\n",
       "      <td>273.0</td>\n",
       "    </tr>\n",
       "    <tr>\n",
       "      <th>3053</th>\n",
       "      <td>13</td>\n",
       "      <td>6600000.0</td>\n",
       "      <td>95.00</td>\n",
       "      <td>2018-09-08T00:00:00</td>\n",
       "      <td>2</td>\n",
       "      <td>4.50</td>\n",
       "      <td>7.0</td>\n",
       "      <td>45.000000</td>\n",
       "      <td>7</td>\n",
       "      <td>True</td>\n",
       "      <td>...</td>\n",
       "      <td>25.00</td>\n",
       "      <td>2.0</td>\n",
       "      <td>Выборг</td>\n",
       "      <td>NaN</td>\n",
       "      <td>NaN</td>\n",
       "      <td>NaN</td>\n",
       "      <td>NaN</td>\n",
       "      <td>NaN</td>\n",
       "      <td>NaN</td>\n",
       "      <td>96.0</td>\n",
       "    </tr>\n",
       "    <tr>\n",
       "      <th>3800</th>\n",
       "      <td>4</td>\n",
       "      <td>4779000.0</td>\n",
       "      <td>53.10</td>\n",
       "      <td>2016-05-16T00:00:00</td>\n",
       "      <td>1</td>\n",
       "      <td>NaN</td>\n",
       "      <td>13.0</td>\n",
       "      <td>19.800000</td>\n",
       "      <td>6</td>\n",
       "      <td>True</td>\n",
       "      <td>...</td>\n",
       "      <td>15.90</td>\n",
       "      <td>2.0</td>\n",
       "      <td>Санкт-Петербург</td>\n",
       "      <td>19396.0</td>\n",
       "      <td>4516.0</td>\n",
       "      <td>0.0</td>\n",
       "      <td>NaN</td>\n",
       "      <td>1.0</td>\n",
       "      <td>826.0</td>\n",
       "      <td>60.0</td>\n",
       "    </tr>\n",
       "    <tr>\n",
       "      <th>3933</th>\n",
       "      <td>10</td>\n",
       "      <td>4300000.0</td>\n",
       "      <td>50.00</td>\n",
       "      <td>2019-04-20T00:00:00</td>\n",
       "      <td>1</td>\n",
       "      <td>3.00</td>\n",
       "      <td>11.0</td>\n",
       "      <td>17.000000</td>\n",
       "      <td>9</td>\n",
       "      <td>True</td>\n",
       "      <td>...</td>\n",
       "      <td>12.00</td>\n",
       "      <td>2.0</td>\n",
       "      <td>Санкт-Петербург</td>\n",
       "      <td>10143.0</td>\n",
       "      <td>11367.0</td>\n",
       "      <td>0.0</td>\n",
       "      <td>NaN</td>\n",
       "      <td>0.0</td>\n",
       "      <td>NaN</td>\n",
       "      <td>NaN</td>\n",
       "    </tr>\n",
       "    <tr>\n",
       "      <th>4318</th>\n",
       "      <td>19</td>\n",
       "      <td>6900000.0</td>\n",
       "      <td>72.00</td>\n",
       "      <td>2019-03-25T00:00:00</td>\n",
       "      <td>3</td>\n",
       "      <td>3.50</td>\n",
       "      <td>4.0</td>\n",
       "      <td>70.000000</td>\n",
       "      <td>1</td>\n",
       "      <td>True</td>\n",
       "      <td>...</td>\n",
       "      <td>NaN</td>\n",
       "      <td>0.0</td>\n",
       "      <td>Санкт-Петербург</td>\n",
       "      <td>31487.0</td>\n",
       "      <td>4466.0</td>\n",
       "      <td>2.0</td>\n",
       "      <td>353.0</td>\n",
       "      <td>1.0</td>\n",
       "      <td>439.0</td>\n",
       "      <td>22.0</td>\n",
       "    </tr>\n",
       "    <tr>\n",
       "      <th>5051</th>\n",
       "      <td>0</td>\n",
       "      <td>3850000.0</td>\n",
       "      <td>30.50</td>\n",
       "      <td>2018-10-03T00:00:00</td>\n",
       "      <td>1</td>\n",
       "      <td>24.00</td>\n",
       "      <td>5.0</td>\n",
       "      <td>19.500000</td>\n",
       "      <td>1</td>\n",
       "      <td>True</td>\n",
       "      <td>...</td>\n",
       "      <td>5.50</td>\n",
       "      <td>0.0</td>\n",
       "      <td>Санкт-Петербург</td>\n",
       "      <td>29686.0</td>\n",
       "      <td>8389.0</td>\n",
       "      <td>3.0</td>\n",
       "      <td>397.0</td>\n",
       "      <td>1.0</td>\n",
       "      <td>578.0</td>\n",
       "      <td>7.0</td>\n",
       "    </tr>\n",
       "    <tr>\n",
       "      <th>5270</th>\n",
       "      <td>19</td>\n",
       "      <td>45000000.0</td>\n",
       "      <td>96.00</td>\n",
       "      <td>2018-11-15T00:00:00</td>\n",
       "      <td>2</td>\n",
       "      <td>3.20</td>\n",
       "      <td>6.0</td>\n",
       "      <td>NaN</td>\n",
       "      <td>4</td>\n",
       "      <td>True</td>\n",
       "      <td>...</td>\n",
       "      <td>45.00</td>\n",
       "      <td>1.0</td>\n",
       "      <td>Санкт-Петербург</td>\n",
       "      <td>21860.0</td>\n",
       "      <td>318.0</td>\n",
       "      <td>2.0</td>\n",
       "      <td>160.0</td>\n",
       "      <td>3.0</td>\n",
       "      <td>569.0</td>\n",
       "      <td>NaN</td>\n",
       "    </tr>\n",
       "    <tr>\n",
       "      <th>5626</th>\n",
       "      <td>20</td>\n",
       "      <td>9200000.0</td>\n",
       "      <td>116.00</td>\n",
       "      <td>2019-04-26T00:00:00</td>\n",
       "      <td>3</td>\n",
       "      <td>3.20</td>\n",
       "      <td>5.0</td>\n",
       "      <td>68.000000</td>\n",
       "      <td>5</td>\n",
       "      <td>True</td>\n",
       "      <td>...</td>\n",
       "      <td>32.00</td>\n",
       "      <td>2.0</td>\n",
       "      <td>Выборг</td>\n",
       "      <td>NaN</td>\n",
       "      <td>NaN</td>\n",
       "      <td>NaN</td>\n",
       "      <td>NaN</td>\n",
       "      <td>NaN</td>\n",
       "      <td>NaN</td>\n",
       "      <td>NaN</td>\n",
       "    </tr>\n",
       "    <tr>\n",
       "      <th>5779</th>\n",
       "      <td>10</td>\n",
       "      <td>7900000.0</td>\n",
       "      <td>74.00</td>\n",
       "      <td>2019-02-12T00:00:00</td>\n",
       "      <td>3</td>\n",
       "      <td>3.55</td>\n",
       "      <td>6.0</td>\n",
       "      <td>56.000000</td>\n",
       "      <td>3</td>\n",
       "      <td>True</td>\n",
       "      <td>...</td>\n",
       "      <td>NaN</td>\n",
       "      <td>0.0</td>\n",
       "      <td>Санкт-Петербург</td>\n",
       "      <td>31006.0</td>\n",
       "      <td>3075.0</td>\n",
       "      <td>2.0</td>\n",
       "      <td>123.0</td>\n",
       "      <td>3.0</td>\n",
       "      <td>274.0</td>\n",
       "      <td>6.0</td>\n",
       "    </tr>\n",
       "    <tr>\n",
       "      <th>6319</th>\n",
       "      <td>0</td>\n",
       "      <td>11620701.0</td>\n",
       "      <td>122.30</td>\n",
       "      <td>2018-10-01T00:00:00</td>\n",
       "      <td>2</td>\n",
       "      <td>2.80</td>\n",
       "      <td>3.0</td>\n",
       "      <td>NaN</td>\n",
       "      <td>3</td>\n",
       "      <td>True</td>\n",
       "      <td>...</td>\n",
       "      <td>NaN</td>\n",
       "      <td>0.0</td>\n",
       "      <td>Санкт-Петербург</td>\n",
       "      <td>44870.0</td>\n",
       "      <td>20802.0</td>\n",
       "      <td>0.0</td>\n",
       "      <td>NaN</td>\n",
       "      <td>1.0</td>\n",
       "      <td>792.0</td>\n",
       "      <td>NaN</td>\n",
       "    </tr>\n",
       "    <tr>\n",
       "      <th>6489</th>\n",
       "      <td>11</td>\n",
       "      <td>7500000.0</td>\n",
       "      <td>82.00</td>\n",
       "      <td>2019-04-20T00:00:00</td>\n",
       "      <td>2</td>\n",
       "      <td>3.00</td>\n",
       "      <td>11.0</td>\n",
       "      <td>30.000000</td>\n",
       "      <td>9</td>\n",
       "      <td>True</td>\n",
       "      <td>...</td>\n",
       "      <td>31.00</td>\n",
       "      <td>2.0</td>\n",
       "      <td>Санкт-Петербург</td>\n",
       "      <td>10143.0</td>\n",
       "      <td>11367.0</td>\n",
       "      <td>0.0</td>\n",
       "      <td>NaN</td>\n",
       "      <td>0.0</td>\n",
       "      <td>NaN</td>\n",
       "      <td>NaN</td>\n",
       "    </tr>\n",
       "    <tr>\n",
       "      <th>6527</th>\n",
       "      <td>20</td>\n",
       "      <td>10500000.0</td>\n",
       "      <td>100.00</td>\n",
       "      <td>2019-03-22T00:00:00</td>\n",
       "      <td>3</td>\n",
       "      <td>2.65</td>\n",
       "      <td>4.0</td>\n",
       "      <td>51.000000</td>\n",
       "      <td>4</td>\n",
       "      <td>True</td>\n",
       "      <td>...</td>\n",
       "      <td>NaN</td>\n",
       "      <td>0.0</td>\n",
       "      <td>Санкт-Петербург</td>\n",
       "      <td>44812.0</td>\n",
       "      <td>10500.0</td>\n",
       "      <td>0.0</td>\n",
       "      <td>NaN</td>\n",
       "      <td>0.0</td>\n",
       "      <td>NaN</td>\n",
       "      <td>NaN</td>\n",
       "    </tr>\n",
       "    <tr>\n",
       "      <th>6836</th>\n",
       "      <td>14</td>\n",
       "      <td>6100000.0</td>\n",
       "      <td>58.00</td>\n",
       "      <td>2018-07-25T00:00:00</td>\n",
       "      <td>2</td>\n",
       "      <td>3.10</td>\n",
       "      <td>4.0</td>\n",
       "      <td>NaN</td>\n",
       "      <td>3</td>\n",
       "      <td>True</td>\n",
       "      <td>...</td>\n",
       "      <td>NaN</td>\n",
       "      <td>0.0</td>\n",
       "      <td>Санкт-Петербург</td>\n",
       "      <td>45942.0</td>\n",
       "      <td>20802.0</td>\n",
       "      <td>0.0</td>\n",
       "      <td>NaN</td>\n",
       "      <td>1.0</td>\n",
       "      <td>792.0</td>\n",
       "      <td>126.0</td>\n",
       "    </tr>\n",
       "    <tr>\n",
       "      <th>7021</th>\n",
       "      <td>8</td>\n",
       "      <td>3500000.0</td>\n",
       "      <td>56.40</td>\n",
       "      <td>2016-04-06T00:00:00</td>\n",
       "      <td>2</td>\n",
       "      <td>2.60</td>\n",
       "      <td>5.0</td>\n",
       "      <td>31.000000</td>\n",
       "      <td>2</td>\n",
       "      <td>True</td>\n",
       "      <td>...</td>\n",
       "      <td>10.00</td>\n",
       "      <td>1.0</td>\n",
       "      <td>Никольское</td>\n",
       "      <td>NaN</td>\n",
       "      <td>NaN</td>\n",
       "      <td>NaN</td>\n",
       "      <td>NaN</td>\n",
       "      <td>NaN</td>\n",
       "      <td>NaN</td>\n",
       "      <td>635.0</td>\n",
       "    </tr>\n",
       "    <tr>\n",
       "      <th>7170</th>\n",
       "      <td>7</td>\n",
       "      <td>5289476.0</td>\n",
       "      <td>46.90</td>\n",
       "      <td>2018-07-18T00:00:00</td>\n",
       "      <td>1</td>\n",
       "      <td>3.15</td>\n",
       "      <td>4.0</td>\n",
       "      <td>16.470000</td>\n",
       "      <td>2</td>\n",
       "      <td>True</td>\n",
       "      <td>...</td>\n",
       "      <td>14.46</td>\n",
       "      <td>1.0</td>\n",
       "      <td>Санкт-Петербург</td>\n",
       "      <td>44870.0</td>\n",
       "      <td>20802.0</td>\n",
       "      <td>0.0</td>\n",
       "      <td>NaN</td>\n",
       "      <td>1.0</td>\n",
       "      <td>792.0</td>\n",
       "      <td>278.0</td>\n",
       "    </tr>\n",
       "    <tr>\n",
       "      <th>7325</th>\n",
       "      <td>18</td>\n",
       "      <td>4300000.0</td>\n",
       "      <td>41.76</td>\n",
       "      <td>2018-06-12T00:00:00</td>\n",
       "      <td>1</td>\n",
       "      <td>2.65</td>\n",
       "      <td>20.0</td>\n",
       "      <td>13.920000</td>\n",
       "      <td>6</td>\n",
       "      <td>True</td>\n",
       "      <td>...</td>\n",
       "      <td>11.37</td>\n",
       "      <td>2.0</td>\n",
       "      <td>Санкт-Петербург</td>\n",
       "      <td>39141.0</td>\n",
       "      <td>15985.0</td>\n",
       "      <td>0.0</td>\n",
       "      <td>NaN</td>\n",
       "      <td>0.0</td>\n",
       "      <td>NaN</td>\n",
       "      <td>44.0</td>\n",
       "    </tr>\n",
       "    <tr>\n",
       "      <th>7483</th>\n",
       "      <td>16</td>\n",
       "      <td>43500000.0</td>\n",
       "      <td>245.80</td>\n",
       "      <td>2015-12-17T00:00:00</td>\n",
       "      <td>3</td>\n",
       "      <td>4.45</td>\n",
       "      <td>7.0</td>\n",
       "      <td>170.800000</td>\n",
       "      <td>7</td>\n",
       "      <td>True</td>\n",
       "      <td>...</td>\n",
       "      <td>25.00</td>\n",
       "      <td>1.0</td>\n",
       "      <td>Санкт-Петербург</td>\n",
       "      <td>NaN</td>\n",
       "      <td>5735.0</td>\n",
       "      <td>2.0</td>\n",
       "      <td>110.0</td>\n",
       "      <td>0.0</td>\n",
       "      <td>NaN</td>\n",
       "      <td>1067.0</td>\n",
       "    </tr>\n",
       "    <tr>\n",
       "      <th>7977</th>\n",
       "      <td>20</td>\n",
       "      <td>84000000.0</td>\n",
       "      <td>507.00</td>\n",
       "      <td>2015-12-17T00:00:00</td>\n",
       "      <td>5</td>\n",
       "      <td>4.45</td>\n",
       "      <td>7.0</td>\n",
       "      <td>301.500000</td>\n",
       "      <td>7</td>\n",
       "      <td>True</td>\n",
       "      <td>...</td>\n",
       "      <td>45.50</td>\n",
       "      <td>1.0</td>\n",
       "      <td>Санкт-Петербург</td>\n",
       "      <td>NaN</td>\n",
       "      <td>5735.0</td>\n",
       "      <td>2.0</td>\n",
       "      <td>110.0</td>\n",
       "      <td>0.0</td>\n",
       "      <td>NaN</td>\n",
       "      <td>1078.0</td>\n",
       "    </tr>\n",
       "    <tr>\n",
       "      <th>8211</th>\n",
       "      <td>15</td>\n",
       "      <td>12750000.0</td>\n",
       "      <td>102.00</td>\n",
       "      <td>2018-10-17T00:00:00</td>\n",
       "      <td>3</td>\n",
       "      <td>2.80</td>\n",
       "      <td>7.0</td>\n",
       "      <td>61.000000</td>\n",
       "      <td>4</td>\n",
       "      <td>True</td>\n",
       "      <td>...</td>\n",
       "      <td>12.00</td>\n",
       "      <td>5.0</td>\n",
       "      <td>Колпино</td>\n",
       "      <td>26100.0</td>\n",
       "      <td>31886.0</td>\n",
       "      <td>2.0</td>\n",
       "      <td>332.0</td>\n",
       "      <td>2.0</td>\n",
       "      <td>472.0</td>\n",
       "      <td>172.0</td>\n",
       "    </tr>\n",
       "    <tr>\n",
       "      <th>8568</th>\n",
       "      <td>6</td>\n",
       "      <td>6030000.0</td>\n",
       "      <td>50.40</td>\n",
       "      <td>2018-02-20T00:00:00</td>\n",
       "      <td>2</td>\n",
       "      <td>3.10</td>\n",
       "      <td>4.0</td>\n",
       "      <td>37.000000</td>\n",
       "      <td>2</td>\n",
       "      <td>True</td>\n",
       "      <td>...</td>\n",
       "      <td>11.00</td>\n",
       "      <td>0.0</td>\n",
       "      <td>Санкт-Петербург</td>\n",
       "      <td>45767.0</td>\n",
       "      <td>21700.0</td>\n",
       "      <td>0.0</td>\n",
       "      <td>NaN</td>\n",
       "      <td>1.0</td>\n",
       "      <td>576.0</td>\n",
       "      <td>NaN</td>\n",
       "    </tr>\n",
       "    <tr>\n",
       "      <th>10334</th>\n",
       "      <td>18</td>\n",
       "      <td>30000000.0</td>\n",
       "      <td>137.00</td>\n",
       "      <td>2018-08-07T00:00:00</td>\n",
       "      <td>3</td>\n",
       "      <td>3.00</td>\n",
       "      <td>5.0</td>\n",
       "      <td>90.000000</td>\n",
       "      <td>4</td>\n",
       "      <td>True</td>\n",
       "      <td>...</td>\n",
       "      <td>12.00</td>\n",
       "      <td>0.0</td>\n",
       "      <td>Санкт-Петербург</td>\n",
       "      <td>23832.0</td>\n",
       "      <td>1285.0</td>\n",
       "      <td>3.0</td>\n",
       "      <td>374.0</td>\n",
       "      <td>3.0</td>\n",
       "      <td>32.0</td>\n",
       "      <td>34.0</td>\n",
       "    </tr>\n",
       "    <tr>\n",
       "      <th>10807</th>\n",
       "      <td>1</td>\n",
       "      <td>56844500.0</td>\n",
       "      <td>177.90</td>\n",
       "      <td>2015-01-15T00:00:00</td>\n",
       "      <td>3</td>\n",
       "      <td>NaN</td>\n",
       "      <td>6.0</td>\n",
       "      <td>87.200000</td>\n",
       "      <td>5</td>\n",
       "      <td>True</td>\n",
       "      <td>...</td>\n",
       "      <td>87.20</td>\n",
       "      <td>0.0</td>\n",
       "      <td>Санкт-Петербург</td>\n",
       "      <td>21860.0</td>\n",
       "      <td>318.0</td>\n",
       "      <td>2.0</td>\n",
       "      <td>160.0</td>\n",
       "      <td>3.0</td>\n",
       "      <td>569.0</td>\n",
       "      <td>NaN</td>\n",
       "    </tr>\n",
       "    <tr>\n",
       "      <th>11116</th>\n",
       "      <td>8</td>\n",
       "      <td>3676365.0</td>\n",
       "      <td>33.00</td>\n",
       "      <td>2018-07-23T00:00:00</td>\n",
       "      <td>1</td>\n",
       "      <td>3.00</td>\n",
       "      <td>4.0</td>\n",
       "      <td>27.060000</td>\n",
       "      <td>1</td>\n",
       "      <td>True</td>\n",
       "      <td>...</td>\n",
       "      <td>NaN</td>\n",
       "      <td>0.0</td>\n",
       "      <td>Санкт-Петербург</td>\n",
       "      <td>46015.0</td>\n",
       "      <td>20802.0</td>\n",
       "      <td>0.0</td>\n",
       "      <td>NaN</td>\n",
       "      <td>1.0</td>\n",
       "      <td>792.0</td>\n",
       "      <td>NaN</td>\n",
       "    </tr>\n",
       "    <tr>\n",
       "      <th>11424</th>\n",
       "      <td>1</td>\n",
       "      <td>46424072.0</td>\n",
       "      <td>92.40</td>\n",
       "      <td>2014-12-09T00:00:00</td>\n",
       "      <td>2</td>\n",
       "      <td>NaN</td>\n",
       "      <td>6.0</td>\n",
       "      <td>54.800000</td>\n",
       "      <td>6</td>\n",
       "      <td>True</td>\n",
       "      <td>...</td>\n",
       "      <td>20.00</td>\n",
       "      <td>1.0</td>\n",
       "      <td>Санкт-Петербург</td>\n",
       "      <td>21860.0</td>\n",
       "      <td>318.0</td>\n",
       "      <td>2.0</td>\n",
       "      <td>160.0</td>\n",
       "      <td>3.0</td>\n",
       "      <td>569.0</td>\n",
       "      <td>1030.0</td>\n",
       "    </tr>\n",
       "    <tr>\n",
       "      <th>11711</th>\n",
       "      <td>12</td>\n",
       "      <td>2290000.0</td>\n",
       "      <td>43.00</td>\n",
       "      <td>2017-06-09T00:00:00</td>\n",
       "      <td>2</td>\n",
       "      <td>2.50</td>\n",
       "      <td>5.0</td>\n",
       "      <td>29.000000</td>\n",
       "      <td>2</td>\n",
       "      <td>True</td>\n",
       "      <td>...</td>\n",
       "      <td>5.00</td>\n",
       "      <td>1.0</td>\n",
       "      <td>посёлок Щеглово</td>\n",
       "      <td>NaN</td>\n",
       "      <td>NaN</td>\n",
       "      <td>NaN</td>\n",
       "      <td>NaN</td>\n",
       "      <td>NaN</td>\n",
       "      <td>NaN</td>\n",
       "      <td>46.0</td>\n",
       "    </tr>\n",
       "    <tr>\n",
       "      <th>12091</th>\n",
       "      <td>8</td>\n",
       "      <td>2450000.0</td>\n",
       "      <td>43.00</td>\n",
       "      <td>2018-08-14T00:00:00</td>\n",
       "      <td>1</td>\n",
       "      <td>2.75</td>\n",
       "      <td>5.0</td>\n",
       "      <td>16.000000</td>\n",
       "      <td>1</td>\n",
       "      <td>True</td>\n",
       "      <td>...</td>\n",
       "      <td>NaN</td>\n",
       "      <td>0.0</td>\n",
       "      <td>Санкт-Петербург</td>\n",
       "      <td>26069.0</td>\n",
       "      <td>29493.0</td>\n",
       "      <td>0.0</td>\n",
       "      <td>NaN</td>\n",
       "      <td>0.0</td>\n",
       "      <td>NaN</td>\n",
       "      <td>8.0</td>\n",
       "    </tr>\n",
       "    <tr>\n",
       "      <th>14375</th>\n",
       "      <td>4</td>\n",
       "      <td>9635328.0</td>\n",
       "      <td>76.80</td>\n",
       "      <td>2018-10-01T00:00:00</td>\n",
       "      <td>1</td>\n",
       "      <td>2.80</td>\n",
       "      <td>3.0</td>\n",
       "      <td>NaN</td>\n",
       "      <td>3</td>\n",
       "      <td>True</td>\n",
       "      <td>...</td>\n",
       "      <td>NaN</td>\n",
       "      <td>0.0</td>\n",
       "      <td>Санкт-Петербург</td>\n",
       "      <td>44870.0</td>\n",
       "      <td>20802.0</td>\n",
       "      <td>0.0</td>\n",
       "      <td>NaN</td>\n",
       "      <td>1.0</td>\n",
       "      <td>792.0</td>\n",
       "      <td>30.0</td>\n",
       "    </tr>\n",
       "    <tr>\n",
       "      <th>14518</th>\n",
       "      <td>12</td>\n",
       "      <td>13490000.0</td>\n",
       "      <td>100.60</td>\n",
       "      <td>2018-07-31T00:00:00</td>\n",
       "      <td>7</td>\n",
       "      <td>NaN</td>\n",
       "      <td>4.0</td>\n",
       "      <td>NaN</td>\n",
       "      <td>2</td>\n",
       "      <td>True</td>\n",
       "      <td>...</td>\n",
       "      <td>NaN</td>\n",
       "      <td>0.0</td>\n",
       "      <td>Санкт-Петербург</td>\n",
       "      <td>24309.0</td>\n",
       "      <td>3876.0</td>\n",
       "      <td>3.0</td>\n",
       "      <td>574.0</td>\n",
       "      <td>3.0</td>\n",
       "      <td>325.0</td>\n",
       "      <td>50.0</td>\n",
       "    </tr>\n",
       "    <tr>\n",
       "      <th>15701</th>\n",
       "      <td>16</td>\n",
       "      <td>6390000.0</td>\n",
       "      <td>58.70</td>\n",
       "      <td>2018-03-18T00:00:00</td>\n",
       "      <td>1</td>\n",
       "      <td>3.12</td>\n",
       "      <td>4.0</td>\n",
       "      <td>31.500000</td>\n",
       "      <td>3</td>\n",
       "      <td>True</td>\n",
       "      <td>...</td>\n",
       "      <td>11.70</td>\n",
       "      <td>2.0</td>\n",
       "      <td>Санкт-Петербург</td>\n",
       "      <td>44870.0</td>\n",
       "      <td>21689.0</td>\n",
       "      <td>0.0</td>\n",
       "      <td>NaN</td>\n",
       "      <td>1.0</td>\n",
       "      <td>789.0</td>\n",
       "      <td>114.0</td>\n",
       "    </tr>\n",
       "    <tr>\n",
       "      <th>16077</th>\n",
       "      <td>13</td>\n",
       "      <td>4792000.0</td>\n",
       "      <td>49.00</td>\n",
       "      <td>2017-08-07T00:00:00</td>\n",
       "      <td>1</td>\n",
       "      <td>3.12</td>\n",
       "      <td>4.0</td>\n",
       "      <td>21.000000</td>\n",
       "      <td>3</td>\n",
       "      <td>True</td>\n",
       "      <td>...</td>\n",
       "      <td>13.60</td>\n",
       "      <td>2.0</td>\n",
       "      <td>Санкт-Петербург</td>\n",
       "      <td>44870.0</td>\n",
       "      <td>20802.0</td>\n",
       "      <td>0.0</td>\n",
       "      <td>NaN</td>\n",
       "      <td>1.0</td>\n",
       "      <td>792.0</td>\n",
       "      <td>337.0</td>\n",
       "    </tr>\n",
       "    <tr>\n",
       "      <th>17099</th>\n",
       "      <td>7</td>\n",
       "      <td>13900000.0</td>\n",
       "      <td>50.00</td>\n",
       "      <td>2016-10-24T00:00:00</td>\n",
       "      <td>1</td>\n",
       "      <td>4.00</td>\n",
       "      <td>3.0</td>\n",
       "      <td>35.000000</td>\n",
       "      <td>2</td>\n",
       "      <td>True</td>\n",
       "      <td>...</td>\n",
       "      <td>9.00</td>\n",
       "      <td>0.0</td>\n",
       "      <td>Санкт-Петербург</td>\n",
       "      <td>24418.0</td>\n",
       "      <td>1740.0</td>\n",
       "      <td>1.0</td>\n",
       "      <td>573.0</td>\n",
       "      <td>3.0</td>\n",
       "      <td>321.0</td>\n",
       "      <td>869.0</td>\n",
       "    </tr>\n",
       "    <tr>\n",
       "      <th>18329</th>\n",
       "      <td>19</td>\n",
       "      <td>6900000.0</td>\n",
       "      <td>93.00</td>\n",
       "      <td>2018-02-22T00:00:00</td>\n",
       "      <td>3</td>\n",
       "      <td>3.00</td>\n",
       "      <td>5.0</td>\n",
       "      <td>67.000000</td>\n",
       "      <td>4</td>\n",
       "      <td>True</td>\n",
       "      <td>...</td>\n",
       "      <td>NaN</td>\n",
       "      <td>2.0</td>\n",
       "      <td>Выборг</td>\n",
       "      <td>NaN</td>\n",
       "      <td>NaN</td>\n",
       "      <td>NaN</td>\n",
       "      <td>NaN</td>\n",
       "      <td>NaN</td>\n",
       "      <td>NaN</td>\n",
       "      <td>56.0</td>\n",
       "    </tr>\n",
       "    <tr>\n",
       "      <th>18912</th>\n",
       "      <td>12</td>\n",
       "      <td>4887000.0</td>\n",
       "      <td>52.40</td>\n",
       "      <td>2018-03-19T00:00:00</td>\n",
       "      <td>1</td>\n",
       "      <td>3.10</td>\n",
       "      <td>4.0</td>\n",
       "      <td>24.700000</td>\n",
       "      <td>2</td>\n",
       "      <td>True</td>\n",
       "      <td>...</td>\n",
       "      <td>11.70</td>\n",
       "      <td>5.0</td>\n",
       "      <td>Санкт-Петербург</td>\n",
       "      <td>44870.0</td>\n",
       "      <td>20802.0</td>\n",
       "      <td>0.0</td>\n",
       "      <td>NaN</td>\n",
       "      <td>1.0</td>\n",
       "      <td>792.0</td>\n",
       "      <td>113.0</td>\n",
       "    </tr>\n",
       "    <tr>\n",
       "      <th>18929</th>\n",
       "      <td>20</td>\n",
       "      <td>4100000.0</td>\n",
       "      <td>32.00</td>\n",
       "      <td>2017-04-07T00:00:00</td>\n",
       "      <td>1</td>\n",
       "      <td>2.70</td>\n",
       "      <td>27.0</td>\n",
       "      <td>16.000000</td>\n",
       "      <td>22</td>\n",
       "      <td>True</td>\n",
       "      <td>...</td>\n",
       "      <td>8.00</td>\n",
       "      <td>1.0</td>\n",
       "      <td>Санкт-Петербург</td>\n",
       "      <td>20998.0</td>\n",
       "      <td>22710.0</td>\n",
       "      <td>0.0</td>\n",
       "      <td>NaN</td>\n",
       "      <td>1.0</td>\n",
       "      <td>767.0</td>\n",
       "      <td>388.0</td>\n",
       "    </tr>\n",
       "    <tr>\n",
       "      <th>19582</th>\n",
       "      <td>16</td>\n",
       "      <td>7000000.0</td>\n",
       "      <td>52.80</td>\n",
       "      <td>2018-11-15T00:00:00</td>\n",
       "      <td>2</td>\n",
       "      <td>2.70</td>\n",
       "      <td>16.0</td>\n",
       "      <td>28.900002</td>\n",
       "      <td>13</td>\n",
       "      <td>True</td>\n",
       "      <td>...</td>\n",
       "      <td>9.50</td>\n",
       "      <td>1.0</td>\n",
       "      <td>Санкт-Петербург</td>\n",
       "      <td>8426.0</td>\n",
       "      <td>12082.0</td>\n",
       "      <td>2.0</td>\n",
       "      <td>24.0</td>\n",
       "      <td>1.0</td>\n",
       "      <td>271.0</td>\n",
       "      <td>165.0</td>\n",
       "    </tr>\n",
       "    <tr>\n",
       "      <th>19898</th>\n",
       "      <td>8</td>\n",
       "      <td>5400000.0</td>\n",
       "      <td>31.00</td>\n",
       "      <td>2018-02-21T00:00:00</td>\n",
       "      <td>1</td>\n",
       "      <td>2.75</td>\n",
       "      <td>9.0</td>\n",
       "      <td>20.000000</td>\n",
       "      <td>5</td>\n",
       "      <td>True</td>\n",
       "      <td>...</td>\n",
       "      <td>6.50</td>\n",
       "      <td>0.0</td>\n",
       "      <td>Санкт-Петербург</td>\n",
       "      <td>27747.0</td>\n",
       "      <td>6450.0</td>\n",
       "      <td>3.0</td>\n",
       "      <td>246.0</td>\n",
       "      <td>3.0</td>\n",
       "      <td>177.0</td>\n",
       "      <td>8.0</td>\n",
       "    </tr>\n",
       "    <tr>\n",
       "      <th>20255</th>\n",
       "      <td>8</td>\n",
       "      <td>9897258.0</td>\n",
       "      <td>85.20</td>\n",
       "      <td>2018-07-23T00:00:00</td>\n",
       "      <td>3</td>\n",
       "      <td>3.00</td>\n",
       "      <td>4.0</td>\n",
       "      <td>48.480000</td>\n",
       "      <td>3</td>\n",
       "      <td>True</td>\n",
       "      <td>...</td>\n",
       "      <td>10.20</td>\n",
       "      <td>2.0</td>\n",
       "      <td>Санкт-Петербург</td>\n",
       "      <td>44870.0</td>\n",
       "      <td>20802.0</td>\n",
       "      <td>0.0</td>\n",
       "      <td>NaN</td>\n",
       "      <td>0.0</td>\n",
       "      <td>NaN</td>\n",
       "      <td>NaN</td>\n",
       "    </tr>\n",
       "    <tr>\n",
       "      <th>20420</th>\n",
       "      <td>18</td>\n",
       "      <td>3600000.0</td>\n",
       "      <td>31.23</td>\n",
       "      <td>2016-04-13T00:00:00</td>\n",
       "      <td>1</td>\n",
       "      <td>2.80</td>\n",
       "      <td>23.0</td>\n",
       "      <td>15.000000</td>\n",
       "      <td>11</td>\n",
       "      <td>True</td>\n",
       "      <td>...</td>\n",
       "      <td>10.00</td>\n",
       "      <td>2.0</td>\n",
       "      <td>Санкт-Петербург</td>\n",
       "      <td>33705.0</td>\n",
       "      <td>14883.0</td>\n",
       "      <td>0.0</td>\n",
       "      <td>NaN</td>\n",
       "      <td>0.0</td>\n",
       "      <td>NaN</td>\n",
       "      <td>767.0</td>\n",
       "    </tr>\n",
       "    <tr>\n",
       "      <th>21126</th>\n",
       "      <td>10</td>\n",
       "      <td>5500000.0</td>\n",
       "      <td>58.00</td>\n",
       "      <td>2018-12-13T00:00:00</td>\n",
       "      <td>3</td>\n",
       "      <td>2.60</td>\n",
       "      <td>9.0</td>\n",
       "      <td>41.000000</td>\n",
       "      <td>2</td>\n",
       "      <td>True</td>\n",
       "      <td>...</td>\n",
       "      <td>7.00</td>\n",
       "      <td>5.0</td>\n",
       "      <td>Санкт-Петербург</td>\n",
       "      <td>28632.0</td>\n",
       "      <td>13261.0</td>\n",
       "      <td>0.0</td>\n",
       "      <td>NaN</td>\n",
       "      <td>1.0</td>\n",
       "      <td>544.0</td>\n",
       "      <td>12.0</td>\n",
       "    </tr>\n",
       "    <tr>\n",
       "      <th>21337</th>\n",
       "      <td>7</td>\n",
       "      <td>5616379.0</td>\n",
       "      <td>47.40</td>\n",
       "      <td>2018-07-23T00:00:00</td>\n",
       "      <td>1</td>\n",
       "      <td>3.00</td>\n",
       "      <td>4.0</td>\n",
       "      <td>20.520000</td>\n",
       "      <td>3</td>\n",
       "      <td>True</td>\n",
       "      <td>...</td>\n",
       "      <td>14.04</td>\n",
       "      <td>2.0</td>\n",
       "      <td>Санкт-Петербург</td>\n",
       "      <td>44870.0</td>\n",
       "      <td>20802.0</td>\n",
       "      <td>0.0</td>\n",
       "      <td>NaN</td>\n",
       "      <td>0.0</td>\n",
       "      <td>NaN</td>\n",
       "      <td>NaN</td>\n",
       "    </tr>\n",
       "    <tr>\n",
       "      <th>22433</th>\n",
       "      <td>15</td>\n",
       "      <td>5500000.0</td>\n",
       "      <td>98.00</td>\n",
       "      <td>2018-12-09T00:00:00</td>\n",
       "      <td>3</td>\n",
       "      <td>2.60</td>\n",
       "      <td>8.0</td>\n",
       "      <td>NaN</td>\n",
       "      <td>2</td>\n",
       "      <td>True</td>\n",
       "      <td>...</td>\n",
       "      <td>28.00</td>\n",
       "      <td>0.0</td>\n",
       "      <td>Красное Село</td>\n",
       "      <td>27164.0</td>\n",
       "      <td>30589.0</td>\n",
       "      <td>0.0</td>\n",
       "      <td>NaN</td>\n",
       "      <td>0.0</td>\n",
       "      <td>NaN</td>\n",
       "      <td>7.0</td>\n",
       "    </tr>\n",
       "    <tr>\n",
       "      <th>22739</th>\n",
       "      <td>0</td>\n",
       "      <td>15000000.0</td>\n",
       "      <td>25.00</td>\n",
       "      <td>2018-07-25T00:00:00</td>\n",
       "      <td>1</td>\n",
       "      <td>100.00</td>\n",
       "      <td>5.0</td>\n",
       "      <td>14.000000</td>\n",
       "      <td>5</td>\n",
       "      <td>True</td>\n",
       "      <td>...</td>\n",
       "      <td>11.00</td>\n",
       "      <td>5.0</td>\n",
       "      <td>Санкт-Петербург</td>\n",
       "      <td>34963.0</td>\n",
       "      <td>8283.0</td>\n",
       "      <td>1.0</td>\n",
       "      <td>223.0</td>\n",
       "      <td>3.0</td>\n",
       "      <td>30.0</td>\n",
       "      <td>19.0</td>\n",
       "    </tr>\n",
       "    <tr>\n",
       "      <th>22807</th>\n",
       "      <td>14</td>\n",
       "      <td>4000000.0</td>\n",
       "      <td>98.00</td>\n",
       "      <td>2018-03-15T00:00:00</td>\n",
       "      <td>4</td>\n",
       "      <td>27.00</td>\n",
       "      <td>2.0</td>\n",
       "      <td>73.000000</td>\n",
       "      <td>2</td>\n",
       "      <td>True</td>\n",
       "      <td>...</td>\n",
       "      <td>9.00</td>\n",
       "      <td>1.0</td>\n",
       "      <td>деревня Нижняя</td>\n",
       "      <td>NaN</td>\n",
       "      <td>NaN</td>\n",
       "      <td>NaN</td>\n",
       "      <td>NaN</td>\n",
       "      <td>NaN</td>\n",
       "      <td>NaN</td>\n",
       "      <td>27.0</td>\n",
       "    </tr>\n",
       "    <tr>\n",
       "      <th>22810</th>\n",
       "      <td>8</td>\n",
       "      <td>10965000.0</td>\n",
       "      <td>69.30</td>\n",
       "      <td>2019-01-10T00:00:00</td>\n",
       "      <td>1</td>\n",
       "      <td>3.00</td>\n",
       "      <td>4.0</td>\n",
       "      <td>48.900000</td>\n",
       "      <td>4</td>\n",
       "      <td>True</td>\n",
       "      <td>...</td>\n",
       "      <td>NaN</td>\n",
       "      <td>2.0</td>\n",
       "      <td>Зеленогорск</td>\n",
       "      <td>73391.0</td>\n",
       "      <td>54490.0</td>\n",
       "      <td>3.0</td>\n",
       "      <td>4.0</td>\n",
       "      <td>1.0</td>\n",
       "      <td>217.0</td>\n",
       "      <td>110.0</td>\n",
       "    </tr>\n",
       "    <tr>\n",
       "      <th>23104</th>\n",
       "      <td>18</td>\n",
       "      <td>13900000.0</td>\n",
       "      <td>95.00</td>\n",
       "      <td>2017-10-15T00:00:00</td>\n",
       "      <td>3</td>\n",
       "      <td>2.80</td>\n",
       "      <td>15.0</td>\n",
       "      <td>50.000000</td>\n",
       "      <td>15</td>\n",
       "      <td>True</td>\n",
       "      <td>...</td>\n",
       "      <td>11.00</td>\n",
       "      <td>4.0</td>\n",
       "      <td>Санкт-Петербург</td>\n",
       "      <td>27573.0</td>\n",
       "      <td>9436.0</td>\n",
       "      <td>1.0</td>\n",
       "      <td>714.0</td>\n",
       "      <td>0.0</td>\n",
       "      <td>NaN</td>\n",
       "      <td>7.0</td>\n",
       "    </tr>\n",
       "  </tbody>\n",
       "</table>\n",
       "<p>50 rows × 22 columns</p>\n",
       "</div>"
      ],
      "text/plain": [
       "       total_images  last_price  total_area first_day_exposition  rooms  \\\n",
       "540              11  12790000.0       56.60  2018-11-06T00:00:00      2   \n",
       "912              11   8183000.0       70.00  2018-01-11T00:00:00      2   \n",
       "1104              1  34878556.0       95.80  2014-12-09T00:00:00      2   \n",
       "1603             12   2150000.0       20.10  2019-01-30T00:00:00      1   \n",
       "2748             11   7500000.0      152.00  2018-07-27T00:00:00      3   \n",
       "2962              9   4931398.0       42.90  2018-07-23T00:00:00      1   \n",
       "3053             13   6600000.0       95.00  2018-09-08T00:00:00      2   \n",
       "3800              4   4779000.0       53.10  2016-05-16T00:00:00      1   \n",
       "3933             10   4300000.0       50.00  2019-04-20T00:00:00      1   \n",
       "4318             19   6900000.0       72.00  2019-03-25T00:00:00      3   \n",
       "5051              0   3850000.0       30.50  2018-10-03T00:00:00      1   \n",
       "5270             19  45000000.0       96.00  2018-11-15T00:00:00      2   \n",
       "5626             20   9200000.0      116.00  2019-04-26T00:00:00      3   \n",
       "5779             10   7900000.0       74.00  2019-02-12T00:00:00      3   \n",
       "6319              0  11620701.0      122.30  2018-10-01T00:00:00      2   \n",
       "6489             11   7500000.0       82.00  2019-04-20T00:00:00      2   \n",
       "6527             20  10500000.0      100.00  2019-03-22T00:00:00      3   \n",
       "6836             14   6100000.0       58.00  2018-07-25T00:00:00      2   \n",
       "7021              8   3500000.0       56.40  2016-04-06T00:00:00      2   \n",
       "7170              7   5289476.0       46.90  2018-07-18T00:00:00      1   \n",
       "7325             18   4300000.0       41.76  2018-06-12T00:00:00      1   \n",
       "7483             16  43500000.0      245.80  2015-12-17T00:00:00      3   \n",
       "7977             20  84000000.0      507.00  2015-12-17T00:00:00      5   \n",
       "8211             15  12750000.0      102.00  2018-10-17T00:00:00      3   \n",
       "8568              6   6030000.0       50.40  2018-02-20T00:00:00      2   \n",
       "10334            18  30000000.0      137.00  2018-08-07T00:00:00      3   \n",
       "10807             1  56844500.0      177.90  2015-01-15T00:00:00      3   \n",
       "11116             8   3676365.0       33.00  2018-07-23T00:00:00      1   \n",
       "11424             1  46424072.0       92.40  2014-12-09T00:00:00      2   \n",
       "11711            12   2290000.0       43.00  2017-06-09T00:00:00      2   \n",
       "12091             8   2450000.0       43.00  2018-08-14T00:00:00      1   \n",
       "14375             4   9635328.0       76.80  2018-10-01T00:00:00      1   \n",
       "14518            12  13490000.0      100.60  2018-07-31T00:00:00      7   \n",
       "15701            16   6390000.0       58.70  2018-03-18T00:00:00      1   \n",
       "16077            13   4792000.0       49.00  2017-08-07T00:00:00      1   \n",
       "17099             7  13900000.0       50.00  2016-10-24T00:00:00      1   \n",
       "18329            19   6900000.0       93.00  2018-02-22T00:00:00      3   \n",
       "18912            12   4887000.0       52.40  2018-03-19T00:00:00      1   \n",
       "18929            20   4100000.0       32.00  2017-04-07T00:00:00      1   \n",
       "19582            16   7000000.0       52.80  2018-11-15T00:00:00      2   \n",
       "19898             8   5400000.0       31.00  2018-02-21T00:00:00      1   \n",
       "20255             8   9897258.0       85.20  2018-07-23T00:00:00      3   \n",
       "20420            18   3600000.0       31.23  2016-04-13T00:00:00      1   \n",
       "21126            10   5500000.0       58.00  2018-12-13T00:00:00      3   \n",
       "21337             7   5616379.0       47.40  2018-07-23T00:00:00      1   \n",
       "22433            15   5500000.0       98.00  2018-12-09T00:00:00      3   \n",
       "22739             0  15000000.0       25.00  2018-07-25T00:00:00      1   \n",
       "22807            14   4000000.0       98.00  2018-03-15T00:00:00      4   \n",
       "22810             8  10965000.0       69.30  2019-01-10T00:00:00      1   \n",
       "23104            18  13900000.0       95.00  2017-10-15T00:00:00      3   \n",
       "\n",
       "       ceiling_height  floors_total  living_area  floor is_apartment  ...  \\\n",
       "540              3.50           3.0    29.400000      1         True  ...   \n",
       "912              3.12           3.0    40.000000      3         True  ...   \n",
       "1104              NaN           6.0    58.300000      5         True  ...   \n",
       "1603              NaN           9.0          NaN      1         True  ...   \n",
       "2748             3.00           3.0          NaN      1         True  ...   \n",
       "2962             3.15           4.0    20.390000      3         True  ...   \n",
       "3053             4.50           7.0    45.000000      7         True  ...   \n",
       "3800              NaN          13.0    19.800000      6         True  ...   \n",
       "3933             3.00          11.0    17.000000      9         True  ...   \n",
       "4318             3.50           4.0    70.000000      1         True  ...   \n",
       "5051            24.00           5.0    19.500000      1         True  ...   \n",
       "5270             3.20           6.0          NaN      4         True  ...   \n",
       "5626             3.20           5.0    68.000000      5         True  ...   \n",
       "5779             3.55           6.0    56.000000      3         True  ...   \n",
       "6319             2.80           3.0          NaN      3         True  ...   \n",
       "6489             3.00          11.0    30.000000      9         True  ...   \n",
       "6527             2.65           4.0    51.000000      4         True  ...   \n",
       "6836             3.10           4.0          NaN      3         True  ...   \n",
       "7021             2.60           5.0    31.000000      2         True  ...   \n",
       "7170             3.15           4.0    16.470000      2         True  ...   \n",
       "7325             2.65          20.0    13.920000      6         True  ...   \n",
       "7483             4.45           7.0   170.800000      7         True  ...   \n",
       "7977             4.45           7.0   301.500000      7         True  ...   \n",
       "8211             2.80           7.0    61.000000      4         True  ...   \n",
       "8568             3.10           4.0    37.000000      2         True  ...   \n",
       "10334            3.00           5.0    90.000000      4         True  ...   \n",
       "10807             NaN           6.0    87.200000      5         True  ...   \n",
       "11116            3.00           4.0    27.060000      1         True  ...   \n",
       "11424             NaN           6.0    54.800000      6         True  ...   \n",
       "11711            2.50           5.0    29.000000      2         True  ...   \n",
       "12091            2.75           5.0    16.000000      1         True  ...   \n",
       "14375            2.80           3.0          NaN      3         True  ...   \n",
       "14518             NaN           4.0          NaN      2         True  ...   \n",
       "15701            3.12           4.0    31.500000      3         True  ...   \n",
       "16077            3.12           4.0    21.000000      3         True  ...   \n",
       "17099            4.00           3.0    35.000000      2         True  ...   \n",
       "18329            3.00           5.0    67.000000      4         True  ...   \n",
       "18912            3.10           4.0    24.700000      2         True  ...   \n",
       "18929            2.70          27.0    16.000000     22         True  ...   \n",
       "19582            2.70          16.0    28.900002     13         True  ...   \n",
       "19898            2.75           9.0    20.000000      5         True  ...   \n",
       "20255            3.00           4.0    48.480000      3         True  ...   \n",
       "20420            2.80          23.0    15.000000     11         True  ...   \n",
       "21126            2.60           9.0    41.000000      2         True  ...   \n",
       "21337            3.00           4.0    20.520000      3         True  ...   \n",
       "22433            2.60           8.0          NaN      2         True  ...   \n",
       "22739          100.00           5.0    14.000000      5         True  ...   \n",
       "22807           27.00           2.0    73.000000      2         True  ...   \n",
       "22810            3.00           4.0    48.900000      4         True  ...   \n",
       "23104            2.80          15.0    50.000000     15         True  ...   \n",
       "\n",
       "       kitchen_area  balcony    locality_name  airports_nearest  \\\n",
       "540             NaN      0.0         Петергоф           35248.0   \n",
       "912             NaN      2.0  Санкт-Петербург           45796.0   \n",
       "1104          20.00      1.0  Санкт-Петербург           21860.0   \n",
       "1603            NaN      0.0  Санкт-Петербург           26646.0   \n",
       "2748            NaN      1.0       Всеволожск               NaN   \n",
       "2962          10.29      0.0  Санкт-Петербург           44870.0   \n",
       "3053          25.00      2.0           Выборг               NaN   \n",
       "3800          15.90      2.0  Санкт-Петербург           19396.0   \n",
       "3933          12.00      2.0  Санкт-Петербург           10143.0   \n",
       "4318            NaN      0.0  Санкт-Петербург           31487.0   \n",
       "5051           5.50      0.0  Санкт-Петербург           29686.0   \n",
       "5270          45.00      1.0  Санкт-Петербург           21860.0   \n",
       "5626          32.00      2.0           Выборг               NaN   \n",
       "5779            NaN      0.0  Санкт-Петербург           31006.0   \n",
       "6319            NaN      0.0  Санкт-Петербург           44870.0   \n",
       "6489          31.00      2.0  Санкт-Петербург           10143.0   \n",
       "6527            NaN      0.0  Санкт-Петербург           44812.0   \n",
       "6836            NaN      0.0  Санкт-Петербург           45942.0   \n",
       "7021          10.00      1.0       Никольское               NaN   \n",
       "7170          14.46      1.0  Санкт-Петербург           44870.0   \n",
       "7325          11.37      2.0  Санкт-Петербург           39141.0   \n",
       "7483          25.00      1.0  Санкт-Петербург               NaN   \n",
       "7977          45.50      1.0  Санкт-Петербург               NaN   \n",
       "8211          12.00      5.0          Колпино           26100.0   \n",
       "8568          11.00      0.0  Санкт-Петербург           45767.0   \n",
       "10334         12.00      0.0  Санкт-Петербург           23832.0   \n",
       "10807         87.20      0.0  Санкт-Петербург           21860.0   \n",
       "11116           NaN      0.0  Санкт-Петербург           46015.0   \n",
       "11424         20.00      1.0  Санкт-Петербург           21860.0   \n",
       "11711          5.00      1.0  посёлок Щеглово               NaN   \n",
       "12091           NaN      0.0  Санкт-Петербург           26069.0   \n",
       "14375           NaN      0.0  Санкт-Петербург           44870.0   \n",
       "14518           NaN      0.0  Санкт-Петербург           24309.0   \n",
       "15701         11.70      2.0  Санкт-Петербург           44870.0   \n",
       "16077         13.60      2.0  Санкт-Петербург           44870.0   \n",
       "17099          9.00      0.0  Санкт-Петербург           24418.0   \n",
       "18329           NaN      2.0           Выборг               NaN   \n",
       "18912         11.70      5.0  Санкт-Петербург           44870.0   \n",
       "18929          8.00      1.0  Санкт-Петербург           20998.0   \n",
       "19582          9.50      1.0  Санкт-Петербург            8426.0   \n",
       "19898          6.50      0.0  Санкт-Петербург           27747.0   \n",
       "20255         10.20      2.0  Санкт-Петербург           44870.0   \n",
       "20420         10.00      2.0  Санкт-Петербург           33705.0   \n",
       "21126          7.00      5.0  Санкт-Петербург           28632.0   \n",
       "21337         14.04      2.0  Санкт-Петербург           44870.0   \n",
       "22433         28.00      0.0     Красное Село           27164.0   \n",
       "22739         11.00      5.0  Санкт-Петербург           34963.0   \n",
       "22807          9.00      1.0   деревня Нижняя               NaN   \n",
       "22810           NaN      2.0      Зеленогорск           73391.0   \n",
       "23104         11.00      4.0  Санкт-Петербург           27573.0   \n",
       "\n",
       "      cityCenters_nearest  parks_around3000  parks_nearest  ponds_around3000  \\\n",
       "540               30437.0               3.0           53.0               3.0   \n",
       "912               21729.0               0.0            NaN               1.0   \n",
       "1104                318.0               2.0          160.0               3.0   \n",
       "1603              12147.0               0.0            NaN               0.0   \n",
       "2748                  NaN               NaN            NaN               NaN   \n",
       "2962              20802.0               0.0            NaN               1.0   \n",
       "3053                  NaN               NaN            NaN               NaN   \n",
       "3800               4516.0               0.0            NaN               1.0   \n",
       "3933              11367.0               0.0            NaN               0.0   \n",
       "4318               4466.0               2.0          353.0               1.0   \n",
       "5051               8389.0               3.0          397.0               1.0   \n",
       "5270                318.0               2.0          160.0               3.0   \n",
       "5626                  NaN               NaN            NaN               NaN   \n",
       "5779               3075.0               2.0          123.0               3.0   \n",
       "6319              20802.0               0.0            NaN               1.0   \n",
       "6489              11367.0               0.0            NaN               0.0   \n",
       "6527              10500.0               0.0            NaN               0.0   \n",
       "6836              20802.0               0.0            NaN               1.0   \n",
       "7021                  NaN               NaN            NaN               NaN   \n",
       "7170              20802.0               0.0            NaN               1.0   \n",
       "7325              15985.0               0.0            NaN               0.0   \n",
       "7483               5735.0               2.0          110.0               0.0   \n",
       "7977               5735.0               2.0          110.0               0.0   \n",
       "8211              31886.0               2.0          332.0               2.0   \n",
       "8568              21700.0               0.0            NaN               1.0   \n",
       "10334              1285.0               3.0          374.0               3.0   \n",
       "10807               318.0               2.0          160.0               3.0   \n",
       "11116             20802.0               0.0            NaN               1.0   \n",
       "11424               318.0               2.0          160.0               3.0   \n",
       "11711                 NaN               NaN            NaN               NaN   \n",
       "12091             29493.0               0.0            NaN               0.0   \n",
       "14375             20802.0               0.0            NaN               1.0   \n",
       "14518              3876.0               3.0          574.0               3.0   \n",
       "15701             21689.0               0.0            NaN               1.0   \n",
       "16077             20802.0               0.0            NaN               1.0   \n",
       "17099              1740.0               1.0          573.0               3.0   \n",
       "18329                 NaN               NaN            NaN               NaN   \n",
       "18912             20802.0               0.0            NaN               1.0   \n",
       "18929             22710.0               0.0            NaN               1.0   \n",
       "19582             12082.0               2.0           24.0               1.0   \n",
       "19898              6450.0               3.0          246.0               3.0   \n",
       "20255             20802.0               0.0            NaN               0.0   \n",
       "20420             14883.0               0.0            NaN               0.0   \n",
       "21126             13261.0               0.0            NaN               1.0   \n",
       "21337             20802.0               0.0            NaN               0.0   \n",
       "22433             30589.0               0.0            NaN               0.0   \n",
       "22739              8283.0               1.0          223.0               3.0   \n",
       "22807                 NaN               NaN            NaN               NaN   \n",
       "22810             54490.0               3.0            4.0               1.0   \n",
       "23104              9436.0               1.0          714.0               0.0   \n",
       "\n",
       "       ponds_nearest  days_exposition  \n",
       "540             22.0              NaN  \n",
       "912            754.0            179.0  \n",
       "1104           569.0           1572.0  \n",
       "1603             NaN             13.0  \n",
       "2748             NaN              7.0  \n",
       "2962           792.0            273.0  \n",
       "3053             NaN             96.0  \n",
       "3800           826.0             60.0  \n",
       "3933             NaN              NaN  \n",
       "4318           439.0             22.0  \n",
       "5051           578.0              7.0  \n",
       "5270           569.0              NaN  \n",
       "5626             NaN              NaN  \n",
       "5779           274.0              6.0  \n",
       "6319           792.0              NaN  \n",
       "6489             NaN              NaN  \n",
       "6527             NaN              NaN  \n",
       "6836           792.0            126.0  \n",
       "7021             NaN            635.0  \n",
       "7170           792.0            278.0  \n",
       "7325             NaN             44.0  \n",
       "7483             NaN           1067.0  \n",
       "7977             NaN           1078.0  \n",
       "8211           472.0            172.0  \n",
       "8568           576.0              NaN  \n",
       "10334           32.0             34.0  \n",
       "10807          569.0              NaN  \n",
       "11116          792.0              NaN  \n",
       "11424          569.0           1030.0  \n",
       "11711            NaN             46.0  \n",
       "12091            NaN              8.0  \n",
       "14375          792.0             30.0  \n",
       "14518          325.0             50.0  \n",
       "15701          789.0            114.0  \n",
       "16077          792.0            337.0  \n",
       "17099          321.0            869.0  \n",
       "18329            NaN             56.0  \n",
       "18912          792.0            113.0  \n",
       "18929          767.0            388.0  \n",
       "19582          271.0            165.0  \n",
       "19898          177.0              8.0  \n",
       "20255            NaN              NaN  \n",
       "20420            NaN            767.0  \n",
       "21126          544.0             12.0  \n",
       "21337            NaN              NaN  \n",
       "22433            NaN              7.0  \n",
       "22739           30.0             19.0  \n",
       "22807            NaN             27.0  \n",
       "22810          217.0            110.0  \n",
       "23104            NaN              7.0  \n",
       "\n",
       "[50 rows x 22 columns]"
      ]
     },
     "execution_count": 14,
     "metadata": {},
     "output_type": "execute_result"
    }
   ],
   "source": [
    "df.query('is_apartment == True')"
   ]
  },
  {
   "cell_type": "markdown",
   "metadata": {},
   "source": [
    "В данных отсутствует какие-либо закономерности для строк со значением True  в столбце is_apartment. Оставим пропуски в этом столбце без изменений."
   ]
  },
  {
   "cell_type": "markdown",
   "metadata": {},
   "source": [
    "Много пропусков имеется в столбцах **living_area** и **kitchen_area**.\n",
    "\n",
    "Посмотрим, возможно ли их запонить медианой в зависимости от общего количества комнат."
   ]
  },
  {
   "cell_type": "code",
   "execution_count": 15,
   "metadata": {},
   "outputs": [
    {
     "data": {
      "text/html": [
       "<div>\n",
       "<style scoped>\n",
       "    .dataframe tbody tr th:only-of-type {\n",
       "        vertical-align: middle;\n",
       "    }\n",
       "\n",
       "    .dataframe tbody tr th {\n",
       "        vertical-align: top;\n",
       "    }\n",
       "\n",
       "    .dataframe thead th {\n",
       "        text-align: right;\n",
       "    }\n",
       "</style>\n",
       "<table border=\"1\" class=\"dataframe\">\n",
       "  <thead>\n",
       "    <tr style=\"text-align: right;\">\n",
       "      <th></th>\n",
       "      <th>count</th>\n",
       "      <th>mean</th>\n",
       "      <th>std</th>\n",
       "      <th>min</th>\n",
       "      <th>25%</th>\n",
       "      <th>50%</th>\n",
       "      <th>75%</th>\n",
       "      <th>max</th>\n",
       "    </tr>\n",
       "    <tr>\n",
       "      <th>rooms</th>\n",
       "      <th></th>\n",
       "      <th></th>\n",
       "      <th></th>\n",
       "      <th></th>\n",
       "      <th></th>\n",
       "      <th></th>\n",
       "      <th></th>\n",
       "      <th></th>\n",
       "    </tr>\n",
       "  </thead>\n",
       "  <tbody>\n",
       "    <tr>\n",
       "      <th>0</th>\n",
       "      <td>183.0</td>\n",
       "      <td>18.865246</td>\n",
       "      <td>6.549527</td>\n",
       "      <td>2.0</td>\n",
       "      <td>16.000</td>\n",
       "      <td>18.000</td>\n",
       "      <td>19.950</td>\n",
       "      <td>68.0</td>\n",
       "    </tr>\n",
       "    <tr>\n",
       "      <th>1</th>\n",
       "      <td>7358.0</td>\n",
       "      <td>17.899507</td>\n",
       "      <td>3.444951</td>\n",
       "      <td>3.0</td>\n",
       "      <td>16.000</td>\n",
       "      <td>17.600</td>\n",
       "      <td>19.000</td>\n",
       "      <td>60.0</td>\n",
       "    </tr>\n",
       "    <tr>\n",
       "      <th>2</th>\n",
       "      <td>7265.0</td>\n",
       "      <td>31.731865</td>\n",
       "      <td>6.121858</td>\n",
       "      <td>2.0</td>\n",
       "      <td>28.100</td>\n",
       "      <td>30.500</td>\n",
       "      <td>33.900</td>\n",
       "      <td>99.5</td>\n",
       "    </tr>\n",
       "    <tr>\n",
       "      <th>3</th>\n",
       "      <td>5339.0</td>\n",
       "      <td>47.374108</td>\n",
       "      <td>11.213742</td>\n",
       "      <td>3.0</td>\n",
       "      <td>41.000</td>\n",
       "      <td>45.000</td>\n",
       "      <td>51.300</td>\n",
       "      <td>170.8</td>\n",
       "    </tr>\n",
       "    <tr>\n",
       "      <th>4</th>\n",
       "      <td>1082.0</td>\n",
       "      <td>66.994806</td>\n",
       "      <td>23.349625</td>\n",
       "      <td>5.4</td>\n",
       "      <td>52.000</td>\n",
       "      <td>63.650</td>\n",
       "      <td>76.375</td>\n",
       "      <td>250.0</td>\n",
       "    </tr>\n",
       "    <tr>\n",
       "      <th>5</th>\n",
       "      <td>292.0</td>\n",
       "      <td>100.009247</td>\n",
       "      <td>36.644486</td>\n",
       "      <td>23.6</td>\n",
       "      <td>76.475</td>\n",
       "      <td>91.785</td>\n",
       "      <td>116.425</td>\n",
       "      <td>301.5</td>\n",
       "    </tr>\n",
       "    <tr>\n",
       "      <th>6</th>\n",
       "      <td>98.0</td>\n",
       "      <td>131.799796</td>\n",
       "      <td>42.180914</td>\n",
       "      <td>68.0</td>\n",
       "      <td>101.575</td>\n",
       "      <td>124.400</td>\n",
       "      <td>158.500</td>\n",
       "      <td>300.0</td>\n",
       "    </tr>\n",
       "    <tr>\n",
       "      <th>7</th>\n",
       "      <td>53.0</td>\n",
       "      <td>163.564151</td>\n",
       "      <td>68.203364</td>\n",
       "      <td>57.4</td>\n",
       "      <td>119.300</td>\n",
       "      <td>145.000</td>\n",
       "      <td>193.000</td>\n",
       "      <td>347.5</td>\n",
       "    </tr>\n",
       "    <tr>\n",
       "      <th>8</th>\n",
       "      <td>12.0</td>\n",
       "      <td>168.683333</td>\n",
       "      <td>41.550623</td>\n",
       "      <td>107.0</td>\n",
       "      <td>152.400</td>\n",
       "      <td>161.000</td>\n",
       "      <td>179.200</td>\n",
       "      <td>260.0</td>\n",
       "    </tr>\n",
       "    <tr>\n",
       "      <th>9</th>\n",
       "      <td>7.0</td>\n",
       "      <td>190.257143</td>\n",
       "      <td>36.362428</td>\n",
       "      <td>157.0</td>\n",
       "      <td>160.350</td>\n",
       "      <td>179.200</td>\n",
       "      <td>212.450</td>\n",
       "      <td>250.0</td>\n",
       "    </tr>\n",
       "    <tr>\n",
       "      <th>10</th>\n",
       "      <td>3.0</td>\n",
       "      <td>165.566667</td>\n",
       "      <td>22.047298</td>\n",
       "      <td>145.9</td>\n",
       "      <td>153.650</td>\n",
       "      <td>161.400</td>\n",
       "      <td>175.400</td>\n",
       "      <td>189.4</td>\n",
       "    </tr>\n",
       "    <tr>\n",
       "      <th>11</th>\n",
       "      <td>2.0</td>\n",
       "      <td>133.900000</td>\n",
       "      <td>6.929646</td>\n",
       "      <td>129.0</td>\n",
       "      <td>131.450</td>\n",
       "      <td>133.900</td>\n",
       "      <td>136.350</td>\n",
       "      <td>138.8</td>\n",
       "    </tr>\n",
       "    <tr>\n",
       "      <th>12</th>\n",
       "      <td>1.0</td>\n",
       "      <td>409.700000</td>\n",
       "      <td>NaN</td>\n",
       "      <td>409.7</td>\n",
       "      <td>409.700</td>\n",
       "      <td>409.700</td>\n",
       "      <td>409.700</td>\n",
       "      <td>409.7</td>\n",
       "    </tr>\n",
       "    <tr>\n",
       "      <th>14</th>\n",
       "      <td>2.0</td>\n",
       "      <td>195.150000</td>\n",
       "      <td>37.971634</td>\n",
       "      <td>168.3</td>\n",
       "      <td>181.725</td>\n",
       "      <td>195.150</td>\n",
       "      <td>208.575</td>\n",
       "      <td>222.0</td>\n",
       "    </tr>\n",
       "    <tr>\n",
       "      <th>15</th>\n",
       "      <td>1.0</td>\n",
       "      <td>409.000000</td>\n",
       "      <td>NaN</td>\n",
       "      <td>409.0</td>\n",
       "      <td>409.000</td>\n",
       "      <td>409.000</td>\n",
       "      <td>409.000</td>\n",
       "      <td>409.0</td>\n",
       "    </tr>\n",
       "    <tr>\n",
       "      <th>16</th>\n",
       "      <td>1.0</td>\n",
       "      <td>180.000000</td>\n",
       "      <td>NaN</td>\n",
       "      <td>180.0</td>\n",
       "      <td>180.000</td>\n",
       "      <td>180.000</td>\n",
       "      <td>180.000</td>\n",
       "      <td>180.0</td>\n",
       "    </tr>\n",
       "    <tr>\n",
       "      <th>19</th>\n",
       "      <td>1.0</td>\n",
       "      <td>264.500000</td>\n",
       "      <td>NaN</td>\n",
       "      <td>264.5</td>\n",
       "      <td>264.500</td>\n",
       "      <td>264.500</td>\n",
       "      <td>264.500</td>\n",
       "      <td>264.5</td>\n",
       "    </tr>\n",
       "  </tbody>\n",
       "</table>\n",
       "</div>"
      ],
      "text/plain": [
       "        count        mean        std    min      25%      50%      75%    max\n",
       "rooms                                                                        \n",
       "0       183.0   18.865246   6.549527    2.0   16.000   18.000   19.950   68.0\n",
       "1      7358.0   17.899507   3.444951    3.0   16.000   17.600   19.000   60.0\n",
       "2      7265.0   31.731865   6.121858    2.0   28.100   30.500   33.900   99.5\n",
       "3      5339.0   47.374108  11.213742    3.0   41.000   45.000   51.300  170.8\n",
       "4      1082.0   66.994806  23.349625    5.4   52.000   63.650   76.375  250.0\n",
       "5       292.0  100.009247  36.644486   23.6   76.475   91.785  116.425  301.5\n",
       "6        98.0  131.799796  42.180914   68.0  101.575  124.400  158.500  300.0\n",
       "7        53.0  163.564151  68.203364   57.4  119.300  145.000  193.000  347.5\n",
       "8        12.0  168.683333  41.550623  107.0  152.400  161.000  179.200  260.0\n",
       "9         7.0  190.257143  36.362428  157.0  160.350  179.200  212.450  250.0\n",
       "10        3.0  165.566667  22.047298  145.9  153.650  161.400  175.400  189.4\n",
       "11        2.0  133.900000   6.929646  129.0  131.450  133.900  136.350  138.8\n",
       "12        1.0  409.700000        NaN  409.7  409.700  409.700  409.700  409.7\n",
       "14        2.0  195.150000  37.971634  168.3  181.725  195.150  208.575  222.0\n",
       "15        1.0  409.000000        NaN  409.0  409.000  409.000  409.000  409.0\n",
       "16        1.0  180.000000        NaN  180.0  180.000  180.000  180.000  180.0\n",
       "19        1.0  264.500000        NaN  264.5  264.500  264.500  264.500  264.5"
      ]
     },
     "execution_count": 15,
     "metadata": {},
     "output_type": "execute_result"
    }
   ],
   "source": [
    "df.groupby('rooms')['living_area'].describe()"
   ]
  },
  {
   "cell_type": "code",
   "execution_count": 16,
   "metadata": {
    "scrolled": true
   },
   "outputs": [
    {
     "data": {
      "text/html": [
       "<div>\n",
       "<style scoped>\n",
       "    .dataframe tbody tr th:only-of-type {\n",
       "        vertical-align: middle;\n",
       "    }\n",
       "\n",
       "    .dataframe tbody tr th {\n",
       "        vertical-align: top;\n",
       "    }\n",
       "\n",
       "    .dataframe thead th {\n",
       "        text-align: right;\n",
       "    }\n",
       "</style>\n",
       "<table border=\"1\" class=\"dataframe\">\n",
       "  <thead>\n",
       "    <tr style=\"text-align: right;\">\n",
       "      <th></th>\n",
       "      <th>count</th>\n",
       "      <th>mean</th>\n",
       "      <th>std</th>\n",
       "      <th>min</th>\n",
       "      <th>25%</th>\n",
       "      <th>50%</th>\n",
       "      <th>75%</th>\n",
       "      <th>max</th>\n",
       "    </tr>\n",
       "    <tr>\n",
       "      <th>rooms</th>\n",
       "      <th></th>\n",
       "      <th></th>\n",
       "      <th></th>\n",
       "      <th></th>\n",
       "      <th></th>\n",
       "      <th></th>\n",
       "      <th></th>\n",
       "      <th></th>\n",
       "    </tr>\n",
       "  </thead>\n",
       "  <tbody>\n",
       "    <tr>\n",
       "      <th>0</th>\n",
       "      <td>0.0</td>\n",
       "      <td>NaN</td>\n",
       "      <td>NaN</td>\n",
       "      <td>NaN</td>\n",
       "      <td>NaN</td>\n",
       "      <td>NaN</td>\n",
       "      <td>NaN</td>\n",
       "      <td>NaN</td>\n",
       "    </tr>\n",
       "    <tr>\n",
       "      <th>1</th>\n",
       "      <td>7195.0</td>\n",
       "      <td>9.544076</td>\n",
       "      <td>3.291325</td>\n",
       "      <td>1.3</td>\n",
       "      <td>7.200</td>\n",
       "      <td>9.00</td>\n",
       "      <td>11.000</td>\n",
       "      <td>58.4</td>\n",
       "    </tr>\n",
       "    <tr>\n",
       "      <th>2</th>\n",
       "      <td>7257.0</td>\n",
       "      <td>9.970915</td>\n",
       "      <td>5.111211</td>\n",
       "      <td>2.0</td>\n",
       "      <td>7.000</td>\n",
       "      <td>8.70</td>\n",
       "      <td>11.300</td>\n",
       "      <td>93.0</td>\n",
       "    </tr>\n",
       "    <tr>\n",
       "      <th>3</th>\n",
       "      <td>5356.0</td>\n",
       "      <td>11.292920</td>\n",
       "      <td>6.906926</td>\n",
       "      <td>4.0</td>\n",
       "      <td>7.000</td>\n",
       "      <td>9.50</td>\n",
       "      <td>13.000</td>\n",
       "      <td>107.0</td>\n",
       "    </tr>\n",
       "    <tr>\n",
       "      <th>4</th>\n",
       "      <td>1075.0</td>\n",
       "      <td>13.672140</td>\n",
       "      <td>8.955718</td>\n",
       "      <td>4.8</td>\n",
       "      <td>8.000</td>\n",
       "      <td>11.00</td>\n",
       "      <td>15.950</td>\n",
       "      <td>77.0</td>\n",
       "    </tr>\n",
       "    <tr>\n",
       "      <th>5</th>\n",
       "      <td>285.0</td>\n",
       "      <td>18.367649</td>\n",
       "      <td>10.862392</td>\n",
       "      <td>5.0</td>\n",
       "      <td>11.400</td>\n",
       "      <td>15.10</td>\n",
       "      <td>20.700</td>\n",
       "      <td>66.0</td>\n",
       "    </tr>\n",
       "    <tr>\n",
       "      <th>6</th>\n",
       "      <td>96.0</td>\n",
       "      <td>21.098229</td>\n",
       "      <td>9.892416</td>\n",
       "      <td>5.9</td>\n",
       "      <td>14.300</td>\n",
       "      <td>19.75</td>\n",
       "      <td>26.625</td>\n",
       "      <td>56.0</td>\n",
       "    </tr>\n",
       "    <tr>\n",
       "      <th>7</th>\n",
       "      <td>52.0</td>\n",
       "      <td>21.998077</td>\n",
       "      <td>12.114802</td>\n",
       "      <td>5.0</td>\n",
       "      <td>15.775</td>\n",
       "      <td>20.00</td>\n",
       "      <td>25.000</td>\n",
       "      <td>70.0</td>\n",
       "    </tr>\n",
       "    <tr>\n",
       "      <th>8</th>\n",
       "      <td>9.0</td>\n",
       "      <td>24.866667</td>\n",
       "      <td>13.085106</td>\n",
       "      <td>5.0</td>\n",
       "      <td>22.600</td>\n",
       "      <td>25.00</td>\n",
       "      <td>29.400</td>\n",
       "      <td>45.0</td>\n",
       "    </tr>\n",
       "    <tr>\n",
       "      <th>9</th>\n",
       "      <td>7.0</td>\n",
       "      <td>25.071429</td>\n",
       "      <td>15.983086</td>\n",
       "      <td>11.7</td>\n",
       "      <td>12.800</td>\n",
       "      <td>14.30</td>\n",
       "      <td>36.950</td>\n",
       "      <td>50.0</td>\n",
       "    </tr>\n",
       "    <tr>\n",
       "      <th>10</th>\n",
       "      <td>3.0</td>\n",
       "      <td>22.866667</td>\n",
       "      <td>6.197849</td>\n",
       "      <td>18.8</td>\n",
       "      <td>19.300</td>\n",
       "      <td>19.80</td>\n",
       "      <td>24.900</td>\n",
       "      <td>30.0</td>\n",
       "    </tr>\n",
       "    <tr>\n",
       "      <th>11</th>\n",
       "      <td>2.0</td>\n",
       "      <td>12.600000</td>\n",
       "      <td>0.989949</td>\n",
       "      <td>11.9</td>\n",
       "      <td>12.250</td>\n",
       "      <td>12.60</td>\n",
       "      <td>12.950</td>\n",
       "      <td>13.3</td>\n",
       "    </tr>\n",
       "    <tr>\n",
       "      <th>12</th>\n",
       "      <td>1.0</td>\n",
       "      <td>112.000000</td>\n",
       "      <td>NaN</td>\n",
       "      <td>112.0</td>\n",
       "      <td>112.000</td>\n",
       "      <td>112.00</td>\n",
       "      <td>112.000</td>\n",
       "      <td>112.0</td>\n",
       "    </tr>\n",
       "    <tr>\n",
       "      <th>14</th>\n",
       "      <td>2.0</td>\n",
       "      <td>21.250000</td>\n",
       "      <td>6.576093</td>\n",
       "      <td>16.6</td>\n",
       "      <td>18.925</td>\n",
       "      <td>21.25</td>\n",
       "      <td>23.575</td>\n",
       "      <td>25.9</td>\n",
       "    </tr>\n",
       "    <tr>\n",
       "      <th>15</th>\n",
       "      <td>1.0</td>\n",
       "      <td>100.000000</td>\n",
       "      <td>NaN</td>\n",
       "      <td>100.0</td>\n",
       "      <td>100.000</td>\n",
       "      <td>100.00</td>\n",
       "      <td>100.000</td>\n",
       "      <td>100.0</td>\n",
       "    </tr>\n",
       "    <tr>\n",
       "      <th>16</th>\n",
       "      <td>1.0</td>\n",
       "      <td>13.000000</td>\n",
       "      <td>NaN</td>\n",
       "      <td>13.0</td>\n",
       "      <td>13.000</td>\n",
       "      <td>13.00</td>\n",
       "      <td>13.000</td>\n",
       "      <td>13.0</td>\n",
       "    </tr>\n",
       "    <tr>\n",
       "      <th>19</th>\n",
       "      <td>1.0</td>\n",
       "      <td>27.600000</td>\n",
       "      <td>NaN</td>\n",
       "      <td>27.6</td>\n",
       "      <td>27.600</td>\n",
       "      <td>27.60</td>\n",
       "      <td>27.600</td>\n",
       "      <td>27.6</td>\n",
       "    </tr>\n",
       "  </tbody>\n",
       "</table>\n",
       "</div>"
      ],
      "text/plain": [
       "        count        mean        std    min      25%     50%      75%    max\n",
       "rooms                                                                       \n",
       "0         0.0         NaN        NaN    NaN      NaN     NaN      NaN    NaN\n",
       "1      7195.0    9.544076   3.291325    1.3    7.200    9.00   11.000   58.4\n",
       "2      7257.0    9.970915   5.111211    2.0    7.000    8.70   11.300   93.0\n",
       "3      5356.0   11.292920   6.906926    4.0    7.000    9.50   13.000  107.0\n",
       "4      1075.0   13.672140   8.955718    4.8    8.000   11.00   15.950   77.0\n",
       "5       285.0   18.367649  10.862392    5.0   11.400   15.10   20.700   66.0\n",
       "6        96.0   21.098229   9.892416    5.9   14.300   19.75   26.625   56.0\n",
       "7        52.0   21.998077  12.114802    5.0   15.775   20.00   25.000   70.0\n",
       "8         9.0   24.866667  13.085106    5.0   22.600   25.00   29.400   45.0\n",
       "9         7.0   25.071429  15.983086   11.7   12.800   14.30   36.950   50.0\n",
       "10        3.0   22.866667   6.197849   18.8   19.300   19.80   24.900   30.0\n",
       "11        2.0   12.600000   0.989949   11.9   12.250   12.60   12.950   13.3\n",
       "12        1.0  112.000000        NaN  112.0  112.000  112.00  112.000  112.0\n",
       "14        2.0   21.250000   6.576093   16.6   18.925   21.25   23.575   25.9\n",
       "15        1.0  100.000000        NaN  100.0  100.000  100.00  100.000  100.0\n",
       "16        1.0   13.000000        NaN   13.0   13.000   13.00   13.000   13.0\n",
       "19        1.0   27.600000        NaN   27.6   27.600   27.60   27.600   27.6"
      ]
     },
     "execution_count": 16,
     "metadata": {},
     "output_type": "execute_result"
    }
   ],
   "source": [
    "df.groupby('rooms')['kitchen_area'].describe()"
   ]
  },
  {
   "cell_type": "markdown",
   "metadata": {},
   "source": [
    "Стандартное отклонение в обоих случаях достаточно высокое по большинству значений столбца **rooms**.\n",
    "Оставим пропуски в столбцах **living_area** и **kitchen_area** без изменений."
   ]
  },
  {
   "cell_type": "markdown",
   "metadata": {},
   "source": [
    "Также у нас остались пропуски в столбцах:\n",
    "\n",
    "- ceiling_height\n",
    "- days_exposition\n",
    "\n",
    "Количетво дней, которое висело объявление до момента продажи, нам также нечем заполнить.\n",
    "Пропуски в столбце **ceiling_height** пока оставим и изучим значения в каждом столбце отдельно."
   ]
  },
  {
   "cell_type": "markdown",
   "metadata": {},
   "source": [
    "Рассмотрим типы данных в каждом столбце."
   ]
  },
  {
   "cell_type": "markdown",
   "metadata": {},
   "source": [
    "В столбце **first_day_exposition** изменим тип данных с object на datetime.\n",
    "\n",
    "Также изменим тип данных с float64 на int64 в столбцах **floors_total** и **balcony**, т.к. в данных столбцах могут быть только целочисленные значения."
   ]
  },
  {
   "cell_type": "code",
   "execution_count": 17,
   "metadata": {},
   "outputs": [],
   "source": [
    "# меняем тип данных в столбце first_day_exposition на формат дата-время\n",
    "df['first_day_exposition'] = pd.to_datetime(df['first_day_exposition'], format='%Y-%m-%dT%H:%M:%S')"
   ]
  },
  {
   "cell_type": "code",
   "execution_count": 18,
   "metadata": {},
   "outputs": [],
   "source": [
    "df['floors_total'] = df['floors_total'].astype('int') # меняем тип данных на целочисленный в столбце floors_total"
   ]
  },
  {
   "cell_type": "code",
   "execution_count": 19,
   "metadata": {},
   "outputs": [],
   "source": [
    "df['balcony'] = df['balcony'].astype('int') # меняем тип данных на целочисленный в столбце balcony"
   ]
  },
  {
   "cell_type": "markdown",
   "metadata": {},
   "source": [
    "Приведение даты к соответствующему формату необходимо для дальнейшей работы с данными в этом столбце.\n",
    "\n",
    "Общее количество этажей и балконов можно было оставить без изменения формата, однако, т.к. эти величины не могут быть значениями с плавающей запятой, корректнее все-таки изменить формат."
   ]
  },
  {
   "cell_type": "markdown",
   "metadata": {},
   "source": [
    "Теперь рассмотрим уникальные значения столбца locality_name."
   ]
  },
  {
   "cell_type": "code",
   "execution_count": 20,
   "metadata": {},
   "outputs": [
    {
     "data": {
      "text/plain": [
       "array(['Санкт-Петербург', 'посёлок Шушары', 'городской посёлок Янино-1',\n",
       "       'посёлок Парголово', 'посёлок Мурино', 'Ломоносов', 'Сертолово',\n",
       "       'Петергоф', 'Пушкин', 'деревня Кудрово', 'Коммунар', 'Колпино',\n",
       "       'поселок городского типа Красный Бор', 'Гатчина', 'поселок Мурино',\n",
       "       'деревня Фёдоровское', 'Выборг', 'Кронштадт', 'Кировск',\n",
       "       'деревня Новое Девяткино', 'посёлок Металлострой',\n",
       "       'посёлок городского типа Лебяжье',\n",
       "       'посёлок городского типа Сиверский', 'поселок Молодцово',\n",
       "       'поселок городского типа Кузьмоловский',\n",
       "       'садовое товарищество Новая Ропша', 'Павловск',\n",
       "       'деревня Пикколово', 'Всеволожск', 'Волхов', 'Кингисепп',\n",
       "       'Приозерск', 'Сестрорецк', 'деревня Куттузи', 'посёлок Аннино',\n",
       "       'поселок городского типа Ефимовский', 'посёлок Плодовое',\n",
       "       'деревня Заклинье', 'поселок Торковичи', 'поселок Первомайское',\n",
       "       'Красное Село', 'посёлок Понтонный', 'Сясьстрой', 'деревня Старая',\n",
       "       'деревня Лесколово', 'посёлок Новый Свет', 'Сланцы',\n",
       "       'село Путилово', 'Ивангород', 'Мурино', 'Шлиссельбург',\n",
       "       'Никольское', 'Зеленогорск', 'Сосновый Бор', 'поселок Новый Свет',\n",
       "       'деревня Оржицы', 'деревня Кальтино', 'Кудрово',\n",
       "       'поселок Романовка', 'посёлок Бугры', 'поселок Бугры',\n",
       "       'поселок городского типа Рощино', 'Кириши', 'Луга', 'Волосово',\n",
       "       'Отрадное', 'село Павлово', 'поселок Оредеж', 'село Копорье',\n",
       "       'посёлок городского типа Красный Бор', 'посёлок Молодёжное',\n",
       "       'Тихвин', 'посёлок Победа', 'деревня Нурма',\n",
       "       'поселок городского типа Синявино', 'Тосно',\n",
       "       'посёлок городского типа Кузьмоловский', 'посёлок Стрельна',\n",
       "       'Бокситогорск', 'посёлок Александровская', 'деревня Лопухинка',\n",
       "       'Пикалёво', 'поселок Терволово',\n",
       "       'поселок городского типа Советский', 'Подпорожье',\n",
       "       'посёлок Петровское', 'посёлок городского типа Токсово',\n",
       "       'поселок Сельцо', 'посёлок городского типа Вырица',\n",
       "       'деревня Кипень', 'деревня Келози', 'деревня Вартемяги',\n",
       "       'посёлок Тельмана', 'поселок Севастьяново',\n",
       "       'городской поселок Большая Ижора', 'городской посёлок Павлово',\n",
       "       'деревня Агалатово', 'посёлок Новогорелово',\n",
       "       'городской посёлок Лесогорский', 'деревня Лаголово',\n",
       "       'поселок Цвелодубово', 'поселок городского типа Рахья',\n",
       "       'поселок городского типа Вырица', 'деревня Белогорка',\n",
       "       'поселок Заводской', 'городской посёлок Новоселье',\n",
       "       'деревня Большие Колпаны', 'деревня Горбунки', 'деревня Батово',\n",
       "       'деревня Заневка', 'деревня Иссад', 'Приморск',\n",
       "       'городской посёлок Фёдоровское', 'деревня Мистолово',\n",
       "       'Новая Ладога', 'поселок Зимитицы', 'поселок Барышево',\n",
       "       'деревня Разметелево', 'поселок городского типа имени Свердлова',\n",
       "       'деревня Пеники', 'поселок Рябово', 'деревня Пудомяги',\n",
       "       'поселок станции Корнево', 'деревня Низино', 'деревня Бегуницы',\n",
       "       'посёлок Поляны', 'городской посёлок Мга', 'поселок Елизаветино',\n",
       "       'посёлок городского типа Кузнечное', 'деревня Колтуши',\n",
       "       'поселок Запорожское', 'посёлок городского типа Рощино',\n",
       "       'деревня Гостилицы', 'деревня Малое Карлино',\n",
       "       'посёлок Мичуринское', 'посёлок городского типа имени Морозова',\n",
       "       'посёлок Песочный', 'посёлок Сосново', 'деревня Аро',\n",
       "       'поселок Ильичёво', 'посёлок городского типа Тайцы',\n",
       "       'деревня Малое Верево', 'деревня Извара', 'поселок станции Вещево',\n",
       "       'село Паша', 'деревня Калитино',\n",
       "       'посёлок городского типа Ульяновка', 'деревня Чудской Бор',\n",
       "       'поселок городского типа Дубровка', 'деревня Мины',\n",
       "       'поселок Войсковицы', 'посёлок городского типа имени Свердлова',\n",
       "       'деревня Коркино', 'посёлок Ропша',\n",
       "       'поселок городского типа Приладожский', 'посёлок Щеглово',\n",
       "       'посёлок Гаврилово', 'Лодейное Поле', 'деревня Рабитицы',\n",
       "       'поселок городского типа Никольский', 'деревня Кузьмолово',\n",
       "       'деревня Малые Колпаны', 'поселок Тельмана',\n",
       "       'посёлок Петро-Славянка', 'городской посёлок Назия',\n",
       "       'посёлок Репино', 'посёлок Ильичёво', 'поселок Углово',\n",
       "       'поселок Старая Малукса', 'садовое товарищество Рахья',\n",
       "       'поселок Аннино', 'поселок Победа', 'деревня Меньково',\n",
       "       'деревня Старые Бегуницы', 'посёлок Сапёрный', 'поселок Семрино',\n",
       "       'поселок Гаврилово', 'поселок Глажево', 'поселок Кобринское',\n",
       "       'деревня Гарболово', 'деревня Юкки',\n",
       "       'поселок станции Приветнинское', 'деревня Мануйлово',\n",
       "       'деревня Пчева', 'поселок Поляны', 'поселок Цвылёво',\n",
       "       'поселок Мельниково', 'посёлок Пудость', 'посёлок Усть-Луга',\n",
       "       'Светогорск', 'Любань', 'поселок Селезнёво',\n",
       "       'поселок городского типа Рябово', 'Каменногорск', 'деревня Кривко',\n",
       "       'поселок Глебычево', 'деревня Парицы', 'поселок Жилпосёлок',\n",
       "       'посёлок городского типа Мга', 'городской поселок Янино-1',\n",
       "       'посёлок Войскорово', 'село Никольское', 'посёлок Терволово',\n",
       "       'поселок Стеклянный', 'посёлок городского типа Важины',\n",
       "       'посёлок Мыза-Ивановка', 'село Русско-Высоцкое',\n",
       "       'поселок городского типа Лебяжье',\n",
       "       'поселок городского типа Форносово', 'село Старая Ладога',\n",
       "       'поселок Житково', 'городской посёлок Виллози', 'деревня Лампово',\n",
       "       'деревня Шпаньково', 'деревня Лаврики', 'посёлок Сумино',\n",
       "       'посёлок Возрождение', 'деревня Старосиверская',\n",
       "       'посёлок Кикерино', 'поселок Возрождение',\n",
       "       'деревня Старое Хинколово', 'посёлок Пригородный',\n",
       "       'посёлок Торфяное', 'городской посёлок Будогощь',\n",
       "       'поселок Суходолье', 'поселок Красная Долина', 'деревня Хапо-Ое',\n",
       "       'поселок городского типа Дружная Горка', 'поселок Лисий Нос',\n",
       "       'деревня Яльгелево', 'посёлок Стеклянный', 'село Рождествено',\n",
       "       'деревня Старополье', 'посёлок Левашово', 'деревня Сяськелево',\n",
       "       'деревня Камышовка',\n",
       "       'садоводческое некоммерческое товарищество Лесная Поляна',\n",
       "       'деревня Хязельки', 'поселок Жилгородок',\n",
       "       'посёлок городского типа Павлово', 'деревня Ялгино',\n",
       "       'поселок Новый Учхоз', 'городской посёлок Рощино',\n",
       "       'поселок Гончарово', 'поселок Почап', 'посёлок Сапёрное',\n",
       "       'посёлок Платформа 69-й километр', 'поселок Каложицы',\n",
       "       'деревня Фалилеево', 'деревня Пельгора',\n",
       "       'поселок городского типа Лесогорский', 'деревня Торошковичи',\n",
       "       'посёлок Белоостров', 'посёлок Алексеевка', 'поселок Серебрянский',\n",
       "       'поселок Лукаши', 'поселок Петровское', 'деревня Щеглово',\n",
       "       'поселок Мичуринское', 'деревня Тарасово', 'поселок Кингисеппский',\n",
       "       'посёлок при железнодорожной станции Вещево', 'поселок Ушаки',\n",
       "       'деревня Котлы', 'деревня Сижно', 'деревня Торосово',\n",
       "       'посёлок Форт Красная Горка', 'деревня Новолисино',\n",
       "       'посёлок станции Громово', 'деревня Глинка', 'посёлок Мельниково',\n",
       "       'поселок городского типа Назия', 'деревня Старая Пустошь',\n",
       "       'поселок Коммунары', 'поселок Починок',\n",
       "       'посёлок городского типа Вознесенье', 'деревня Разбегаево',\n",
       "       'посёлок городского типа Рябово', 'поселок Гладкое',\n",
       "       'посёлок при железнодорожной станции Приветнинское',\n",
       "       'поселок Тёсово-4', 'посёлок Жилгородок', 'деревня Бор',\n",
       "       'посёлок Коробицыно', 'деревня Большая Вруда', 'деревня Курковицы',\n",
       "       'посёлок Лисий Нос', 'городской посёлок Советский',\n",
       "       'посёлок Кобралово', 'деревня Суоранда', 'поселок Кобралово',\n",
       "       'поселок городского типа Кондратьево',\n",
       "       'коттеджный поселок Счастье', 'поселок Любань', 'деревня Реброво',\n",
       "       'деревня Зимитицы', 'деревня Тойворово', 'поселок Семиозерье',\n",
       "       'поселок Лесное', 'поселок Совхозный', 'поселок Усть-Луга',\n",
       "       'посёлок Ленинское', 'посёлок Суйда',\n",
       "       'посёлок городского типа Форносово', 'деревня Нижние Осельки',\n",
       "       'посёлок станции Свирь', 'поселок Перово', 'Высоцк',\n",
       "       'поселок Гарболово', 'село Шум', 'поселок Котельский',\n",
       "       'поселок станции Лужайка', 'деревня Большая Пустомержа',\n",
       "       'поселок Красносельское', 'деревня Вахнова Кара', 'деревня Пижма',\n",
       "       'коттеджный поселок Кивеннапа Север', 'поселок Коробицыно',\n",
       "       'поселок Ромашки', 'посёлок Перово', 'деревня Каськово',\n",
       "       'деревня Куровицы', 'посёлок Плоское', 'поселок Сумино',\n",
       "       'поселок городского типа Большая Ижора', 'поселок Кирпичное',\n",
       "       'деревня Ям-Тесово', 'деревня Раздолье', 'деревня Терпилицы',\n",
       "       'поселок городского типа Токсово', 'посёлок Шугозеро',\n",
       "       'деревня Ваганово', 'поселок Пушное', 'садовое товарищество Садко',\n",
       "       'посёлок Усть-Ижора', 'деревня Выскатка',\n",
       "       'городской посёлок Свирьстрой', 'поселок Громово',\n",
       "       'деревня Кисельня', 'посёлок Старая Малукса',\n",
       "       'деревня Трубников Бор', 'поселок Калитино',\n",
       "       'посёлок Высокоключевой', 'садовое товарищество Приладожский',\n",
       "       'посёлок Пансионат Зелёный Бор', 'деревня Ненимяки',\n",
       "       'поселок Пансионат Зелёный Бор', 'деревня Снегирёвка',\n",
       "       'деревня Рапполово', 'деревня Пустынка', 'поселок Рабитицы',\n",
       "       'деревня Большой Сабск', 'деревня Русско', 'деревня Лупполово',\n",
       "       'деревня Большое Рейзино', 'деревня Малая Романовка',\n",
       "       'поселок Дружноселье', 'поселок Пчевжа', 'поселок Володарское',\n",
       "       'деревня Нижняя', 'коттеджный посёлок Лесное', 'деревня Тихковицы',\n",
       "       'деревня Борисова Грива', 'посёлок Дзержинского'], dtype=object)"
      ]
     },
     "execution_count": 20,
     "metadata": {},
     "output_type": "execute_result"
    }
   ],
   "source": [
    "df['locality_name'].unique()"
   ]
  },
  {
   "cell_type": "markdown",
   "metadata": {},
   "source": [
    "В данных вариантов написания слова \"поселок\".  Приведем все поселки к единому виду."
   ]
  },
  {
   "cell_type": "code",
   "execution_count": 21,
   "metadata": {},
   "outputs": [],
   "source": [
    "df['locality_name'] = df['locality_name'].str.replace('посёлок', 'поселок')\n",
    "df['locality_name'] = df['locality_name'].str.replace('городской поселок', 'поселок')\n",
    "df['locality_name'] = df['locality_name'].str.replace('поселок городского типа', 'поселок')\n",
    "df['locality_name'] = df['locality_name'].str.replace('коттеджный поселок', 'поселок')\n",
    "df['locality_name'] = df['locality_name'].str.replace('поселок при железнодорожной станции', 'поселок')\n",
    "df['locality_name'] = df['locality_name'].str.replace('поселок станции', 'поселок')"
   ]
  },
  {
   "cell_type": "markdown",
   "metadata": {},
   "source": [
    "Также более подробно рассмотрим значения некоторых столбцов."
   ]
  },
  {
   "cell_type": "markdown",
   "metadata": {},
   "source": [
    "**1. Цена продажи**\n",
    "\n",
    "Максимальная цена на квартиру может быть любой. Посмотрим на самые низкие значения."
   ]
  },
  {
   "cell_type": "code",
   "execution_count": 22,
   "metadata": {
    "scrolled": true
   },
   "outputs": [
    {
     "data": {
      "text/plain": [
       "8750      12190.0\n",
       "17359    430000.0\n",
       "14825    430000.0\n",
       "16185    440000.0\n",
       "9535     450000.0\n",
       "Name: last_price, dtype: float64"
      ]
     },
     "execution_count": 22,
     "metadata": {},
     "output_type": "execute_result"
    }
   ],
   "source": [
    "df['last_price'].sort_values().head()"
   ]
  },
  {
   "cell_type": "markdown",
   "metadata": {},
   "source": [
    "Маловероятно, что стоимость квартиры составляет 12 190 руб. Исключим это значение."
   ]
  },
  {
   "cell_type": "code",
   "execution_count": 23,
   "metadata": {},
   "outputs": [],
   "source": [
    "df = df.query('last_price > 400000')"
   ]
  },
  {
   "cell_type": "markdown",
   "metadata": {},
   "source": [
    "**2. Общая площадь**\n",
    "\n",
    "Рассмотрим минимальные и максимальные значения"
   ]
  },
  {
   "cell_type": "code",
   "execution_count": 24,
   "metadata": {
    "scrolled": true
   },
   "outputs": [
    {
     "data": {
      "text/plain": [
       "19795    12.0\n",
       "19437    13.0\n",
       "17859    13.0\n",
       "19698    13.0\n",
       "19449    13.2\n",
       "Name: total_area, dtype: float64"
      ]
     },
     "execution_count": 24,
     "metadata": {},
     "output_type": "execute_result"
    }
   ],
   "source": [
    "df['total_area'].sort_values().head()"
   ]
  },
  {
   "cell_type": "code",
   "execution_count": 25,
   "metadata": {
    "scrolled": true
   },
   "outputs": [
    {
     "data": {
      "text/plain": [
       "5330     590.0\n",
       "15565    618.0\n",
       "3103     631.0\n",
       "12787    631.2\n",
       "19431    900.0\n",
       "Name: total_area, dtype: float64"
      ]
     },
     "execution_count": 25,
     "metadata": {},
     "output_type": "execute_result"
    }
   ],
   "source": [
    "df['total_area'].sort_values().tail()"
   ]
  },
  {
   "cell_type": "markdown",
   "metadata": {},
   "source": [
    "Поиск в интернете подсказывает, что настолько большие и настолько маленькие квартиры действительно существуют. Оставим эти данные без изменений."
   ]
  },
  {
   "cell_type": "markdown",
   "metadata": {},
   "source": [
    "**3. Количество комнат**\n",
    "\n",
    "Рассмотрим уникальные значения в столбце **rooms**."
   ]
  },
  {
   "cell_type": "code",
   "execution_count": 26,
   "metadata": {
    "scrolled": false
   },
   "outputs": [
    {
     "data": {
      "text/plain": [
       "array([ 3,  1,  2,  4,  5,  6,  0,  7, 11,  8, 14, 10, 15,  9, 19, 16, 12])"
      ]
     },
     "execution_count": 26,
     "metadata": {},
     "output_type": "execute_result"
    }
   ],
   "source": [
    "df['rooms'].unique()"
   ]
  },
  {
   "cell_type": "markdown",
   "metadata": {},
   "source": [
    "Значение 0 бросается в глаза. Проверим, возможно это студии или квартиры с открытой планировкой."
   ]
  },
  {
   "cell_type": "code",
   "execution_count": 27,
   "metadata": {},
   "outputs": [
    {
     "data": {
      "text/html": [
       "<div>\n",
       "<style scoped>\n",
       "    .dataframe tbody tr th:only-of-type {\n",
       "        vertical-align: middle;\n",
       "    }\n",
       "\n",
       "    .dataframe tbody tr th {\n",
       "        vertical-align: top;\n",
       "    }\n",
       "\n",
       "    .dataframe thead th {\n",
       "        text-align: right;\n",
       "    }\n",
       "</style>\n",
       "<table border=\"1\" class=\"dataframe\">\n",
       "  <thead>\n",
       "    <tr style=\"text-align: right;\">\n",
       "      <th></th>\n",
       "      <th>total_images</th>\n",
       "      <th>last_price</th>\n",
       "      <th>total_area</th>\n",
       "      <th>first_day_exposition</th>\n",
       "      <th>rooms</th>\n",
       "      <th>ceiling_height</th>\n",
       "      <th>floors_total</th>\n",
       "      <th>living_area</th>\n",
       "      <th>floor</th>\n",
       "      <th>is_apartment</th>\n",
       "      <th>...</th>\n",
       "      <th>kitchen_area</th>\n",
       "      <th>balcony</th>\n",
       "      <th>locality_name</th>\n",
       "      <th>airports_nearest</th>\n",
       "      <th>cityCenters_nearest</th>\n",
       "      <th>parks_around3000</th>\n",
       "      <th>parks_nearest</th>\n",
       "      <th>ponds_around3000</th>\n",
       "      <th>ponds_nearest</th>\n",
       "      <th>days_exposition</th>\n",
       "    </tr>\n",
       "  </thead>\n",
       "  <tbody>\n",
       "  </tbody>\n",
       "</table>\n",
       "<p>0 rows × 22 columns</p>\n",
       "</div>"
      ],
      "text/plain": [
       "Empty DataFrame\n",
       "Columns: [total_images, last_price, total_area, first_day_exposition, rooms, ceiling_height, floors_total, living_area, floor, is_apartment, studio, open_plan, kitchen_area, balcony, locality_name, airports_nearest, cityCenters_nearest, parks_around3000, parks_nearest, ponds_around3000, ponds_nearest, days_exposition]\n",
       "Index: []\n",
       "\n",
       "[0 rows x 22 columns]"
      ]
     },
     "execution_count": 27,
     "metadata": {},
     "output_type": "execute_result"
    }
   ],
   "source": [
    "df.query('rooms == 0 and open_plan == False and studio == False')"
   ]
  },
  {
   "cell_type": "markdown",
   "metadata": {},
   "source": [
    "Нет таких квартир, в которых 0 комнат, и они не являются либо студией, либо квартирой с открытой планировкой.\n",
    "Значит, нули оставляем."
   ]
  },
  {
   "cell_type": "markdown",
   "metadata": {},
   "source": [
    "**4. Этажность дома**\n",
    "\n",
    "Рассмотрим уникальные значения столбца **floors_total**."
   ]
  },
  {
   "cell_type": "code",
   "execution_count": 28,
   "metadata": {},
   "outputs": [
    {
     "data": {
      "text/plain": [
       "array([16, 11,  5, 14, 12, 26, 24, 27,  9,  6, 17, 25,  3, 23, 19, 18,  4,\n",
       "       22,  8,  2, 10,  7, 13, 15, 20, 28, 36, 21, 35, 34, 60,  1, 29, 33,\n",
       "       52, 37])"
      ]
     },
     "execution_count": 28,
     "metadata": {},
     "output_type": "execute_result"
    }
   ],
   "source": [
    "df['floors_total'].unique()"
   ]
  },
  {
   "cell_type": "markdown",
   "metadata": {},
   "source": [
    "Беглый поиск в сети подсказывает, что в самом высоком жилом здании в СПб и Лен.области всего 37 этажей. Исключим строки, которые не соответствуют этим данным."
   ]
  },
  {
   "cell_type": "code",
   "execution_count": 29,
   "metadata": {},
   "outputs": [],
   "source": [
    "df = df.query('floors_total <= 37')"
   ]
  },
  {
   "cell_type": "markdown",
   "metadata": {},
   "source": [
    "Минимальные значения в столбцах **living_area** и **kitchen_area** рассматривать не будем, т.к. в студиях и квартирах с открытой планировкой нет четкого разделения на жилую зону и зону кухни, поэтому в таких объявлениях могут быть произвольные значения в данных столбцах."
   ]
  },
  {
   "cell_type": "markdown",
   "metadata": {},
   "source": [
    "**5. Этаж**\n",
    "\n",
    "Проверим, что в датасете нет объявлений, в которых значение этажа больше этажности дома."
   ]
  },
  {
   "cell_type": "code",
   "execution_count": 30,
   "metadata": {},
   "outputs": [
    {
     "data": {
      "text/html": [
       "<div>\n",
       "<style scoped>\n",
       "    .dataframe tbody tr th:only-of-type {\n",
       "        vertical-align: middle;\n",
       "    }\n",
       "\n",
       "    .dataframe tbody tr th {\n",
       "        vertical-align: top;\n",
       "    }\n",
       "\n",
       "    .dataframe thead th {\n",
       "        text-align: right;\n",
       "    }\n",
       "</style>\n",
       "<table border=\"1\" class=\"dataframe\">\n",
       "  <thead>\n",
       "    <tr style=\"text-align: right;\">\n",
       "      <th></th>\n",
       "      <th>total_images</th>\n",
       "      <th>last_price</th>\n",
       "      <th>total_area</th>\n",
       "      <th>first_day_exposition</th>\n",
       "      <th>rooms</th>\n",
       "      <th>ceiling_height</th>\n",
       "      <th>floors_total</th>\n",
       "      <th>living_area</th>\n",
       "      <th>floor</th>\n",
       "      <th>is_apartment</th>\n",
       "      <th>...</th>\n",
       "      <th>kitchen_area</th>\n",
       "      <th>balcony</th>\n",
       "      <th>locality_name</th>\n",
       "      <th>airports_nearest</th>\n",
       "      <th>cityCenters_nearest</th>\n",
       "      <th>parks_around3000</th>\n",
       "      <th>parks_nearest</th>\n",
       "      <th>ponds_around3000</th>\n",
       "      <th>ponds_nearest</th>\n",
       "      <th>days_exposition</th>\n",
       "    </tr>\n",
       "  </thead>\n",
       "  <tbody>\n",
       "  </tbody>\n",
       "</table>\n",
       "<p>0 rows × 22 columns</p>\n",
       "</div>"
      ],
      "text/plain": [
       "Empty DataFrame\n",
       "Columns: [total_images, last_price, total_area, first_day_exposition, rooms, ceiling_height, floors_total, living_area, floor, is_apartment, studio, open_plan, kitchen_area, balcony, locality_name, airports_nearest, cityCenters_nearest, parks_around3000, parks_nearest, ponds_around3000, ponds_nearest, days_exposition]\n",
       "Index: []\n",
       "\n",
       "[0 rows x 22 columns]"
      ]
     },
     "execution_count": 30,
     "metadata": {},
     "output_type": "execute_result"
    }
   ],
   "source": [
    "df.query('floor > floors_total')"
   ]
  },
  {
   "cell_type": "markdown",
   "metadata": {},
   "source": [
    "Таких строк нет, с этажами все в порядке."
   ]
  },
  {
   "cell_type": "markdown",
   "metadata": {},
   "source": [
    "**6. Жилая площадь и площадь кухни**\n",
    "\n",
    "Также проверим, что в датасете нет строк в которых жилая площадь и плозадь кухни суммарно превышают общую площадь."
   ]
  },
  {
   "cell_type": "code",
   "execution_count": 31,
   "metadata": {
    "scrolled": true
   },
   "outputs": [
    {
     "data": {
      "text/html": [
       "<div>\n",
       "<style scoped>\n",
       "    .dataframe tbody tr th:only-of-type {\n",
       "        vertical-align: middle;\n",
       "    }\n",
       "\n",
       "    .dataframe tbody tr th {\n",
       "        vertical-align: top;\n",
       "    }\n",
       "\n",
       "    .dataframe thead th {\n",
       "        text-align: right;\n",
       "    }\n",
       "</style>\n",
       "<table border=\"1\" class=\"dataframe\">\n",
       "  <thead>\n",
       "    <tr style=\"text-align: right;\">\n",
       "      <th></th>\n",
       "      <th>total_images</th>\n",
       "      <th>last_price</th>\n",
       "      <th>total_area</th>\n",
       "      <th>first_day_exposition</th>\n",
       "      <th>rooms</th>\n",
       "      <th>ceiling_height</th>\n",
       "      <th>floors_total</th>\n",
       "      <th>living_area</th>\n",
       "      <th>floor</th>\n",
       "      <th>is_apartment</th>\n",
       "      <th>...</th>\n",
       "      <th>kitchen_area</th>\n",
       "      <th>balcony</th>\n",
       "      <th>locality_name</th>\n",
       "      <th>airports_nearest</th>\n",
       "      <th>cityCenters_nearest</th>\n",
       "      <th>parks_around3000</th>\n",
       "      <th>parks_nearest</th>\n",
       "      <th>ponds_around3000</th>\n",
       "      <th>ponds_nearest</th>\n",
       "      <th>days_exposition</th>\n",
       "    </tr>\n",
       "  </thead>\n",
       "  <tbody>\n",
       "    <tr>\n",
       "      <th>184</th>\n",
       "      <td>7</td>\n",
       "      <td>2600000.0</td>\n",
       "      <td>30.20</td>\n",
       "      <td>2018-02-14</td>\n",
       "      <td>1</td>\n",
       "      <td>2.65</td>\n",
       "      <td>9</td>\n",
       "      <td>26.10</td>\n",
       "      <td>5</td>\n",
       "      <td>NaN</td>\n",
       "      <td>...</td>\n",
       "      <td>6.20</td>\n",
       "      <td>0</td>\n",
       "      <td>Санкт-Петербург</td>\n",
       "      <td>13952.0</td>\n",
       "      <td>15031.0</td>\n",
       "      <td>0.0</td>\n",
       "      <td>NaN</td>\n",
       "      <td>1.0</td>\n",
       "      <td>824.0</td>\n",
       "      <td>12.0</td>\n",
       "    </tr>\n",
       "    <tr>\n",
       "      <th>542</th>\n",
       "      <td>9</td>\n",
       "      <td>4700000.0</td>\n",
       "      <td>23.80</td>\n",
       "      <td>2018-12-28</td>\n",
       "      <td>1</td>\n",
       "      <td>NaN</td>\n",
       "      <td>18</td>\n",
       "      <td>20.00</td>\n",
       "      <td>9</td>\n",
       "      <td>NaN</td>\n",
       "      <td>...</td>\n",
       "      <td>5.00</td>\n",
       "      <td>0</td>\n",
       "      <td>Санкт-Петербург</td>\n",
       "      <td>9731.0</td>\n",
       "      <td>11849.0</td>\n",
       "      <td>0.0</td>\n",
       "      <td>NaN</td>\n",
       "      <td>0.0</td>\n",
       "      <td>NaN</td>\n",
       "      <td>108.0</td>\n",
       "    </tr>\n",
       "    <tr>\n",
       "      <th>548</th>\n",
       "      <td>8</td>\n",
       "      <td>3100000.0</td>\n",
       "      <td>31.59</td>\n",
       "      <td>2018-03-08</td>\n",
       "      <td>1</td>\n",
       "      <td>2.70</td>\n",
       "      <td>19</td>\n",
       "      <td>30.55</td>\n",
       "      <td>2</td>\n",
       "      <td>NaN</td>\n",
       "      <td>...</td>\n",
       "      <td>9.28</td>\n",
       "      <td>2</td>\n",
       "      <td>поселок Мурино</td>\n",
       "      <td>NaN</td>\n",
       "      <td>NaN</td>\n",
       "      <td>NaN</td>\n",
       "      <td>NaN</td>\n",
       "      <td>NaN</td>\n",
       "      <td>NaN</td>\n",
       "      <td>70.0</td>\n",
       "    </tr>\n",
       "    <tr>\n",
       "      <th>598</th>\n",
       "      <td>12</td>\n",
       "      <td>5600000.0</td>\n",
       "      <td>53.70</td>\n",
       "      <td>2017-04-18</td>\n",
       "      <td>2</td>\n",
       "      <td>2.50</td>\n",
       "      <td>12</td>\n",
       "      <td>48.30</td>\n",
       "      <td>5</td>\n",
       "      <td>NaN</td>\n",
       "      <td>...</td>\n",
       "      <td>7.00</td>\n",
       "      <td>2</td>\n",
       "      <td>Санкт-Петербург</td>\n",
       "      <td>50477.0</td>\n",
       "      <td>13252.0</td>\n",
       "      <td>2.0</td>\n",
       "      <td>220.0</td>\n",
       "      <td>1.0</td>\n",
       "      <td>1250.0</td>\n",
       "      <td>167.0</td>\n",
       "    </tr>\n",
       "    <tr>\n",
       "      <th>692</th>\n",
       "      <td>1</td>\n",
       "      <td>3364930.0</td>\n",
       "      <td>34.69</td>\n",
       "      <td>2014-11-27</td>\n",
       "      <td>1</td>\n",
       "      <td>2.64</td>\n",
       "      <td>25</td>\n",
       "      <td>23.43</td>\n",
       "      <td>25</td>\n",
       "      <td>NaN</td>\n",
       "      <td>...</td>\n",
       "      <td>23.43</td>\n",
       "      <td>2</td>\n",
       "      <td>Санкт-Петербург</td>\n",
       "      <td>43396.0</td>\n",
       "      <td>12153.0</td>\n",
       "      <td>0.0</td>\n",
       "      <td>NaN</td>\n",
       "      <td>0.0</td>\n",
       "      <td>NaN</td>\n",
       "      <td>574.0</td>\n",
       "    </tr>\n",
       "    <tr>\n",
       "      <th>...</th>\n",
       "      <td>...</td>\n",
       "      <td>...</td>\n",
       "      <td>...</td>\n",
       "      <td>...</td>\n",
       "      <td>...</td>\n",
       "      <td>...</td>\n",
       "      <td>...</td>\n",
       "      <td>...</td>\n",
       "      <td>...</td>\n",
       "      <td>...</td>\n",
       "      <td>...</td>\n",
       "      <td>...</td>\n",
       "      <td>...</td>\n",
       "      <td>...</td>\n",
       "      <td>...</td>\n",
       "      <td>...</td>\n",
       "      <td>...</td>\n",
       "      <td>...</td>\n",
       "      <td>...</td>\n",
       "      <td>...</td>\n",
       "      <td>...</td>\n",
       "    </tr>\n",
       "    <tr>\n",
       "      <th>21700</th>\n",
       "      <td>20</td>\n",
       "      <td>2450000.0</td>\n",
       "      <td>44.00</td>\n",
       "      <td>2019-02-12</td>\n",
       "      <td>2</td>\n",
       "      <td>27.00</td>\n",
       "      <td>2</td>\n",
       "      <td>38.00</td>\n",
       "      <td>2</td>\n",
       "      <td>False</td>\n",
       "      <td>...</td>\n",
       "      <td>8.60</td>\n",
       "      <td>2</td>\n",
       "      <td>поселок Большая Ижора</td>\n",
       "      <td>NaN</td>\n",
       "      <td>NaN</td>\n",
       "      <td>NaN</td>\n",
       "      <td>NaN</td>\n",
       "      <td>NaN</td>\n",
       "      <td>NaN</td>\n",
       "      <td>NaN</td>\n",
       "    </tr>\n",
       "    <tr>\n",
       "      <th>21744</th>\n",
       "      <td>12</td>\n",
       "      <td>2600000.0</td>\n",
       "      <td>34.30</td>\n",
       "      <td>2018-09-26</td>\n",
       "      <td>1</td>\n",
       "      <td>2.50</td>\n",
       "      <td>9</td>\n",
       "      <td>30.60</td>\n",
       "      <td>6</td>\n",
       "      <td>NaN</td>\n",
       "      <td>...</td>\n",
       "      <td>8.00</td>\n",
       "      <td>2</td>\n",
       "      <td>Сосновый Бор</td>\n",
       "      <td>NaN</td>\n",
       "      <td>NaN</td>\n",
       "      <td>NaN</td>\n",
       "      <td>NaN</td>\n",
       "      <td>NaN</td>\n",
       "      <td>NaN</td>\n",
       "      <td>107.0</td>\n",
       "    </tr>\n",
       "    <tr>\n",
       "      <th>21790</th>\n",
       "      <td>14</td>\n",
       "      <td>11990000.0</td>\n",
       "      <td>91.40</td>\n",
       "      <td>2016-05-16</td>\n",
       "      <td>2</td>\n",
       "      <td>NaN</td>\n",
       "      <td>16</td>\n",
       "      <td>62.00</td>\n",
       "      <td>12</td>\n",
       "      <td>NaN</td>\n",
       "      <td>...</td>\n",
       "      <td>32.40</td>\n",
       "      <td>0</td>\n",
       "      <td>Санкт-Петербург</td>\n",
       "      <td>10934.0</td>\n",
       "      <td>12551.0</td>\n",
       "      <td>0.0</td>\n",
       "      <td>NaN</td>\n",
       "      <td>0.0</td>\n",
       "      <td>NaN</td>\n",
       "      <td>93.0</td>\n",
       "    </tr>\n",
       "    <tr>\n",
       "      <th>21831</th>\n",
       "      <td>0</td>\n",
       "      <td>5200000.0</td>\n",
       "      <td>46.00</td>\n",
       "      <td>2018-07-20</td>\n",
       "      <td>2</td>\n",
       "      <td>NaN</td>\n",
       "      <td>5</td>\n",
       "      <td>44.00</td>\n",
       "      <td>5</td>\n",
       "      <td>NaN</td>\n",
       "      <td>...</td>\n",
       "      <td>8.00</td>\n",
       "      <td>1</td>\n",
       "      <td>Санкт-Петербург</td>\n",
       "      <td>14103.0</td>\n",
       "      <td>15182.0</td>\n",
       "      <td>1.0</td>\n",
       "      <td>488.0</td>\n",
       "      <td>0.0</td>\n",
       "      <td>NaN</td>\n",
       "      <td>7.0</td>\n",
       "    </tr>\n",
       "    <tr>\n",
       "      <th>23071</th>\n",
       "      <td>13</td>\n",
       "      <td>4919880.0</td>\n",
       "      <td>67.92</td>\n",
       "      <td>2018-10-23</td>\n",
       "      <td>2</td>\n",
       "      <td>NaN</td>\n",
       "      <td>3</td>\n",
       "      <td>63.00</td>\n",
       "      <td>3</td>\n",
       "      <td>NaN</td>\n",
       "      <td>...</td>\n",
       "      <td>13.04</td>\n",
       "      <td>0</td>\n",
       "      <td>Всеволожск</td>\n",
       "      <td>NaN</td>\n",
       "      <td>NaN</td>\n",
       "      <td>NaN</td>\n",
       "      <td>NaN</td>\n",
       "      <td>NaN</td>\n",
       "      <td>NaN</td>\n",
       "      <td>60.0</td>\n",
       "    </tr>\n",
       "  </tbody>\n",
       "</table>\n",
       "<p>64 rows × 22 columns</p>\n",
       "</div>"
      ],
      "text/plain": [
       "       total_images  last_price  total_area first_day_exposition  rooms  \\\n",
       "184               7   2600000.0       30.20           2018-02-14      1   \n",
       "542               9   4700000.0       23.80           2018-12-28      1   \n",
       "548               8   3100000.0       31.59           2018-03-08      1   \n",
       "598              12   5600000.0       53.70           2017-04-18      2   \n",
       "692               1   3364930.0       34.69           2014-11-27      1   \n",
       "...             ...         ...         ...                  ...    ...   \n",
       "21700            20   2450000.0       44.00           2019-02-12      2   \n",
       "21744            12   2600000.0       34.30           2018-09-26      1   \n",
       "21790            14  11990000.0       91.40           2016-05-16      2   \n",
       "21831             0   5200000.0       46.00           2018-07-20      2   \n",
       "23071            13   4919880.0       67.92           2018-10-23      2   \n",
       "\n",
       "       ceiling_height  floors_total  living_area  floor is_apartment  ...  \\\n",
       "184              2.65             9        26.10      5          NaN  ...   \n",
       "542               NaN            18        20.00      9          NaN  ...   \n",
       "548              2.70            19        30.55      2          NaN  ...   \n",
       "598              2.50            12        48.30      5          NaN  ...   \n",
       "692              2.64            25        23.43     25          NaN  ...   \n",
       "...               ...           ...          ...    ...          ...  ...   \n",
       "21700           27.00             2        38.00      2        False  ...   \n",
       "21744            2.50             9        30.60      6          NaN  ...   \n",
       "21790             NaN            16        62.00     12          NaN  ...   \n",
       "21831             NaN             5        44.00      5          NaN  ...   \n",
       "23071             NaN             3        63.00      3          NaN  ...   \n",
       "\n",
       "       kitchen_area  balcony          locality_name  airports_nearest  \\\n",
       "184            6.20        0        Санкт-Петербург           13952.0   \n",
       "542            5.00        0        Санкт-Петербург            9731.0   \n",
       "548            9.28        2         поселок Мурино               NaN   \n",
       "598            7.00        2        Санкт-Петербург           50477.0   \n",
       "692           23.43        2        Санкт-Петербург           43396.0   \n",
       "...             ...      ...                    ...               ...   \n",
       "21700          8.60        2  поселок Большая Ижора               NaN   \n",
       "21744          8.00        2           Сосновый Бор               NaN   \n",
       "21790         32.40        0        Санкт-Петербург           10934.0   \n",
       "21831          8.00        1        Санкт-Петербург           14103.0   \n",
       "23071         13.04        0             Всеволожск               NaN   \n",
       "\n",
       "      cityCenters_nearest  parks_around3000  parks_nearest  ponds_around3000  \\\n",
       "184               15031.0               0.0            NaN               1.0   \n",
       "542               11849.0               0.0            NaN               0.0   \n",
       "548                   NaN               NaN            NaN               NaN   \n",
       "598               13252.0               2.0          220.0               1.0   \n",
       "692               12153.0               0.0            NaN               0.0   \n",
       "...                   ...               ...            ...               ...   \n",
       "21700                 NaN               NaN            NaN               NaN   \n",
       "21744                 NaN               NaN            NaN               NaN   \n",
       "21790             12551.0               0.0            NaN               0.0   \n",
       "21831             15182.0               1.0          488.0               0.0   \n",
       "23071                 NaN               NaN            NaN               NaN   \n",
       "\n",
       "       ponds_nearest  days_exposition  \n",
       "184            824.0             12.0  \n",
       "542              NaN            108.0  \n",
       "548              NaN             70.0  \n",
       "598           1250.0            167.0  \n",
       "692              NaN            574.0  \n",
       "...              ...              ...  \n",
       "21700            NaN              NaN  \n",
       "21744            NaN            107.0  \n",
       "21790            NaN             93.0  \n",
       "21831            NaN              7.0  \n",
       "23071            NaN             60.0  \n",
       "\n",
       "[64 rows x 22 columns]"
      ]
     },
     "execution_count": 31,
     "metadata": {},
     "output_type": "execute_result"
    }
   ],
   "source": [
    "df.query('(living_area + kitchen_area) > total_area')"
   ]
  },
  {
   "cell_type": "markdown",
   "metadata": {},
   "source": [
    "А вот тут уже явные ошибки в данных. Исключим эти строки."
   ]
  },
  {
   "cell_type": "code",
   "execution_count": 32,
   "metadata": {},
   "outputs": [],
   "source": [
    "df = df.query('not (living_area + kitchen_area) > total_area')"
   ]
  },
  {
   "cell_type": "markdown",
   "metadata": {},
   "source": [
    "**7. Высота потолков**\n",
    "\n",
    "Рассмотрим уникальные значения в этом столбце"
   ]
  },
  {
   "cell_type": "code",
   "execution_count": 33,
   "metadata": {
    "scrolled": true
   },
   "outputs": [
    {
     "data": {
      "text/plain": [
       "array([  2.7 ,    nan,   3.03,   2.5 ,   2.67,   2.56,   3.05,   2.75,\n",
       "         2.6 ,   2.9 ,   2.8 ,   2.55,   3.  ,   2.65,   3.2 ,   2.61,\n",
       "         3.25,   3.45,   2.77,   2.85,   2.64,   2.57,   4.15,   3.5 ,\n",
       "         3.3 ,   2.71,   4.  ,   2.47,   2.73,   2.84,   3.1 ,   2.34,\n",
       "         3.4 ,   3.06,   2.72,   2.54,   2.51,   2.78,   2.76,  25.  ,\n",
       "         2.58,   3.7 ,   2.52,   5.2 ,   2.87,   2.66,   2.59,   2.  ,\n",
       "         2.45,   3.6 ,   2.92,   3.11,   3.13,   3.8 ,   3.15,   3.55,\n",
       "         3.16,   3.62,   3.12,   2.53,   2.74,   2.96,   2.46,   5.3 ,\n",
       "         5.  ,   2.79,   2.95,   4.06,   2.94,   3.82,   3.54,   3.53,\n",
       "         2.83,   4.7 ,   2.4 ,   3.38,   3.01,   5.6 ,   3.65,   3.9 ,\n",
       "         3.18,   3.35,   2.3 ,   3.57,   2.48,   2.62,   2.82,   3.98,\n",
       "         2.63,   3.83,   3.52,   3.95,   3.75,   3.67,   3.87,   3.66,\n",
       "         3.85,   3.86,   4.19,   3.24,   4.8 ,   4.5 ,   4.2 ,   3.36,\n",
       "        32.  ,   3.08,   3.68,   3.07,   3.37,   3.09,   8.  ,   3.26,\n",
       "         3.34,   2.81,   3.44,   2.97,   3.14,   4.37,   3.22,   3.27,\n",
       "        27.  ,   4.1 ,   2.68,   2.93,   3.46,  24.  ,   3.47,   3.33,\n",
       "         3.63,   3.32,  26.  ,   1.2 ,   8.3 ,   2.98,   2.86,   2.88,\n",
       "         3.17,   4.4 ,   3.28,   3.04,   4.45,   5.5 ,   3.84,   3.23,\n",
       "         3.02,   3.21,   3.43,   3.78,   4.3 ,   3.39,   2.69,   3.31,\n",
       "         4.65,   3.56,   2.2 ,   3.51,   3.93,   3.42,   2.99,   3.49,\n",
       "        14.  ,   4.14,   2.91,   3.88,   1.75,   4.25,   3.29,  20.  ,\n",
       "         2.25,   3.76,   3.69,   6.  ,  22.6 ,   2.89,   3.58,   5.8 ,\n",
       "         2.49,   4.9 ,   3.48,  10.3 ,   1.  , 100.  ,   3.59])"
      ]
     },
     "execution_count": 33,
     "metadata": {},
     "output_type": "execute_result"
    }
   ],
   "source": [
    "df['ceiling_height'].unique()"
   ]
  },
  {
   "cell_type": "markdown",
   "metadata": {},
   "source": [
    "Вероятно, в значениях больше 20 м некорректно поставлен разделитель.\n",
    "Создадим функцию, которая уменьшит такие значения в 10 раз."
   ]
  },
  {
   "cell_type": "code",
   "execution_count": 34,
   "metadata": {},
   "outputs": [],
   "source": [
    "def new_ceiling_height(ceiling_height):\n",
    "    try:\n",
    "        if ceiling_height >= 20:\n",
    "            return ceiling_height / 10\n",
    "        return ceiling_height\n",
    "    except:\n",
    "        pass"
   ]
  },
  {
   "cell_type": "code",
   "execution_count": 35,
   "metadata": {},
   "outputs": [],
   "source": [
    "df['ceiling_height'] = df['ceiling_height'].apply(new_ceiling_height)"
   ]
  },
  {
   "cell_type": "markdown",
   "metadata": {},
   "source": [
    "Теперь проверим, сможем ли мы заполнить высоту потолков медианой в зависимости от этажности здания."
   ]
  },
  {
   "cell_type": "code",
   "execution_count": 36,
   "metadata": {},
   "outputs": [
    {
     "data": {
      "text/plain": [
       "floors_total\n",
       "1     2.80\n",
       "2     2.70\n",
       "3     2.80\n",
       "4     3.00\n",
       "5     2.55\n",
       "6     3.00\n",
       "7     3.00\n",
       "8     2.80\n",
       "9     2.55\n",
       "10    2.60\n",
       "11    2.75\n",
       "12    2.65\n",
       "13    2.70\n",
       "14    2.60\n",
       "15    2.70\n",
       "16    2.70\n",
       "17    2.70\n",
       "18    2.70\n",
       "19    2.75\n",
       "20    2.75\n",
       "21    2.70\n",
       "22    2.75\n",
       "23    2.75\n",
       "24    2.75\n",
       "25    2.75\n",
       "26    2.66\n",
       "27    2.70\n",
       "28    2.60\n",
       "29    2.60\n",
       "33     NaN\n",
       "34    2.65\n",
       "35    2.70\n",
       "36    2.70\n",
       "37    1.75\n",
       "Name: ceiling_height, dtype: float64"
      ]
     },
     "execution_count": 36,
     "metadata": {},
     "output_type": "execute_result"
    }
   ],
   "source": [
    "df.groupby('floors_total')['ceiling_height'].median()"
   ]
  },
  {
   "cell_type": "markdown",
   "metadata": {},
   "source": [
    "Сможем для любого количества этажей, кроме 33. Удалим такие строки и заполним высоту потолков медианой."
   ]
  },
  {
   "cell_type": "code",
   "execution_count": 37,
   "metadata": {},
   "outputs": [],
   "source": [
    "df = df.query('floors_total != 33')"
   ]
  },
  {
   "cell_type": "code",
   "execution_count": null,
   "metadata": {},
   "outputs": [],
   "source": [
    "try:\n",
    "    df['ceiling_height'] = df.groupby('floors_total')['ceiling_height'].apply(lambda x: x.fillna(x.median()))\n",
    "except:\n",
    "    pass"
   ]
  },
  {
   "cell_type": "markdown",
   "metadata": {},
   "source": [
    "Также, неправдоподобно выглядит высота потолков менее 2-х метров. Вряд ли существуют такие квартиры. Удалим такие значения."
   ]
  },
  {
   "cell_type": "code",
   "execution_count": 39,
   "metadata": {},
   "outputs": [],
   "source": [
    "df = df.query('ceiling_height >= 2')"
   ]
  },
  {
   "cell_type": "markdown",
   "metadata": {},
   "source": [
    "Таким образом, мы исключили строки, в которых:\n",
    "- неправдоподобно низкая цена\n",
    "- слишком большое количество этажей, т.к. таких домов не существует в СПб и Лен.области\n",
    "- жилая площадь и площадь кухни суммарно превышают общую площадь\n",
    "- высота потолков менее 2-х метров"
   ]
  },
  {
   "cell_type": "markdown",
   "metadata": {},
   "source": [
    "### Добавление в таблицу новых столбцов"
   ]
  },
  {
   "cell_type": "code",
   "execution_count": 40,
   "metadata": {},
   "outputs": [],
   "source": [
    "df['one_meter_price'] = df['last_price'] / df['total_area'] # цена за один квадратный метр"
   ]
  },
  {
   "cell_type": "code",
   "execution_count": 41,
   "metadata": {},
   "outputs": [],
   "source": [
    "df['weekday_exposition'] = df['first_day_exposition'].dt.weekday # день недели, в который было выставлено объявление"
   ]
  },
  {
   "cell_type": "code",
   "execution_count": 42,
   "metadata": {},
   "outputs": [],
   "source": [
    "df['month_exposition'] = df['first_day_exposition'].dt.month # месяц, в который было выставлено объявление"
   ]
  },
  {
   "cell_type": "code",
   "execution_count": 43,
   "metadata": {},
   "outputs": [],
   "source": [
    "df['year_exposition'] = df['first_day_exposition'].dt.year # гор, в который было выставлено объявление"
   ]
  },
  {
   "cell_type": "code",
   "execution_count": 44,
   "metadata": {},
   "outputs": [],
   "source": [
    "# создадим функцию, которая определит этаж к одной из 3-х категорий\n",
    "def floor_type(row):\n",
    "    floor = row['floor']\n",
    "    floors_total = row['floors_total']\n",
    "    try:\n",
    "        if floor == 1:\n",
    "            return 'Первый'\n",
    "        elif floor == floors_total:\n",
    "            return 'Последний'\n",
    "        else:\n",
    "            return 'Другой'\n",
    "    except:\n",
    "        return 'Нет данных'"
   ]
  },
  {
   "cell_type": "code",
   "execution_count": 45,
   "metadata": {},
   "outputs": [],
   "source": [
    "df['floor_type'] = df.apply(floor_type, axis=1) # создадим новый столбец с типом этажа"
   ]
  },
  {
   "cell_type": "code",
   "execution_count": 46,
   "metadata": {},
   "outputs": [],
   "source": [
    "df['cityCenters_nearest_km'] = df['cityCenters_nearest'] // 1000 # расстояние до центра города в километрах"
   ]
  },
  {
   "cell_type": "markdown",
   "metadata": {},
   "source": [
    "### Исследовательский анализ данных"
   ]
  },
  {
   "cell_type": "markdown",
   "metadata": {},
   "source": [
    "Построим гистограмму по столбцу **total_area**."
   ]
  },
  {
   "cell_type": "code",
   "execution_count": 47,
   "metadata": {
    "scrolled": true
   },
   "outputs": [
    {
     "data": {
      "text/plain": [
       "count    23494.000000\n",
       "mean        60.353713\n",
       "std         35.690325\n",
       "min         12.000000\n",
       "25%         40.000000\n",
       "50%         52.000000\n",
       "75%         69.707500\n",
       "max        900.000000\n",
       "Name: total_area, dtype: float64"
      ]
     },
     "execution_count": 47,
     "metadata": {},
     "output_type": "execute_result"
    },
    {
     "data": {
      "image/png": "[encoded data removed]",
      "text/plain": [
       "<Figure size 432x288 with 1 Axes>"
      ]
     },
     "metadata": {
      "needs_background": "light"
     },
     "output_type": "display_data"
    }
   ],
   "source": [
    "df['total_area'].hist(bins=50) # гистограмма всех значений\n",
    "df['total_area'].describe()"
   ]
  },
  {
   "cell_type": "markdown",
   "metadata": {},
   "source": [
    "На графике видно, что большинство квартир по площади не превышают 150 кв.м. Создадим новый датафрейм, в который включим только квартиры до 150 кв.м. и посмотрим, как в нем распределены значения."
   ]
  },
  {
   "cell_type": "code",
   "execution_count": 48,
   "metadata": {},
   "outputs": [],
   "source": [
    "df_good = df.query('total_area < 150')"
   ]
  },
  {
   "cell_type": "code",
   "execution_count": 49,
   "metadata": {
    "scrolled": true
   },
   "outputs": [
    {
     "data": {
      "text/plain": [
       "count    22915.000000\n",
       "mean        56.469996\n",
       "std         22.797799\n",
       "min         12.000000\n",
       "25%         40.000000\n",
       "50%         51.000000\n",
       "75%         67.600000\n",
       "max        149.600000\n",
       "Name: total_area, dtype: float64"
      ]
     },
     "execution_count": 49,
     "metadata": {},
     "output_type": "execute_result"
    },
    {
     "data": {
      "image/png": "[encoded data removed]",
      "text/plain": [
       "<Figure size 432x288 with 1 Axes>"
      ]
     },
     "metadata": {
      "needs_background": "light"
     },
     "output_type": "display_data"
    }
   ],
   "source": [
    "df_good['total_area'].hist(bins=50) # гистограмма всех значений\n",
    "df_good['total_area'].describe()"
   ]
  },
  {
   "cell_type": "code",
   "execution_count": 50,
   "metadata": {},
   "outputs": [
    {
     "data": {
      "text/plain": [
       "<AxesSubplot:>"
      ]
     },
     "execution_count": 50,
     "metadata": {},
     "output_type": "execute_result"
    },
    {
     "data": {
      "image/png": "[encoded data removed]",
      "text/plain": [
       "<Figure size 432x288 with 1 Axes>"
      ]
     },
     "metadata": {
      "needs_background": "light"
     },
     "output_type": "display_data"
    }
   ],
   "source": [
    "df_good['total_area'].plot(kind='box')"
   ]
  },
  {
   "cell_type": "markdown",
   "metadata": {},
   "source": [
    "Гистограмма стала ближе к нормальному распределению, разброс значений сократился. В дальнейшем анализе будем рассматривать **df_good**, т.к. квартиры более 150 кв.м. встречаются редко и могут влиять на распределение значений в данных."
   ]
  },
  {
   "cell_type": "markdown",
   "metadata": {},
   "source": [
    "Теперь более подробно рассмотри столбцы **living_area** и **kitchen_area**."
   ]
  },
  {
   "cell_type": "code",
   "execution_count": 51,
   "metadata": {},
   "outputs": [
    {
     "data": {
      "text/plain": [
       "<AxesSubplot:>"
      ]
     },
     "execution_count": 51,
     "metadata": {},
     "output_type": "execute_result"
    },
    {
     "data": {
      "image/png": "[encoded data removed]",
      "text/plain": [
       "<Figure size 432x288 with 1 Axes>"
      ]
     },
     "metadata": {
      "needs_background": "light"
     },
     "output_type": "display_data"
    }
   ],
   "source": [
    "df_good['living_area'].hist(bins=50)"
   ]
  },
  {
   "cell_type": "markdown",
   "metadata": {},
   "source": [
    "На графике по столбцу **living_area** наблюдается несколько пиков и провалов, что может говорить о проблемах в данных.\n",
    "\n",
    "Однако также можно предположить, что в датасете преобладающую часть объявлений составляют квартиры в типовых домах, а одинаковые данные по таким квартирам образуют пики на графиках."
   ]
  },
  {
   "cell_type": "code",
   "execution_count": 52,
   "metadata": {
    "scrolled": true
   },
   "outputs": [
    {
     "data": {
      "text/plain": [
       "<AxesSubplot:>"
      ]
     },
     "execution_count": 52,
     "metadata": {},
     "output_type": "execute_result"
    },
    {
     "data": {
      "image/png": "[encoded data removed]",
      "text/plain": [
       "<Figure size 432x288 with 1 Axes>"
      ]
     },
     "metadata": {
      "needs_background": "light"
     },
     "output_type": "display_data"
    }
   ],
   "source": [
    "df_good['kitchen_area'].hist(bins=50)"
   ]
  },
  {
   "cell_type": "markdown",
   "metadata": {},
   "source": [
    "В преобладающем большинстве квартир площадь кухни не превышает 25 кв.м.\n",
    "\n",
    "Исключим из df_good квартиры с жилой площадью более 100 кв.м. и площадью кухни более 40 кв.м. Таким образом, мы также исключим пропусщенные значения для дальнейшего анализа."
   ]
  },
  {
   "cell_type": "code",
   "execution_count": 53,
   "metadata": {},
   "outputs": [],
   "source": [
    "df_good = df_good.query('living_area < 100 and kitchen_area < 40')"
   ]
  },
  {
   "cell_type": "markdown",
   "metadata": {},
   "source": [
    "Теперь рассмотрим цены объектов."
   ]
  },
  {
   "cell_type": "code",
   "execution_count": 54,
   "metadata": {
    "scrolled": true
   },
   "outputs": [
    {
     "data": {
      "text/plain": [
       "<AxesSubplot:>"
      ]
     },
     "execution_count": 54,
     "metadata": {},
     "output_type": "execute_result"
    },
    {
     "data": {
      "image/png": "[encoded data removed]",
      "text/plain": [
       "<Figure size 432x288 with 1 Axes>"
      ]
     },
     "metadata": {
      "needs_background": "light"
     },
     "output_type": "display_data"
    }
   ],
   "source": [
    "df_good['last_price'].hist(bins=50)"
   ]
  },
  {
   "cell_type": "markdown",
   "metadata": {},
   "source": [
    "На гистограмме виден пик в самом начале в диапазоне между 0 и 20 млн. Дальше значений практически нет. Построим вторую гистограмму по квартирам дешевле 20 млн.руб. и посчитаем сколько в датасете более дорогих квартир."
   ]
  },
  {
   "cell_type": "code",
   "execution_count": 55,
   "metadata": {
    "scrolled": true
   },
   "outputs": [
    {
     "data": {
      "text/plain": [
       "(245, 28)"
      ]
     },
     "execution_count": 55,
     "metadata": {},
     "output_type": "execute_result"
    },
    {
     "data": {
      "image/png": "[encoded data removed]",
      "text/plain": [
       "<Figure size 432x288 with 1 Axes>"
      ]
     },
     "metadata": {
      "needs_background": "light"
     },
     "output_type": "display_data"
    }
   ],
   "source": [
    "df_good['last_price'].hist(bins=50, range=(0, 20000000))\n",
    "df_good.query('last_price > 20000000').shape"
   ]
  },
  {
   "cell_type": "markdown",
   "metadata": {},
   "source": [
    "На второй гистограмме мы видим практически нормальное распределение, чего нельзя сказать о первой. Исключим квартиры дороже 20 млн.руб., так как их немного."
   ]
  },
  {
   "cell_type": "code",
   "execution_count": 56,
   "metadata": {},
   "outputs": [],
   "source": [
    "df_good = df_good.query('last_price < 20000000')"
   ]
  },
  {
   "cell_type": "markdown",
   "metadata": {},
   "source": [
    "Посмотрим на распределение значений по количеству комнат."
   ]
  },
  {
   "cell_type": "code",
   "execution_count": 57,
   "metadata": {
    "scrolled": true
   },
   "outputs": [
    {
     "data": {
      "text/plain": [
       "<AxesSubplot:>"
      ]
     },
     "execution_count": 57,
     "metadata": {},
     "output_type": "execute_result"
    },
    {
     "data": {
      "image/png": "[encoded data removed]",
      "text/plain": [
       "<Figure size 432x288 with 1 Axes>"
      ]
     },
     "metadata": {
      "needs_background": "light"
     },
     "output_type": "display_data"
    }
   ],
   "source": [
    "df_good['rooms'].hist(bins=20)"
   ]
  },
  {
   "cell_type": "markdown",
   "metadata": {},
   "source": [
    "Большая часть объявлений - 1, 2 и 3-комнатные квартиры. Вполне соответствует действительности.\n",
    "\n",
    "Теперь посмотрим на высоту потолков."
   ]
  },
  {
   "cell_type": "code",
   "execution_count": 58,
   "metadata": {
    "scrolled": true
   },
   "outputs": [
    {
     "data": {
      "text/plain": [
       "<AxesSubplot:>"
      ]
     },
     "execution_count": 58,
     "metadata": {},
     "output_type": "execute_result"
    },
    {
     "data": {
      "image/png": "[encoded data removed]",
      "text/plain": [
       "<Figure size 432x288 with 1 Axes>"
      ]
     },
     "metadata": {
      "needs_background": "light"
     },
     "output_type": "display_data"
    }
   ],
   "source": [
    "df_good['ceiling_height'].hist(bins=10)"
   ]
  },
  {
   "cell_type": "markdown",
   "metadata": {},
   "source": [
    "Все_таки потолки более 5 метров - большая редкость. Исключим их из анализа и снова построим гистограмму."
   ]
  },
  {
   "cell_type": "code",
   "execution_count": 59,
   "metadata": {},
   "outputs": [],
   "source": [
    "df_good = df_good.query('ceiling_height < 5')"
   ]
  },
  {
   "cell_type": "code",
   "execution_count": 60,
   "metadata": {},
   "outputs": [
    {
     "data": {
      "text/plain": [
       "<AxesSubplot:>"
      ]
     },
     "execution_count": 60,
     "metadata": {},
     "output_type": "execute_result"
    },
    {
     "data": {
      "image/png": "[encoded data removed]",
      "text/plain": [
       "<Figure size 432x288 with 1 Axes>"
      ]
     },
     "metadata": {
      "needs_background": "light"
     },
     "output_type": "display_data"
    }
   ],
   "source": [
    "df_good['ceiling_height'].hist(bins=10)"
   ]
  },
  {
   "cell_type": "markdown",
   "metadata": {},
   "source": [
    "Теперь данные выглядят более реалистично.\n",
    "\n",
    "Теперь рассмотрим на каких этажах размещены наши квартиры."
   ]
  },
  {
   "cell_type": "code",
   "execution_count": 61,
   "metadata": {},
   "outputs": [
    {
     "data": {
      "text/plain": [
       "<AxesSubplot:>"
      ]
     },
     "execution_count": 61,
     "metadata": {},
     "output_type": "execute_result"
    },
    {
     "data": {
      "image/png": "[encoded data removed]",
      "text/plain": [
       "<Figure size 432x288 with 1 Axes>"
      ]
     },
     "metadata": {
      "needs_background": "light"
     },
     "output_type": "display_data"
    }
   ],
   "source": [
    "df_good['floor'].hist(bins=30)"
   ]
  },
  {
   "cell_type": "markdown",
   "metadata": {},
   "source": [
    "Очень много квартир на 2-м этаже. Также рассмотрим, как распределены категории этажей (первый, последний и другой)."
   ]
  },
  {
   "cell_type": "code",
   "execution_count": 62,
   "metadata": {},
   "outputs": [
    {
     "data": {
      "text/plain": [
       "<AxesSubplot:>"
      ]
     },
     "execution_count": 62,
     "metadata": {},
     "output_type": "execute_result"
    },
    {
     "data": {
      "image/png": "[encoded data removed]",
      "text/plain": [
       "<Figure size 432x288 with 1 Axes>"
      ]
     },
     "metadata": {
      "needs_background": "light"
     },
     "output_type": "display_data"
    }
   ],
   "source": [
    "df_good['floor_type'].hist()"
   ]
  },
  {
   "cell_type": "markdown",
   "metadata": {},
   "source": [
    "Большинство квартир не на первом и не на последнем этаже. Тоже вполне похоже на правду.\n",
    "\n",
    "Построим гистограмму по общей этажности зданий, в которых продаются квартиры."
   ]
  },
  {
   "cell_type": "code",
   "execution_count": 63,
   "metadata": {},
   "outputs": [
    {
     "data": {
      "text/plain": [
       "<AxesSubplot:>"
      ]
     },
     "execution_count": 63,
     "metadata": {},
     "output_type": "execute_result"
    },
    {
     "data": {
      "image/png": "[encoded data removed]",
      "text/plain": [
       "<Figure size 432x288 with 1 Axes>"
      ]
     },
     "metadata": {
      "needs_background": "light"
     },
     "output_type": "display_data"
    }
   ],
   "source": [
    "df_good['floors_total'].hist(bins=30)"
   ]
  },
  {
   "cell_type": "markdown",
   "metadata": {},
   "source": [
    "Очень много квартир в 5 и 9-этажных домах. Предположение про типовую застройку было верным."
   ]
  },
  {
   "cell_type": "markdown",
   "metadata": {},
   "source": [
    "Посмотрим, насколько близко наши квартиры расположены к центру города, паркам и аэропортам."
   ]
  },
  {
   "cell_type": "code",
   "execution_count": 64,
   "metadata": {
    "scrolled": true
   },
   "outputs": [
    {
     "data": {
      "text/plain": [
       "<AxesSubplot:>"
      ]
     },
     "execution_count": 64,
     "metadata": {},
     "output_type": "execute_result"
    },
    {
     "data": {
      "image/png": "[encoded data removed]",
      "text/plain": [
       "<Figure size 432x288 with 1 Axes>"
      ]
     },
     "metadata": {
      "needs_background": "light"
     },
     "output_type": "display_data"
    }
   ],
   "source": [
    "df_good['cityCenters_nearest'].hist(bins=50)"
   ]
  },
  {
   "cell_type": "markdown",
   "metadata": {},
   "source": [
    "Большинство квартир расположены в 10-20 км от центра города,"
   ]
  },
  {
   "cell_type": "code",
   "execution_count": 65,
   "metadata": {
    "scrolled": true
   },
   "outputs": [
    {
     "data": {
      "text/plain": [
       "<AxesSubplot:>"
      ]
     },
     "execution_count": 65,
     "metadata": {},
     "output_type": "execute_result"
    },
    {
     "data": {
      "image/png": "[encoded data removed]",
      "text/plain": [
       "<Figure size 432x288 with 1 Axes>"
      ]
     },
     "metadata": {
      "needs_background": "light"
     },
     "output_type": "display_data"
    }
   ],
   "source": [
    "df_good['airports_nearest'].hist(bins=50)"
   ]
  },
  {
   "cell_type": "markdown",
   "metadata": {},
   "source": [
    "Удаленность от аэропорта в объявлениях варьируется примерно от 10 до 55 км."
   ]
  },
  {
   "cell_type": "code",
   "execution_count": 66,
   "metadata": {
    "scrolled": true
   },
   "outputs": [
    {
     "data": {
      "text/plain": [
       "<AxesSubplot:>"
      ]
     },
     "execution_count": 66,
     "metadata": {},
     "output_type": "execute_result"
    },
    {
     "data": {
      "image/png": "[encoded data removed]",
      "text/plain": [
       "<Figure size 432x288 with 1 Axes>"
      ]
     },
     "metadata": {
      "needs_background": "light"
     },
     "output_type": "display_data"
    }
   ],
   "source": [
    "df_good['parks_nearest'].hist(bins=50)"
   ]
  },
  {
   "cell_type": "markdown",
   "metadata": {},
   "source": [
    "Удаленность от парка в большинстве случаев составляет не более 1 км."
   ]
  },
  {
   "cell_type": "markdown",
   "metadata": {},
   "source": [
    "Теперь рассмотрим в какие дни и месяцы чаще выставляются объявления."
   ]
  },
  {
   "cell_type": "code",
   "execution_count": 67,
   "metadata": {
    "scrolled": true
   },
   "outputs": [
    {
     "data": {
      "text/plain": [
       "<AxesSubplot:>"
      ]
     },
     "execution_count": 67,
     "metadata": {},
     "output_type": "execute_result"
    },
    {
     "data": {
      "image/png": "[encoded data removed]",
      "text/plain": [
       "<Figure size 432x288 with 1 Axes>"
      ]
     },
     "metadata": {
      "needs_background": "light"
     },
     "output_type": "display_data"
    }
   ],
   "source": [
    "df_good['weekday_exposition'].hist(bins=13)"
   ]
  },
  {
   "cell_type": "markdown",
   "metadata": {},
   "source": [
    "В выходные размещается меньше объявлений, чем в будни."
   ]
  },
  {
   "cell_type": "code",
   "execution_count": 68,
   "metadata": {},
   "outputs": [
    {
     "data": {
      "text/plain": [
       "<AxesSubplot:>"
      ]
     },
     "execution_count": 68,
     "metadata": {},
     "output_type": "execute_result"
    },
    {
     "data": {
      "image/png": "[encoded data removed]",
      "text/plain": [
       "<Figure size 432x288 with 1 Axes>"
      ]
     },
     "metadata": {
      "needs_background": "light"
     },
     "output_type": "display_data"
    }
   ],
   "source": [
    "df_good['month_exposition'].hist(bins=23)"
   ]
  },
  {
   "cell_type": "markdown",
   "metadata": {},
   "source": [
    "Весной и осенью размещается больше объявлений, чем зимой (декабрь-январь) и летом (все месяцы + май). Вероятно, это обусловлено тем, что летом и на январские праздники многие люди уезжают отдыхать."
   ]
  },
  {
   "cell_type": "markdown",
   "metadata": {},
   "source": [
    "Также посмотрим как быстро обычно продаются квартиры."
   ]
  },
  {
   "cell_type": "code",
   "execution_count": 69,
   "metadata": {},
   "outputs": [
    {
     "data": {
      "text/plain": [
       "<AxesSubplot:>"
      ]
     },
     "execution_count": 69,
     "metadata": {},
     "output_type": "execute_result"
    },
    {
     "data": {
      "image/png": "[encoded data removed]",
      "text/plain": [
       "<Figure size 432x288 with 1 Axes>"
      ]
     },
     "metadata": {
      "needs_background": "light"
     },
     "output_type": "display_data"
    }
   ],
   "source": [
    "df_good['days_exposition'].hist(bins=50)"
   ]
  },
  {
   "cell_type": "code",
   "execution_count": 70,
   "metadata": {},
   "outputs": [
    {
     "data": {
      "text/plain": [
       "count    17333.000000\n",
       "mean       181.512491\n",
       "std        218.001090\n",
       "min          1.000000\n",
       "25%         44.000000\n",
       "50%         99.000000\n",
       "75%        233.000000\n",
       "max       1580.000000\n",
       "Name: days_exposition, dtype: float64"
      ]
     },
     "execution_count": 70,
     "metadata": {},
     "output_type": "execute_result"
    }
   ],
   "source": [
    "df_good['days_exposition'].describe()"
   ]
  },
  {
   "cell_type": "code",
   "execution_count": 71,
   "metadata": {
    "scrolled": true
   },
   "outputs": [
    {
     "data": {
      "text/plain": [
       "<AxesSubplot:>"
      ]
     },
     "execution_count": 71,
     "metadata": {},
     "output_type": "execute_result"
    },
    {
     "data": {
      "image/png": "[encoded data removed]",
      "text/plain": [
       "<Figure size 432x288 with 1 Axes>"
      ]
     },
     "metadata": {
      "needs_background": "light"
     },
     "output_type": "display_data"
    }
   ],
   "source": [
    "df_good['days_exposition'].plot(kind='box', grid=True)"
   ]
  },
  {
   "cell_type": "markdown",
   "metadata": {},
   "source": [
    "Большинство квартир продаются в диапазоне от 1 до 500 дней, все что продается дольше - на диаграмме размаха оценивается как выбросы. Продажи за 1 день кажутся очень быстрыми, но в целом это вполне реально.\n",
    "\n",
    "Примечательно, что среднее превышает медиану почти в 2 раза. Значит выбросов (или чересчур долгих продаж) в данных действительно много."
   ]
  },
  {
   "cell_type": "markdown",
   "metadata": {},
   "source": [
    "Теперь рассмотрим, какие факторы оказывают влияние на цену объектов."
   ]
  },
  {
   "cell_type": "code",
   "execution_count": 72,
   "metadata": {},
   "outputs": [
    {
     "data": {
      "text/plain": [
       "0.7575407007581063"
      ]
     },
     "execution_count": 72,
     "metadata": {},
     "output_type": "execute_result"
    },
    {
     "data": {
      "image/png": "[encoded data removed]",
      "text/plain": [
       "<Figure size 432x288 with 1 Axes>"
      ]
     },
     "metadata": {
      "needs_background": "light"
     },
     "output_type": "display_data"
    }
   ],
   "source": [
    "df_good.plot(x='last_price', y='total_area', kind='scatter', alpha=0.1)\n",
    "df_good['last_price'].corr(df_good['total_area'])"
   ]
  },
  {
   "cell_type": "markdown",
   "metadata": {},
   "source": [
    "0.75 - довольно высокий коэффициент коррекляции. Цена объекта практически напрямую зависит от ее площади."
   ]
  },
  {
   "cell_type": "code",
   "execution_count": 73,
   "metadata": {},
   "outputs": [
    {
     "data": {
      "text/plain": [
       "0.6332909090064298"
      ]
     },
     "execution_count": 73,
     "metadata": {},
     "output_type": "execute_result"
    },
    {
     "data": {
      "image/png": "[encoded data removed]",
      "text/plain": [
       "<Figure size 432x288 with 1 Axes>"
      ]
     },
     "metadata": {
      "needs_background": "light"
     },
     "output_type": "display_data"
    }
   ],
   "source": [
    "df_good.plot(x='last_price', y='living_area', kind='scatter', alpha=0.1)\n",
    "df_good['last_price'].corr(df_good['living_area'])"
   ]
  },
  {
   "cell_type": "markdown",
   "metadata": {},
   "source": [
    "Жилая площадь влияет на цену меньше, но определенная линейная зависимость все же присутствует."
   ]
  },
  {
   "cell_type": "code",
   "execution_count": 74,
   "metadata": {},
   "outputs": [
    {
     "data": {
      "text/plain": [
       "0.560488605477706"
      ]
     },
     "execution_count": 74,
     "metadata": {},
     "output_type": "execute_result"
    },
    {
     "data": {
      "image/png": "[encoded data removed]",
      "text/plain": [
       "<Figure size 432x288 with 1 Axes>"
      ]
     },
     "metadata": {
      "needs_background": "light"
     },
     "output_type": "display_data"
    }
   ],
   "source": [
    "df_good.plot(x='last_price', y='kitchen_area', kind='scatter', alpha=0.1)\n",
    "df_good['last_price'].corr(df_good['kitchen_area'])"
   ]
  },
  {
   "cell_type": "markdown",
   "metadata": {},
   "source": [
    "Влияние на цену площади кухни еще меньше. Все-таки большинство кухонь имеют стандартный размер вне зависимости от площади квартиры, поэтому с ценой корреляции почти нет."
   ]
  },
  {
   "cell_type": "code",
   "execution_count": 75,
   "metadata": {},
   "outputs": [
    {
     "data": {
      "text/plain": [
       "0.4742123461048969"
      ]
     },
     "execution_count": 75,
     "metadata": {},
     "output_type": "execute_result"
    },
    {
     "data": {
      "image/png": "[encoded data removed]",
      "text/plain": [
       "<Figure size 432x288 with 1 Axes>"
      ]
     },
     "metadata": {
      "needs_background": "light"
     },
     "output_type": "display_data"
    }
   ],
   "source": [
    "df_good.plot(x='last_price', y='rooms', kind='scatter', alpha=0.1)\n",
    "df_good['last_price'].corr(df_good['rooms'])"
   ]
  },
  {
   "cell_type": "markdown",
   "metadata": {},
   "source": [
    "Также невысокая корреляция наблюдается между стоимостью и количеством комнат. При этом определенная зависимость для квартир не более чем с 3 комнатами все же наблюдается."
   ]
  },
  {
   "cell_type": "code",
   "execution_count": 76,
   "metadata": {},
   "outputs": [
    {
     "data": {
      "text/plain": [
       "0.11442216393993467"
      ]
     },
     "execution_count": 76,
     "metadata": {},
     "output_type": "execute_result"
    },
    {
     "data": {
      "image/png": "[encoded data removed]",
      "text/plain": [
       "<Figure size 432x288 with 1 Axes>"
      ]
     },
     "metadata": {
      "needs_background": "light"
     },
     "output_type": "display_data"
    }
   ],
   "source": [
    "df_good.plot(x='last_price', y='floor_type', kind='scatter', alpha=0.1)\n",
    "df_good['last_price'].corr(df_good['floor'])"
   ]
  },
  {
   "cell_type": "markdown",
   "metadata": {},
   "source": [
    "Стоимость объекта вообще не зависит от этажа."
   ]
  },
  {
   "cell_type": "code",
   "execution_count": 77,
   "metadata": {
    "scrolled": true
   },
   "outputs": [
    {
     "data": {
      "text/plain": [
       "-0.01242434194070976"
      ]
     },
     "execution_count": 77,
     "metadata": {},
     "output_type": "execute_result"
    },
    {
     "data": {
      "image/png": "[encoded data removed]",
      "text/plain": [
       "<Figure size 432x288 with 1 Axes>"
      ]
     },
     "metadata": {
      "needs_background": "light"
     },
     "output_type": "display_data"
    }
   ],
   "source": [
    "df_good.plot(x='last_price', y='weekday_exposition', kind='scatter', alpha=0.1)\n",
    "df_good['last_price'].corr(df_good['weekday_exposition'])"
   ]
  },
  {
   "cell_type": "markdown",
   "metadata": {},
   "source": [
    "Также отсутствует зависимость цены от дня недели, когда было выставлено объявление."
   ]
  },
  {
   "cell_type": "code",
   "execution_count": 78,
   "metadata": {},
   "outputs": [
    {
     "data": {
      "text/plain": [
       "0.0072928934202746805"
      ]
     },
     "execution_count": 78,
     "metadata": {},
     "output_type": "execute_result"
    },
    {
     "data": {
      "image/png": "[encoded data removed]",
      "text/plain": [
       "<Figure size 432x288 with 1 Axes>"
      ]
     },
     "metadata": {
      "needs_background": "light"
     },
     "output_type": "display_data"
    }
   ],
   "source": [
    "df_good.plot(x='last_price', y='month_exposition', kind='scatter', alpha=0.1)\n",
    "df_good['last_price'].corr(df_good['month_exposition'])"
   ]
  },
  {
   "cell_type": "markdown",
   "metadata": {},
   "source": [
    "Связь между стоимостью и месяцем выставления отсутствует."
   ]
  },
  {
   "cell_type": "code",
   "execution_count": 79,
   "metadata": {},
   "outputs": [
    {
     "data": {
      "text/plain": [
       "-0.013172547722045694"
      ]
     },
     "execution_count": 79,
     "metadata": {},
     "output_type": "execute_result"
    },
    {
     "data": {
      "image/png": "[encoded data removed]",
      "text/plain": [
       "<Figure size 432x288 with 1 Axes>"
      ]
     },
     "metadata": {
      "needs_background": "light"
     },
     "output_type": "display_data"
    }
   ],
   "source": [
    "df_good.plot(x='last_price', y='year_exposition', kind='scatter', alpha=0.1)\n",
    "df_good['last_price'].corr(df_good['year_exposition'])"
   ]
  },
  {
   "cell_type": "markdown",
   "metadata": {},
   "source": [
    "Связь между ценой и годом, когда было выставлено объявление тоже отсутствует."
   ]
  },
  {
   "cell_type": "markdown",
   "metadata": {},
   "source": [
    "Таким образом, наибольшее влияние на стоимость квартиры оказывает общая площадь. Меньшее влияние оказывает жилая площадь, еще меньшее - площадь кухни и количество комнат."
   ]
  },
  {
   "cell_type": "markdown",
   "metadata": {},
   "source": [
    "Теперь рассмотри 10 наиболее популярных локаций в зависимости от количества объявлений. Данные сохраним в переменной popular_locality."
   ]
  },
  {
   "cell_type": "code",
   "execution_count": 90,
   "metadata": {},
   "outputs": [
    {
     "data": {
      "text/html": [
       "<div>\n",
       "<style scoped>\n",
       "    .dataframe tbody tr th:only-of-type {\n",
       "        vertical-align: middle;\n",
       "    }\n",
       "\n",
       "    .dataframe tbody tr th {\n",
       "        vertical-align: top;\n",
       "    }\n",
       "\n",
       "    .dataframe thead th {\n",
       "        text-align: right;\n",
       "    }\n",
       "</style>\n",
       "<table border=\"1\" class=\"dataframe\">\n",
       "  <thead>\n",
       "    <tr style=\"text-align: right;\">\n",
       "      <th></th>\n",
       "      <th>count</th>\n",
       "      <th>mean</th>\n",
       "    </tr>\n",
       "    <tr>\n",
       "      <th>locality_name</th>\n",
       "      <th></th>\n",
       "      <th></th>\n",
       "    </tr>\n",
       "  </thead>\n",
       "  <tbody>\n",
       "    <tr>\n",
       "      <th>Зеленогорск</th>\n",
       "      <td>24</td>\n",
       "      <td>115122.799198</td>\n",
       "    </tr>\n",
       "    <tr>\n",
       "      <th>Санкт-Петербург</th>\n",
       "      <td>15607</td>\n",
       "      <td>114857.721601</td>\n",
       "    </tr>\n",
       "    <tr>\n",
       "      <th>поселок Репино</th>\n",
       "      <td>4</td>\n",
       "      <td>104238.614786</td>\n",
       "    </tr>\n",
       "    <tr>\n",
       "      <th>Пушкин</th>\n",
       "      <td>369</td>\n",
       "      <td>103125.819291</td>\n",
       "    </tr>\n",
       "    <tr>\n",
       "      <th>Сестрорецк</th>\n",
       "      <td>182</td>\n",
       "      <td>101694.014038</td>\n",
       "    </tr>\n",
       "    <tr>\n",
       "      <th>поселок Лисий Нос</th>\n",
       "      <td>3</td>\n",
       "      <td>100660.814239</td>\n",
       "    </tr>\n",
       "    <tr>\n",
       "      <th>Кудрово</th>\n",
       "      <td>171</td>\n",
       "      <td>100134.543715</td>\n",
       "    </tr>\n",
       "    <tr>\n",
       "      <th>деревня Мистолово</th>\n",
       "      <td>11</td>\n",
       "      <td>98549.976709</td>\n",
       "    </tr>\n",
       "    <tr>\n",
       "      <th>поселок Левашово</th>\n",
       "      <td>1</td>\n",
       "      <td>96997.690531</td>\n",
       "    </tr>\n",
       "    <tr>\n",
       "      <th>Мурино</th>\n",
       "      <td>34</td>\n",
       "      <td>92722.708914</td>\n",
       "    </tr>\n",
       "  </tbody>\n",
       "</table>\n",
       "</div>"
      ],
      "text/plain": [
       "                   count           mean\n",
       "locality_name                          \n",
       "Зеленогорск           24  115122.799198\n",
       "Санкт-Петербург    15607  114857.721601\n",
       "поселок Репино         4  104238.614786\n",
       "Пушкин               369  103125.819291\n",
       "Сестрорецк           182  101694.014038\n",
       "поселок Лисий Нос      3  100660.814239\n",
       "Кудрово              171  100134.543715\n",
       "деревня Мистолово     11   98549.976709\n",
       "поселок Левашово       1   96997.690531\n",
       "Мурино                34   92722.708914"
      ]
     },
     "execution_count": 90,
     "metadata": {},
     "output_type": "execute_result"
    }
   ],
   "source": [
    "popular_locality = df.pivot_table(index='locality_name', values='one_meter_price', aggfunc=['count', 'mean'])\n",
    "popular_locality.columns = ['count', 'mean']\n",
    "popular_locality.sort_values(by='mean', ascending=False).head(10)"
   ]
  },
  {
   "cell_type": "markdown",
   "metadata": {},
   "source": [
    "Cреди популярных локаций самые дорогие квартиры в Зеленогорске и Санкт-Петербурге, самые дешевые - в Мурино, Левашово и Мистолово."
   ]
  },
  {
   "cell_type": "markdown",
   "metadata": {},
   "source": [
    "Теперь рассмотрим влияние удаления от центра на стоимость квартир в Санкт-Петербурге. Выделим квартиры в Санкт-Петербургу в переменную spb_ads."
   ]
  },
  {
   "cell_type": "code",
   "execution_count": 81,
   "metadata": {},
   "outputs": [],
   "source": [
    "spb_ads = df_good.query('locality_name == \"Санкт-Петербург\"')"
   ]
  },
  {
   "cell_type": "markdown",
   "metadata": {},
   "source": [
    "Посмотрим, есть ли критичные для нас пропуски."
   ]
  },
  {
   "cell_type": "code",
   "execution_count": 82,
   "metadata": {},
   "outputs": [
    {
     "data": {
      "text/plain": [
       "total_images                  0\n",
       "last_price                    0\n",
       "total_area                    0\n",
       "first_day_exposition          0\n",
       "rooms                         0\n",
       "ceiling_height                0\n",
       "floors_total                  0\n",
       "living_area                   0\n",
       "floor                         0\n",
       "is_apartment              11585\n",
       "studio                        0\n",
       "open_plan                     0\n",
       "kitchen_area                  0\n",
       "balcony                       0\n",
       "locality_name                 0\n",
       "airports_nearest             51\n",
       "cityCenters_nearest          34\n",
       "parks_around3000             34\n",
       "parks_nearest              7248\n",
       "ponds_around3000             34\n",
       "ponds_nearest              6734\n",
       "days_exposition            1655\n",
       "one_meter_price               0\n",
       "weekday_exposition            0\n",
       "month_exposition              0\n",
       "year_exposition               0\n",
       "floor_type                    0\n",
       "cityCenters_nearest_km       34\n",
       "dtype: int64"
      ]
     },
     "execution_count": 82,
     "metadata": {},
     "output_type": "execute_result"
    }
   ],
   "source": [
    "spb_ads.isna().sum()"
   ]
  },
  {
   "cell_type": "markdown",
   "metadata": {},
   "source": [
    "Нам необходимо удалить пропуски из столбца **cityCenters_nearest_km** для дальнейших расчетов."
   ]
  },
  {
   "cell_type": "code",
   "execution_count": 83,
   "metadata": {},
   "outputs": [],
   "source": [
    "spb_ads = spb_ads.dropna(subset = ['cityCenters_nearest_km']).reset_index(drop=True)"
   ]
  },
  {
   "cell_type": "code",
   "execution_count": 84,
   "metadata": {},
   "outputs": [
    {
     "data": {
      "text/plain": [
       "-0.3952355278822654"
      ]
     },
     "execution_count": 84,
     "metadata": {},
     "output_type": "execute_result"
    }
   ],
   "source": [
    "spb_ads['cityCenters_nearest_km'].corr(spb_ads['last_price'])"
   ]
  },
  {
   "cell_type": "code",
   "execution_count": 85,
   "metadata": {},
   "outputs": [
    {
     "data": {
      "text/html": [
       "<div>\n",
       "<style scoped>\n",
       "    .dataframe tbody tr th:only-of-type {\n",
       "        vertical-align: middle;\n",
       "    }\n",
       "\n",
       "    .dataframe tbody tr th {\n",
       "        vertical-align: top;\n",
       "    }\n",
       "\n",
       "    .dataframe thead th {\n",
       "        text-align: right;\n",
       "    }\n",
       "</style>\n",
       "<table border=\"1\" class=\"dataframe\">\n",
       "  <thead>\n",
       "    <tr style=\"text-align: right;\">\n",
       "      <th></th>\n",
       "      <th>last_price</th>\n",
       "    </tr>\n",
       "    <tr>\n",
       "      <th>cityCenters_nearest_km</th>\n",
       "      <th></th>\n",
       "    </tr>\n",
       "  </thead>\n",
       "  <tbody>\n",
       "    <tr>\n",
       "      <th>0.0</th>\n",
       "      <td>9.816521e+06</td>\n",
       "    </tr>\n",
       "    <tr>\n",
       "      <th>1.0</th>\n",
       "      <td>1.007807e+07</td>\n",
       "    </tr>\n",
       "    <tr>\n",
       "      <th>2.0</th>\n",
       "      <td>9.174247e+06</td>\n",
       "    </tr>\n",
       "    <tr>\n",
       "      <th>3.0</th>\n",
       "      <td>8.669389e+06</td>\n",
       "    </tr>\n",
       "    <tr>\n",
       "      <th>4.0</th>\n",
       "      <td>9.184911e+06</td>\n",
       "    </tr>\n",
       "    <tr>\n",
       "      <th>5.0</th>\n",
       "      <td>8.476741e+06</td>\n",
       "    </tr>\n",
       "    <tr>\n",
       "      <th>6.0</th>\n",
       "      <td>7.867893e+06</td>\n",
       "    </tr>\n",
       "    <tr>\n",
       "      <th>7.0</th>\n",
       "      <td>8.019896e+06</td>\n",
       "    </tr>\n",
       "    <tr>\n",
       "      <th>8.0</th>\n",
       "      <td>7.161501e+06</td>\n",
       "    </tr>\n",
       "    <tr>\n",
       "      <th>9.0</th>\n",
       "      <td>5.994023e+06</td>\n",
       "    </tr>\n",
       "    <tr>\n",
       "      <th>10.0</th>\n",
       "      <td>5.883218e+06</td>\n",
       "    </tr>\n",
       "    <tr>\n",
       "      <th>11.0</th>\n",
       "      <td>5.676460e+06</td>\n",
       "    </tr>\n",
       "    <tr>\n",
       "      <th>12.0</th>\n",
       "      <td>5.881007e+06</td>\n",
       "    </tr>\n",
       "    <tr>\n",
       "      <th>13.0</th>\n",
       "      <td>5.834666e+06</td>\n",
       "    </tr>\n",
       "    <tr>\n",
       "      <th>14.0</th>\n",
       "      <td>5.532044e+06</td>\n",
       "    </tr>\n",
       "    <tr>\n",
       "      <th>15.0</th>\n",
       "      <td>5.406604e+06</td>\n",
       "    </tr>\n",
       "    <tr>\n",
       "      <th>16.0</th>\n",
       "      <td>5.335961e+06</td>\n",
       "    </tr>\n",
       "    <tr>\n",
       "      <th>17.0</th>\n",
       "      <td>4.877485e+06</td>\n",
       "    </tr>\n",
       "    <tr>\n",
       "      <th>18.0</th>\n",
       "      <td>5.056708e+06</td>\n",
       "    </tr>\n",
       "    <tr>\n",
       "      <th>19.0</th>\n",
       "      <td>4.787441e+06</td>\n",
       "    </tr>\n",
       "    <tr>\n",
       "      <th>20.0</th>\n",
       "      <td>6.241350e+06</td>\n",
       "    </tr>\n",
       "    <tr>\n",
       "      <th>21.0</th>\n",
       "      <td>4.980858e+06</td>\n",
       "    </tr>\n",
       "    <tr>\n",
       "      <th>22.0</th>\n",
       "      <td>5.160414e+06</td>\n",
       "    </tr>\n",
       "    <tr>\n",
       "      <th>23.0</th>\n",
       "      <td>4.242889e+06</td>\n",
       "    </tr>\n",
       "    <tr>\n",
       "      <th>24.0</th>\n",
       "      <td>3.883684e+06</td>\n",
       "    </tr>\n",
       "    <tr>\n",
       "      <th>25.0</th>\n",
       "      <td>4.177211e+06</td>\n",
       "    </tr>\n",
       "    <tr>\n",
       "      <th>26.0</th>\n",
       "      <td>3.575000e+06</td>\n",
       "    </tr>\n",
       "    <tr>\n",
       "      <th>27.0</th>\n",
       "      <td>8.300000e+06</td>\n",
       "    </tr>\n",
       "    <tr>\n",
       "      <th>28.0</th>\n",
       "      <td>4.910500e+06</td>\n",
       "    </tr>\n",
       "    <tr>\n",
       "      <th>29.0</th>\n",
       "      <td>4.525000e+06</td>\n",
       "    </tr>\n",
       "  </tbody>\n",
       "</table>\n",
       "</div>"
      ],
      "text/plain": [
       "                          last_price\n",
       "cityCenters_nearest_km              \n",
       "0.0                     9.816521e+06\n",
       "1.0                     1.007807e+07\n",
       "2.0                     9.174247e+06\n",
       "3.0                     8.669389e+06\n",
       "4.0                     9.184911e+06\n",
       "5.0                     8.476741e+06\n",
       "6.0                     7.867893e+06\n",
       "7.0                     8.019896e+06\n",
       "8.0                     7.161501e+06\n",
       "9.0                     5.994023e+06\n",
       "10.0                    5.883218e+06\n",
       "11.0                    5.676460e+06\n",
       "12.0                    5.881007e+06\n",
       "13.0                    5.834666e+06\n",
       "14.0                    5.532044e+06\n",
       "15.0                    5.406604e+06\n",
       "16.0                    5.335961e+06\n",
       "17.0                    4.877485e+06\n",
       "18.0                    5.056708e+06\n",
       "19.0                    4.787441e+06\n",
       "20.0                    6.241350e+06\n",
       "21.0                    4.980858e+06\n",
       "22.0                    5.160414e+06\n",
       "23.0                    4.242889e+06\n",
       "24.0                    3.883684e+06\n",
       "25.0                    4.177211e+06\n",
       "26.0                    3.575000e+06\n",
       "27.0                    8.300000e+06\n",
       "28.0                    4.910500e+06\n",
       "29.0                    4.525000e+06"
      ]
     },
     "execution_count": 85,
     "metadata": {},
     "output_type": "execute_result"
    }
   ],
   "source": [
    "spb_ads.pivot_table(index='cityCenters_nearest_km', values='last_price')"
   ]
  },
  {
   "cell_type": "markdown",
   "metadata": {},
   "source": [
    "Из полученных данных можно увидить, что стоимость квартиры постепенно снижается по мере удаления от центра города. Исключение составляют квартиры на удалении 27 км от центра. Возможно, это выбросы в данных. Также может быть, что на таком удалении от центра города есть предложения только дорогих квартир (повышенного класса комфортности или с большой площадью).\n",
    "\n",
    "При этом коэффициент корреляции не показывает четкой зависимости этих двух параметров."
   ]
  },
  {
   "cell_type": "markdown",
   "metadata": {},
   "source": [
    "### Общий вывод"
   ]
  },
  {
   "cell_type": "markdown",
   "metadata": {},
   "source": [
    "Анализ датафрейма позволил узнать следующее:\n",
    "1. самое большое влияние на стоимость квартиры оказывает ее площадь, меньшее влияние - жилая площадь и площадь кухни, а также количество комнат\n",
    "2. из топ-10 локаций с наибольшим количеством объявлений самые дорогие квартиры - в Зеленогорске и Санкт-Петербурге, самые дешевые - в Мурино, Левашово и Мистолово\n",
    "3. в Санкт-Петербурге стоимость квартир в целом увеличивается по мере приближения к центру города\n",
    "4. для большинства населенных пунктов пропущены данные по количетву парков и водоемов, а также по расстоянию до ближайших аэропортов, парков, водоемов и до центра города"
   ]
  }
 ],
 "metadata": {
  "ExecuteTimeLog": [
   {
    "duration": 975,
    "start_time": "2022-07-03T12:23:02.698Z"
   },
   {
    "duration": 97,
    "start_time": "2022-07-03T12:23:17.314Z"
   },
   {
    "duration": 91,
    "start_time": "2022-07-03T12:23:26.227Z"
   },
   {
    "duration": 78,
    "start_time": "2022-07-03T12:24:24.013Z"
   },
   {
    "duration": 76,
    "start_time": "2022-07-03T12:24:56.869Z"
   },
   {
    "duration": 83,
    "start_time": "2022-07-03T12:25:03.089Z"
   },
   {
    "duration": 121,
    "start_time": "2022-07-03T12:26:28.220Z"
   },
   {
    "duration": 2288,
    "start_time": "2022-07-03T12:26:39.093Z"
   },
   {
    "duration": 2156,
    "start_time": "2022-07-03T12:26:54.997Z"
   },
   {
    "duration": 2395,
    "start_time": "2022-07-03T12:31:43.409Z"
   },
   {
    "duration": 1943,
    "start_time": "2022-07-03T12:32:16.817Z"
   },
   {
    "duration": 1054,
    "start_time": "2022-07-03T12:35:08.181Z"
   },
   {
    "duration": 2090,
    "start_time": "2022-07-03T12:35:35.490Z"
   },
   {
    "duration": 2959,
    "start_time": "2022-07-05T12:10:09.287Z"
   },
   {
    "duration": 52,
    "start_time": "2022-07-05T12:10:33.286Z"
   },
   {
    "duration": 8,
    "start_time": "2022-07-05T12:11:00.481Z"
   },
   {
    "duration": 7,
    "start_time": "2022-07-05T12:13:56.922Z"
   },
   {
    "duration": 7,
    "start_time": "2022-07-05T12:14:38.523Z"
   },
   {
    "duration": 7,
    "start_time": "2022-07-05T12:14:51.546Z"
   },
   {
    "duration": 6,
    "start_time": "2022-07-05T12:15:00.290Z"
   },
   {
    "duration": 8,
    "start_time": "2022-07-05T12:15:14.276Z"
   },
   {
    "duration": 7,
    "start_time": "2022-07-05T12:15:19.689Z"
   },
   {
    "duration": 7,
    "start_time": "2022-07-05T12:15:27.226Z"
   },
   {
    "duration": 9,
    "start_time": "2022-07-05T12:15:36.560Z"
   },
   {
    "duration": 8,
    "start_time": "2022-07-05T12:15:46.715Z"
   },
   {
    "duration": 9,
    "start_time": "2022-07-05T15:21:33.332Z"
   },
   {
    "duration": 8,
    "start_time": "2022-07-05T15:22:41.296Z"
   },
   {
    "duration": 7,
    "start_time": "2022-07-05T16:29:43.431Z"
   },
   {
    "duration": 9,
    "start_time": "2022-07-05T16:32:41.689Z"
   },
   {
    "duration": 11,
    "start_time": "2022-07-05T16:33:01.992Z"
   },
   {
    "duration": 9,
    "start_time": "2022-07-05T16:33:22.235Z"
   },
   {
    "duration": 8,
    "start_time": "2022-07-05T16:46:34.169Z"
   },
   {
    "duration": 4,
    "start_time": "2022-07-05T16:48:02.038Z"
   },
   {
    "duration": 13,
    "start_time": "2022-07-05T16:48:50.823Z"
   },
   {
    "duration": 7,
    "start_time": "2022-07-05T16:50:14.138Z"
   },
   {
    "duration": 9,
    "start_time": "2022-07-05T16:50:24.386Z"
   },
   {
    "duration": 37,
    "start_time": "2022-07-05T17:08:27.037Z"
   },
   {
    "duration": 17,
    "start_time": "2022-07-05T17:13:06.279Z"
   },
   {
    "duration": 27,
    "start_time": "2022-07-05T17:13:46.259Z"
   },
   {
    "duration": 33,
    "start_time": "2022-07-05T17:14:08.306Z"
   },
   {
    "duration": 41,
    "start_time": "2022-07-05T17:21:44.150Z"
   },
   {
    "duration": 8,
    "start_time": "2022-07-05T17:22:13.533Z"
   },
   {
    "duration": 76,
    "start_time": "2022-07-05T17:39:42.845Z"
   },
   {
    "duration": 8,
    "start_time": "2022-07-05T17:40:03.704Z"
   },
   {
    "duration": 716,
    "start_time": "2022-07-05T17:41:16.633Z"
   },
   {
    "duration": 6,
    "start_time": "2022-07-05T17:41:20.568Z"
   },
   {
    "duration": 5,
    "start_time": "2022-07-05T17:42:07.695Z"
   },
   {
    "duration": 5,
    "start_time": "2022-07-05T17:42:23.895Z"
   },
   {
    "duration": 5,
    "start_time": "2022-07-05T17:42:47.897Z"
   },
   {
    "duration": 8,
    "start_time": "2022-07-05T17:50:34.233Z"
   },
   {
    "duration": 5,
    "start_time": "2022-07-05T17:53:21.947Z"
   },
   {
    "duration": 6,
    "start_time": "2022-07-05T17:53:30.094Z"
   },
   {
    "duration": 5,
    "start_time": "2022-07-05T17:56:56.337Z"
   },
   {
    "duration": 6,
    "start_time": "2022-07-05T17:56:58.173Z"
   },
   {
    "duration": 6,
    "start_time": "2022-07-05T17:56:59.771Z"
   },
   {
    "duration": 5,
    "start_time": "2022-07-05T17:57:01.458Z"
   },
   {
    "duration": 30,
    "start_time": "2022-07-05T17:57:09.914Z"
   },
   {
    "duration": 10,
    "start_time": "2022-07-05T18:03:32.568Z"
   },
   {
    "duration": 14,
    "start_time": "2022-07-05T18:11:54.032Z"
   },
   {
    "duration": 12,
    "start_time": "2022-07-05T18:12:11.173Z"
   },
   {
    "duration": 6,
    "start_time": "2022-07-05T19:22:45.301Z"
   },
   {
    "duration": 14,
    "start_time": "2022-07-05T19:27:34.366Z"
   },
   {
    "duration": 593,
    "start_time": "2022-07-05T19:28:04.710Z"
   },
   {
    "duration": 562,
    "start_time": "2022-07-05T19:28:35.574Z"
   },
   {
    "duration": 582,
    "start_time": "2022-07-05T19:28:48.312Z"
   },
   {
    "duration": 617,
    "start_time": "2022-07-05T19:31:20.000Z"
   },
   {
    "duration": 9,
    "start_time": "2022-07-05T19:31:47.857Z"
   },
   {
    "duration": 9,
    "start_time": "2022-07-05T19:32:06.079Z"
   },
   {
    "duration": 788,
    "start_time": "2022-07-05T19:42:33.069Z"
   },
   {
    "duration": 3196,
    "start_time": "2022-07-06T06:41:27.919Z"
   },
   {
    "duration": 10,
    "start_time": "2022-07-06T06:41:34.107Z"
   },
   {
    "duration": 109,
    "start_time": "2022-07-06T06:48:03.571Z"
   },
   {
    "duration": 19,
    "start_time": "2022-07-06T06:48:23.623Z"
   },
   {
    "duration": 48,
    "start_time": "2022-07-06T06:48:30.157Z"
   },
   {
    "duration": 20,
    "start_time": "2022-07-06T06:48:43.473Z"
   },
   {
    "duration": 2324,
    "start_time": "2022-07-06T06:49:38.711Z"
   },
   {
    "duration": 10,
    "start_time": "2022-07-06T06:49:46.180Z"
   },
   {
    "duration": 22,
    "start_time": "2022-07-06T06:49:50.493Z"
   },
   {
    "duration": 21,
    "start_time": "2022-07-06T06:54:37.589Z"
   },
   {
    "duration": 3,
    "start_time": "2022-07-06T07:02:33.904Z"
   },
   {
    "duration": 4,
    "start_time": "2022-07-06T07:11:02.805Z"
   },
   {
    "duration": 13,
    "start_time": "2022-07-06T07:11:19.410Z"
   },
   {
    "duration": 910,
    "start_time": "2022-07-06T07:12:43.683Z"
   },
   {
    "duration": 7,
    "start_time": "2022-07-06T07:13:33.812Z"
   },
   {
    "duration": 29,
    "start_time": "2022-07-06T07:13:44.292Z"
   },
   {
    "duration": 29,
    "start_time": "2022-07-06T07:18:28.649Z"
   },
   {
    "duration": 3,
    "start_time": "2022-07-06T07:18:31.259Z"
   },
   {
    "duration": 213,
    "start_time": "2022-07-06T07:18:32.958Z"
   },
   {
    "duration": 24,
    "start_time": "2022-07-06T07:18:44.775Z"
   },
   {
    "duration": 3,
    "start_time": "2022-07-06T07:19:29.208Z"
   },
   {
    "duration": 25,
    "start_time": "2022-07-06T07:19:37.023Z"
   },
   {
    "duration": 4,
    "start_time": "2022-07-06T07:21:52.635Z"
   },
   {
    "duration": 10,
    "start_time": "2022-07-06T07:21:55.487Z"
   },
   {
    "duration": 18,
    "start_time": "2022-07-06T07:22:07.394Z"
   },
   {
    "duration": 6,
    "start_time": "2022-07-06T07:22:09.848Z"
   },
   {
    "duration": 6,
    "start_time": "2022-07-06T07:22:10.914Z"
   },
   {
    "duration": 5,
    "start_time": "2022-07-06T07:22:11.712Z"
   },
   {
    "duration": 25,
    "start_time": "2022-07-06T07:22:19.536Z"
   },
   {
    "duration": 47,
    "start_time": "2022-07-06T07:31:06.128Z"
   },
   {
    "duration": 24,
    "start_time": "2022-07-06T07:32:26.155Z"
   },
   {
    "duration": 12,
    "start_time": "2022-07-06T07:34:20.015Z"
   },
   {
    "duration": 7,
    "start_time": "2022-07-06T07:34:30.655Z"
   },
   {
    "duration": 8,
    "start_time": "2022-07-06T10:54:13.202Z"
   },
   {
    "duration": 146,
    "start_time": "2022-07-06T10:56:41.464Z"
   },
   {
    "duration": 183,
    "start_time": "2022-07-06T10:56:55.883Z"
   },
   {
    "duration": 6,
    "start_time": "2022-07-06T10:57:11.659Z"
   },
   {
    "duration": 278,
    "start_time": "2022-07-06T10:57:27.197Z"
   },
   {
    "duration": 122,
    "start_time": "2022-07-06T10:57:59.563Z"
   },
   {
    "duration": 128,
    "start_time": "2022-07-06T10:58:07.507Z"
   },
   {
    "duration": 138,
    "start_time": "2022-07-06T10:58:34.750Z"
   },
   {
    "duration": 131,
    "start_time": "2022-07-06T10:58:40.940Z"
   },
   {
    "duration": 136,
    "start_time": "2022-07-06T10:58:48.367Z"
   },
   {
    "duration": 244,
    "start_time": "2022-07-06T10:58:56.470Z"
   },
   {
    "duration": 220,
    "start_time": "2022-07-06T10:59:16.405Z"
   },
   {
    "duration": 145,
    "start_time": "2022-07-06T10:59:21.101Z"
   },
   {
    "duration": 157,
    "start_time": "2022-07-06T10:59:25.291Z"
   },
   {
    "duration": 131,
    "start_time": "2022-07-06T10:59:31.885Z"
   },
   {
    "duration": 150,
    "start_time": "2022-07-06T10:59:35.755Z"
   },
   {
    "duration": 225,
    "start_time": "2022-07-06T10:59:59.579Z"
   },
   {
    "duration": 212,
    "start_time": "2022-07-06T11:11:39.176Z"
   },
   {
    "duration": 181,
    "start_time": "2022-07-06T11:32:26.556Z"
   },
   {
    "duration": 144,
    "start_time": "2022-07-06T11:32:43.172Z"
   },
   {
    "duration": 167,
    "start_time": "2022-07-06T11:32:53.940Z"
   },
   {
    "duration": 225,
    "start_time": "2022-07-06T11:33:00.788Z"
   },
   {
    "duration": 148,
    "start_time": "2022-07-06T11:33:02.173Z"
   },
   {
    "duration": 9,
    "start_time": "2022-07-06T11:33:57.197Z"
   },
   {
    "duration": 8,
    "start_time": "2022-07-06T11:34:05.533Z"
   },
   {
    "duration": 13,
    "start_time": "2022-07-06T11:34:27.174Z"
   },
   {
    "duration": 10,
    "start_time": "2022-07-06T11:34:34.287Z"
   },
   {
    "duration": 162,
    "start_time": "2022-07-06T11:34:55.207Z"
   },
   {
    "duration": 136,
    "start_time": "2022-07-06T11:35:01.485Z"
   },
   {
    "duration": 7,
    "start_time": "2022-07-06T11:35:11.157Z"
   },
   {
    "duration": 9,
    "start_time": "2022-07-06T11:35:14.855Z"
   },
   {
    "duration": 8,
    "start_time": "2022-07-06T11:35:19.333Z"
   },
   {
    "duration": 5,
    "start_time": "2022-07-06T11:35:44.007Z"
   },
   {
    "duration": 7,
    "start_time": "2022-07-06T11:37:57.391Z"
   },
   {
    "duration": 15,
    "start_time": "2022-07-06T11:40:55.088Z"
   },
   {
    "duration": 4,
    "start_time": "2022-07-06T11:42:17.446Z"
   },
   {
    "duration": 20,
    "start_time": "2022-07-06T11:42:25.169Z"
   },
   {
    "duration": 19,
    "start_time": "2022-07-06T11:43:38.788Z"
   },
   {
    "duration": 35,
    "start_time": "2022-07-06T11:45:05.994Z"
   },
   {
    "duration": 19,
    "start_time": "2022-07-06T11:46:56.388Z"
   },
   {
    "duration": 24,
    "start_time": "2022-07-06T11:55:13.202Z"
   },
   {
    "duration": 4,
    "start_time": "2022-07-06T13:14:43.442Z"
   },
   {
    "duration": 7,
    "start_time": "2022-07-06T13:16:19.291Z"
   },
   {
    "duration": 21,
    "start_time": "2022-07-06T13:16:24.575Z"
   },
   {
    "duration": 23,
    "start_time": "2022-07-06T13:16:36.439Z"
   },
   {
    "duration": 19,
    "start_time": "2022-07-06T13:16:44.530Z"
   },
   {
    "duration": 7,
    "start_time": "2022-07-06T13:21:45.768Z"
   },
   {
    "duration": 6,
    "start_time": "2022-07-06T13:21:48.441Z"
   },
   {
    "duration": 8,
    "start_time": "2022-07-06T13:22:25.282Z"
   },
   {
    "duration": 6,
    "start_time": "2022-07-06T13:22:26.841Z"
   },
   {
    "duration": 2184,
    "start_time": "2022-07-07T12:10:08.801Z"
   },
   {
    "duration": 15,
    "start_time": "2022-07-07T12:10:16.521Z"
   },
   {
    "duration": 56,
    "start_time": "2022-07-07T12:11:27.057Z"
   },
   {
    "duration": 9,
    "start_time": "2022-07-07T12:11:36.627Z"
   },
   {
    "duration": 14,
    "start_time": "2022-07-07T12:11:49.221Z"
   },
   {
    "duration": 5,
    "start_time": "2022-07-07T12:12:53.790Z"
   },
   {
    "duration": 7,
    "start_time": "2022-07-07T12:13:28.870Z"
   },
   {
    "duration": 28,
    "start_time": "2022-07-07T12:14:33.843Z"
   },
   {
    "duration": 6,
    "start_time": "2022-07-07T12:20:54.583Z"
   },
   {
    "duration": 6,
    "start_time": "2022-07-07T12:21:12.559Z"
   },
   {
    "duration": 16,
    "start_time": "2022-07-07T12:27:08.346Z"
   },
   {
    "duration": 43,
    "start_time": "2022-07-07T12:27:36.103Z"
   },
   {
    "duration": 4,
    "start_time": "2022-07-07T12:36:40.751Z"
   },
   {
    "duration": 14,
    "start_time": "2022-07-07T12:37:01.952Z"
   },
   {
    "duration": 13,
    "start_time": "2022-07-07T12:44:20.091Z"
   },
   {
    "duration": 12,
    "start_time": "2022-07-07T12:44:28.579Z"
   },
   {
    "duration": 14,
    "start_time": "2022-07-07T12:44:35.514Z"
   },
   {
    "duration": 4,
    "start_time": "2022-07-07T12:47:35.635Z"
   },
   {
    "duration": 14,
    "start_time": "2022-07-07T12:49:13.006Z"
   },
   {
    "duration": 18,
    "start_time": "2022-07-07T12:49:18.731Z"
   },
   {
    "duration": 100,
    "start_time": "2022-07-07T13:34:47.217Z"
   },
   {
    "duration": 21,
    "start_time": "2022-07-07T13:35:44.462Z"
   },
   {
    "duration": 37,
    "start_time": "2022-07-07T13:36:12.897Z"
   },
   {
    "duration": 90,
    "start_time": "2022-07-07T13:37:08.450Z"
   },
   {
    "duration": 65,
    "start_time": "2022-07-07T13:37:29.425Z"
   },
   {
    "duration": 6,
    "start_time": "2022-07-07T13:37:39.817Z"
   },
   {
    "duration": 22,
    "start_time": "2022-07-07T13:37:42.816Z"
   },
   {
    "duration": 18,
    "start_time": "2022-07-07T13:39:40.723Z"
   },
   {
    "duration": 6,
    "start_time": "2022-07-07T13:46:38.854Z"
   },
   {
    "duration": 8,
    "start_time": "2022-07-07T13:47:14.038Z"
   },
   {
    "duration": 75,
    "start_time": "2022-07-07T13:47:32.855Z"
   },
   {
    "duration": 12,
    "start_time": "2022-07-07T14:05:05.193Z"
   },
   {
    "duration": 23,
    "start_time": "2022-07-07T14:05:19.973Z"
   },
   {
    "duration": 3,
    "start_time": "2022-07-07T14:10:31.292Z"
   },
   {
    "duration": 4,
    "start_time": "2022-07-07T14:10:33.001Z"
   },
   {
    "duration": 5,
    "start_time": "2022-07-07T14:10:34.151Z"
   },
   {
    "duration": 17,
    "start_time": "2022-07-07T14:10:35.956Z"
   },
   {
    "duration": 13,
    "start_time": "2022-07-07T14:11:30.314Z"
   },
   {
    "duration": 15,
    "start_time": "2022-07-07T14:11:33.469Z"
   },
   {
    "duration": 10,
    "start_time": "2022-07-07T14:30:09.162Z"
   },
   {
    "duration": 10,
    "start_time": "2022-07-07T14:31:21.769Z"
   },
   {
    "duration": 16,
    "start_time": "2022-07-07T14:32:34.094Z"
   },
   {
    "duration": 26,
    "start_time": "2022-07-07T14:32:37.942Z"
   },
   {
    "duration": 19,
    "start_time": "2022-07-07T14:33:19.056Z"
   },
   {
    "duration": 84,
    "start_time": "2022-07-07T14:33:59.089Z"
   },
   {
    "duration": 11,
    "start_time": "2022-07-07T14:34:01.085Z"
   },
   {
    "duration": 8,
    "start_time": "2022-07-07T14:34:17.384Z"
   },
   {
    "duration": 13,
    "start_time": "2022-07-07T14:34:38.537Z"
   },
   {
    "duration": 102,
    "start_time": "2022-07-07T14:43:46.372Z"
   },
   {
    "duration": 9,
    "start_time": "2022-07-07T14:43:48.795Z"
   },
   {
    "duration": 9,
    "start_time": "2022-07-07T14:43:51.777Z"
   },
   {
    "duration": 6,
    "start_time": "2022-07-07T14:43:57.682Z"
   },
   {
    "duration": 150,
    "start_time": "2022-07-07T15:08:24.288Z"
   },
   {
    "duration": 181,
    "start_time": "2022-07-07T15:08:26.382Z"
   },
   {
    "duration": 192,
    "start_time": "2022-07-07T15:09:47.788Z"
   },
   {
    "duration": 658,
    "start_time": "2022-07-07T15:12:33.725Z"
   },
   {
    "duration": 11,
    "start_time": "2022-07-07T15:12:44.699Z"
   },
   {
    "duration": 118,
    "start_time": "2022-07-07T15:13:10.986Z"
   },
   {
    "duration": 117,
    "start_time": "2022-07-07T15:13:28.709Z"
   },
   {
    "duration": 12,
    "start_time": "2022-07-07T15:13:54.091Z"
   },
   {
    "duration": 187,
    "start_time": "2022-07-07T15:17:06.992Z"
   },
   {
    "duration": 226,
    "start_time": "2022-07-07T15:17:14.527Z"
   },
   {
    "duration": 191,
    "start_time": "2022-07-07T15:17:23.857Z"
   },
   {
    "duration": 454,
    "start_time": "2022-07-07T15:18:04.697Z"
   },
   {
    "duration": 314,
    "start_time": "2022-07-07T15:18:18.540Z"
   },
   {
    "duration": 290,
    "start_time": "2022-07-07T15:18:31.089Z"
   },
   {
    "duration": 273,
    "start_time": "2022-07-07T15:18:51.543Z"
   },
   {
    "duration": 191,
    "start_time": "2022-07-07T15:19:17.219Z"
   },
   {
    "duration": 167,
    "start_time": "2022-07-07T17:16:12.045Z"
   },
   {
    "duration": 165,
    "start_time": "2022-07-07T17:16:37.613Z"
   },
   {
    "duration": 8,
    "start_time": "2022-07-07T17:17:25.992Z"
   },
   {
    "duration": 2124,
    "start_time": "2022-07-07T17:17:34.133Z"
   },
   {
    "duration": 13,
    "start_time": "2022-07-07T17:17:40.844Z"
   },
   {
    "duration": 13,
    "start_time": "2022-07-07T17:17:44.200Z"
   },
   {
    "duration": 11,
    "start_time": "2022-07-07T17:17:45.097Z"
   },
   {
    "duration": 4,
    "start_time": "2022-07-07T17:17:46.544Z"
   },
   {
    "duration": 25,
    "start_time": "2022-07-07T17:17:52.340Z"
   },
   {
    "duration": 17,
    "start_time": "2022-07-07T17:17:55.900Z"
   },
   {
    "duration": 7,
    "start_time": "2022-07-07T17:17:58.830Z"
   },
   {
    "duration": 71,
    "start_time": "2022-07-07T17:18:00.207Z"
   },
   {
    "duration": 14,
    "start_time": "2022-07-07T17:18:04.057Z"
   },
   {
    "duration": 5,
    "start_time": "2022-07-07T17:18:05.094Z"
   },
   {
    "duration": 5,
    "start_time": "2022-07-07T17:18:07.229Z"
   },
   {
    "duration": 5,
    "start_time": "2022-07-07T17:18:08.193Z"
   },
   {
    "duration": 6,
    "start_time": "2022-07-07T17:18:10.544Z"
   },
   {
    "duration": 9,
    "start_time": "2022-07-07T17:18:11.659Z"
   },
   {
    "duration": 81,
    "start_time": "2022-07-07T17:18:15.035Z"
   },
   {
    "duration": 8,
    "start_time": "2022-07-07T17:18:16.497Z"
   },
   {
    "duration": 6,
    "start_time": "2022-07-07T17:18:18.944Z"
   },
   {
    "duration": 171,
    "start_time": "2022-07-07T17:18:39.147Z"
   },
   {
    "duration": 292,
    "start_time": "2022-07-07T17:18:47.141Z"
   },
   {
    "duration": 286,
    "start_time": "2022-07-07T17:18:49.894Z"
   },
   {
    "duration": 12,
    "start_time": "2022-07-07T17:18:55.024Z"
   },
   {
    "duration": 291,
    "start_time": "2022-07-07T17:19:12.201Z"
   },
   {
    "duration": 464,
    "start_time": "2022-07-07T17:19:27.824Z"
   },
   {
    "duration": 288,
    "start_time": "2022-07-07T17:19:35.591Z"
   },
   {
    "duration": 437,
    "start_time": "2022-07-07T17:20:13.305Z"
   },
   {
    "duration": 6,
    "start_time": "2022-07-07T17:21:10.678Z"
   },
   {
    "duration": 8,
    "start_time": "2022-07-07T17:21:44.976Z"
   },
   {
    "duration": 7,
    "start_time": "2022-07-07T17:22:02.674Z"
   },
   {
    "duration": 440,
    "start_time": "2022-07-07T17:22:38.483Z"
   },
   {
    "duration": 8,
    "start_time": "2022-07-07T17:23:29.471Z"
   },
   {
    "duration": 7,
    "start_time": "2022-07-07T17:24:05.277Z"
   },
   {
    "duration": 17,
    "start_time": "2022-07-07T17:24:38.611Z"
   },
   {
    "duration": 152,
    "start_time": "2022-07-07T17:25:45.701Z"
   },
   {
    "duration": 169,
    "start_time": "2022-07-07T17:25:58.551Z"
   },
   {
    "duration": 19,
    "start_time": "2022-07-07T17:28:25.659Z"
   },
   {
    "duration": 9,
    "start_time": "2022-07-07T17:28:39.218Z"
   },
   {
    "duration": 3,
    "start_time": "2022-07-07T17:31:03.045Z"
   },
   {
    "duration": 8,
    "start_time": "2022-07-07T17:31:57.785Z"
   },
   {
    "duration": 7,
    "start_time": "2022-07-07T17:32:05.884Z"
   },
   {
    "duration": 34,
    "start_time": "2022-07-07T17:32:57.086Z"
   },
   {
    "duration": 6,
    "start_time": "2022-07-07T17:33:37.512Z"
   },
   {
    "duration": 26,
    "start_time": "2022-07-07T17:35:02.624Z"
   },
   {
    "duration": 12,
    "start_time": "2022-07-07T17:35:36.426Z"
   },
   {
    "duration": 34,
    "start_time": "2022-07-07T17:37:35.646Z"
   },
   {
    "duration": 26,
    "start_time": "2022-07-07T17:37:41.912Z"
   },
   {
    "duration": 86,
    "start_time": "2022-07-07T17:41:50.192Z"
   },
   {
    "duration": 7,
    "start_time": "2022-07-07T17:42:07.100Z"
   },
   {
    "duration": 26,
    "start_time": "2022-07-07T17:43:13.891Z"
   },
   {
    "duration": 2108,
    "start_time": "2022-07-07T17:52:41.689Z"
   },
   {
    "duration": 13,
    "start_time": "2022-07-07T17:52:46.517Z"
   },
   {
    "duration": 10,
    "start_time": "2022-07-07T17:52:48.578Z"
   },
   {
    "duration": 9,
    "start_time": "2022-07-07T17:52:49.787Z"
   },
   {
    "duration": 4,
    "start_time": "2022-07-07T17:52:50.877Z"
   },
   {
    "duration": 22,
    "start_time": "2022-07-07T17:52:52.309Z"
   },
   {
    "duration": 18,
    "start_time": "2022-07-07T17:52:54.343Z"
   },
   {
    "duration": 9,
    "start_time": "2022-07-07T17:52:56.889Z"
   },
   {
    "duration": 81,
    "start_time": "2022-07-07T17:52:58.753Z"
   },
   {
    "duration": 9,
    "start_time": "2022-07-07T17:53:01.745Z"
   },
   {
    "duration": 4,
    "start_time": "2022-07-07T17:53:02.579Z"
   },
   {
    "duration": 6,
    "start_time": "2022-07-07T17:53:03.290Z"
   },
   {
    "duration": 5,
    "start_time": "2022-07-07T17:53:04.824Z"
   },
   {
    "duration": 8,
    "start_time": "2022-07-07T17:53:06.318Z"
   },
   {
    "duration": 85,
    "start_time": "2022-07-07T17:53:10.440Z"
   },
   {
    "duration": 6,
    "start_time": "2022-07-07T17:53:11.551Z"
   },
   {
    "duration": 5,
    "start_time": "2022-07-07T17:53:14.805Z"
   },
   {
    "duration": 435,
    "start_time": "2022-07-07T17:53:17.243Z"
   },
   {
    "duration": 12,
    "start_time": "2022-07-07T17:53:20.494Z"
   },
   {
    "duration": 497,
    "start_time": "2022-07-07T17:53:23.551Z"
   },
   {
    "duration": 8,
    "start_time": "2022-07-07T17:53:26.293Z"
   },
   {
    "duration": 6,
    "start_time": "2022-07-07T17:53:28.890Z"
   },
   {
    "duration": 3,
    "start_time": "2022-07-07T17:53:31.040Z"
   },
   {
    "duration": 9,
    "start_time": "2022-07-07T17:53:34.187Z"
   },
   {
    "duration": 6,
    "start_time": "2022-07-07T17:53:35.922Z"
   },
   {
    "duration": 9,
    "start_time": "2022-07-07T17:53:38.583Z"
   },
   {
    "duration": 11,
    "start_time": "2022-07-07T17:54:01.683Z"
   },
   {
    "duration": 8,
    "start_time": "2022-07-07T17:55:01.525Z"
   },
   {
    "duration": 168,
    "start_time": "2022-07-07T17:58:17.891Z"
   },
   {
    "duration": 266,
    "start_time": "2022-07-07T17:59:06.542Z"
   },
   {
    "duration": 218,
    "start_time": "2022-07-07T17:59:46.086Z"
   },
   {
    "duration": 155,
    "start_time": "2022-07-07T18:00:22.000Z"
   },
   {
    "duration": 141,
    "start_time": "2022-07-07T18:00:37.582Z"
   },
   {
    "duration": 282,
    "start_time": "2022-07-07T18:00:46.909Z"
   },
   {
    "duration": 246,
    "start_time": "2022-07-07T18:01:09.598Z"
   },
   {
    "duration": 212,
    "start_time": "2022-07-07T18:01:47.776Z"
   },
   {
    "duration": 7,
    "start_time": "2022-07-07T18:05:12.377Z"
   },
   {
    "duration": 2443,
    "start_time": "2022-07-07T18:13:25.476Z"
   },
   {
    "duration": 17,
    "start_time": "2022-07-07T18:14:55.673Z"
   },
   {
    "duration": 12,
    "start_time": "2022-07-07T18:15:49.191Z"
   },
   {
    "duration": 11,
    "start_time": "2022-07-07T18:15:53.681Z"
   },
   {
    "duration": 5,
    "start_time": "2022-07-07T18:15:57.711Z"
   },
   {
    "duration": 17,
    "start_time": "2022-07-07T18:16:22.496Z"
   },
   {
    "duration": 30,
    "start_time": "2022-07-07T18:16:32.673Z"
   },
   {
    "duration": 18,
    "start_time": "2022-07-07T18:16:36.677Z"
   },
   {
    "duration": 9,
    "start_time": "2022-07-07T18:16:42.747Z"
   },
   {
    "duration": 83,
    "start_time": "2022-07-07T18:16:48.006Z"
   },
   {
    "duration": 9,
    "start_time": "2022-07-07T18:16:55.782Z"
   },
   {
    "duration": 20,
    "start_time": "2022-07-07T18:17:27.348Z"
   },
   {
    "duration": 5,
    "start_time": "2022-07-07T18:17:37.643Z"
   },
   {
    "duration": 13,
    "start_time": "2022-07-07T18:17:45.409Z"
   },
   {
    "duration": 2262,
    "start_time": "2022-07-07T18:18:31.834Z"
   },
   {
    "duration": 10,
    "start_time": "2022-07-07T18:18:37.723Z"
   },
   {
    "duration": 9,
    "start_time": "2022-07-07T18:18:39.944Z"
   },
   {
    "duration": 9,
    "start_time": "2022-07-07T18:18:40.895Z"
   },
   {
    "duration": 4,
    "start_time": "2022-07-07T18:18:43.047Z"
   },
   {
    "duration": 33,
    "start_time": "2022-07-07T18:18:43.999Z"
   },
   {
    "duration": 24,
    "start_time": "2022-07-07T18:18:46.179Z"
   },
   {
    "duration": 8,
    "start_time": "2022-07-07T18:18:49.226Z"
   },
   {
    "duration": 74,
    "start_time": "2022-07-07T18:18:50.606Z"
   },
   {
    "duration": 8,
    "start_time": "2022-07-07T18:18:54.297Z"
   },
   {
    "duration": 19,
    "start_time": "2022-07-07T18:19:15.618Z"
   },
   {
    "duration": 6,
    "start_time": "2022-07-07T18:19:17.924Z"
   },
   {
    "duration": 5,
    "start_time": "2022-07-07T18:19:18.938Z"
   },
   {
    "duration": 6,
    "start_time": "2022-07-07T18:19:23.995Z"
   },
   {
    "duration": 10,
    "start_time": "2022-07-07T18:19:25.599Z"
   },
   {
    "duration": 12,
    "start_time": "2022-07-07T18:19:28.856Z"
   },
   {
    "duration": 8,
    "start_time": "2022-07-07T18:19:32.234Z"
   },
   {
    "duration": 468,
    "start_time": "2022-07-07T18:20:40.378Z"
   },
   {
    "duration": 9,
    "start_time": "2022-07-07T18:20:43.919Z"
   },
   {
    "duration": 287,
    "start_time": "2022-07-07T18:20:47.936Z"
   },
   {
    "duration": 6,
    "start_time": "2022-07-07T18:20:50.378Z"
   },
   {
    "duration": 7,
    "start_time": "2022-07-07T18:20:52.112Z"
   },
   {
    "duration": 4,
    "start_time": "2022-07-07T18:20:54.648Z"
   },
   {
    "duration": 9,
    "start_time": "2022-07-07T18:20:57.843Z"
   },
   {
    "duration": 8,
    "start_time": "2022-07-07T18:21:04.722Z"
   },
   {
    "duration": 9,
    "start_time": "2022-07-07T18:21:10.707Z"
   },
   {
    "duration": 160,
    "start_time": "2022-07-07T18:21:15.778Z"
   },
   {
    "duration": 211,
    "start_time": "2022-07-07T18:21:27.999Z"
   },
   {
    "duration": 13,
    "start_time": "2022-07-07T18:38:06.961Z"
   },
   {
    "duration": 190,
    "start_time": "2022-07-07T18:38:47.237Z"
   },
   {
    "duration": 179,
    "start_time": "2022-07-07T18:39:22.173Z"
   },
   {
    "duration": 169,
    "start_time": "2022-07-07T18:40:06.666Z"
   },
   {
    "duration": 8,
    "start_time": "2022-07-07T18:40:37.947Z"
   },
   {
    "duration": 394,
    "start_time": "2022-07-07T18:47:33.376Z"
   },
   {
    "duration": 209,
    "start_time": "2022-07-07T18:47:40.632Z"
   },
   {
    "duration": 175,
    "start_time": "2022-07-07T18:47:43.756Z"
   },
   {
    "duration": 183,
    "start_time": "2022-07-07T18:47:47.595Z"
   },
   {
    "duration": 184,
    "start_time": "2022-07-07T18:47:56.695Z"
   },
   {
    "duration": 171,
    "start_time": "2022-07-07T18:48:01.059Z"
   },
   {
    "duration": 197,
    "start_time": "2022-07-07T18:48:27.634Z"
   },
   {
    "duration": 8,
    "start_time": "2022-07-08T11:28:46.611Z"
   },
   {
    "duration": 22,
    "start_time": "2022-07-08T11:28:57.757Z"
   },
   {
    "duration": 8,
    "start_time": "2022-07-08T11:29:49.733Z"
   },
   {
    "duration": 10,
    "start_time": "2022-07-08T11:30:16.649Z"
   },
   {
    "duration": 8,
    "start_time": "2022-07-08T11:30:23.408Z"
   },
   {
    "duration": 6,
    "start_time": "2022-07-08T11:30:49.713Z"
   },
   {
    "duration": 14,
    "start_time": "2022-07-08T11:30:57.948Z"
   },
   {
    "duration": 10,
    "start_time": "2022-07-08T11:31:21.689Z"
   },
   {
    "duration": 9,
    "start_time": "2022-07-08T11:31:32.081Z"
   },
   {
    "duration": 46,
    "start_time": "2022-07-08T11:32:03.689Z"
   },
   {
    "duration": 7,
    "start_time": "2022-07-08T11:34:47.570Z"
   },
   {
    "duration": 41,
    "start_time": "2022-07-08T11:35:09.132Z"
   },
   {
    "duration": 10,
    "start_time": "2022-07-08T11:36:10.284Z"
   },
   {
    "duration": 9,
    "start_time": "2022-07-08T11:36:43.304Z"
   },
   {
    "duration": 36,
    "start_time": "2022-07-08T11:36:49.233Z"
   },
   {
    "duration": 1711,
    "start_time": "2022-07-08T11:37:08.069Z"
   },
   {
    "duration": 2288,
    "start_time": "2022-07-08T11:37:28.369Z"
   },
   {
    "duration": 42,
    "start_time": "2022-07-08T11:38:33.438Z"
   },
   {
    "duration": 40,
    "start_time": "2022-07-08T11:39:29.789Z"
   },
   {
    "duration": 82,
    "start_time": "2022-07-08T11:40:00.286Z"
   },
   {
    "duration": 13,
    "start_time": "2022-07-08T11:40:24.616Z"
   },
   {
    "duration": 10,
    "start_time": "2022-07-08T11:44:04.871Z"
   },
   {
    "duration": 10,
    "start_time": "2022-07-08T11:44:19.134Z"
   },
   {
    "duration": 10,
    "start_time": "2022-07-08T11:44:32.461Z"
   },
   {
    "duration": 9,
    "start_time": "2022-07-08T11:44:42.366Z"
   },
   {
    "duration": 9,
    "start_time": "2022-07-08T11:44:54.771Z"
   },
   {
    "duration": 12,
    "start_time": "2022-07-08T11:45:10.245Z"
   },
   {
    "duration": 4,
    "start_time": "2022-07-08T11:45:32.140Z"
   },
   {
    "duration": 26,
    "start_time": "2022-07-08T11:46:58.135Z"
   },
   {
    "duration": 35,
    "start_time": "2022-07-08T11:49:03.345Z"
   },
   {
    "duration": 61,
    "start_time": "2022-07-08T11:50:08.670Z"
   },
   {
    "duration": 23,
    "start_time": "2022-07-08T11:50:35.450Z"
   },
   {
    "duration": 6,
    "start_time": "2022-07-08T11:50:46.966Z"
   },
   {
    "duration": 25,
    "start_time": "2022-07-08T11:50:59.784Z"
   },
   {
    "duration": 7,
    "start_time": "2022-07-08T11:54:50.248Z"
   },
   {
    "duration": 7,
    "start_time": "2022-07-08T11:55:04.129Z"
   },
   {
    "duration": 8,
    "start_time": "2022-07-08T11:55:24.044Z"
   },
   {
    "duration": 10,
    "start_time": "2022-07-08T11:55:40.181Z"
   },
   {
    "duration": 10,
    "start_time": "2022-07-08T11:55:54.581Z"
   },
   {
    "duration": 43,
    "start_time": "2022-07-08T11:58:52.594Z"
   },
   {
    "duration": 39,
    "start_time": "2022-07-08T11:59:46.830Z"
   },
   {
    "duration": 44,
    "start_time": "2022-07-08T12:00:16.244Z"
   },
   {
    "duration": 36,
    "start_time": "2022-07-08T12:01:16.962Z"
   },
   {
    "duration": 41,
    "start_time": "2022-07-08T12:04:08.661Z"
   },
   {
    "duration": 43,
    "start_time": "2022-07-08T12:04:43.970Z"
   },
   {
    "duration": 7,
    "start_time": "2022-07-08T12:05:06.700Z"
   },
   {
    "duration": 10,
    "start_time": "2022-07-08T12:05:38.764Z"
   },
   {
    "duration": 11,
    "start_time": "2022-07-08T12:05:49.810Z"
   },
   {
    "duration": 50,
    "start_time": "2022-07-08T12:06:15.450Z"
   },
   {
    "duration": 6,
    "start_time": "2022-07-08T12:16:01.485Z"
   },
   {
    "duration": 5,
    "start_time": "2022-07-08T12:16:31.786Z"
   },
   {
    "duration": 6,
    "start_time": "2022-07-08T12:16:52.206Z"
   },
   {
    "duration": 11,
    "start_time": "2022-07-08T12:17:17.345Z"
   },
   {
    "duration": 10,
    "start_time": "2022-07-08T12:17:26.756Z"
   },
   {
    "duration": 8,
    "start_time": "2022-07-08T12:17:31.454Z"
   },
   {
    "duration": 8,
    "start_time": "2022-07-08T12:18:19.113Z"
   },
   {
    "duration": 8,
    "start_time": "2022-07-08T12:18:49.685Z"
   },
   {
    "duration": 9,
    "start_time": "2022-07-08T12:18:54.284Z"
   },
   {
    "duration": 11,
    "start_time": "2022-07-08T12:19:19.763Z"
   },
   {
    "duration": 86,
    "start_time": "2022-07-08T12:22:26.640Z"
   },
   {
    "duration": 24,
    "start_time": "2022-07-08T12:22:28.489Z"
   },
   {
    "duration": 21,
    "start_time": "2022-07-08T12:22:30.449Z"
   },
   {
    "duration": 112,
    "start_time": "2022-07-08T12:22:33.095Z"
   },
   {
    "duration": 1869,
    "start_time": "2022-07-08T12:23:01.375Z"
   },
   {
    "duration": 13,
    "start_time": "2022-07-08T12:30:56.437Z"
   },
   {
    "duration": 10,
    "start_time": "2022-07-08T12:30:57.784Z"
   },
   {
    "duration": 4,
    "start_time": "2022-07-08T12:36:34.208Z"
   },
   {
    "duration": 21,
    "start_time": "2022-07-08T12:37:42.491Z"
   },
   {
    "duration": 5,
    "start_time": "2022-07-08T12:38:04.029Z"
   },
   {
    "duration": 20,
    "start_time": "2022-07-08T12:38:05.594Z"
   },
   {
    "duration": 23,
    "start_time": "2022-07-08T12:39:30.473Z"
   },
   {
    "duration": 108,
    "start_time": "2022-07-08T12:49:13.299Z"
   },
   {
    "duration": 31,
    "start_time": "2022-07-08T12:49:38.420Z"
   },
   {
    "duration": 12,
    "start_time": "2022-07-08T12:50:06.399Z"
   },
   {
    "duration": 77,
    "start_time": "2022-07-08T12:50:10.922Z"
   },
   {
    "duration": 11,
    "start_time": "2022-07-08T13:49:19.583Z"
   },
   {
    "duration": 8,
    "start_time": "2022-07-08T13:50:17.436Z"
   },
   {
    "duration": 10,
    "start_time": "2022-07-08T13:50:44.703Z"
   },
   {
    "duration": 9,
    "start_time": "2022-07-08T13:50:51.545Z"
   },
   {
    "duration": 8,
    "start_time": "2022-07-08T13:52:34.369Z"
   },
   {
    "duration": 8,
    "start_time": "2022-07-08T13:52:49.607Z"
   },
   {
    "duration": 11,
    "start_time": "2022-07-08T13:53:22.633Z"
   },
   {
    "duration": 8,
    "start_time": "2022-07-08T13:53:27.952Z"
   },
   {
    "duration": 64,
    "start_time": "2022-07-08T13:53:41.764Z"
   },
   {
    "duration": 8,
    "start_time": "2022-07-08T13:56:51.500Z"
   },
   {
    "duration": 17,
    "start_time": "2022-07-08T14:01:37.013Z"
   },
   {
    "duration": 11,
    "start_time": "2022-07-08T14:06:26.693Z"
   },
   {
    "duration": 11,
    "start_time": "2022-07-08T14:10:58.892Z"
   },
   {
    "duration": 90,
    "start_time": "2022-07-08T14:11:03.922Z"
   },
   {
    "duration": 44,
    "start_time": "2022-07-08T14:11:05.653Z"
   },
   {
    "duration": 22,
    "start_time": "2022-07-08T14:11:09.287Z"
   },
   {
    "duration": 106,
    "start_time": "2022-07-08T14:11:11.521Z"
   },
   {
    "duration": 3272,
    "start_time": "2022-07-08T14:11:15.476Z"
   },
   {
    "duration": 22,
    "start_time": "2022-07-08T14:11:21.858Z"
   },
   {
    "duration": 19,
    "start_time": "2022-07-08T14:11:24.252Z"
   },
   {
    "duration": 12,
    "start_time": "2022-07-08T14:11:25.539Z"
   },
   {
    "duration": 11,
    "start_time": "2022-07-08T14:11:26.879Z"
   },
   {
    "duration": 8,
    "start_time": "2022-07-08T14:11:28.429Z"
   },
   {
    "duration": 33,
    "start_time": "2022-07-08T14:11:32.019Z"
   },
   {
    "duration": 24,
    "start_time": "2022-07-08T14:11:37.504Z"
   },
   {
    "duration": 10,
    "start_time": "2022-07-08T14:11:41.635Z"
   },
   {
    "duration": 128,
    "start_time": "2022-07-08T14:11:43.426Z"
   },
   {
    "duration": 11,
    "start_time": "2022-07-08T14:11:50.442Z"
   },
   {
    "duration": 6,
    "start_time": "2022-07-08T14:11:51.827Z"
   },
   {
    "duration": 7,
    "start_time": "2022-07-08T14:11:53.300Z"
   },
   {
    "duration": 14,
    "start_time": "2022-07-08T14:11:55.262Z"
   },
   {
    "duration": 138,
    "start_time": "2022-07-08T14:12:00.845Z"
   },
   {
    "duration": 11,
    "start_time": "2022-07-08T14:12:05.908Z"
   },
   {
    "duration": 12,
    "start_time": "2022-07-08T14:12:07.889Z"
   },
   {
    "duration": 10,
    "start_time": "2022-07-08T14:12:10.222Z"
   },
   {
    "duration": 11,
    "start_time": "2022-07-08T14:12:11.723Z"
   },
   {
    "duration": 8,
    "start_time": "2022-07-08T14:12:15.682Z"
   },
   {
    "duration": 40,
    "start_time": "2022-07-08T14:12:18.052Z"
   },
   {
    "duration": 7,
    "start_time": "2022-07-08T14:12:22.699Z"
   },
   {
    "duration": 19,
    "start_time": "2022-07-08T14:12:26.708Z"
   },
   {
    "duration": 9,
    "start_time": "2022-07-08T14:23:57.551Z"
   },
   {
    "duration": 8,
    "start_time": "2022-07-08T14:23:58.919Z"
   },
   {
    "duration": 9,
    "start_time": "2022-07-08T14:23:59.995Z"
   },
   {
    "duration": 10,
    "start_time": "2022-07-08T14:24:04.601Z"
   },
   {
    "duration": 56,
    "start_time": "2022-07-08T14:25:20.134Z"
   },
   {
    "duration": 9,
    "start_time": "2022-07-08T14:30:20.333Z"
   },
   {
    "duration": 10,
    "start_time": "2022-07-08T14:30:30.758Z"
   },
   {
    "duration": 11,
    "start_time": "2022-07-08T14:30:46.092Z"
   },
   {
    "duration": 3467,
    "start_time": "2022-07-08T14:31:45.627Z"
   },
   {
    "duration": 56,
    "start_time": "2022-07-08T14:32:51.518Z"
   },
   {
    "duration": 46,
    "start_time": "2022-07-08T14:32:53.647Z"
   },
   {
    "duration": 28,
    "start_time": "2022-07-08T14:40:25.553Z"
   },
   {
    "duration": 38,
    "start_time": "2022-07-08T14:42:49.387Z"
   },
   {
    "duration": 11,
    "start_time": "2022-07-08T14:44:34.369Z"
   },
   {
    "duration": 23,
    "start_time": "2022-07-08T14:44:39.244Z"
   },
   {
    "duration": 93,
    "start_time": "2022-07-08T14:45:14.134Z"
   },
   {
    "duration": 9,
    "start_time": "2022-07-08T14:45:18.207Z"
   },
   {
    "duration": 79,
    "start_time": "2022-07-08T14:47:02.692Z"
   },
   {
    "duration": 26,
    "start_time": "2022-07-08T14:47:04.714Z"
   },
   {
    "duration": 21,
    "start_time": "2022-07-08T14:47:06.353Z"
   },
   {
    "duration": 77,
    "start_time": "2022-07-08T14:47:08.520Z"
   },
   {
    "duration": 1929,
    "start_time": "2022-07-08T14:47:13.976Z"
   },
   {
    "duration": 10,
    "start_time": "2022-07-08T14:47:18.684Z"
   },
   {
    "duration": 10,
    "start_time": "2022-07-08T14:47:20.736Z"
   },
   {
    "duration": 10,
    "start_time": "2022-07-08T14:47:22.561Z"
   },
   {
    "duration": 3,
    "start_time": "2022-07-08T14:47:23.652Z"
   },
   {
    "duration": 6,
    "start_time": "2022-07-08T14:47:25.080Z"
   },
   {
    "duration": 24,
    "start_time": "2022-07-08T14:47:28.870Z"
   },
   {
    "duration": 23,
    "start_time": "2022-07-08T14:47:31.346Z"
   },
   {
    "duration": 12,
    "start_time": "2022-07-08T14:47:34.062Z"
   },
   {
    "duration": 67,
    "start_time": "2022-07-08T14:47:36.121Z"
   },
   {
    "duration": 66,
    "start_time": "2022-07-08T14:47:38.736Z"
   },
   {
    "duration": 50,
    "start_time": "2022-07-08T14:47:40.880Z"
   },
   {
    "duration": 11,
    "start_time": "2022-07-08T14:47:45.053Z"
   },
   {
    "duration": 6,
    "start_time": "2022-07-08T14:47:46.253Z"
   },
   {
    "duration": 4,
    "start_time": "2022-07-08T14:47:47.216Z"
   },
   {
    "duration": 7,
    "start_time": "2022-07-08T14:47:49.943Z"
   },
   {
    "duration": 77,
    "start_time": "2022-07-08T14:47:51.847Z"
   },
   {
    "duration": 9,
    "start_time": "2022-07-08T14:47:55.835Z"
   },
   {
    "duration": 13,
    "start_time": "2022-07-08T14:47:57.285Z"
   },
   {
    "duration": 10,
    "start_time": "2022-07-08T14:47:59.117Z"
   },
   {
    "duration": 13,
    "start_time": "2022-07-08T14:48:01.770Z"
   },
   {
    "duration": 6,
    "start_time": "2022-07-08T14:48:03.694Z"
   },
   {
    "duration": 23,
    "start_time": "2022-07-08T14:48:06.118Z"
   },
   {
    "duration": 5,
    "start_time": "2022-07-08T14:48:09.333Z"
   },
   {
    "duration": 9,
    "start_time": "2022-07-08T14:48:11.815Z"
   },
   {
    "duration": 24,
    "start_time": "2022-07-08T14:48:13.360Z"
   },
   {
    "duration": 40,
    "start_time": "2022-07-08T14:48:17.378Z"
   },
   {
    "duration": 8,
    "start_time": "2022-07-08T14:48:19.885Z"
   },
   {
    "duration": 12,
    "start_time": "2022-07-08T14:48:22.269Z"
   },
   {
    "duration": 25,
    "start_time": "2022-07-08T14:48:38.941Z"
   },
   {
    "duration": 7,
    "start_time": "2022-07-08T15:01:03.490Z"
   },
   {
    "duration": 4,
    "start_time": "2022-07-08T15:05:49.083Z"
   },
   {
    "duration": 9,
    "start_time": "2022-07-08T15:05:50.413Z"
   },
   {
    "duration": 11,
    "start_time": "2022-07-08T15:05:51.737Z"
   },
   {
    "duration": 9,
    "start_time": "2022-07-08T15:08:41.259Z"
   },
   {
    "duration": 9,
    "start_time": "2022-07-08T15:10:06.932Z"
   },
   {
    "duration": 30,
    "start_time": "2022-07-08T15:10:08.748Z"
   },
   {
    "duration": 362,
    "start_time": "2022-07-08T15:10:19.975Z"
   },
   {
    "duration": 10,
    "start_time": "2022-07-08T15:10:28.178Z"
   },
   {
    "duration": 418,
    "start_time": "2022-07-08T15:12:04.454Z"
   },
   {
    "duration": 5,
    "start_time": "2022-07-08T15:24:47.947Z"
   },
   {
    "duration": 6,
    "start_time": "2022-07-08T15:24:48.879Z"
   },
   {
    "duration": 8,
    "start_time": "2022-07-08T15:24:49.568Z"
   },
   {
    "duration": 5,
    "start_time": "2022-07-08T15:24:50.277Z"
   },
   {
    "duration": 3,
    "start_time": "2022-07-08T15:24:51.541Z"
   },
   {
    "duration": 617,
    "start_time": "2022-07-08T15:24:52.539Z"
   },
   {
    "duration": 5,
    "start_time": "2022-07-08T15:24:53.378Z"
   },
   {
    "duration": 47,
    "start_time": "2022-07-08T17:00:51.057Z"
   },
   {
    "duration": 1193,
    "start_time": "2022-07-08T17:00:59.469Z"
   },
   {
    "duration": 34,
    "start_time": "2022-07-08T17:01:01.154Z"
   },
   {
    "duration": 15,
    "start_time": "2022-07-08T17:01:05.416Z"
   },
   {
    "duration": 77,
    "start_time": "2022-07-08T17:01:07.438Z"
   },
   {
    "duration": 2066,
    "start_time": "2022-07-08T17:01:09.699Z"
   },
   {
    "duration": 9,
    "start_time": "2022-07-08T17:01:14.996Z"
   },
   {
    "duration": 13,
    "start_time": "2022-07-08T17:01:17.318Z"
   },
   {
    "duration": 13,
    "start_time": "2022-07-08T17:01:18.349Z"
   },
   {
    "duration": 4,
    "start_time": "2022-07-08T17:01:19.794Z"
   },
   {
    "duration": 6,
    "start_time": "2022-07-08T17:01:21.859Z"
   },
   {
    "duration": 21,
    "start_time": "2022-07-08T17:01:23.931Z"
   },
   {
    "duration": 20,
    "start_time": "2022-07-08T17:01:26.641Z"
   },
   {
    "duration": 7,
    "start_time": "2022-07-08T17:01:29.558Z"
   },
   {
    "duration": 70,
    "start_time": "2022-07-08T17:01:31.652Z"
   },
   {
    "duration": 57,
    "start_time": "2022-07-08T17:01:35.048Z"
   },
   {
    "duration": 53,
    "start_time": "2022-07-08T17:01:37.459Z"
   },
   {
    "duration": 9,
    "start_time": "2022-07-08T17:01:41.151Z"
   },
   {
    "duration": 4,
    "start_time": "2022-07-08T17:01:42.290Z"
   },
   {
    "duration": 5,
    "start_time": "2022-07-08T17:01:43.211Z"
   },
   {
    "duration": 6,
    "start_time": "2022-07-08T17:01:45.148Z"
   },
   {
    "duration": 68,
    "start_time": "2022-07-08T17:01:48.057Z"
   },
   {
    "duration": 8,
    "start_time": "2022-07-08T17:01:49.845Z"
   },
   {
    "duration": 8,
    "start_time": "2022-07-08T17:01:51.949Z"
   },
   {
    "duration": 8,
    "start_time": "2022-07-08T17:01:53.201Z"
   },
   {
    "duration": 7,
    "start_time": "2022-07-08T17:01:54.640Z"
   },
   {
    "duration": 5,
    "start_time": "2022-07-08T17:01:57.111Z"
   },
   {
    "duration": 19,
    "start_time": "2022-07-08T17:01:59.282Z"
   },
   {
    "duration": 4,
    "start_time": "2022-07-08T17:02:01.695Z"
   },
   {
    "duration": 8,
    "start_time": "2022-07-08T17:02:03.209Z"
   },
   {
    "duration": 17,
    "start_time": "2022-07-08T17:02:05.787Z"
   },
   {
    "duration": 46,
    "start_time": "2022-07-08T17:02:07.549Z"
   },
   {
    "duration": 7,
    "start_time": "2022-07-08T17:02:10.342Z"
   },
   {
    "duration": 6,
    "start_time": "2022-07-08T17:02:13.045Z"
   },
   {
    "duration": 4,
    "start_time": "2022-07-08T17:02:15.190Z"
   },
   {
    "duration": 9,
    "start_time": "2022-07-08T17:02:16.755Z"
   },
   {
    "duration": 8,
    "start_time": "2022-07-08T17:02:18.723Z"
   },
   {
    "duration": 8,
    "start_time": "2022-07-08T17:02:21.057Z"
   },
   {
    "duration": 21,
    "start_time": "2022-07-08T17:02:22.108Z"
   },
   {
    "duration": 8,
    "start_time": "2022-07-08T17:02:24.610Z"
   },
   {
    "duration": 4,
    "start_time": "2022-07-08T17:02:28.531Z"
   },
   {
    "duration": 6,
    "start_time": "2022-07-08T17:02:30.898Z"
   },
   {
    "duration": 6,
    "start_time": "2022-07-08T17:02:32.823Z"
   },
   {
    "duration": 6,
    "start_time": "2022-07-08T17:02:33.763Z"
   },
   {
    "duration": 3,
    "start_time": "2022-07-08T17:02:34.577Z"
   },
   {
    "duration": 319,
    "start_time": "2022-07-08T17:02:36.524Z"
   },
   {
    "duration": 5,
    "start_time": "2022-07-08T17:02:37.461Z"
   },
   {
    "duration": 279,
    "start_time": "2022-07-08T17:02:39.679Z"
   },
   {
    "duration": 370,
    "start_time": "2022-07-08T17:02:49.664Z"
   },
   {
    "duration": 287,
    "start_time": "2022-07-08T17:03:07.343Z"
   },
   {
    "duration": 286,
    "start_time": "2022-07-08T17:03:12.189Z"
   },
   {
    "duration": 270,
    "start_time": "2022-07-08T17:03:23.939Z"
   },
   {
    "duration": 276,
    "start_time": "2022-07-08T17:03:36.106Z"
   },
   {
    "duration": 291,
    "start_time": "2022-07-08T17:03:46.046Z"
   },
   {
    "duration": 251,
    "start_time": "2022-07-08T17:04:13.189Z"
   },
   {
    "duration": 174,
    "start_time": "2022-07-08T17:04:38.022Z"
   },
   {
    "duration": 205,
    "start_time": "2022-07-08T17:04:55.803Z"
   },
   {
    "duration": 1446,
    "start_time": "2022-07-08T17:07:45.075Z"
   },
   {
    "duration": 3,
    "start_time": "2022-07-08T17:08:17.132Z"
   },
   {
    "duration": 18,
    "start_time": "2022-07-08T17:09:03.262Z"
   },
   {
    "duration": 7,
    "start_time": "2022-07-08T17:09:32.959Z"
   },
   {
    "duration": 7,
    "start_time": "2022-07-08T17:09:41.200Z"
   },
   {
    "duration": 16,
    "start_time": "2022-07-08T17:10:13.072Z"
   },
   {
    "duration": 3,
    "start_time": "2022-07-08T17:10:26.818Z"
   },
   {
    "duration": 16,
    "start_time": "2022-07-08T17:10:34.453Z"
   },
   {
    "duration": 153,
    "start_time": "2022-07-08T17:10:59.171Z"
   },
   {
    "duration": 147,
    "start_time": "2022-07-08T17:11:10.951Z"
   },
   {
    "duration": 198,
    "start_time": "2022-07-08T17:12:48.653Z"
   },
   {
    "duration": 177,
    "start_time": "2022-07-08T17:13:51.945Z"
   },
   {
    "duration": 216,
    "start_time": "2022-07-08T17:14:10.031Z"
   },
   {
    "duration": 190,
    "start_time": "2022-07-08T17:14:16.697Z"
   },
   {
    "duration": 186,
    "start_time": "2022-07-08T17:14:20.789Z"
   },
   {
    "duration": 170,
    "start_time": "2022-07-08T17:14:27.076Z"
   },
   {
    "duration": 241,
    "start_time": "2022-07-08T17:14:31.022Z"
   },
   {
    "duration": 200,
    "start_time": "2022-07-08T17:14:45.185Z"
   },
   {
    "duration": 269,
    "start_time": "2022-07-08T17:14:58.979Z"
   },
   {
    "duration": 437,
    "start_time": "2022-07-08T17:22:46.193Z"
   },
   {
    "duration": 357,
    "start_time": "2022-07-08T17:23:12.406Z"
   },
   {
    "duration": 477,
    "start_time": "2022-07-08T17:23:23.058Z"
   },
   {
    "duration": 342,
    "start_time": "2022-07-08T17:23:31.623Z"
   },
   {
    "duration": 13,
    "start_time": "2022-07-08T17:30:49.073Z"
   },
   {
    "duration": 10,
    "start_time": "2022-07-08T17:30:56.546Z"
   },
   {
    "duration": 37,
    "start_time": "2022-07-08T17:33:45.749Z"
   },
   {
    "duration": 8,
    "start_time": "2022-07-08T17:34:25.316Z"
   },
   {
    "duration": 6,
    "start_time": "2022-07-08T17:34:28.365Z"
   },
   {
    "duration": 760,
    "start_time": "2022-07-08T17:34:59.544Z"
   },
   {
    "duration": 32,
    "start_time": "2022-07-08T17:35:00.306Z"
   },
   {
    "duration": 17,
    "start_time": "2022-07-08T17:35:00.340Z"
   },
   {
    "duration": 146,
    "start_time": "2022-07-08T17:35:00.360Z"
   },
   {
    "duration": 2049,
    "start_time": "2022-07-08T17:35:00.508Z"
   },
   {
    "duration": 11,
    "start_time": "2022-07-08T17:35:02.559Z"
   },
   {
    "duration": 112,
    "start_time": "2022-07-08T17:35:02.572Z"
   },
   {
    "duration": 137,
    "start_time": "2022-07-08T17:35:02.685Z"
   },
   {
    "duration": 110,
    "start_time": "2022-07-08T17:35:02.824Z"
   },
   {
    "duration": 168,
    "start_time": "2022-07-08T17:35:02.938Z"
   },
   {
    "duration": 79,
    "start_time": "2022-07-08T17:35:03.107Z"
   },
   {
    "duration": 65,
    "start_time": "2022-07-08T17:35:03.188Z"
   },
   {
    "duration": 16,
    "start_time": "2022-07-08T17:35:03.254Z"
   },
   {
    "duration": 119,
    "start_time": "2022-07-08T17:35:03.271Z"
   },
   {
    "duration": 60,
    "start_time": "2022-07-08T17:35:03.392Z"
   },
   {
    "duration": 82,
    "start_time": "2022-07-08T17:35:03.454Z"
   },
   {
    "duration": 8,
    "start_time": "2022-07-08T17:35:03.538Z"
   },
   {
    "duration": 73,
    "start_time": "2022-07-08T17:35:03.548Z"
   },
   {
    "duration": 69,
    "start_time": "2022-07-08T17:35:03.622Z"
   },
   {
    "duration": 98,
    "start_time": "2022-07-08T17:35:03.693Z"
   },
   {
    "duration": 95,
    "start_time": "2022-07-08T17:35:03.793Z"
   },
   {
    "duration": 7,
    "start_time": "2022-07-08T17:35:03.890Z"
   },
   {
    "duration": 27,
    "start_time": "2022-07-08T17:35:03.898Z"
   },
   {
    "duration": 66,
    "start_time": "2022-07-08T17:35:03.927Z"
   },
   {
    "duration": 63,
    "start_time": "2022-07-08T17:35:03.994Z"
   },
   {
    "duration": 44,
    "start_time": "2022-07-08T17:35:04.059Z"
   },
   {
    "duration": 75,
    "start_time": "2022-07-08T17:35:04.104Z"
   },
   {
    "duration": 67,
    "start_time": "2022-07-08T17:35:04.184Z"
   },
   {
    "duration": 56,
    "start_time": "2022-07-08T17:35:04.253Z"
   },
   {
    "duration": 70,
    "start_time": "2022-07-08T17:35:04.310Z"
   },
   {
    "duration": 42,
    "start_time": "2022-07-08T17:35:04.381Z"
   },
   {
    "duration": 8,
    "start_time": "2022-07-08T17:35:04.424Z"
   },
   {
    "duration": 12,
    "start_time": "2022-07-08T17:35:04.434Z"
   },
   {
    "duration": 10,
    "start_time": "2022-07-08T17:35:04.448Z"
   },
   {
    "duration": 19,
    "start_time": "2022-07-08T17:35:04.460Z"
   },
   {
    "duration": 14,
    "start_time": "2022-07-08T17:35:04.480Z"
   },
   {
    "duration": 12,
    "start_time": "2022-07-08T17:35:04.496Z"
   },
   {
    "duration": 29,
    "start_time": "2022-07-08T17:35:04.510Z"
   },
   {
    "duration": 8,
    "start_time": "2022-07-08T17:35:04.541Z"
   },
   {
    "duration": 15,
    "start_time": "2022-07-08T17:35:04.550Z"
   },
   {
    "duration": 19,
    "start_time": "2022-07-08T17:35:04.567Z"
   },
   {
    "duration": 12,
    "start_time": "2022-07-08T17:35:04.588Z"
   },
   {
    "duration": 11,
    "start_time": "2022-07-08T17:35:04.601Z"
   },
   {
    "duration": 6,
    "start_time": "2022-07-08T17:35:04.614Z"
   },
   {
    "duration": 283,
    "start_time": "2022-07-08T17:35:04.621Z"
   },
   {
    "duration": 5,
    "start_time": "2022-07-08T17:35:04.905Z"
   },
   {
    "duration": 316,
    "start_time": "2022-07-08T17:35:04.911Z"
   },
   {
    "duration": 463,
    "start_time": "2022-07-08T17:35:05.229Z"
   },
   {
    "duration": 338,
    "start_time": "2022-07-08T17:35:05.694Z"
   },
   {
    "duration": 427,
    "start_time": "2022-07-08T17:35:06.034Z"
   },
   {
    "duration": 13,
    "start_time": "2022-07-08T17:35:06.463Z"
   },
   {
    "duration": 12,
    "start_time": "2022-07-08T17:35:06.478Z"
   },
   {
    "duration": 203,
    "start_time": "2022-07-08T17:35:06.503Z"
   },
   {
    "duration": 177,
    "start_time": "2022-07-08T17:35:06.707Z"
   },
   {
    "duration": 167,
    "start_time": "2022-07-08T17:35:06.885Z"
   },
   {
    "duration": 134,
    "start_time": "2022-07-08T17:35:07.054Z"
   },
   {
    "duration": 14,
    "start_time": "2022-07-08T17:35:07.190Z"
   },
   {
    "duration": 164,
    "start_time": "2022-07-08T17:35:07.205Z"
   },
   {
    "duration": 264,
    "start_time": "2022-07-08T17:35:07.370Z"
   },
   {
    "duration": 174,
    "start_time": "2022-07-08T17:35:07.635Z"
   },
   {
    "duration": 177,
    "start_time": "2022-07-08T17:35:07.810Z"
   },
   {
    "duration": 201,
    "start_time": "2022-07-08T17:35:07.990Z"
   },
   {
    "duration": 176,
    "start_time": "2022-07-08T17:35:08.193Z"
   },
   {
    "duration": 206,
    "start_time": "2022-07-08T17:35:08.371Z"
   },
   {
    "duration": 413,
    "start_time": "2022-07-08T17:35:26.434Z"
   },
   {
    "duration": 378,
    "start_time": "2022-07-08T17:35:33.927Z"
   },
   {
    "duration": 454,
    "start_time": "2022-07-08T17:35:49.590Z"
   },
   {
    "duration": 362,
    "start_time": "2022-07-08T17:36:23.370Z"
   },
   {
    "duration": 566,
    "start_time": "2022-07-08T17:39:00.027Z"
   },
   {
    "duration": 305,
    "start_time": "2022-07-08T17:39:27.283Z"
   },
   {
    "duration": 361,
    "start_time": "2022-07-08T17:39:40.257Z"
   },
   {
    "duration": 498,
    "start_time": "2022-07-08T17:40:00.284Z"
   },
   {
    "duration": 353,
    "start_time": "2022-07-08T17:41:22.951Z"
   },
   {
    "duration": 152,
    "start_time": "2022-07-08T17:49:21.239Z"
   },
   {
    "duration": 305,
    "start_time": "2022-07-08T17:49:49.408Z"
   },
   {
    "duration": 284,
    "start_time": "2022-07-08T17:50:01.637Z"
   },
   {
    "duration": 192,
    "start_time": "2022-07-08T17:51:27.778Z"
   },
   {
    "duration": 156,
    "start_time": "2022-07-08T17:52:07.854Z"
   },
   {
    "duration": 240,
    "start_time": "2022-07-08T17:52:18.377Z"
   },
   {
    "duration": 165,
    "start_time": "2022-07-08T17:52:46.260Z"
   },
   {
    "duration": 209,
    "start_time": "2022-07-08T17:52:56.219Z"
   },
   {
    "duration": 186,
    "start_time": "2022-07-08T17:53:17.123Z"
   },
   {
    "duration": 173,
    "start_time": "2022-07-08T17:53:38.371Z"
   },
   {
    "duration": 199,
    "start_time": "2022-07-08T17:53:42.133Z"
   },
   {
    "duration": 156,
    "start_time": "2022-07-08T17:53:48.617Z"
   },
   {
    "duration": 132,
    "start_time": "2022-07-08T17:54:30.276Z"
   },
   {
    "duration": 1618,
    "start_time": "2022-07-08T17:55:15.650Z"
   },
   {
    "duration": 145,
    "start_time": "2022-07-08T17:55:21.598Z"
   },
   {
    "duration": 159,
    "start_time": "2022-07-08T17:55:33.872Z"
   },
   {
    "duration": 207,
    "start_time": "2022-07-08T17:57:30.652Z"
   },
   {
    "duration": 294,
    "start_time": "2022-07-08T17:57:33.207Z"
   },
   {
    "duration": 227,
    "start_time": "2022-07-08T17:57:36.548Z"
   },
   {
    "duration": 198,
    "start_time": "2022-07-08T17:59:21.813Z"
   },
   {
    "duration": 146,
    "start_time": "2022-07-08T17:59:28.281Z"
   },
   {
    "duration": 155,
    "start_time": "2022-07-08T17:59:33.180Z"
   },
   {
    "duration": 176,
    "start_time": "2022-07-08T17:59:38.930Z"
   },
   {
    "duration": 183,
    "start_time": "2022-07-08T17:59:46.480Z"
   },
   {
    "duration": 151,
    "start_time": "2022-07-08T17:59:50.489Z"
   },
   {
    "duration": 151,
    "start_time": "2022-07-08T17:59:53.949Z"
   },
   {
    "duration": 158,
    "start_time": "2022-07-08T18:00:01.430Z"
   },
   {
    "duration": 159,
    "start_time": "2022-07-08T18:31:14.087Z"
   },
   {
    "duration": 118,
    "start_time": "2022-07-08T18:32:15.946Z"
   },
   {
    "duration": 118,
    "start_time": "2022-07-08T18:32:56.101Z"
   },
   {
    "duration": 10,
    "start_time": "2022-07-08T18:33:33.268Z"
   },
   {
    "duration": 184,
    "start_time": "2022-07-08T18:51:10.975Z"
   },
   {
    "duration": 10,
    "start_time": "2022-07-08T18:51:37.462Z"
   },
   {
    "duration": 201,
    "start_time": "2022-07-08T18:52:05.524Z"
   },
   {
    "duration": 257,
    "start_time": "2022-07-08T18:57:36.869Z"
   },
   {
    "duration": 113,
    "start_time": "2022-07-08T18:57:50.656Z"
   },
   {
    "duration": 13,
    "start_time": "2022-07-08T19:32:29.999Z"
   },
   {
    "duration": 6,
    "start_time": "2022-07-08T19:32:32.358Z"
   },
   {
    "duration": 6,
    "start_time": "2022-07-08T19:32:33.717Z"
   },
   {
    "duration": 13,
    "start_time": "2022-07-08T19:32:35.301Z"
   },
   {
    "duration": 400,
    "start_time": "2022-07-08T19:32:36.818Z"
   },
   {
    "duration": 6,
    "start_time": "2022-07-08T19:32:47.147Z"
   },
   {
    "duration": 7,
    "start_time": "2022-07-08T19:32:48.662Z"
   },
   {
    "duration": 5,
    "start_time": "2022-07-08T19:32:50.860Z"
   },
   {
    "duration": 27,
    "start_time": "2022-07-08T19:53:28.414Z"
   },
   {
    "duration": 29,
    "start_time": "2022-07-08T19:54:41.226Z"
   },
   {
    "duration": 22,
    "start_time": "2022-07-08T19:55:10.718Z"
   },
   {
    "duration": 28,
    "start_time": "2022-07-08T19:55:39.688Z"
   },
   {
    "duration": 24,
    "start_time": "2022-07-08T19:56:18.350Z"
   },
   {
    "duration": 26,
    "start_time": "2022-07-08T20:00:24.527Z"
   },
   {
    "duration": 16,
    "start_time": "2022-07-08T20:02:03.990Z"
   },
   {
    "duration": 15,
    "start_time": "2022-07-08T20:02:28.349Z"
   },
   {
    "duration": 14,
    "start_time": "2022-07-08T20:03:20.390Z"
   },
   {
    "duration": 8,
    "start_time": "2022-07-08T20:03:45.130Z"
   },
   {
    "duration": 10,
    "start_time": "2022-07-08T20:03:56.917Z"
   },
   {
    "duration": 46,
    "start_time": "2022-07-08T20:04:22.650Z"
   },
   {
    "duration": 84,
    "start_time": "2022-07-08T20:07:08.929Z"
   },
   {
    "duration": 25,
    "start_time": "2022-07-08T20:07:12.096Z"
   },
   {
    "duration": 58,
    "start_time": "2022-07-08T20:07:26.522Z"
   },
   {
    "duration": 17,
    "start_time": "2022-07-08T20:08:37.160Z"
   },
   {
    "duration": 13,
    "start_time": "2022-07-08T20:09:50.303Z"
   },
   {
    "duration": 48,
    "start_time": "2022-07-08T20:10:17.206Z"
   },
   {
    "duration": 49,
    "start_time": "2022-07-08T20:10:35.973Z"
   },
   {
    "duration": 6,
    "start_time": "2022-07-08T20:12:45.234Z"
   },
   {
    "duration": 17,
    "start_time": "2022-07-08T20:13:44.099Z"
   },
   {
    "duration": 6,
    "start_time": "2022-07-08T20:13:59.855Z"
   },
   {
    "duration": 6,
    "start_time": "2022-07-08T20:14:52.736Z"
   },
   {
    "duration": 6,
    "start_time": "2022-07-08T20:14:58.821Z"
   },
   {
    "duration": 5,
    "start_time": "2022-07-08T20:15:04.689Z"
   },
   {
    "duration": 5,
    "start_time": "2022-07-08T20:15:20.673Z"
   },
   {
    "duration": 5,
    "start_time": "2022-07-08T20:15:25.610Z"
   },
   {
    "duration": 7,
    "start_time": "2022-07-08T20:15:34.503Z"
   },
   {
    "duration": 6,
    "start_time": "2022-07-08T20:15:40.442Z"
   },
   {
    "duration": 11,
    "start_time": "2022-07-08T20:17:10.798Z"
   },
   {
    "duration": 67,
    "start_time": "2022-07-09T10:21:46.529Z"
   },
   {
    "duration": 1116,
    "start_time": "2022-07-09T10:21:56.477Z"
   },
   {
    "duration": 30,
    "start_time": "2022-07-09T10:21:57.595Z"
   },
   {
    "duration": 16,
    "start_time": "2022-07-09T10:21:57.627Z"
   },
   {
    "duration": 87,
    "start_time": "2022-07-09T10:21:57.645Z"
   },
   {
    "duration": 2195,
    "start_time": "2022-07-09T10:21:57.733Z"
   },
   {
    "duration": 10,
    "start_time": "2022-07-09T10:21:59.930Z"
   },
   {
    "duration": 13,
    "start_time": "2022-07-09T10:21:59.941Z"
   },
   {
    "duration": 14,
    "start_time": "2022-07-09T10:21:59.956Z"
   },
   {
    "duration": 6,
    "start_time": "2022-07-09T10:21:59.973Z"
   },
   {
    "duration": 8,
    "start_time": "2022-07-09T10:21:59.984Z"
   },
   {
    "duration": 24,
    "start_time": "2022-07-09T10:21:59.995Z"
   },
   {
    "duration": 17,
    "start_time": "2022-07-09T10:22:00.021Z"
   },
   {
    "duration": 12,
    "start_time": "2022-07-09T10:22:00.064Z"
   },
   {
    "duration": 81,
    "start_time": "2022-07-09T10:22:00.078Z"
   },
   {
    "duration": 54,
    "start_time": "2022-07-09T10:22:00.161Z"
   },
   {
    "duration": 69,
    "start_time": "2022-07-09T10:22:00.217Z"
   },
   {
    "duration": 13,
    "start_time": "2022-07-09T10:22:00.288Z"
   },
   {
    "duration": 9,
    "start_time": "2022-07-09T10:22:00.303Z"
   },
   {
    "duration": 8,
    "start_time": "2022-07-09T10:22:00.314Z"
   },
   {
    "duration": 18,
    "start_time": "2022-07-09T10:22:00.323Z"
   },
   {
    "duration": 103,
    "start_time": "2022-07-09T10:22:00.343Z"
   },
   {
    "duration": 18,
    "start_time": "2022-07-09T10:22:00.448Z"
   },
   {
    "duration": 12,
    "start_time": "2022-07-09T10:22:00.469Z"
   },
   {
    "duration": 12,
    "start_time": "2022-07-09T10:22:00.484Z"
   },
   {
    "duration": 7,
    "start_time": "2022-07-09T10:22:00.498Z"
   },
   {
    "duration": 6,
    "start_time": "2022-07-09T10:22:00.507Z"
   },
   {
    "duration": 23,
    "start_time": "2022-07-09T10:22:00.514Z"
   },
   {
    "duration": 5,
    "start_time": "2022-07-09T10:22:00.564Z"
   },
   {
    "duration": 30,
    "start_time": "2022-07-09T10:22:00.571Z"
   },
   {
    "duration": 19,
    "start_time": "2022-07-09T10:22:00.603Z"
   },
   {
    "duration": 45,
    "start_time": "2022-07-09T10:22:00.624Z"
   },
   {
    "duration": 11,
    "start_time": "2022-07-09T10:22:00.673Z"
   },
   {
    "duration": 24,
    "start_time": "2022-07-09T10:22:00.686Z"
   },
   {
    "duration": 17,
    "start_time": "2022-07-09T10:22:00.713Z"
   },
   {
    "duration": 15,
    "start_time": "2022-07-09T10:22:00.733Z"
   },
   {
    "duration": 22,
    "start_time": "2022-07-09T10:22:00.750Z"
   },
   {
    "duration": 27,
    "start_time": "2022-07-09T10:22:00.775Z"
   },
   {
    "duration": 28,
    "start_time": "2022-07-09T10:22:00.804Z"
   },
   {
    "duration": 7,
    "start_time": "2022-07-09T10:22:00.834Z"
   },
   {
    "duration": 15,
    "start_time": "2022-07-09T10:22:00.846Z"
   },
   {
    "duration": 17,
    "start_time": "2022-07-09T10:22:00.863Z"
   },
   {
    "duration": 17,
    "start_time": "2022-07-09T10:22:00.882Z"
   },
   {
    "duration": 9,
    "start_time": "2022-07-09T10:22:00.900Z"
   },
   {
    "duration": 15,
    "start_time": "2022-07-09T10:22:00.910Z"
   },
   {
    "duration": 326,
    "start_time": "2022-07-09T10:22:00.926Z"
   },
   {
    "duration": 5,
    "start_time": "2022-07-09T10:22:01.254Z"
   },
   {
    "duration": 438,
    "start_time": "2022-07-09T10:22:01.264Z"
   },
   {
    "duration": 523,
    "start_time": "2022-07-09T10:22:01.705Z"
   },
   {
    "duration": 407,
    "start_time": "2022-07-09T10:22:02.230Z"
   },
   {
    "duration": 450,
    "start_time": "2022-07-09T10:22:02.640Z"
   },
   {
    "duration": 149,
    "start_time": "2022-07-09T10:22:03.091Z"
   },
   {
    "duration": 128,
    "start_time": "2022-07-09T10:22:03.242Z"
   },
   {
    "duration": 11,
    "start_time": "2022-07-09T10:22:03.383Z"
   },
   {
    "duration": 180,
    "start_time": "2022-07-09T10:22:03.395Z"
   },
   {
    "duration": 161,
    "start_time": "2022-07-09T10:22:03.577Z"
   },
   {
    "duration": 194,
    "start_time": "2022-07-09T10:22:03.740Z"
   },
   {
    "duration": 235,
    "start_time": "2022-07-09T10:22:03.936Z"
   },
   {
    "duration": 197,
    "start_time": "2022-07-09T10:22:04.173Z"
   },
   {
    "duration": 220,
    "start_time": "2022-07-09T10:22:04.373Z"
   },
   {
    "duration": 195,
    "start_time": "2022-07-09T10:22:04.595Z"
   },
   {
    "duration": 205,
    "start_time": "2022-07-09T10:22:04.792Z"
   },
   {
    "duration": 171,
    "start_time": "2022-07-09T10:22:04.998Z"
   },
   {
    "duration": 168,
    "start_time": "2022-07-09T10:22:05.171Z"
   },
   {
    "duration": 240,
    "start_time": "2022-07-09T10:22:05.340Z"
   },
   {
    "duration": 11,
    "start_time": "2022-07-09T10:22:05.584Z"
   },
   {
    "duration": 148,
    "start_time": "2022-07-09T10:22:05.597Z"
   },
   {
    "duration": 8,
    "start_time": "2022-07-09T10:22:05.746Z"
   },
   {
    "duration": 47,
    "start_time": "2022-07-09T10:22:05.756Z"
   },
   {
    "duration": 26,
    "start_time": "2022-07-09T10:22:05.804Z"
   },
   {
    "duration": 39,
    "start_time": "2022-07-09T10:22:05.832Z"
   },
   {
    "duration": 45,
    "start_time": "2022-07-09T10:22:05.874Z"
   },
   {
    "duration": 21,
    "start_time": "2022-07-09T10:22:05.921Z"
   },
   {
    "duration": 39,
    "start_time": "2022-07-09T10:22:05.944Z"
   },
   {
    "duration": 24,
    "start_time": "2022-07-09T10:22:05.986Z"
   },
   {
    "duration": 30,
    "start_time": "2022-07-09T10:22:06.011Z"
   },
   {
    "duration": 106,
    "start_time": "2022-07-09T10:22:06.042Z"
   },
   {
    "duration": 5,
    "start_time": "2022-07-09T10:22:06.150Z"
   },
   {
    "duration": 36,
    "start_time": "2022-07-09T10:22:06.156Z"
   },
   {
    "duration": 28,
    "start_time": "2022-07-09T10:22:06.194Z"
   },
   {
    "duration": 27,
    "start_time": "2022-07-09T10:22:06.224Z"
   },
   {
    "duration": 31,
    "start_time": "2022-07-09T10:22:06.253Z"
   },
   {
    "duration": 29,
    "start_time": "2022-07-09T10:22:06.289Z"
   },
   {
    "duration": 32,
    "start_time": "2022-07-09T10:22:06.321Z"
   },
   {
    "duration": 49,
    "start_time": "2022-07-09T10:22:06.355Z"
   },
   {
    "duration": 25,
    "start_time": "2022-07-09T10:22:06.406Z"
   },
   {
    "duration": 73,
    "start_time": "2022-07-09T10:22:56.726Z"
   },
   {
    "duration": 9,
    "start_time": "2022-07-09T10:23:02.358Z"
   },
   {
    "duration": 14,
    "start_time": "2022-07-09T10:25:17.258Z"
   },
   {
    "duration": 20,
    "start_time": "2022-07-09T10:25:29.454Z"
   },
   {
    "duration": 105,
    "start_time": "2022-07-09T10:36:03.079Z"
   },
   {
    "duration": 139,
    "start_time": "2022-07-09T10:36:09.302Z"
   },
   {
    "duration": 124,
    "start_time": "2022-07-09T10:37:14.172Z"
   },
   {
    "duration": 107,
    "start_time": "2022-07-09T10:37:17.685Z"
   },
   {
    "duration": 171,
    "start_time": "2022-07-09T10:43:08.823Z"
   },
   {
    "duration": 161,
    "start_time": "2022-07-09T10:43:46.516Z"
   },
   {
    "duration": 9,
    "start_time": "2022-07-09T10:44:25.359Z"
   },
   {
    "duration": 10,
    "start_time": "2022-07-09T10:46:31.617Z"
   },
   {
    "duration": 204,
    "start_time": "2022-07-09T10:47:06.574Z"
   },
   {
    "duration": 163,
    "start_time": "2022-07-09T10:47:44.838Z"
   },
   {
    "duration": 753,
    "start_time": "2022-07-09T10:50:43.244Z"
   },
   {
    "duration": 27,
    "start_time": "2022-07-09T10:50:43.999Z"
   },
   {
    "duration": 13,
    "start_time": "2022-07-09T10:50:44.028Z"
   },
   {
    "duration": 84,
    "start_time": "2022-07-09T10:50:44.043Z"
   },
   {
    "duration": 1887,
    "start_time": "2022-07-09T10:50:44.129Z"
   },
   {
    "duration": 12,
    "start_time": "2022-07-09T10:50:46.018Z"
   },
   {
    "duration": 20,
    "start_time": "2022-07-09T10:50:46.033Z"
   },
   {
    "duration": 11,
    "start_time": "2022-07-09T10:50:46.055Z"
   },
   {
    "duration": 4,
    "start_time": "2022-07-09T10:50:46.067Z"
   },
   {
    "duration": 7,
    "start_time": "2022-07-09T10:50:46.075Z"
   },
   {
    "duration": 27,
    "start_time": "2022-07-09T10:50:46.083Z"
   },
   {
    "duration": 16,
    "start_time": "2022-07-09T10:50:46.112Z"
   },
   {
    "duration": 11,
    "start_time": "2022-07-09T10:50:46.129Z"
   },
   {
    "duration": 63,
    "start_time": "2022-07-09T10:50:46.163Z"
   },
   {
    "duration": 64,
    "start_time": "2022-07-09T10:50:46.228Z"
   },
   {
    "duration": 49,
    "start_time": "2022-07-09T10:50:46.293Z"
   },
   {
    "duration": 21,
    "start_time": "2022-07-09T10:50:46.343Z"
   },
   {
    "duration": 8,
    "start_time": "2022-07-09T10:50:46.366Z"
   },
   {
    "duration": 8,
    "start_time": "2022-07-09T10:50:46.375Z"
   },
   {
    "duration": 8,
    "start_time": "2022-07-09T10:50:46.384Z"
   },
   {
    "duration": 79,
    "start_time": "2022-07-09T10:50:46.394Z"
   },
   {
    "duration": 8,
    "start_time": "2022-07-09T10:50:46.475Z"
   },
   {
    "duration": 10,
    "start_time": "2022-07-09T10:50:46.485Z"
   },
   {
    "duration": 8,
    "start_time": "2022-07-09T10:50:46.497Z"
   },
   {
    "duration": 6,
    "start_time": "2022-07-09T10:50:46.506Z"
   },
   {
    "duration": 4,
    "start_time": "2022-07-09T10:50:46.514Z"
   },
   {
    "duration": 47,
    "start_time": "2022-07-09T10:50:46.519Z"
   },
   {
    "duration": 4,
    "start_time": "2022-07-09T10:50:46.570Z"
   },
   {
    "duration": 14,
    "start_time": "2022-07-09T10:50:46.576Z"
   },
   {
    "duration": 14,
    "start_time": "2022-07-09T10:50:46.592Z"
   },
   {
    "duration": 37,
    "start_time": "2022-07-09T10:50:46.608Z"
   },
   {
    "duration": 23,
    "start_time": "2022-07-09T10:50:46.646Z"
   },
   {
    "duration": 7,
    "start_time": "2022-07-09T10:50:46.670Z"
   },
   {
    "duration": 3,
    "start_time": "2022-07-09T10:50:46.679Z"
   },
   {
    "duration": 12,
    "start_time": "2022-07-09T10:50:46.683Z"
   },
   {
    "duration": 7,
    "start_time": "2022-07-09T10:50:46.696Z"
   },
   {
    "duration": 7,
    "start_time": "2022-07-09T10:50:46.704Z"
   },
   {
    "duration": 20,
    "start_time": "2022-07-09T10:50:46.713Z"
   },
   {
    "duration": 31,
    "start_time": "2022-07-09T10:50:46.735Z"
   },
   {
    "duration": 5,
    "start_time": "2022-07-09T10:50:46.768Z"
   },
   {
    "duration": 10,
    "start_time": "2022-07-09T10:50:46.775Z"
   },
   {
    "duration": 5,
    "start_time": "2022-07-09T10:50:46.787Z"
   },
   {
    "duration": 5,
    "start_time": "2022-07-09T10:50:46.793Z"
   },
   {
    "duration": 3,
    "start_time": "2022-07-09T10:50:46.800Z"
   },
   {
    "duration": 303,
    "start_time": "2022-07-09T10:50:46.804Z"
   },
   {
    "duration": 5,
    "start_time": "2022-07-09T10:50:47.109Z"
   },
   {
    "duration": 165,
    "start_time": "2022-07-09T10:50:47.115Z"
   },
   {
    "duration": 9,
    "start_time": "2022-07-09T10:50:47.282Z"
   },
   {
    "duration": 190,
    "start_time": "2022-07-09T10:50:47.293Z"
   },
   {
    "duration": 427,
    "start_time": "2022-07-09T10:50:47.485Z"
   },
   {
    "duration": 334,
    "start_time": "2022-07-09T10:50:47.913Z"
   },
   {
    "duration": 327,
    "start_time": "2022-07-09T10:50:48.249Z"
   },
   {
    "duration": 8,
    "start_time": "2022-07-09T10:50:48.578Z"
   },
   {
    "duration": 123,
    "start_time": "2022-07-09T10:50:48.587Z"
   },
   {
    "duration": 167,
    "start_time": "2022-07-09T10:50:48.712Z"
   },
   {
    "duration": 123,
    "start_time": "2022-07-09T10:50:48.881Z"
   },
   {
    "duration": 162,
    "start_time": "2022-07-09T10:50:49.006Z"
   },
   {
    "duration": 127,
    "start_time": "2022-07-09T10:50:49.170Z"
   },
   {
    "duration": 236,
    "start_time": "2022-07-09T10:50:49.298Z"
   },
   {
    "duration": 180,
    "start_time": "2022-07-09T10:50:49.535Z"
   },
   {
    "duration": 167,
    "start_time": "2022-07-09T10:50:49.717Z"
   },
   {
    "duration": 181,
    "start_time": "2022-07-09T10:50:49.885Z"
   },
   {
    "duration": 145,
    "start_time": "2022-07-09T10:50:50.068Z"
   },
   {
    "duration": 135,
    "start_time": "2022-07-09T10:50:50.214Z"
   },
   {
    "duration": 207,
    "start_time": "2022-07-09T10:50:50.363Z"
   },
   {
    "duration": 9,
    "start_time": "2022-07-09T10:50:50.572Z"
   },
   {
    "duration": 137,
    "start_time": "2022-07-09T10:50:50.583Z"
   },
   {
    "duration": 11,
    "start_time": "2022-07-09T10:50:50.722Z"
   },
   {
    "duration": 8,
    "start_time": "2022-07-09T10:50:50.735Z"
   },
   {
    "duration": 20,
    "start_time": "2022-07-09T10:50:50.744Z"
   },
   {
    "duration": 5,
    "start_time": "2022-07-09T10:50:50.766Z"
   },
   {
    "duration": 18,
    "start_time": "2022-07-09T10:50:50.772Z"
   },
   {
    "duration": 10,
    "start_time": "2022-07-09T10:50:50.791Z"
   },
   {
    "duration": 7,
    "start_time": "2022-07-09T10:50:50.802Z"
   },
   {
    "duration": 6,
    "start_time": "2022-07-09T10:50:50.811Z"
   },
   {
    "duration": 20,
    "start_time": "2022-07-09T10:50:50.819Z"
   },
   {
    "duration": 10,
    "start_time": "2022-07-09T10:50:50.840Z"
   },
   {
    "duration": 10,
    "start_time": "2022-07-09T10:50:50.852Z"
   },
   {
    "duration": 6,
    "start_time": "2022-07-09T10:50:50.864Z"
   },
   {
    "duration": 7,
    "start_time": "2022-07-09T10:50:50.872Z"
   },
   {
    "duration": 7,
    "start_time": "2022-07-09T10:50:50.881Z"
   },
   {
    "duration": 5,
    "start_time": "2022-07-09T10:50:50.894Z"
   },
   {
    "duration": 7,
    "start_time": "2022-07-09T10:50:50.900Z"
   },
   {
    "duration": 6,
    "start_time": "2022-07-09T10:50:50.909Z"
   },
   {
    "duration": 55,
    "start_time": "2022-07-09T10:50:50.917Z"
   },
   {
    "duration": 10,
    "start_time": "2022-07-09T10:50:50.974Z"
   },
   {
    "duration": 109,
    "start_time": "2022-07-09T10:51:57.959Z"
   },
   {
    "duration": 254,
    "start_time": "2022-07-09T10:52:53.467Z"
   },
   {
    "duration": 10,
    "start_time": "2022-07-09T10:53:10.951Z"
   },
   {
    "duration": 193,
    "start_time": "2022-07-09T10:53:12.766Z"
   },
   {
    "duration": 116,
    "start_time": "2022-07-09T10:53:15.602Z"
   },
   {
    "duration": 193,
    "start_time": "2022-07-09T10:54:33.371Z"
   },
   {
    "duration": 166,
    "start_time": "2022-07-09T10:54:51.678Z"
   },
   {
    "duration": 172,
    "start_time": "2022-07-09T10:55:23.548Z"
   },
   {
    "duration": 175,
    "start_time": "2022-07-09T10:55:27.583Z"
   },
   {
    "duration": 296,
    "start_time": "2022-07-09T10:57:15.747Z"
   },
   {
    "duration": 182,
    "start_time": "2022-07-09T10:57:27.632Z"
   },
   {
    "duration": 10,
    "start_time": "2022-07-09T11:01:22.878Z"
   },
   {
    "duration": 15,
    "start_time": "2022-07-09T11:01:37.271Z"
   },
   {
    "duration": 71,
    "start_time": "2022-07-09T11:02:04.972Z"
   },
   {
    "duration": 5,
    "start_time": "2022-07-09T11:02:07.975Z"
   },
   {
    "duration": 175,
    "start_time": "2022-07-09T11:04:51.563Z"
   },
   {
    "duration": 174,
    "start_time": "2022-07-09T11:05:37.605Z"
   },
   {
    "duration": 290,
    "start_time": "2022-07-09T11:06:11.493Z"
   },
   {
    "duration": 201,
    "start_time": "2022-07-09T11:06:15.234Z"
   },
   {
    "duration": 204,
    "start_time": "2022-07-09T11:06:22.735Z"
   },
   {
    "duration": 190,
    "start_time": "2022-07-09T11:08:07.636Z"
   },
   {
    "duration": 9,
    "start_time": "2022-07-09T11:08:59.820Z"
   },
   {
    "duration": 193,
    "start_time": "2022-07-09T11:09:18.691Z"
   },
   {
    "duration": 95,
    "start_time": "2022-07-09T11:09:28.011Z"
   },
   {
    "duration": 200,
    "start_time": "2022-07-09T11:09:35.252Z"
   },
   {
    "duration": 1666,
    "start_time": "2022-07-09T11:11:45.175Z"
   },
   {
    "duration": 35,
    "start_time": "2022-07-09T11:11:46.843Z"
   },
   {
    "duration": 19,
    "start_time": "2022-07-09T11:11:46.880Z"
   },
   {
    "duration": 91,
    "start_time": "2022-07-09T11:11:46.901Z"
   },
   {
    "duration": 2018,
    "start_time": "2022-07-09T11:11:46.994Z"
   },
   {
    "duration": 10,
    "start_time": "2022-07-09T11:11:49.013Z"
   },
   {
    "duration": 18,
    "start_time": "2022-07-09T11:11:49.025Z"
   },
   {
    "duration": 11,
    "start_time": "2022-07-09T11:11:49.045Z"
   },
   {
    "duration": 4,
    "start_time": "2022-07-09T11:11:49.058Z"
   },
   {
    "duration": 9,
    "start_time": "2022-07-09T11:11:49.065Z"
   },
   {
    "duration": 26,
    "start_time": "2022-07-09T11:11:49.076Z"
   },
   {
    "duration": 15,
    "start_time": "2022-07-09T11:11:49.104Z"
   },
   {
    "duration": 6,
    "start_time": "2022-07-09T11:11:49.121Z"
   },
   {
    "duration": 76,
    "start_time": "2022-07-09T11:11:49.128Z"
   },
   {
    "duration": 51,
    "start_time": "2022-07-09T11:11:49.206Z"
   },
   {
    "duration": 46,
    "start_time": "2022-07-09T11:11:49.263Z"
   },
   {
    "duration": 7,
    "start_time": "2022-07-09T11:11:49.311Z"
   },
   {
    "duration": 9,
    "start_time": "2022-07-09T11:11:49.319Z"
   },
   {
    "duration": 6,
    "start_time": "2022-07-09T11:11:49.329Z"
   },
   {
    "duration": 9,
    "start_time": "2022-07-09T11:11:49.336Z"
   },
   {
    "duration": 76,
    "start_time": "2022-07-09T11:11:49.364Z"
   },
   {
    "duration": 9,
    "start_time": "2022-07-09T11:11:49.442Z"
   },
   {
    "duration": 8,
    "start_time": "2022-07-09T11:11:49.464Z"
   },
   {
    "duration": 13,
    "start_time": "2022-07-09T11:11:49.474Z"
   },
   {
    "duration": 8,
    "start_time": "2022-07-09T11:11:49.489Z"
   },
   {
    "duration": 5,
    "start_time": "2022-07-09T11:11:49.498Z"
   },
   {
    "duration": 22,
    "start_time": "2022-07-09T11:11:49.505Z"
   },
   {
    "duration": 4,
    "start_time": "2022-07-09T11:11:49.531Z"
   },
   {
    "duration": 27,
    "start_time": "2022-07-09T11:11:49.537Z"
   },
   {
    "duration": 17,
    "start_time": "2022-07-09T11:11:49.565Z"
   },
   {
    "duration": 56,
    "start_time": "2022-07-09T11:11:49.584Z"
   },
   {
    "duration": 22,
    "start_time": "2022-07-09T11:11:49.642Z"
   },
   {
    "duration": 6,
    "start_time": "2022-07-09T11:11:49.665Z"
   },
   {
    "duration": 4,
    "start_time": "2022-07-09T11:11:49.673Z"
   },
   {
    "duration": 12,
    "start_time": "2022-07-09T11:11:49.678Z"
   },
   {
    "duration": 8,
    "start_time": "2022-07-09T11:11:49.691Z"
   },
   {
    "duration": 8,
    "start_time": "2022-07-09T11:11:49.700Z"
   },
   {
    "duration": 54,
    "start_time": "2022-07-09T11:11:49.710Z"
   },
   {
    "duration": 8,
    "start_time": "2022-07-09T11:11:49.766Z"
   },
   {
    "duration": 4,
    "start_time": "2022-07-09T11:11:49.776Z"
   },
   {
    "duration": 10,
    "start_time": "2022-07-09T11:11:49.782Z"
   },
   {
    "duration": 15,
    "start_time": "2022-07-09T11:11:49.793Z"
   },
   {
    "duration": 8,
    "start_time": "2022-07-09T11:11:49.810Z"
   },
   {
    "duration": 7,
    "start_time": "2022-07-09T11:11:49.819Z"
   },
   {
    "duration": 314,
    "start_time": "2022-07-09T11:11:49.827Z"
   },
   {
    "duration": 4,
    "start_time": "2022-07-09T11:11:50.143Z"
   },
   {
    "duration": 181,
    "start_time": "2022-07-09T11:11:50.148Z"
   },
   {
    "duration": 10,
    "start_time": "2022-07-09T11:11:50.331Z"
   },
   {
    "duration": 206,
    "start_time": "2022-07-09T11:11:50.343Z"
   },
   {
    "duration": 213,
    "start_time": "2022-07-09T11:11:50.551Z"
   },
   {
    "duration": 176,
    "start_time": "2022-07-09T11:11:50.766Z"
   },
   {
    "duration": 185,
    "start_time": "2022-07-09T11:11:50.944Z"
   },
   {
    "duration": 9,
    "start_time": "2022-07-09T11:11:51.130Z"
   },
   {
    "duration": 16,
    "start_time": "2022-07-09T11:11:51.141Z"
   },
   {
    "duration": 213,
    "start_time": "2022-07-09T11:11:51.158Z"
   },
   {
    "duration": 226,
    "start_time": "2022-07-09T11:11:51.374Z"
   },
   {
    "duration": 10,
    "start_time": "2022-07-09T11:11:51.602Z"
   },
   {
    "duration": 188,
    "start_time": "2022-07-09T11:11:51.614Z"
   },
   {
    "duration": 147,
    "start_time": "2022-07-09T11:11:51.803Z"
   },
   {
    "duration": 166,
    "start_time": "2022-07-09T11:11:51.952Z"
   },
   {
    "duration": 157,
    "start_time": "2022-07-09T11:11:52.120Z"
   },
   {
    "duration": 199,
    "start_time": "2022-07-09T11:11:52.278Z"
   },
   {
    "duration": 367,
    "start_time": "2022-07-09T11:11:52.479Z"
   },
   {
    "duration": 189,
    "start_time": "2022-07-09T11:11:52.848Z"
   },
   {
    "duration": 219,
    "start_time": "2022-07-09T11:11:53.039Z"
   },
   {
    "duration": 182,
    "start_time": "2022-07-09T11:11:53.264Z"
   },
   {
    "duration": 170,
    "start_time": "2022-07-09T11:11:53.448Z"
   },
   {
    "duration": 236,
    "start_time": "2022-07-09T11:11:53.620Z"
   },
   {
    "duration": 14,
    "start_time": "2022-07-09T11:11:53.857Z"
   },
   {
    "duration": 148,
    "start_time": "2022-07-09T11:11:53.873Z"
   },
   {
    "duration": 10,
    "start_time": "2022-07-09T11:11:54.022Z"
   },
   {
    "duration": 22,
    "start_time": "2022-07-09T11:11:54.034Z"
   },
   {
    "duration": 17,
    "start_time": "2022-07-09T11:11:54.058Z"
   },
   {
    "duration": 26,
    "start_time": "2022-07-09T11:11:54.077Z"
   },
   {
    "duration": 20,
    "start_time": "2022-07-09T11:11:54.105Z"
   },
   {
    "duration": 19,
    "start_time": "2022-07-09T11:11:54.126Z"
   },
   {
    "duration": 26,
    "start_time": "2022-07-09T11:11:54.147Z"
   },
   {
    "duration": 20,
    "start_time": "2022-07-09T11:11:54.175Z"
   },
   {
    "duration": 21,
    "start_time": "2022-07-09T11:11:54.198Z"
   },
   {
    "duration": 12,
    "start_time": "2022-07-09T11:11:54.221Z"
   },
   {
    "duration": 34,
    "start_time": "2022-07-09T11:11:54.235Z"
   },
   {
    "duration": 32,
    "start_time": "2022-07-09T11:11:54.275Z"
   },
   {
    "duration": 40,
    "start_time": "2022-07-09T11:11:54.309Z"
   },
   {
    "duration": 15,
    "start_time": "2022-07-09T11:11:54.351Z"
   },
   {
    "duration": 17,
    "start_time": "2022-07-09T11:11:54.368Z"
   },
   {
    "duration": 18,
    "start_time": "2022-07-09T11:11:54.387Z"
   },
   {
    "duration": 14,
    "start_time": "2022-07-09T11:11:54.408Z"
   },
   {
    "duration": 41,
    "start_time": "2022-07-09T11:11:54.424Z"
   },
   {
    "duration": 12,
    "start_time": "2022-07-09T11:11:54.467Z"
   },
   {
    "duration": 4,
    "start_time": "2022-07-09T11:13:14.032Z"
   },
   {
    "duration": 156,
    "start_time": "2022-07-09T11:16:00.172Z"
   },
   {
    "duration": 142,
    "start_time": "2022-07-09T11:17:15.034Z"
   },
   {
    "duration": 15,
    "start_time": "2022-07-09T11:18:38.431Z"
   },
   {
    "duration": 5,
    "start_time": "2022-07-09T11:18:54.758Z"
   },
   {
    "duration": 12,
    "start_time": "2022-07-09T11:19:42.755Z"
   },
   {
    "duration": 128,
    "start_time": "2022-07-09T11:19:44.411Z"
   },
   {
    "duration": 235,
    "start_time": "2022-07-09T11:20:39.174Z"
   },
   {
    "duration": 8,
    "start_time": "2022-07-09T11:21:22.240Z"
   },
   {
    "duration": 8,
    "start_time": "2022-07-09T11:21:25.972Z"
   },
   {
    "duration": 119,
    "start_time": "2022-07-09T11:21:54.427Z"
   },
   {
    "duration": 122,
    "start_time": "2022-07-09T11:22:05.816Z"
   },
   {
    "duration": 141,
    "start_time": "2022-07-09T11:22:19.274Z"
   },
   {
    "duration": 114,
    "start_time": "2022-07-09T11:24:59.542Z"
   },
   {
    "duration": 173,
    "start_time": "2022-07-09T11:25:08.855Z"
   },
   {
    "duration": 186,
    "start_time": "2022-07-09T11:26:48.660Z"
   },
   {
    "duration": 151,
    "start_time": "2022-07-09T11:26:50.855Z"
   },
   {
    "duration": 186,
    "start_time": "2022-07-09T11:26:53.424Z"
   },
   {
    "duration": 147,
    "start_time": "2022-07-09T11:29:40.111Z"
   },
   {
    "duration": 143,
    "start_time": "2022-07-09T11:29:43.562Z"
   },
   {
    "duration": 242,
    "start_time": "2022-07-09T11:35:21.953Z"
   },
   {
    "duration": 194,
    "start_time": "2022-07-09T11:35:26.648Z"
   },
   {
    "duration": 9,
    "start_time": "2022-07-09T11:35:29.157Z"
   },
   {
    "duration": 113,
    "start_time": "2022-07-09T11:35:30.813Z"
   },
   {
    "duration": 744,
    "start_time": "2022-07-09T11:36:04.376Z"
   },
   {
    "duration": 29,
    "start_time": "2022-07-09T11:36:05.122Z"
   },
   {
    "duration": 21,
    "start_time": "2022-07-09T11:36:05.152Z"
   },
   {
    "duration": 71,
    "start_time": "2022-07-09T11:36:05.175Z"
   },
   {
    "duration": 1884,
    "start_time": "2022-07-09T11:36:05.248Z"
   },
   {
    "duration": 10,
    "start_time": "2022-07-09T11:36:07.133Z"
   },
   {
    "duration": 19,
    "start_time": "2022-07-09T11:36:07.144Z"
   },
   {
    "duration": 10,
    "start_time": "2022-07-09T11:36:07.165Z"
   },
   {
    "duration": 4,
    "start_time": "2022-07-09T11:36:07.177Z"
   },
   {
    "duration": 7,
    "start_time": "2022-07-09T11:36:07.183Z"
   },
   {
    "duration": 21,
    "start_time": "2022-07-09T11:36:07.191Z"
   },
   {
    "duration": 16,
    "start_time": "2022-07-09T11:36:07.213Z"
   },
   {
    "duration": 36,
    "start_time": "2022-07-09T11:36:07.230Z"
   },
   {
    "duration": 65,
    "start_time": "2022-07-09T11:36:07.268Z"
   },
   {
    "duration": 69,
    "start_time": "2022-07-09T11:36:07.335Z"
   },
   {
    "duration": 61,
    "start_time": "2022-07-09T11:36:07.406Z"
   },
   {
    "duration": 8,
    "start_time": "2022-07-09T11:36:07.468Z"
   },
   {
    "duration": 10,
    "start_time": "2022-07-09T11:36:07.477Z"
   },
   {
    "duration": 15,
    "start_time": "2022-07-09T11:36:07.489Z"
   },
   {
    "duration": 8,
    "start_time": "2022-07-09T11:36:07.506Z"
   },
   {
    "duration": 79,
    "start_time": "2022-07-09T11:36:07.516Z"
   },
   {
    "duration": 7,
    "start_time": "2022-07-09T11:36:07.597Z"
   },
   {
    "duration": 8,
    "start_time": "2022-07-09T11:36:07.606Z"
   },
   {
    "duration": 7,
    "start_time": "2022-07-09T11:36:07.615Z"
   },
   {
    "duration": 8,
    "start_time": "2022-07-09T11:36:07.624Z"
   },
   {
    "duration": 32,
    "start_time": "2022-07-09T11:36:07.634Z"
   },
   {
    "duration": 18,
    "start_time": "2022-07-09T11:36:07.668Z"
   },
   {
    "duration": 4,
    "start_time": "2022-07-09T11:36:07.692Z"
   },
   {
    "duration": 9,
    "start_time": "2022-07-09T11:36:07.698Z"
   },
   {
    "duration": 20,
    "start_time": "2022-07-09T11:36:07.708Z"
   },
   {
    "duration": 69,
    "start_time": "2022-07-09T11:36:07.730Z"
   },
   {
    "duration": 8,
    "start_time": "2022-07-09T11:36:07.801Z"
   },
   {
    "duration": 10,
    "start_time": "2022-07-09T11:36:07.811Z"
   },
   {
    "duration": 5,
    "start_time": "2022-07-09T11:36:07.822Z"
   },
   {
    "duration": 14,
    "start_time": "2022-07-09T11:36:07.829Z"
   },
   {
    "duration": 20,
    "start_time": "2022-07-09T11:36:07.845Z"
   },
   {
    "duration": 8,
    "start_time": "2022-07-09T11:36:07.866Z"
   },
   {
    "duration": 22,
    "start_time": "2022-07-09T11:36:07.875Z"
   },
   {
    "duration": 7,
    "start_time": "2022-07-09T11:36:07.899Z"
   },
   {
    "duration": 5,
    "start_time": "2022-07-09T11:36:07.907Z"
   },
   {
    "duration": 10,
    "start_time": "2022-07-09T11:36:07.913Z"
   },
   {
    "duration": 15,
    "start_time": "2022-07-09T11:36:07.925Z"
   },
   {
    "duration": 23,
    "start_time": "2022-07-09T11:36:07.941Z"
   },
   {
    "duration": 4,
    "start_time": "2022-07-09T11:36:07.965Z"
   },
   {
    "duration": 292,
    "start_time": "2022-07-09T11:36:07.971Z"
   },
   {
    "duration": 5,
    "start_time": "2022-07-09T11:36:08.265Z"
   },
   {
    "duration": 173,
    "start_time": "2022-07-09T11:36:08.272Z"
   },
   {
    "duration": 16,
    "start_time": "2022-07-09T11:36:08.447Z"
   },
   {
    "duration": 184,
    "start_time": "2022-07-09T11:36:08.465Z"
   },
   {
    "duration": 232,
    "start_time": "2022-07-09T11:36:08.650Z"
   },
   {
    "duration": 207,
    "start_time": "2022-07-09T11:36:08.884Z"
   },
   {
    "duration": 176,
    "start_time": "2022-07-09T11:36:09.092Z"
   },
   {
    "duration": 9,
    "start_time": "2022-07-09T11:36:09.270Z"
   },
   {
    "duration": 195,
    "start_time": "2022-07-09T11:36:09.280Z"
   },
   {
    "duration": 199,
    "start_time": "2022-07-09T11:36:09.476Z"
   },
   {
    "duration": 8,
    "start_time": "2022-07-09T11:36:09.677Z"
   },
   {
    "duration": 155,
    "start_time": "2022-07-09T11:36:09.686Z"
   },
   {
    "duration": 161,
    "start_time": "2022-07-09T11:36:09.842Z"
   },
   {
    "duration": 11,
    "start_time": "2022-07-09T11:36:10.005Z"
   },
   {
    "duration": 133,
    "start_time": "2022-07-09T11:36:10.018Z"
   },
   {
    "duration": 151,
    "start_time": "2022-07-09T11:36:10.153Z"
   },
   {
    "duration": 133,
    "start_time": "2022-07-09T11:36:10.306Z"
   },
   {
    "duration": 275,
    "start_time": "2022-07-09T11:36:10.441Z"
   },
   {
    "duration": 197,
    "start_time": "2022-07-09T11:36:10.718Z"
   },
   {
    "duration": 227,
    "start_time": "2022-07-09T11:36:10.917Z"
   },
   {
    "duration": 261,
    "start_time": "2022-07-09T11:36:11.145Z"
   },
   {
    "duration": 142,
    "start_time": "2022-07-09T11:36:11.408Z"
   },
   {
    "duration": 146,
    "start_time": "2022-07-09T11:36:11.552Z"
   },
   {
    "duration": 185,
    "start_time": "2022-07-09T11:36:11.700Z"
   },
   {
    "duration": 9,
    "start_time": "2022-07-09T11:36:11.886Z"
   },
   {
    "duration": 125,
    "start_time": "2022-07-09T11:36:11.896Z"
   },
   {
    "duration": 9,
    "start_time": "2022-07-09T11:36:12.022Z"
   },
   {
    "duration": 6,
    "start_time": "2022-07-09T11:36:12.033Z"
   },
   {
    "duration": 5,
    "start_time": "2022-07-09T11:36:12.040Z"
   },
   {
    "duration": 5,
    "start_time": "2022-07-09T11:36:12.064Z"
   },
   {
    "duration": 6,
    "start_time": "2022-07-09T11:36:12.070Z"
   },
   {
    "duration": 9,
    "start_time": "2022-07-09T11:36:12.078Z"
   },
   {
    "duration": 8,
    "start_time": "2022-07-09T11:36:12.089Z"
   },
   {
    "duration": 5,
    "start_time": "2022-07-09T11:36:12.099Z"
   },
   {
    "duration": 6,
    "start_time": "2022-07-09T11:36:12.106Z"
   },
   {
    "duration": 6,
    "start_time": "2022-07-09T11:36:12.113Z"
   },
   {
    "duration": 7,
    "start_time": "2022-07-09T11:36:12.125Z"
   },
   {
    "duration": 33,
    "start_time": "2022-07-09T11:36:12.134Z"
   },
   {
    "duration": 10,
    "start_time": "2022-07-09T11:36:12.169Z"
   },
   {
    "duration": 6,
    "start_time": "2022-07-09T11:36:12.180Z"
   },
   {
    "duration": 5,
    "start_time": "2022-07-09T11:36:12.187Z"
   },
   {
    "duration": 8,
    "start_time": "2022-07-09T11:36:12.194Z"
   },
   {
    "duration": 9,
    "start_time": "2022-07-09T11:36:12.203Z"
   },
   {
    "duration": 51,
    "start_time": "2022-07-09T11:36:12.214Z"
   },
   {
    "duration": 11,
    "start_time": "2022-07-09T11:36:12.267Z"
   },
   {
    "duration": 193,
    "start_time": "2022-07-09T11:40:21.461Z"
   },
   {
    "duration": 204,
    "start_time": "2022-07-09T11:40:31.631Z"
   },
   {
    "duration": 25,
    "start_time": "2022-07-09T11:42:51.374Z"
   },
   {
    "duration": 34,
    "start_time": "2022-07-09T11:43:18.885Z"
   },
   {
    "duration": 11,
    "start_time": "2022-07-09T11:44:44.600Z"
   },
   {
    "duration": 105,
    "start_time": "2022-07-09T11:45:09.628Z"
   },
   {
    "duration": 193,
    "start_time": "2022-07-09T11:57:09.613Z"
   },
   {
    "duration": 209,
    "start_time": "2022-07-09T11:58:13.669Z"
   },
   {
    "duration": 194,
    "start_time": "2022-07-09T11:58:18.723Z"
   },
   {
    "duration": 210,
    "start_time": "2022-07-09T11:58:26.104Z"
   },
   {
    "duration": 200,
    "start_time": "2022-07-09T11:58:41.329Z"
   },
   {
    "duration": 210,
    "start_time": "2022-07-09T12:00:01.174Z"
   },
   {
    "duration": 212,
    "start_time": "2022-07-09T12:00:35.070Z"
   },
   {
    "duration": 186,
    "start_time": "2022-07-09T12:02:02.883Z"
   },
   {
    "duration": 175,
    "start_time": "2022-07-09T12:02:13.370Z"
   },
   {
    "duration": 192,
    "start_time": "2022-07-09T12:02:26.501Z"
   },
   {
    "duration": 173,
    "start_time": "2022-07-09T12:02:29.601Z"
   },
   {
    "duration": 177,
    "start_time": "2022-07-09T12:02:32.119Z"
   },
   {
    "duration": 178,
    "start_time": "2022-07-09T12:02:34.616Z"
   },
   {
    "duration": 178,
    "start_time": "2022-07-09T12:03:33.981Z"
   },
   {
    "duration": 157,
    "start_time": "2022-07-09T12:04:14.768Z"
   },
   {
    "duration": 500,
    "start_time": "2022-07-09T12:04:23.309Z"
   },
   {
    "duration": 170,
    "start_time": "2022-07-09T12:04:28.143Z"
   },
   {
    "duration": 25,
    "start_time": "2022-07-09T12:22:18.781Z"
   },
   {
    "duration": 723,
    "start_time": "2022-07-09T12:24:52.499Z"
   },
   {
    "duration": 28,
    "start_time": "2022-07-09T12:24:53.224Z"
   },
   {
    "duration": 22,
    "start_time": "2022-07-09T12:24:53.254Z"
   },
   {
    "duration": 70,
    "start_time": "2022-07-09T12:24:53.279Z"
   },
   {
    "duration": 1860,
    "start_time": "2022-07-09T12:24:53.364Z"
   },
   {
    "duration": 9,
    "start_time": "2022-07-09T12:24:55.225Z"
   },
   {
    "duration": 13,
    "start_time": "2022-07-09T12:24:55.235Z"
   },
   {
    "duration": 14,
    "start_time": "2022-07-09T12:24:55.250Z"
   },
   {
    "duration": 4,
    "start_time": "2022-07-09T12:24:55.265Z"
   },
   {
    "duration": 10,
    "start_time": "2022-07-09T12:24:55.271Z"
   },
   {
    "duration": 20,
    "start_time": "2022-07-09T12:24:55.282Z"
   },
   {
    "duration": 14,
    "start_time": "2022-07-09T12:24:55.303Z"
   },
   {
    "duration": 6,
    "start_time": "2022-07-09T12:24:55.318Z"
   },
   {
    "duration": 88,
    "start_time": "2022-07-09T12:24:55.325Z"
   },
   {
    "duration": 52,
    "start_time": "2022-07-09T12:24:55.415Z"
   },
   {
    "duration": 46,
    "start_time": "2022-07-09T12:24:55.468Z"
   },
   {
    "duration": 7,
    "start_time": "2022-07-09T12:24:55.516Z"
   },
   {
    "duration": 12,
    "start_time": "2022-07-09T12:24:55.524Z"
   },
   {
    "duration": 8,
    "start_time": "2022-07-09T12:24:55.537Z"
   },
   {
    "duration": 21,
    "start_time": "2022-07-09T12:24:55.546Z"
   },
   {
    "duration": 70,
    "start_time": "2022-07-09T12:24:55.569Z"
   },
   {
    "duration": 23,
    "start_time": "2022-07-09T12:24:55.641Z"
   },
   {
    "duration": 8,
    "start_time": "2022-07-09T12:24:55.665Z"
   },
   {
    "duration": 20,
    "start_time": "2022-07-09T12:24:55.675Z"
   },
   {
    "duration": 7,
    "start_time": "2022-07-09T12:24:55.696Z"
   },
   {
    "duration": 4,
    "start_time": "2022-07-09T12:24:55.704Z"
   },
   {
    "duration": 18,
    "start_time": "2022-07-09T12:24:55.709Z"
   },
   {
    "duration": 4,
    "start_time": "2022-07-09T12:24:55.730Z"
   },
   {
    "duration": 29,
    "start_time": "2022-07-09T12:24:55.735Z"
   },
   {
    "duration": 13,
    "start_time": "2022-07-09T12:24:55.766Z"
   },
   {
    "duration": 33,
    "start_time": "2022-07-09T12:24:55.781Z"
   },
   {
    "duration": 6,
    "start_time": "2022-07-09T12:24:55.816Z"
   },
   {
    "duration": 8,
    "start_time": "2022-07-09T12:24:55.823Z"
   },
   {
    "duration": 5,
    "start_time": "2022-07-09T12:24:55.832Z"
   },
   {
    "duration": 28,
    "start_time": "2022-07-09T12:24:55.838Z"
   },
   {
    "duration": 11,
    "start_time": "2022-07-09T12:24:55.868Z"
   },
   {
    "duration": 11,
    "start_time": "2022-07-09T12:24:55.880Z"
   },
   {
    "duration": 22,
    "start_time": "2022-07-09T12:24:55.893Z"
   },
   {
    "duration": 7,
    "start_time": "2022-07-09T12:24:55.916Z"
   },
   {
    "duration": 5,
    "start_time": "2022-07-09T12:24:55.925Z"
   },
   {
    "duration": 8,
    "start_time": "2022-07-09T12:24:55.931Z"
   },
   {
    "duration": 6,
    "start_time": "2022-07-09T12:24:55.963Z"
   },
   {
    "duration": 6,
    "start_time": "2022-07-09T12:24:55.971Z"
   },
   {
    "duration": 4,
    "start_time": "2022-07-09T12:24:55.978Z"
   },
   {
    "duration": 286,
    "start_time": "2022-07-09T12:24:55.983Z"
   },
   {
    "duration": 4,
    "start_time": "2022-07-09T12:24:56.271Z"
   },
   {
    "duration": 169,
    "start_time": "2022-07-09T12:24:56.276Z"
   },
   {
    "duration": 16,
    "start_time": "2022-07-09T12:24:56.447Z"
   },
   {
    "duration": 188,
    "start_time": "2022-07-09T12:24:56.465Z"
   },
   {
    "duration": 210,
    "start_time": "2022-07-09T12:24:56.655Z"
   },
   {
    "duration": 207,
    "start_time": "2022-07-09T12:24:56.866Z"
   },
   {
    "duration": 175,
    "start_time": "2022-07-09T12:24:57.075Z"
   },
   {
    "duration": 15,
    "start_time": "2022-07-09T12:24:57.252Z"
   },
   {
    "duration": 194,
    "start_time": "2022-07-09T12:24:57.269Z"
   },
   {
    "duration": 192,
    "start_time": "2022-07-09T12:24:57.465Z"
   },
   {
    "duration": 9,
    "start_time": "2022-07-09T12:24:57.663Z"
   },
   {
    "duration": 151,
    "start_time": "2022-07-09T12:24:57.674Z"
   },
   {
    "duration": 145,
    "start_time": "2022-07-09T12:24:57.827Z"
   },
   {
    "duration": 9,
    "start_time": "2022-07-09T12:24:57.973Z"
   },
   {
    "duration": 129,
    "start_time": "2022-07-09T12:24:57.983Z"
   },
   {
    "duration": 151,
    "start_time": "2022-07-09T12:24:58.114Z"
   },
   {
    "duration": 125,
    "start_time": "2022-07-09T12:24:58.267Z"
   },
   {
    "duration": 226,
    "start_time": "2022-07-09T12:24:58.393Z"
   },
   {
    "duration": 181,
    "start_time": "2022-07-09T12:24:58.621Z"
   },
   {
    "duration": 161,
    "start_time": "2022-07-09T12:24:58.804Z"
   },
   {
    "duration": 177,
    "start_time": "2022-07-09T12:24:58.967Z"
   },
   {
    "duration": 135,
    "start_time": "2022-07-09T12:24:59.146Z"
   },
   {
    "duration": 145,
    "start_time": "2022-07-09T12:24:59.283Z"
   },
   {
    "duration": 186,
    "start_time": "2022-07-09T12:24:59.429Z"
   },
   {
    "duration": 9,
    "start_time": "2022-07-09T12:24:59.616Z"
   },
   {
    "duration": 122,
    "start_time": "2022-07-09T12:24:59.627Z"
   },
   {
    "duration": 206,
    "start_time": "2022-07-09T12:24:59.751Z"
   },
   {
    "duration": 205,
    "start_time": "2022-07-09T12:24:59.963Z"
   },
   {
    "duration": 317,
    "start_time": "2022-07-09T12:25:00.169Z"
   },
   {
    "duration": 199,
    "start_time": "2022-07-09T12:25:00.487Z"
   },
   {
    "duration": 187,
    "start_time": "2022-07-09T12:25:00.687Z"
   },
   {
    "duration": 200,
    "start_time": "2022-07-09T12:25:00.875Z"
   },
   {
    "duration": 201,
    "start_time": "2022-07-09T12:25:01.077Z"
   },
   {
    "duration": 212,
    "start_time": "2022-07-09T12:25:01.279Z"
   },
   {
    "duration": 23,
    "start_time": "2022-07-09T12:25:01.493Z"
   },
   {
    "duration": 10,
    "start_time": "2022-07-09T12:35:09.097Z"
   },
   {
    "duration": 14,
    "start_time": "2022-07-09T12:35:45.223Z"
   },
   {
    "duration": 76,
    "start_time": "2022-07-09T12:37:39.352Z"
   },
   {
    "duration": 9,
    "start_time": "2022-07-09T12:38:09.727Z"
   },
   {
    "duration": 49,
    "start_time": "2022-07-09T17:38:11.739Z"
   },
   {
    "duration": 122,
    "start_time": "2022-07-09T17:38:55.780Z"
   },
   {
    "duration": 36,
    "start_time": "2022-07-09T17:38:55.910Z"
   },
   {
    "duration": 18,
    "start_time": "2022-07-09T17:38:55.948Z"
   },
   {
    "duration": 87,
    "start_time": "2022-07-09T17:38:55.967Z"
   },
   {
    "duration": 2400,
    "start_time": "2022-07-09T17:38:56.056Z"
   },
   {
    "duration": 9,
    "start_time": "2022-07-09T17:38:58.458Z"
   },
   {
    "duration": 15,
    "start_time": "2022-07-09T17:38:58.468Z"
   },
   {
    "duration": 27,
    "start_time": "2022-07-09T17:38:58.485Z"
   },
   {
    "duration": 27,
    "start_time": "2022-07-09T17:38:58.514Z"
   },
   {
    "duration": 9,
    "start_time": "2022-07-09T17:38:58.543Z"
   },
   {
    "duration": 21,
    "start_time": "2022-07-09T17:38:58.554Z"
   },
   {
    "duration": 17,
    "start_time": "2022-07-09T17:38:58.577Z"
   },
   {
    "duration": 26,
    "start_time": "2022-07-09T17:38:58.596Z"
   },
   {
    "duration": 104,
    "start_time": "2022-07-09T17:38:58.628Z"
   },
   {
    "duration": 54,
    "start_time": "2022-07-09T17:38:58.735Z"
   },
   {
    "duration": 60,
    "start_time": "2022-07-09T17:38:58.791Z"
   },
   {
    "duration": 8,
    "start_time": "2022-07-09T17:38:58.852Z"
   },
   {
    "duration": 7,
    "start_time": "2022-07-09T17:38:58.862Z"
   },
   {
    "duration": 8,
    "start_time": "2022-07-09T17:38:58.870Z"
   },
   {
    "duration": 19,
    "start_time": "2022-07-09T17:38:58.881Z"
   },
   {
    "duration": 113,
    "start_time": "2022-07-09T17:38:58.901Z"
   },
   {
    "duration": 20,
    "start_time": "2022-07-09T17:38:59.020Z"
   },
   {
    "duration": 9,
    "start_time": "2022-07-09T17:38:59.047Z"
   },
   {
    "duration": 9,
    "start_time": "2022-07-09T17:38:59.058Z"
   },
   {
    "duration": 8,
    "start_time": "2022-07-09T17:38:59.068Z"
   },
   {
    "duration": 4,
    "start_time": "2022-07-09T17:38:59.077Z"
   },
   {
    "duration": 37,
    "start_time": "2022-07-09T17:38:59.083Z"
   },
   {
    "duration": 23,
    "start_time": "2022-07-09T17:38:59.122Z"
   },
   {
    "duration": 9,
    "start_time": "2022-07-09T17:38:59.147Z"
   },
   {
    "duration": 18,
    "start_time": "2022-07-09T17:38:59.158Z"
   },
   {
    "duration": 59,
    "start_time": "2022-07-09T17:38:59.178Z"
   },
   {
    "duration": 9,
    "start_time": "2022-07-09T17:38:59.239Z"
   },
   {
    "duration": 7,
    "start_time": "2022-07-09T17:38:59.250Z"
   },
   {
    "duration": 3,
    "start_time": "2022-07-09T17:38:59.259Z"
   },
   {
    "duration": 11,
    "start_time": "2022-07-09T17:38:59.264Z"
   },
   {
    "duration": 35,
    "start_time": "2022-07-09T17:38:59.276Z"
   },
   {
    "duration": 38,
    "start_time": "2022-07-09T17:38:59.312Z"
   },
   {
    "duration": 26,
    "start_time": "2022-07-09T17:38:59.353Z"
   },
   {
    "duration": 8,
    "start_time": "2022-07-09T17:38:59.381Z"
   },
   {
    "duration": 4,
    "start_time": "2022-07-09T17:38:59.391Z"
   },
   {
    "duration": 45,
    "start_time": "2022-07-09T17:38:59.397Z"
   },
   {
    "duration": 13,
    "start_time": "2022-07-09T17:38:59.444Z"
   },
   {
    "duration": 6,
    "start_time": "2022-07-09T17:38:59.459Z"
   },
   {
    "duration": 4,
    "start_time": "2022-07-09T17:38:59.466Z"
   },
   {
    "duration": 372,
    "start_time": "2022-07-09T17:38:59.471Z"
   },
   {
    "duration": 5,
    "start_time": "2022-07-09T17:38:59.846Z"
   },
   {
    "duration": 202,
    "start_time": "2022-07-09T17:38:59.853Z"
   },
   {
    "duration": 11,
    "start_time": "2022-07-09T17:39:00.057Z"
   },
   {
    "duration": 264,
    "start_time": "2022-07-09T17:39:00.070Z"
   },
   {
    "duration": 122,
    "start_time": "2022-07-09T17:39:00.339Z"
   },
   {
    "duration": 404,
    "start_time": "2022-07-09T17:39:00.463Z"
   },
   {
    "duration": 208,
    "start_time": "2022-07-09T17:39:00.869Z"
   },
   {
    "duration": 9,
    "start_time": "2022-07-09T17:39:01.078Z"
   },
   {
    "duration": 230,
    "start_time": "2022-07-09T17:39:01.091Z"
   },
   {
    "duration": 234,
    "start_time": "2022-07-09T17:39:01.325Z"
   },
   {
    "duration": 8,
    "start_time": "2022-07-09T17:39:01.561Z"
   },
   {
    "duration": 192,
    "start_time": "2022-07-09T17:39:01.571Z"
   },
   {
    "duration": 186,
    "start_time": "2022-07-09T17:39:01.764Z"
   },
   {
    "duration": 8,
    "start_time": "2022-07-09T17:39:01.952Z"
   },
   {
    "duration": 170,
    "start_time": "2022-07-09T17:39:01.962Z"
   },
   {
    "duration": 172,
    "start_time": "2022-07-09T17:39:02.137Z"
   },
   {
    "duration": 151,
    "start_time": "2022-07-09T17:39:02.311Z"
   },
   {
    "duration": 204,
    "start_time": "2022-07-09T17:39:02.464Z"
   },
   {
    "duration": 348,
    "start_time": "2022-07-09T17:39:02.670Z"
   },
   {
    "duration": 211,
    "start_time": "2022-07-09T17:39:03.025Z"
   },
   {
    "duration": 207,
    "start_time": "2022-07-09T17:39:03.238Z"
   },
   {
    "duration": 195,
    "start_time": "2022-07-09T17:39:03.447Z"
   },
   {
    "duration": 174,
    "start_time": "2022-07-09T17:39:03.652Z"
   },
   {
    "duration": 239,
    "start_time": "2022-07-09T17:39:03.835Z"
   },
   {
    "duration": 10,
    "start_time": "2022-07-09T17:39:04.075Z"
   },
   {
    "duration": 163,
    "start_time": "2022-07-09T17:39:04.087Z"
   },
   {
    "duration": 230,
    "start_time": "2022-07-09T17:39:04.252Z"
   },
   {
    "duration": 259,
    "start_time": "2022-07-09T17:39:04.484Z"
   },
   {
    "duration": 248,
    "start_time": "2022-07-09T17:39:04.745Z"
   },
   {
    "duration": 239,
    "start_time": "2022-07-09T17:39:04.995Z"
   },
   {
    "duration": 190,
    "start_time": "2022-07-09T17:39:05.238Z"
   },
   {
    "duration": 223,
    "start_time": "2022-07-09T17:39:05.429Z"
   },
   {
    "duration": 233,
    "start_time": "2022-07-09T17:39:05.655Z"
   },
   {
    "duration": 365,
    "start_time": "2022-07-09T17:39:05.890Z"
   },
   {
    "duration": 24,
    "start_time": "2022-07-09T17:39:06.256Z"
   },
   {
    "duration": 21,
    "start_time": "2022-07-09T17:39:06.281Z"
   },
   {
    "duration": 43,
    "start_time": "2022-07-09T17:39:06.303Z"
   },
   {
    "duration": 8,
    "start_time": "2022-07-09T17:39:06.348Z"
   },
   {
    "duration": 19,
    "start_time": "2022-07-09T17:39:06.357Z"
   },
   {
    "duration": 211,
    "start_time": "2022-07-09T17:39:36.976Z"
   },
   {
    "duration": 16,
    "start_time": "2022-07-09T17:40:05.359Z"
   },
   {
    "duration": 18,
    "start_time": "2022-07-09T17:41:28.096Z"
   },
   {
    "duration": 187,
    "start_time": "2022-07-09T17:41:41.780Z"
   },
   {
    "duration": 10,
    "start_time": "2022-07-09T17:41:57.352Z"
   },
   {
    "duration": 262,
    "start_time": "2022-07-09T17:42:16.420Z"
   },
   {
    "duration": 28,
    "start_time": "2022-07-09T17:42:48.126Z"
   },
   {
    "duration": 20,
    "start_time": "2022-07-09T17:43:55.873Z"
   },
   {
    "duration": 21,
    "start_time": "2022-07-09T17:44:09.043Z"
   },
   {
    "duration": 5,
    "start_time": "2022-07-09T17:55:43.878Z"
   },
   {
    "duration": 838,
    "start_time": "2022-07-09T17:57:57.845Z"
   },
   {
    "duration": 45,
    "start_time": "2022-07-09T17:57:58.686Z"
   },
   {
    "duration": 31,
    "start_time": "2022-07-09T17:57:58.735Z"
   },
   {
    "duration": 101,
    "start_time": "2022-07-09T17:57:58.767Z"
   },
   {
    "duration": 2462,
    "start_time": "2022-07-09T17:57:58.872Z"
   },
   {
    "duration": 11,
    "start_time": "2022-07-09T17:58:01.336Z"
   },
   {
    "duration": 18,
    "start_time": "2022-07-09T17:58:01.349Z"
   },
   {
    "duration": 11,
    "start_time": "2022-07-09T17:58:01.369Z"
   },
   {
    "duration": 9,
    "start_time": "2022-07-09T17:58:01.382Z"
   },
   {
    "duration": 41,
    "start_time": "2022-07-09T17:58:01.393Z"
   },
   {
    "duration": 28,
    "start_time": "2022-07-09T17:58:01.436Z"
   },
   {
    "duration": 16,
    "start_time": "2022-07-09T17:58:01.466Z"
   },
   {
    "duration": 6,
    "start_time": "2022-07-09T17:58:01.484Z"
   },
   {
    "duration": 83,
    "start_time": "2022-07-09T17:58:01.494Z"
   },
   {
    "duration": 74,
    "start_time": "2022-07-09T17:58:01.578Z"
   },
   {
    "duration": 70,
    "start_time": "2022-07-09T17:58:01.655Z"
   },
   {
    "duration": 13,
    "start_time": "2022-07-09T17:58:01.731Z"
   },
   {
    "duration": 14,
    "start_time": "2022-07-09T17:58:01.746Z"
   },
   {
    "duration": 8,
    "start_time": "2022-07-09T17:58:01.762Z"
   },
   {
    "duration": 9,
    "start_time": "2022-07-09T17:58:01.772Z"
   },
   {
    "duration": 108,
    "start_time": "2022-07-09T17:58:01.782Z"
   },
   {
    "duration": 10,
    "start_time": "2022-07-09T17:58:01.892Z"
   },
   {
    "duration": 44,
    "start_time": "2022-07-09T17:58:01.903Z"
   },
   {
    "duration": 8,
    "start_time": "2022-07-09T17:58:01.949Z"
   },
   {
    "duration": 17,
    "start_time": "2022-07-09T17:58:01.958Z"
   },
   {
    "duration": 4,
    "start_time": "2022-07-09T17:58:01.977Z"
   },
   {
    "duration": 26,
    "start_time": "2022-07-09T17:58:01.984Z"
   },
   {
    "duration": 32,
    "start_time": "2022-07-09T17:58:02.012Z"
   },
   {
    "duration": 9,
    "start_time": "2022-07-09T17:58:02.046Z"
   },
   {
    "duration": 21,
    "start_time": "2022-07-09T17:58:02.057Z"
   },
   {
    "duration": 50,
    "start_time": "2022-07-09T17:58:02.080Z"
   },
   {
    "duration": 11,
    "start_time": "2022-07-09T17:58:02.132Z"
   },
   {
    "duration": 13,
    "start_time": "2022-07-09T17:58:02.145Z"
   },
   {
    "duration": 14,
    "start_time": "2022-07-09T17:58:02.160Z"
   },
   {
    "duration": 14,
    "start_time": "2022-07-09T17:58:02.176Z"
   },
   {
    "duration": 8,
    "start_time": "2022-07-09T17:58:02.191Z"
   },
   {
    "duration": 47,
    "start_time": "2022-07-09T17:58:02.203Z"
   },
   {
    "duration": 30,
    "start_time": "2022-07-09T17:58:02.252Z"
   },
   {
    "duration": 8,
    "start_time": "2022-07-09T17:58:02.284Z"
   },
   {
    "duration": 25,
    "start_time": "2022-07-09T17:58:02.293Z"
   },
   {
    "duration": 27,
    "start_time": "2022-07-09T17:58:02.324Z"
   },
   {
    "duration": 5,
    "start_time": "2022-07-09T17:58:02.353Z"
   },
   {
    "duration": 8,
    "start_time": "2022-07-09T17:58:02.360Z"
   },
   {
    "duration": 9,
    "start_time": "2022-07-09T17:58:02.370Z"
   },
   {
    "duration": 364,
    "start_time": "2022-07-09T17:58:02.381Z"
   },
   {
    "duration": 4,
    "start_time": "2022-07-09T17:58:02.747Z"
   },
   {
    "duration": 215,
    "start_time": "2022-07-09T17:58:02.753Z"
   },
   {
    "duration": 11,
    "start_time": "2022-07-09T17:58:02.970Z"
   },
   {
    "duration": 244,
    "start_time": "2022-07-09T17:58:02.982Z"
   },
   {
    "duration": 238,
    "start_time": "2022-07-09T17:58:03.227Z"
   },
   {
    "duration": 220,
    "start_time": "2022-07-09T17:58:03.467Z"
   },
   {
    "duration": 231,
    "start_time": "2022-07-09T17:58:03.689Z"
   },
   {
    "duration": 14,
    "start_time": "2022-07-09T17:58:03.932Z"
   },
   {
    "duration": 216,
    "start_time": "2022-07-09T17:58:03.948Z"
   },
   {
    "duration": 252,
    "start_time": "2022-07-09T17:58:04.166Z"
   },
   {
    "duration": 20,
    "start_time": "2022-07-09T17:58:04.420Z"
   },
   {
    "duration": 186,
    "start_time": "2022-07-09T17:58:04.442Z"
   },
   {
    "duration": 175,
    "start_time": "2022-07-09T17:58:04.634Z"
   },
   {
    "duration": 22,
    "start_time": "2022-07-09T17:58:04.818Z"
   },
   {
    "duration": 153,
    "start_time": "2022-07-09T17:58:04.842Z"
   },
   {
    "duration": 195,
    "start_time": "2022-07-09T17:58:04.996Z"
   },
   {
    "duration": 148,
    "start_time": "2022-07-09T17:58:05.193Z"
   },
   {
    "duration": 289,
    "start_time": "2022-07-09T17:58:05.343Z"
   },
   {
    "duration": 228,
    "start_time": "2022-07-09T17:58:05.644Z"
   },
   {
    "duration": 216,
    "start_time": "2022-07-09T17:58:05.874Z"
   },
   {
    "duration": 226,
    "start_time": "2022-07-09T17:58:06.092Z"
   },
   {
    "duration": 187,
    "start_time": "2022-07-09T17:58:06.319Z"
   },
   {
    "duration": 170,
    "start_time": "2022-07-09T17:58:06.513Z"
   },
   {
    "duration": 268,
    "start_time": "2022-07-09T17:58:06.685Z"
   },
   {
    "duration": 11,
    "start_time": "2022-07-09T17:58:06.955Z"
   },
   {
    "duration": 165,
    "start_time": "2022-07-09T17:58:06.968Z"
   },
   {
    "duration": 258,
    "start_time": "2022-07-09T17:58:07.134Z"
   },
   {
    "duration": 257,
    "start_time": "2022-07-09T17:58:07.394Z"
   },
   {
    "duration": 336,
    "start_time": "2022-07-09T17:58:07.655Z"
   },
   {
    "duration": 237,
    "start_time": "2022-07-09T17:58:07.993Z"
   },
   {
    "duration": 209,
    "start_time": "2022-07-09T17:58:08.231Z"
   },
   {
    "duration": 218,
    "start_time": "2022-07-09T17:58:08.443Z"
   },
   {
    "duration": 249,
    "start_time": "2022-07-09T17:58:08.663Z"
   },
   {
    "duration": 242,
    "start_time": "2022-07-09T17:58:08.917Z"
   },
   {
    "duration": 29,
    "start_time": "2022-07-09T17:58:09.161Z"
   },
   {
    "duration": 16,
    "start_time": "2022-07-09T17:58:09.198Z"
   },
   {
    "duration": 41,
    "start_time": "2022-07-09T17:58:09.215Z"
   },
   {
    "duration": 8,
    "start_time": "2022-07-09T17:58:09.258Z"
   },
   {
    "duration": 6,
    "start_time": "2022-07-09T17:58:09.267Z"
   },
   {
    "duration": 16,
    "start_time": "2022-07-09T17:58:09.274Z"
   },
   {
    "duration": 802,
    "start_time": "2022-07-09T19:38:36.932Z"
   },
   {
    "duration": 29,
    "start_time": "2022-07-09T19:38:37.736Z"
   },
   {
    "duration": 15,
    "start_time": "2022-07-09T19:38:37.766Z"
   },
   {
    "duration": 89,
    "start_time": "2022-07-09T19:38:37.783Z"
   },
   {
    "duration": 2014,
    "start_time": "2022-07-09T19:38:37.875Z"
   },
   {
    "duration": 9,
    "start_time": "2022-07-09T19:38:39.891Z"
   },
   {
    "duration": 15,
    "start_time": "2022-07-09T19:38:39.902Z"
   },
   {
    "duration": 28,
    "start_time": "2022-07-09T19:38:39.919Z"
   },
   {
    "duration": 4,
    "start_time": "2022-07-09T19:38:39.949Z"
   },
   {
    "duration": 9,
    "start_time": "2022-07-09T19:38:39.955Z"
   },
   {
    "duration": 22,
    "start_time": "2022-07-09T19:38:39.966Z"
   },
   {
    "duration": 16,
    "start_time": "2022-07-09T19:38:39.990Z"
   },
   {
    "duration": 6,
    "start_time": "2022-07-09T19:38:40.008Z"
   },
   {
    "duration": 88,
    "start_time": "2022-07-09T19:38:40.016Z"
   },
   {
    "duration": 62,
    "start_time": "2022-07-09T19:38:40.108Z"
   },
   {
    "duration": 46,
    "start_time": "2022-07-09T19:38:40.172Z"
   },
   {
    "duration": 7,
    "start_time": "2022-07-09T19:38:40.220Z"
   },
   {
    "duration": 25,
    "start_time": "2022-07-09T19:38:40.228Z"
   },
   {
    "duration": 6,
    "start_time": "2022-07-09T19:38:40.254Z"
   },
   {
    "duration": 11,
    "start_time": "2022-07-09T19:38:40.261Z"
   },
   {
    "duration": 85,
    "start_time": "2022-07-09T19:38:40.274Z"
   },
   {
    "duration": 7,
    "start_time": "2022-07-09T19:38:40.361Z"
   },
   {
    "duration": 9,
    "start_time": "2022-07-09T19:38:40.369Z"
   },
   {
    "duration": 10,
    "start_time": "2022-07-09T19:38:40.379Z"
   },
   {
    "duration": 9,
    "start_time": "2022-07-09T19:38:40.391Z"
   },
   {
    "duration": 5,
    "start_time": "2022-07-09T19:38:40.402Z"
   },
   {
    "duration": 16,
    "start_time": "2022-07-09T19:38:40.446Z"
   },
   {
    "duration": 3,
    "start_time": "2022-07-09T19:38:40.466Z"
   },
   {
    "duration": 9,
    "start_time": "2022-07-09T19:38:40.470Z"
   },
   {
    "duration": 15,
    "start_time": "2022-07-09T19:38:40.480Z"
   },
   {
    "duration": 67,
    "start_time": "2022-07-09T19:38:40.497Z"
   },
   {
    "duration": 7,
    "start_time": "2022-07-09T19:38:40.565Z"
   },
   {
    "duration": 6,
    "start_time": "2022-07-09T19:38:40.574Z"
   },
   {
    "duration": 3,
    "start_time": "2022-07-09T19:38:40.581Z"
   },
   {
    "duration": 11,
    "start_time": "2022-07-09T19:38:40.586Z"
   },
   {
    "duration": 8,
    "start_time": "2022-07-09T19:38:40.598Z"
   },
   {
    "duration": 40,
    "start_time": "2022-07-09T19:38:40.607Z"
   },
   {
    "duration": 24,
    "start_time": "2022-07-09T19:38:40.649Z"
   },
   {
    "duration": 10,
    "start_time": "2022-07-09T19:38:40.674Z"
   },
   {
    "duration": 6,
    "start_time": "2022-07-09T19:38:40.685Z"
   },
   {
    "duration": 9,
    "start_time": "2022-07-09T19:38:40.692Z"
   },
   {
    "duration": 45,
    "start_time": "2022-07-09T19:38:40.702Z"
   },
   {
    "duration": 5,
    "start_time": "2022-07-09T19:38:40.749Z"
   },
   {
    "duration": 4,
    "start_time": "2022-07-09T19:38:40.756Z"
   },
   {
    "duration": 294,
    "start_time": "2022-07-09T19:38:40.761Z"
   },
   {
    "duration": 3,
    "start_time": "2022-07-09T19:38:41.058Z"
   },
   {
    "duration": 167,
    "start_time": "2022-07-09T19:38:41.063Z"
   },
   {
    "duration": 18,
    "start_time": "2022-07-09T19:38:41.232Z"
   },
   {
    "duration": 197,
    "start_time": "2022-07-09T19:38:41.252Z"
   },
   {
    "duration": 224,
    "start_time": "2022-07-09T19:38:41.451Z"
   },
   {
    "duration": 185,
    "start_time": "2022-07-09T19:38:41.677Z"
   },
   {
    "duration": 174,
    "start_time": "2022-07-09T19:38:41.863Z"
   },
   {
    "duration": 14,
    "start_time": "2022-07-09T19:38:42.039Z"
   },
   {
    "duration": 213,
    "start_time": "2022-07-09T19:38:42.055Z"
   },
   {
    "duration": 213,
    "start_time": "2022-07-09T19:38:42.270Z"
   },
   {
    "duration": 10,
    "start_time": "2022-07-09T19:38:42.485Z"
   },
   {
    "duration": 166,
    "start_time": "2022-07-09T19:38:42.497Z"
   },
   {
    "duration": 152,
    "start_time": "2022-07-09T19:38:42.665Z"
   },
   {
    "duration": 9,
    "start_time": "2022-07-09T19:38:42.818Z"
   },
   {
    "duration": 139,
    "start_time": "2022-07-09T19:38:42.828Z"
   },
   {
    "duration": 164,
    "start_time": "2022-07-09T19:38:42.969Z"
   },
   {
    "duration": 125,
    "start_time": "2022-07-09T19:38:43.135Z"
   },
   {
    "duration": 238,
    "start_time": "2022-07-09T19:38:43.262Z"
   },
   {
    "duration": 201,
    "start_time": "2022-07-09T19:38:43.501Z"
   },
   {
    "duration": 168,
    "start_time": "2022-07-09T19:38:43.704Z"
   },
   {
    "duration": 211,
    "start_time": "2022-07-09T19:38:43.874Z"
   },
   {
    "duration": 160,
    "start_time": "2022-07-09T19:38:44.087Z"
   },
   {
    "duration": 142,
    "start_time": "2022-07-09T19:38:44.249Z"
   },
   {
    "duration": 239,
    "start_time": "2022-07-09T19:38:44.393Z"
   },
   {
    "duration": 15,
    "start_time": "2022-07-09T19:38:44.634Z"
   },
   {
    "duration": 127,
    "start_time": "2022-07-09T19:38:44.650Z"
   },
   {
    "duration": 208,
    "start_time": "2022-07-09T19:38:44.779Z"
   },
   {
    "duration": 202,
    "start_time": "2022-07-09T19:38:44.989Z"
   },
   {
    "duration": 318,
    "start_time": "2022-07-09T19:38:45.193Z"
   },
   {
    "duration": 197,
    "start_time": "2022-07-09T19:38:45.513Z"
   },
   {
    "duration": 176,
    "start_time": "2022-07-09T19:38:45.712Z"
   },
   {
    "duration": 195,
    "start_time": "2022-07-09T19:38:45.889Z"
   },
   {
    "duration": 194,
    "start_time": "2022-07-09T19:38:46.086Z"
   },
   {
    "duration": 192,
    "start_time": "2022-07-09T19:38:46.281Z"
   },
   {
    "duration": 25,
    "start_time": "2022-07-09T19:38:46.474Z"
   },
   {
    "duration": 12,
    "start_time": "2022-07-09T19:38:46.501Z"
   },
   {
    "duration": 31,
    "start_time": "2022-07-09T19:38:46.518Z"
   },
   {
    "duration": 12,
    "start_time": "2022-07-09T19:38:46.551Z"
   },
   {
    "duration": 21,
    "start_time": "2022-07-09T19:38:46.565Z"
   },
   {
    "duration": 31,
    "start_time": "2022-07-09T19:38:46.588Z"
   },
   {
    "duration": 8,
    "start_time": "2022-07-09T20:16:02.306Z"
   },
   {
    "duration": 47,
    "start_time": "2022-07-09T20:22:13.902Z"
   },
   {
    "duration": 4,
    "start_time": "2022-07-09T20:24:54.127Z"
   },
   {
    "duration": 28,
    "start_time": "2022-07-09T20:38:04.485Z"
   },
   {
    "duration": 23,
    "start_time": "2022-07-09T20:38:17.948Z"
   },
   {
    "duration": 53,
    "start_time": "2022-07-09T20:42:04.216Z"
   },
   {
    "duration": 40,
    "start_time": "2022-07-09T20:42:30.671Z"
   },
   {
    "duration": 10,
    "start_time": "2022-07-09T20:42:46.270Z"
   },
   {
    "duration": 11,
    "start_time": "2022-07-09T20:42:53.596Z"
   },
   {
    "duration": 9,
    "start_time": "2022-07-09T20:43:04.448Z"
   },
   {
    "duration": 45,
    "start_time": "2022-07-09T20:43:09.982Z"
   },
   {
    "duration": 10,
    "start_time": "2022-07-09T20:43:17.079Z"
   },
   {
    "duration": 41,
    "start_time": "2022-07-09T20:47:03.143Z"
   },
   {
    "duration": 40,
    "start_time": "2022-07-09T20:47:06.916Z"
   },
   {
    "duration": 5,
    "start_time": "2022-07-09T20:47:16.890Z"
   },
   {
    "duration": 5,
    "start_time": "2022-07-09T20:47:29.503Z"
   },
   {
    "duration": 7,
    "start_time": "2022-07-09T20:47:37.263Z"
   },
   {
    "duration": 7,
    "start_time": "2022-07-09T20:48:01.130Z"
   }
  ],
  "kernelspec": {
   "display_name": "Python 3 (ipykernel)",
   "language": "python",
   "name": "python3"
  },
  "language_info": {
   "codemirror_mode": {
    "name": "ipython",
    "version": 3
   },
   "file_extension": ".py",
   "mimetype": "text/x-python",
   "name": "python",
   "nbconvert_exporter": "python",
   "pygments_lexer": "ipython3",
   "version": "3.9.12"
  },
  "toc": {
   "base_numbering": 1,
   "nav_menu": {},
   "number_sections": true,
   "sideBar": true,
   "skip_h1_title": true,
   "title_cell": "Table of Contents",
   "title_sidebar": "Contents",
   "toc_cell": false,
   "toc_position": {},
   "toc_section_display": true,
   "toc_window_display": false
  }
 },
 "nbformat": 4,
 "nbformat_minor": 2
}

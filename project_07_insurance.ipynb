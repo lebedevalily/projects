{
 "cells": [
  {
   "cell_type": "markdown",
   "metadata": {
    "toc": true
   },
   "source": [
    "<h1>Содержание<span class=\"tocSkip\"></span></h1>\n",
    "<div class=\"toc\"><ul class=\"toc-item\"><li><span><a href=\"#Загрузка-данных\" data-toc-modified-id=\"Загрузка-данных-1\"><span class=\"toc-item-num\">1&nbsp;&nbsp;</span>Загрузка данных</a></span></li><li><span><a href=\"#Умножение-матриц\" data-toc-modified-id=\"Умножение-матриц-2\"><span class=\"toc-item-num\">2&nbsp;&nbsp;</span>Умножение матриц</a></span></li><li><span><a href=\"#Алгоритм-преобразования\" data-toc-modified-id=\"Алгоритм-преобразования-3\"><span class=\"toc-item-num\">3&nbsp;&nbsp;</span>Алгоритм преобразования</a></span></li><li><span><a href=\"#Проверка-алгоритма\" data-toc-modified-id=\"Проверка-алгоритма-4\"><span class=\"toc-item-num\">4&nbsp;&nbsp;</span>Проверка алгоритма</a></span></li><li><span><a href=\"#Чек-лист-проверки\" data-toc-modified-id=\"Чек-лист-проверки-5\"><span class=\"toc-item-num\">5&nbsp;&nbsp;</span>Чек-лист проверки</a></span></li></ul></div>"
   ]
  },
  {
   "cell_type": "markdown",
   "metadata": {},
   "source": [
    "# Защита персональных данных клиентов"
   ]
  },
  {
   "cell_type": "markdown",
   "metadata": {},
   "source": [
    "Требуется защитить данные клиентов страховой компании. Предлагается разработать такой метод преобразования данных, чтобы по ним было сложно восстановить персональную информацию, а также обосновать корректность его работы.\n",
    "\n",
    "Нужно защитить данные, чтобы при преобразовании качество моделей машинного обучения не ухудшилось. Подбирать наилучшую модель не требуется."
   ]
  },
  {
   "cell_type": "markdown",
   "metadata": {},
   "source": [
    "Признаки: пол, возраст и зарплата застрахованного, количество членов его семьи.\n",
    "\n",
    "Целевой признак: количество страховых выплат клиенту за последние 5 лет."
   ]
  },
  {
   "cell_type": "markdown",
   "metadata": {},
   "source": [
    "## Загрузка данных"
   ]
  },
  {
   "cell_type": "markdown",
   "metadata": {},
   "source": [
    "Импортируем необходимые библиотеки."
   ]
  },
  {
   "cell_type": "code",
   "execution_count": 1,
   "metadata": {},
   "outputs": [],
   "source": [
    "import pandas as pd\n",
    "import numpy as np\n",
    "\n",
    "from sklearn.linear_model import LinearRegression\n",
    "from sklearn.model_selection import train_test_split\n",
    "from sklearn.metrics import mean_squared_error, mean_absolute_error, r2_score"
   ]
  },
  {
   "cell_type": "markdown",
   "metadata": {},
   "source": [
    "Загрузим данные и сохраним их в переменную df."
   ]
  },
  {
   "cell_type": "code",
   "execution_count": 2,
   "metadata": {},
   "outputs": [],
   "source": [
    "df = pd.read_csv('insurance.csv')"
   ]
  },
  {
   "cell_type": "markdown",
   "metadata": {},
   "source": [
    "Изучим первые 5 строк и основную информацию о таблице, а также проверим наличие дубликатов."
   ]
  },
  {
   "cell_type": "code",
   "execution_count": 3,
   "metadata": {},
   "outputs": [
    {
     "data": {
      "text/html": [
       "<div>\n",
       "<style scoped>\n",
       "    .dataframe tbody tr th:only-of-type {\n",
       "        vertical-align: middle;\n",
       "    }\n",
       "\n",
       "    .dataframe tbody tr th {\n",
       "        vertical-align: top;\n",
       "    }\n",
       "\n",
       "    .dataframe thead th {\n",
       "        text-align: right;\n",
       "    }\n",
       "</style>\n",
       "<table border=\"1\" class=\"dataframe\">\n",
       "  <thead>\n",
       "    <tr style=\"text-align: right;\">\n",
       "      <th></th>\n",
       "      <th>Пол</th>\n",
       "      <th>Возраст</th>\n",
       "      <th>Зарплата</th>\n",
       "      <th>Члены семьи</th>\n",
       "      <th>Страховые выплаты</th>\n",
       "    </tr>\n",
       "  </thead>\n",
       "  <tbody>\n",
       "    <tr>\n",
       "      <th>0</th>\n",
       "      <td>1</td>\n",
       "      <td>41.0</td>\n",
       "      <td>49600.0</td>\n",
       "      <td>1</td>\n",
       "      <td>0</td>\n",
       "    </tr>\n",
       "    <tr>\n",
       "      <th>1</th>\n",
       "      <td>0</td>\n",
       "      <td>46.0</td>\n",
       "      <td>38000.0</td>\n",
       "      <td>1</td>\n",
       "      <td>1</td>\n",
       "    </tr>\n",
       "    <tr>\n",
       "      <th>2</th>\n",
       "      <td>0</td>\n",
       "      <td>29.0</td>\n",
       "      <td>21000.0</td>\n",
       "      <td>0</td>\n",
       "      <td>0</td>\n",
       "    </tr>\n",
       "    <tr>\n",
       "      <th>3</th>\n",
       "      <td>0</td>\n",
       "      <td>21.0</td>\n",
       "      <td>41700.0</td>\n",
       "      <td>2</td>\n",
       "      <td>0</td>\n",
       "    </tr>\n",
       "    <tr>\n",
       "      <th>4</th>\n",
       "      <td>1</td>\n",
       "      <td>28.0</td>\n",
       "      <td>26100.0</td>\n",
       "      <td>0</td>\n",
       "      <td>0</td>\n",
       "    </tr>\n",
       "  </tbody>\n",
       "</table>\n",
       "</div>"
      ],
      "text/plain": [
       "   Пол  Возраст  Зарплата  Члены семьи  Страховые выплаты\n",
       "0    1     41.0   49600.0            1                  0\n",
       "1    0     46.0   38000.0            1                  1\n",
       "2    0     29.0   21000.0            0                  0\n",
       "3    0     21.0   41700.0            2                  0\n",
       "4    1     28.0   26100.0            0                  0"
      ]
     },
     "execution_count": 3,
     "metadata": {},
     "output_type": "execute_result"
    }
   ],
   "source": [
    "df.head()"
   ]
  },
  {
   "cell_type": "code",
   "execution_count": 4,
   "metadata": {},
   "outputs": [
    {
     "name": "stdout",
     "output_type": "stream",
     "text": [
      "<class 'pandas.core.frame.DataFrame'>\n",
      "RangeIndex: 5000 entries, 0 to 4999\n",
      "Data columns (total 5 columns):\n",
      " #   Column             Non-Null Count  Dtype  \n",
      "---  ------             --------------  -----  \n",
      " 0   Пол                5000 non-null   int64  \n",
      " 1   Возраст            5000 non-null   float64\n",
      " 2   Зарплата           5000 non-null   float64\n",
      " 3   Члены семьи        5000 non-null   int64  \n",
      " 4   Страховые выплаты  5000 non-null   int64  \n",
      "dtypes: float64(2), int64(3)\n",
      "memory usage: 195.4 KB\n"
     ]
    }
   ],
   "source": [
    "df.info()"
   ]
  },
  {
   "cell_type": "code",
   "execution_count": 5,
   "metadata": {},
   "outputs": [
    {
     "data": {
      "text/plain": [
       "153"
      ]
     },
     "execution_count": 5,
     "metadata": {},
     "output_type": "execute_result"
    }
   ],
   "source": [
    "df.duplicated().sum()"
   ]
  },
  {
   "cell_type": "markdown",
   "metadata": {},
   "source": [
    "В данных нет пропусков, все данные имеют корректный тип. В таблице имеется 153 дубликата, однако, т.к. в данных отсутствуют идентификаторы клиентов, мы не можем быть уверены, что это действительно дубликаты, а не просто совпадающие значения, поэтому удалять данные строки не будем."
   ]
  },
  {
   "cell_type": "markdown",
   "metadata": {},
   "source": [
    "Также рассмотрим корреляции признаков и целевого признака."
   ]
  },
  {
   "cell_type": "code",
   "execution_count": 6,
   "metadata": {},
   "outputs": [
    {
     "data": {
      "text/html": [
       "<div>\n",
       "<style scoped>\n",
       "    .dataframe tbody tr th:only-of-type {\n",
       "        vertical-align: middle;\n",
       "    }\n",
       "\n",
       "    .dataframe tbody tr th {\n",
       "        vertical-align: top;\n",
       "    }\n",
       "\n",
       "    .dataframe thead th {\n",
       "        text-align: right;\n",
       "    }\n",
       "</style>\n",
       "<table border=\"1\" class=\"dataframe\">\n",
       "  <thead>\n",
       "    <tr style=\"text-align: right;\">\n",
       "      <th></th>\n",
       "      <th>Пол</th>\n",
       "      <th>Возраст</th>\n",
       "      <th>Зарплата</th>\n",
       "      <th>Члены семьи</th>\n",
       "      <th>Страховые выплаты</th>\n",
       "    </tr>\n",
       "  </thead>\n",
       "  <tbody>\n",
       "    <tr>\n",
       "      <th>Пол</th>\n",
       "      <td>1.000000</td>\n",
       "      <td>0.002074</td>\n",
       "      <td>0.014910</td>\n",
       "      <td>-0.008991</td>\n",
       "      <td>0.010140</td>\n",
       "    </tr>\n",
       "    <tr>\n",
       "      <th>Возраст</th>\n",
       "      <td>0.002074</td>\n",
       "      <td>1.000000</td>\n",
       "      <td>-0.019093</td>\n",
       "      <td>-0.006692</td>\n",
       "      <td>0.651030</td>\n",
       "    </tr>\n",
       "    <tr>\n",
       "      <th>Зарплата</th>\n",
       "      <td>0.014910</td>\n",
       "      <td>-0.019093</td>\n",
       "      <td>1.000000</td>\n",
       "      <td>-0.030296</td>\n",
       "      <td>-0.014963</td>\n",
       "    </tr>\n",
       "    <tr>\n",
       "      <th>Члены семьи</th>\n",
       "      <td>-0.008991</td>\n",
       "      <td>-0.006692</td>\n",
       "      <td>-0.030296</td>\n",
       "      <td>1.000000</td>\n",
       "      <td>-0.036290</td>\n",
       "    </tr>\n",
       "    <tr>\n",
       "      <th>Страховые выплаты</th>\n",
       "      <td>0.010140</td>\n",
       "      <td>0.651030</td>\n",
       "      <td>-0.014963</td>\n",
       "      <td>-0.036290</td>\n",
       "      <td>1.000000</td>\n",
       "    </tr>\n",
       "  </tbody>\n",
       "</table>\n",
       "</div>"
      ],
      "text/plain": [
       "                        Пол   Возраст  Зарплата  Члены семьи  \\\n",
       "Пол                1.000000  0.002074  0.014910    -0.008991   \n",
       "Возраст            0.002074  1.000000 -0.019093    -0.006692   \n",
       "Зарплата           0.014910 -0.019093  1.000000    -0.030296   \n",
       "Члены семьи       -0.008991 -0.006692 -0.030296     1.000000   \n",
       "Страховые выплаты  0.010140  0.651030 -0.014963    -0.036290   \n",
       "\n",
       "                   Страховые выплаты  \n",
       "Пол                         0.010140  \n",
       "Возраст                     0.651030  \n",
       "Зарплата                   -0.014963  \n",
       "Члены семьи                -0.036290  \n",
       "Страховые выплаты           1.000000  "
      ]
     },
     "execution_count": 6,
     "metadata": {},
     "output_type": "execute_result"
    }
   ],
   "source": [
    "df.corr()"
   ]
  },
  {
   "cell_type": "markdown",
   "metadata": {},
   "source": [
    "Наблюдается средняя линейная зависимость между признаком \"Пол\" и целевым признаком \"Страховые выплаты\" (коэффициент корреляции 0.65). Между остальными признаками линейная зависимость отсутствует."
   ]
  },
  {
   "cell_type": "markdown",
   "metadata": {},
   "source": [
    "## Умножение матриц"
   ]
  },
  {
   "cell_type": "markdown",
   "metadata": {},
   "source": [
    "Рассмотрим, как повлияет на качество линейной регрессии умножение матрицы признаков на обратимую матрицу."
   ]
  },
  {
   "cell_type": "markdown",
   "metadata": {},
   "source": [
    "Обозначения:\n",
    "\n",
    "- $X$ — матрица признаков (нулевой столбец состоит из единиц)\n",
    "\n",
    "- $y$ — вектор целевого признака\n",
    "\n",
    "- $P$ — матрица, на которую умножаются признаки\n",
    "\n",
    "- $w$ — вектор весов линейной регрессии (нулевой элемент равен сдвигу)"
   ]
  },
  {
   "cell_type": "markdown",
   "metadata": {},
   "source": [
    "1. Формула получения предсказаний:  \n",
    "$ a = Xw $  \n",
    "  \n",
    "  \n",
    "2. Формула обучения:  \n",
    "$ w = (X^T X)^{-1} X^T y $  \n",
    "\n",
    "\n",
    "3. Объединим обе формулы:  \n",
    "$ a = X (X^T X)^{-1} X^T y $\n",
    "\n",
    "\n",
    "4. Выполним умножение матрицы признаков на случайную обратимую матрицу P:  \n",
    "$ a = X P ((X P)^T X P)^{-1} (X P)^T y$\n",
    "\n",
    "\n",
    "5. Учитывая свойство матриц $ (AB)^T=B^T A^T $, раскроем скобки:  \n",
    "$ a = X P (P^T X^T X P)^{-1} P^T X^T y$\n",
    "\n",
    "\n",
    "6. Так как $ X^T X $ - квадратная матрица, а для квадратных матриц применимо свойство $ (A B C)^{-1} = C^{-1} B^{-1} A^{-1} $, получаем:  \n",
    "$ a = X P P^{-1} (X^T X) (P^T)^{-1} P^T X^T y$\n",
    "\n",
    "\n",
    "7. Так как $ P P^{-1} $ и $ P^T (P^T)^{-1} $ это единичные матрицы, умножение на которые не меняет исходную матрицу, сократим уравнение:  \n",
    "$ a = X (X^T X) X^T y $\n",
    "\n",
    "\n",
    "Получаем исходную формулу из п.3."
   ]
  },
  {
   "cell_type": "markdown",
   "metadata": {},
   "source": [
    "Таким образом, умножение матрицы признаков на обратимую матрицу не влияет на качество линейной регрессии."
   ]
  },
  {
   "cell_type": "markdown",
   "metadata": {},
   "source": [
    "## Алгоритм преобразования"
   ]
  },
  {
   "cell_type": "markdown",
   "metadata": {},
   "source": [
    "Так как умножение матрицы признаков на обратимую матрицу не меняет качество линейной регрессии, используем в качестве алгоритма шифрования умножение матрицы признаков на случайную обратимую матрицу.\n",
    "\n",
    "Для проверки обратимости матрицы проверим ее ранг (должен быть равен количеству строк), а также наличие обратной для нее матрицы.\n",
    "\n",
    "Для дешифрования данных необходимо будет умножить зашифрованную матрицу на обратную для случайной матрицу.\n",
    "\n",
    "Проверим данный алгоритм на практике."
   ]
  },
  {
   "cell_type": "markdown",
   "metadata": {},
   "source": [
    "## Проверка алгоритма"
   ]
  },
  {
   "cell_type": "markdown",
   "metadata": {},
   "source": [
    "Разделим данные на признаки и целевой признак."
   ]
  },
  {
   "cell_type": "code",
   "execution_count": 7,
   "metadata": {},
   "outputs": [],
   "source": [
    "features = df.drop(['Страховые выплаты'], axis=1)\n",
    "target = df['Страховые выплаты']"
   ]
  },
  {
   "cell_type": "markdown",
   "metadata": {},
   "source": [
    "Разделим признаки и целевой признак на обучающую и тестовую выборки."
   ]
  },
  {
   "cell_type": "code",
   "execution_count": 8,
   "metadata": {},
   "outputs": [],
   "source": [
    "features_train, features_test, target_train, target_test = train_test_split(features, target, test_size=0.25, random_state=12345)"
   ]
  },
  {
   "cell_type": "markdown",
   "metadata": {},
   "source": [
    "Обучим линейную регрессию на исходных данных и получим значения метрик MSE, MAE, R2."
   ]
  },
  {
   "cell_type": "code",
   "execution_count": 9,
   "metadata": {},
   "outputs": [
    {
     "name": "stdout",
     "output_type": "stream",
     "text": [
      "MSE на исходных данных: 0.11660517472525592\n",
      "MAE на исходных данных: 0.24631847312116806\n",
      "R2 на исходных данных: 0.43522757127026546\n"
     ]
    }
   ],
   "source": [
    "model = LinearRegression()\n",
    "model.fit(features_train, target_train)\n",
    "predictions = model.predict(features_test)\n",
    "mse = mean_squared_error(target_test, predictions)\n",
    "mae = mean_absolute_error(target_test, predictions)\n",
    "r2 = r2_score(target_test, predictions)\n",
    "print('MSE на исходных данных:', mse)\n",
    "print('MAE на исходных данных:', mae)\n",
    "print('R2 на исходных данных:', r2)"
   ]
  },
  {
   "cell_type": "markdown",
   "metadata": {},
   "source": [
    "Теперь создадим случайную матрицу E размера 4x4 (т.к. у нас 4 признака) и обратную к ней матрицу D. В случае, если матрица E окажется необратимой, на экран будет выведено предупреждение."
   ]
  },
  {
   "cell_type": "code",
   "execution_count": 10,
   "metadata": {},
   "outputs": [],
   "source": [
    "state = np.random.RandomState(12345)\n",
    "E = state.randint(1, 10, size=(features.shape[1],features.shape[1]))"
   ]
  },
  {
   "cell_type": "code",
   "execution_count": 11,
   "metadata": {},
   "outputs": [],
   "source": [
    "try:\n",
    "    D = np.linalg.inv(E)\n",
    "except Exception:\n",
    "    print('Матрица E необратима. Необходимо создать другую матрицу')"
   ]
  },
  {
   "cell_type": "markdown",
   "metadata": {},
   "source": [
    "Для дополнительной проверки на обратимость проверим ранг матрицы E."
   ]
  },
  {
   "cell_type": "code",
   "execution_count": 12,
   "metadata": {},
   "outputs": [
    {
     "data": {
      "text/plain": [
       "4"
      ]
     },
     "execution_count": 12,
     "metadata": {},
     "output_type": "execute_result"
    }
   ],
   "source": [
    "np.linalg.matrix_rank(E)"
   ]
  },
  {
   "cell_type": "markdown",
   "metadata": {},
   "source": [
    "Ранг матрицы совпадает с количеством строк, значим матрица обратима."
   ]
  },
  {
   "cell_type": "markdown",
   "metadata": {},
   "source": [
    "Зашифруем признаки на обучающей и тестовой выборках путем умножения на матрицу E."
   ]
  },
  {
   "cell_type": "code",
   "execution_count": 13,
   "metadata": {},
   "outputs": [],
   "source": [
    "features_train_enc = features_train @ E\n",
    "features_test_enc = features_test @ E"
   ]
  },
  {
   "cell_type": "markdown",
   "metadata": {},
   "source": [
    "Обучим линейную регрессию на зашифрованных данных и получим значения метрик MSE, MAE, R2."
   ]
  },
  {
   "cell_type": "code",
   "execution_count": 14,
   "metadata": {},
   "outputs": [
    {
     "name": "stdout",
     "output_type": "stream",
     "text": [
      "MSE на зашифрованных данных: 0.11660517472524719\n",
      "MAE на зашифрованных данных: 0.2463184731211494\n",
      "R2 на зашифрованных данных: 0.43522757127030764\n"
     ]
    }
   ],
   "source": [
    "model_enc = LinearRegression()\n",
    "model_enc.fit(features_train_enc, target_train)\n",
    "predictions_enc = model_enc.predict(features_test_enc)\n",
    "mse_enc = mean_squared_error(target_test, predictions_enc)\n",
    "mae_enc = mean_absolute_error(target_test, predictions_enc)\n",
    "r2_enc = r2_score(target_test, predictions_enc)\n",
    "print('MSE на зашифрованных данных:', mse_enc)\n",
    "print('MAE на зашифрованных данных:', mae_enc)\n",
    "print('R2 на зашифрованных данных:', r2_enc)"
   ]
  },
  {
   "cell_type": "markdown",
   "metadata": {},
   "source": [
    "После шифрования данных метрики не изменились.\n",
    "\n",
    "Также проверим, что после дешифровки качество предсказаний также не поменяется. Расшифруем признаки путем умножения шифрованных данных на матрицу D."
   ]
  },
  {
   "cell_type": "code",
   "execution_count": 15,
   "metadata": {},
   "outputs": [],
   "source": [
    "features_train_dec = features_train_enc @ D\n",
    "features_test_dec = features_test_enc @ D"
   ]
  },
  {
   "cell_type": "markdown",
   "metadata": {},
   "source": [
    "Обучим линейную регрессию на дешифрованных данных и получим значения метрик MSE, MAE, R2."
   ]
  },
  {
   "cell_type": "code",
   "execution_count": 16,
   "metadata": {},
   "outputs": [
    {
     "name": "stdout",
     "output_type": "stream",
     "text": [
      "MSE на дешифрованных данных: 0.11660517472525739\n",
      "MAE на дешифрованных данных: 0.2463184731211746\n",
      "R2 на дешифрованных данных: 0.43522757127025824\n"
     ]
    }
   ],
   "source": [
    "model_dec = LinearRegression()\n",
    "model_dec.fit(features_train_dec, target_train)\n",
    "predictions_dec = model_dec.predict(features_test_dec)\n",
    "mse_dec = mean_squared_error(target_test, predictions_dec)\n",
    "mae_dec = mean_absolute_error(target_test, predictions_dec)\n",
    "r2_dec = r2_score(target_test, predictions_dec)\n",
    "print('MSE на дешифрованных данных:', mse_dec)\n",
    "print('MAE на дешифрованных данных:', mae_dec)\n",
    "print('R2 на дешифрованных данных:', r2_dec)"
   ]
  },
  {
   "cell_type": "markdown",
   "metadata": {},
   "source": [
    "**Вывод**\n",
    "\n",
    "Перед нами стояла задача защитить персональные данные клиентов страховой компании, которые используются для обучения модели машинного обучения.\n",
    "\n",
    "Признаки: пол, возраст и зарплата застрахованного, количество членов его семьи.\n",
    "Целевой признак: количество страховых выплат клиенту за последние 5 лет.\n",
    "\n",
    "В выборке были представлены данные 5 000 клиентов. В данных отсутствуют пропуски, все данные имеют корректный тип. Также была выявлена средняя линейная зависимость целевого признака (\"Страховые выплаты\") от одного из признаков (\"Пол\"), коэффициент корреляции - 0.65.\n",
    "\n",
    "Теоретически было доказано, что при умножении матрицы признаков на случайную обратимую матрицу качество линейной регрессии не меняется, в связи с чем данный алгоритм был выбран для шифрования данных, а в качестве модели машинного обучения была использована линейная регрессия.\n",
    "\n",
    "При шифровании данных путем умножения на случайную обратимую матрицу и их последующем дешифровании были получены следующие значения метрик:\n",
    "\n",
    "MSE на исходных данных: 0.11660517472525592  \n",
    "MAE на исходных данных: 0.24631847312116806  \n",
    "R2 на исходных данных: 0.43522757127026546  \n",
    "\n",
    "MSE на зашифрованных данных: 0.11660517472524719  \n",
    "MAE на зашифрованных данных: 0.2463184731211494  \n",
    "R2 на зашифрованных данных: 0.43522757127030764  \n",
    "\n",
    "MSE на дешифрованных данных: 0.11660517472525739  \n",
    "MAE на дешифрованных данных: 0.2463184731211746  \n",
    "R2 на дешифрованных данных: 0.43522757127025824  \n",
    "\n",
    "Значения метрик практически идентичны на исходных, зашифрованных и дешифрованных данных. Это практически доказывает, что умножение матрицы признаков на обратимую матрицу на влияет на качество линейной регрессии, и данных алгоритм можно использовать для шифрования данных."
   ]
  },
  {
   "cell_type": "code",
   "execution_count": null,
   "metadata": {},
   "outputs": [],
   "source": []
  }
 ],
 "metadata": {
  "ExecuteTimeLog": [
   {
    "duration": 458,
    "start_time": "2022-10-15T10:32:26.670Z"
   },
   {
    "duration": 96,
    "start_time": "2022-10-15T10:33:01.219Z"
   },
   {
    "duration": 18,
    "start_time": "2022-10-15T10:33:12.127Z"
   },
   {
    "duration": 13,
    "start_time": "2022-10-15T10:33:32.858Z"
   },
   {
    "duration": 777,
    "start_time": "2022-10-15T10:33:45.895Z"
   },
   {
    "duration": 7,
    "start_time": "2022-10-15T10:52:12.144Z"
   },
   {
    "duration": 1013,
    "start_time": "2022-10-16T10:30:11.612Z"
   },
   {
    "duration": 98,
    "start_time": "2022-10-16T10:30:12.627Z"
   },
   {
    "duration": 14,
    "start_time": "2022-10-16T10:30:13.090Z"
   },
   {
    "duration": 11,
    "start_time": "2022-10-16T10:30:13.951Z"
   },
   {
    "duration": 787,
    "start_time": "2022-10-16T10:30:14.774Z"
   },
   {
    "duration": 6,
    "start_time": "2022-10-16T10:30:19.296Z"
   },
   {
    "duration": 4,
    "start_time": "2022-10-16T10:31:19.821Z"
   },
   {
    "duration": 5,
    "start_time": "2022-10-16T10:41:57.834Z"
   },
   {
    "duration": 11,
    "start_time": "2022-10-16T10:42:23.768Z"
   },
   {
    "duration": 8,
    "start_time": "2022-10-16T10:43:25.069Z"
   },
   {
    "duration": 9,
    "start_time": "2022-10-16T10:43:30.234Z"
   },
   {
    "duration": 102,
    "start_time": "2022-10-16T10:49:08.539Z"
   },
   {
    "duration": 23,
    "start_time": "2022-10-16T10:49:16.411Z"
   },
   {
    "duration": 6,
    "start_time": "2022-10-16T10:49:24.456Z"
   },
   {
    "duration": 4,
    "start_time": "2022-10-16T10:49:41.865Z"
   },
   {
    "duration": 4,
    "start_time": "2022-10-16T10:50:34.291Z"
   },
   {
    "duration": 3,
    "start_time": "2022-10-16T10:51:32.602Z"
   },
   {
    "duration": 5,
    "start_time": "2022-10-16T10:55:38.207Z"
   },
   {
    "duration": 8,
    "start_time": "2022-10-16T10:56:32.177Z"
   },
   {
    "duration": 10,
    "start_time": "2022-10-16T10:58:46.679Z"
   },
   {
    "duration": 9,
    "start_time": "2022-10-16T10:59:18.273Z"
   },
   {
    "duration": 52,
    "start_time": "2022-10-17T08:44:22.501Z"
   },
   {
    "duration": 1295,
    "start_time": "2022-10-17T08:45:36.843Z"
   },
   {
    "duration": 50,
    "start_time": "2022-10-17T08:45:38.141Z"
   },
   {
    "duration": 21,
    "start_time": "2022-10-17T08:45:39.133Z"
   },
   {
    "duration": 13,
    "start_time": "2022-10-17T08:45:42.840Z"
   },
   {
    "duration": 4,
    "start_time": "2022-10-17T08:45:59.584Z"
   },
   {
    "duration": 8,
    "start_time": "2022-10-17T08:46:01.505Z"
   },
   {
    "duration": 14,
    "start_time": "2022-10-17T08:46:02.819Z"
   },
   {
    "duration": 4,
    "start_time": "2022-10-17T08:48:45.026Z"
   },
   {
    "duration": 4,
    "start_time": "2022-10-17T08:50:04.358Z"
   },
   {
    "duration": 4,
    "start_time": "2022-10-17T08:55:10.787Z"
   },
   {
    "duration": 4,
    "start_time": "2022-10-17T08:55:16.956Z"
   },
   {
    "duration": 4,
    "start_time": "2022-10-17T08:55:18.428Z"
   },
   {
    "duration": 13,
    "start_time": "2022-10-17T08:56:11.230Z"
   },
   {
    "duration": 14,
    "start_time": "2022-10-17T08:59:28.925Z"
   },
   {
    "duration": 4,
    "start_time": "2022-10-17T08:59:39.106Z"
   },
   {
    "duration": 11,
    "start_time": "2022-10-17T08:59:39.854Z"
   },
   {
    "duration": 10,
    "start_time": "2022-10-17T09:04:07.022Z"
   },
   {
    "duration": 6,
    "start_time": "2022-10-17T09:07:58.729Z"
   },
   {
    "duration": 1161,
    "start_time": "2022-10-17T09:10:21.052Z"
   },
   {
    "duration": 18,
    "start_time": "2022-10-17T09:10:22.215Z"
   },
   {
    "duration": 21,
    "start_time": "2022-10-17T09:10:22.234Z"
   },
   {
    "duration": 11,
    "start_time": "2022-10-17T09:10:22.257Z"
   },
   {
    "duration": 10,
    "start_time": "2022-10-17T09:10:22.271Z"
   },
   {
    "duration": 5,
    "start_time": "2022-10-17T09:10:22.283Z"
   },
   {
    "duration": 9,
    "start_time": "2022-10-17T09:10:22.289Z"
   },
   {
    "duration": 27,
    "start_time": "2022-10-17T09:10:22.300Z"
   },
   {
    "duration": 4,
    "start_time": "2022-10-17T09:10:22.329Z"
   },
   {
    "duration": 5,
    "start_time": "2022-10-17T09:10:22.354Z"
   },
   {
    "duration": 6,
    "start_time": "2022-10-17T09:10:22.360Z"
   },
   {
    "duration": 98,
    "start_time": "2022-10-17T09:10:22.367Z"
   },
   {
    "duration": 3,
    "start_time": "2022-10-17T09:10:22.467Z"
   },
   {
    "duration": 13,
    "start_time": "2022-10-17T09:10:22.473Z"
   },
   {
    "duration": 1213,
    "start_time": "2022-10-17T09:34:23.461Z"
   },
   {
    "duration": 69,
    "start_time": "2022-10-17T09:34:24.676Z"
   },
   {
    "duration": 13,
    "start_time": "2022-10-17T09:34:24.747Z"
   },
   {
    "duration": 10,
    "start_time": "2022-10-17T09:34:24.762Z"
   },
   {
    "duration": 8,
    "start_time": "2022-10-17T09:34:24.773Z"
   },
   {
    "duration": 7,
    "start_time": "2022-10-17T09:34:24.782Z"
   },
   {
    "duration": 6,
    "start_time": "2022-10-17T09:34:24.790Z"
   },
   {
    "duration": 10,
    "start_time": "2022-10-17T09:34:24.797Z"
   },
   {
    "duration": 4,
    "start_time": "2022-10-17T09:34:24.809Z"
   },
   {
    "duration": 10,
    "start_time": "2022-10-17T09:34:24.816Z"
   },
   {
    "duration": 82,
    "start_time": "2022-10-17T09:34:24.827Z"
   },
   {
    "duration": 11,
    "start_time": "2022-10-17T09:34:24.911Z"
   },
   {
    "duration": 3,
    "start_time": "2022-10-17T09:34:24.924Z"
   },
   {
    "duration": 92,
    "start_time": "2022-10-17T09:34:24.928Z"
   },
   {
    "duration": 1279,
    "start_time": "2022-10-17T09:34:43.179Z"
   },
   {
    "duration": 18,
    "start_time": "2022-10-17T09:34:44.461Z"
   },
   {
    "duration": 19,
    "start_time": "2022-10-17T09:34:44.481Z"
   },
   {
    "duration": 19,
    "start_time": "2022-10-17T09:34:44.503Z"
   },
   {
    "duration": 6,
    "start_time": "2022-10-17T09:34:44.524Z"
   },
   {
    "duration": 13,
    "start_time": "2022-10-17T09:34:44.532Z"
   },
   {
    "duration": 11,
    "start_time": "2022-10-17T09:34:44.546Z"
   },
   {
    "duration": 16,
    "start_time": "2022-10-17T09:34:44.559Z"
   },
   {
    "duration": 4,
    "start_time": "2022-10-17T09:34:44.577Z"
   },
   {
    "duration": 13,
    "start_time": "2022-10-17T09:34:44.608Z"
   },
   {
    "duration": 10,
    "start_time": "2022-10-17T09:34:44.623Z"
   },
   {
    "duration": 10,
    "start_time": "2022-10-17T09:34:44.710Z"
   },
   {
    "duration": 28,
    "start_time": "2022-10-17T09:34:44.722Z"
   },
   {
    "duration": 31,
    "start_time": "2022-10-17T09:34:44.752Z"
   },
   {
    "duration": 52,
    "start_time": "2022-10-17T10:54:35.065Z"
   },
   {
    "duration": 1120,
    "start_time": "2022-10-17T10:54:48.507Z"
   },
   {
    "duration": 95,
    "start_time": "2022-10-17T10:54:49.629Z"
   },
   {
    "duration": 23,
    "start_time": "2022-10-17T10:54:49.726Z"
   },
   {
    "duration": 12,
    "start_time": "2022-10-17T10:54:49.752Z"
   },
   {
    "duration": 11,
    "start_time": "2022-10-17T10:54:49.766Z"
   },
   {
    "duration": 5,
    "start_time": "2022-10-17T10:54:49.778Z"
   },
   {
    "duration": 7,
    "start_time": "2022-10-17T10:54:49.784Z"
   },
   {
    "duration": 105,
    "start_time": "2022-10-17T10:54:49.793Z"
   },
   {
    "duration": 0,
    "start_time": "2022-10-17T10:54:49.900Z"
   },
   {
    "duration": 0,
    "start_time": "2022-10-17T10:54:49.902Z"
   },
   {
    "duration": 0,
    "start_time": "2022-10-17T10:54:49.903Z"
   },
   {
    "duration": 0,
    "start_time": "2022-10-17T10:54:49.904Z"
   },
   {
    "duration": 0,
    "start_time": "2022-10-17T10:54:49.905Z"
   },
   {
    "duration": 0,
    "start_time": "2022-10-17T10:54:49.906Z"
   },
   {
    "duration": 11,
    "start_time": "2022-10-17T10:57:30.607Z"
   },
   {
    "duration": 12,
    "start_time": "2022-10-17T10:59:45.411Z"
   },
   {
    "duration": 10,
    "start_time": "2022-10-17T10:59:56.251Z"
   },
   {
    "duration": 9,
    "start_time": "2022-10-17T11:00:25.653Z"
   },
   {
    "duration": 1090,
    "start_time": "2022-10-17T11:04:19.015Z"
   },
   {
    "duration": 27,
    "start_time": "2022-10-17T11:04:20.107Z"
   },
   {
    "duration": 15,
    "start_time": "2022-10-17T11:04:20.136Z"
   },
   {
    "duration": 11,
    "start_time": "2022-10-17T11:04:20.153Z"
   },
   {
    "duration": 8,
    "start_time": "2022-10-17T11:04:20.165Z"
   },
   {
    "duration": 4,
    "start_time": "2022-10-17T11:04:20.174Z"
   },
   {
    "duration": 7,
    "start_time": "2022-10-17T11:04:20.179Z"
   },
   {
    "duration": 14,
    "start_time": "2022-10-17T11:04:20.187Z"
   },
   {
    "duration": 3,
    "start_time": "2022-10-17T11:04:20.203Z"
   },
   {
    "duration": 9,
    "start_time": "2022-10-17T11:04:20.209Z"
   },
   {
    "duration": 77,
    "start_time": "2022-10-17T11:04:20.220Z"
   },
   {
    "duration": 16,
    "start_time": "2022-10-17T11:04:20.299Z"
   },
   {
    "duration": 3,
    "start_time": "2022-10-17T11:04:20.395Z"
   },
   {
    "duration": 18,
    "start_time": "2022-10-17T11:04:20.400Z"
   },
   {
    "duration": 102,
    "start_time": "2022-10-17T11:05:12.955Z"
   },
   {
    "duration": 10,
    "start_time": "2022-10-17T11:05:23.720Z"
   },
   {
    "duration": 13,
    "start_time": "2022-10-17T11:06:18.573Z"
   },
   {
    "duration": 12,
    "start_time": "2022-10-17T11:06:37.520Z"
   },
   {
    "duration": 11,
    "start_time": "2022-10-17T11:08:23.039Z"
   },
   {
    "duration": 11,
    "start_time": "2022-10-17T11:08:30.707Z"
   },
   {
    "duration": 15,
    "start_time": "2022-10-17T11:11:04.323Z"
   },
   {
    "duration": 5,
    "start_time": "2022-10-17T11:11:29.836Z"
   },
   {
    "duration": 14,
    "start_time": "2022-10-17T11:42:36.603Z"
   },
   {
    "duration": 1908,
    "start_time": "2022-10-17T11:44:19.282Z"
   },
   {
    "duration": 4,
    "start_time": "2022-10-17T14:23:31.363Z"
   },
   {
    "duration": 7,
    "start_time": "2022-10-17T14:24:05.652Z"
   },
   {
    "duration": 4,
    "start_time": "2022-10-17T14:24:06.433Z"
   },
   {
    "duration": 19,
    "start_time": "2022-10-17T14:24:11.464Z"
   },
   {
    "duration": 4,
    "start_time": "2022-10-17T14:24:14.518Z"
   },
   {
    "duration": 4,
    "start_time": "2022-10-17T14:24:20.212Z"
   },
   {
    "duration": 4,
    "start_time": "2022-10-17T14:24:34.443Z"
   },
   {
    "duration": 4,
    "start_time": "2022-10-17T14:26:34.145Z"
   },
   {
    "duration": 4,
    "start_time": "2022-10-17T14:26:50.754Z"
   },
   {
    "duration": 76,
    "start_time": "2022-10-17T14:27:06.369Z"
   },
   {
    "duration": 4,
    "start_time": "2022-10-17T14:27:19.767Z"
   },
   {
    "duration": 4,
    "start_time": "2022-10-17T14:27:28.006Z"
   },
   {
    "duration": 100,
    "start_time": "2022-10-17T14:28:41.813Z"
   },
   {
    "duration": 82,
    "start_time": "2022-10-17T14:30:08.932Z"
   },
   {
    "duration": 3,
    "start_time": "2022-10-17T14:31:49.535Z"
   },
   {
    "duration": 5,
    "start_time": "2022-10-17T14:32:01.230Z"
   },
   {
    "duration": 3,
    "start_time": "2022-10-17T14:34:26.996Z"
   },
   {
    "duration": 4,
    "start_time": "2022-10-17T14:34:37.864Z"
   },
   {
    "duration": 12,
    "start_time": "2022-10-17T14:34:58.882Z"
   },
   {
    "duration": 4,
    "start_time": "2022-10-17T14:35:27.624Z"
   },
   {
    "duration": 4,
    "start_time": "2022-10-17T14:35:28.651Z"
   },
   {
    "duration": 5,
    "start_time": "2022-10-17T14:35:38.873Z"
   },
   {
    "duration": 4,
    "start_time": "2022-10-17T14:35:40.446Z"
   },
   {
    "duration": 3,
    "start_time": "2022-10-17T14:35:44.774Z"
   },
   {
    "duration": 13,
    "start_time": "2022-10-17T14:35:46.751Z"
   },
   {
    "duration": 4,
    "start_time": "2022-10-17T14:36:27.421Z"
   },
   {
    "duration": 6,
    "start_time": "2022-10-17T14:36:29.534Z"
   },
   {
    "duration": 3,
    "start_time": "2022-10-17T14:36:30.042Z"
   },
   {
    "duration": 5,
    "start_time": "2022-10-17T14:36:31.112Z"
   },
   {
    "duration": 4,
    "start_time": "2022-10-17T14:36:32.903Z"
   },
   {
    "duration": 10,
    "start_time": "2022-10-17T14:36:33.935Z"
   },
   {
    "duration": 3,
    "start_time": "2022-10-17T14:36:58.916Z"
   },
   {
    "duration": 3,
    "start_time": "2022-10-17T14:37:18.742Z"
   },
   {
    "duration": 3,
    "start_time": "2022-10-17T14:37:19.765Z"
   },
   {
    "duration": 4,
    "start_time": "2022-10-17T14:37:21.795Z"
   },
   {
    "duration": 4,
    "start_time": "2022-10-17T14:38:06.837Z"
   },
   {
    "duration": 3,
    "start_time": "2022-10-17T14:38:07.444Z"
   },
   {
    "duration": 4,
    "start_time": "2022-10-17T14:38:09.019Z"
   },
   {
    "duration": 1083,
    "start_time": "2022-10-17T14:39:40.211Z"
   },
   {
    "duration": 28,
    "start_time": "2022-10-17T14:39:41.296Z"
   },
   {
    "duration": 15,
    "start_time": "2022-10-17T14:39:41.326Z"
   },
   {
    "duration": 11,
    "start_time": "2022-10-17T14:39:41.343Z"
   },
   {
    "duration": 7,
    "start_time": "2022-10-17T14:39:41.356Z"
   },
   {
    "duration": 12,
    "start_time": "2022-10-17T14:39:41.364Z"
   },
   {
    "duration": 4,
    "start_time": "2022-10-17T14:39:41.378Z"
   },
   {
    "duration": 20,
    "start_time": "2022-10-17T14:39:41.383Z"
   },
   {
    "duration": 15,
    "start_time": "2022-10-17T14:39:41.405Z"
   },
   {
    "duration": 7,
    "start_time": "2022-10-17T14:39:41.423Z"
   },
   {
    "duration": 5,
    "start_time": "2022-10-17T14:39:41.431Z"
   },
   {
    "duration": 63,
    "start_time": "2022-10-17T14:39:41.438Z"
   },
   {
    "duration": 18,
    "start_time": "2022-10-17T14:39:41.504Z"
   },
   {
    "duration": 12,
    "start_time": "2022-10-17T14:39:41.595Z"
   },
   {
    "duration": 3,
    "start_time": "2022-10-17T14:39:41.609Z"
   },
   {
    "duration": 16,
    "start_time": "2022-10-17T14:39:41.614Z"
   }
  ],
  "kernelspec": {
   "display_name": "Python 3 (ipykernel)",
   "language": "python",
   "name": "python3"
  },
  "language_info": {
   "codemirror_mode": {
    "name": "ipython",
    "version": 3
   },
   "file_extension": ".py",
   "mimetype": "text/x-python",
   "name": "python",
   "nbconvert_exporter": "python",
   "pygments_lexer": "ipython3",
   "version": "3.9.12"
  },
  "toc": {
   "base_numbering": 1,
   "nav_menu": {},
   "number_sections": true,
   "sideBar": true,
   "skip_h1_title": true,
   "title_cell": "Содержание",
   "title_sidebar": "Contents",
   "toc_cell": true,
   "toc_position": {},
   "toc_section_display": true,
   "toc_window_display": false
  }
 },
 "nbformat": 4,
 "nbformat_minor": 2
}

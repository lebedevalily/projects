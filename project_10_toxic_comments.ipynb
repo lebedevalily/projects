{
 "cells": [
  {
   "cell_type": "markdown",
   "metadata": {
    "toc": true
   },
   "source": [
    "<h1>Содержание<span class=\"tocSkip\"></span></h1>\n",
    "<div class=\"toc\"><ul class=\"toc-item\"><li><span><a href=\"#Подготовка\" data-toc-modified-id=\"Подготовка-1\"><span class=\"toc-item-num\">1&nbsp;&nbsp;</span>Подготовка</a></span></li><li><span><a href=\"#Обучение\" data-toc-modified-id=\"Обучение-2\"><span class=\"toc-item-num\">2&nbsp;&nbsp;</span>Обучение</a></span><ul class=\"toc-item\"><li><span><a href=\"#Логистическая-регрессия\" data-toc-modified-id=\"Логистическая-регрессия-2.1\"><span class=\"toc-item-num\">2.1&nbsp;&nbsp;</span>Логистическая регрессия</a></span></li><li><span><a href=\"#Дерево-решений\" data-toc-modified-id=\"Дерево-решений-2.2\"><span class=\"toc-item-num\">2.2&nbsp;&nbsp;</span>Дерево решений</a></span></li><li><span><a href=\"#Случайный-лес\" data-toc-modified-id=\"Случайный-лес-2.3\"><span class=\"toc-item-num\">2.3&nbsp;&nbsp;</span>Случайный лес</a></span></li><li><span><a href=\"#Градиентный-бустинг-CatBoost\" data-toc-modified-id=\"Градиентный-бустинг-CatBoost-2.4\"><span class=\"toc-item-num\">2.4&nbsp;&nbsp;</span>Градиентный бустинг CatBoost</a></span></li><li><span><a href=\"#Градиентный-бустинг-Light-GBM\" data-toc-modified-id=\"Градиентный-бустинг-Light-GBM-2.5\"><span class=\"toc-item-num\">2.5&nbsp;&nbsp;</span>Градиентный бустинг Light GBM</a></span></li><li><span><a href=\"#Проверка-модели\" data-toc-modified-id=\"Проверка-модели-2.6\"><span class=\"toc-item-num\">2.6&nbsp;&nbsp;</span>Проверка модели</a></span></li></ul></li><li><span><a href=\"#Выводы\" data-toc-modified-id=\"Выводы-3\"><span class=\"toc-item-num\">3&nbsp;&nbsp;</span>Выводы</a></span></li><li><span><a href=\"#Чек-лист-проверки\" data-toc-modified-id=\"Чек-лист-проверки-4\"><span class=\"toc-item-num\">4&nbsp;&nbsp;</span>Чек-лист проверки</a></span></li></ul></div>"
   ]
  },
  {
   "cell_type": "markdown",
   "metadata": {},
   "source": [
    "# Проект по модерации токсичных комментариев"
   ]
  },
  {
   "cell_type": "markdown",
   "metadata": {},
   "source": [
    "Интернет-магазин запускает новый сервис. Теперь пользователи могут редактировать и дополнять описания товаров. То есть клиенты предлагают свои правки и комментируют изменения других. Магазину нужен инструмент, который будет искать токсичные комментарии и отправлять их на модерацию. \n",
    "\n",
    "Необходимо обучить модель классифицировать комментарии на позитивные и негативные. В распоряжении набор данных с разметкой о токсичности правок.\n",
    "\n",
    "Необходимо построить модель со значением метрики качества *F1* не меньше 0.75. \n",
    "\n",
    "**Описание данных**\n",
    "\n",
    "Данные находятся в файле `toxic_comments.csv`. Столбец *text* в нём содержит текст комментария, а *toxic* — целевой признак."
   ]
  },
  {
   "cell_type": "markdown",
   "metadata": {},
   "source": [
    "## Подготовка"
   ]
  },
  {
   "cell_type": "markdown",
   "metadata": {},
   "source": [
    "Импортируем необходимые библиотеки и инструменты для работы с данными."
   ]
  },
  {
   "cell_type": "code",
   "execution_count": 1,
   "metadata": {},
   "outputs": [],
   "source": [
    "import numpy as np\n",
    "import pandas as pd\n",
    "import re\n",
    "import nltk\n",
    "import warnings\n",
    "\n",
    "from nltk.corpus import stopwords as nltk_stopwords\n",
    "from nltk.corpus import wordnet\n",
    "from nltk.tokenize import word_tokenize\n",
    "from nltk.stem import WordNetLemmatizer \n",
    "\n",
    "from sklearn.linear_model import LogisticRegression\n",
    "from sklearn.tree import DecisionTreeClassifier\n",
    "from sklearn.ensemble import RandomForestClassifier\n",
    "from sklearn.feature_extraction.text import TfidfVectorizer\n",
    "from sklearn.model_selection import cross_val_score, train_test_split, GridSearchCV\n",
    "from sklearn.metrics import f1_score\n",
    "\n",
    "from lightgbm import LGBMClassifier\n",
    "\n",
    "from catboost import CatBoostClassifier\n",
    "\n",
    "from pymystem3 import Mystem"
   ]
  },
  {
   "cell_type": "markdown",
   "metadata": {},
   "source": [
    "Отключим предупреждения."
   ]
  },
  {
   "cell_type": "code",
   "execution_count": 2,
   "metadata": {},
   "outputs": [],
   "source": [
    "warnings.filterwarnings('ignore')"
   ]
  },
  {
   "cell_type": "markdown",
   "metadata": {},
   "source": [
    "Сохраним файл в переменную df и рассмотрим первые пять строк таблицы."
   ]
  },
  {
   "cell_type": "code",
   "execution_count": 3,
   "metadata": {},
   "outputs": [
    {
     "data": {
      "text/html": [
       "<div>\n",
       "<style scoped>\n",
       "    .dataframe tbody tr th:only-of-type {\n",
       "        vertical-align: middle;\n",
       "    }\n",
       "\n",
       "    .dataframe tbody tr th {\n",
       "        vertical-align: top;\n",
       "    }\n",
       "\n",
       "    .dataframe thead th {\n",
       "        text-align: right;\n",
       "    }\n",
       "</style>\n",
       "<table border=\"1\" class=\"dataframe\">\n",
       "  <thead>\n",
       "    <tr style=\"text-align: right;\">\n",
       "      <th></th>\n",
       "      <th>Unnamed: 0</th>\n",
       "      <th>text</th>\n",
       "      <th>toxic</th>\n",
       "    </tr>\n",
       "  </thead>\n",
       "  <tbody>\n",
       "    <tr>\n",
       "      <th>0</th>\n",
       "      <td>0</td>\n",
       "      <td>Explanation\\nWhy the edits made under my usern...</td>\n",
       "      <td>0</td>\n",
       "    </tr>\n",
       "    <tr>\n",
       "      <th>1</th>\n",
       "      <td>1</td>\n",
       "      <td>D'aww! He matches this background colour I'm s...</td>\n",
       "      <td>0</td>\n",
       "    </tr>\n",
       "    <tr>\n",
       "      <th>2</th>\n",
       "      <td>2</td>\n",
       "      <td>Hey man, I'm really not trying to edit war. It...</td>\n",
       "      <td>0</td>\n",
       "    </tr>\n",
       "    <tr>\n",
       "      <th>3</th>\n",
       "      <td>3</td>\n",
       "      <td>\"\\nMore\\nI can't make any real suggestions on ...</td>\n",
       "      <td>0</td>\n",
       "    </tr>\n",
       "    <tr>\n",
       "      <th>4</th>\n",
       "      <td>4</td>\n",
       "      <td>You, sir, are my hero. Any chance you remember...</td>\n",
       "      <td>0</td>\n",
       "    </tr>\n",
       "  </tbody>\n",
       "</table>\n",
       "</div>"
      ],
      "text/plain": [
       "   Unnamed: 0                                               text  toxic\n",
       "0           0  Explanation\\nWhy the edits made under my usern...      0\n",
       "1           1  D'aww! He matches this background colour I'm s...      0\n",
       "2           2  Hey man, I'm really not trying to edit war. It...      0\n",
       "3           3  \"\\nMore\\nI can't make any real suggestions on ...      0\n",
       "4           4  You, sir, are my hero. Any chance you remember...      0"
      ]
     },
     "execution_count": 3,
     "metadata": {},
     "output_type": "execute_result"
    }
   ],
   "source": [
    "df = pd.read_csv('toxic_comments.csv')\n",
    "df.head()"
   ]
  },
  {
   "cell_type": "markdown",
   "metadata": {},
   "source": [
    "Изучим основную информацию о таблице."
   ]
  },
  {
   "cell_type": "code",
   "execution_count": 4,
   "metadata": {
    "scrolled": true
   },
   "outputs": [
    {
     "name": "stdout",
     "output_type": "stream",
     "text": [
      "<class 'pandas.core.frame.DataFrame'>\n",
      "RangeIndex: 159292 entries, 0 to 159291\n",
      "Data columns (total 3 columns):\n",
      " #   Column      Non-Null Count   Dtype \n",
      "---  ------      --------------   ----- \n",
      " 0   Unnamed: 0  159292 non-null  int64 \n",
      " 1   text        159292 non-null  object\n",
      " 2   toxic       159292 non-null  int64 \n",
      "dtypes: int64(2), object(1)\n",
      "memory usage: 3.6+ MB\n"
     ]
    }
   ],
   "source": [
    "df.info()"
   ]
  },
  {
   "cell_type": "markdown",
   "metadata": {},
   "source": [
    "Удалим столбец \"Unnamed: 0\", т.к. он не несет смысловой нагрузки."
   ]
  },
  {
   "cell_type": "code",
   "execution_count": 5,
   "metadata": {},
   "outputs": [],
   "source": [
    "df = df.drop('Unnamed: 0', axis=1)"
   ]
  },
  {
   "cell_type": "markdown",
   "metadata": {},
   "source": [
    "Проверим наличие пропусков в столбцах и дубликатов."
   ]
  },
  {
   "cell_type": "code",
   "execution_count": 6,
   "metadata": {},
   "outputs": [
    {
     "name": "stdout",
     "output_type": "stream",
     "text": [
      "Количество пропусков встолбце text: 0\n",
      "Количество пропусков встолбце toxic: 0\n",
      "Количество полных дубликатов: 0\n"
     ]
    }
   ],
   "source": [
    "print('Количество пропусков встолбце text:', df['text'].isna().sum())\n",
    "print('Количество пропусков встолбце toxic:', df['toxic'].isna().sum())\n",
    "print('Количество полных дубликатов:', df.duplicated().sum())"
   ]
  },
  {
   "cell_type": "markdown",
   "metadata": {},
   "source": [
    "Рассмотрим соотношение позитивных и негативных комментариев."
   ]
  },
  {
   "cell_type": "code",
   "execution_count": 7,
   "metadata": {},
   "outputs": [
    {
     "data": {
      "text/plain": [
       "0    0.898388\n",
       "1    0.101612\n",
       "Name: toxic, dtype: float64"
      ]
     },
     "execution_count": 7,
     "metadata": {},
     "output_type": "execute_result"
    }
   ],
   "source": [
    "df['toxic'].value_counts(normalize=True)"
   ]
  },
  {
   "cell_type": "markdown",
   "metadata": {},
   "source": [
    "В выборке наблюдается сильная несбалансированность классов: позитивных комментариев в 9 раз больше, чем негативных."
   ]
  },
  {
   "cell_type": "markdown",
   "metadata": {},
   "source": [
    "Для дальнейшей работы с текстом очистим его от лишних символов, оставим только английские символы и пробелы."
   ]
  },
  {
   "cell_type": "code",
   "execution_count": 8,
   "metadata": {},
   "outputs": [],
   "source": [
    "df['clear_text'] = df['text'].apply(lambda x: \" \".join(re.sub(r'[^a-zA-Z ]', ' ', x).split()))"
   ]
  },
  {
   "cell_type": "markdown",
   "metadata": {},
   "source": [
    "Напишем функцию для лемматизации текста и применим ее к очищенным комментариям."
   ]
  },
  {
   "cell_type": "code",
   "execution_count": 10,
   "metadata": {},
   "outputs": [],
   "source": [
    "def get_wordnet_pos(word):\n",
    "    \"\"\"Map POS tag to first character lemmatize() accepts\"\"\"\n",
    "    tag = nltk.pos_tag([word])[0][1][0].upper()\n",
    "    tag_dict = {\"J\": wordnet.ADJ,\n",
    "                \"N\": wordnet.NOUN,\n",
    "                \"V\": wordnet.VERB,\n",
    "                \"R\": wordnet.ADV}\n",
    "    return tag_dict.get(tag, wordnet.NOUN)\n",
    "\n",
    "def lemmatize_text(sentence):\n",
    "    lemmatizer = WordNetLemmatizer()\n",
    "    word_list = nltk.word_tokenize(sentence)\n",
    "    return ' '.join([lemmatizer.lemmatize(w.lower(), get_wordnet_pos(w)) for w in nltk.word_tokenize(sentence)])"
   ]
  },
  {
   "cell_type": "code",
   "execution_count": 12,
   "metadata": {
    "scrolled": true
   },
   "outputs": [
    {
     "name": "stderr",
     "output_type": "stream",
     "text": [
      "[nltk_data] Downloading package averaged_perceptron_tagger to\n",
      "[nltk_data]     /home/jovyan/nltk_data...\n",
      "[nltk_data]   Unzipping taggers/averaged_perceptron_tagger.zip.\n"
     ]
    },
    {
     "data": {
      "text/plain": [
       "True"
      ]
     },
     "execution_count": 12,
     "metadata": {},
     "output_type": "execute_result"
    }
   ],
   "source": [
    "nltk.download('averaged_perceptron_tagger')\n",
    "df['lemm_text'] = df['clear_text'].apply(lemmatize_text)"
   ]
  },
  {
   "cell_type": "markdown",
   "metadata": {},
   "source": [
    "Еще раз взглянем на первые пять строк таблицы."
   ]
  },
  {
   "cell_type": "code",
   "execution_count": 11,
   "metadata": {},
   "outputs": [
    {
     "data": {
      "text/html": [
       "<div>\n",
       "<style scoped>\n",
       "    .dataframe tbody tr th:only-of-type {\n",
       "        vertical-align: middle;\n",
       "    }\n",
       "\n",
       "    .dataframe tbody tr th {\n",
       "        vertical-align: top;\n",
       "    }\n",
       "\n",
       "    .dataframe thead th {\n",
       "        text-align: right;\n",
       "    }\n",
       "</style>\n",
       "<table border=\"1\" class=\"dataframe\">\n",
       "  <thead>\n",
       "    <tr style=\"text-align: right;\">\n",
       "      <th></th>\n",
       "      <th>text</th>\n",
       "      <th>toxic</th>\n",
       "      <th>clear_text</th>\n",
       "      <th>lemm_text</th>\n",
       "    </tr>\n",
       "  </thead>\n",
       "  <tbody>\n",
       "    <tr>\n",
       "      <th>0</th>\n",
       "      <td>Explanation\\nWhy the edits made under my usern...</td>\n",
       "      <td>0</td>\n",
       "      <td>Explanation Why the edits made under my userna...</td>\n",
       "      <td>explanation why the edits make under my userna...</td>\n",
       "    </tr>\n",
       "    <tr>\n",
       "      <th>1</th>\n",
       "      <td>D'aww! He matches this background colour I'm s...</td>\n",
       "      <td>0</td>\n",
       "      <td>D aww He matches this background colour I m se...</td>\n",
       "      <td>d aww he match this background colour i m seem...</td>\n",
       "    </tr>\n",
       "    <tr>\n",
       "      <th>2</th>\n",
       "      <td>Hey man, I'm really not trying to edit war. It...</td>\n",
       "      <td>0</td>\n",
       "      <td>Hey man I m really not trying to edit war It s...</td>\n",
       "      <td>hey man i m really not try to edit war it s ju...</td>\n",
       "    </tr>\n",
       "    <tr>\n",
       "      <th>3</th>\n",
       "      <td>\"\\nMore\\nI can't make any real suggestions on ...</td>\n",
       "      <td>0</td>\n",
       "      <td>More I can t make any real suggestions on impr...</td>\n",
       "      <td>more i can t make any real suggestion on impro...</td>\n",
       "    </tr>\n",
       "    <tr>\n",
       "      <th>4</th>\n",
       "      <td>You, sir, are my hero. Any chance you remember...</td>\n",
       "      <td>0</td>\n",
       "      <td>You sir are my hero Any chance you remember wh...</td>\n",
       "      <td>you sir be my hero any chance you remember wha...</td>\n",
       "    </tr>\n",
       "  </tbody>\n",
       "</table>\n",
       "</div>"
      ],
      "text/plain": [
       "                                                text  toxic  \\\n",
       "0  Explanation\\nWhy the edits made under my usern...      0   \n",
       "1  D'aww! He matches this background colour I'm s...      0   \n",
       "2  Hey man, I'm really not trying to edit war. It...      0   \n",
       "3  \"\\nMore\\nI can't make any real suggestions on ...      0   \n",
       "4  You, sir, are my hero. Any chance you remember...      0   \n",
       "\n",
       "                                          clear_text  \\\n",
       "0  Explanation Why the edits made under my userna...   \n",
       "1  D aww He matches this background colour I m se...   \n",
       "2  Hey man I m really not trying to edit war It s...   \n",
       "3  More I can t make any real suggestions on impr...   \n",
       "4  You sir are my hero Any chance you remember wh...   \n",
       "\n",
       "                                           lemm_text  \n",
       "0  explanation why the edits make under my userna...  \n",
       "1  d aww he match this background colour i m seem...  \n",
       "2  hey man i m really not try to edit war it s ju...  \n",
       "3  more i can t make any real suggestion on impro...  \n",
       "4  you sir be my hero any chance you remember wha...  "
      ]
     },
     "execution_count": 11,
     "metadata": {},
     "output_type": "execute_result"
    }
   ],
   "source": [
    "df.head()"
   ]
  },
  {
   "cell_type": "markdown",
   "metadata": {},
   "source": [
    "Данные готовы для подготовки к обучению моделей."
   ]
  },
  {
   "cell_type": "markdown",
   "metadata": {},
   "source": [
    "Сохраним признак и целевой признак в отдельные переменные."
   ]
  },
  {
   "cell_type": "code",
   "execution_count": 12,
   "metadata": {},
   "outputs": [],
   "source": [
    "features = df['lemm_text']\n",
    "target = df['toxic']"
   ]
  },
  {
   "cell_type": "markdown",
   "metadata": {},
   "source": [
    "Разделим данные на обучающую и тестовую выборки в соотношении 3:1."
   ]
  },
  {
   "cell_type": "code",
   "execution_count": 13,
   "metadata": {},
   "outputs": [],
   "source": [
    "features_train, features_test, target_train, target_test = train_test_split(\n",
    "    features, target, test_size=0.25, random_state=12345, stratify=target)"
   ]
  },
  {
   "cell_type": "markdown",
   "metadata": {},
   "source": [
    "Векторизируем текст для обучения моделей. Обучим векторизатор на обучающей выборке, затем преобразуем обучающую и тестовую выборки."
   ]
  },
  {
   "cell_type": "code",
   "execution_count": 14,
   "metadata": {},
   "outputs": [
    {
     "name": "stderr",
     "output_type": "stream",
     "text": [
      "[nltk_data] Downloading package stopwords to /home/jovyan/nltk_data...\n",
      "[nltk_data]   Package stopwords is already up-to-date!\n"
     ]
    }
   ],
   "source": [
    "nltk.download('stopwords')\n",
    "stopwords = set(nltk_stopwords.words('english'))\n",
    "tf_idf = TfidfVectorizer(stop_words=stopwords, analyzer='word', min_df=10).fit(features_train)\n",
    "features_train = tf_idf.transform(features_train)\n",
    "features_test = tf_idf.transform(features_test)"
   ]
  },
  {
   "cell_type": "markdown",
   "metadata": {},
   "source": [
    "Приступим к обучению моделей."
   ]
  },
  {
   "cell_type": "markdown",
   "metadata": {},
   "source": [
    "## Обучение"
   ]
  },
  {
   "cell_type": "code",
   "execution_count": 15,
   "metadata": {},
   "outputs": [],
   "source": [
    "min_f1 = 0.75 # минимальный целевой уровень метрики f1"
   ]
  },
  {
   "cell_type": "markdown",
   "metadata": {},
   "source": [
    "### Логистическая регрессия"
   ]
  },
  {
   "cell_type": "code",
   "execution_count": 16,
   "metadata": {},
   "outputs": [
    {
     "name": "stdout",
     "output_type": "stream",
     "text": [
      "F1 логистической регрессии: 0.7398196365352819\n",
      "F1 ниже целевого уровня \n",
      "\n",
      "CPU times: user 17.8 s, sys: 22.6 ms, total: 17.8 s\n",
      "Wall time: 17.8 s\n"
     ]
    }
   ],
   "source": [
    "%%time\n",
    "\n",
    "model_lr = LogisticRegression(random_state=12345, solver='saga', C=3, class_weight='balanced')\n",
    "scores_lr = cross_val_score(model_lr, features_train, target_train, scoring='f1', cv=3)\n",
    "f1_lr = scores_lr.mean()\n",
    "\n",
    "print('F1 логистической регрессии:', f1_lr)\n",
    "if f1_lr < min_f1:\n",
    "    print('F1 ниже целевого уровня', '\\n')\n",
    "else:\n",
    "    print('F1 выше целевого уровня', '\\n')"
   ]
  },
  {
   "cell_type": "markdown",
   "metadata": {},
   "source": [
    "### Дерево решений"
   ]
  },
  {
   "cell_type": "code",
   "execution_count": 17,
   "metadata": {},
   "outputs": [
    {
     "name": "stdout",
     "output_type": "stream",
     "text": [
      "F1 дерева решений: 0.5514246374113291\n",
      "Лучшие гиперпараметры: {'max_depth': 6}\n",
      "F1 ниже целевого уровня \n",
      "\n",
      "CPU times: user 18.4 s, sys: 224 ms, total: 18.6 s\n",
      "Wall time: 18.7 s\n"
     ]
    }
   ],
   "source": [
    "%%time\n",
    "\n",
    "params_dtr = {'max_depth': range(2, 7)}\n",
    "\n",
    "model_dtc = DecisionTreeClassifier(random_state=12345)\n",
    "gscv_dtc = GridSearchCV(model_dtc, params_dtr, scoring='f1', cv=3, n_jobs=-1)\n",
    "gscv_dtc.fit(features_train, target_train)\n",
    "f1_dtc = gscv_dtc.best_score_\n",
    "\n",
    "print('F1 дерева решений:', f1_dtc)\n",
    "print('Лучшие гиперпараметры:', gscv_dtc.best_params_)\n",
    "if f1_dtc < min_f1:\n",
    "    print('F1 ниже целевого уровня', '\\n')\n",
    "else:\n",
    "    print('F1 выше целевого уровня', '\\n')"
   ]
  },
  {
   "cell_type": "markdown",
   "metadata": {},
   "source": [
    "### Случайный лес"
   ]
  },
  {
   "cell_type": "code",
   "execution_count": 18,
   "metadata": {},
   "outputs": [
    {
     "name": "stdout",
     "output_type": "stream",
     "text": [
      "F1 случайного леса: 0.36514151680912627\n",
      "Лучшие гиперпараметры: {'max_depth': 6, 'n_estimators': 100}\n",
      "F1 ниже целевого уровня \n",
      "\n",
      "CPU times: user 2min 58s, sys: 2.2 s, total: 3min\n",
      "Wall time: 3min\n"
     ]
    }
   ],
   "source": [
    "%%time\n",
    "\n",
    "params_rfc = {\n",
    "    'n_estimators': range(10, 101, 10),\n",
    "    'max_depth': range(2, 7)\n",
    "}\n",
    "\n",
    "model_rfc = RandomForestClassifier(random_state=12345, class_weight='balanced')\n",
    "gscv_rfc = GridSearchCV(model_rfc, params_rfc, scoring='f1', cv=3, n_jobs=-1)\n",
    "gscv_rfc.fit(features_train, target_train)\n",
    "f1_rfc = gscv_rfc.best_score_\n",
    "\n",
    "print('F1 случайного леса:', f1_rfc)\n",
    "print('Лучшие гиперпараметры:', gscv_rfc.best_params_)\n",
    "if f1_rfc < min_f1:\n",
    "    print('F1 ниже целевого уровня', '\\n')\n",
    "else:\n",
    "    print('F1 выше целевого уровня', '\\n')"
   ]
  },
  {
   "cell_type": "markdown",
   "metadata": {},
   "source": [
    "### Градиентный бустинг CatBoost"
   ]
  },
  {
   "cell_type": "code",
   "execution_count": 19,
   "metadata": {},
   "outputs": [
    {
     "name": "stdout",
     "output_type": "stream",
     "text": [
      "F1 градиентного бустинга CatBoost: 0.7336233298750701\n",
      "F1 ниже целевого уровня \n",
      "\n",
      "CPU times: user 6min 6s, sys: 2.11 s, total: 6min 8s\n",
      "Wall time: 6min 12s\n"
     ]
    }
   ],
   "source": [
    "%%time\n",
    "\n",
    "model_cb = CatBoostClassifier(eval_metric='F1', iterations=100, random_state=12345)\n",
    "scores_cb = cross_val_score(model_cb, features_train, target_train, fit_params={'verbose': False}, scoring='f1', cv=3)\n",
    "f1_cb = scores_cb.mean()\n",
    "\n",
    "print('F1 градиентного бустинга CatBoost:', f1_cb)\n",
    "if f1_cb < min_f1:\n",
    "    print('F1 ниже целевого уровня', '\\n')\n",
    "else:\n",
    "    print('F1 выше целевого уровня', '\\n')"
   ]
  },
  {
   "cell_type": "markdown",
   "metadata": {},
   "source": [
    "### Градиентный бустинг Light GBM"
   ]
  },
  {
   "cell_type": "code",
   "execution_count": 20,
   "metadata": {},
   "outputs": [
    {
     "name": "stdout",
     "output_type": "stream",
     "text": [
      "F1 градиентного бустинга Light GBM: 0.6645834495832695\n",
      "F1 ниже целевого уровня \n",
      "\n",
      "CPU times: user 33min 7s, sys: 20.6 s, total: 33min 28s\n",
      "Wall time: 33min 38s\n"
     ]
    }
   ],
   "source": [
    "%%time\n",
    "\n",
    "model_lgbm = LGBMClassifier(metric='f1', max_depth=7, random_state=12345)\n",
    "scores_lgbm = cross_val_score(model_lgbm, features_train, target_train, scoring='f1', cv=3)\n",
    "f1_lgbm = scores_lgbm.mean()\n",
    "\n",
    "print('F1 градиентного бустинга Light GBM:', f1_lgbm)\n",
    "if f1_lgbm < min_f1:\n",
    "    print('F1 ниже целевого уровня', '\\n')\n",
    "else:\n",
    "    print('F1 выше целевого уровня', '\\n')"
   ]
  },
  {
   "cell_type": "markdown",
   "metadata": {},
   "source": [
    "### Проверка модели"
   ]
  },
  {
   "cell_type": "markdown",
   "metadata": {},
   "source": [
    "На обучающей выборке не удалось добиться целевого уровня f1.\n",
    "Самые высокие результаты метрики f1 показали логистическая регрессия и градиентный бустинг CatBoost.  \n",
    "Однако у логистической регрессии также самое быстрое время обучения и предсказания.  \n",
    "Проверим ее на тестовой выборке."
   ]
  },
  {
   "cell_type": "code",
   "execution_count": 21,
   "metadata": {},
   "outputs": [
    {
     "data": {
      "text/plain": [
       "0.7589871128193534"
      ]
     },
     "execution_count": 21,
     "metadata": {},
     "output_type": "execute_result"
    }
   ],
   "source": [
    "model_lr.fit(features_train, target_train)\n",
    "predicted = model_lr.predict(features_test)\n",
    "f1_lr_test = f1_score(target_test, predicted)\n",
    "f1_lr_test"
   ]
  },
  {
   "cell_type": "markdown",
   "metadata": {},
   "source": [
    "На логистической регрессии удалось достичь целевого значения метрики f1."
   ]
  },
  {
   "cell_type": "markdown",
   "metadata": {},
   "source": [
    "## Выводы"
   ]
  },
  {
   "cell_type": "markdown",
   "metadata": {},
   "source": [
    "В рамках проекта были обработаны размеченные данные с комментариями пользователей к описанию товаров.  \n",
    "\n",
    "Перед обучением моделей данные были очищены от лишних символов, лемматизированы и векторизованы.  \n",
    "\n",
    "В данных присутствует дисбаланс классов: позитивных комментариев в 9 раз больше, чем негативных.  \n",
    "\n",
    "Были обучены 5 моделей, при использовании кросс-валидации удалось достичь следующих значений метрики F1 на обучающей выборке:"
   ]
  },
  {
   "cell_type": "code",
   "execution_count": 23,
   "metadata": {},
   "outputs": [
    {
     "data": {
      "text/plain": [
       "Линейная регрессия               0.739820\n",
       "Дерево решений                   0.551425\n",
       "Случайный лес                    0.365142\n",
       "Градиентный бустинг CatBoost     0.733623\n",
       "Градиентный бустинг Light GBM    0.664583\n",
       "dtype: float64"
      ]
     },
     "execution_count": 23,
     "metadata": {},
     "output_type": "execute_result"
    }
   ],
   "source": [
    "models = ['Линейная регрессия', 'Дерево решений', 'Случайный лес', 'Градиентный бустинг CatBoost', 'Градиентный бустинг Light GBM']\n",
    "results = pd.Series([f1_lr, f1_dtc, f1_rfc, f1_cb, f1_lgbm], index=models)\n",
    "results"
   ]
  },
  {
   "cell_type": "markdown",
   "metadata": {},
   "source": [
    "Ни на одной из моделей не удалось достичь целевого значения метрики F1 (0.75) на обучающей выборке. Однако логистическая регрессия и градиентный бустинг CatBoost показали самые высокие результаты метрики. С учетом скорости обучения и предсказания для проверки на тестовой выборке была выбрана логистическая регрессия.  \n",
    "\n",
    "Получено значение F1 на тестовой выборке равное 0.7589871128193534."
   ]
  },
  {
   "cell_type": "markdown",
   "metadata": {},
   "source": [
    "Так как логистическая регрессия на тестовой выборке показала значение метрики F1 выше целевого уровня, данную модель рекомендуется использовать для выявления токсичных комментариев."
   ]
  }
 ],
 "metadata": {
  "ExecuteTimeLog": [
   {
    "duration": 339,
    "start_time": "2022-11-11T11:10:56.297Z"
   },
   {
    "duration": 3133,
    "start_time": "2022-11-11T11:11:11.796Z"
   },
   {
    "duration": 15,
    "start_time": "2022-11-11T11:11:20.594Z"
   },
   {
    "duration": 30,
    "start_time": "2022-11-11T11:11:37.523Z"
   },
   {
    "duration": 7,
    "start_time": "2022-11-11T11:11:54.330Z"
   },
   {
    "duration": 8,
    "start_time": "2022-11-11T11:12:25.790Z"
   },
   {
    "duration": 9,
    "start_time": "2022-11-11T11:12:36.994Z"
   },
   {
    "duration": 2285,
    "start_time": "2022-11-22T17:10:43.458Z"
   },
   {
    "duration": 2079,
    "start_time": "2022-11-22T17:10:46.922Z"
   },
   {
    "duration": 13,
    "start_time": "2022-11-22T17:10:49.003Z"
   },
   {
    "duration": 30,
    "start_time": "2022-11-22T17:10:52.231Z"
   },
   {
    "duration": 5,
    "start_time": "2022-11-22T17:10:52.985Z"
   },
   {
    "duration": 233,
    "start_time": "2022-11-22T17:10:53.736Z"
   },
   {
    "duration": 23,
    "start_time": "2022-11-22T17:10:54.311Z"
   },
   {
    "duration": 5,
    "start_time": "2022-11-22T17:10:54.869Z"
   },
   {
    "duration": 9,
    "start_time": "2022-11-22T17:10:55.452Z"
   },
   {
    "duration": 9,
    "start_time": "2022-11-22T17:11:16.171Z"
   },
   {
    "duration": 10,
    "start_time": "2022-11-22T17:11:21.817Z"
   },
   {
    "duration": 186,
    "start_time": "2022-11-22T17:11:36.071Z"
   },
   {
    "duration": 719,
    "start_time": "2022-11-22T17:12:24.075Z"
   },
   {
    "duration": 16,
    "start_time": "2022-11-22T17:12:31.618Z"
   },
   {
    "duration": 3,
    "start_time": "2022-11-22T17:14:07.118Z"
   },
   {
    "duration": 851,
    "start_time": "2022-11-22T17:16:25.406Z"
   },
   {
    "duration": 9,
    "start_time": "2022-11-22T17:16:42.920Z"
   },
   {
    "duration": 4,
    "start_time": "2022-11-22T17:16:56.668Z"
   },
   {
    "duration": 11,
    "start_time": "2022-11-22T17:17:32.502Z"
   },
   {
    "duration": 135222,
    "start_time": "2022-11-22T17:17:40.597Z"
   },
   {
    "duration": 11,
    "start_time": "2022-11-22T17:20:39.405Z"
   },
   {
    "duration": 2,
    "start_time": "2022-11-22T17:22:26.657Z"
   },
   {
    "duration": 3,
    "start_time": "2022-11-22T17:22:27.299Z"
   },
   {
    "duration": 5,
    "start_time": "2022-11-22T17:22:41.371Z"
   },
   {
    "duration": 141,
    "start_time": "2022-11-22T17:23:13.570Z"
   },
   {
    "duration": 4,
    "start_time": "2022-11-22T17:23:23.948Z"
   },
   {
    "duration": 12,
    "start_time": "2022-11-22T17:23:28.159Z"
   },
   {
    "duration": 4,
    "start_time": "2022-11-22T17:23:59.369Z"
   },
   {
    "duration": 14,
    "start_time": "2022-11-22T17:24:02.872Z"
   },
   {
    "duration": 4,
    "start_time": "2022-11-22T17:24:15.366Z"
   },
   {
    "duration": 19,
    "start_time": "2022-11-22T17:24:18.597Z"
   },
   {
    "duration": 3,
    "start_time": "2022-11-22T17:24:39.868Z"
   },
   {
    "duration": 14,
    "start_time": "2022-11-22T17:24:41.514Z"
   },
   {
    "duration": 221,
    "start_time": "2022-11-22T17:29:51.999Z"
   },
   {
    "duration": 55,
    "start_time": "2022-11-22T17:32:35.322Z"
   },
   {
    "duration": 131646,
    "start_time": "2022-11-22T17:32:45.402Z"
   },
   {
    "duration": 15,
    "start_time": "2022-11-22T17:35:02.893Z"
   },
   {
    "duration": 10,
    "start_time": "2022-11-22T17:37:46.325Z"
   },
   {
    "duration": 6,
    "start_time": "2022-11-22T17:38:17.571Z"
   },
   {
    "duration": 15,
    "start_time": "2022-11-22T17:38:20.816Z"
   },
   {
    "duration": 3,
    "start_time": "2022-11-22T17:38:59.319Z"
   },
   {
    "duration": 32790,
    "start_time": "2022-11-22T17:39:36.515Z"
   },
   {
    "duration": 5,
    "start_time": "2022-11-22T17:40:33.670Z"
   },
   {
    "duration": 5,
    "start_time": "2022-11-22T17:47:05.849Z"
   },
   {
    "duration": 5,
    "start_time": "2022-11-22T17:47:33.180Z"
   },
   {
    "duration": 18,
    "start_time": "2022-11-22T17:47:52.110Z"
   },
   {
    "duration": 18,
    "start_time": "2022-11-22T17:47:59.541Z"
   },
   {
    "duration": 20,
    "start_time": "2022-11-22T17:48:32.743Z"
   },
   {
    "duration": 4,
    "start_time": "2022-11-22T17:50:27.690Z"
   },
   {
    "duration": 11,
    "start_time": "2022-11-22T17:50:33.737Z"
   },
   {
    "duration": 4,
    "start_time": "2022-11-22T17:51:51.576Z"
   },
   {
    "duration": 5,
    "start_time": "2022-11-22T17:51:55.543Z"
   },
   {
    "duration": 4,
    "start_time": "2022-11-22T17:52:01.668Z"
   },
   {
    "duration": 3,
    "start_time": "2022-11-22T17:52:08.571Z"
   },
   {
    "duration": 17,
    "start_time": "2022-11-22T17:52:16.176Z"
   },
   {
    "duration": 63,
    "start_time": "2022-11-22T17:52:19.108Z"
   },
   {
    "duration": 2396,
    "start_time": "2022-11-22T17:54:27.773Z"
   },
   {
    "duration": 721,
    "start_time": "2022-11-22T17:54:30.989Z"
   },
   {
    "duration": 15,
    "start_time": "2022-11-22T17:54:31.713Z"
   },
   {
    "duration": 32,
    "start_time": "2022-11-22T17:54:31.768Z"
   },
   {
    "duration": 6,
    "start_time": "2022-11-22T17:54:32.156Z"
   },
   {
    "duration": 227,
    "start_time": "2022-11-22T17:54:32.667Z"
   },
   {
    "duration": 24,
    "start_time": "2022-11-22T17:54:33.319Z"
   },
   {
    "duration": 5,
    "start_time": "2022-11-22T17:54:33.913Z"
   },
   {
    "duration": 10,
    "start_time": "2022-11-22T17:54:34.540Z"
   },
   {
    "duration": 8,
    "start_time": "2022-11-22T17:54:50.338Z"
   },
   {
    "duration": 13,
    "start_time": "2022-11-22T17:58:30.033Z"
   },
   {
    "duration": 13,
    "start_time": "2022-11-22T17:58:33.663Z"
   },
   {
    "duration": 7,
    "start_time": "2022-11-22T17:59:02.281Z"
   },
   {
    "duration": 12,
    "start_time": "2022-11-22T17:59:03.139Z"
   },
   {
    "duration": 5,
    "start_time": "2022-11-22T18:00:34.514Z"
   },
   {
    "duration": 104,
    "start_time": "2022-11-22T18:05:57.240Z"
   },
   {
    "duration": 18,
    "start_time": "2022-11-22T18:06:02.068Z"
   },
   {
    "duration": 395,
    "start_time": "2022-11-22T18:06:20.406Z"
   },
   {
    "duration": 6,
    "start_time": "2022-11-22T18:06:31.033Z"
   },
   {
    "duration": 7,
    "start_time": "2022-11-22T18:06:37.528Z"
   },
   {
    "duration": 68,
    "start_time": "2022-11-22T18:06:54.720Z"
   },
   {
    "duration": 17,
    "start_time": "2022-11-22T18:06:57.985Z"
   },
   {
    "duration": 198,
    "start_time": "2022-11-22T18:07:12.621Z"
   },
   {
    "duration": 135005,
    "start_time": "2022-11-22T18:07:40.732Z"
   },
   {
    "duration": 19,
    "start_time": "2022-11-22T18:10:02.174Z"
   },
   {
    "duration": 7,
    "start_time": "2022-11-22T18:12:44.857Z"
   },
   {
    "duration": 7,
    "start_time": "2022-11-22T18:12:57.832Z"
   },
   {
    "duration": 15,
    "start_time": "2022-11-22T18:13:01.053Z"
   },
   {
    "duration": 11,
    "start_time": "2022-11-22T18:13:16.556Z"
   },
   {
    "duration": 16,
    "start_time": "2022-11-22T18:13:18.836Z"
   },
   {
    "duration": 16,
    "start_time": "2022-11-22T18:13:37.966Z"
   },
   {
    "duration": 13,
    "start_time": "2022-11-22T18:13:40.854Z"
   },
   {
    "duration": 11,
    "start_time": "2022-11-22T18:14:02.677Z"
   },
   {
    "duration": 15,
    "start_time": "2022-11-22T18:14:04.759Z"
   },
   {
    "duration": 5,
    "start_time": "2022-11-22T18:14:50.454Z"
   },
   {
    "duration": 7,
    "start_time": "2022-11-22T18:15:02.592Z"
   },
   {
    "duration": 15,
    "start_time": "2022-11-22T18:15:05.170Z"
   },
   {
    "duration": 134411,
    "start_time": "2022-11-22T18:15:19.350Z"
   },
   {
    "duration": 17,
    "start_time": "2022-11-22T18:17:35.276Z"
   },
   {
    "duration": 2,
    "start_time": "2022-11-22T18:17:43.564Z"
   },
   {
    "duration": 3,
    "start_time": "2022-11-22T18:17:44.348Z"
   },
   {
    "duration": 5,
    "start_time": "2022-11-22T18:17:45.198Z"
   },
   {
    "duration": 227,
    "start_time": "2022-11-22T18:17:53.415Z"
   },
   {
    "duration": 4,
    "start_time": "2022-11-22T18:17:56.111Z"
   },
   {
    "duration": 79,
    "start_time": "2022-11-22T18:18:02.705Z"
   },
   {
    "duration": 3,
    "start_time": "2022-11-22T18:18:06.183Z"
   },
   {
    "duration": 17,
    "start_time": "2022-11-22T18:18:06.895Z"
   },
   {
    "duration": 57,
    "start_time": "2022-11-22T18:18:11.204Z"
   },
   {
    "duration": 4,
    "start_time": "2022-11-22T18:18:51.996Z"
   },
   {
    "duration": 4,
    "start_time": "2022-11-22T18:19:03.577Z"
   },
   {
    "duration": 7,
    "start_time": "2022-11-22T18:19:30.911Z"
   },
   {
    "duration": 20,
    "start_time": "2022-11-22T18:19:36.398Z"
   },
   {
    "duration": 3,
    "start_time": "2022-11-22T18:20:08.115Z"
   },
   {
    "duration": 2,
    "start_time": "2022-11-22T18:20:08.973Z"
   },
   {
    "duration": 5,
    "start_time": "2022-11-22T18:20:11.855Z"
   },
   {
    "duration": 3,
    "start_time": "2022-11-22T18:20:22.074Z"
   },
   {
    "duration": 9,
    "start_time": "2022-11-22T18:20:23.753Z"
   },
   {
    "duration": 3,
    "start_time": "2022-11-22T18:20:40.452Z"
   },
   {
    "duration": 16,
    "start_time": "2022-11-22T18:20:46.576Z"
   },
   {
    "duration": 8,
    "start_time": "2022-11-22T18:21:19.236Z"
   },
   {
    "duration": 7,
    "start_time": "2022-11-22T18:21:47.549Z"
   },
   {
    "duration": 19,
    "start_time": "2022-11-22T18:21:48.838Z"
   },
   {
    "duration": 17,
    "start_time": "2022-11-22T18:22:00.009Z"
   },
   {
    "duration": 3,
    "start_time": "2022-11-22T18:22:22.483Z"
   },
   {
    "duration": 7,
    "start_time": "2022-11-22T18:22:29.170Z"
   },
   {
    "duration": 3,
    "start_time": "2022-11-22T18:22:35.572Z"
   },
   {
    "duration": 2,
    "start_time": "2022-11-22T18:22:36.185Z"
   },
   {
    "duration": 4,
    "start_time": "2022-11-22T18:22:36.811Z"
   },
   {
    "duration": 17,
    "start_time": "2022-11-22T18:22:37.571Z"
   },
   {
    "duration": 5,
    "start_time": "2022-11-22T18:22:38.925Z"
   },
   {
    "duration": 20,
    "start_time": "2022-11-22T18:22:39.647Z"
   },
   {
    "duration": 4,
    "start_time": "2022-11-22T18:23:01.630Z"
   },
   {
    "duration": 3,
    "start_time": "2022-11-22T18:23:12.721Z"
   },
   {
    "duration": 3,
    "start_time": "2022-11-22T18:23:13.226Z"
   },
   {
    "duration": 5,
    "start_time": "2022-11-22T18:23:13.802Z"
   },
   {
    "duration": 27,
    "start_time": "2022-11-22T18:23:14.356Z"
   },
   {
    "duration": 8,
    "start_time": "2022-11-22T18:23:14.934Z"
   },
   {
    "duration": 4,
    "start_time": "2022-11-22T18:23:15.558Z"
   },
   {
    "duration": 11,
    "start_time": "2022-11-22T18:23:24.260Z"
   },
   {
    "duration": 10,
    "start_time": "2022-11-22T18:23:36.219Z"
   },
   {
    "duration": 4,
    "start_time": "2022-11-22T18:23:50.459Z"
   },
   {
    "duration": 5,
    "start_time": "2022-11-22T18:23:56.385Z"
   },
   {
    "duration": 3,
    "start_time": "2022-11-22T18:25:29.334Z"
   },
   {
    "duration": 2,
    "start_time": "2022-11-22T18:25:29.878Z"
   },
   {
    "duration": 6,
    "start_time": "2022-11-22T18:25:30.496Z"
   },
   {
    "duration": 26,
    "start_time": "2022-11-22T18:25:31.159Z"
   },
   {
    "duration": 13,
    "start_time": "2022-11-22T18:25:47.308Z"
   },
   {
    "duration": 14,
    "start_time": "2022-11-22T18:25:57.356Z"
   },
   {
    "duration": 12,
    "start_time": "2022-11-22T18:27:20.044Z"
   },
   {
    "duration": 8,
    "start_time": "2022-11-22T18:29:42.660Z"
   },
   {
    "duration": 33,
    "start_time": "2022-11-22T18:29:48.210Z"
   },
   {
    "duration": 1364842,
    "start_time": "2022-11-22T18:29:49.208Z"
   },
   {
    "duration": 2475,
    "start_time": "2022-11-22T18:52:48.409Z"
   },
   {
    "duration": 762,
    "start_time": "2022-11-22T18:52:50.886Z"
   },
   {
    "duration": 13,
    "start_time": "2022-11-22T18:52:52.450Z"
   },
   {
    "duration": 32,
    "start_time": "2022-11-22T18:52:53.088Z"
   },
   {
    "duration": 8,
    "start_time": "2022-11-22T18:52:53.600Z"
   },
   {
    "duration": 224,
    "start_time": "2022-11-22T18:52:54.106Z"
   },
   {
    "duration": 23,
    "start_time": "2022-11-22T18:52:55.008Z"
   },
   {
    "duration": 4,
    "start_time": "2022-11-22T18:52:55.657Z"
   },
   {
    "duration": 16,
    "start_time": "2022-11-22T18:52:56.297Z"
   },
   {
    "duration": 7,
    "start_time": "2022-11-22T18:52:59.617Z"
   },
   {
    "duration": 8,
    "start_time": "2022-11-22T18:53:01.255Z"
   },
   {
    "duration": 3,
    "start_time": "2022-11-22T18:53:09.324Z"
   },
   {
    "duration": 3,
    "start_time": "2022-11-22T18:53:11.154Z"
   },
   {
    "duration": 348,
    "start_time": "2022-11-22T18:53:17.627Z"
   },
   {
    "duration": 3,
    "start_time": "2022-11-22T18:53:49.012Z"
   },
   {
    "duration": 218,
    "start_time": "2022-11-22T18:53:49.750Z"
   },
   {
    "duration": 3,
    "start_time": "2022-11-22T18:54:11.651Z"
   },
   {
    "duration": 277,
    "start_time": "2022-11-22T18:54:12.358Z"
   },
   {
    "duration": 211,
    "start_time": "2022-11-22T18:55:14.451Z"
   },
   {
    "duration": 218,
    "start_time": "2022-11-22T18:55:18.021Z"
   },
   {
    "duration": 375,
    "start_time": "2022-11-22T18:56:01.611Z"
   },
   {
    "duration": 2864,
    "start_time": "2022-11-22T18:56:05.586Z"
   },
   {
    "duration": 12,
    "start_time": "2022-11-22T18:56:16.866Z"
   },
   {
    "duration": 3,
    "start_time": "2022-11-22T18:56:37.151Z"
   },
   {
    "duration": 3,
    "start_time": "2022-11-22T18:56:37.759Z"
   },
   {
    "duration": 5,
    "start_time": "2022-11-22T18:56:38.370Z"
   },
   {
    "duration": 24,
    "start_time": "2022-11-22T18:56:38.949Z"
   },
   {
    "duration": 12,
    "start_time": "2022-11-22T18:56:44.179Z"
   },
   {
    "duration": 7,
    "start_time": "2022-11-22T18:57:03.118Z"
   },
   {
    "duration": 6,
    "start_time": "2022-11-22T18:57:15.171Z"
   },
   {
    "duration": 8,
    "start_time": "2022-11-22T18:57:28.471Z"
   },
   {
    "duration": 58,
    "start_time": "2022-11-22T18:57:29.850Z"
   },
   {
    "duration": 6710,
    "start_time": "2022-11-22T18:57:31.167Z"
   },
   {
    "duration": 2620,
    "start_time": "2022-11-22T18:57:55.691Z"
   },
   {
    "duration": 777,
    "start_time": "2022-11-22T18:57:58.313Z"
   },
   {
    "duration": 21,
    "start_time": "2022-11-22T18:57:59.096Z"
   },
   {
    "duration": 37,
    "start_time": "2022-11-22T18:57:59.119Z"
   },
   {
    "duration": 6,
    "start_time": "2022-11-22T18:57:59.158Z"
   },
   {
    "duration": 273,
    "start_time": "2022-11-22T18:57:59.165Z"
   },
   {
    "duration": 27,
    "start_time": "2022-11-22T18:57:59.439Z"
   },
   {
    "duration": 11,
    "start_time": "2022-11-22T18:57:59.467Z"
   },
   {
    "duration": 37,
    "start_time": "2022-11-22T18:57:59.479Z"
   },
   {
    "duration": 9,
    "start_time": "2022-11-22T18:58:00.757Z"
   },
   {
    "duration": 45,
    "start_time": "2022-11-22T18:58:02.277Z"
   },
   {
    "duration": 4,
    "start_time": "2022-11-22T18:58:04.323Z"
   },
   {
    "duration": 7,
    "start_time": "2022-11-22T18:58:05.005Z"
   },
   {
    "duration": 192,
    "start_time": "2022-11-22T18:58:05.921Z"
   },
   {
    "duration": 17926,
    "start_time": "2022-11-22T18:58:07.074Z"
   },
   {
    "duration": 3,
    "start_time": "2022-11-22T18:58:29.610Z"
   },
   {
    "duration": 3,
    "start_time": "2022-11-22T18:58:30.525Z"
   },
   {
    "duration": 6,
    "start_time": "2022-11-22T18:58:31.344Z"
   },
   {
    "duration": 161,
    "start_time": "2022-11-22T18:58:32.320Z"
   },
   {
    "duration": 15,
    "start_time": "2022-11-22T18:58:37.153Z"
   },
   {
    "duration": 2,
    "start_time": "2022-11-22T18:58:40.072Z"
   },
   {
    "duration": 32,
    "start_time": "2022-11-22T18:58:41.080Z"
   },
   {
    "duration": 318,
    "start_time": "2022-11-22T18:58:47.590Z"
   },
   {
    "duration": 15011,
    "start_time": "2022-11-22T18:58:48.211Z"
   },
   {
    "duration": 174,
    "start_time": "2022-11-22T19:00:06.338Z"
   },
   {
    "duration": 8,
    "start_time": "2022-11-22T19:02:28.262Z"
   },
   {
    "duration": 127,
    "start_time": "2022-11-22T19:02:29.177Z"
   },
   {
    "duration": 4,
    "start_time": "2022-11-22T19:02:30.141Z"
   },
   {
    "duration": 4,
    "start_time": "2022-11-22T19:02:30.857Z"
   },
   {
    "duration": 6,
    "start_time": "2022-11-22T19:02:31.545Z"
   },
   {
    "duration": 74557,
    "start_time": "2022-11-22T19:02:32.353Z"
   },
   {
    "duration": 3,
    "start_time": "2022-11-22T19:03:50.894Z"
   },
   {
    "duration": 4,
    "start_time": "2022-11-22T19:03:51.486Z"
   },
   {
    "duration": 9,
    "start_time": "2022-11-22T19:03:52.095Z"
   },
   {
    "duration": 662,
    "start_time": "2022-11-22T19:03:53.238Z"
   },
   {
    "duration": 332,
    "start_time": "2022-11-22T19:03:58.168Z"
   },
   {
    "duration": 2,
    "start_time": "2022-11-22T19:04:00.448Z"
   },
   {
    "duration": 915,
    "start_time": "2022-11-22T19:04:01.183Z"
   },
   {
    "duration": 1918,
    "start_time": "2022-11-22T19:04:47.845Z"
   },
   {
    "duration": 4,
    "start_time": "2022-11-22T19:04:50.945Z"
   },
   {
    "duration": 3,
    "start_time": "2022-11-22T19:04:51.696Z"
   },
   {
    "duration": 5,
    "start_time": "2022-11-22T19:04:52.466Z"
   },
   {
    "duration": 1165637,
    "start_time": "2022-11-22T19:04:54.620Z"
   },
   {
    "duration": 3,
    "start_time": "2022-11-22T19:24:33.694Z"
   },
   {
    "duration": 3,
    "start_time": "2022-11-22T19:24:34.685Z"
   },
   {
    "duration": 69,
    "start_time": "2022-11-22T19:24:35.585Z"
   },
   {
    "duration": 10790,
    "start_time": "2022-11-22T19:24:36.565Z"
   },
   {
    "duration": 14456,
    "start_time": "2022-11-22T19:24:51.213Z"
   },
   {
    "duration": 3,
    "start_time": "2022-11-22T19:25:08.489Z"
   },
   {
    "duration": 30173,
    "start_time": "2022-11-22T19:25:10.044Z"
   },
   {
    "duration": 85940,
    "start_time": "2022-11-22T19:25:44.302Z"
   },
   {
    "duration": 633474,
    "start_time": "2022-11-22T19:27:57.775Z"
   },
   {
    "duration": 150977,
    "start_time": "2022-11-22T19:49:25.258Z"
   },
   {
    "duration": 1410,
    "start_time": "2022-11-23T07:24:36.085Z"
   },
   {
    "duration": 3415,
    "start_time": "2022-11-23T07:24:37.890Z"
   },
   {
    "duration": 12,
    "start_time": "2022-11-23T07:24:42.550Z"
   },
   {
    "duration": 32,
    "start_time": "2022-11-23T07:24:43.786Z"
   },
   {
    "duration": 6,
    "start_time": "2022-11-23T07:24:45.254Z"
   },
   {
    "duration": 219,
    "start_time": "2022-11-23T07:24:46.482Z"
   },
   {
    "duration": 25,
    "start_time": "2022-11-23T07:24:47.450Z"
   },
   {
    "duration": 4,
    "start_time": "2022-11-23T07:24:48.195Z"
   },
   {
    "duration": 11,
    "start_time": "2022-11-23T07:24:49.481Z"
   },
   {
    "duration": 1860,
    "start_time": "2022-11-23T07:24:54.043Z"
   },
   {
    "duration": 4,
    "start_time": "2022-11-23T07:24:56.810Z"
   },
   {
    "duration": 3,
    "start_time": "2022-11-23T07:24:59.011Z"
   },
   {
    "duration": 729,
    "start_time": "2022-11-23T07:25:01.642Z"
   },
   {
    "duration": 1105613,
    "start_time": "2022-11-23T07:25:04.986Z"
   },
   {
    "duration": 3,
    "start_time": "2022-11-23T07:49:22.913Z"
   },
   {
    "duration": 3,
    "start_time": "2022-11-23T07:49:23.623Z"
   },
   {
    "duration": 67,
    "start_time": "2022-11-23T07:49:24.703Z"
   },
   {
    "duration": 4664,
    "start_time": "2022-11-23T07:50:49.977Z"
   },
   {
    "duration": 5643,
    "start_time": "2022-11-23T07:51:05.913Z"
   },
   {
    "duration": 12828,
    "start_time": "2022-11-23T07:51:18.025Z"
   },
   {
    "duration": 132,
    "start_time": "2022-11-23T07:51:42.649Z"
   },
   {
    "duration": 19,
    "start_time": "2022-11-23T07:52:39.370Z"
   },
   {
    "duration": 16,
    "start_time": "2022-11-23T07:53:14.474Z"
   },
   {
    "duration": 14,
    "start_time": "2022-11-23T07:53:20.443Z"
   },
   {
    "duration": 2,
    "start_time": "2022-11-23T07:54:29.986Z"
   },
   {
    "duration": 27213,
    "start_time": "2022-11-23T07:54:32.275Z"
   },
   {
    "duration": 21,
    "start_time": "2022-11-23T07:57:44.988Z"
   },
   {
    "duration": 3,
    "start_time": "2022-11-23T07:58:28.854Z"
   },
   {
    "duration": 3,
    "start_time": "2022-11-23T07:58:29.765Z"
   },
   {
    "duration": 72,
    "start_time": "2022-11-23T07:58:31.157Z"
   },
   {
    "duration": 5,
    "start_time": "2022-11-23T07:58:41.124Z"
   },
   {
    "duration": 33154,
    "start_time": "2022-11-23T07:58:49.094Z"
   },
   {
    "duration": 18846,
    "start_time": "2022-11-23T07:59:46.990Z"
   },
   {
    "duration": 22783,
    "start_time": "2022-11-23T08:00:17.177Z"
   },
   {
    "duration": 3,
    "start_time": "2022-11-23T08:00:52.646Z"
   },
   {
    "duration": 2,
    "start_time": "2022-11-23T08:00:53.400Z"
   },
   {
    "duration": 144,
    "start_time": "2022-11-23T08:00:54.269Z"
   },
   {
    "duration": 4,
    "start_time": "2022-11-23T08:00:55.342Z"
   },
   {
    "duration": 5154,
    "start_time": "2022-11-23T08:00:58.118Z"
   },
   {
    "duration": 20262,
    "start_time": "2022-11-23T08:01:04.456Z"
   },
   {
    "duration": 22195,
    "start_time": "2022-11-23T08:01:26.662Z"
   },
   {
    "duration": 3,
    "start_time": "2022-11-23T08:01:59.054Z"
   },
   {
    "duration": 3,
    "start_time": "2022-11-23T08:01:59.726Z"
   },
   {
    "duration": 116,
    "start_time": "2022-11-23T08:02:00.479Z"
   },
   {
    "duration": 5,
    "start_time": "2022-11-23T08:02:01.217Z"
   },
   {
    "duration": 5014,
    "start_time": "2022-11-23T08:02:02.727Z"
   },
   {
    "duration": 6554,
    "start_time": "2022-11-23T08:02:07.743Z"
   },
   {
    "duration": 14460,
    "start_time": "2022-11-23T08:02:16.607Z"
   },
   {
    "duration": 3,
    "start_time": "2022-11-23T08:02:46.270Z"
   },
   {
    "duration": 25991,
    "start_time": "2022-11-23T08:02:47.810Z"
   },
   {
    "duration": 3,
    "start_time": "2022-11-23T08:03:21.978Z"
   },
   {
    "duration": 2,
    "start_time": "2022-11-23T08:03:22.488Z"
   },
   {
    "duration": 129,
    "start_time": "2022-11-23T08:03:22.928Z"
   },
   {
    "duration": 4,
    "start_time": "2022-11-23T08:03:23.417Z"
   },
   {
    "duration": 4671,
    "start_time": "2022-11-23T08:03:24.121Z"
   },
   {
    "duration": 6235,
    "start_time": "2022-11-23T08:03:32.321Z"
   },
   {
    "duration": 11223,
    "start_time": "2022-11-23T08:03:42.007Z"
   },
   {
    "duration": 3,
    "start_time": "2022-11-23T08:05:01.097Z"
   },
   {
    "duration": 3,
    "start_time": "2022-11-23T08:05:01.537Z"
   },
   {
    "duration": 118,
    "start_time": "2022-11-23T08:05:02.112Z"
   },
   {
    "duration": 4,
    "start_time": "2022-11-23T08:05:02.912Z"
   },
   {
    "duration": 4940,
    "start_time": "2022-11-23T08:05:03.578Z"
   },
   {
    "duration": 6702,
    "start_time": "2022-11-23T08:05:10.561Z"
   },
   {
    "duration": 9354,
    "start_time": "2022-11-23T08:05:22.272Z"
   },
   {
    "duration": 2892,
    "start_time": "2022-11-23T08:05:45.673Z"
   },
   {
    "duration": 7600,
    "start_time": "2022-11-23T08:05:57.129Z"
   },
   {
    "duration": 8439,
    "start_time": "2022-11-23T08:07:26.442Z"
   },
   {
    "duration": 7631,
    "start_time": "2022-11-23T08:07:46.250Z"
   },
   {
    "duration": 1442,
    "start_time": "2022-11-23T08:09:04.240Z"
   },
   {
    "duration": 907,
    "start_time": "2022-11-23T08:09:05.684Z"
   },
   {
    "duration": 13,
    "start_time": "2022-11-23T08:09:06.593Z"
   },
   {
    "duration": 34,
    "start_time": "2022-11-23T08:09:06.607Z"
   },
   {
    "duration": 5,
    "start_time": "2022-11-23T08:09:06.643Z"
   },
   {
    "duration": 246,
    "start_time": "2022-11-23T08:09:06.650Z"
   },
   {
    "duration": 25,
    "start_time": "2022-11-23T08:09:06.898Z"
   },
   {
    "duration": 9,
    "start_time": "2022-11-23T08:09:06.924Z"
   },
   {
    "duration": 13,
    "start_time": "2022-11-23T08:09:06.934Z"
   },
   {
    "duration": 1927,
    "start_time": "2022-11-23T08:09:06.949Z"
   },
   {
    "duration": 3,
    "start_time": "2022-11-23T08:09:08.877Z"
   },
   {
    "duration": 9,
    "start_time": "2022-11-23T08:09:08.882Z"
   },
   {
    "duration": 154,
    "start_time": "2022-11-23T08:09:08.893Z"
   },
   {
    "duration": 1114343,
    "start_time": "2022-11-23T08:09:09.051Z"
   },
   {
    "duration": 3,
    "start_time": "2022-11-23T08:27:43.396Z"
   },
   {
    "duration": 7,
    "start_time": "2022-11-23T08:27:43.400Z"
   },
   {
    "duration": 71,
    "start_time": "2022-11-23T08:27:43.409Z"
   },
   {
    "duration": 5,
    "start_time": "2022-11-23T08:27:43.482Z"
   },
   {
    "duration": 4558,
    "start_time": "2022-11-23T08:27:43.489Z"
   },
   {
    "duration": 5597,
    "start_time": "2022-11-23T08:27:48.049Z"
   },
   {
    "duration": 9103,
    "start_time": "2022-11-23T08:27:53.648Z"
   },
   {
    "duration": 2,
    "start_time": "2022-11-23T08:28:02.753Z"
   },
   {
    "duration": 15164,
    "start_time": "2022-11-23T08:28:02.757Z"
   },
   {
    "duration": 16957,
    "start_time": "2022-11-23T08:28:17.923Z"
   },
   {
    "duration": 160689,
    "start_time": "2022-11-23T08:28:34.881Z"
   },
   {
    "duration": 333767,
    "start_time": "2022-11-23T08:31:15.572Z"
   },
   {
    "duration": 346516,
    "start_time": "2022-11-23T08:36:49.341Z"
   },
   {
    "duration": 1455,
    "start_time": "2022-11-23T08:42:51.287Z"
   },
   {
    "duration": 936,
    "start_time": "2022-11-23T08:42:52.744Z"
   },
   {
    "duration": 14,
    "start_time": "2022-11-23T08:42:53.685Z"
   },
   {
    "duration": 48,
    "start_time": "2022-11-23T08:42:53.701Z"
   },
   {
    "duration": 8,
    "start_time": "2022-11-23T08:42:53.750Z"
   },
   {
    "duration": 251,
    "start_time": "2022-11-23T08:42:53.760Z"
   },
   {
    "duration": 31,
    "start_time": "2022-11-23T08:42:54.014Z"
   },
   {
    "duration": 21,
    "start_time": "2022-11-23T08:42:54.047Z"
   },
   {
    "duration": 50,
    "start_time": "2022-11-23T08:42:54.070Z"
   },
   {
    "duration": 2075,
    "start_time": "2022-11-23T08:42:54.123Z"
   },
   {
    "duration": 3,
    "start_time": "2022-11-23T08:42:56.200Z"
   },
   {
    "duration": 19,
    "start_time": "2022-11-23T08:42:56.205Z"
   },
   {
    "duration": 169,
    "start_time": "2022-11-23T08:42:56.226Z"
   },
   {
    "duration": 1227704,
    "start_time": "2022-11-23T08:42:56.397Z"
   },
   {
    "duration": 4,
    "start_time": "2022-11-23T09:03:24.103Z"
   },
   {
    "duration": 10,
    "start_time": "2022-11-23T09:03:24.109Z"
   },
   {
    "duration": 92,
    "start_time": "2022-11-23T09:03:24.121Z"
   },
   {
    "duration": 7,
    "start_time": "2022-11-23T09:03:24.217Z"
   },
   {
    "duration": 5130,
    "start_time": "2022-11-23T09:03:24.226Z"
   },
   {
    "duration": 6386,
    "start_time": "2022-11-23T09:03:29.358Z"
   },
   {
    "duration": 12017,
    "start_time": "2022-11-23T09:03:35.746Z"
   },
   {
    "duration": 3,
    "start_time": "2022-11-23T09:03:47.765Z"
   },
   {
    "duration": 21821,
    "start_time": "2022-11-23T09:03:47.770Z"
   },
   {
    "duration": 100525,
    "start_time": "2022-11-23T09:04:09.593Z"
   },
   {
    "duration": 533116,
    "start_time": "2022-11-23T09:05:50.120Z"
   },
   {
    "duration": 630847,
    "start_time": "2022-11-23T09:14:43.239Z"
   },
   {
    "duration": 1083414,
    "start_time": "2022-11-23T09:25:14.088Z"
   },
   {
    "duration": 1204,
    "start_time": "2022-11-23T09:48:18.238Z"
   },
   {
    "duration": 11900,
    "start_time": "2022-11-23T09:48:40.950Z"
   },
   {
    "duration": 11562,
    "start_time": "2022-11-23T09:49:01.989Z"
   },
   {
    "duration": 1548,
    "start_time": "2022-11-23T09:52:39.990Z"
   },
   {
    "duration": 965,
    "start_time": "2022-11-23T09:52:41.541Z"
   },
   {
    "duration": 13,
    "start_time": "2022-11-23T09:52:42.507Z"
   },
   {
    "duration": 62,
    "start_time": "2022-11-23T09:52:42.522Z"
   },
   {
    "duration": 17,
    "start_time": "2022-11-23T09:52:42.589Z"
   },
   {
    "duration": 283,
    "start_time": "2022-11-23T09:52:42.607Z"
   },
   {
    "duration": 27,
    "start_time": "2022-11-23T09:52:42.892Z"
   },
   {
    "duration": 22,
    "start_time": "2022-11-23T09:52:42.921Z"
   },
   {
    "duration": 42,
    "start_time": "2022-11-23T09:52:42.945Z"
   },
   {
    "duration": 2124,
    "start_time": "2022-11-23T09:52:42.989Z"
   },
   {
    "duration": 3,
    "start_time": "2022-11-23T09:52:45.115Z"
   },
   {
    "duration": 34,
    "start_time": "2022-11-23T09:52:45.120Z"
   },
   {
    "duration": 185,
    "start_time": "2022-11-23T09:52:45.155Z"
   },
   {
    "duration": 1203920,
    "start_time": "2022-11-23T09:52:45.343Z"
   },
   {
    "duration": 3,
    "start_time": "2022-11-23T10:12:49.265Z"
   },
   {
    "duration": 19,
    "start_time": "2022-11-23T10:12:49.269Z"
   },
   {
    "duration": 66,
    "start_time": "2022-11-23T10:12:49.291Z"
   },
   {
    "duration": 5,
    "start_time": "2022-11-23T10:12:49.358Z"
   },
   {
    "duration": 4942,
    "start_time": "2022-11-23T10:12:49.364Z"
   },
   {
    "duration": 6231,
    "start_time": "2022-11-23T10:12:54.308Z"
   },
   {
    "duration": 12426,
    "start_time": "2022-11-23T10:13:00.541Z"
   },
   {
    "duration": 2,
    "start_time": "2022-11-23T10:13:12.969Z"
   },
   {
    "duration": 23452,
    "start_time": "2022-11-23T10:13:12.978Z"
   },
   {
    "duration": 96211,
    "start_time": "2022-11-23T10:13:36.432Z"
   },
   {
    "duration": 535128,
    "start_time": "2022-11-23T10:15:12.645Z"
   },
   {
    "duration": 638142,
    "start_time": "2022-11-23T10:24:07.774Z"
   },
   {
    "duration": 861909,
    "start_time": "2022-11-23T10:34:45.917Z"
   },
   {
    "duration": 151,
    "start_time": "2022-11-23T10:49:07.831Z"
   },
   {
    "duration": 11523,
    "start_time": "2022-11-23T10:57:51.826Z"
   },
   {
    "duration": 3,
    "start_time": "2022-11-23T11:16:28.208Z"
   },
   {
    "duration": 73,
    "start_time": "2022-11-23T11:17:24.278Z"
   },
   {
    "duration": 866,
    "start_time": "2022-11-23T11:17:36.495Z"
   },
   {
    "duration": 11,
    "start_time": "2022-11-23T11:19:18.399Z"
   },
   {
    "duration": 224,
    "start_time": "2022-11-23T11:20:51.735Z"
   },
   {
    "duration": 8,
    "start_time": "2022-11-23T11:22:57.954Z"
   },
   {
    "duration": 2013,
    "start_time": "2022-11-23T11:31:43.420Z"
   },
   {
    "duration": 4,
    "start_time": "2022-11-23T11:36:02.847Z"
   },
   {
    "duration": 1140452,
    "start_time": "2022-11-23T11:36:06.310Z"
   },
   {
    "duration": 9,
    "start_time": "2022-11-23T11:56:48.841Z"
   },
   {
    "duration": 21,
    "start_time": "2022-11-23T11:57:39.730Z"
   },
   {
    "duration": 70,
    "start_time": "2022-11-23T11:57:41.121Z"
   },
   {
    "duration": 40,
    "start_time": "2022-11-23T11:57:42.769Z"
   },
   {
    "duration": 4,
    "start_time": "2022-11-23T11:58:04.258Z"
   },
   {
    "duration": 29,
    "start_time": "2022-11-23T11:58:08.250Z"
   },
   {
    "duration": 6701,
    "start_time": "2022-11-23T12:01:06.081Z"
   },
   {
    "duration": 267,
    "start_time": "2022-11-23T12:03:33.942Z"
   },
   {
    "duration": 3,
    "start_time": "2022-11-23T12:03:38.173Z"
   },
   {
    "duration": 9147,
    "start_time": "2022-11-23T12:04:01.038Z"
   },
   {
    "duration": 17,
    "start_time": "2022-11-23T12:04:29.173Z"
   },
   {
    "duration": 16,
    "start_time": "2022-11-23T12:04:34.327Z"
   },
   {
    "duration": 10876,
    "start_time": "2022-11-23T12:04:41.117Z"
   },
   {
    "duration": 1532,
    "start_time": "2022-11-23T12:06:08.960Z"
   },
   {
    "duration": 966,
    "start_time": "2022-11-23T12:06:10.494Z"
   },
   {
    "duration": 40,
    "start_time": "2022-11-23T12:06:11.461Z"
   },
   {
    "duration": 12,
    "start_time": "2022-11-23T12:06:11.503Z"
   },
   {
    "duration": 337,
    "start_time": "2022-11-23T12:06:11.516Z"
   },
   {
    "duration": 8,
    "start_time": "2022-11-23T12:06:11.856Z"
   },
   {
    "duration": 2189,
    "start_time": "2022-11-23T12:06:12.566Z"
   },
   {
    "duration": 5,
    "start_time": "2022-11-23T12:06:14.757Z"
   },
   {
    "duration": 1156527,
    "start_time": "2022-11-23T12:06:14.763Z"
   },
   {
    "duration": 9,
    "start_time": "2022-11-23T12:25:31.292Z"
   },
   {
    "duration": 13,
    "start_time": "2022-11-23T12:25:31.303Z"
   },
   {
    "duration": 81,
    "start_time": "2022-11-23T12:25:31.317Z"
   },
   {
    "duration": 32,
    "start_time": "2022-11-23T12:25:31.399Z"
   },
   {
    "duration": 11315,
    "start_time": "2022-11-23T12:25:31.434Z"
   },
   {
    "duration": 384,
    "start_time": "2022-11-23T12:25:50.825Z"
   },
   {
    "duration": 9989,
    "start_time": "2022-11-23T12:26:09.794Z"
   },
   {
    "duration": 3,
    "start_time": "2022-11-23T12:26:31.395Z"
   },
   {
    "duration": 17767,
    "start_time": "2022-11-23T12:26:32.330Z"
   },
   {
    "duration": 10023,
    "start_time": "2022-11-23T12:27:01.083Z"
   },
   {
    "duration": 8780,
    "start_time": "2022-11-23T12:33:02.205Z"
   },
   {
    "duration": 8736,
    "start_time": "2022-11-23T12:34:04.368Z"
   },
   {
    "duration": 1541,
    "start_time": "2022-11-23T12:35:53.023Z"
   },
   {
    "duration": 937,
    "start_time": "2022-11-23T12:35:54.565Z"
   },
   {
    "duration": 31,
    "start_time": "2022-11-23T12:35:55.504Z"
   },
   {
    "duration": 11,
    "start_time": "2022-11-23T12:35:55.537Z"
   },
   {
    "duration": 274,
    "start_time": "2022-11-23T12:35:55.550Z"
   },
   {
    "duration": 8,
    "start_time": "2022-11-23T12:35:55.825Z"
   },
   {
    "duration": 1963,
    "start_time": "2022-11-23T12:35:55.835Z"
   },
   {
    "duration": 5,
    "start_time": "2022-11-23T12:35:57.800Z"
   },
   {
    "duration": 1133449,
    "start_time": "2022-11-23T12:35:57.806Z"
   },
   {
    "duration": 8,
    "start_time": "2022-11-23T12:54:51.257Z"
   },
   {
    "duration": 28,
    "start_time": "2022-11-23T12:54:51.267Z"
   },
   {
    "duration": 138,
    "start_time": "2022-11-23T12:54:51.297Z"
   },
   {
    "duration": 10844,
    "start_time": "2022-11-23T12:54:51.438Z"
   },
   {
    "duration": 3,
    "start_time": "2022-11-23T12:55:02.285Z"
   },
   {
    "duration": 16547,
    "start_time": "2022-11-23T12:55:02.289Z"
   },
   {
    "duration": 17440,
    "start_time": "2022-11-23T12:55:18.838Z"
   },
   {
    "duration": 164155,
    "start_time": "2022-11-23T12:55:36.279Z"
   },
   {
    "duration": 337402,
    "start_time": "2022-11-23T12:58:20.436Z"
   },
   {
    "duration": 122,
    "start_time": "2022-11-23T13:59:07.044Z"
   },
   {
    "duration": 11,
    "start_time": "2022-11-23T13:59:13.181Z"
   },
   {
    "duration": 6,
    "start_time": "2022-11-23T13:59:21.771Z"
   },
   {
    "duration": 6,
    "start_time": "2022-11-23T14:08:28.013Z"
   },
   {
    "duration": 1574,
    "start_time": "2022-11-23T14:10:29.795Z"
   },
   {
    "duration": 965,
    "start_time": "2022-11-23T14:10:31.371Z"
   },
   {
    "duration": 51,
    "start_time": "2022-11-23T14:10:32.338Z"
   },
   {
    "duration": 12,
    "start_time": "2022-11-23T14:10:32.393Z"
   },
   {
    "duration": 256,
    "start_time": "2022-11-23T14:10:32.408Z"
   },
   {
    "duration": 24,
    "start_time": "2022-11-23T14:10:32.666Z"
   },
   {
    "duration": 2156,
    "start_time": "2022-11-23T14:10:32.693Z"
   },
   {
    "duration": 4,
    "start_time": "2022-11-23T14:10:34.851Z"
   },
   {
    "duration": 1222823,
    "start_time": "2022-11-23T14:10:34.857Z"
   },
   {
    "duration": 8,
    "start_time": "2022-11-23T14:30:57.681Z"
   },
   {
    "duration": 9,
    "start_time": "2022-11-23T14:30:57.691Z"
   },
   {
    "duration": 82,
    "start_time": "2022-11-23T14:30:57.702Z"
   },
   {
    "duration": 10392,
    "start_time": "2022-11-23T14:30:57.786Z"
   },
   {
    "duration": 2,
    "start_time": "2022-11-23T14:31:08.181Z"
   },
   {
    "duration": 16417,
    "start_time": "2022-11-23T14:31:08.185Z"
   },
   {
    "duration": 17558,
    "start_time": "2022-11-23T14:31:24.605Z"
   },
   {
    "duration": 162846,
    "start_time": "2022-11-23T14:31:42.165Z"
   },
   {
    "duration": 56254,
    "start_time": "2022-11-23T14:34:25.014Z"
   },
   {
    "duration": 920063,
    "start_time": "2022-11-23T14:35:21.270Z"
   },
   {
    "duration": 9825,
    "start_time": "2022-11-23T14:50:41.335Z"
   },
   {
    "duration": 18490,
    "start_time": "2022-11-23T14:50:51.162Z"
   },
   {
    "duration": 0,
    "start_time": "2022-11-23T14:51:09.655Z"
   },
   {
    "duration": 0,
    "start_time": "2022-11-23T14:51:09.656Z"
   },
   {
    "duration": 0,
    "start_time": "2022-11-23T14:51:09.664Z"
   },
   {
    "duration": 443375,
    "start_time": "2022-11-23T14:51:14.766Z"
   },
   {
    "duration": 6,
    "start_time": "2022-11-23T14:59:18.121Z"
   },
   {
    "duration": 18935,
    "start_time": "2022-11-23T14:59:21.905Z"
   },
   {
    "duration": 161954,
    "start_time": "2022-11-23T14:59:43.730Z"
   },
   {
    "duration": 4,
    "start_time": "2022-11-23T15:02:25.686Z"
   },
   {
    "duration": 3,
    "start_time": "2022-11-23T15:02:38.315Z"
   },
   {
    "duration": 15387,
    "start_time": "2022-11-23T15:02:43.962Z"
   },
   {
    "duration": 165795,
    "start_time": "2022-11-23T15:03:45.668Z"
   },
   {
    "duration": 79,
    "start_time": "2022-11-23T15:09:14.531Z"
   },
   {
    "duration": 170053,
    "start_time": "2022-11-23T15:09:35.282Z"
   },
   {
    "duration": 168227,
    "start_time": "2022-11-23T15:13:28.611Z"
   },
   {
    "duration": 171831,
    "start_time": "2022-11-23T15:16:31.787Z"
   },
   {
    "duration": 1495,
    "start_time": "2022-11-23T16:23:28.220Z"
   },
   {
    "duration": 4,
    "start_time": "2022-11-23T16:23:29.716Z"
   },
   {
    "duration": 994,
    "start_time": "2022-11-23T16:23:29.721Z"
   },
   {
    "duration": 34,
    "start_time": "2022-11-23T16:23:30.717Z"
   },
   {
    "duration": 37,
    "start_time": "2022-11-23T16:23:30.753Z"
   },
   {
    "duration": 268,
    "start_time": "2022-11-23T16:23:30.795Z"
   },
   {
    "duration": 17,
    "start_time": "2022-11-23T16:23:31.065Z"
   },
   {
    "duration": 2329,
    "start_time": "2022-11-23T16:23:31.097Z"
   },
   {
    "duration": 5,
    "start_time": "2022-11-23T16:23:33.428Z"
   },
   {
    "duration": 1243370,
    "start_time": "2022-11-23T16:23:33.435Z"
   },
   {
    "duration": 7,
    "start_time": "2022-11-23T16:44:16.807Z"
   },
   {
    "duration": 5,
    "start_time": "2022-11-23T16:44:16.816Z"
   },
   {
    "duration": 89,
    "start_time": "2022-11-23T16:44:16.823Z"
   },
   {
    "duration": 11647,
    "start_time": "2022-11-23T16:44:16.914Z"
   },
   {
    "duration": 2,
    "start_time": "2022-11-23T16:44:28.563Z"
   },
   {
    "duration": 17865,
    "start_time": "2022-11-23T16:44:28.567Z"
   },
   {
    "duration": 18667,
    "start_time": "2022-11-23T16:44:46.434Z"
   },
   {
    "duration": 180908,
    "start_time": "2022-11-23T16:45:05.102Z"
   },
   {
    "duration": 372068,
    "start_time": "2022-11-23T16:48:06.012Z"
   },
   {
    "duration": 2018108,
    "start_time": "2022-11-23T16:54:18.089Z"
   },
   {
    "duration": 8911,
    "start_time": "2022-11-23T17:27:56.201Z"
   },
   {
    "duration": 163779,
    "start_time": "2022-11-23T17:28:05.114Z"
   },
   {
    "duration": 7,
    "start_time": "2022-11-23T17:30:48.895Z"
   },
   {
    "duration": 8,
    "start_time": "2022-11-23T17:30:48.904Z"
   },
   {
    "duration": 1574,
    "start_time": "2022-11-24T16:28:47.894Z"
   },
   {
    "duration": 3,
    "start_time": "2022-11-24T16:28:49.470Z"
   },
   {
    "duration": 2308,
    "start_time": "2022-11-24T16:28:49.475Z"
   },
   {
    "duration": 42,
    "start_time": "2022-11-24T16:28:51.787Z"
   },
   {
    "duration": 18,
    "start_time": "2022-11-24T16:28:51.835Z"
   },
   {
    "duration": 236,
    "start_time": "2022-11-24T16:28:51.855Z"
   },
   {
    "duration": 8,
    "start_time": "2022-11-24T16:28:52.092Z"
   },
   {
    "duration": 113,
    "start_time": "2022-11-24T16:29:04.509Z"
   },
   {
    "duration": 2080,
    "start_time": "2022-11-24T16:29:21.769Z"
   },
   {
    "duration": 5,
    "start_time": "2022-11-24T16:32:49.605Z"
   },
   {
    "duration": 49,
    "start_time": "2022-11-24T16:32:58.050Z"
   },
   {
    "duration": 506,
    "start_time": "2022-11-24T16:33:02.454Z"
   },
   {
    "duration": 1508,
    "start_time": "2022-11-24T16:33:05.770Z"
   },
   {
    "duration": 6,
    "start_time": "2022-11-24T16:33:08.894Z"
   }
  ],
  "kernelspec": {
   "display_name": "Python 3 (ipykernel)",
   "language": "python",
   "name": "python3"
  },
  "language_info": {
   "codemirror_mode": {
    "name": "ipython",
    "version": 3
   },
   "file_extension": ".py",
   "mimetype": "text/x-python",
   "name": "python",
   "nbconvert_exporter": "python",
   "pygments_lexer": "ipython3",
   "version": "3.9.12"
  },
  "toc": {
   "base_numbering": 1,
   "nav_menu": {},
   "number_sections": true,
   "sideBar": true,
   "skip_h1_title": true,
   "title_cell": "Содержание",
   "title_sidebar": "Contents",
   "toc_cell": true,
   "toc_position": {
    "height": "calc(100% - 180px)",
    "left": "10px",
    "top": "150px",
    "width": "302.391px"
   },
   "toc_section_display": true,
   "toc_window_display": false
  }
 },
 "nbformat": 4,
 "nbformat_minor": 2
}
